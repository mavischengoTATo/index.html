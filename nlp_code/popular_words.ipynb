{
 "cells": [
  {
   "cell_type": "raw",
   "metadata": {},
   "source": [
    "---\n",
    "format:\n",
    "  html:\n",
    "    toc: true\n",
    "    embed-resources: true\n",
    "    code-fold: true\n",
    "execute:\n",
    "  echo: true\n",
    "---"
   ]
  },
  {
   "cell_type": "markdown",
   "id": "d4eceafd-c511-421f-adf7-a47515af3c9f",
   "metadata": {},
   "source": [
    "## Unraveling the Linguistic Evolution in the Makeup Community (NLP)"
   ]
  },
  {
   "cell_type": "markdown",
   "id": "46d309d2-8b1f-4937-8053-f781d932434c",
   "metadata": {},
   "source": [
    "Business Goal: \n",
    "\n",
    "Language serves as more than a mere means of communication in the ever-evolving realm of beauty and cosmetics; it also serves as an indicator of consumer preferences, cultural changes, and emerging trends. The aim of this study is to analyze the linguistic terrain of the \"MakeupAddiction\" subreddit, tracing the development of colloquialisms and terminology utilized in the cosmetics community between 2021 and 2023. By looking at the rise, fall, and possible demise of certain words, we hope to create a linguistic mirror that shows how the cosmetics industry has changed in a broader sense. These observations can assist brands, influencers, and enthusiasts in comprehending the changing preferences of the community and remaining informed about the most recent terminology.\n",
    "\n",
    "\n",
    "Technical Proposal: \n",
    "\n",
    "Preserve and cleanse all pertinent textual information contained in the \"MakeupAddiction\" subreddit remarks and posts within the allotted time period. Incorporate NLP methodologies, such as tokenization and lemmatization, to facilitate text normalization. Use TF-IDF to do an industry-specific diachronic linguistic analysis to find and connect important changes in terminology that have happened over time. Deliver conclusions using dynamic visual representations and produce a report that interprets linguistic shifts in order to provide industry stakeholders with strategic insights. Develop, if desired, a predictive model for predicting forthcoming trends in language pertaining to cosmetics.\n"
   ]
  },
  {
   "cell_type": "markdown",
   "id": "90ff8f1a-9906-449f-b58e-04361e805d98",
   "metadata": {},
   "source": [
    "### Step 1: Set Up PySpark Session and Read Data from S3"
   ]
  },
  {
   "cell_type": "code",
   "execution_count": 4,
   "id": "e065ecc5-6776-4f0a-9813-e2c66e945ad0",
   "metadata": {
    "tags": []
   },
   "outputs": [
    {
     "name": "stdout",
     "output_type": "stream",
     "text": [
      "Collecting package metadata (current_repodata.json): done\n",
      "Solving environment: done\n",
      "\n",
      "\n",
      "==> WARNING: A newer version of conda exists. <==\n",
      "  current version: 23.3.1\n",
      "  latest version: 23.10.0\n",
      "\n",
      "Please update conda by running\n",
      "\n",
      "    $ conda update -n base -c defaults conda\n",
      "\n",
      "Or to minimize the number of packages updated during conda update use\n",
      "\n",
      "     conda install conda=23.10.0\n",
      "\n",
      "\n",
      "\n",
      "## Package Plan ##\n",
      "\n",
      "  environment location: /opt/conda\n",
      "\n",
      "  added / updated specs:\n",
      "    - openjdk\n",
      "\n",
      "\n",
      "The following packages will be downloaded:\n",
      "\n",
      "    package                    |            build\n",
      "    ---------------------------|-----------------\n",
      "    ca-certificates-2023.08.22 |       h06a4308_0         123 KB\n",
      "    certifi-2023.7.22          |  py310h06a4308_0         153 KB\n",
      "    openjdk-11.0.13            |       h87a67e3_0       341.0 MB\n",
      "    ------------------------------------------------------------\n",
      "                                           Total:       341.3 MB\n",
      "\n",
      "The following NEW packages will be INSTALLED:\n",
      "\n",
      "  openjdk            pkgs/main/linux-64::openjdk-11.0.13-h87a67e3_0 \n",
      "\n",
      "The following packages will be UPDATED:\n",
      "\n",
      "  ca-certificates    conda-forge::ca-certificates-2023.7.2~ --> pkgs/main::ca-certificates-2023.08.22-h06a4308_0 \n",
      "\n",
      "The following packages will be SUPERSEDED by a higher-priority channel:\n",
      "\n",
      "  certifi            conda-forge/noarch::certifi-2023.7.22~ --> pkgs/main/linux-64::certifi-2023.7.22-py310h06a4308_0 \n",
      "\n",
      "\n",
      "\n",
      "Downloading and Extracting Packages\n",
      "certifi-2023.7.22    | 153 KB    |                                       |   0% \n",
      "openjdk-11.0.13      | 341.0 MB  |                                       |   0% \u001b[A\n",
      "\n",
      "certifi-2023.7.22    | 153 KB    | ##################################### | 100% \u001b[A\u001b[A\n",
      "\n",
      "ca-certificates-2023 | 123 KB    | ##################################### | 100% \u001b[A\u001b[A\n",
      "openjdk-11.0.13      | 341.0 MB  | 3                                     |   1% \u001b[A\n",
      "openjdk-11.0.13      | 341.0 MB  | #5                                    |   4% \u001b[A\n",
      "openjdk-11.0.13      | 341.0 MB  | ##3                                   |   6% \u001b[A\n",
      "openjdk-11.0.13      | 341.0 MB  | ###9                                  |  11% \u001b[A\n",
      "openjdk-11.0.13      | 341.0 MB  | #####5                                |  15% \u001b[A\n",
      "openjdk-11.0.13      | 341.0 MB  | ######6                               |  18% \u001b[A\n",
      "openjdk-11.0.13      | 341.0 MB  | ########                              |  22% \u001b[A\n",
      "openjdk-11.0.13      | 341.0 MB  | #########1                            |  25% \u001b[A\n",
      "openjdk-11.0.13      | 341.0 MB  | ##########7                           |  29% \u001b[A\n",
      "openjdk-11.0.13      | 341.0 MB  | ###########8                          |  32% \u001b[A\n",
      "openjdk-11.0.13      | 341.0 MB  | #############5                        |  36% \u001b[A\n",
      "openjdk-11.0.13      | 341.0 MB  | ##############7                       |  40% \u001b[A\n",
      "openjdk-11.0.13      | 341.0 MB  | ################3                     |  44% \u001b[A\n",
      "openjdk-11.0.13      | 341.0 MB  | #################6                    |  48% \u001b[A\n",
      "openjdk-11.0.13      | 341.0 MB  | ###################2                  |  52% \u001b[A\n",
      "openjdk-11.0.13      | 341.0 MB  | ####################4                 |  55% \u001b[A\n",
      "openjdk-11.0.13      | 341.0 MB  | ######################2               |  60% \u001b[A\n",
      "openjdk-11.0.13      | 341.0 MB  | #######################7              |  64% \u001b[A\n",
      "openjdk-11.0.13      | 341.0 MB  | #########################3            |  69% \u001b[A\n",
      "openjdk-11.0.13      | 341.0 MB  | ##########################8           |  72% \u001b[A\n",
      "openjdk-11.0.13      | 341.0 MB  | ############################1         |  76% \u001b[A\n",
      "openjdk-11.0.13      | 341.0 MB  | #############################9        |  81% \u001b[A\n",
      "openjdk-11.0.13      | 341.0 MB  | ###############################6      |  86% \u001b[A\n",
      "openjdk-11.0.13      | 341.0 MB  | ################################9     |  89% \u001b[A\n",
      "openjdk-11.0.13      | 341.0 MB  | ##################################7   |  94% \u001b[A\n",
      "openjdk-11.0.13      | 341.0 MB  | ####################################2 |  98% \u001b[A\n",
      "                                                                                \u001b[A\n",
      "                                                                                \u001b[A\n",
      "\n",
      "                                                                                \u001b[A\u001b[A\n",
      "Preparing transaction: done\n",
      "Verifying transaction: done\n",
      "Executing transaction: done\n",
      "\n",
      "Note: you may need to restart the kernel to use updated packages.\n",
      "Collecting pyspark==3.2.0\n",
      "  Using cached pyspark-3.2.0-py2.py3-none-any.whl\n",
      "Collecting py4j==0.10.9.2 (from pyspark==3.2.0)\n",
      "  Using cached py4j-0.10.9.2-py2.py3-none-any.whl (198 kB)\n",
      "Installing collected packages: py4j, pyspark\n",
      "Successfully installed py4j-0.10.9.2 pyspark-3.2.0\n",
      "\u001b[33mWARNING: Running pip as the 'root' user can result in broken permissions and conflicting behaviour with the system package manager. It is recommended to use a virtual environment instead: https://pip.pypa.io/warnings/venv\u001b[0m\u001b[33m\n",
      "\u001b[0m\n",
      "\u001b[1m[\u001b[0m\u001b[34;49mnotice\u001b[0m\u001b[1;39;49m]\u001b[0m\u001b[39;49m A new release of pip is available: \u001b[0m\u001b[31;49m23.2.1\u001b[0m\u001b[39;49m -> \u001b[0m\u001b[32;49m23.3.1\u001b[0m\n",
      "\u001b[1m[\u001b[0m\u001b[34;49mnotice\u001b[0m\u001b[1;39;49m]\u001b[0m\u001b[39;49m To update, run: \u001b[0m\u001b[32;49mpip install --upgrade pip\u001b[0m\n",
      "Note: you may need to restart the kernel to use updated packages.\n",
      "Collecting praw\n",
      "  Obtaining dependency information for praw from https://files.pythonhosted.org/packages/81/6a/21bc058bcccbe03f6a0895bf1bd60c805f0c526aa4e9bfaac775ed0b299c/praw-7.7.1-py3-none-any.whl.metadata\n",
      "  Using cached praw-7.7.1-py3-none-any.whl.metadata (9.8 kB)\n",
      "Collecting prawcore<3,>=2.1 (from praw)\n",
      "  Obtaining dependency information for prawcore<3,>=2.1 from https://files.pythonhosted.org/packages/96/5c/8af904314e42d5401afcfaff69940dc448e974f80f7aa39b241a4fbf0cf1/prawcore-2.4.0-py3-none-any.whl.metadata\n",
      "  Using cached prawcore-2.4.0-py3-none-any.whl.metadata (5.0 kB)\n",
      "Collecting update-checker>=0.18 (from praw)\n",
      "  Using cached update_checker-0.18.0-py3-none-any.whl (7.0 kB)\n",
      "Requirement already satisfied: websocket-client>=0.54.0 in /opt/conda/lib/python3.10/site-packages (from praw) (0.58.0)\n",
      "Requirement already satisfied: requests<3.0,>=2.6.0 in /opt/conda/lib/python3.10/site-packages (from prawcore<3,>=2.1->praw) (2.31.0)\n",
      "Requirement already satisfied: six in /opt/conda/lib/python3.10/site-packages (from websocket-client>=0.54.0->praw) (1.16.0)\n",
      "Requirement already satisfied: charset-normalizer<4,>=2 in /opt/conda/lib/python3.10/site-packages (from requests<3.0,>=2.6.0->prawcore<3,>=2.1->praw) (2.0.4)\n",
      "Requirement already satisfied: idna<4,>=2.5 in /opt/conda/lib/python3.10/site-packages (from requests<3.0,>=2.6.0->prawcore<3,>=2.1->praw) (3.3)\n",
      "Requirement already satisfied: urllib3<3,>=1.21.1 in /opt/conda/lib/python3.10/site-packages (from requests<3.0,>=2.6.0->prawcore<3,>=2.1->praw) (2.0.6)\n",
      "Requirement already satisfied: certifi>=2017.4.17 in /opt/conda/lib/python3.10/site-packages (from requests<3.0,>=2.6.0->prawcore<3,>=2.1->praw) (2023.7.22)\n",
      "Using cached praw-7.7.1-py3-none-any.whl (191 kB)\n",
      "Using cached prawcore-2.4.0-py3-none-any.whl (17 kB)\n",
      "Installing collected packages: update-checker, prawcore, praw\n",
      "Successfully installed praw-7.7.1 prawcore-2.4.0 update-checker-0.18.0\n",
      "\u001b[33mWARNING: Running pip as the 'root' user can result in broken permissions and conflicting behaviour with the system package manager. It is recommended to use a virtual environment instead: https://pip.pypa.io/warnings/venv\u001b[0m\u001b[33m\n",
      "\u001b[0m\n",
      "\u001b[1m[\u001b[0m\u001b[34;49mnotice\u001b[0m\u001b[1;39;49m]\u001b[0m\u001b[39;49m A new release of pip is available: \u001b[0m\u001b[31;49m23.2.1\u001b[0m\u001b[39;49m -> \u001b[0m\u001b[32;49m23.3.1\u001b[0m\n",
      "\u001b[1m[\u001b[0m\u001b[34;49mnotice\u001b[0m\u001b[1;39;49m]\u001b[0m\u001b[39;49m To update, run: \u001b[0m\u001b[32;49mpip install --upgrade pip\u001b[0m\n",
      "Note: you may need to restart the kernel to use updated packages.\n"
     ]
    },
    {
     "data": {
      "text/html": [
       "<script>Jupyter.notebook.kernel.restart()</script>"
      ],
      "text/plain": [
       "<IPython.core.display.HTML object>"
      ]
     },
     "execution_count": 4,
     "metadata": {},
     "output_type": "execute_result"
    }
   ],
   "source": [
    "# Setup - Run only once per Kernel App\n",
    "%conda install openjdk -y\n",
    "\n",
    "# install PySpark\n",
    "# install Python Reddit API Wrapper for getting external data Karma\n",
    "%pip install pyspark==3.2.0\n",
    "%pip install praw\n",
    "\n",
    "# restart kernel\n",
    "from IPython.core.display import HTML\n",
    "HTML(\"<script>Jupyter.notebook.kernel.restart()</script>\")"
   ]
  },
  {
   "cell_type": "code",
   "execution_count": 2,
   "id": "11b401f6-7389-47cf-b10c-0caebc1c411d",
   "metadata": {
    "tags": []
   },
   "outputs": [
    {
     "name": "stderr",
     "output_type": "stream",
     "text": [
      "Warning: Ignoring non-Spark config property: fs.s3a.aws.credentials.provider\n",
      "WARNING: An illegal reflective access operation has occurred\n",
      "WARNING: Illegal reflective access by org.apache.spark.unsafe.Platform (file:/opt/conda/lib/python3.10/site-packages/pyspark/jars/spark-unsafe_2.12-3.2.0.jar) to constructor java.nio.DirectByteBuffer(long,int)\n",
      "WARNING: Please consider reporting this to the maintainers of org.apache.spark.unsafe.Platform\n",
      "WARNING: Use --illegal-access=warn to enable warnings of further illegal reflective access operations\n",
      "WARNING: All illegal access operations will be denied in a future release\n"
     ]
    },
    {
     "name": "stdout",
     "output_type": "stream",
     "text": [
      ":: loading settings :: url = jar:file:/opt/conda/lib/python3.10/site-packages/pyspark/jars/ivy-2.5.0.jar!/org/apache/ivy/core/settings/ivysettings.xml\n"
     ]
    },
    {
     "name": "stderr",
     "output_type": "stream",
     "text": [
      "Ivy Default Cache set to: /root/.ivy2/cache\n",
      "The jars for the packages stored in: /root/.ivy2/jars\n",
      "org.apache.hadoop#hadoop-aws added as a dependency\n",
      ":: resolving dependencies :: org.apache.spark#spark-submit-parent-820c7030-767d-46b4-b18f-3b2287756969;1.0\n",
      "\tconfs: [default]\n",
      "\tfound org.apache.hadoop#hadoop-aws;3.2.2 in central\n",
      "\tfound com.amazonaws#aws-java-sdk-bundle;1.11.563 in central\n",
      ":: resolution report :: resolve 298ms :: artifacts dl 19ms\n",
      "\t:: modules in use:\n",
      "\tcom.amazonaws#aws-java-sdk-bundle;1.11.563 from central in [default]\n",
      "\torg.apache.hadoop#hadoop-aws;3.2.2 from central in [default]\n",
      "\t---------------------------------------------------------------------\n",
      "\t|                  |            modules            ||   artifacts   |\n",
      "\t|       conf       | number| search|dwnlded|evicted|| number|dwnlded|\n",
      "\t---------------------------------------------------------------------\n",
      "\t|      default     |   2   |   0   |   0   |   0   ||   2   |   0   |\n",
      "\t---------------------------------------------------------------------\n",
      ":: retrieving :: org.apache.spark#spark-submit-parent-820c7030-767d-46b4-b18f-3b2287756969\n",
      "\tconfs: [default]\n",
      "\t0 artifacts copied, 2 already retrieved (0kB/11ms)\n",
      "23/11/19 21:04:07 WARN NativeCodeLoader: Unable to load native-hadoop library for your platform... using builtin-java classes where applicable\n",
      "Using Spark's default log4j profile: org/apache/spark/log4j-defaults.properties\n",
      "Setting default log level to \"WARN\".\n",
      "To adjust logging level use sc.setLogLevel(newLevel). For SparkR, use setLogLevel(newLevel).\n"
     ]
    },
    {
     "name": "stdout",
     "output_type": "stream",
     "text": [
      "sagemaker.config INFO - Not applying SDK defaults from location: /etc/xdg/sagemaker/config.yaml\n",
      "sagemaker.config INFO - Not applying SDK defaults from location: /root/.config/sagemaker/config.yaml\n",
      "sagemaker.config INFO - Not applying SDK defaults from location: /etc/xdg/sagemaker/config.yaml\n",
      "sagemaker.config INFO - Not applying SDK defaults from location: /root/.config/sagemaker/config.yaml\n",
      "reading submissions from s3a://sagemaker-us-east-1-729491017256/project/submissions/yyyy=*\n"
     ]
    },
    {
     "name": "stderr",
     "output_type": "stream",
     "text": [
      "23/11/19 21:04:13 WARN MetricsConfig: Cannot locate configuration: tried hadoop-metrics2-s3a-file-system.properties,hadoop-metrics2.properties\n",
      "23/11/19 21:04:19 WARN package: Truncated the string representation of a plan since it was too large. This behavior can be adjusted by setting 'spark.sql.debug.maxToStringFields'.\n",
      "[Stage 1:========================================================>(96 + 1) / 97]\r"
     ]
    },
    {
     "name": "stdout",
     "output_type": "stream",
     "text": [
      "shape of the submissions dataframe is 95,932x68\n"
     ]
    },
    {
     "name": "stderr",
     "output_type": "stream",
     "text": [
      "                                                                                \r"
     ]
    }
   ],
   "source": [
    "from pyspark.sql import SparkSession\n",
    "from pyspark.sql.functions import udf, col\n",
    "from pyspark.sql.types import StringType, ArrayType, IntegerType\n",
    "from pyspark.ml.feature import Tokenizer, StopWordsRemover, HashingTF, IDF\n",
    "import pyspark.sql.functions as F\n",
    "\n",
    "# Building Spark Session\n",
    "spark = (\n",
    "    SparkSession.builder.appName(\"PySparkApp\")\n",
    "    .config(\"spark.jars.packages\", \"org.apache.hadoop:hadoop-aws:3.2.2\")\n",
    "    .config(\"fs.s3a.aws.credentials.provider\", \"com.amazonaws.auth.ContainerCredentialsProvider\")\n",
    "    .getOrCreate()\n",
    ")\n",
    "\n",
    "# Read data from S3\n",
    "import sagemaker\n",
    "session = sagemaker.Session()\n",
    "bucket = session.default_bucket()\n",
    "output_prefix_data_submissions = \"project/submissions/yyyy=*\"\n",
    "s3_path = f\"s3a://{bucket}/{output_prefix_data_submissions}\"\n",
    "print(f\"reading submissions from {s3_path}\")\n",
    "submissions = spark.read.parquet(s3_path, header=True)\n",
    "print(f\"shape of the submissions dataframe is {submissions.count():,}x{len(submissions.columns)}\")\n",
    "sampled_submissions = submissions.sample(withReplacement=False, fraction=0.1, seed=123)"
   ]
  },
  {
   "cell_type": "markdown",
   "id": "624d6f9c-6c06-4738-91f4-3dc293f31c7a",
   "metadata": {},
   "source": [
    "### Step 2: Data Preprocessing"
   ]
  },
  {
   "cell_type": "code",
   "execution_count": 3,
   "id": "44e541ad-b1d2-497c-8d7a-53d74025c9fd",
   "metadata": {
    "tags": []
   },
   "outputs": [],
   "source": [
    "from pyspark.sql.functions import lower, col, regexp_replace, udf, explode, desc, length, StringType\n",
    "from pyspark.ml.feature import Tokenizer, StopWordsRemover\n",
    "from pyspark.sql.window import Window\n",
    "from pyspark.sql.functions import rank, explode\n",
    "\n",
    "def clean_text(text):\n",
    "    import re  \n",
    "    # Lowercase\n",
    "    text = text.lower()\n",
    "    # Remove URLs\n",
    "    text = re.sub(r'http\\S+', '', text)\n",
    "    # Remove numbers\n",
    "    text = re.sub(r'\\d+', '', text)\n",
    "    # Remove punctuation and special characters\n",
    "    text = re.sub(r'[^a-zA-Z\\s]', '', text)\n",
    "    # Remove short words (less than 3 characters)\n",
    "    text = ' '.join([word for word in text.split() if len(word) > 2])\n",
    "    return text\n",
    "\n",
    "clean_text_udf = udf(clean_text, StringType())\n",
    "\n",
    "# Apply the cleaning function to the submissions dataset\n",
    "sampled_submissions = sampled_submissions.withColumn('clean_text', clean_text_udf(col('selftext')))\n",
    "\n",
    "# Drop NA values and rows with empty 'clean_text'\n",
    "sampled_submissions = sampled_submissions.na.drop(subset=[\"clean_text\"])\n",
    "sampled_submissions = sampled_submissions.filter(length(col('clean_text')) > 0)\n",
    "\n",
    "# Tokenize the cleaned text\n",
    "tokenizer = Tokenizer(inputCol='clean_text', outputCol='words')\n",
    "tokenized_submission = tokenizer.transform(sampled_submissions)\n",
    "\n",
    "# Remove stop words\n",
    "remover = StopWordsRemover(inputCol='words', outputCol='filtered_words')\n",
    "clean_submission = remover.transform(tokenized_submission)"
   ]
  },
  {
   "cell_type": "markdown",
   "id": "526c94e8-1e13-4271-92ba-f06bbad99817",
   "metadata": {},
   "source": [
    "### Step 3: Calculate TF-IDF"
   ]
  },
  {
   "cell_type": "code",
   "execution_count": 4,
   "id": "78660b0d-3fab-4d99-829a-2abb9bb2394a",
   "metadata": {
    "tags": []
   },
   "outputs": [
    {
     "name": "stderr",
     "output_type": "stream",
     "text": [
      "                                                                                \r"
     ]
    }
   ],
   "source": [
    "from pyspark.ml.feature import HashingTF, IDF\n",
    "\n",
    "# Hashing TF\n",
    "hashingTF = HashingTF(inputCol=\"filtered_words\", outputCol=\"rawFeatures\")\n",
    "featurized_data = hashingTF.transform(clean_submission)\n",
    "\n",
    "# IDF\n",
    "idf = IDF(inputCol=\"rawFeatures\", outputCol=\"features\")\n",
    "idf_model = idf.fit(featurized_data)\n",
    "tfidf_data = idf_model.transform(featurized_data)\n"
   ]
  },
  {
   "cell_type": "code",
   "execution_count": 5,
   "id": "7612af93-f748-46da-82bf-1f855beb4592",
   "metadata": {
    "tags": []
   },
   "outputs": [
    {
     "name": "stderr",
     "output_type": "stream",
     "text": [
      "                                                                                \r"
     ]
    }
   ],
   "source": [
    "from pyspark.ml.feature import CountVectorizer\n",
    "\n",
    "# Assuming 'filtered_words' is the output column from StopWordsRemover\n",
    "cv = CountVectorizer(inputCol=\"filtered_words\", outputCol=\"cv_features\")\n",
    "cv_model = cv.fit(clean_submission)  # clean_submission from your previous step\n",
    "\n",
    "# Extract vocabulary\n",
    "vocabulary = cv_model.vocabulary\n"
   ]
  },
  {
   "cell_type": "code",
   "execution_count": 8,
   "id": "63aa086f-9572-413b-86a1-0bb006df95a3",
   "metadata": {
    "tags": []
   },
   "outputs": [],
   "source": [
    "# Extract Top Terms from TF-IDF Vectors\n",
    "\n",
    "import numpy as np\n",
    "from pyspark.sql.functions import udf\n",
    "from pyspark.sql.types import ArrayType, StringType\n",
    "\n",
    "broadcast_vocabulary = spark.sparkContext.broadcast(vocabulary)\n",
    "\n",
    "def extract_top_terms(vector, num_terms=10):\n",
    "    indices = np.argsort(vector.toArray())[-num_terms:][::-1]\n",
    "    return [broadcast_vocabulary.value[i] for i in indices if i < len(broadcast_vocabulary.value)]\n",
    "\n",
    "\n",
    "extract_top_terms_udf = udf(extract_top_terms, ArrayType(StringType()))\n",
    "\n",
    "tfidf_data = tfidf_data.withColumn(\"top_terms\", extract_top_terms_udf(col(\"features\")))\n",
    "\n",
    "\n"
   ]
  },
  {
   "cell_type": "code",
   "execution_count": 9,
   "id": "928b1351-a9d7-4e37-b609-d00dbc60d81b",
   "metadata": {
    "tags": []
   },
   "outputs": [],
   "source": [
    "from pyspark.sql.functions import year, month\n",
    "\n",
    "# Convert 'created_utc' to timestamp if it's not already\n",
    "# tfidf_data = tfidf_data.withColumn('created_utc', to_timestamp('created_utc'))\n",
    "\n",
    "# Extract year and month\n",
    "tfidf_data = tfidf_data.withColumn('year', year('created_utc'))\n",
    "tfidf_data = tfidf_data.withColumn('month', month('created_utc'))\n",
    "\n"
   ]
  },
  {
   "cell_type": "code",
   "execution_count": 18,
   "id": "c6b91f26-c6f5-4d42-a82d-d48da1c955f6",
   "metadata": {
    "tags": []
   },
   "outputs": [
    {
     "name": "stderr",
     "output_type": "stream",
     "text": [
      "23/11/19 05:28:15 WARN DAGScheduler: Broadcasting large task binary with size 4.1 MiB\n",
      "[Stage 30:=======================================================>(96 + 1) / 97]\r"
     ]
    },
    {
     "name": "stdout",
     "output_type": "stream",
     "text": [
      "+----+-----+----------------+-----+\n",
      "|year|month|            term|count|\n",
      "+----+-----+----------------+-----+\n",
      "|2023|    3|       tattmatte|   48|\n",
      "|2023|    3|           alike|   31|\n",
      "|2023|    3|      straighten|   30|\n",
      "|2023|    3|         directs|   13|\n",
      "|2023|    3|         kaleido|   12|\n",
      "|2023|    3|         cruical|   12|\n",
      "|2023|    3|      repackages|   10|\n",
      "|2023|    3|      temptation|   10|\n",
      "|2023|    3|       runaround|   10|\n",
      "|2023|    3|       lookbooks|    9|\n",
      "|2023|    3|            jogs|    9|\n",
      "|2023|    3|           robot|    9|\n",
      "|2023|    3|layeringbuilding|    9|\n",
      "|2023|    3|         shivers|    9|\n",
      "|2023|    3|       responder|    9|\n",
      "|2023|    3|        skintine|    8|\n",
      "|2023|    3|          jamata|    8|\n",
      "|2023|    3| differencewhich|    8|\n",
      "|2023|    3|          smears|    8|\n",
      "|2023|    3|           human|    7|\n",
      "+----+-----+----------------+-----+\n",
      "only showing top 20 rows\n",
      "\n"
     ]
    },
    {
     "name": "stderr",
     "output_type": "stream",
     "text": [
      "23/11/19 05:40:19 WARN DAGScheduler: Broadcasting large task binary with size 4.1 MiB\n",
      "                                                                                \r"
     ]
    }
   ],
   "source": [
    "# Assuming the UDF 'extract_top_terms_udf' is already defined and applied\n",
    "exploded_terms = tfidf_data.select('year', 'month', explode('top_terms').alias('term'))\n",
    "\n",
    "term_trends = exploded_terms.groupBy('year', 'month', 'term').count().orderBy('year', 'month', 'count', ascending=False)\n",
    "term_trends.show()\n"
   ]
  },
  {
   "cell_type": "markdown",
   "id": "5a98e73a-293b-44da-a9d0-da623b20eb56",
   "metadata": {},
   "source": [
    "### Visualization (Using Python and Plotly):"
   ]
  },
  {
   "cell_type": "code",
   "execution_count": 19,
   "id": "e6dd699a-d338-493d-a1d9-47b1bd65ef89",
   "metadata": {
    "tags": []
   },
   "outputs": [
    {
     "name": "stderr",
     "output_type": "stream",
     "text": [
      "23/11/19 05:40:28 WARN DAGScheduler: Broadcasting large task binary with size 4.1 MiB\n",
      "23/11/19 05:52:43 WARN DAGScheduler: Broadcasting large task binary with size 4.1 MiB\n",
      "23/11/19 05:52:43 WARN DAGScheduler: Broadcasting large task binary with size 4.1 MiB\n",
      "23/11/19 05:52:43 WARN DAGScheduler: Broadcasting large task binary with size 4.1 MiB\n"
     ]
    }
   ],
   "source": [
    "# Convert to Pandas DataFrame for visualization\n",
    "pdf_top_terms_monthly = term_trends.toPandas()"
   ]
  },
  {
   "cell_type": "code",
   "execution_count": 26,
   "id": "6fe73b0e-b873-4725-8990-e128007fe868",
   "metadata": {
    "tags": []
   },
   "outputs": [],
   "source": [
    "output_filepath = '../../data/csv/popular_words.csv'  # Specify your desired output path\n",
    "pdf_top_terms_monthly.to_csv(output_filepath, index=False)\n"
   ]
  },
  {
   "cell_type": "code",
   "execution_count": 32,
   "id": "1b0a17af-50a7-420d-bbe4-23da70787822",
   "metadata": {
    "tags": []
   },
   "outputs": [
    {
     "data": {
      "application/vnd.plotly.v1+json": {
       "config": {
        "plotlyServerURL": "https://plot.ly"
       },
       "data": [
        {
         "cells": {
          "values": [
           [
            2021,
            2021,
            2021,
            2021,
            2021,
            2021,
            2021,
            2021,
            2021,
            2021
           ],
           [
            6,
            6,
            6,
            6,
            6,
            6,
            6,
            6,
            6,
            6
           ],
           [
            "tattmatte",
            "alike",
            "straighten",
            "cruical",
            "saraxb",
            "timeexcept",
            "kaleido",
            "camping",
            "inertia",
            "norm"
           ],
           [
            28,
            11,
            8,
            7,
            7,
            7,
            6,
            4,
            4,
            4
           ]
          ]
         },
         "header": {
          "fill": {
           "color": "paleturquoise"
          },
          "values": [
           "Year",
           "Month",
           "Term",
           "Count"
          ]
         },
         "type": "table"
        }
       ],
       "layout": {
        "autosize": true,
        "template": {
         "data": {
          "bar": [
           {
            "error_x": {
             "color": "#2a3f5f"
            },
            "error_y": {
             "color": "#2a3f5f"
            },
            "marker": {
             "line": {
              "color": "#E5ECF6",
              "width": 0.5
             },
             "pattern": {
              "fillmode": "overlay",
              "size": 10,
              "solidity": 0.2
             }
            },
            "type": "bar"
           }
          ],
          "barpolar": [
           {
            "marker": {
             "line": {
              "color": "#E5ECF6",
              "width": 0.5
             },
             "pattern": {
              "fillmode": "overlay",
              "size": 10,
              "solidity": 0.2
             }
            },
            "type": "barpolar"
           }
          ],
          "carpet": [
           {
            "aaxis": {
             "endlinecolor": "#2a3f5f",
             "gridcolor": "white",
             "linecolor": "white",
             "minorgridcolor": "white",
             "startlinecolor": "#2a3f5f"
            },
            "baxis": {
             "endlinecolor": "#2a3f5f",
             "gridcolor": "white",
             "linecolor": "white",
             "minorgridcolor": "white",
             "startlinecolor": "#2a3f5f"
            },
            "type": "carpet"
           }
          ],
          "choropleth": [
           {
            "colorbar": {
             "outlinewidth": 0,
             "ticks": ""
            },
            "type": "choropleth"
           }
          ],
          "contour": [
           {
            "colorbar": {
             "outlinewidth": 0,
             "ticks": ""
            },
            "colorscale": [
             [
              0,
              "#0d0887"
             ],
             [
              0.1111111111111111,
              "#46039f"
             ],
             [
              0.2222222222222222,
              "#7201a8"
             ],
             [
              0.3333333333333333,
              "#9c179e"
             ],
             [
              0.4444444444444444,
              "#bd3786"
             ],
             [
              0.5555555555555556,
              "#d8576b"
             ],
             [
              0.6666666666666666,
              "#ed7953"
             ],
             [
              0.7777777777777778,
              "#fb9f3a"
             ],
             [
              0.8888888888888888,
              "#fdca26"
             ],
             [
              1,
              "#f0f921"
             ]
            ],
            "type": "contour"
           }
          ],
          "contourcarpet": [
           {
            "colorbar": {
             "outlinewidth": 0,
             "ticks": ""
            },
            "type": "contourcarpet"
           }
          ],
          "heatmap": [
           {
            "colorbar": {
             "outlinewidth": 0,
             "ticks": ""
            },
            "colorscale": [
             [
              0,
              "#0d0887"
             ],
             [
              0.1111111111111111,
              "#46039f"
             ],
             [
              0.2222222222222222,
              "#7201a8"
             ],
             [
              0.3333333333333333,
              "#9c179e"
             ],
             [
              0.4444444444444444,
              "#bd3786"
             ],
             [
              0.5555555555555556,
              "#d8576b"
             ],
             [
              0.6666666666666666,
              "#ed7953"
             ],
             [
              0.7777777777777778,
              "#fb9f3a"
             ],
             [
              0.8888888888888888,
              "#fdca26"
             ],
             [
              1,
              "#f0f921"
             ]
            ],
            "type": "heatmap"
           }
          ],
          "heatmapgl": [
           {
            "colorbar": {
             "outlinewidth": 0,
             "ticks": ""
            },
            "colorscale": [
             [
              0,
              "#0d0887"
             ],
             [
              0.1111111111111111,
              "#46039f"
             ],
             [
              0.2222222222222222,
              "#7201a8"
             ],
             [
              0.3333333333333333,
              "#9c179e"
             ],
             [
              0.4444444444444444,
              "#bd3786"
             ],
             [
              0.5555555555555556,
              "#d8576b"
             ],
             [
              0.6666666666666666,
              "#ed7953"
             ],
             [
              0.7777777777777778,
              "#fb9f3a"
             ],
             [
              0.8888888888888888,
              "#fdca26"
             ],
             [
              1,
              "#f0f921"
             ]
            ],
            "type": "heatmapgl"
           }
          ],
          "histogram": [
           {
            "marker": {
             "pattern": {
              "fillmode": "overlay",
              "size": 10,
              "solidity": 0.2
             }
            },
            "type": "histogram"
           }
          ],
          "histogram2d": [
           {
            "colorbar": {
             "outlinewidth": 0,
             "ticks": ""
            },
            "colorscale": [
             [
              0,
              "#0d0887"
             ],
             [
              0.1111111111111111,
              "#46039f"
             ],
             [
              0.2222222222222222,
              "#7201a8"
             ],
             [
              0.3333333333333333,
              "#9c179e"
             ],
             [
              0.4444444444444444,
              "#bd3786"
             ],
             [
              0.5555555555555556,
              "#d8576b"
             ],
             [
              0.6666666666666666,
              "#ed7953"
             ],
             [
              0.7777777777777778,
              "#fb9f3a"
             ],
             [
              0.8888888888888888,
              "#fdca26"
             ],
             [
              1,
              "#f0f921"
             ]
            ],
            "type": "histogram2d"
           }
          ],
          "histogram2dcontour": [
           {
            "colorbar": {
             "outlinewidth": 0,
             "ticks": ""
            },
            "colorscale": [
             [
              0,
              "#0d0887"
             ],
             [
              0.1111111111111111,
              "#46039f"
             ],
             [
              0.2222222222222222,
              "#7201a8"
             ],
             [
              0.3333333333333333,
              "#9c179e"
             ],
             [
              0.4444444444444444,
              "#bd3786"
             ],
             [
              0.5555555555555556,
              "#d8576b"
             ],
             [
              0.6666666666666666,
              "#ed7953"
             ],
             [
              0.7777777777777778,
              "#fb9f3a"
             ],
             [
              0.8888888888888888,
              "#fdca26"
             ],
             [
              1,
              "#f0f921"
             ]
            ],
            "type": "histogram2dcontour"
           }
          ],
          "mesh3d": [
           {
            "colorbar": {
             "outlinewidth": 0,
             "ticks": ""
            },
            "type": "mesh3d"
           }
          ],
          "parcoords": [
           {
            "line": {
             "colorbar": {
              "outlinewidth": 0,
              "ticks": ""
             }
            },
            "type": "parcoords"
           }
          ],
          "pie": [
           {
            "automargin": true,
            "type": "pie"
           }
          ],
          "scatter": [
           {
            "fillpattern": {
             "fillmode": "overlay",
             "size": 10,
             "solidity": 0.2
            },
            "type": "scatter"
           }
          ],
          "scatter3d": [
           {
            "line": {
             "colorbar": {
              "outlinewidth": 0,
              "ticks": ""
             }
            },
            "marker": {
             "colorbar": {
              "outlinewidth": 0,
              "ticks": ""
             }
            },
            "type": "scatter3d"
           }
          ],
          "scattercarpet": [
           {
            "marker": {
             "colorbar": {
              "outlinewidth": 0,
              "ticks": ""
             }
            },
            "type": "scattercarpet"
           }
          ],
          "scattergeo": [
           {
            "marker": {
             "colorbar": {
              "outlinewidth": 0,
              "ticks": ""
             }
            },
            "type": "scattergeo"
           }
          ],
          "scattergl": [
           {
            "marker": {
             "colorbar": {
              "outlinewidth": 0,
              "ticks": ""
             }
            },
            "type": "scattergl"
           }
          ],
          "scattermapbox": [
           {
            "marker": {
             "colorbar": {
              "outlinewidth": 0,
              "ticks": ""
             }
            },
            "type": "scattermapbox"
           }
          ],
          "scatterpolar": [
           {
            "marker": {
             "colorbar": {
              "outlinewidth": 0,
              "ticks": ""
             }
            },
            "type": "scatterpolar"
           }
          ],
          "scatterpolargl": [
           {
            "marker": {
             "colorbar": {
              "outlinewidth": 0,
              "ticks": ""
             }
            },
            "type": "scatterpolargl"
           }
          ],
          "scatterternary": [
           {
            "marker": {
             "colorbar": {
              "outlinewidth": 0,
              "ticks": ""
             }
            },
            "type": "scatterternary"
           }
          ],
          "surface": [
           {
            "colorbar": {
             "outlinewidth": 0,
             "ticks": ""
            },
            "colorscale": [
             [
              0,
              "#0d0887"
             ],
             [
              0.1111111111111111,
              "#46039f"
             ],
             [
              0.2222222222222222,
              "#7201a8"
             ],
             [
              0.3333333333333333,
              "#9c179e"
             ],
             [
              0.4444444444444444,
              "#bd3786"
             ],
             [
              0.5555555555555556,
              "#d8576b"
             ],
             [
              0.6666666666666666,
              "#ed7953"
             ],
             [
              0.7777777777777778,
              "#fb9f3a"
             ],
             [
              0.8888888888888888,
              "#fdca26"
             ],
             [
              1,
              "#f0f921"
             ]
            ],
            "type": "surface"
           }
          ],
          "table": [
           {
            "cells": {
             "fill": {
              "color": "#EBF0F8"
             },
             "line": {
              "color": "white"
             }
            },
            "header": {
             "fill": {
              "color": "#C8D4E3"
             },
             "line": {
              "color": "white"
             }
            },
            "type": "table"
           }
          ]
         },
         "layout": {
          "annotationdefaults": {
           "arrowcolor": "#2a3f5f",
           "arrowhead": 0,
           "arrowwidth": 1
          },
          "autotypenumbers": "strict",
          "coloraxis": {
           "colorbar": {
            "outlinewidth": 0,
            "ticks": ""
           }
          },
          "colorscale": {
           "diverging": [
            [
             0,
             "#8e0152"
            ],
            [
             0.1,
             "#c51b7d"
            ],
            [
             0.2,
             "#de77ae"
            ],
            [
             0.3,
             "#f1b6da"
            ],
            [
             0.4,
             "#fde0ef"
            ],
            [
             0.5,
             "#f7f7f7"
            ],
            [
             0.6,
             "#e6f5d0"
            ],
            [
             0.7,
             "#b8e186"
            ],
            [
             0.8,
             "#7fbc41"
            ],
            [
             0.9,
             "#4d9221"
            ],
            [
             1,
             "#276419"
            ]
           ],
           "sequential": [
            [
             0,
             "#0d0887"
            ],
            [
             0.1111111111111111,
             "#46039f"
            ],
            [
             0.2222222222222222,
             "#7201a8"
            ],
            [
             0.3333333333333333,
             "#9c179e"
            ],
            [
             0.4444444444444444,
             "#bd3786"
            ],
            [
             0.5555555555555556,
             "#d8576b"
            ],
            [
             0.6666666666666666,
             "#ed7953"
            ],
            [
             0.7777777777777778,
             "#fb9f3a"
            ],
            [
             0.8888888888888888,
             "#fdca26"
            ],
            [
             1,
             "#f0f921"
            ]
           ],
           "sequentialminus": [
            [
             0,
             "#0d0887"
            ],
            [
             0.1111111111111111,
             "#46039f"
            ],
            [
             0.2222222222222222,
             "#7201a8"
            ],
            [
             0.3333333333333333,
             "#9c179e"
            ],
            [
             0.4444444444444444,
             "#bd3786"
            ],
            [
             0.5555555555555556,
             "#d8576b"
            ],
            [
             0.6666666666666666,
             "#ed7953"
            ],
            [
             0.7777777777777778,
             "#fb9f3a"
            ],
            [
             0.8888888888888888,
             "#fdca26"
            ],
            [
             1,
             "#f0f921"
            ]
           ]
          },
          "colorway": [
           "#636efa",
           "#EF553B",
           "#00cc96",
           "#ab63fa",
           "#FFA15A",
           "#19d3f3",
           "#FF6692",
           "#B6E880",
           "#FF97FF",
           "#FECB52"
          ],
          "font": {
           "color": "#2a3f5f"
          },
          "geo": {
           "bgcolor": "white",
           "lakecolor": "white",
           "landcolor": "#E5ECF6",
           "showlakes": true,
           "showland": true,
           "subunitcolor": "white"
          },
          "hoverlabel": {
           "align": "left"
          },
          "hovermode": "closest",
          "mapbox": {
           "style": "light"
          },
          "paper_bgcolor": "white",
          "plot_bgcolor": "#E5ECF6",
          "polar": {
           "angularaxis": {
            "gridcolor": "white",
            "linecolor": "white",
            "ticks": ""
           },
           "bgcolor": "#E5ECF6",
           "radialaxis": {
            "gridcolor": "white",
            "linecolor": "white",
            "ticks": ""
           }
          },
          "scene": {
           "xaxis": {
            "backgroundcolor": "#E5ECF6",
            "gridcolor": "white",
            "gridwidth": 2,
            "linecolor": "white",
            "showbackground": true,
            "ticks": "",
            "zerolinecolor": "white"
           },
           "yaxis": {
            "backgroundcolor": "#E5ECF6",
            "gridcolor": "white",
            "gridwidth": 2,
            "linecolor": "white",
            "showbackground": true,
            "ticks": "",
            "zerolinecolor": "white"
           },
           "zaxis": {
            "backgroundcolor": "#E5ECF6",
            "gridcolor": "white",
            "gridwidth": 2,
            "linecolor": "white",
            "showbackground": true,
            "ticks": "",
            "zerolinecolor": "white"
           }
          },
          "shapedefaults": {
           "line": {
            "color": "#2a3f5f"
           }
          },
          "ternary": {
           "aaxis": {
            "gridcolor": "white",
            "linecolor": "white",
            "ticks": ""
           },
           "baxis": {
            "gridcolor": "white",
            "linecolor": "white",
            "ticks": ""
           },
           "bgcolor": "#E5ECF6",
           "caxis": {
            "gridcolor": "white",
            "linecolor": "white",
            "ticks": ""
           }
          },
          "title": {
           "x": 0.05
          },
          "xaxis": {
           "automargin": true,
           "gridcolor": "white",
           "linecolor": "white",
           "ticks": "",
           "title": {
            "standoff": 15
           },
           "zerolinecolor": "white",
           "zerolinewidth": 2
          },
          "yaxis": {
           "automargin": true,
           "gridcolor": "white",
           "linecolor": "white",
           "ticks": "",
           "title": {
            "standoff": 15
           },
           "zerolinecolor": "white",
           "zerolinewidth": 2
          }
         }
        },
        "title": {
         "text": "Top 10 Terms by Month and Year"
        },
        "updatemenus": [
         {
          "active": 6,
          "buttons": [
           {
            "args": [
             {
              "cells": {
               "values": [
                [
                 2021,
                 2021,
                 2021,
                 2021,
                 2021,
                 2021,
                 2021,
                 2021,
                 2021,
                 2021,
                 2021,
                 2021,
                 2021,
                 2021,
                 2021,
                 2021,
                 2021,
                 2021,
                 2021,
                 2021,
                 2021,
                 2021,
                 2021,
                 2021,
                 2021,
                 2021,
                 2021,
                 2021,
                 2021,
                 2021,
                 2021,
                 2021,
                 2021,
                 2021,
                 2021,
                 2021,
                 2021,
                 2021,
                 2021,
                 2021,
                 2021,
                 2021,
                 2021,
                 2021,
                 2021,
                 2021,
                 2021,
                 2021,
                 2021,
                 2021,
                 2021,
                 2021,
                 2021,
                 2021,
                 2021,
                 2021,
                 2021,
                 2021,
                 2021,
                 2021,
                 2021,
                 2021,
                 2021,
                 2021,
                 2021,
                 2021,
                 2021,
                 2021,
                 2021,
                 2021,
                 2021,
                 2021,
                 2021,
                 2021,
                 2021,
                 2021,
                 2021,
                 2021,
                 2021,
                 2021,
                 2021,
                 2021,
                 2021,
                 2021,
                 2021,
                 2021,
                 2021,
                 2021,
                 2021,
                 2021,
                 2021,
                 2021,
                 2021,
                 2021,
                 2021,
                 2021,
                 2021,
                 2021,
                 2021,
                 2021,
                 2021,
                 2021,
                 2021,
                 2021,
                 2021,
                 2021,
                 2021,
                 2021,
                 2021,
                 2021,
                 2021,
                 2021,
                 2021,
                 2021,
                 2021,
                 2021,
                 2021,
                 2021,
                 2021,
                 2021,
                 2022,
                 2022,
                 2022,
                 2022,
                 2022,
                 2022,
                 2022,
                 2022,
                 2022,
                 2022,
                 2022,
                 2022,
                 2022,
                 2022,
                 2022,
                 2022,
                 2022,
                 2022,
                 2022,
                 2022,
                 2022,
                 2022,
                 2022,
                 2022,
                 2022,
                 2022,
                 2022,
                 2022,
                 2022,
                 2022,
                 2022,
                 2022,
                 2022,
                 2022,
                 2022,
                 2022,
                 2022,
                 2022,
                 2022,
                 2022,
                 2022,
                 2022,
                 2022,
                 2022,
                 2022,
                 2022,
                 2022,
                 2022,
                 2022,
                 2022,
                 2022,
                 2022,
                 2022,
                 2022,
                 2022,
                 2022,
                 2022,
                 2022,
                 2022,
                 2022,
                 2022,
                 2022,
                 2022,
                 2022,
                 2022,
                 2022,
                 2022,
                 2022,
                 2022,
                 2022,
                 2022,
                 2022,
                 2022,
                 2022,
                 2022,
                 2022,
                 2022,
                 2022,
                 2022,
                 2022,
                 2022,
                 2022,
                 2022,
                 2022,
                 2022,
                 2022,
                 2022,
                 2022,
                 2022,
                 2022,
                 2022,
                 2022,
                 2022,
                 2022,
                 2022,
                 2022,
                 2022,
                 2022,
                 2022,
                 2022,
                 2022,
                 2022,
                 2022,
                 2022,
                 2022,
                 2022,
                 2022,
                 2022,
                 2022,
                 2022,
                 2022,
                 2022,
                 2022,
                 2022,
                 2022,
                 2022,
                 2022,
                 2022,
                 2022,
                 2022,
                 2023,
                 2023,
                 2023,
                 2023,
                 2023,
                 2023,
                 2023,
                 2023,
                 2023,
                 2023,
                 2023,
                 2023,
                 2023,
                 2023,
                 2023,
                 2023,
                 2023,
                 2023,
                 2023,
                 2023,
                 2023,
                 2023,
                 2023,
                 2023,
                 2023,
                 2023,
                 2023,
                 2023,
                 2023,
                 2023
                ],
                [
                 1,
                 1,
                 1,
                 1,
                 1,
                 1,
                 1,
                 1,
                 1,
                 1,
                 2,
                 2,
                 2,
                 2,
                 2,
                 2,
                 2,
                 2,
                 2,
                 2,
                 3,
                 3,
                 3,
                 3,
                 3,
                 3,
                 3,
                 3,
                 3,
                 3,
                 4,
                 4,
                 4,
                 4,
                 4,
                 4,
                 4,
                 4,
                 4,
                 4,
                 5,
                 5,
                 5,
                 5,
                 5,
                 5,
                 5,
                 5,
                 5,
                 5,
                 6,
                 6,
                 6,
                 6,
                 6,
                 6,
                 6,
                 6,
                 6,
                 6,
                 7,
                 7,
                 7,
                 7,
                 7,
                 7,
                 7,
                 7,
                 7,
                 7,
                 8,
                 8,
                 8,
                 8,
                 8,
                 8,
                 8,
                 8,
                 8,
                 8,
                 9,
                 9,
                 9,
                 9,
                 9,
                 9,
                 9,
                 9,
                 9,
                 9,
                 10,
                 10,
                 10,
                 10,
                 10,
                 10,
                 10,
                 10,
                 10,
                 10,
                 11,
                 11,
                 11,
                 11,
                 11,
                 11,
                 11,
                 11,
                 11,
                 11,
                 12,
                 12,
                 12,
                 12,
                 12,
                 12,
                 12,
                 12,
                 12,
                 12,
                 1,
                 1,
                 1,
                 1,
                 1,
                 1,
                 1,
                 1,
                 1,
                 1,
                 2,
                 2,
                 2,
                 2,
                 2,
                 2,
                 2,
                 2,
                 2,
                 2,
                 3,
                 3,
                 3,
                 3,
                 3,
                 3,
                 3,
                 3,
                 3,
                 3,
                 4,
                 4,
                 4,
                 4,
                 4,
                 4,
                 4,
                 4,
                 4,
                 4,
                 5,
                 5,
                 5,
                 5,
                 5,
                 5,
                 5,
                 5,
                 5,
                 5,
                 6,
                 6,
                 6,
                 6,
                 6,
                 6,
                 6,
                 6,
                 6,
                 6,
                 7,
                 7,
                 7,
                 7,
                 7,
                 7,
                 7,
                 7,
                 7,
                 7,
                 8,
                 8,
                 8,
                 8,
                 8,
                 8,
                 8,
                 8,
                 8,
                 8,
                 9,
                 9,
                 9,
                 9,
                 9,
                 9,
                 9,
                 9,
                 9,
                 9,
                 10,
                 10,
                 10,
                 10,
                 10,
                 10,
                 10,
                 10,
                 10,
                 10,
                 11,
                 11,
                 11,
                 11,
                 11,
                 11,
                 11,
                 11,
                 11,
                 11,
                 12,
                 12,
                 12,
                 12,
                 12,
                 12,
                 12,
                 12,
                 12,
                 12,
                 1,
                 1,
                 1,
                 1,
                 1,
                 1,
                 1,
                 1,
                 1,
                 1,
                 2,
                 2,
                 2,
                 2,
                 2,
                 2,
                 2,
                 2,
                 2,
                 2,
                 3,
                 3,
                 3,
                 3,
                 3,
                 3,
                 3,
                 3,
                 3,
                 3
                ],
                [
                 "tattmatte",
                 "cruical",
                 "alike",
                 "straighten",
                 "kaleido",
                 "frosting",
                 "saraxb",
                 "repackages",
                 "tanvery",
                 "directs",
                 "tattmatte",
                 "alike",
                 "straighten",
                 "cruical",
                 "cakeddry",
                 "flavors",
                 "kaleido",
                 "human",
                 "runaround",
                 "layeringbuilding",
                 "tattmatte",
                 "alike",
                 "kaleido",
                 "straighten",
                 "cruical",
                 "vidos",
                 "allergy",
                 "runaround",
                 "jogs",
                 "sisters",
                 "tattmatte",
                 "alike",
                 "straighten",
                 "runaround",
                 "kaleido",
                 "complicating",
                 "saraxb",
                 "sisters",
                 "professionall",
                 "realise",
                 "tattmatte",
                 "alike",
                 "straighten",
                 "sisters",
                 "frosting",
                 "intobuild",
                 "minty",
                 "saraxb",
                 "madness",
                 "tackles",
                 "tattmatte",
                 "alike",
                 "straighten",
                 "cruical",
                 "saraxb",
                 "timeexcept",
                 "kaleido",
                 "camping",
                 "inertia",
                 "norm",
                 "tattmatte",
                 "alike",
                 "jogs",
                 "runaround",
                 "straighten",
                 "complicating",
                 "norm",
                 "cruical",
                 "kaleido",
                 "madness",
                 "tattmatte",
                 "alike",
                 "lookbooks",
                 "camping",
                 "straighten",
                 "jogs",
                 "repackages",
                 "directs",
                 "cruical",
                 "saraxb",
                 "tattmatte",
                 "alike",
                 "tinged",
                 "cruical",
                 "frosting",
                 "straighten",
                 "opted",
                 "knook",
                 "directs",
                 "curvitude",
                 "tattmatte",
                 "straighten",
                 "runaround",
                 "alike",
                 "cruical",
                 "hyaluronics",
                 "kaleido",
                 "camping",
                 "saraxb",
                 "jamata",
                 "tattmatte",
                 "alike",
                 "straighten",
                 "kaleido",
                 "frosting",
                 "saraxb",
                 "cruical",
                 "shivers",
                 "camping",
                 "das",
                 "tattmatte",
                 "straighten",
                 "cruical",
                 "saraxb",
                 "alike",
                 "kaleido",
                 "directs",
                 "inertia",
                 "vidos",
                 "duane",
                 "tattmatte",
                 "straighten",
                 "alike",
                 "kaleido",
                 "saraxb",
                 "nyxmeh",
                 "timeexcept",
                 "cruical",
                 "vidos",
                 "jamata",
                 "tattmatte",
                 "alike",
                 "straighten",
                 "saraxb",
                 "permanent",
                 "camping",
                 "kaleido",
                 "sisters",
                 "frosting",
                 "robot",
                 "tattmatte",
                 "alike",
                 "kaleido",
                 "cruical",
                 "runaround",
                 "outs",
                 "straighten",
                 "bumped",
                 "sisters",
                 "responder",
                 "tattmatte",
                 "alike",
                 "saraxb",
                 "straighten",
                 "kaleido",
                 "temptation",
                 "mil",
                 "cruical",
                 "creamwhatever",
                 "travelsized",
                 "tattmatte",
                 "alike",
                 "straighten",
                 "saraxb",
                 "kaleido",
                 "camping",
                 "dewyglowynonmatte",
                 "cruical",
                 "frosting",
                 "directs",
                 "tattmatte",
                 "alike",
                 "kaleido",
                 "straighten",
                 "jogs",
                 "saraxb",
                 "numetal",
                 "usd",
                 "frosting",
                 "runaround",
                 "tattmatte",
                 "alike",
                 "kaleido",
                 "straighten",
                 "tintbase",
                 "camping",
                 "horrendous",
                 "shivers",
                 "lustreglass",
                 "sisters",
                 "kaleido",
                 "tattmatte",
                 "alike",
                 "camping",
                 "straighten",
                 "sisters",
                 "saraxb",
                 "lookbooks",
                 "cruical",
                 "furnature",
                 "tattmatte",
                 "alike",
                 "kaleido",
                 "straighten",
                 "saraxb",
                 "camping",
                 "laura",
                 "sisters",
                 "responder",
                 "shivers",
                 "tattmatte",
                 "alike",
                 "kaleido",
                 "straighten",
                 "saraxb",
                 "sisters",
                 "spoilers",
                 "runaround",
                 "professionall",
                 "cruical",
                 "tattmatte",
                 "alike",
                 "kaleido",
                 "cruical",
                 "straighten",
                 "bumped",
                 "directs",
                 "lookbooks",
                 "runaround",
                 "jogs",
                 "tattmatte",
                 "alike",
                 "straighten",
                 "saraxb",
                 "lookbooks",
                 "kaleido",
                 "cruical",
                 "frosting",
                 "wasteland",
                 "coupled",
                 "tattmatte",
                 "alike",
                 "straighten",
                 "kaleido",
                 "cruical",
                 "directs",
                 "lookbooks",
                 "jogs",
                 "sisters",
                 "professionall",
                 "tattmatte",
                 "alike",
                 "straighten",
                 "kaleido",
                 "lookbooks",
                 "tuts",
                 "repackages",
                 "perk",
                 "jamata",
                 "khalo",
                 "tattmatte",
                 "alike",
                 "straighten",
                 "directs",
                 "kaleido",
                 "cruical",
                 "runaround",
                 "repackages",
                 "temptation",
                 "lookbooks"
                ],
                [
                 27,
                 14,
                 12,
                 8,
                 8,
                 7,
                 6,
                 6,
                 5,
                 5,
                 26,
                 12,
                 12,
                 11,
                 7,
                 7,
                 7,
                 7,
                 6,
                 6,
                 23,
                 20,
                 13,
                 10,
                 8,
                 6,
                 5,
                 5,
                 5,
                 5,
                 37,
                 18,
                 12,
                 9,
                 8,
                 8,
                 7,
                 5,
                 5,
                 5,
                 22,
                 10,
                 7,
                 5,
                 5,
                 5,
                 4,
                 4,
                 4,
                 4,
                 28,
                 11,
                 8,
                 7,
                 7,
                 7,
                 6,
                 4,
                 4,
                 4,
                 34,
                 15,
                 7,
                 7,
                 6,
                 6,
                 5,
                 5,
                 5,
                 4,
                 19,
                 14,
                 8,
                 8,
                 7,
                 6,
                 5,
                 5,
                 5,
                 5,
                 21,
                 18,
                 9,
                 8,
                 8,
                 7,
                 6,
                 6,
                 5,
                 5,
                 24,
                 10,
                 9,
                 9,
                 7,
                 5,
                 5,
                 4,
                 4,
                 4,
                 21,
                 12,
                 8,
                 8,
                 6,
                 6,
                 6,
                 5,
                 4,
                 4,
                 18,
                 13,
                 9,
                 9,
                 9,
                 8,
                 5,
                 5,
                 5,
                 5,
                 22,
                 13,
                 12,
                 11,
                 7,
                 6,
                 6,
                 6,
                 6,
                 5,
                 39,
                 20,
                 8,
                 7,
                 6,
                 6,
                 6,
                 5,
                 5,
                 5,
                 42,
                 20,
                 14,
                 11,
                 10,
                 8,
                 7,
                 6,
                 6,
                 6,
                 42,
                 24,
                 13,
                 13,
                 8,
                 6,
                 6,
                 6,
                 6,
                 5,
                 41,
                 27,
                 22,
                 10,
                 9,
                 7,
                 6,
                 6,
                 6,
                 6,
                 21,
                 18,
                 12,
                 8,
                 6,
                 6,
                 5,
                 5,
                 5,
                 5,
                 22,
                 20,
                 11,
                 10,
                 6,
                 6,
                 6,
                 6,
                 5,
                 5,
                 22,
                 20,
                 13,
                 12,
                 12,
                 10,
                 8,
                 8,
                 8,
                 7,
                 24,
                 19,
                 17,
                 13,
                 10,
                 9,
                 7,
                 7,
                 6,
                 6,
                 38,
                 30,
                 14,
                 13,
                 12,
                 10,
                 9,
                 9,
                 9,
                 9,
                 22,
                 19,
                 18,
                 10,
                 9,
                 8,
                 8,
                 7,
                 7,
                 6,
                 39,
                 28,
                 16,
                 14,
                 14,
                 14,
                 10,
                 10,
                 9,
                 9,
                 42,
                 34,
                 23,
                 21,
                 21,
                 12,
                 11,
                 10,
                 10,
                 10,
                 54,
                 39,
                 29,
                 20,
                 10,
                 10,
                 9,
                 9,
                 8,
                 8,
                 48,
                 31,
                 30,
                 13,
                 12,
                 12,
                 10,
                 10,
                 10,
                 9
                ]
               ]
              }
             }
            ],
            "label": "Select All",
            "method": "update"
           },
           {
            "args": [
             {
              "cells": {
               "values": [
                [
                 2021,
                 2021,
                 2021,
                 2021,
                 2021,
                 2021,
                 2021,
                 2021,
                 2021,
                 2021
                ],
                [
                 1,
                 1,
                 1,
                 1,
                 1,
                 1,
                 1,
                 1,
                 1,
                 1
                ],
                [
                 "tattmatte",
                 "cruical",
                 "alike",
                 "straighten",
                 "kaleido",
                 "frosting",
                 "saraxb",
                 "repackages",
                 "tanvery",
                 "directs"
                ],
                [
                 27,
                 14,
                 12,
                 8,
                 8,
                 7,
                 6,
                 6,
                 5,
                 5
                ]
               ]
              }
             }
            ],
            "label": "2021-1",
            "method": "update"
           },
           {
            "args": [
             {
              "cells": {
               "values": [
                [
                 2021,
                 2021,
                 2021,
                 2021,
                 2021,
                 2021,
                 2021,
                 2021,
                 2021,
                 2021
                ],
                [
                 2,
                 2,
                 2,
                 2,
                 2,
                 2,
                 2,
                 2,
                 2,
                 2
                ],
                [
                 "tattmatte",
                 "alike",
                 "straighten",
                 "cruical",
                 "cakeddry",
                 "flavors",
                 "kaleido",
                 "human",
                 "runaround",
                 "layeringbuilding"
                ],
                [
                 26,
                 12,
                 12,
                 11,
                 7,
                 7,
                 7,
                 7,
                 6,
                 6
                ]
               ]
              }
             }
            ],
            "label": "2021-2",
            "method": "update"
           },
           {
            "args": [
             {
              "cells": {
               "values": [
                [
                 2021,
                 2021,
                 2021,
                 2021,
                 2021,
                 2021,
                 2021,
                 2021,
                 2021,
                 2021
                ],
                [
                 3,
                 3,
                 3,
                 3,
                 3,
                 3,
                 3,
                 3,
                 3,
                 3
                ],
                [
                 "tattmatte",
                 "alike",
                 "kaleido",
                 "straighten",
                 "cruical",
                 "vidos",
                 "allergy",
                 "runaround",
                 "jogs",
                 "sisters"
                ],
                [
                 23,
                 20,
                 13,
                 10,
                 8,
                 6,
                 5,
                 5,
                 5,
                 5
                ]
               ]
              }
             }
            ],
            "label": "2021-3",
            "method": "update"
           },
           {
            "args": [
             {
              "cells": {
               "values": [
                [
                 2021,
                 2021,
                 2021,
                 2021,
                 2021,
                 2021,
                 2021,
                 2021,
                 2021,
                 2021
                ],
                [
                 4,
                 4,
                 4,
                 4,
                 4,
                 4,
                 4,
                 4,
                 4,
                 4
                ],
                [
                 "tattmatte",
                 "alike",
                 "straighten",
                 "runaround",
                 "kaleido",
                 "complicating",
                 "saraxb",
                 "sisters",
                 "professionall",
                 "realise"
                ],
                [
                 37,
                 18,
                 12,
                 9,
                 8,
                 8,
                 7,
                 5,
                 5,
                 5
                ]
               ]
              }
             }
            ],
            "label": "2021-4",
            "method": "update"
           },
           {
            "args": [
             {
              "cells": {
               "values": [
                [
                 2021,
                 2021,
                 2021,
                 2021,
                 2021,
                 2021,
                 2021,
                 2021,
                 2021,
                 2021
                ],
                [
                 5,
                 5,
                 5,
                 5,
                 5,
                 5,
                 5,
                 5,
                 5,
                 5
                ],
                [
                 "tattmatte",
                 "alike",
                 "straighten",
                 "sisters",
                 "frosting",
                 "intobuild",
                 "minty",
                 "saraxb",
                 "madness",
                 "tackles"
                ],
                [
                 22,
                 10,
                 7,
                 5,
                 5,
                 5,
                 4,
                 4,
                 4,
                 4
                ]
               ]
              }
             }
            ],
            "label": "2021-5",
            "method": "update"
           },
           {
            "args": [
             {
              "cells": {
               "values": [
                [
                 2021,
                 2021,
                 2021,
                 2021,
                 2021,
                 2021,
                 2021,
                 2021,
                 2021,
                 2021
                ],
                [
                 6,
                 6,
                 6,
                 6,
                 6,
                 6,
                 6,
                 6,
                 6,
                 6
                ],
                [
                 "tattmatte",
                 "alike",
                 "straighten",
                 "cruical",
                 "saraxb",
                 "timeexcept",
                 "kaleido",
                 "camping",
                 "inertia",
                 "norm"
                ],
                [
                 28,
                 11,
                 8,
                 7,
                 7,
                 7,
                 6,
                 4,
                 4,
                 4
                ]
               ]
              }
             }
            ],
            "label": "2021-6",
            "method": "update"
           },
           {
            "args": [
             {
              "cells": {
               "values": [
                [
                 2021,
                 2021,
                 2021,
                 2021,
                 2021,
                 2021,
                 2021,
                 2021,
                 2021,
                 2021
                ],
                [
                 7,
                 7,
                 7,
                 7,
                 7,
                 7,
                 7,
                 7,
                 7,
                 7
                ],
                [
                 "tattmatte",
                 "alike",
                 "jogs",
                 "runaround",
                 "straighten",
                 "complicating",
                 "norm",
                 "cruical",
                 "kaleido",
                 "madness"
                ],
                [
                 34,
                 15,
                 7,
                 7,
                 6,
                 6,
                 5,
                 5,
                 5,
                 4
                ]
               ]
              }
             }
            ],
            "label": "2021-7",
            "method": "update"
           },
           {
            "args": [
             {
              "cells": {
               "values": [
                [
                 2021,
                 2021,
                 2021,
                 2021,
                 2021,
                 2021,
                 2021,
                 2021,
                 2021,
                 2021
                ],
                [
                 8,
                 8,
                 8,
                 8,
                 8,
                 8,
                 8,
                 8,
                 8,
                 8
                ],
                [
                 "tattmatte",
                 "alike",
                 "lookbooks",
                 "camping",
                 "straighten",
                 "jogs",
                 "repackages",
                 "directs",
                 "cruical",
                 "saraxb"
                ],
                [
                 19,
                 14,
                 8,
                 8,
                 7,
                 6,
                 5,
                 5,
                 5,
                 5
                ]
               ]
              }
             }
            ],
            "label": "2021-8",
            "method": "update"
           },
           {
            "args": [
             {
              "cells": {
               "values": [
                [
                 2021,
                 2021,
                 2021,
                 2021,
                 2021,
                 2021,
                 2021,
                 2021,
                 2021,
                 2021
                ],
                [
                 9,
                 9,
                 9,
                 9,
                 9,
                 9,
                 9,
                 9,
                 9,
                 9
                ],
                [
                 "tattmatte",
                 "alike",
                 "tinged",
                 "cruical",
                 "frosting",
                 "straighten",
                 "opted",
                 "knook",
                 "directs",
                 "curvitude"
                ],
                [
                 21,
                 18,
                 9,
                 8,
                 8,
                 7,
                 6,
                 6,
                 5,
                 5
                ]
               ]
              }
             }
            ],
            "label": "2021-9",
            "method": "update"
           },
           {
            "args": [
             {
              "cells": {
               "values": [
                [
                 2021,
                 2021,
                 2021,
                 2021,
                 2021,
                 2021,
                 2021,
                 2021,
                 2021,
                 2021
                ],
                [
                 10,
                 10,
                 10,
                 10,
                 10,
                 10,
                 10,
                 10,
                 10,
                 10
                ],
                [
                 "tattmatte",
                 "straighten",
                 "runaround",
                 "alike",
                 "cruical",
                 "hyaluronics",
                 "kaleido",
                 "camping",
                 "saraxb",
                 "jamata"
                ],
                [
                 24,
                 10,
                 9,
                 9,
                 7,
                 5,
                 5,
                 4,
                 4,
                 4
                ]
               ]
              }
             }
            ],
            "label": "2021-10",
            "method": "update"
           },
           {
            "args": [
             {
              "cells": {
               "values": [
                [
                 2021,
                 2021,
                 2021,
                 2021,
                 2021,
                 2021,
                 2021,
                 2021,
                 2021,
                 2021
                ],
                [
                 11,
                 11,
                 11,
                 11,
                 11,
                 11,
                 11,
                 11,
                 11,
                 11
                ],
                [
                 "tattmatte",
                 "alike",
                 "straighten",
                 "kaleido",
                 "frosting",
                 "saraxb",
                 "cruical",
                 "shivers",
                 "camping",
                 "das"
                ],
                [
                 21,
                 12,
                 8,
                 8,
                 6,
                 6,
                 6,
                 5,
                 4,
                 4
                ]
               ]
              }
             }
            ],
            "label": "2021-11",
            "method": "update"
           },
           {
            "args": [
             {
              "cells": {
               "values": [
                [
                 2021,
                 2021,
                 2021,
                 2021,
                 2021,
                 2021,
                 2021,
                 2021,
                 2021,
                 2021
                ],
                [
                 12,
                 12,
                 12,
                 12,
                 12,
                 12,
                 12,
                 12,
                 12,
                 12
                ],
                [
                 "tattmatte",
                 "straighten",
                 "cruical",
                 "saraxb",
                 "alike",
                 "kaleido",
                 "directs",
                 "inertia",
                 "vidos",
                 "duane"
                ],
                [
                 18,
                 13,
                 9,
                 9,
                 9,
                 8,
                 5,
                 5,
                 5,
                 5
                ]
               ]
              }
             }
            ],
            "label": "2021-12",
            "method": "update"
           },
           {
            "args": [
             {
              "cells": {
               "values": [
                [
                 2022,
                 2022,
                 2022,
                 2022,
                 2022,
                 2022,
                 2022,
                 2022,
                 2022,
                 2022
                ],
                [
                 1,
                 1,
                 1,
                 1,
                 1,
                 1,
                 1,
                 1,
                 1,
                 1
                ],
                [
                 "tattmatte",
                 "straighten",
                 "alike",
                 "kaleido",
                 "saraxb",
                 "nyxmeh",
                 "timeexcept",
                 "cruical",
                 "vidos",
                 "jamata"
                ],
                [
                 22,
                 13,
                 12,
                 11,
                 7,
                 6,
                 6,
                 6,
                 6,
                 5
                ]
               ]
              }
             }
            ],
            "label": "2022-1",
            "method": "update"
           },
           {
            "args": [
             {
              "cells": {
               "values": [
                [
                 2022,
                 2022,
                 2022,
                 2022,
                 2022,
                 2022,
                 2022,
                 2022,
                 2022,
                 2022
                ],
                [
                 2,
                 2,
                 2,
                 2,
                 2,
                 2,
                 2,
                 2,
                 2,
                 2
                ],
                [
                 "tattmatte",
                 "alike",
                 "straighten",
                 "saraxb",
                 "permanent",
                 "camping",
                 "kaleido",
                 "sisters",
                 "frosting",
                 "robot"
                ],
                [
                 39,
                 20,
                 8,
                 7,
                 6,
                 6,
                 6,
                 5,
                 5,
                 5
                ]
               ]
              }
             }
            ],
            "label": "2022-2",
            "method": "update"
           },
           {
            "args": [
             {
              "cells": {
               "values": [
                [
                 2022,
                 2022,
                 2022,
                 2022,
                 2022,
                 2022,
                 2022,
                 2022,
                 2022,
                 2022
                ],
                [
                 3,
                 3,
                 3,
                 3,
                 3,
                 3,
                 3,
                 3,
                 3,
                 3
                ],
                [
                 "tattmatte",
                 "alike",
                 "kaleido",
                 "cruical",
                 "runaround",
                 "outs",
                 "straighten",
                 "bumped",
                 "sisters",
                 "responder"
                ],
                [
                 42,
                 20,
                 14,
                 11,
                 10,
                 8,
                 7,
                 6,
                 6,
                 6
                ]
               ]
              }
             }
            ],
            "label": "2022-3",
            "method": "update"
           },
           {
            "args": [
             {
              "cells": {
               "values": [
                [
                 2022,
                 2022,
                 2022,
                 2022,
                 2022,
                 2022,
                 2022,
                 2022,
                 2022,
                 2022
                ],
                [
                 4,
                 4,
                 4,
                 4,
                 4,
                 4,
                 4,
                 4,
                 4,
                 4
                ],
                [
                 "tattmatte",
                 "alike",
                 "saraxb",
                 "straighten",
                 "kaleido",
                 "temptation",
                 "mil",
                 "cruical",
                 "creamwhatever",
                 "travelsized"
                ],
                [
                 42,
                 24,
                 13,
                 13,
                 8,
                 6,
                 6,
                 6,
                 6,
                 5
                ]
               ]
              }
             }
            ],
            "label": "2022-4",
            "method": "update"
           },
           {
            "args": [
             {
              "cells": {
               "values": [
                [
                 2022,
                 2022,
                 2022,
                 2022,
                 2022,
                 2022,
                 2022,
                 2022,
                 2022,
                 2022
                ],
                [
                 5,
                 5,
                 5,
                 5,
                 5,
                 5,
                 5,
                 5,
                 5,
                 5
                ],
                [
                 "tattmatte",
                 "alike",
                 "straighten",
                 "saraxb",
                 "kaleido",
                 "camping",
                 "dewyglowynonmatte",
                 "cruical",
                 "frosting",
                 "directs"
                ],
                [
                 41,
                 27,
                 22,
                 10,
                 9,
                 7,
                 6,
                 6,
                 6,
                 6
                ]
               ]
              }
             }
            ],
            "label": "2022-5",
            "method": "update"
           },
           {
            "args": [
             {
              "cells": {
               "values": [
                [
                 2022,
                 2022,
                 2022,
                 2022,
                 2022,
                 2022,
                 2022,
                 2022,
                 2022,
                 2022
                ],
                [
                 6,
                 6,
                 6,
                 6,
                 6,
                 6,
                 6,
                 6,
                 6,
                 6
                ],
                [
                 "tattmatte",
                 "alike",
                 "kaleido",
                 "straighten",
                 "jogs",
                 "saraxb",
                 "numetal",
                 "usd",
                 "frosting",
                 "runaround"
                ],
                [
                 21,
                 18,
                 12,
                 8,
                 6,
                 6,
                 5,
                 5,
                 5,
                 5
                ]
               ]
              }
             }
            ],
            "label": "2022-6",
            "method": "update"
           },
           {
            "args": [
             {
              "cells": {
               "values": [
                [
                 2022,
                 2022,
                 2022,
                 2022,
                 2022,
                 2022,
                 2022,
                 2022,
                 2022,
                 2022
                ],
                [
                 7,
                 7,
                 7,
                 7,
                 7,
                 7,
                 7,
                 7,
                 7,
                 7
                ],
                [
                 "tattmatte",
                 "alike",
                 "kaleido",
                 "straighten",
                 "tintbase",
                 "camping",
                 "horrendous",
                 "shivers",
                 "lustreglass",
                 "sisters"
                ],
                [
                 22,
                 20,
                 11,
                 10,
                 6,
                 6,
                 6,
                 6,
                 5,
                 5
                ]
               ]
              }
             }
            ],
            "label": "2022-7",
            "method": "update"
           },
           {
            "args": [
             {
              "cells": {
               "values": [
                [
                 2022,
                 2022,
                 2022,
                 2022,
                 2022,
                 2022,
                 2022,
                 2022,
                 2022,
                 2022
                ],
                [
                 8,
                 8,
                 8,
                 8,
                 8,
                 8,
                 8,
                 8,
                 8,
                 8
                ],
                [
                 "kaleido",
                 "tattmatte",
                 "alike",
                 "camping",
                 "straighten",
                 "sisters",
                 "saraxb",
                 "lookbooks",
                 "cruical",
                 "furnature"
                ],
                [
                 22,
                 20,
                 13,
                 12,
                 12,
                 10,
                 8,
                 8,
                 8,
                 7
                ]
               ]
              }
             }
            ],
            "label": "2022-8",
            "method": "update"
           },
           {
            "args": [
             {
              "cells": {
               "values": [
                [
                 2022,
                 2022,
                 2022,
                 2022,
                 2022,
                 2022,
                 2022,
                 2022,
                 2022,
                 2022
                ],
                [
                 9,
                 9,
                 9,
                 9,
                 9,
                 9,
                 9,
                 9,
                 9,
                 9
                ],
                [
                 "tattmatte",
                 "alike",
                 "kaleido",
                 "straighten",
                 "saraxb",
                 "camping",
                 "laura",
                 "sisters",
                 "responder",
                 "shivers"
                ],
                [
                 24,
                 19,
                 17,
                 13,
                 10,
                 9,
                 7,
                 7,
                 6,
                 6
                ]
               ]
              }
             }
            ],
            "label": "2022-9",
            "method": "update"
           },
           {
            "args": [
             {
              "cells": {
               "values": [
                [
                 2022,
                 2022,
                 2022,
                 2022,
                 2022,
                 2022,
                 2022,
                 2022,
                 2022,
                 2022
                ],
                [
                 10,
                 10,
                 10,
                 10,
                 10,
                 10,
                 10,
                 10,
                 10,
                 10
                ],
                [
                 "tattmatte",
                 "alike",
                 "kaleido",
                 "straighten",
                 "saraxb",
                 "sisters",
                 "spoilers",
                 "runaround",
                 "professionall",
                 "cruical"
                ],
                [
                 38,
                 30,
                 14,
                 13,
                 12,
                 10,
                 9,
                 9,
                 9,
                 9
                ]
               ]
              }
             }
            ],
            "label": "2022-10",
            "method": "update"
           },
           {
            "args": [
             {
              "cells": {
               "values": [
                [
                 2022,
                 2022,
                 2022,
                 2022,
                 2022,
                 2022,
                 2022,
                 2022,
                 2022,
                 2022
                ],
                [
                 11,
                 11,
                 11,
                 11,
                 11,
                 11,
                 11,
                 11,
                 11,
                 11
                ],
                [
                 "tattmatte",
                 "alike",
                 "kaleido",
                 "cruical",
                 "straighten",
                 "bumped",
                 "directs",
                 "lookbooks",
                 "runaround",
                 "jogs"
                ],
                [
                 22,
                 19,
                 18,
                 10,
                 9,
                 8,
                 8,
                 7,
                 7,
                 6
                ]
               ]
              }
             }
            ],
            "label": "2022-11",
            "method": "update"
           },
           {
            "args": [
             {
              "cells": {
               "values": [
                [
                 2022,
                 2022,
                 2022,
                 2022,
                 2022,
                 2022,
                 2022,
                 2022,
                 2022,
                 2022
                ],
                [
                 12,
                 12,
                 12,
                 12,
                 12,
                 12,
                 12,
                 12,
                 12,
                 12
                ],
                [
                 "tattmatte",
                 "alike",
                 "straighten",
                 "saraxb",
                 "lookbooks",
                 "kaleido",
                 "cruical",
                 "frosting",
                 "wasteland",
                 "coupled"
                ],
                [
                 39,
                 28,
                 16,
                 14,
                 14,
                 14,
                 10,
                 10,
                 9,
                 9
                ]
               ]
              }
             }
            ],
            "label": "2022-12",
            "method": "update"
           },
           {
            "args": [
             {
              "cells": {
               "values": [
                [
                 2023,
                 2023,
                 2023,
                 2023,
                 2023,
                 2023,
                 2023,
                 2023,
                 2023,
                 2023
                ],
                [
                 1,
                 1,
                 1,
                 1,
                 1,
                 1,
                 1,
                 1,
                 1,
                 1
                ],
                [
                 "tattmatte",
                 "alike",
                 "straighten",
                 "kaleido",
                 "cruical",
                 "directs",
                 "lookbooks",
                 "jogs",
                 "sisters",
                 "professionall"
                ],
                [
                 42,
                 34,
                 23,
                 21,
                 21,
                 12,
                 11,
                 10,
                 10,
                 10
                ]
               ]
              }
             }
            ],
            "label": "2023-1",
            "method": "update"
           },
           {
            "args": [
             {
              "cells": {
               "values": [
                [
                 2023,
                 2023,
                 2023,
                 2023,
                 2023,
                 2023,
                 2023,
                 2023,
                 2023,
                 2023
                ],
                [
                 2,
                 2,
                 2,
                 2,
                 2,
                 2,
                 2,
                 2,
                 2,
                 2
                ],
                [
                 "tattmatte",
                 "alike",
                 "straighten",
                 "kaleido",
                 "lookbooks",
                 "tuts",
                 "repackages",
                 "perk",
                 "jamata",
                 "khalo"
                ],
                [
                 54,
                 39,
                 29,
                 20,
                 10,
                 10,
                 9,
                 9,
                 8,
                 8
                ]
               ]
              }
             }
            ],
            "label": "2023-2",
            "method": "update"
           },
           {
            "args": [
             {
              "cells": {
               "values": [
                [
                 2023,
                 2023,
                 2023,
                 2023,
                 2023,
                 2023,
                 2023,
                 2023,
                 2023,
                 2023
                ],
                [
                 3,
                 3,
                 3,
                 3,
                 3,
                 3,
                 3,
                 3,
                 3,
                 3
                ],
                [
                 "tattmatte",
                 "alike",
                 "straighten",
                 "directs",
                 "kaleido",
                 "cruical",
                 "runaround",
                 "repackages",
                 "temptation",
                 "lookbooks"
                ],
                [
                 48,
                 31,
                 30,
                 13,
                 12,
                 12,
                 10,
                 10,
                 10,
                 9
                ]
               ]
              }
             }
            ],
            "label": "2023-3",
            "method": "update"
           },
           {
            "args": [
             {
              "cells": {
               "values": [
                [],
                [],
                [],
                []
               ]
              }
             }
            ],
            "label": "2023-4",
            "method": "update"
           },
           {
            "args": [
             {
              "cells": {
               "values": [
                [],
                [],
                [],
                []
               ]
              }
             }
            ],
            "label": "2023-5",
            "method": "update"
           },
           {
            "args": [
             {
              "cells": {
               "values": [
                [],
                [],
                [],
                []
               ]
              }
             }
            ],
            "label": "2023-6",
            "method": "update"
           },
           {
            "args": [
             {
              "cells": {
               "values": [
                [],
                [],
                [],
                []
               ]
              }
             }
            ],
            "label": "2023-7",
            "method": "update"
           },
           {
            "args": [
             {
              "cells": {
               "values": [
                [],
                [],
                [],
                []
               ]
              }
             }
            ],
            "label": "2023-8",
            "method": "update"
           },
           {
            "args": [
             {
              "cells": {
               "values": [
                [],
                [],
                [],
                []
               ]
              }
             }
            ],
            "label": "2023-9",
            "method": "update"
           },
           {
            "args": [
             {
              "cells": {
               "values": [
                [],
                [],
                [],
                []
               ]
              }
             }
            ],
            "label": "2023-10",
            "method": "update"
           },
           {
            "args": [
             {
              "cells": {
               "values": [
                [],
                [],
                [],
                []
               ]
              }
             }
            ],
            "label": "2023-11",
            "method": "update"
           },
           {
            "args": [
             {
              "cells": {
               "values": [
                [],
                [],
                [],
                []
               ]
              }
             }
            ],
            "label": "2023-12",
            "method": "update"
           }
          ],
          "direction": "down",
          "showactive": true,
          "x": 0.1,
          "xanchor": "left",
          "y": 1.2,
          "yanchor": "top"
         }
        ]
       }
      },
      "image/png": "[encoded data removed]",
      "text/html": [
       "<div>                            <div id=\"3051cd1f-d98f-488a-a24a-2d3c4a5c1ae7\" class=\"plotly-graph-div\" style=\"height:525px; width:100%;\"></div>            <script type=\"text/javascript\">                require([\"plotly\"], function(Plotly) {                    window.PLOTLYENV=window.PLOTLYENV || {};                                    if (document.getElementById(\"3051cd1f-d98f-488a-a24a-2d3c4a5c1ae7\")) {                    Plotly.newPlot(                        \"3051cd1f-d98f-488a-a24a-2d3c4a5c1ae7\",                        [{\"cells\":{\"fill\":{\"color\":\"lavender\"},\"values\":[[2021,2021,2021,2021,2021,2021,2021,2021,2021,2021,2021,2021,2021,2021,2021,2021,2021,2021,2021,2021,2021,2021,2021,2021,2021,2021,2021,2021,2021,2021,2021,2021,2021,2021,2021,2021,2021,2021,2021,2021,2021,2021,2021,2021,2021,2021,2021,2021,2021,2021,2021,2021,2021,2021,2021,2021,2021,2021,2021,2021,2021,2021,2021,2021,2021,2021,2021,2021,2021,2021,2021,2021,2021,2021,2021,2021,2021,2021,2021,2021,2021,2021,2021,2021,2021,2021,2021,2021,2021,2021,2021,2021,2021,2021,2021,2021,2021,2021,2021,2021,2021,2021,2021,2021,2021,2021,2021,2021,2021,2021,2021,2021,2021,2021,2021,2021,2021,2021,2021,2021,2022,2022,2022,2022,2022,2022,2022,2022,2022,2022,2022,2022,2022,2022,2022,2022,2022,2022,2022,2022,2022,2022,2022,2022,2022,2022,2022,2022,2022,2022,2022,2022,2022,2022,2022,2022,2022,2022,2022,2022,2022,2022,2022,2022,2022,2022,2022,2022,2022,2022,2022,2022,2022,2022,2022,2022,2022,2022,2022,2022,2022,2022,2022,2022,2022,2022,2022,2022,2022,2022,2022,2022,2022,2022,2022,2022,2022,2022,2022,2022,2022,2022,2022,2022,2022,2022,2022,2022,2022,2022,2022,2022,2022,2022,2022,2022,2022,2022,2022,2022,2022,2022,2022,2022,2022,2022,2022,2022,2022,2022,2022,2022,2022,2022,2022,2022,2022,2022,2022,2022,2023,2023,2023,2023,2023,2023,2023,2023,2023,2023,2023,2023,2023,2023,2023,2023,2023,2023,2023,2023,2023,2023,2023,2023,2023,2023,2023,2023,2023,2023],[1,1,1,1,1,1,1,1,1,1,2,2,2,2,2,2,2,2,2,2,3,3,3,3,3,3,3,3,3,3,4,4,4,4,4,4,4,4,4,4,5,5,5,5,5,5,5,5,5,5,6,6,6,6,6,6,6,6,6,6,7,7,7,7,7,7,7,7,7,7,8,8,8,8,8,8,8,8,8,8,9,9,9,9,9,9,9,9,9,9,10,10,10,10,10,10,10,10,10,10,11,11,11,11,11,11,11,11,11,11,12,12,12,12,12,12,12,12,12,12,1,1,1,1,1,1,1,1,1,1,2,2,2,2,2,2,2,2,2,2,3,3,3,3,3,3,3,3,3,3,4,4,4,4,4,4,4,4,4,4,5,5,5,5,5,5,5,5,5,5,6,6,6,6,6,6,6,6,6,6,7,7,7,7,7,7,7,7,7,7,8,8,8,8,8,8,8,8,8,8,9,9,9,9,9,9,9,9,9,9,10,10,10,10,10,10,10,10,10,10,11,11,11,11,11,11,11,11,11,11,12,12,12,12,12,12,12,12,12,12,1,1,1,1,1,1,1,1,1,1,2,2,2,2,2,2,2,2,2,2,3,3,3,3,3,3,3,3,3,3],[\"tattmatte\",\"cruical\",\"alike\",\"straighten\",\"kaleido\",\"frosting\",\"saraxb\",\"repackages\",\"tanvery\",\"directs\",\"tattmatte\",\"alike\",\"straighten\",\"cruical\",\"cakeddry\",\"flavors\",\"kaleido\",\"human\",\"runaround\",\"layeringbuilding\",\"tattmatte\",\"alike\",\"kaleido\",\"straighten\",\"cruical\",\"vidos\",\"allergy\",\"runaround\",\"jogs\",\"sisters\",\"tattmatte\",\"alike\",\"straighten\",\"runaround\",\"kaleido\",\"complicating\",\"saraxb\",\"sisters\",\"professionall\",\"realise\",\"tattmatte\",\"alike\",\"straighten\",\"sisters\",\"frosting\",\"intobuild\",\"minty\",\"saraxb\",\"madness\",\"tackles\",\"tattmatte\",\"alike\",\"straighten\",\"cruical\",\"saraxb\",\"timeexcept\",\"kaleido\",\"camping\",\"inertia\",\"norm\",\"tattmatte\",\"alike\",\"jogs\",\"runaround\",\"straighten\",\"complicating\",\"norm\",\"cruical\",\"kaleido\",\"madness\",\"tattmatte\",\"alike\",\"lookbooks\",\"camping\",\"straighten\",\"jogs\",\"repackages\",\"directs\",\"cruical\",\"saraxb\",\"tattmatte\",\"alike\",\"tinged\",\"cruical\",\"frosting\",\"straighten\",\"opted\",\"knook\",\"directs\",\"curvitude\",\"tattmatte\",\"straighten\",\"runaround\",\"alike\",\"cruical\",\"hyaluronics\",\"kaleido\",\"camping\",\"saraxb\",\"jamata\",\"tattmatte\",\"alike\",\"straighten\",\"kaleido\",\"frosting\",\"saraxb\",\"cruical\",\"shivers\",\"camping\",\"das\",\"tattmatte\",\"straighten\",\"cruical\",\"saraxb\",\"alike\",\"kaleido\",\"directs\",\"inertia\",\"vidos\",\"duane\",\"tattmatte\",\"straighten\",\"alike\",\"kaleido\",\"saraxb\",\"nyxmeh\",\"timeexcept\",\"cruical\",\"vidos\",\"jamata\",\"tattmatte\",\"alike\",\"straighten\",\"saraxb\",\"permanent\",\"camping\",\"kaleido\",\"sisters\",\"frosting\",\"robot\",\"tattmatte\",\"alike\",\"kaleido\",\"cruical\",\"runaround\",\"outs\",\"straighten\",\"bumped\",\"sisters\",\"responder\",\"tattmatte\",\"alike\",\"saraxb\",\"straighten\",\"kaleido\",\"temptation\",\"mil\",\"cruical\",\"creamwhatever\",\"travelsized\",\"tattmatte\",\"alike\",\"straighten\",\"saraxb\",\"kaleido\",\"camping\",\"dewyglowynonmatte\",\"cruical\",\"frosting\",\"directs\",\"tattmatte\",\"alike\",\"kaleido\",\"straighten\",\"jogs\",\"saraxb\",\"numetal\",\"usd\",\"frosting\",\"runaround\",\"tattmatte\",\"alike\",\"kaleido\",\"straighten\",\"tintbase\",\"camping\",\"horrendous\",\"shivers\",\"lustreglass\",\"sisters\",\"kaleido\",\"tattmatte\",\"alike\",\"camping\",\"straighten\",\"sisters\",\"saraxb\",\"lookbooks\",\"cruical\",\"furnature\",\"tattmatte\",\"alike\",\"kaleido\",\"straighten\",\"saraxb\",\"camping\",\"laura\",\"sisters\",\"responder\",\"shivers\",\"tattmatte\",\"alike\",\"kaleido\",\"straighten\",\"saraxb\",\"sisters\",\"spoilers\",\"runaround\",\"professionall\",\"cruical\",\"tattmatte\",\"alike\",\"kaleido\",\"cruical\",\"straighten\",\"bumped\",\"directs\",\"lookbooks\",\"runaround\",\"jogs\",\"tattmatte\",\"alike\",\"straighten\",\"saraxb\",\"lookbooks\",\"kaleido\",\"cruical\",\"frosting\",\"wasteland\",\"coupled\",\"tattmatte\",\"alike\",\"straighten\",\"kaleido\",\"cruical\",\"directs\",\"lookbooks\",\"jogs\",\"sisters\",\"professionall\",\"tattmatte\",\"alike\",\"straighten\",\"kaleido\",\"lookbooks\",\"tuts\",\"repackages\",\"perk\",\"jamata\",\"khalo\",\"tattmatte\",\"alike\",\"straighten\",\"directs\",\"kaleido\",\"cruical\",\"runaround\",\"repackages\",\"temptation\",\"lookbooks\"],[27,14,12,8,8,7,6,6,5,5,26,12,12,11,7,7,7,7,6,6,23,20,13,10,8,6,5,5,5,5,37,18,12,9,8,8,7,5,5,5,22,10,7,5,5,5,4,4,4,4,28,11,8,7,7,7,6,4,4,4,34,15,7,7,6,6,5,5,5,4,19,14,8,8,7,6,5,5,5,5,21,18,9,8,8,7,6,6,5,5,24,10,9,9,7,5,5,4,4,4,21,12,8,8,6,6,6,5,4,4,18,13,9,9,9,8,5,5,5,5,22,13,12,11,7,6,6,6,6,5,39,20,8,7,6,6,6,5,5,5,42,20,14,11,10,8,7,6,6,6,42,24,13,13,8,6,6,6,6,5,41,27,22,10,9,7,6,6,6,6,21,18,12,8,6,6,5,5,5,5,22,20,11,10,6,6,6,6,5,5,22,20,13,12,12,10,8,8,8,7,24,19,17,13,10,9,7,7,6,6,38,30,14,13,12,10,9,9,9,9,22,19,18,10,9,8,8,7,7,6,39,28,16,14,14,14,10,10,9,9,42,34,23,21,21,12,11,10,10,10,54,39,29,20,10,10,9,9,8,8,48,31,30,13,12,12,10,10,10,9]]},\"header\":{\"fill\":{\"color\":\"paleturquoise\"},\"values\":[\"Year\",\"Month\",\"Term\",\"Count\"]},\"type\":\"table\"}],                        {\"template\":{\"data\":{\"histogram2dcontour\":[{\"type\":\"histogram2dcontour\",\"colorbar\":{\"outlinewidth\":0,\"ticks\":\"\"},\"colorscale\":[[0.0,\"#0d0887\"],[0.1111111111111111,\"#46039f\"],[0.2222222222222222,\"#7201a8\"],[0.3333333333333333,\"#9c179e\"],[0.4444444444444444,\"#bd3786\"],[0.5555555555555556,\"#d8576b\"],[0.6666666666666666,\"#ed7953\"],[0.7777777777777778,\"#fb9f3a\"],[0.8888888888888888,\"#fdca26\"],[1.0,\"#f0f921\"]]}],\"choropleth\":[{\"type\":\"choropleth\",\"colorbar\":{\"outlinewidth\":0,\"ticks\":\"\"}}],\"histogram2d\":[{\"type\":\"histogram2d\",\"colorbar\":{\"outlinewidth\":0,\"ticks\":\"\"},\"colorscale\":[[0.0,\"#0d0887\"],[0.1111111111111111,\"#46039f\"],[0.2222222222222222,\"#7201a8\"],[0.3333333333333333,\"#9c179e\"],[0.4444444444444444,\"#bd3786\"],[0.5555555555555556,\"#d8576b\"],[0.6666666666666666,\"#ed7953\"],[0.7777777777777778,\"#fb9f3a\"],[0.8888888888888888,\"#fdca26\"],[1.0,\"#f0f921\"]]}],\"heatmap\":[{\"type\":\"heatmap\",\"colorbar\":{\"outlinewidth\":0,\"ticks\":\"\"},\"colorscale\":[[0.0,\"#0d0887\"],[0.1111111111111111,\"#46039f\"],[0.2222222222222222,\"#7201a8\"],[0.3333333333333333,\"#9c179e\"],[0.4444444444444444,\"#bd3786\"],[0.5555555555555556,\"#d8576b\"],[0.6666666666666666,\"#ed7953\"],[0.7777777777777778,\"#fb9f3a\"],[0.8888888888888888,\"#fdca26\"],[1.0,\"#f0f921\"]]}],\"heatmapgl\":[{\"type\":\"heatmapgl\",\"colorbar\":{\"outlinewidth\":0,\"ticks\":\"\"},\"colorscale\":[[0.0,\"#0d0887\"],[0.1111111111111111,\"#46039f\"],[0.2222222222222222,\"#7201a8\"],[0.3333333333333333,\"#9c179e\"],[0.4444444444444444,\"#bd3786\"],[0.5555555555555556,\"#d8576b\"],[0.6666666666666666,\"#ed7953\"],[0.7777777777777778,\"#fb9f3a\"],[0.8888888888888888,\"#fdca26\"],[1.0,\"#f0f921\"]]}],\"contourcarpet\":[{\"type\":\"contourcarpet\",\"colorbar\":{\"outlinewidth\":0,\"ticks\":\"\"}}],\"contour\":[{\"type\":\"contour\",\"colorbar\":{\"outlinewidth\":0,\"ticks\":\"\"},\"colorscale\":[[0.0,\"#0d0887\"],[0.1111111111111111,\"#46039f\"],[0.2222222222222222,\"#7201a8\"],[0.3333333333333333,\"#9c179e\"],[0.4444444444444444,\"#bd3786\"],[0.5555555555555556,\"#d8576b\"],[0.6666666666666666,\"#ed7953\"],[0.7777777777777778,\"#fb9f3a\"],[0.8888888888888888,\"#fdca26\"],[1.0,\"#f0f921\"]]}],\"surface\":[{\"type\":\"surface\",\"colorbar\":{\"outlinewidth\":0,\"ticks\":\"\"},\"colorscale\":[[0.0,\"#0d0887\"],[0.1111111111111111,\"#46039f\"],[0.2222222222222222,\"#7201a8\"],[0.3333333333333333,\"#9c179e\"],[0.4444444444444444,\"#bd3786\"],[0.5555555555555556,\"#d8576b\"],[0.6666666666666666,\"#ed7953\"],[0.7777777777777778,\"#fb9f3a\"],[0.8888888888888888,\"#fdca26\"],[1.0,\"#f0f921\"]]}],\"mesh3d\":[{\"type\":\"mesh3d\",\"colorbar\":{\"outlinewidth\":0,\"ticks\":\"\"}}],\"scatter\":[{\"fillpattern\":{\"fillmode\":\"overlay\",\"size\":10,\"solidity\":0.2},\"type\":\"scatter\"}],\"parcoords\":[{\"type\":\"parcoords\",\"line\":{\"colorbar\":{\"outlinewidth\":0,\"ticks\":\"\"}}}],\"scatterpolargl\":[{\"type\":\"scatterpolargl\",\"marker\":{\"colorbar\":{\"outlinewidth\":0,\"ticks\":\"\"}}}],\"bar\":[{\"error_x\":{\"color\":\"#2a3f5f\"},\"error_y\":{\"color\":\"#2a3f5f\"},\"marker\":{\"line\":{\"color\":\"#E5ECF6\",\"width\":0.5},\"pattern\":{\"fillmode\":\"overlay\",\"size\":10,\"solidity\":0.2}},\"type\":\"bar\"}],\"scattergeo\":[{\"type\":\"scattergeo\",\"marker\":{\"colorbar\":{\"outlinewidth\":0,\"ticks\":\"\"}}}],\"scatterpolar\":[{\"type\":\"scatterpolar\",\"marker\":{\"colorbar\":{\"outlinewidth\":0,\"ticks\":\"\"}}}],\"histogram\":[{\"marker\":{\"pattern\":{\"fillmode\":\"overlay\",\"size\":10,\"solidity\":0.2}},\"type\":\"histogram\"}],\"scattergl\":[{\"type\":\"scattergl\",\"marker\":{\"colorbar\":{\"outlinewidth\":0,\"ticks\":\"\"}}}],\"scatter3d\":[{\"type\":\"scatter3d\",\"line\":{\"colorbar\":{\"outlinewidth\":0,\"ticks\":\"\"}},\"marker\":{\"colorbar\":{\"outlinewidth\":0,\"ticks\":\"\"}}}],\"scattermapbox\":[{\"type\":\"scattermapbox\",\"marker\":{\"colorbar\":{\"outlinewidth\":0,\"ticks\":\"\"}}}],\"scatterternary\":[{\"type\":\"scatterternary\",\"marker\":{\"colorbar\":{\"outlinewidth\":0,\"ticks\":\"\"}}}],\"scattercarpet\":[{\"type\":\"scattercarpet\",\"marker\":{\"colorbar\":{\"outlinewidth\":0,\"ticks\":\"\"}}}],\"carpet\":[{\"aaxis\":{\"endlinecolor\":\"#2a3f5f\",\"gridcolor\":\"white\",\"linecolor\":\"white\",\"minorgridcolor\":\"white\",\"startlinecolor\":\"#2a3f5f\"},\"baxis\":{\"endlinecolor\":\"#2a3f5f\",\"gridcolor\":\"white\",\"linecolor\":\"white\",\"minorgridcolor\":\"white\",\"startlinecolor\":\"#2a3f5f\"},\"type\":\"carpet\"}],\"table\":[{\"cells\":{\"fill\":{\"color\":\"#EBF0F8\"},\"line\":{\"color\":\"white\"}},\"header\":{\"fill\":{\"color\":\"#C8D4E3\"},\"line\":{\"color\":\"white\"}},\"type\":\"table\"}],\"barpolar\":[{\"marker\":{\"line\":{\"color\":\"#E5ECF6\",\"width\":0.5},\"pattern\":{\"fillmode\":\"overlay\",\"size\":10,\"solidity\":0.2}},\"type\":\"barpolar\"}],\"pie\":[{\"automargin\":true,\"type\":\"pie\"}]},\"layout\":{\"autotypenumbers\":\"strict\",\"colorway\":[\"#636efa\",\"#EF553B\",\"#00cc96\",\"#ab63fa\",\"#FFA15A\",\"#19d3f3\",\"#FF6692\",\"#B6E880\",\"#FF97FF\",\"#FECB52\"],\"font\":{\"color\":\"#2a3f5f\"},\"hovermode\":\"closest\",\"hoverlabel\":{\"align\":\"left\"},\"paper_bgcolor\":\"white\",\"plot_bgcolor\":\"#E5ECF6\",\"polar\":{\"bgcolor\":\"#E5ECF6\",\"angularaxis\":{\"gridcolor\":\"white\",\"linecolor\":\"white\",\"ticks\":\"\"},\"radialaxis\":{\"gridcolor\":\"white\",\"linecolor\":\"white\",\"ticks\":\"\"}},\"ternary\":{\"bgcolor\":\"#E5ECF6\",\"aaxis\":{\"gridcolor\":\"white\",\"linecolor\":\"white\",\"ticks\":\"\"},\"baxis\":{\"gridcolor\":\"white\",\"linecolor\":\"white\",\"ticks\":\"\"},\"caxis\":{\"gridcolor\":\"white\",\"linecolor\":\"white\",\"ticks\":\"\"}},\"coloraxis\":{\"colorbar\":{\"outlinewidth\":0,\"ticks\":\"\"}},\"colorscale\":{\"sequential\":[[0.0,\"#0d0887\"],[0.1111111111111111,\"#46039f\"],[0.2222222222222222,\"#7201a8\"],[0.3333333333333333,\"#9c179e\"],[0.4444444444444444,\"#bd3786\"],[0.5555555555555556,\"#d8576b\"],[0.6666666666666666,\"#ed7953\"],[0.7777777777777778,\"#fb9f3a\"],[0.8888888888888888,\"#fdca26\"],[1.0,\"#f0f921\"]],\"sequentialminus\":[[0.0,\"#0d0887\"],[0.1111111111111111,\"#46039f\"],[0.2222222222222222,\"#7201a8\"],[0.3333333333333333,\"#9c179e\"],[0.4444444444444444,\"#bd3786\"],[0.5555555555555556,\"#d8576b\"],[0.6666666666666666,\"#ed7953\"],[0.7777777777777778,\"#fb9f3a\"],[0.8888888888888888,\"#fdca26\"],[1.0,\"#f0f921\"]],\"diverging\":[[0,\"#8e0152\"],[0.1,\"#c51b7d\"],[0.2,\"#de77ae\"],[0.3,\"#f1b6da\"],[0.4,\"#fde0ef\"],[0.5,\"#f7f7f7\"],[0.6,\"#e6f5d0\"],[0.7,\"#b8e186\"],[0.8,\"#7fbc41\"],[0.9,\"#4d9221\"],[1,\"#276419\"]]},\"xaxis\":{\"gridcolor\":\"white\",\"linecolor\":\"white\",\"ticks\":\"\",\"title\":{\"standoff\":15},\"zerolinecolor\":\"white\",\"automargin\":true,\"zerolinewidth\":2},\"yaxis\":{\"gridcolor\":\"white\",\"linecolor\":\"white\",\"ticks\":\"\",\"title\":{\"standoff\":15},\"zerolinecolor\":\"white\",\"automargin\":true,\"zerolinewidth\":2},\"scene\":{\"xaxis\":{\"backgroundcolor\":\"#E5ECF6\",\"gridcolor\":\"white\",\"linecolor\":\"white\",\"showbackground\":true,\"ticks\":\"\",\"zerolinecolor\":\"white\",\"gridwidth\":2},\"yaxis\":{\"backgroundcolor\":\"#E5ECF6\",\"gridcolor\":\"white\",\"linecolor\":\"white\",\"showbackground\":true,\"ticks\":\"\",\"zerolinecolor\":\"white\",\"gridwidth\":2},\"zaxis\":{\"backgroundcolor\":\"#E5ECF6\",\"gridcolor\":\"white\",\"linecolor\":\"white\",\"showbackground\":true,\"ticks\":\"\",\"zerolinecolor\":\"white\",\"gridwidth\":2}},\"shapedefaults\":{\"line\":{\"color\":\"#2a3f5f\"}},\"annotationdefaults\":{\"arrowcolor\":\"#2a3f5f\",\"arrowhead\":0,\"arrowwidth\":1},\"geo\":{\"bgcolor\":\"white\",\"landcolor\":\"#E5ECF6\",\"subunitcolor\":\"white\",\"showland\":true,\"showlakes\":true,\"lakecolor\":\"white\"},\"title\":{\"x\":0.05},\"mapbox\":{\"style\":\"light\"}}},\"updatemenus\":[{\"buttons\":[{\"args\":[{\"cells\":{\"values\":[[2021,2021,2021,2021,2021,2021,2021,2021,2021,2021,2021,2021,2021,2021,2021,2021,2021,2021,2021,2021,2021,2021,2021,2021,2021,2021,2021,2021,2021,2021,2021,2021,2021,2021,2021,2021,2021,2021,2021,2021,2021,2021,2021,2021,2021,2021,2021,2021,2021,2021,2021,2021,2021,2021,2021,2021,2021,2021,2021,2021,2021,2021,2021,2021,2021,2021,2021,2021,2021,2021,2021,2021,2021,2021,2021,2021,2021,2021,2021,2021,2021,2021,2021,2021,2021,2021,2021,2021,2021,2021,2021,2021,2021,2021,2021,2021,2021,2021,2021,2021,2021,2021,2021,2021,2021,2021,2021,2021,2021,2021,2021,2021,2021,2021,2021,2021,2021,2021,2021,2021,2022,2022,2022,2022,2022,2022,2022,2022,2022,2022,2022,2022,2022,2022,2022,2022,2022,2022,2022,2022,2022,2022,2022,2022,2022,2022,2022,2022,2022,2022,2022,2022,2022,2022,2022,2022,2022,2022,2022,2022,2022,2022,2022,2022,2022,2022,2022,2022,2022,2022,2022,2022,2022,2022,2022,2022,2022,2022,2022,2022,2022,2022,2022,2022,2022,2022,2022,2022,2022,2022,2022,2022,2022,2022,2022,2022,2022,2022,2022,2022,2022,2022,2022,2022,2022,2022,2022,2022,2022,2022,2022,2022,2022,2022,2022,2022,2022,2022,2022,2022,2022,2022,2022,2022,2022,2022,2022,2022,2022,2022,2022,2022,2022,2022,2022,2022,2022,2022,2022,2022,2023,2023,2023,2023,2023,2023,2023,2023,2023,2023,2023,2023,2023,2023,2023,2023,2023,2023,2023,2023,2023,2023,2023,2023,2023,2023,2023,2023,2023,2023],[1,1,1,1,1,1,1,1,1,1,2,2,2,2,2,2,2,2,2,2,3,3,3,3,3,3,3,3,3,3,4,4,4,4,4,4,4,4,4,4,5,5,5,5,5,5,5,5,5,5,6,6,6,6,6,6,6,6,6,6,7,7,7,7,7,7,7,7,7,7,8,8,8,8,8,8,8,8,8,8,9,9,9,9,9,9,9,9,9,9,10,10,10,10,10,10,10,10,10,10,11,11,11,11,11,11,11,11,11,11,12,12,12,12,12,12,12,12,12,12,1,1,1,1,1,1,1,1,1,1,2,2,2,2,2,2,2,2,2,2,3,3,3,3,3,3,3,3,3,3,4,4,4,4,4,4,4,4,4,4,5,5,5,5,5,5,5,5,5,5,6,6,6,6,6,6,6,6,6,6,7,7,7,7,7,7,7,7,7,7,8,8,8,8,8,8,8,8,8,8,9,9,9,9,9,9,9,9,9,9,10,10,10,10,10,10,10,10,10,10,11,11,11,11,11,11,11,11,11,11,12,12,12,12,12,12,12,12,12,12,1,1,1,1,1,1,1,1,1,1,2,2,2,2,2,2,2,2,2,2,3,3,3,3,3,3,3,3,3,3],[\"tattmatte\",\"cruical\",\"alike\",\"straighten\",\"kaleido\",\"frosting\",\"saraxb\",\"repackages\",\"tanvery\",\"directs\",\"tattmatte\",\"alike\",\"straighten\",\"cruical\",\"cakeddry\",\"flavors\",\"kaleido\",\"human\",\"runaround\",\"layeringbuilding\",\"tattmatte\",\"alike\",\"kaleido\",\"straighten\",\"cruical\",\"vidos\",\"allergy\",\"runaround\",\"jogs\",\"sisters\",\"tattmatte\",\"alike\",\"straighten\",\"runaround\",\"kaleido\",\"complicating\",\"saraxb\",\"sisters\",\"professionall\",\"realise\",\"tattmatte\",\"alike\",\"straighten\",\"sisters\",\"frosting\",\"intobuild\",\"minty\",\"saraxb\",\"madness\",\"tackles\",\"tattmatte\",\"alike\",\"straighten\",\"cruical\",\"saraxb\",\"timeexcept\",\"kaleido\",\"camping\",\"inertia\",\"norm\",\"tattmatte\",\"alike\",\"jogs\",\"runaround\",\"straighten\",\"complicating\",\"norm\",\"cruical\",\"kaleido\",\"madness\",\"tattmatte\",\"alike\",\"lookbooks\",\"camping\",\"straighten\",\"jogs\",\"repackages\",\"directs\",\"cruical\",\"saraxb\",\"tattmatte\",\"alike\",\"tinged\",\"cruical\",\"frosting\",\"straighten\",\"opted\",\"knook\",\"directs\",\"curvitude\",\"tattmatte\",\"straighten\",\"runaround\",\"alike\",\"cruical\",\"hyaluronics\",\"kaleido\",\"camping\",\"saraxb\",\"jamata\",\"tattmatte\",\"alike\",\"straighten\",\"kaleido\",\"frosting\",\"saraxb\",\"cruical\",\"shivers\",\"camping\",\"das\",\"tattmatte\",\"straighten\",\"cruical\",\"saraxb\",\"alike\",\"kaleido\",\"directs\",\"inertia\",\"vidos\",\"duane\",\"tattmatte\",\"straighten\",\"alike\",\"kaleido\",\"saraxb\",\"nyxmeh\",\"timeexcept\",\"cruical\",\"vidos\",\"jamata\",\"tattmatte\",\"alike\",\"straighten\",\"saraxb\",\"permanent\",\"camping\",\"kaleido\",\"sisters\",\"frosting\",\"robot\",\"tattmatte\",\"alike\",\"kaleido\",\"cruical\",\"runaround\",\"outs\",\"straighten\",\"bumped\",\"sisters\",\"responder\",\"tattmatte\",\"alike\",\"saraxb\",\"straighten\",\"kaleido\",\"temptation\",\"mil\",\"cruical\",\"creamwhatever\",\"travelsized\",\"tattmatte\",\"alike\",\"straighten\",\"saraxb\",\"kaleido\",\"camping\",\"dewyglowynonmatte\",\"cruical\",\"frosting\",\"directs\",\"tattmatte\",\"alike\",\"kaleido\",\"straighten\",\"jogs\",\"saraxb\",\"numetal\",\"usd\",\"frosting\",\"runaround\",\"tattmatte\",\"alike\",\"kaleido\",\"straighten\",\"tintbase\",\"camping\",\"horrendous\",\"shivers\",\"lustreglass\",\"sisters\",\"kaleido\",\"tattmatte\",\"alike\",\"camping\",\"straighten\",\"sisters\",\"saraxb\",\"lookbooks\",\"cruical\",\"furnature\",\"tattmatte\",\"alike\",\"kaleido\",\"straighten\",\"saraxb\",\"camping\",\"laura\",\"sisters\",\"responder\",\"shivers\",\"tattmatte\",\"alike\",\"kaleido\",\"straighten\",\"saraxb\",\"sisters\",\"spoilers\",\"runaround\",\"professionall\",\"cruical\",\"tattmatte\",\"alike\",\"kaleido\",\"cruical\",\"straighten\",\"bumped\",\"directs\",\"lookbooks\",\"runaround\",\"jogs\",\"tattmatte\",\"alike\",\"straighten\",\"saraxb\",\"lookbooks\",\"kaleido\",\"cruical\",\"frosting\",\"wasteland\",\"coupled\",\"tattmatte\",\"alike\",\"straighten\",\"kaleido\",\"cruical\",\"directs\",\"lookbooks\",\"jogs\",\"sisters\",\"professionall\",\"tattmatte\",\"alike\",\"straighten\",\"kaleido\",\"lookbooks\",\"tuts\",\"repackages\",\"perk\",\"jamata\",\"khalo\",\"tattmatte\",\"alike\",\"straighten\",\"directs\",\"kaleido\",\"cruical\",\"runaround\",\"repackages\",\"temptation\",\"lookbooks\"],[27,14,12,8,8,7,6,6,5,5,26,12,12,11,7,7,7,7,6,6,23,20,13,10,8,6,5,5,5,5,37,18,12,9,8,8,7,5,5,5,22,10,7,5,5,5,4,4,4,4,28,11,8,7,7,7,6,4,4,4,34,15,7,7,6,6,5,5,5,4,19,14,8,8,7,6,5,5,5,5,21,18,9,8,8,7,6,6,5,5,24,10,9,9,7,5,5,4,4,4,21,12,8,8,6,6,6,5,4,4,18,13,9,9,9,8,5,5,5,5,22,13,12,11,7,6,6,6,6,5,39,20,8,7,6,6,6,5,5,5,42,20,14,11,10,8,7,6,6,6,42,24,13,13,8,6,6,6,6,5,41,27,22,10,9,7,6,6,6,6,21,18,12,8,6,6,5,5,5,5,22,20,11,10,6,6,6,6,5,5,22,20,13,12,12,10,8,8,8,7,24,19,17,13,10,9,7,7,6,6,38,30,14,13,12,10,9,9,9,9,22,19,18,10,9,8,8,7,7,6,39,28,16,14,14,14,10,10,9,9,42,34,23,21,21,12,11,10,10,10,54,39,29,20,10,10,9,9,8,8,48,31,30,13,12,12,10,10,10,9]]}}],\"label\":\"Select All\",\"method\":\"update\"},{\"args\":[{\"cells\":{\"values\":[[2021,2021,2021,2021,2021,2021,2021,2021,2021,2021],[1,1,1,1,1,1,1,1,1,1],[\"tattmatte\",\"cruical\",\"alike\",\"straighten\",\"kaleido\",\"frosting\",\"saraxb\",\"repackages\",\"tanvery\",\"directs\"],[27,14,12,8,8,7,6,6,5,5]]}}],\"label\":\"2021-1\",\"method\":\"update\"},{\"args\":[{\"cells\":{\"values\":[[2021,2021,2021,2021,2021,2021,2021,2021,2021,2021],[2,2,2,2,2,2,2,2,2,2],[\"tattmatte\",\"alike\",\"straighten\",\"cruical\",\"cakeddry\",\"flavors\",\"kaleido\",\"human\",\"runaround\",\"layeringbuilding\"],[26,12,12,11,7,7,7,7,6,6]]}}],\"label\":\"2021-2\",\"method\":\"update\"},{\"args\":[{\"cells\":{\"values\":[[2021,2021,2021,2021,2021,2021,2021,2021,2021,2021],[3,3,3,3,3,3,3,3,3,3],[\"tattmatte\",\"alike\",\"kaleido\",\"straighten\",\"cruical\",\"vidos\",\"allergy\",\"runaround\",\"jogs\",\"sisters\"],[23,20,13,10,8,6,5,5,5,5]]}}],\"label\":\"2021-3\",\"method\":\"update\"},{\"args\":[{\"cells\":{\"values\":[[2021,2021,2021,2021,2021,2021,2021,2021,2021,2021],[4,4,4,4,4,4,4,4,4,4],[\"tattmatte\",\"alike\",\"straighten\",\"runaround\",\"kaleido\",\"complicating\",\"saraxb\",\"sisters\",\"professionall\",\"realise\"],[37,18,12,9,8,8,7,5,5,5]]}}],\"label\":\"2021-4\",\"method\":\"update\"},{\"args\":[{\"cells\":{\"values\":[[2021,2021,2021,2021,2021,2021,2021,2021,2021,2021],[5,5,5,5,5,5,5,5,5,5],[\"tattmatte\",\"alike\",\"straighten\",\"sisters\",\"frosting\",\"intobuild\",\"minty\",\"saraxb\",\"madness\",\"tackles\"],[22,10,7,5,5,5,4,4,4,4]]}}],\"label\":\"2021-5\",\"method\":\"update\"},{\"args\":[{\"cells\":{\"values\":[[2021,2021,2021,2021,2021,2021,2021,2021,2021,2021],[6,6,6,6,6,6,6,6,6,6],[\"tattmatte\",\"alike\",\"straighten\",\"cruical\",\"saraxb\",\"timeexcept\",\"kaleido\",\"camping\",\"inertia\",\"norm\"],[28,11,8,7,7,7,6,4,4,4]]}}],\"label\":\"2021-6\",\"method\":\"update\"},{\"args\":[{\"cells\":{\"values\":[[2021,2021,2021,2021,2021,2021,2021,2021,2021,2021],[7,7,7,7,7,7,7,7,7,7],[\"tattmatte\",\"alike\",\"jogs\",\"runaround\",\"straighten\",\"complicating\",\"norm\",\"cruical\",\"kaleido\",\"madness\"],[34,15,7,7,6,6,5,5,5,4]]}}],\"label\":\"2021-7\",\"method\":\"update\"},{\"args\":[{\"cells\":{\"values\":[[2021,2021,2021,2021,2021,2021,2021,2021,2021,2021],[8,8,8,8,8,8,8,8,8,8],[\"tattmatte\",\"alike\",\"lookbooks\",\"camping\",\"straighten\",\"jogs\",\"repackages\",\"directs\",\"cruical\",\"saraxb\"],[19,14,8,8,7,6,5,5,5,5]]}}],\"label\":\"2021-8\",\"method\":\"update\"},{\"args\":[{\"cells\":{\"values\":[[2021,2021,2021,2021,2021,2021,2021,2021,2021,2021],[9,9,9,9,9,9,9,9,9,9],[\"tattmatte\",\"alike\",\"tinged\",\"cruical\",\"frosting\",\"straighten\",\"opted\",\"knook\",\"directs\",\"curvitude\"],[21,18,9,8,8,7,6,6,5,5]]}}],\"label\":\"2021-9\",\"method\":\"update\"},{\"args\":[{\"cells\":{\"values\":[[2021,2021,2021,2021,2021,2021,2021,2021,2021,2021],[10,10,10,10,10,10,10,10,10,10],[\"tattmatte\",\"straighten\",\"runaround\",\"alike\",\"cruical\",\"hyaluronics\",\"kaleido\",\"camping\",\"saraxb\",\"jamata\"],[24,10,9,9,7,5,5,4,4,4]]}}],\"label\":\"2021-10\",\"method\":\"update\"},{\"args\":[{\"cells\":{\"values\":[[2021,2021,2021,2021,2021,2021,2021,2021,2021,2021],[11,11,11,11,11,11,11,11,11,11],[\"tattmatte\",\"alike\",\"straighten\",\"kaleido\",\"frosting\",\"saraxb\",\"cruical\",\"shivers\",\"camping\",\"das\"],[21,12,8,8,6,6,6,5,4,4]]}}],\"label\":\"2021-11\",\"method\":\"update\"},{\"args\":[{\"cells\":{\"values\":[[2021,2021,2021,2021,2021,2021,2021,2021,2021,2021],[12,12,12,12,12,12,12,12,12,12],[\"tattmatte\",\"straighten\",\"cruical\",\"saraxb\",\"alike\",\"kaleido\",\"directs\",\"inertia\",\"vidos\",\"duane\"],[18,13,9,9,9,8,5,5,5,5]]}}],\"label\":\"2021-12\",\"method\":\"update\"},{\"args\":[{\"cells\":{\"values\":[[2022,2022,2022,2022,2022,2022,2022,2022,2022,2022],[1,1,1,1,1,1,1,1,1,1],[\"tattmatte\",\"straighten\",\"alike\",\"kaleido\",\"saraxb\",\"nyxmeh\",\"timeexcept\",\"cruical\",\"vidos\",\"jamata\"],[22,13,12,11,7,6,6,6,6,5]]}}],\"label\":\"2022-1\",\"method\":\"update\"},{\"args\":[{\"cells\":{\"values\":[[2022,2022,2022,2022,2022,2022,2022,2022,2022,2022],[2,2,2,2,2,2,2,2,2,2],[\"tattmatte\",\"alike\",\"straighten\",\"saraxb\",\"permanent\",\"camping\",\"kaleido\",\"sisters\",\"frosting\",\"robot\"],[39,20,8,7,6,6,6,5,5,5]]}}],\"label\":\"2022-2\",\"method\":\"update\"},{\"args\":[{\"cells\":{\"values\":[[2022,2022,2022,2022,2022,2022,2022,2022,2022,2022],[3,3,3,3,3,3,3,3,3,3],[\"tattmatte\",\"alike\",\"kaleido\",\"cruical\",\"runaround\",\"outs\",\"straighten\",\"bumped\",\"sisters\",\"responder\"],[42,20,14,11,10,8,7,6,6,6]]}}],\"label\":\"2022-3\",\"method\":\"update\"},{\"args\":[{\"cells\":{\"values\":[[2022,2022,2022,2022,2022,2022,2022,2022,2022,2022],[4,4,4,4,4,4,4,4,4,4],[\"tattmatte\",\"alike\",\"saraxb\",\"straighten\",\"kaleido\",\"temptation\",\"mil\",\"cruical\",\"creamwhatever\",\"travelsized\"],[42,24,13,13,8,6,6,6,6,5]]}}],\"label\":\"2022-4\",\"method\":\"update\"},{\"args\":[{\"cells\":{\"values\":[[2022,2022,2022,2022,2022,2022,2022,2022,2022,2022],[5,5,5,5,5,5,5,5,5,5],[\"tattmatte\",\"alike\",\"straighten\",\"saraxb\",\"kaleido\",\"camping\",\"dewyglowynonmatte\",\"cruical\",\"frosting\",\"directs\"],[41,27,22,10,9,7,6,6,6,6]]}}],\"label\":\"2022-5\",\"method\":\"update\"},{\"args\":[{\"cells\":{\"values\":[[2022,2022,2022,2022,2022,2022,2022,2022,2022,2022],[6,6,6,6,6,6,6,6,6,6],[\"tattmatte\",\"alike\",\"kaleido\",\"straighten\",\"jogs\",\"saraxb\",\"numetal\",\"usd\",\"frosting\",\"runaround\"],[21,18,12,8,6,6,5,5,5,5]]}}],\"label\":\"2022-6\",\"method\":\"update\"},{\"args\":[{\"cells\":{\"values\":[[2022,2022,2022,2022,2022,2022,2022,2022,2022,2022],[7,7,7,7,7,7,7,7,7,7],[\"tattmatte\",\"alike\",\"kaleido\",\"straighten\",\"tintbase\",\"camping\",\"horrendous\",\"shivers\",\"lustreglass\",\"sisters\"],[22,20,11,10,6,6,6,6,5,5]]}}],\"label\":\"2022-7\",\"method\":\"update\"},{\"args\":[{\"cells\":{\"values\":[[2022,2022,2022,2022,2022,2022,2022,2022,2022,2022],[8,8,8,8,8,8,8,8,8,8],[\"kaleido\",\"tattmatte\",\"alike\",\"camping\",\"straighten\",\"sisters\",\"saraxb\",\"lookbooks\",\"cruical\",\"furnature\"],[22,20,13,12,12,10,8,8,8,7]]}}],\"label\":\"2022-8\",\"method\":\"update\"},{\"args\":[{\"cells\":{\"values\":[[2022,2022,2022,2022,2022,2022,2022,2022,2022,2022],[9,9,9,9,9,9,9,9,9,9],[\"tattmatte\",\"alike\",\"kaleido\",\"straighten\",\"saraxb\",\"camping\",\"laura\",\"sisters\",\"responder\",\"shivers\"],[24,19,17,13,10,9,7,7,6,6]]}}],\"label\":\"2022-9\",\"method\":\"update\"},{\"args\":[{\"cells\":{\"values\":[[2022,2022,2022,2022,2022,2022,2022,2022,2022,2022],[10,10,10,10,10,10,10,10,10,10],[\"tattmatte\",\"alike\",\"kaleido\",\"straighten\",\"saraxb\",\"sisters\",\"spoilers\",\"runaround\",\"professionall\",\"cruical\"],[38,30,14,13,12,10,9,9,9,9]]}}],\"label\":\"2022-10\",\"method\":\"update\"},{\"args\":[{\"cells\":{\"values\":[[2022,2022,2022,2022,2022,2022,2022,2022,2022,2022],[11,11,11,11,11,11,11,11,11,11],[\"tattmatte\",\"alike\",\"kaleido\",\"cruical\",\"straighten\",\"bumped\",\"directs\",\"lookbooks\",\"runaround\",\"jogs\"],[22,19,18,10,9,8,8,7,7,6]]}}],\"label\":\"2022-11\",\"method\":\"update\"},{\"args\":[{\"cells\":{\"values\":[[2022,2022,2022,2022,2022,2022,2022,2022,2022,2022],[12,12,12,12,12,12,12,12,12,12],[\"tattmatte\",\"alike\",\"straighten\",\"saraxb\",\"lookbooks\",\"kaleido\",\"cruical\",\"frosting\",\"wasteland\",\"coupled\"],[39,28,16,14,14,14,10,10,9,9]]}}],\"label\":\"2022-12\",\"method\":\"update\"},{\"args\":[{\"cells\":{\"values\":[[2023,2023,2023,2023,2023,2023,2023,2023,2023,2023],[1,1,1,1,1,1,1,1,1,1],[\"tattmatte\",\"alike\",\"straighten\",\"kaleido\",\"cruical\",\"directs\",\"lookbooks\",\"jogs\",\"sisters\",\"professionall\"],[42,34,23,21,21,12,11,10,10,10]]}}],\"label\":\"2023-1\",\"method\":\"update\"},{\"args\":[{\"cells\":{\"values\":[[2023,2023,2023,2023,2023,2023,2023,2023,2023,2023],[2,2,2,2,2,2,2,2,2,2],[\"tattmatte\",\"alike\",\"straighten\",\"kaleido\",\"lookbooks\",\"tuts\",\"repackages\",\"perk\",\"jamata\",\"khalo\"],[54,39,29,20,10,10,9,9,8,8]]}}],\"label\":\"2023-2\",\"method\":\"update\"},{\"args\":[{\"cells\":{\"values\":[[2023,2023,2023,2023,2023,2023,2023,2023,2023,2023],[3,3,3,3,3,3,3,3,3,3],[\"tattmatte\",\"alike\",\"straighten\",\"directs\",\"kaleido\",\"cruical\",\"runaround\",\"repackages\",\"temptation\",\"lookbooks\"],[48,31,30,13,12,12,10,10,10,9]]}}],\"label\":\"2023-3\",\"method\":\"update\"},{\"args\":[{\"cells\":{\"values\":[[],[],[],[]]}}],\"label\":\"2023-4\",\"method\":\"update\"},{\"args\":[{\"cells\":{\"values\":[[],[],[],[]]}}],\"label\":\"2023-5\",\"method\":\"update\"},{\"args\":[{\"cells\":{\"values\":[[],[],[],[]]}}],\"label\":\"2023-6\",\"method\":\"update\"},{\"args\":[{\"cells\":{\"values\":[[],[],[],[]]}}],\"label\":\"2023-7\",\"method\":\"update\"},{\"args\":[{\"cells\":{\"values\":[[],[],[],[]]}}],\"label\":\"2023-8\",\"method\":\"update\"},{\"args\":[{\"cells\":{\"values\":[[],[],[],[]]}}],\"label\":\"2023-9\",\"method\":\"update\"},{\"args\":[{\"cells\":{\"values\":[[],[],[],[]]}}],\"label\":\"2023-10\",\"method\":\"update\"},{\"args\":[{\"cells\":{\"values\":[[],[],[],[]]}}],\"label\":\"2023-11\",\"method\":\"update\"},{\"args\":[{\"cells\":{\"values\":[[],[],[],[]]}}],\"label\":\"2023-12\",\"method\":\"update\"}],\"direction\":\"down\",\"showactive\":true,\"x\":0.1,\"xanchor\":\"left\",\"y\":1.2,\"yanchor\":\"top\"}],\"title\":{\"text\":\"Top 10 Terms by Month and Year\"}},                        {\"responsive\": true}                    ).then(function(){\n",
       "                            \n",
       "var gd = document.getElementById('3051cd1f-d98f-488a-a24a-2d3c4a5c1ae7');\n",
       "var x = new MutationObserver(function (mutations, observer) {{\n",
       "        var display = window.getComputedStyle(gd).display;\n",
       "        if (!display || display === 'none') {{\n",
       "            console.log([gd, 'removed!']);\n",
       "            Plotly.purge(gd);\n",
       "            observer.disconnect();\n",
       "        }}\n",
       "}});\n",
       "\n",
       "// Listen for the removal of the full notebook cells\n",
       "var notebookContainer = gd.closest('#notebook-container');\n",
       "if (notebookContainer) {{\n",
       "    x.observe(notebookContainer, {childList: true});\n",
       "}}\n",
       "\n",
       "// Listen for the clearing of the current output cell\n",
       "var outputEl = gd.closest('.output');\n",
       "if (outputEl) {{\n",
       "    x.observe(outputEl, {childList: true});\n",
       "}}\n",
       "\n",
       "                        })                };                });            </script>        </div>"
      ]
     },
     "metadata": {},
     "output_type": "display_data"
    }
   ],
   "source": [
    "import pandas as pd\n",
    "import plotly.graph_objects as go\n",
    "# Sort DataFrame by year, month, and count for visualization and filter for top 10 terms each month\n",
    "pdf_top_terms_monthly_sorted = pdf_top_terms_monthly.sort_values(by=['year', 'month', 'count'], ascending=[True, True, False])\n",
    "pdf_top_terms_monthly_top10 = pdf_top_terms_monthly_sorted.groupby(['year', 'month']).head(10)\n",
    "pdf_top_terms_monthly_top10.to_csv('../../data/csv/top10_popular_words.csv', index=False)\n",
    "\n",
    "# Initialize the figure\n",
    "fig = go.Figure()\n",
    "\n",
    "# Add the table to the figure with the sorted data\n",
    "fig.add_trace(go.Table(\n",
    "    header=dict(values=['Year', 'Month', 'Term', 'Count'], fill_color='paleturquoise'),\n",
    "    cells=dict(values=[pdf_top_terms_monthly_top10.year, \n",
    "                       pdf_top_terms_monthly_top10.month, \n",
    "                       pdf_top_terms_monthly_top10.term, \n",
    "                       pdf_top_terms_monthly_top10['count']], fill_color='lavender')\n",
    "))\n",
    "\n",
    "# Function to create a filter button\n",
    "def create_filter_button(year, month):\n",
    "    # Filter data based on year and month\n",
    "    filtered_data = pdf_top_terms_monthly_top10[\n",
    "        (pdf_top_terms_monthly_top10['year'] == year) & \n",
    "        (pdf_top_terms_monthly_top10['month'] == month)\n",
    "    ]\n",
    "    \n",
    "    # Create a button for the filter\n",
    "    return dict(\n",
    "        label=f\"{year}-{month}\",\n",
    "        method=\"update\",\n",
    "        args=[{\"cells\": {\"values\": [filtered_data.year, \n",
    "                                    filtered_data.month, \n",
    "                                    filtered_data.term, \n",
    "                                    filtered_data['count']]}}],\n",
    "    )\n",
    "\n",
    "# Add a button for selecting all data\n",
    "def create_select_all_button():\n",
    "    return dict(\n",
    "        label=\"Select All\",\n",
    "        method=\"update\",\n",
    "        args=[{\"cells\": {\"values\": [pdf_top_terms_monthly_top10.year, \n",
    "                                    pdf_top_terms_monthly_top10.month, \n",
    "                                    pdf_top_terms_monthly_top10.term, \n",
    "                                    pdf_top_terms_monthly_top10['count']]}}],\n",
    "    )\n",
    "\n",
    "# Create filter buttons for each year and month combination, plus the 'Select All' option\n",
    "buttons = [create_select_all_button()] + [\n",
    "    create_filter_button(year, month)\n",
    "    for year in sorted(pdf_top_terms_monthly_top10['year'].unique())\n",
    "    for month in sorted(pdf_top_terms_monthly_top10['month'].unique())\n",
    "]\n",
    "\n",
    "# Add dropdown menu with buttons\n",
    "fig.update_layout(\n",
    "    updatemenus=[{\n",
    "        \"buttons\": buttons,\n",
    "        \"direction\": \"down\",\n",
    "        \"showactive\": True,\n",
    "        \"x\": 0.1,\n",
    "        \"xanchor\": \"left\",\n",
    "        \"y\": 1.2,\n",
    "        \"yanchor\": \"top\"\n",
    "    }],\n",
    "    title=\"Top 10 Terms by Month and Year\"\n",
    ")\n",
    "\n",
    "# Show the figure\n",
    "fig.show()\n",
    "\n",
    "# Save the Plotly figure to an HTML file\n",
    "html_file_path = '../../data/plots/nlp_yyl/top_terms_monthly_figure.html'  # Adjust the path as needed\n",
    "fig.write_html(html_file_path)\n",
    "\n"
   ]
  },
  {
   "cell_type": "markdown",
   "id": "f28885bd-10f9-4e0d-9bf6-b3c02e232ea2",
   "metadata": {},
   "source": [
    "\"Tattmatte\": This term consistently appears across multiple months and years. It could refer to a specific product, brand, or makeup technique that has sustained popularity in the community. Investigating the context in which \"Tattmatte\" is mentioned could provide insights into why it's so prevalent.\n",
    "\n",
    "Seasonal Trends: Terms like \"kaleido\" and \"straighten\" appear regularly, hinting at ongoing trends or interests. \"Kaleido\" might refer to a color palette or style that is seasonally relevant, while \"straighten\" could relate to a makeup technique or tool.\n",
    "\n",
    "Emerging Trends: The appearance of terms like \"temptation,\" \"lookbooks,\" and \"repackages\" in later years (2023) suggests new topics or products gaining traction. These could be related to new product launches or emerging makeup styles.\n",
    "\n",
    "Yearly Comparisons: Terms such as \"alike\" and \"cruical\" show significant counts across years, indicating long-term interests or ongoing discussions in the community. Understanding the context of these terms could reveal whether they relate to product types, makeup techniques, or community-specific topics.\n",
    "\n",
    "Specific Interests: Unique terms that appear in certain months but not others could signify time-bound events or discussions. For instance, \"runaround\" and \"jogs\" might be related to seasonal activities influencing makeup choices or could be names of specific products that were popular during those times.\n",
    "\n",
    "User Engagement: The frequency of term mentions can be a measure of engagement or interest levels in specific topics. Higher counts indicate more active discussions or questions about those terms.\n",
    "\n",
    "Contextual Analysis: To fully understand why certain terms are popular, it's essential to read the posts and threads where these terms appear. This will provide context – whether they're discussing new products, sharing makeup techniques, or focusing on brand reviews.\n",
    "\n",
    "Impact of External Factors: Some terms may gain popularity due to external influences like viral social media content, celebrity endorsements, or shifts in the beauty industry."
   ]
  },
  {
   "cell_type": "code",
   "execution_count": 37,
   "id": "f42242fa-ae02-4306-abd0-fc2920713ebf",
   "metadata": {},
   "outputs": [
    {
     "data": {
      "application/vnd.plotly.v1+json": {
       "config": {
        "plotlyServerURL": "https://plot.ly"
       },
       "data": [
        {
         "mode": "lines+markers",
         "name": "tattmatte",
         "type": "scatter",
         "visible": true,
         "x": [
          "2021-01-01T00:00:00",
          "2021-02-01T00:00:00",
          "2021-03-01T00:00:00",
          "2021-04-01T00:00:00",
          "2021-05-01T00:00:00",
          "2021-06-01T00:00:00",
          "2021-07-01T00:00:00",
          "2021-08-01T00:00:00",
          "2021-09-01T00:00:00",
          "2021-10-01T00:00:00",
          "2021-11-01T00:00:00",
          "2021-12-01T00:00:00",
          "2022-01-01T00:00:00",
          "2022-02-01T00:00:00",
          "2022-03-01T00:00:00",
          "2022-04-01T00:00:00",
          "2022-05-01T00:00:00",
          "2022-06-01T00:00:00",
          "2022-07-01T00:00:00",
          "2022-08-01T00:00:00",
          "2022-09-01T00:00:00",
          "2022-10-01T00:00:00",
          "2022-11-01T00:00:00",
          "2022-12-01T00:00:00",
          "2023-01-01T00:00:00",
          "2023-02-01T00:00:00",
          "2023-03-01T00:00:00"
         ],
         "y": [
          27,
          26,
          23,
          37,
          22,
          28,
          34,
          19,
          21,
          24,
          21,
          18,
          22,
          39,
          42,
          42,
          41,
          21,
          22,
          20,
          24,
          38,
          22,
          39,
          42,
          54,
          48
         ]
        },
        {
         "mode": "lines+markers",
         "name": "alike",
         "type": "scatter",
         "visible": false,
         "x": [
          "2021-01-01T00:00:00",
          "2021-02-01T00:00:00",
          "2021-03-01T00:00:00",
          "2021-04-01T00:00:00",
          "2021-05-01T00:00:00",
          "2021-06-01T00:00:00",
          "2021-07-01T00:00:00",
          "2021-08-01T00:00:00",
          "2021-09-01T00:00:00",
          "2021-10-01T00:00:00",
          "2021-11-01T00:00:00",
          "2021-12-01T00:00:00",
          "2022-01-01T00:00:00",
          "2022-02-01T00:00:00",
          "2022-03-01T00:00:00",
          "2022-04-01T00:00:00",
          "2022-05-01T00:00:00",
          "2022-06-01T00:00:00",
          "2022-07-01T00:00:00",
          "2022-08-01T00:00:00",
          "2022-09-01T00:00:00",
          "2022-10-01T00:00:00",
          "2022-11-01T00:00:00",
          "2022-12-01T00:00:00",
          "2023-01-01T00:00:00",
          "2023-02-01T00:00:00",
          "2023-03-01T00:00:00"
         ],
         "y": [
          12,
          12,
          20,
          18,
          10,
          11,
          15,
          14,
          18,
          9,
          12,
          9,
          12,
          20,
          20,
          24,
          27,
          18,
          20,
          13,
          19,
          30,
          19,
          28,
          34,
          39,
          31
         ]
        },
        {
         "mode": "lines+markers",
         "name": "straighten",
         "type": "scatter",
         "visible": false,
         "x": [
          "2021-01-01T00:00:00",
          "2021-02-01T00:00:00",
          "2021-03-01T00:00:00",
          "2021-04-01T00:00:00",
          "2021-05-01T00:00:00",
          "2021-06-01T00:00:00",
          "2021-07-01T00:00:00",
          "2021-08-01T00:00:00",
          "2021-09-01T00:00:00",
          "2021-10-01T00:00:00",
          "2021-11-01T00:00:00",
          "2021-12-01T00:00:00",
          "2022-01-01T00:00:00",
          "2022-02-01T00:00:00",
          "2022-03-01T00:00:00",
          "2022-04-01T00:00:00",
          "2022-05-01T00:00:00",
          "2022-06-01T00:00:00",
          "2022-07-01T00:00:00",
          "2022-08-01T00:00:00",
          "2022-09-01T00:00:00",
          "2022-10-01T00:00:00",
          "2022-11-01T00:00:00",
          "2022-12-01T00:00:00",
          "2023-01-01T00:00:00",
          "2023-02-01T00:00:00",
          "2023-03-01T00:00:00"
         ],
         "y": [
          8,
          12,
          10,
          12,
          7,
          8,
          6,
          7,
          7,
          10,
          8,
          13,
          13,
          8,
          7,
          13,
          22,
          8,
          10,
          12,
          13,
          13,
          9,
          16,
          23,
          29,
          30
         ]
        },
        {
         "mode": "lines+markers",
         "name": "kaleido",
         "type": "scatter",
         "visible": false,
         "x": [
          "2021-01-01T00:00:00",
          "2021-02-01T00:00:00",
          "2021-03-01T00:00:00",
          "2021-04-01T00:00:00",
          "2021-06-01T00:00:00",
          "2021-07-01T00:00:00",
          "2021-10-01T00:00:00",
          "2021-11-01T00:00:00",
          "2021-12-01T00:00:00",
          "2022-01-01T00:00:00",
          "2022-02-01T00:00:00",
          "2022-03-01T00:00:00",
          "2022-04-01T00:00:00",
          "2022-05-01T00:00:00",
          "2022-06-01T00:00:00",
          "2022-07-01T00:00:00",
          "2022-08-01T00:00:00",
          "2022-09-01T00:00:00",
          "2022-10-01T00:00:00",
          "2022-11-01T00:00:00",
          "2022-12-01T00:00:00",
          "2023-01-01T00:00:00",
          "2023-02-01T00:00:00",
          "2023-03-01T00:00:00"
         ],
         "y": [
          8,
          7,
          13,
          8,
          6,
          5,
          5,
          8,
          8,
          11,
          6,
          14,
          8,
          9,
          12,
          11,
          22,
          17,
          14,
          18,
          14,
          21,
          20,
          12
         ]
        },
        {
         "mode": "lines+markers",
         "name": "cruical",
         "type": "scatter",
         "visible": false,
         "x": [
          "2021-01-01T00:00:00",
          "2021-02-01T00:00:00",
          "2021-03-01T00:00:00",
          "2021-06-01T00:00:00",
          "2021-07-01T00:00:00",
          "2021-08-01T00:00:00",
          "2021-09-01T00:00:00",
          "2021-10-01T00:00:00",
          "2021-11-01T00:00:00",
          "2021-12-01T00:00:00",
          "2022-01-01T00:00:00",
          "2022-03-01T00:00:00",
          "2022-04-01T00:00:00",
          "2022-05-01T00:00:00",
          "2022-08-01T00:00:00",
          "2022-10-01T00:00:00",
          "2022-11-01T00:00:00",
          "2022-12-01T00:00:00",
          "2023-01-01T00:00:00",
          "2023-03-01T00:00:00"
         ],
         "y": [
          14,
          11,
          8,
          7,
          5,
          5,
          8,
          7,
          6,
          9,
          6,
          11,
          6,
          6,
          8,
          9,
          10,
          10,
          21,
          12
         ]
        },
        {
         "mode": "lines+markers",
         "name": "saraxb",
         "type": "scatter",
         "visible": false,
         "x": [
          "2021-01-01T00:00:00",
          "2021-04-01T00:00:00",
          "2021-05-01T00:00:00",
          "2021-06-01T00:00:00",
          "2021-08-01T00:00:00",
          "2021-10-01T00:00:00",
          "2021-11-01T00:00:00",
          "2021-12-01T00:00:00",
          "2022-01-01T00:00:00",
          "2022-02-01T00:00:00",
          "2022-04-01T00:00:00",
          "2022-05-01T00:00:00",
          "2022-06-01T00:00:00",
          "2022-08-01T00:00:00",
          "2022-09-01T00:00:00",
          "2022-10-01T00:00:00",
          "2022-12-01T00:00:00"
         ],
         "y": [
          6,
          7,
          4,
          7,
          5,
          4,
          6,
          9,
          7,
          7,
          13,
          10,
          6,
          8,
          10,
          12,
          14
         ]
        },
        {
         "mode": "lines+markers",
         "name": "runaround",
         "type": "scatter",
         "visible": false,
         "x": [
          "2021-02-01T00:00:00",
          "2021-03-01T00:00:00",
          "2021-04-01T00:00:00",
          "2021-07-01T00:00:00",
          "2021-10-01T00:00:00",
          "2022-03-01T00:00:00",
          "2022-06-01T00:00:00",
          "2022-10-01T00:00:00",
          "2022-11-01T00:00:00",
          "2023-03-01T00:00:00"
         ],
         "y": [
          6,
          5,
          9,
          7,
          9,
          10,
          5,
          9,
          7,
          10
         ]
        },
        {
         "mode": "lines+markers",
         "name": "sisters",
         "type": "scatter",
         "visible": false,
         "x": [
          "2021-03-01T00:00:00",
          "2021-04-01T00:00:00",
          "2021-05-01T00:00:00",
          "2022-02-01T00:00:00",
          "2022-03-01T00:00:00",
          "2022-07-01T00:00:00",
          "2022-08-01T00:00:00",
          "2022-09-01T00:00:00",
          "2022-10-01T00:00:00",
          "2023-01-01T00:00:00"
         ],
         "y": [
          5,
          5,
          5,
          5,
          6,
          5,
          10,
          7,
          10,
          10
         ]
        },
        {
         "mode": "lines+markers",
         "name": "lookbooks",
         "type": "scatter",
         "visible": false,
         "x": [
          "2021-08-01T00:00:00",
          "2022-08-01T00:00:00",
          "2022-11-01T00:00:00",
          "2022-12-01T00:00:00",
          "2023-01-01T00:00:00",
          "2023-02-01T00:00:00",
          "2023-03-01T00:00:00"
         ],
         "y": [
          8,
          8,
          7,
          14,
          11,
          10,
          9
         ]
        },
        {
         "mode": "lines+markers",
         "name": "camping",
         "type": "scatter",
         "visible": false,
         "x": [
          "2021-06-01T00:00:00",
          "2021-08-01T00:00:00",
          "2021-10-01T00:00:00",
          "2021-11-01T00:00:00",
          "2022-02-01T00:00:00",
          "2022-05-01T00:00:00",
          "2022-07-01T00:00:00",
          "2022-08-01T00:00:00",
          "2022-09-01T00:00:00"
         ],
         "y": [
          4,
          8,
          4,
          4,
          6,
          7,
          6,
          12,
          9
         ]
        },
        {
         "mode": "lines+markers",
         "name": "directs",
         "type": "scatter",
         "visible": false,
         "x": [
          "2021-01-01T00:00:00",
          "2021-08-01T00:00:00",
          "2021-09-01T00:00:00",
          "2021-12-01T00:00:00",
          "2022-05-01T00:00:00",
          "2022-11-01T00:00:00",
          "2023-01-01T00:00:00",
          "2023-03-01T00:00:00"
         ],
         "y": [
          5,
          5,
          5,
          5,
          6,
          8,
          12,
          13
         ]
        },
        {
         "mode": "lines+markers",
         "name": "frosting",
         "type": "scatter",
         "visible": false,
         "x": [
          "2021-01-01T00:00:00",
          "2021-05-01T00:00:00",
          "2021-09-01T00:00:00",
          "2021-11-01T00:00:00",
          "2022-02-01T00:00:00",
          "2022-05-01T00:00:00",
          "2022-06-01T00:00:00",
          "2022-12-01T00:00:00"
         ],
         "y": [
          7,
          5,
          8,
          6,
          5,
          6,
          5,
          10
         ]
        },
        {
         "mode": "lines+markers",
         "name": "jogs",
         "type": "scatter",
         "visible": false,
         "x": [
          "2021-03-01T00:00:00",
          "2021-07-01T00:00:00",
          "2021-08-01T00:00:00",
          "2022-06-01T00:00:00",
          "2022-11-01T00:00:00",
          "2023-01-01T00:00:00"
         ],
         "y": [
          5,
          7,
          6,
          6,
          6,
          10
         ]
        },
        {
         "mode": "lines+markers",
         "name": "repackages",
         "type": "scatter",
         "visible": false,
         "x": [
          "2021-01-01T00:00:00",
          "2021-08-01T00:00:00",
          "2023-02-01T00:00:00",
          "2023-03-01T00:00:00"
         ],
         "y": [
          6,
          5,
          9,
          10
         ]
        },
        {
         "mode": "lines+markers",
         "name": "professionall",
         "type": "scatter",
         "visible": false,
         "x": [
          "2021-04-01T00:00:00",
          "2022-10-01T00:00:00",
          "2023-01-01T00:00:00"
         ],
         "y": [
          5,
          9,
          10
         ]
        },
        {
         "mode": "lines+markers",
         "name": "jamata",
         "type": "scatter",
         "visible": false,
         "x": [
          "2021-10-01T00:00:00",
          "2022-01-01T00:00:00",
          "2023-02-01T00:00:00"
         ],
         "y": [
          4,
          5,
          8
         ]
        },
        {
         "mode": "lines+markers",
         "name": "shivers",
         "type": "scatter",
         "visible": false,
         "x": [
          "2021-11-01T00:00:00",
          "2022-07-01T00:00:00",
          "2022-09-01T00:00:00"
         ],
         "y": [
          5,
          6,
          6
         ]
        },
        {
         "mode": "lines+markers",
         "name": "vidos",
         "type": "scatter",
         "visible": false,
         "x": [
          "2021-03-01T00:00:00",
          "2021-12-01T00:00:00",
          "2022-01-01T00:00:00"
         ],
         "y": [
          6,
          5,
          6
         ]
        },
        {
         "mode": "lines+markers",
         "name": "temptation",
         "type": "scatter",
         "visible": false,
         "x": [
          "2022-04-01T00:00:00",
          "2023-03-01T00:00:00"
         ],
         "y": [
          6,
          10
         ]
        },
        {
         "mode": "lines+markers",
         "name": "complicating",
         "type": "scatter",
         "visible": false,
         "x": [
          "2021-04-01T00:00:00",
          "2021-07-01T00:00:00"
         ],
         "y": [
          8,
          6
         ]
        }
       ],
       "layout": {
        "autosize": true,
        "legend": {
         "title": {
          "text": "Top Terms"
         }
        },
        "margin": {
         "b": 40,
         "l": 40,
         "r": 40,
         "t": 80
        },
        "template": {
         "data": {
          "bar": [
           {
            "error_x": {
             "color": "#2a3f5f"
            },
            "error_y": {
             "color": "#2a3f5f"
            },
            "marker": {
             "line": {
              "color": "#E5ECF6",
              "width": 0.5
             },
             "pattern": {
              "fillmode": "overlay",
              "size": 10,
              "solidity": 0.2
             }
            },
            "type": "bar"
           }
          ],
          "barpolar": [
           {
            "marker": {
             "line": {
              "color": "#E5ECF6",
              "width": 0.5
             },
             "pattern": {
              "fillmode": "overlay",
              "size": 10,
              "solidity": 0.2
             }
            },
            "type": "barpolar"
           }
          ],
          "carpet": [
           {
            "aaxis": {
             "endlinecolor": "#2a3f5f",
             "gridcolor": "white",
             "linecolor": "white",
             "minorgridcolor": "white",
             "startlinecolor": "#2a3f5f"
            },
            "baxis": {
             "endlinecolor": "#2a3f5f",
             "gridcolor": "white",
             "linecolor": "white",
             "minorgridcolor": "white",
             "startlinecolor": "#2a3f5f"
            },
            "type": "carpet"
           }
          ],
          "choropleth": [
           {
            "colorbar": {
             "outlinewidth": 0,
             "ticks": ""
            },
            "type": "choropleth"
           }
          ],
          "contour": [
           {
            "colorbar": {
             "outlinewidth": 0,
             "ticks": ""
            },
            "colorscale": [
             [
              0,
              "#0d0887"
             ],
             [
              0.1111111111111111,
              "#46039f"
             ],
             [
              0.2222222222222222,
              "#7201a8"
             ],
             [
              0.3333333333333333,
              "#9c179e"
             ],
             [
              0.4444444444444444,
              "#bd3786"
             ],
             [
              0.5555555555555556,
              "#d8576b"
             ],
             [
              0.6666666666666666,
              "#ed7953"
             ],
             [
              0.7777777777777778,
              "#fb9f3a"
             ],
             [
              0.8888888888888888,
              "#fdca26"
             ],
             [
              1,
              "#f0f921"
             ]
            ],
            "type": "contour"
           }
          ],
          "contourcarpet": [
           {
            "colorbar": {
             "outlinewidth": 0,
             "ticks": ""
            },
            "type": "contourcarpet"
           }
          ],
          "heatmap": [
           {
            "colorbar": {
             "outlinewidth": 0,
             "ticks": ""
            },
            "colorscale": [
             [
              0,
              "#0d0887"
             ],
             [
              0.1111111111111111,
              "#46039f"
             ],
             [
              0.2222222222222222,
              "#7201a8"
             ],
             [
              0.3333333333333333,
              "#9c179e"
             ],
             [
              0.4444444444444444,
              "#bd3786"
             ],
             [
              0.5555555555555556,
              "#d8576b"
             ],
             [
              0.6666666666666666,
              "#ed7953"
             ],
             [
              0.7777777777777778,
              "#fb9f3a"
             ],
             [
              0.8888888888888888,
              "#fdca26"
             ],
             [
              1,
              "#f0f921"
             ]
            ],
            "type": "heatmap"
           }
          ],
          "heatmapgl": [
           {
            "colorbar": {
             "outlinewidth": 0,
             "ticks": ""
            },
            "colorscale": [
             [
              0,
              "#0d0887"
             ],
             [
              0.1111111111111111,
              "#46039f"
             ],
             [
              0.2222222222222222,
              "#7201a8"
             ],
             [
              0.3333333333333333,
              "#9c179e"
             ],
             [
              0.4444444444444444,
              "#bd3786"
             ],
             [
              0.5555555555555556,
              "#d8576b"
             ],
             [
              0.6666666666666666,
              "#ed7953"
             ],
             [
              0.7777777777777778,
              "#fb9f3a"
             ],
             [
              0.8888888888888888,
              "#fdca26"
             ],
             [
              1,
              "#f0f921"
             ]
            ],
            "type": "heatmapgl"
           }
          ],
          "histogram": [
           {
            "marker": {
             "pattern": {
              "fillmode": "overlay",
              "size": 10,
              "solidity": 0.2
             }
            },
            "type": "histogram"
           }
          ],
          "histogram2d": [
           {
            "colorbar": {
             "outlinewidth": 0,
             "ticks": ""
            },
            "colorscale": [
             [
              0,
              "#0d0887"
             ],
             [
              0.1111111111111111,
              "#46039f"
             ],
             [
              0.2222222222222222,
              "#7201a8"
             ],
             [
              0.3333333333333333,
              "#9c179e"
             ],
             [
              0.4444444444444444,
              "#bd3786"
             ],
             [
              0.5555555555555556,
              "#d8576b"
             ],
             [
              0.6666666666666666,
              "#ed7953"
             ],
             [
              0.7777777777777778,
              "#fb9f3a"
             ],
             [
              0.8888888888888888,
              "#fdca26"
             ],
             [
              1,
              "#f0f921"
             ]
            ],
            "type": "histogram2d"
           }
          ],
          "histogram2dcontour": [
           {
            "colorbar": {
             "outlinewidth": 0,
             "ticks": ""
            },
            "colorscale": [
             [
              0,
              "#0d0887"
             ],
             [
              0.1111111111111111,
              "#46039f"
             ],
             [
              0.2222222222222222,
              "#7201a8"
             ],
             [
              0.3333333333333333,
              "#9c179e"
             ],
             [
              0.4444444444444444,
              "#bd3786"
             ],
             [
              0.5555555555555556,
              "#d8576b"
             ],
             [
              0.6666666666666666,
              "#ed7953"
             ],
             [
              0.7777777777777778,
              "#fb9f3a"
             ],
             [
              0.8888888888888888,
              "#fdca26"
             ],
             [
              1,
              "#f0f921"
             ]
            ],
            "type": "histogram2dcontour"
           }
          ],
          "mesh3d": [
           {
            "colorbar": {
             "outlinewidth": 0,
             "ticks": ""
            },
            "type": "mesh3d"
           }
          ],
          "parcoords": [
           {
            "line": {
             "colorbar": {
              "outlinewidth": 0,
              "ticks": ""
             }
            },
            "type": "parcoords"
           }
          ],
          "pie": [
           {
            "automargin": true,
            "type": "pie"
           }
          ],
          "scatter": [
           {
            "fillpattern": {
             "fillmode": "overlay",
             "size": 10,
             "solidity": 0.2
            },
            "type": "scatter"
           }
          ],
          "scatter3d": [
           {
            "line": {
             "colorbar": {
              "outlinewidth": 0,
              "ticks": ""
             }
            },
            "marker": {
             "colorbar": {
              "outlinewidth": 0,
              "ticks": ""
             }
            },
            "type": "scatter3d"
           }
          ],
          "scattercarpet": [
           {
            "marker": {
             "colorbar": {
              "outlinewidth": 0,
              "ticks": ""
             }
            },
            "type": "scattercarpet"
           }
          ],
          "scattergeo": [
           {
            "marker": {
             "colorbar": {
              "outlinewidth": 0,
              "ticks": ""
             }
            },
            "type": "scattergeo"
           }
          ],
          "scattergl": [
           {
            "marker": {
             "colorbar": {
              "outlinewidth": 0,
              "ticks": ""
             }
            },
            "type": "scattergl"
           }
          ],
          "scattermapbox": [
           {
            "marker": {
             "colorbar": {
              "outlinewidth": 0,
              "ticks": ""
             }
            },
            "type": "scattermapbox"
           }
          ],
          "scatterpolar": [
           {
            "marker": {
             "colorbar": {
              "outlinewidth": 0,
              "ticks": ""
             }
            },
            "type": "scatterpolar"
           }
          ],
          "scatterpolargl": [
           {
            "marker": {
             "colorbar": {
              "outlinewidth": 0,
              "ticks": ""
             }
            },
            "type": "scatterpolargl"
           }
          ],
          "scatterternary": [
           {
            "marker": {
             "colorbar": {
              "outlinewidth": 0,
              "ticks": ""
             }
            },
            "type": "scatterternary"
           }
          ],
          "surface": [
           {
            "colorbar": {
             "outlinewidth": 0,
             "ticks": ""
            },
            "colorscale": [
             [
              0,
              "#0d0887"
             ],
             [
              0.1111111111111111,
              "#46039f"
             ],
             [
              0.2222222222222222,
              "#7201a8"
             ],
             [
              0.3333333333333333,
              "#9c179e"
             ],
             [
              0.4444444444444444,
              "#bd3786"
             ],
             [
              0.5555555555555556,
              "#d8576b"
             ],
             [
              0.6666666666666666,
              "#ed7953"
             ],
             [
              0.7777777777777778,
              "#fb9f3a"
             ],
             [
              0.8888888888888888,
              "#fdca26"
             ],
             [
              1,
              "#f0f921"
             ]
            ],
            "type": "surface"
           }
          ],
          "table": [
           {
            "cells": {
             "fill": {
              "color": "#EBF0F8"
             },
             "line": {
              "color": "white"
             }
            },
            "header": {
             "fill": {
              "color": "#C8D4E3"
             },
             "line": {
              "color": "white"
             }
            },
            "type": "table"
           }
          ]
         },
         "layout": {
          "annotationdefaults": {
           "arrowcolor": "#2a3f5f",
           "arrowhead": 0,
           "arrowwidth": 1
          },
          "autotypenumbers": "strict",
          "coloraxis": {
           "colorbar": {
            "outlinewidth": 0,
            "ticks": ""
           }
          },
          "colorscale": {
           "diverging": [
            [
             0,
             "#8e0152"
            ],
            [
             0.1,
             "#c51b7d"
            ],
            [
             0.2,
             "#de77ae"
            ],
            [
             0.3,
             "#f1b6da"
            ],
            [
             0.4,
             "#fde0ef"
            ],
            [
             0.5,
             "#f7f7f7"
            ],
            [
             0.6,
             "#e6f5d0"
            ],
            [
             0.7,
             "#b8e186"
            ],
            [
             0.8,
             "#7fbc41"
            ],
            [
             0.9,
             "#4d9221"
            ],
            [
             1,
             "#276419"
            ]
           ],
           "sequential": [
            [
             0,
             "#0d0887"
            ],
            [
             0.1111111111111111,
             "#46039f"
            ],
            [
             0.2222222222222222,
             "#7201a8"
            ],
            [
             0.3333333333333333,
             "#9c179e"
            ],
            [
             0.4444444444444444,
             "#bd3786"
            ],
            [
             0.5555555555555556,
             "#d8576b"
            ],
            [
             0.6666666666666666,
             "#ed7953"
            ],
            [
             0.7777777777777778,
             "#fb9f3a"
            ],
            [
             0.8888888888888888,
             "#fdca26"
            ],
            [
             1,
             "#f0f921"
            ]
           ],
           "sequentialminus": [
            [
             0,
             "#0d0887"
            ],
            [
             0.1111111111111111,
             "#46039f"
            ],
            [
             0.2222222222222222,
             "#7201a8"
            ],
            [
             0.3333333333333333,
             "#9c179e"
            ],
            [
             0.4444444444444444,
             "#bd3786"
            ],
            [
             0.5555555555555556,
             "#d8576b"
            ],
            [
             0.6666666666666666,
             "#ed7953"
            ],
            [
             0.7777777777777778,
             "#fb9f3a"
            ],
            [
             0.8888888888888888,
             "#fdca26"
            ],
            [
             1,
             "#f0f921"
            ]
           ]
          },
          "colorway": [
           "#636efa",
           "#EF553B",
           "#00cc96",
           "#ab63fa",
           "#FFA15A",
           "#19d3f3",
           "#FF6692",
           "#B6E880",
           "#FF97FF",
           "#FECB52"
          ],
          "font": {
           "color": "#2a3f5f"
          },
          "geo": {
           "bgcolor": "white",
           "lakecolor": "white",
           "landcolor": "#E5ECF6",
           "showlakes": true,
           "showland": true,
           "subunitcolor": "white"
          },
          "hoverlabel": {
           "align": "left"
          },
          "hovermode": "closest",
          "mapbox": {
           "style": "light"
          },
          "paper_bgcolor": "white",
          "plot_bgcolor": "#E5ECF6",
          "polar": {
           "angularaxis": {
            "gridcolor": "white",
            "linecolor": "white",
            "ticks": ""
           },
           "bgcolor": "#E5ECF6",
           "radialaxis": {
            "gridcolor": "white",
            "linecolor": "white",
            "ticks": ""
           }
          },
          "scene": {
           "xaxis": {
            "backgroundcolor": "#E5ECF6",
            "gridcolor": "white",
            "gridwidth": 2,
            "linecolor": "white",
            "showbackground": true,
            "ticks": "",
            "zerolinecolor": "white"
           },
           "yaxis": {
            "backgroundcolor": "#E5ECF6",
            "gridcolor": "white",
            "gridwidth": 2,
            "linecolor": "white",
            "showbackground": true,
            "ticks": "",
            "zerolinecolor": "white"
           },
           "zaxis": {
            "backgroundcolor": "#E5ECF6",
            "gridcolor": "white",
            "gridwidth": 2,
            "linecolor": "white",
            "showbackground": true,
            "ticks": "",
            "zerolinecolor": "white"
           }
          },
          "shapedefaults": {
           "line": {
            "color": "#2a3f5f"
           }
          },
          "ternary": {
           "aaxis": {
            "gridcolor": "white",
            "linecolor": "white",
            "ticks": ""
           },
           "baxis": {
            "gridcolor": "white",
            "linecolor": "white",
            "ticks": ""
           },
           "bgcolor": "#E5ECF6",
           "caxis": {
            "gridcolor": "white",
            "linecolor": "white",
            "ticks": ""
           }
          },
          "title": {
           "x": 0.05
          },
          "xaxis": {
           "automargin": true,
           "gridcolor": "white",
           "linecolor": "white",
           "ticks": "",
           "title": {
            "standoff": 15
           },
           "zerolinecolor": "white",
           "zerolinewidth": 2
          },
          "yaxis": {
           "automargin": true,
           "gridcolor": "white",
           "linecolor": "white",
           "ticks": "",
           "title": {
            "standoff": 15
           },
           "zerolinecolor": "white",
           "zerolinewidth": 2
          }
         }
        },
        "updatemenus": [
         {
          "active": 1,
          "buttons": [
           {
            "args": [
             {
              "visible": [
               true,
               true,
               true,
               true,
               true,
               true,
               true,
               true,
               true,
               true,
               true,
               true,
               true,
               true,
               true,
               true,
               true,
               true,
               true,
               true
              ]
             }
            ],
            "label": "Select All",
            "method": "update"
           },
           {
            "args": [
             {
              "visible": [
               true,
               false,
               false,
               false,
               false,
               false,
               false,
               false,
               false,
               false,
               false,
               false,
               false,
               false,
               false,
               false,
               false,
               false,
               false,
               false
              ]
             }
            ],
            "label": "tattmatte",
            "method": "update"
           },
           {
            "args": [
             {
              "visible": [
               false,
               true,
               false,
               false,
               false,
               false,
               false,
               false,
               false,
               false,
               false,
               false,
               false,
               false,
               false,
               false,
               false,
               false,
               false,
               false
              ]
             }
            ],
            "label": "alike",
            "method": "update"
           },
           {
            "args": [
             {
              "visible": [
               false,
               false,
               true,
               false,
               false,
               false,
               false,
               false,
               false,
               false,
               false,
               false,
               false,
               false,
               false,
               false,
               false,
               false,
               false,
               false
              ]
             }
            ],
            "label": "straighten",
            "method": "update"
           },
           {
            "args": [
             {
              "visible": [
               false,
               false,
               false,
               true,
               false,
               false,
               false,
               false,
               false,
               false,
               false,
               false,
               false,
               false,
               false,
               false,
               false,
               false,
               false,
               false
              ]
             }
            ],
            "label": "kaleido",
            "method": "update"
           },
           {
            "args": [
             {
              "visible": [
               false,
               false,
               false,
               false,
               true,
               false,
               false,
               false,
               false,
               false,
               false,
               false,
               false,
               false,
               false,
               false,
               false,
               false,
               false,
               false
              ]
             }
            ],
            "label": "cruical",
            "method": "update"
           },
           {
            "args": [
             {
              "visible": [
               false,
               false,
               false,
               false,
               false,
               true,
               false,
               false,
               false,
               false,
               false,
               false,
               false,
               false,
               false,
               false,
               false,
               false,
               false,
               false
              ]
             }
            ],
            "label": "saraxb",
            "method": "update"
           },
           {
            "args": [
             {
              "visible": [
               false,
               false,
               false,
               false,
               false,
               false,
               true,
               false,
               false,
               false,
               false,
               false,
               false,
               false,
               false,
               false,
               false,
               false,
               false,
               false
              ]
             }
            ],
            "label": "runaround",
            "method": "update"
           },
           {
            "args": [
             {
              "visible": [
               false,
               false,
               false,
               false,
               false,
               false,
               false,
               true,
               false,
               false,
               false,
               false,
               false,
               false,
               false,
               false,
               false,
               false,
               false,
               false
              ]
             }
            ],
            "label": "sisters",
            "method": "update"
           },
           {
            "args": [
             {
              "visible": [
               false,
               false,
               false,
               false,
               false,
               false,
               false,
               false,
               true,
               false,
               false,
               false,
               false,
               false,
               false,
               false,
               false,
               false,
               false,
               false
              ]
             }
            ],
            "label": "lookbooks",
            "method": "update"
           },
           {
            "args": [
             {
              "visible": [
               false,
               false,
               false,
               false,
               false,
               false,
               false,
               false,
               false,
               true,
               false,
               false,
               false,
               false,
               false,
               false,
               false,
               false,
               false,
               false
              ]
             }
            ],
            "label": "camping",
            "method": "update"
           },
           {
            "args": [
             {
              "visible": [
               false,
               false,
               false,
               false,
               false,
               false,
               false,
               false,
               false,
               false,
               true,
               false,
               false,
               false,
               false,
               false,
               false,
               false,
               false,
               false
              ]
             }
            ],
            "label": "directs",
            "method": "update"
           },
           {
            "args": [
             {
              "visible": [
               false,
               false,
               false,
               false,
               false,
               false,
               false,
               false,
               false,
               false,
               false,
               true,
               false,
               false,
               false,
               false,
               false,
               false,
               false,
               false
              ]
             }
            ],
            "label": "frosting",
            "method": "update"
           },
           {
            "args": [
             {
              "visible": [
               false,
               false,
               false,
               false,
               false,
               false,
               false,
               false,
               false,
               false,
               false,
               false,
               true,
               false,
               false,
               false,
               false,
               false,
               false,
               false
              ]
             }
            ],
            "label": "jogs",
            "method": "update"
           },
           {
            "args": [
             {
              "visible": [
               false,
               false,
               false,
               false,
               false,
               false,
               false,
               false,
               false,
               false,
               false,
               false,
               false,
               true,
               false,
               false,
               false,
               false,
               false,
               false
              ]
             }
            ],
            "label": "repackages",
            "method": "update"
           },
           {
            "args": [
             {
              "visible": [
               false,
               false,
               false,
               false,
               false,
               false,
               false,
               false,
               false,
               false,
               false,
               false,
               false,
               false,
               true,
               false,
               false,
               false,
               false,
               false
              ]
             }
            ],
            "label": "professionall",
            "method": "update"
           },
           {
            "args": [
             {
              "visible": [
               false,
               false,
               false,
               false,
               false,
               false,
               false,
               false,
               false,
               false,
               false,
               false,
               false,
               false,
               false,
               true,
               false,
               false,
               false,
               false
              ]
             }
            ],
            "label": "jamata",
            "method": "update"
           },
           {
            "args": [
             {
              "visible": [
               false,
               false,
               false,
               false,
               false,
               false,
               false,
               false,
               false,
               false,
               false,
               false,
               false,
               false,
               false,
               false,
               true,
               false,
               false,
               false
              ]
             }
            ],
            "label": "shivers",
            "method": "update"
           },
           {
            "args": [
             {
              "visible": [
               false,
               false,
               false,
               false,
               false,
               false,
               false,
               false,
               false,
               false,
               false,
               false,
               false,
               false,
               false,
               false,
               false,
               true,
               false,
               false
              ]
             }
            ],
            "label": "vidos",
            "method": "update"
           },
           {
            "args": [
             {
              "visible": [
               false,
               false,
               false,
               false,
               false,
               false,
               false,
               false,
               false,
               false,
               false,
               false,
               false,
               false,
               false,
               false,
               false,
               false,
               true,
               false
              ]
             }
            ],
            "label": "temptation",
            "method": "update"
           },
           {
            "args": [
             {
              "visible": [
               false,
               false,
               false,
               false,
               false,
               false,
               false,
               false,
               false,
               false,
               false,
               false,
               false,
               false,
               false,
               false,
               false,
               false,
               false,
               true
              ]
             }
            ],
            "label": "complicating",
            "method": "update"
           }
          ],
          "direction": "down",
          "pad": {
           "r": 10,
           "t": 10
          },
          "showactive": true,
          "x": 0.1,
          "xanchor": "left",
          "y": 1.3,
          "yanchor": "top"
         }
        ],
        "xaxis": {
         "autorange": true,
         "range": [
          "2020-11-14 09:01:40.8648",
          "2023-04-17 14:58:19.1352"
         ],
         "title": {
          "text": "Date"
         },
         "type": "date"
        },
        "yaxis": {
         "autorange": true,
         "range": [
          15.241274658573596,
          56.758725341426405
         ],
         "title": {
          "text": "Frequency"
         },
         "type": "linear"
        }
       }
      },
      "image/png": "[encoded data removed]",
      "text/html": [
       "<div>                            <div id=\"4704e00d-8a32-4e70-b2ea-0385830774a7\" class=\"plotly-graph-div\" style=\"height:525px; width:100%;\"></div>            <script type=\"text/javascript\">                require([\"plotly\"], function(Plotly) {                    window.PLOTLYENV=window.PLOTLYENV || {};                                    if (document.getElementById(\"4704e00d-8a32-4e70-b2ea-0385830774a7\")) {                    Plotly.newPlot(                        \"4704e00d-8a32-4e70-b2ea-0385830774a7\",                        [{\"mode\":\"lines+markers\",\"name\":\"tattmatte\",\"visible\":true,\"x\":[\"2021-01-01T00:00:00\",\"2021-02-01T00:00:00\",\"2021-03-01T00:00:00\",\"2021-04-01T00:00:00\",\"2021-05-01T00:00:00\",\"2021-06-01T00:00:00\",\"2021-07-01T00:00:00\",\"2021-08-01T00:00:00\",\"2021-09-01T00:00:00\",\"2021-10-01T00:00:00\",\"2021-11-01T00:00:00\",\"2021-12-01T00:00:00\",\"2022-01-01T00:00:00\",\"2022-02-01T00:00:00\",\"2022-03-01T00:00:00\",\"2022-04-01T00:00:00\",\"2022-05-01T00:00:00\",\"2022-06-01T00:00:00\",\"2022-07-01T00:00:00\",\"2022-08-01T00:00:00\",\"2022-09-01T00:00:00\",\"2022-10-01T00:00:00\",\"2022-11-01T00:00:00\",\"2022-12-01T00:00:00\",\"2023-01-01T00:00:00\",\"2023-02-01T00:00:00\",\"2023-03-01T00:00:00\"],\"y\":[27,26,23,37,22,28,34,19,21,24,21,18,22,39,42,42,41,21,22,20,24,38,22,39,42,54,48],\"type\":\"scatter\"},{\"mode\":\"lines+markers\",\"name\":\"alike\",\"visible\":true,\"x\":[\"2021-01-01T00:00:00\",\"2021-02-01T00:00:00\",\"2021-03-01T00:00:00\",\"2021-04-01T00:00:00\",\"2021-05-01T00:00:00\",\"2021-06-01T00:00:00\",\"2021-07-01T00:00:00\",\"2021-08-01T00:00:00\",\"2021-09-01T00:00:00\",\"2021-10-01T00:00:00\",\"2021-11-01T00:00:00\",\"2021-12-01T00:00:00\",\"2022-01-01T00:00:00\",\"2022-02-01T00:00:00\",\"2022-03-01T00:00:00\",\"2022-04-01T00:00:00\",\"2022-05-01T00:00:00\",\"2022-06-01T00:00:00\",\"2022-07-01T00:00:00\",\"2022-08-01T00:00:00\",\"2022-09-01T00:00:00\",\"2022-10-01T00:00:00\",\"2022-11-01T00:00:00\",\"2022-12-01T00:00:00\",\"2023-01-01T00:00:00\",\"2023-02-01T00:00:00\",\"2023-03-01T00:00:00\"],\"y\":[12,12,20,18,10,11,15,14,18,9,12,9,12,20,20,24,27,18,20,13,19,30,19,28,34,39,31],\"type\":\"scatter\"},{\"mode\":\"lines+markers\",\"name\":\"straighten\",\"visible\":true,\"x\":[\"2021-01-01T00:00:00\",\"2021-02-01T00:00:00\",\"2021-03-01T00:00:00\",\"2021-04-01T00:00:00\",\"2021-05-01T00:00:00\",\"2021-06-01T00:00:00\",\"2021-07-01T00:00:00\",\"2021-08-01T00:00:00\",\"2021-09-01T00:00:00\",\"2021-10-01T00:00:00\",\"2021-11-01T00:00:00\",\"2021-12-01T00:00:00\",\"2022-01-01T00:00:00\",\"2022-02-01T00:00:00\",\"2022-03-01T00:00:00\",\"2022-04-01T00:00:00\",\"2022-05-01T00:00:00\",\"2022-06-01T00:00:00\",\"2022-07-01T00:00:00\",\"2022-08-01T00:00:00\",\"2022-09-01T00:00:00\",\"2022-10-01T00:00:00\",\"2022-11-01T00:00:00\",\"2022-12-01T00:00:00\",\"2023-01-01T00:00:00\",\"2023-02-01T00:00:00\",\"2023-03-01T00:00:00\"],\"y\":[8,12,10,12,7,8,6,7,7,10,8,13,13,8,7,13,22,8,10,12,13,13,9,16,23,29,30],\"type\":\"scatter\"},{\"mode\":\"lines+markers\",\"name\":\"kaleido\",\"visible\":true,\"x\":[\"2021-01-01T00:00:00\",\"2021-02-01T00:00:00\",\"2021-03-01T00:00:00\",\"2021-04-01T00:00:00\",\"2021-06-01T00:00:00\",\"2021-07-01T00:00:00\",\"2021-10-01T00:00:00\",\"2021-11-01T00:00:00\",\"2021-12-01T00:00:00\",\"2022-01-01T00:00:00\",\"2022-02-01T00:00:00\",\"2022-03-01T00:00:00\",\"2022-04-01T00:00:00\",\"2022-05-01T00:00:00\",\"2022-06-01T00:00:00\",\"2022-07-01T00:00:00\",\"2022-08-01T00:00:00\",\"2022-09-01T00:00:00\",\"2022-10-01T00:00:00\",\"2022-11-01T00:00:00\",\"2022-12-01T00:00:00\",\"2023-01-01T00:00:00\",\"2023-02-01T00:00:00\",\"2023-03-01T00:00:00\"],\"y\":[8,7,13,8,6,5,5,8,8,11,6,14,8,9,12,11,22,17,14,18,14,21,20,12],\"type\":\"scatter\"},{\"mode\":\"lines+markers\",\"name\":\"cruical\",\"visible\":true,\"x\":[\"2021-01-01T00:00:00\",\"2021-02-01T00:00:00\",\"2021-03-01T00:00:00\",\"2021-06-01T00:00:00\",\"2021-07-01T00:00:00\",\"2021-08-01T00:00:00\",\"2021-09-01T00:00:00\",\"2021-10-01T00:00:00\",\"2021-11-01T00:00:00\",\"2021-12-01T00:00:00\",\"2022-01-01T00:00:00\",\"2022-03-01T00:00:00\",\"2022-04-01T00:00:00\",\"2022-05-01T00:00:00\",\"2022-08-01T00:00:00\",\"2022-10-01T00:00:00\",\"2022-11-01T00:00:00\",\"2022-12-01T00:00:00\",\"2023-01-01T00:00:00\",\"2023-03-01T00:00:00\"],\"y\":[14,11,8,7,5,5,8,7,6,9,6,11,6,6,8,9,10,10,21,12],\"type\":\"scatter\"},{\"mode\":\"lines+markers\",\"name\":\"saraxb\",\"visible\":true,\"x\":[\"2021-01-01T00:00:00\",\"2021-04-01T00:00:00\",\"2021-05-01T00:00:00\",\"2021-06-01T00:00:00\",\"2021-08-01T00:00:00\",\"2021-10-01T00:00:00\",\"2021-11-01T00:00:00\",\"2021-12-01T00:00:00\",\"2022-01-01T00:00:00\",\"2022-02-01T00:00:00\",\"2022-04-01T00:00:00\",\"2022-05-01T00:00:00\",\"2022-06-01T00:00:00\",\"2022-08-01T00:00:00\",\"2022-09-01T00:00:00\",\"2022-10-01T00:00:00\",\"2022-12-01T00:00:00\"],\"y\":[6,7,4,7,5,4,6,9,7,7,13,10,6,8,10,12,14],\"type\":\"scatter\"},{\"mode\":\"lines+markers\",\"name\":\"runaround\",\"visible\":true,\"x\":[\"2021-02-01T00:00:00\",\"2021-03-01T00:00:00\",\"2021-04-01T00:00:00\",\"2021-07-01T00:00:00\",\"2021-10-01T00:00:00\",\"2022-03-01T00:00:00\",\"2022-06-01T00:00:00\",\"2022-10-01T00:00:00\",\"2022-11-01T00:00:00\",\"2023-03-01T00:00:00\"],\"y\":[6,5,9,7,9,10,5,9,7,10],\"type\":\"scatter\"},{\"mode\":\"lines+markers\",\"name\":\"sisters\",\"visible\":true,\"x\":[\"2021-03-01T00:00:00\",\"2021-04-01T00:00:00\",\"2021-05-01T00:00:00\",\"2022-02-01T00:00:00\",\"2022-03-01T00:00:00\",\"2022-07-01T00:00:00\",\"2022-08-01T00:00:00\",\"2022-09-01T00:00:00\",\"2022-10-01T00:00:00\",\"2023-01-01T00:00:00\"],\"y\":[5,5,5,5,6,5,10,7,10,10],\"type\":\"scatter\"},{\"mode\":\"lines+markers\",\"name\":\"lookbooks\",\"visible\":true,\"x\":[\"2021-08-01T00:00:00\",\"2022-08-01T00:00:00\",\"2022-11-01T00:00:00\",\"2022-12-01T00:00:00\",\"2023-01-01T00:00:00\",\"2023-02-01T00:00:00\",\"2023-03-01T00:00:00\"],\"y\":[8,8,7,14,11,10,9],\"type\":\"scatter\"},{\"mode\":\"lines+markers\",\"name\":\"camping\",\"visible\":true,\"x\":[\"2021-06-01T00:00:00\",\"2021-08-01T00:00:00\",\"2021-10-01T00:00:00\",\"2021-11-01T00:00:00\",\"2022-02-01T00:00:00\",\"2022-05-01T00:00:00\",\"2022-07-01T00:00:00\",\"2022-08-01T00:00:00\",\"2022-09-01T00:00:00\"],\"y\":[4,8,4,4,6,7,6,12,9],\"type\":\"scatter\"},{\"mode\":\"lines+markers\",\"name\":\"directs\",\"visible\":true,\"x\":[\"2021-01-01T00:00:00\",\"2021-08-01T00:00:00\",\"2021-09-01T00:00:00\",\"2021-12-01T00:00:00\",\"2022-05-01T00:00:00\",\"2022-11-01T00:00:00\",\"2023-01-01T00:00:00\",\"2023-03-01T00:00:00\"],\"y\":[5,5,5,5,6,8,12,13],\"type\":\"scatter\"},{\"mode\":\"lines+markers\",\"name\":\"frosting\",\"visible\":true,\"x\":[\"2021-01-01T00:00:00\",\"2021-05-01T00:00:00\",\"2021-09-01T00:00:00\",\"2021-11-01T00:00:00\",\"2022-02-01T00:00:00\",\"2022-05-01T00:00:00\",\"2022-06-01T00:00:00\",\"2022-12-01T00:00:00\"],\"y\":[7,5,8,6,5,6,5,10],\"type\":\"scatter\"},{\"mode\":\"lines+markers\",\"name\":\"jogs\",\"visible\":true,\"x\":[\"2021-03-01T00:00:00\",\"2021-07-01T00:00:00\",\"2021-08-01T00:00:00\",\"2022-06-01T00:00:00\",\"2022-11-01T00:00:00\",\"2023-01-01T00:00:00\"],\"y\":[5,7,6,6,6,10],\"type\":\"scatter\"},{\"mode\":\"lines+markers\",\"name\":\"repackages\",\"visible\":true,\"x\":[\"2021-01-01T00:00:00\",\"2021-08-01T00:00:00\",\"2023-02-01T00:00:00\",\"2023-03-01T00:00:00\"],\"y\":[6,5,9,10],\"type\":\"scatter\"},{\"mode\":\"lines+markers\",\"name\":\"professionall\",\"visible\":true,\"x\":[\"2021-04-01T00:00:00\",\"2022-10-01T00:00:00\",\"2023-01-01T00:00:00\"],\"y\":[5,9,10],\"type\":\"scatter\"},{\"mode\":\"lines+markers\",\"name\":\"jamata\",\"visible\":true,\"x\":[\"2021-10-01T00:00:00\",\"2022-01-01T00:00:00\",\"2023-02-01T00:00:00\"],\"y\":[4,5,8],\"type\":\"scatter\"},{\"mode\":\"lines+markers\",\"name\":\"shivers\",\"visible\":true,\"x\":[\"2021-11-01T00:00:00\",\"2022-07-01T00:00:00\",\"2022-09-01T00:00:00\"],\"y\":[5,6,6],\"type\":\"scatter\"},{\"mode\":\"lines+markers\",\"name\":\"vidos\",\"visible\":true,\"x\":[\"2021-03-01T00:00:00\",\"2021-12-01T00:00:00\",\"2022-01-01T00:00:00\"],\"y\":[6,5,6],\"type\":\"scatter\"},{\"mode\":\"lines+markers\",\"name\":\"temptation\",\"visible\":true,\"x\":[\"2022-04-01T00:00:00\",\"2023-03-01T00:00:00\"],\"y\":[6,10],\"type\":\"scatter\"},{\"mode\":\"lines+markers\",\"name\":\"complicating\",\"visible\":true,\"x\":[\"2021-04-01T00:00:00\",\"2021-07-01T00:00:00\"],\"y\":[8,6],\"type\":\"scatter\"}],                        {\"template\":{\"data\":{\"histogram2dcontour\":[{\"type\":\"histogram2dcontour\",\"colorbar\":{\"outlinewidth\":0,\"ticks\":\"\"},\"colorscale\":[[0.0,\"#0d0887\"],[0.1111111111111111,\"#46039f\"],[0.2222222222222222,\"#7201a8\"],[0.3333333333333333,\"#9c179e\"],[0.4444444444444444,\"#bd3786\"],[0.5555555555555556,\"#d8576b\"],[0.6666666666666666,\"#ed7953\"],[0.7777777777777778,\"#fb9f3a\"],[0.8888888888888888,\"#fdca26\"],[1.0,\"#f0f921\"]]}],\"choropleth\":[{\"type\":\"choropleth\",\"colorbar\":{\"outlinewidth\":0,\"ticks\":\"\"}}],\"histogram2d\":[{\"type\":\"histogram2d\",\"colorbar\":{\"outlinewidth\":0,\"ticks\":\"\"},\"colorscale\":[[0.0,\"#0d0887\"],[0.1111111111111111,\"#46039f\"],[0.2222222222222222,\"#7201a8\"],[0.3333333333333333,\"#9c179e\"],[0.4444444444444444,\"#bd3786\"],[0.5555555555555556,\"#d8576b\"],[0.6666666666666666,\"#ed7953\"],[0.7777777777777778,\"#fb9f3a\"],[0.8888888888888888,\"#fdca26\"],[1.0,\"#f0f921\"]]}],\"heatmap\":[{\"type\":\"heatmap\",\"colorbar\":{\"outlinewidth\":0,\"ticks\":\"\"},\"colorscale\":[[0.0,\"#0d0887\"],[0.1111111111111111,\"#46039f\"],[0.2222222222222222,\"#7201a8\"],[0.3333333333333333,\"#9c179e\"],[0.4444444444444444,\"#bd3786\"],[0.5555555555555556,\"#d8576b\"],[0.6666666666666666,\"#ed7953\"],[0.7777777777777778,\"#fb9f3a\"],[0.8888888888888888,\"#fdca26\"],[1.0,\"#f0f921\"]]}],\"heatmapgl\":[{\"type\":\"heatmapgl\",\"colorbar\":{\"outlinewidth\":0,\"ticks\":\"\"},\"colorscale\":[[0.0,\"#0d0887\"],[0.1111111111111111,\"#46039f\"],[0.2222222222222222,\"#7201a8\"],[0.3333333333333333,\"#9c179e\"],[0.4444444444444444,\"#bd3786\"],[0.5555555555555556,\"#d8576b\"],[0.6666666666666666,\"#ed7953\"],[0.7777777777777778,\"#fb9f3a\"],[0.8888888888888888,\"#fdca26\"],[1.0,\"#f0f921\"]]}],\"contourcarpet\":[{\"type\":\"contourcarpet\",\"colorbar\":{\"outlinewidth\":0,\"ticks\":\"\"}}],\"contour\":[{\"type\":\"contour\",\"colorbar\":{\"outlinewidth\":0,\"ticks\":\"\"},\"colorscale\":[[0.0,\"#0d0887\"],[0.1111111111111111,\"#46039f\"],[0.2222222222222222,\"#7201a8\"],[0.3333333333333333,\"#9c179e\"],[0.4444444444444444,\"#bd3786\"],[0.5555555555555556,\"#d8576b\"],[0.6666666666666666,\"#ed7953\"],[0.7777777777777778,\"#fb9f3a\"],[0.8888888888888888,\"#fdca26\"],[1.0,\"#f0f921\"]]}],\"surface\":[{\"type\":\"surface\",\"colorbar\":{\"outlinewidth\":0,\"ticks\":\"\"},\"colorscale\":[[0.0,\"#0d0887\"],[0.1111111111111111,\"#46039f\"],[0.2222222222222222,\"#7201a8\"],[0.3333333333333333,\"#9c179e\"],[0.4444444444444444,\"#bd3786\"],[0.5555555555555556,\"#d8576b\"],[0.6666666666666666,\"#ed7953\"],[0.7777777777777778,\"#fb9f3a\"],[0.8888888888888888,\"#fdca26\"],[1.0,\"#f0f921\"]]}],\"mesh3d\":[{\"type\":\"mesh3d\",\"colorbar\":{\"outlinewidth\":0,\"ticks\":\"\"}}],\"scatter\":[{\"fillpattern\":{\"fillmode\":\"overlay\",\"size\":10,\"solidity\":0.2},\"type\":\"scatter\"}],\"parcoords\":[{\"type\":\"parcoords\",\"line\":{\"colorbar\":{\"outlinewidth\":0,\"ticks\":\"\"}}}],\"scatterpolargl\":[{\"type\":\"scatterpolargl\",\"marker\":{\"colorbar\":{\"outlinewidth\":0,\"ticks\":\"\"}}}],\"bar\":[{\"error_x\":{\"color\":\"#2a3f5f\"},\"error_y\":{\"color\":\"#2a3f5f\"},\"marker\":{\"line\":{\"color\":\"#E5ECF6\",\"width\":0.5},\"pattern\":{\"fillmode\":\"overlay\",\"size\":10,\"solidity\":0.2}},\"type\":\"bar\"}],\"scattergeo\":[{\"type\":\"scattergeo\",\"marker\":{\"colorbar\":{\"outlinewidth\":0,\"ticks\":\"\"}}}],\"scatterpolar\":[{\"type\":\"scatterpolar\",\"marker\":{\"colorbar\":{\"outlinewidth\":0,\"ticks\":\"\"}}}],\"histogram\":[{\"marker\":{\"pattern\":{\"fillmode\":\"overlay\",\"size\":10,\"solidity\":0.2}},\"type\":\"histogram\"}],\"scattergl\":[{\"type\":\"scattergl\",\"marker\":{\"colorbar\":{\"outlinewidth\":0,\"ticks\":\"\"}}}],\"scatter3d\":[{\"type\":\"scatter3d\",\"line\":{\"colorbar\":{\"outlinewidth\":0,\"ticks\":\"\"}},\"marker\":{\"colorbar\":{\"outlinewidth\":0,\"ticks\":\"\"}}}],\"scattermapbox\":[{\"type\":\"scattermapbox\",\"marker\":{\"colorbar\":{\"outlinewidth\":0,\"ticks\":\"\"}}}],\"scatterternary\":[{\"type\":\"scatterternary\",\"marker\":{\"colorbar\":{\"outlinewidth\":0,\"ticks\":\"\"}}}],\"scattercarpet\":[{\"type\":\"scattercarpet\",\"marker\":{\"colorbar\":{\"outlinewidth\":0,\"ticks\":\"\"}}}],\"carpet\":[{\"aaxis\":{\"endlinecolor\":\"#2a3f5f\",\"gridcolor\":\"white\",\"linecolor\":\"white\",\"minorgridcolor\":\"white\",\"startlinecolor\":\"#2a3f5f\"},\"baxis\":{\"endlinecolor\":\"#2a3f5f\",\"gridcolor\":\"white\",\"linecolor\":\"white\",\"minorgridcolor\":\"white\",\"startlinecolor\":\"#2a3f5f\"},\"type\":\"carpet\"}],\"table\":[{\"cells\":{\"fill\":{\"color\":\"#EBF0F8\"},\"line\":{\"color\":\"white\"}},\"header\":{\"fill\":{\"color\":\"#C8D4E3\"},\"line\":{\"color\":\"white\"}},\"type\":\"table\"}],\"barpolar\":[{\"marker\":{\"line\":{\"color\":\"#E5ECF6\",\"width\":0.5},\"pattern\":{\"fillmode\":\"overlay\",\"size\":10,\"solidity\":0.2}},\"type\":\"barpolar\"}],\"pie\":[{\"automargin\":true,\"type\":\"pie\"}]},\"layout\":{\"autotypenumbers\":\"strict\",\"colorway\":[\"#636efa\",\"#EF553B\",\"#00cc96\",\"#ab63fa\",\"#FFA15A\",\"#19d3f3\",\"#FF6692\",\"#B6E880\",\"#FF97FF\",\"#FECB52\"],\"font\":{\"color\":\"#2a3f5f\"},\"hovermode\":\"closest\",\"hoverlabel\":{\"align\":\"left\"},\"paper_bgcolor\":\"white\",\"plot_bgcolor\":\"#E5ECF6\",\"polar\":{\"bgcolor\":\"#E5ECF6\",\"angularaxis\":{\"gridcolor\":\"white\",\"linecolor\":\"white\",\"ticks\":\"\"},\"radialaxis\":{\"gridcolor\":\"white\",\"linecolor\":\"white\",\"ticks\":\"\"}},\"ternary\":{\"bgcolor\":\"#E5ECF6\",\"aaxis\":{\"gridcolor\":\"white\",\"linecolor\":\"white\",\"ticks\":\"\"},\"baxis\":{\"gridcolor\":\"white\",\"linecolor\":\"white\",\"ticks\":\"\"},\"caxis\":{\"gridcolor\":\"white\",\"linecolor\":\"white\",\"ticks\":\"\"}},\"coloraxis\":{\"colorbar\":{\"outlinewidth\":0,\"ticks\":\"\"}},\"colorscale\":{\"sequential\":[[0.0,\"#0d0887\"],[0.1111111111111111,\"#46039f\"],[0.2222222222222222,\"#7201a8\"],[0.3333333333333333,\"#9c179e\"],[0.4444444444444444,\"#bd3786\"],[0.5555555555555556,\"#d8576b\"],[0.6666666666666666,\"#ed7953\"],[0.7777777777777778,\"#fb9f3a\"],[0.8888888888888888,\"#fdca26\"],[1.0,\"#f0f921\"]],\"sequentialminus\":[[0.0,\"#0d0887\"],[0.1111111111111111,\"#46039f\"],[0.2222222222222222,\"#7201a8\"],[0.3333333333333333,\"#9c179e\"],[0.4444444444444444,\"#bd3786\"],[0.5555555555555556,\"#d8576b\"],[0.6666666666666666,\"#ed7953\"],[0.7777777777777778,\"#fb9f3a\"],[0.8888888888888888,\"#fdca26\"],[1.0,\"#f0f921\"]],\"diverging\":[[0,\"#8e0152\"],[0.1,\"#c51b7d\"],[0.2,\"#de77ae\"],[0.3,\"#f1b6da\"],[0.4,\"#fde0ef\"],[0.5,\"#f7f7f7\"],[0.6,\"#e6f5d0\"],[0.7,\"#b8e186\"],[0.8,\"#7fbc41\"],[0.9,\"#4d9221\"],[1,\"#276419\"]]},\"xaxis\":{\"gridcolor\":\"white\",\"linecolor\":\"white\",\"ticks\":\"\",\"title\":{\"standoff\":15},\"zerolinecolor\":\"white\",\"automargin\":true,\"zerolinewidth\":2},\"yaxis\":{\"gridcolor\":\"white\",\"linecolor\":\"white\",\"ticks\":\"\",\"title\":{\"standoff\":15},\"zerolinecolor\":\"white\",\"automargin\":true,\"zerolinewidth\":2},\"scene\":{\"xaxis\":{\"backgroundcolor\":\"#E5ECF6\",\"gridcolor\":\"white\",\"linecolor\":\"white\",\"showbackground\":true,\"ticks\":\"\",\"zerolinecolor\":\"white\",\"gridwidth\":2},\"yaxis\":{\"backgroundcolor\":\"#E5ECF6\",\"gridcolor\":\"white\",\"linecolor\":\"white\",\"showbackground\":true,\"ticks\":\"\",\"zerolinecolor\":\"white\",\"gridwidth\":2},\"zaxis\":{\"backgroundcolor\":\"#E5ECF6\",\"gridcolor\":\"white\",\"linecolor\":\"white\",\"showbackground\":true,\"ticks\":\"\",\"zerolinecolor\":\"white\",\"gridwidth\":2}},\"shapedefaults\":{\"line\":{\"color\":\"#2a3f5f\"}},\"annotationdefaults\":{\"arrowcolor\":\"#2a3f5f\",\"arrowhead\":0,\"arrowwidth\":1},\"geo\":{\"bgcolor\":\"white\",\"landcolor\":\"#E5ECF6\",\"subunitcolor\":\"white\",\"showland\":true,\"showlakes\":true,\"lakecolor\":\"white\"},\"title\":{\"x\":0.05},\"mapbox\":{\"style\":\"light\"}}},\"margin\":{\"l\":40,\"r\":40,\"t\":80,\"b\":40},\"updatemenus\":[{\"buttons\":[{\"args\":[{\"visible\":[true,true,true,true,true,true,true,true,true,true,true,true,true,true,true,true,true,true,true,true]}],\"label\":\"Select All\",\"method\":\"update\"},{\"args\":[{\"visible\":[true,false,false,false,false,false,false,false,false,false,false,false,false,false,false,false,false,false,false,false]}],\"label\":\"tattmatte\",\"method\":\"update\"},{\"args\":[{\"visible\":[false,true,false,false,false,false,false,false,false,false,false,false,false,false,false,false,false,false,false,false]}],\"label\":\"alike\",\"method\":\"update\"},{\"args\":[{\"visible\":[false,false,true,false,false,false,false,false,false,false,false,false,false,false,false,false,false,false,false,false]}],\"label\":\"straighten\",\"method\":\"update\"},{\"args\":[{\"visible\":[false,false,false,true,false,false,false,false,false,false,false,false,false,false,false,false,false,false,false,false]}],\"label\":\"kaleido\",\"method\":\"update\"},{\"args\":[{\"visible\":[false,false,false,false,true,false,false,false,false,false,false,false,false,false,false,false,false,false,false,false]}],\"label\":\"cruical\",\"method\":\"update\"},{\"args\":[{\"visible\":[false,false,false,false,false,true,false,false,false,false,false,false,false,false,false,false,false,false,false,false]}],\"label\":\"saraxb\",\"method\":\"update\"},{\"args\":[{\"visible\":[false,false,false,false,false,false,true,false,false,false,false,false,false,false,false,false,false,false,false,false]}],\"label\":\"runaround\",\"method\":\"update\"},{\"args\":[{\"visible\":[false,false,false,false,false,false,false,true,false,false,false,false,false,false,false,false,false,false,false,false]}],\"label\":\"sisters\",\"method\":\"update\"},{\"args\":[{\"visible\":[false,false,false,false,false,false,false,false,true,false,false,false,false,false,false,false,false,false,false,false]}],\"label\":\"lookbooks\",\"method\":\"update\"},{\"args\":[{\"visible\":[false,false,false,false,false,false,false,false,false,true,false,false,false,false,false,false,false,false,false,false]}],\"label\":\"camping\",\"method\":\"update\"},{\"args\":[{\"visible\":[false,false,false,false,false,false,false,false,false,false,true,false,false,false,false,false,false,false,false,false]}],\"label\":\"directs\",\"method\":\"update\"},{\"args\":[{\"visible\":[false,false,false,false,false,false,false,false,false,false,false,true,false,false,false,false,false,false,false,false]}],\"label\":\"frosting\",\"method\":\"update\"},{\"args\":[{\"visible\":[false,false,false,false,false,false,false,false,false,false,false,false,true,false,false,false,false,false,false,false]}],\"label\":\"jogs\",\"method\":\"update\"},{\"args\":[{\"visible\":[false,false,false,false,false,false,false,false,false,false,false,false,false,true,false,false,false,false,false,false]}],\"label\":\"repackages\",\"method\":\"update\"},{\"args\":[{\"visible\":[false,false,false,false,false,false,false,false,false,false,false,false,false,false,true,false,false,false,false,false]}],\"label\":\"professionall\",\"method\":\"update\"},{\"args\":[{\"visible\":[false,false,false,false,false,false,false,false,false,false,false,false,false,false,false,true,false,false,false,false]}],\"label\":\"jamata\",\"method\":\"update\"},{\"args\":[{\"visible\":[false,false,false,false,false,false,false,false,false,false,false,false,false,false,false,false,true,false,false,false]}],\"label\":\"shivers\",\"method\":\"update\"},{\"args\":[{\"visible\":[false,false,false,false,false,false,false,false,false,false,false,false,false,false,false,false,false,true,false,false]}],\"label\":\"vidos\",\"method\":\"update\"},{\"args\":[{\"visible\":[false,false,false,false,false,false,false,false,false,false,false,false,false,false,false,false,false,false,true,false]}],\"label\":\"temptation\",\"method\":\"update\"},{\"args\":[{\"visible\":[false,false,false,false,false,false,false,false,false,false,false,false,false,false,false,false,false,false,false,true]}],\"label\":\"complicating\",\"method\":\"update\"}],\"direction\":\"down\",\"pad\":{\"r\":10,\"t\":10},\"showactive\":true,\"x\":0.1,\"xanchor\":\"left\",\"y\":1.3,\"yanchor\":\"top\"}],\"xaxis\":{\"title\":{\"text\":\"Date\"}},\"yaxis\":{\"title\":{\"text\":\"Frequency\"}},\"legend\":{\"title\":{\"text\":\"Top Terms\"}}},                        {\"responsive\": true}                    ).then(function(){\n",
       "                            \n",
       "var gd = document.getElementById('4704e00d-8a32-4e70-b2ea-0385830774a7');\n",
       "var x = new MutationObserver(function (mutations, observer) {{\n",
       "        var display = window.getComputedStyle(gd).display;\n",
       "        if (!display || display === 'none') {{\n",
       "            console.log([gd, 'removed!']);\n",
       "            Plotly.purge(gd);\n",
       "            observer.disconnect();\n",
       "        }}\n",
       "}});\n",
       "\n",
       "// Listen for the removal of the full notebook cells\n",
       "var notebookContainer = gd.closest('#notebook-container');\n",
       "if (notebookContainer) {{\n",
       "    x.observe(notebookContainer, {childList: true});\n",
       "}}\n",
       "\n",
       "// Listen for the clearing of the current output cell\n",
       "var outputEl = gd.closest('.output');\n",
       "if (outputEl) {{\n",
       "    x.observe(outputEl, {childList: true});\n",
       "}}\n",
       "\n",
       "                        })                };                });            </script>        </div>"
      ]
     },
     "metadata": {},
     "output_type": "display_data"
    }
   ],
   "source": [
    "import plotly.graph_objects as go\n",
    "import pandas as pd\n",
    "\n",
    "# Load the DataFrame from the CSV file\n",
    "pdf_top_terms_monthly = pd.read_csv('../../data/csv/top10_popular_words.csv')\n",
    "\n",
    "# Convert 'year' and 'month' to datetime for plotting\n",
    "pdf_top_terms_monthly['date'] = pd.to_datetime(pdf_top_terms_monthly[['year', 'month']].assign(DAY=1))\n",
    "\n",
    "# Get the top 20 terms by overall frequency from the top 10 terms each month\n",
    "top_terms_data = (\n",
    "    pdf_top_terms_monthly.groupby('term')['count']\n",
    "    .sum()\n",
    "    .sort_values(ascending=False)\n",
    "    .head(20)\n",
    ")\n",
    "\n",
    "# Extract the top 20 terms\n",
    "top_terms = top_terms_data.index\n",
    "\n",
    "# Initialize the figure\n",
    "fig = go.Figure()\n",
    "\n",
    "# Add line traces for each of the top 20 terms\n",
    "for term in top_terms:\n",
    "    # Filter the data for the current term\n",
    "    term_data = pdf_top_terms_monthly[pdf_top_terms_monthly['term'] == term]\n",
    "    # Add a trace for this term\n",
    "    fig.add_trace(\n",
    "        go.Scatter(\n",
    "            x=term_data['date'],  \n",
    "            y=term_data['count'],\n",
    "            name=term,\n",
    "            mode='lines+markers',  # Line plot with markers\n",
    "            visible=True  # Set to visible as all terms are top terms now\n",
    "        )\n",
    "    )\n",
    "\n",
    "# Create the buttons for the dropdown menu\n",
    "dropdown_buttons = []\n",
    "\n",
    "# Start with a button that shows all terms\n",
    "dropdown_buttons.append(\n",
    "    {\n",
    "        'label': 'Select All',\n",
    "        'method': 'update',\n",
    "        'args': [{'visible': [True] * len(top_terms)}]\n",
    "    }\n",
    ")\n",
    "\n",
    "# Add buttons for each term to toggle visibility independently\n",
    "for i, term in enumerate(top_terms):\n",
    "    # Each button has its own visibility state\n",
    "    visibility_state = [False] * len(top_terms)\n",
    "    visibility_state[i] = True  # Toggle i-th term\n",
    "\n",
    "    dropdown_buttons.append(\n",
    "        {\n",
    "            'label': term,\n",
    "            'method': 'update',\n",
    "            'args': [{'visible': visibility_state}]\n",
    "        }\n",
    "    )\n",
    "\n",
    "# Add dropdown menu with buttons\n",
    "fig.update_layout(\n",
    "    updatemenus=[\n",
    "        {\n",
    "            'buttons': dropdown_buttons,\n",
    "            'direction': 'down',\n",
    "            'pad': {\"r\": 10, \"t\": 10},\n",
    "            'showactive': True,\n",
    "            'x': 0.1,\n",
    "            'xanchor': 'left',\n",
    "            'y': 1.3,\n",
    "            'yanchor': 'top'\n",
    "        }\n",
    "    ],\n",
    "    xaxis_title='Date',\n",
    "    yaxis_title='Frequency',\n",
    "    legend_title='Top Terms',\n",
    "    margin=dict(l=40, r=40, t=80, b=40)\n",
    ")\n",
    "\n",
    "# Show the figure\n",
    "fig.show()\n",
    "\n",
    "# Save the Plotly figure to an HTML file\n",
    "html_file_path = '../../data/plots/nlp_yyl/top_20_terms.html'  # Adjust the path as needed\n",
    "fig.write_html(html_file_path)\n"
   ]
  },
  {
   "cell_type": "markdown",
   "id": "9a858008-b444-47fb-8eb5-f7c7f9df418b",
   "metadata": {},
   "source": [
    "Term Analysis:\n",
    "\n",
    "    Tattmatte (Navy Blue Line): This term shows significant variability, with the most notable peaks around October 2021 and April 2023, reaching a frequency of just over 50.\n",
    "    Alike (Green Line): Exhibits moderate fluctuations, with a noticeable increase around July 2021 and a peak in early 2023.\n",
    "    Straighten (Red Line): Relatively stable with minor peaks, the most notable being around April 2022.\n",
    "    Kaleido (Brown Line): This line shows a gradual increase over time, with spikes that appear to be seasonal, peaking in mid-2021 and early 2023.\n",
    "    Crucial (Purple Line): Shows a spike around April 2022 and maintains a low to moderate frequency at other times.\n",
    "    Saraxb (Teal Line): Remains relatively low-frequency with slight peaks, the highest being around mid-2022.\n",
    "    Runaround (Orange Line): This term's frequency increases in the latter half of 2022 and maintains a moderate frequency thereafter.\n",
    "    Sisters (Light Blue Line): Shows occasional spikes but remains generally low in frequency.\n",
    "    Lookbooks (Pink Line): After being relatively flat, it shows a peak in early 2022 and another in early 2023.\n",
    "    Camping (Yellow Line): Very low frequency throughout, with no significant peaks.\n",
    "    Directs (Light Green Line): Not clearly visible on the graph, indicating a very low or negligible frequency compared to the other terms.\n",
    "Overall Trends:\n",
    "\n",
    "The term \"tattmatte\" dominates the graph in terms of frequency, suggesting it's a highly discussed topic or term in the subreddit.\n",
    "There is an observable increase in the frequency of several terms from the beginning of 2022, which might indicate an overall increase in activity or specific events that prompted discussions in the subreddit.\n",
    "Seasonal or event-driven peaks suggest that some terms are associated with specific times of the year or events within the makeup community."
   ]
  },
  {
   "cell_type": "markdown",
   "id": "3da62725-3436-4a58-98db-41367ebbb2fa",
   "metadata": {},
   "source": [
    "### Sentiment Analysis"
   ]
  },
  {
   "cell_type": "code",
   "execution_count": 2,
   "id": "fceba627-3219-40fe-9f4b-c3909a5c2965",
   "metadata": {},
   "outputs": [
    {
     "name": "stdout",
     "output_type": "stream",
     "text": [
      "Collecting textblob\n",
      "  Downloading textblob-0.17.1-py2.py3-none-any.whl (636 kB)\n",
      "\u001b[2K     \u001b[90m━━━━━━━━━━━━━━━━━━━━━━━━━━━━━━━━━━━━━━━\u001b[0m \u001b[32m636.8/636.8 kB\u001b[0m \u001b[31m9.0 MB/s\u001b[0m eta \u001b[36m0:00:00\u001b[0m00:01\u001b[0m\n",
      "\u001b[?25hRequirement already satisfied: nltk>=3.1 in /opt/conda/lib/python3.10/site-packages (from textblob) (3.7)\n",
      "Requirement already satisfied: click in /opt/conda/lib/python3.10/site-packages (from nltk>=3.1->textblob) (8.1.7)\n",
      "Requirement already satisfied: joblib in /opt/conda/lib/python3.10/site-packages (from nltk>=3.1->textblob) (1.3.2)\n",
      "Requirement already satisfied: regex>=2021.8.3 in /opt/conda/lib/python3.10/site-packages (from nltk>=3.1->textblob) (2022.7.9)\n",
      "Requirement already satisfied: tqdm in /opt/conda/lib/python3.10/site-packages (from nltk>=3.1->textblob) (4.64.1)\n",
      "Installing collected packages: textblob\n",
      "Successfully installed textblob-0.17.1\n",
      "\u001b[33mWARNING: Running pip as the 'root' user can result in broken permissions and conflicting behaviour with the system package manager. It is recommended to use a virtual environment instead: https://pip.pypa.io/warnings/venv\u001b[0m\u001b[33m\n",
      "\u001b[0m\n",
      "\u001b[1m[\u001b[0m\u001b[34;49mnotice\u001b[0m\u001b[1;39;49m]\u001b[0m\u001b[39;49m A new release of pip is available: \u001b[0m\u001b[31;49m23.2.1\u001b[0m\u001b[39;49m -> \u001b[0m\u001b[32;49m23.3.1\u001b[0m\n",
      "\u001b[1m[\u001b[0m\u001b[34;49mnotice\u001b[0m\u001b[1;39;49m]\u001b[0m\u001b[39;49m To update, run: \u001b[0m\u001b[32;49mpip install --upgrade pip\u001b[0m\n",
      "Note: you may need to restart the kernel to use updated packages.\n"
     ]
    }
   ],
   "source": [
    "%pip install textblob"
   ]
  },
  {
   "cell_type": "code",
   "execution_count": 10,
   "id": "2d4989ed-9dbe-44ec-a69c-0f53b2c5861a",
   "metadata": {
    "tags": []
   },
   "outputs": [],
   "source": [
    "from textblob import TextBlob\n",
    "from pyspark.sql.functions import udf\n",
    "from pyspark.sql.types import FloatType\n",
    "\n",
    "# Function to get sentiment\n",
    "def sentiment_analysis(text):\n",
    "    return TextBlob(text).sentiment.polarity\n",
    "\n",
    "# Create UDF for sentiment analysis\n",
    "sentiment_udf = udf(sentiment_analysis, FloatType())\n",
    "\n",
    "# Assuming your DataFrame is named 'df' and the text column is 'clean_text'\n",
    "df_with_sentiment = tfidf_data.withColumn(\"sentiment\", sentiment_udf(tfidf_data['clean_text']))\n"
   ]
  },
  {
   "cell_type": "code",
   "execution_count": 11,
   "id": "efc41f2c-d0fb-43e1-9b59-88db42cf8259",
   "metadata": {
    "tags": []
   },
   "outputs": [
    {
     "name": "stderr",
     "output_type": "stream",
     "text": [
      "                                                                                \r"
     ]
    }
   ],
   "source": [
    "# Convert the specific column to Pandas DataFrame for visualization\n",
    "df_with_sentiment_pd = df_with_sentiment.select('sentiment').toPandas()"
   ]
  },
  {
   "cell_type": "code",
   "execution_count": 35,
   "id": "6e8d4713-9ea1-477c-bdd6-7a70f0cf542d",
   "metadata": {
    "tags": []
   },
   "outputs": [
    {
     "name": "stderr",
     "output_type": "stream",
     "text": [
      "23/11/19 21:54:22 WARN DAGScheduler: Broadcasting large task binary with size 4.1 MiB\n",
      "23/11/19 21:57:55 WARN DAGScheduler: Broadcasting large task binary with size 4.1 MiB\n",
      "23/11/19 21:57:55 WARN DAGScheduler: Broadcasting large task binary with size 4.1 MiB\n",
      "23/11/19 22:03:28 WARN DAGScheduler: Broadcasting large task binary with size 4.1 MiB\n",
      "                                                                                \r"
     ]
    }
   ],
   "source": [
    "from pyspark.sql.functions import explode, col\n",
    "\n",
    "# Explode the 'top_terms' column to individual terms\n",
    "exploded_df = df_with_sentiment.withColumn(\"term\", explode(\"top_terms\"))\n",
    "\n",
    "# Group by term and calculate the total count and average sentiment for the whole year\n",
    "total_grouped_data = exploded_df.groupby('term').agg(\n",
    "    F.count('term').alias('total_count'),\n",
    "    F.mean('sentiment').alias('total_avg_sentiment')\n",
    ")\n",
    "\n",
    "# Get the top 20 terms based on total count\n",
    "top_20_terms = total_grouped_data.orderBy(F.desc('total_count')).limit(20).select('term').rdd.flatMap(lambda x: x).collect()\n",
    "\n",
    "# Filter the exploded DataFrame to only include the top 20 terms\n",
    "top_terms_df = exploded_df.filter(exploded_df.term.isin(top_20_terms))\n",
    "\n",
    "# Group by year, month, and term; then calculate average sentiment\n",
    "monthly_grouped_data = top_terms_df.groupby('year', 'month', 'term').agg(\n",
    "    F.mean('sentiment').alias('avg_sentiment')\n",
    ")\n",
    "\n",
    "# Convert to Pandas DataFrame for visualization\n",
    "monthly_grouped_data_pd = monthly_grouped_data.toPandas()\n",
    "\n"
   ]
  },
  {
   "cell_type": "code",
   "execution_count": 42,
   "id": "2e687354-caeb-43b9-9d42-017893b2ea59",
   "metadata": {
    "tags": []
   },
   "outputs": [
    {
     "data": {
      "application/vnd.plotly.v1+json": {
       "config": {
        "plotlyServerURL": "https://plot.ly"
       },
       "data": [
        {
         "alignmentgroup": "True",
         "hovertemplate": "term=%{x}<br>date=2021-11<br>avg_sentiment=%{y}<extra></extra>",
         "ids": [
          "town"
         ],
         "legendgroup": "town",
         "marker": {
          "color": "#636efa",
          "pattern": {
           "shape": ""
          }
         },
         "name": "town",
         "offsetgroup": "town",
         "orientation": "v",
         "showlegend": true,
         "textposition": "auto",
         "type": "bar",
         "x": [
          "town"
         ],
         "xaxis": "x",
         "y": [
          -0.22083333134651184
         ],
         "yaxis": "y"
        },
        {
         "alignmentgroup": "True",
         "hovertemplate": "term=%{x}<br>date=2021-11<br>avg_sentiment=%{y}<extra></extra>",
         "ids": [
          "closeset"
         ],
         "legendgroup": "closeset",
         "marker": {
          "color": "#FF6692",
          "pattern": {
           "shape": ""
          }
         },
         "name": "closeset",
         "offsetgroup": "closeset",
         "orientation": "v",
         "showlegend": true,
         "textposition": "auto",
         "type": "bar",
         "x": [
          "closeset"
         ],
         "xaxis": "x",
         "y": [
          0.3583333194255829
         ],
         "yaxis": "y"
        },
        {
         "alignmentgroup": "True",
         "hovertemplate": "term=%{x}<br>date=2021-11<br>avg_sentiment=%{y}<extra></extra>",
         "ids": [
          "loooove"
         ],
         "legendgroup": "loooove",
         "marker": {
          "color": "#FECB52",
          "pattern": {
           "shape": ""
          }
         },
         "name": "loooove",
         "offsetgroup": "loooove",
         "orientation": "v",
         "showlegend": true,
         "textposition": "auto",
         "type": "bar",
         "x": [
          "loooove"
         ],
         "xaxis": "x",
         "y": [
          0
         ],
         "yaxis": "y"
        },
        {
         "alignmentgroup": "True",
         "hovertemplate": "term=%{x}<br>date=2021-08<br>avg_sentiment=%{y}<extra></extra>",
         "ids": [
          "maine"
         ],
         "legendgroup": "maine",
         "marker": {
          "color": "#FECB52",
          "pattern": {
           "shape": ""
          }
         },
         "name": "maine",
         "offsetgroup": "maine",
         "orientation": "v",
         "showlegend": true,
         "textposition": "auto",
         "type": "bar",
         "x": [
          "maine"
         ],
         "xaxis": "x",
         "y": [
          0.10000000149011612
         ],
         "yaxis": "y"
        },
        {
         "alignmentgroup": "True",
         "hovertemplate": "term=%{x}<br>date=2021-08<br>avg_sentiment=%{y}<extra></extra>",
         "ids": [
          "iredale"
         ],
         "legendgroup": "iredale",
         "marker": {
          "color": "#EF553B",
          "pattern": {
           "shape": ""
          }
         },
         "name": "iredale",
         "offsetgroup": "iredale",
         "orientation": "v",
         "showlegend": true,
         "textposition": "auto",
         "type": "bar",
         "x": [
          "iredale"
         ],
         "xaxis": "x",
         "y": [
          0.15909090638160706
         ],
         "yaxis": "y"
        },
        {
         "alignmentgroup": "True",
         "hovertemplate": "term=%{x}<br>date=2021-08<br>avg_sentiment=%{y}<extra></extra>",
         "ids": [
          "saying"
         ],
         "legendgroup": "saying",
         "marker": {
          "color": "#00cc96",
          "pattern": {
           "shape": ""
          }
         },
         "name": "saying",
         "offsetgroup": "saying",
         "orientation": "v",
         "showlegend": true,
         "textposition": "auto",
         "type": "bar",
         "x": [
          "saying"
         ],
         "xaxis": "x",
         "y": [
          0.0949999988079071
         ],
         "yaxis": "y"
        },
        {
         "alignmentgroup": "True",
         "hovertemplate": "term=%{x}<br>date=2021-08<br>avg_sentiment=%{y}<extra></extra>",
         "ids": [
          "seduction"
         ],
         "legendgroup": "seduction",
         "marker": {
          "color": "#B6E880",
          "pattern": {
           "shape": ""
          }
         },
         "name": "seduction",
         "offsetgroup": "seduction",
         "orientation": "v",
         "showlegend": true,
         "textposition": "auto",
         "type": "bar",
         "x": [
          "seduction"
         ],
         "xaxis": "x",
         "y": [
          0.26286548376083374
         ],
         "yaxis": "y"
        },
        {
         "alignmentgroup": "True",
         "hovertemplate": "term=%{x}<br>date=2021-08<br>avg_sentiment=%{y}<extra></extra>",
         "ids": [
          "findings"
         ],
         "legendgroup": "findings",
         "marker": {
          "color": "#FF97FF",
          "pattern": {
           "shape": ""
          }
         },
         "name": "findings",
         "offsetgroup": "findings",
         "orientation": "v",
         "showlegend": true,
         "textposition": "auto",
         "type": "bar",
         "x": [
          "findings"
         ],
         "xaxis": "x",
         "y": [
          0.03333333507180214
         ],
         "yaxis": "y"
        },
        {
         "alignmentgroup": "True",
         "hovertemplate": "term=%{x}<br>date=2021-05<br>avg_sentiment=%{y}<extra></extra>",
         "ids": [
          "seduction"
         ],
         "legendgroup": "seduction",
         "marker": {
          "color": "#B6E880",
          "pattern": {
           "shape": ""
          }
         },
         "name": "seduction",
         "offsetgroup": "seduction",
         "orientation": "v",
         "showlegend": true,
         "textposition": "auto",
         "type": "bar",
         "x": [
          "seduction"
         ],
         "xaxis": "x",
         "y": [
          0.04742063581943512
         ],
         "yaxis": "y"
        }
       ],
       "frames": [
        {
         "data": [
          {
           "alignmentgroup": "True",
           "hovertemplate": "term=%{x}<br>date=2023-03<br>avg_sentiment=%{y}<extra></extra>",
           "ids": [
            "town"
           ],
           "legendgroup": "town",
           "marker": {
            "color": "#636efa",
            "pattern": {
             "shape": ""
            }
           },
           "name": "town",
           "offsetgroup": "town",
           "orientation": "v",
           "showlegend": true,
           "textposition": "auto",
           "type": "bar",
           "x": [
            "town"
           ],
           "xaxis": "x",
           "y": [
            0.10000000102445483
           ],
           "yaxis": "y"
          },
          {
           "alignmentgroup": "True",
           "hovertemplate": "term=%{x}<br>date=2023-03<br>avg_sentiment=%{y}<extra></extra>",
           "ids": [
            "zippered"
           ],
           "legendgroup": "zippered",
           "marker": {
            "color": "#ab63fa",
            "pattern": {
             "shape": ""
            }
           },
           "name": "zippered",
           "offsetgroup": "zippered",
           "orientation": "v",
           "showlegend": true,
           "textposition": "auto",
           "type": "bar",
           "x": [
            "zippered"
           ],
           "xaxis": "x",
           "y": [
            0.16833333174387613
           ],
           "yaxis": "y"
          },
          {
           "alignmentgroup": "True",
           "hovertemplate": "term=%{x}<br>date=2023-03<br>avg_sentiment=%{y}<extra></extra>",
           "ids": [
            "closeset"
           ],
           "legendgroup": "closeset",
           "marker": {
            "color": "#FF6692",
            "pattern": {
             "shape": ""
            }
           },
           "name": "closeset",
           "offsetgroup": "closeset",
           "orientation": "v",
           "showlegend": true,
           "textposition": "auto",
           "type": "bar",
           "x": [
            "closeset"
           ],
           "xaxis": "x",
           "y": [
            0.09583333134651184
           ],
           "yaxis": "y"
          },
          {
           "alignmentgroup": "True",
           "hovertemplate": "term=%{x}<br>date=2023-03<br>avg_sentiment=%{y}<extra></extra>",
           "ids": [
            "hairy"
           ],
           "legendgroup": "hairy",
           "marker": {
            "color": "#B6E880",
            "pattern": {
             "shape": ""
            }
           },
           "name": "hairy",
           "offsetgroup": "hairy",
           "orientation": "v",
           "showlegend": true,
           "textposition": "auto",
           "type": "bar",
           "x": [
            "hairy"
           ],
           "xaxis": "x",
           "y": [
            0.09768229094333947
           ],
           "yaxis": "y"
          },
          {
           "alignmentgroup": "True",
           "hovertemplate": "term=%{x}<br>date=2023-03<br>avg_sentiment=%{y}<extra></extra>",
           "ids": [
            "spread"
           ],
           "legendgroup": "spread",
           "marker": {
            "color": "#FF97FF",
            "pattern": {
             "shape": ""
            }
           },
           "name": "spread",
           "offsetgroup": "spread",
           "orientation": "v",
           "showlegend": true,
           "textposition": "auto",
           "type": "bar",
           "x": [
            "spread"
           ],
           "xaxis": "x",
           "y": [
            0.10000000149011612
           ],
           "yaxis": "y"
          },
          {
           "alignmentgroup": "True",
           "hovertemplate": "term=%{x}<br>date=2023-03<br>avg_sentiment=%{y}<extra></extra>",
           "ids": [
            "maine"
           ],
           "legendgroup": "maine",
           "marker": {
            "color": "#FECB52",
            "pattern": {
             "shape": ""
            }
           },
           "name": "maine",
           "offsetgroup": "maine",
           "orientation": "v",
           "showlegend": true,
           "textposition": "auto",
           "type": "bar",
           "x": [
            "maine"
           ],
           "xaxis": "x",
           "y": [
            -0.0071428571827709675
           ],
           "yaxis": "y"
          },
          {
           "alignmentgroup": "True",
           "hovertemplate": "term=%{x}<br>date=2023-03<br>avg_sentiment=%{y}<extra></extra>",
           "ids": [
            "careful"
           ],
           "legendgroup": "careful",
           "marker": {
            "color": "#636efa",
            "pattern": {
             "shape": ""
            }
           },
           "name": "careful",
           "offsetgroup": "careful",
           "orientation": "v",
           "showlegend": true,
           "textposition": "auto",
           "type": "bar",
           "x": [
            "careful"
           ],
           "xaxis": "x",
           "y": [
            0.1599999964237213
           ],
           "yaxis": "y"
          },
          {
           "alignmentgroup": "True",
           "hovertemplate": "term=%{x}<br>date=2023-03<br>avg_sentiment=%{y}<extra></extra>",
           "ids": [
            "dentist"
           ],
           "legendgroup": "dentist",
           "marker": {
            "color": "#FFA15A",
            "pattern": {
             "shape": ""
            }
           },
           "name": "dentist",
           "offsetgroup": "dentist",
           "orientation": "v",
           "showlegend": true,
           "textposition": "auto",
           "type": "bar",
           "x": [
            "dentist"
           ],
           "xaxis": "x",
           "y": [
            0.20000000298023224
           ],
           "yaxis": "y"
          },
          {
           "alignmentgroup": "True",
           "hovertemplate": "term=%{x}<br>date=2023-03<br>avg_sentiment=%{y}<extra></extra>",
           "ids": [
            "dabbling"
           ],
           "legendgroup": "dabbling",
           "marker": {
            "color": "#19d3f3",
            "pattern": {
             "shape": ""
            }
           },
           "name": "dabbling",
           "offsetgroup": "dabbling",
           "orientation": "v",
           "showlegend": true,
           "textposition": "auto",
           "type": "bar",
           "x": [
            "dabbling"
           ],
           "xaxis": "x",
           "y": [
            0.1111776332060496
           ],
           "yaxis": "y"
          }
         ],
         "name": "2023-03"
        },
        {
         "data": [
          {
           "alignmentgroup": "True",
           "hovertemplate": "term=%{x}<br>date=2022-09<br>avg_sentiment=%{y}<extra></extra>",
           "ids": [
            "town"
           ],
           "legendgroup": "town",
           "marker": {
            "color": "#636efa",
            "pattern": {
             "shape": ""
            }
           },
           "name": "town",
           "offsetgroup": "town",
           "orientation": "v",
           "showlegend": true,
           "textposition": "auto",
           "type": "bar",
           "x": [
            "town"
           ],
           "xaxis": "x",
           "y": [
            -0.028401359915733337
           ],
           "yaxis": "y"
          },
          {
           "alignmentgroup": "True",
           "hovertemplate": "term=%{x}<br>date=2022-09<br>avg_sentiment=%{y}<extra></extra>",
           "ids": [
            "aloe"
           ],
           "legendgroup": "aloe",
           "marker": {
            "color": "#EF553B",
            "pattern": {
             "shape": ""
            }
           },
           "name": "aloe",
           "offsetgroup": "aloe",
           "orientation": "v",
           "showlegend": true,
           "textposition": "auto",
           "type": "bar",
           "x": [
            "aloe"
           ],
           "xaxis": "x",
           "y": [
            0.13768939673900604
           ],
           "yaxis": "y"
          },
          {
           "alignmentgroup": "True",
           "hovertemplate": "term=%{x}<br>date=2022-09<br>avg_sentiment=%{y}<extra></extra>",
           "ids": [
            "hairbrush"
           ],
           "legendgroup": "hairbrush",
           "marker": {
            "color": "#00cc96",
            "pattern": {
             "shape": ""
            }
           },
           "name": "hairbrush",
           "offsetgroup": "hairbrush",
           "orientation": "v",
           "showlegend": true,
           "textposition": "auto",
           "type": "bar",
           "x": [
            "hairbrush"
           ],
           "xaxis": "x",
           "y": [
            0.20775362849235535
           ],
           "yaxis": "y"
          },
          {
           "alignmentgroup": "True",
           "hovertemplate": "term=%{x}<br>date=2022-09<br>avg_sentiment=%{y}<extra></extra>",
           "ids": [
            "hairy"
           ],
           "legendgroup": "hairy",
           "marker": {
            "color": "#B6E880",
            "pattern": {
             "shape": ""
            }
           },
           "name": "hairy",
           "offsetgroup": "hairy",
           "orientation": "v",
           "showlegend": true,
           "textposition": "auto",
           "type": "bar",
           "x": [
            "hairy"
           ],
           "xaxis": "x",
           "y": [
            -0.15813972304264703
           ],
           "yaxis": "y"
          },
          {
           "alignmentgroup": "True",
           "hovertemplate": "term=%{x}<br>date=2022-09<br>avg_sentiment=%{y}<extra></extra>",
           "ids": [
            "careful"
           ],
           "legendgroup": "careful",
           "marker": {
            "color": "#636efa",
            "pattern": {
             "shape": ""
            }
           },
           "name": "careful",
           "offsetgroup": "careful",
           "orientation": "v",
           "showlegend": true,
           "textposition": "auto",
           "type": "bar",
           "x": [
            "careful"
           ],
           "xaxis": "x",
           "y": [
            0.05138888955116272
           ],
           "yaxis": "y"
          },
          {
           "alignmentgroup": "True",
           "hovertemplate": "term=%{x}<br>date=2022-09<br>avg_sentiment=%{y}<extra></extra>",
           "ids": [
            "saying"
           ],
           "legendgroup": "saying",
           "marker": {
            "color": "#00cc96",
            "pattern": {
             "shape": ""
            }
           },
           "name": "saying",
           "offsetgroup": "saying",
           "orientation": "v",
           "showlegend": true,
           "textposition": "auto",
           "type": "bar",
           "x": [
            "saying"
           ],
           "xaxis": "x",
           "y": [
            0.5
           ],
           "yaxis": "y"
          },
          {
           "alignmentgroup": "True",
           "hovertemplate": "term=%{x}<br>date=2022-09<br>avg_sentiment=%{y}<extra></extra>",
           "ids": [
            "stained"
           ],
           "legendgroup": "stained",
           "marker": {
            "color": "#ab63fa",
            "pattern": {
             "shape": ""
            }
           },
           "name": "stained",
           "offsetgroup": "stained",
           "orientation": "v",
           "showlegend": true,
           "textposition": "auto",
           "type": "bar",
           "x": [
            "stained"
           ],
           "xaxis": "x",
           "y": [
            -0.01666666753590107
           ],
           "yaxis": "y"
          },
          {
           "alignmentgroup": "True",
           "hovertemplate": "term=%{x}<br>date=2022-09<br>avg_sentiment=%{y}<extra></extra>",
           "ids": [
            "dabbling"
           ],
           "legendgroup": "dabbling",
           "marker": {
            "color": "#19d3f3",
            "pattern": {
             "shape": ""
            }
           },
           "name": "dabbling",
           "offsetgroup": "dabbling",
           "orientation": "v",
           "showlegend": true,
           "textposition": "auto",
           "type": "bar",
           "x": [
            "dabbling"
           ],
           "xaxis": "x",
           "y": [
            0.07424242794513702
           ],
           "yaxis": "y"
          },
          {
           "alignmentgroup": "True",
           "hovertemplate": "term=%{x}<br>date=2022-09<br>avg_sentiment=%{y}<extra></extra>",
           "ids": [
            "small"
           ],
           "legendgroup": "small",
           "marker": {
            "color": "#FF6692",
            "pattern": {
             "shape": ""
            }
           },
           "name": "small",
           "offsetgroup": "small",
           "orientation": "v",
           "showlegend": true,
           "textposition": "auto",
           "type": "bar",
           "x": [
            "small"
           ],
           "xaxis": "x",
           "y": [
            0.232051283121109
           ],
           "yaxis": "y"
          }
         ],
         "name": "2022-09"
        },
        {
         "data": [
          {
           "alignmentgroup": "True",
           "hovertemplate": "term=%{x}<br>date=2023-01<br>avg_sentiment=%{y}<extra></extra>",
           "ids": [
            "hairbrush"
           ],
           "legendgroup": "hairbrush",
           "marker": {
            "color": "#00cc96",
            "pattern": {
             "shape": ""
            }
           },
           "name": "hairbrush",
           "offsetgroup": "hairbrush",
           "orientation": "v",
           "showlegend": true,
           "textposition": "auto",
           "type": "bar",
           "x": [
            "hairbrush"
           ],
           "xaxis": "x",
           "y": [
            0.12619048357009888
           ],
           "yaxis": "y"
          },
          {
           "alignmentgroup": "True",
           "hovertemplate": "term=%{x}<br>date=2023-01<br>avg_sentiment=%{y}<extra></extra>",
           "ids": [
            "closeset"
           ],
           "legendgroup": "closeset",
           "marker": {
            "color": "#FF6692",
            "pattern": {
             "shape": ""
            }
           },
           "name": "closeset",
           "offsetgroup": "closeset",
           "orientation": "v",
           "showlegend": true,
           "textposition": "auto",
           "type": "bar",
           "x": [
            "closeset"
           ],
           "xaxis": "x",
           "y": [
            0.06527777761220932
           ],
           "yaxis": "y"
          },
          {
           "alignmentgroup": "True",
           "hovertemplate": "term=%{x}<br>date=2023-01<br>avg_sentiment=%{y}<extra></extra>",
           "ids": [
            "hairy"
           ],
           "legendgroup": "hairy",
           "marker": {
            "color": "#B6E880",
            "pattern": {
             "shape": ""
            }
           },
           "name": "hairy",
           "offsetgroup": "hairy",
           "orientation": "v",
           "showlegend": true,
           "textposition": "auto",
           "type": "bar",
           "x": [
            "hairy"
           ],
           "xaxis": "x",
           "y": [
            0.07202381081879139
           ],
           "yaxis": "y"
          },
          {
           "alignmentgroup": "True",
           "hovertemplate": "term=%{x}<br>date=2023-01<br>avg_sentiment=%{y}<extra></extra>",
           "ids": [
            "iredale"
           ],
           "legendgroup": "iredale",
           "marker": {
            "color": "#EF553B",
            "pattern": {
             "shape": ""
            }
           },
           "name": "iredale",
           "offsetgroup": "iredale",
           "orientation": "v",
           "showlegend": true,
           "textposition": "auto",
           "type": "bar",
           "x": [
            "iredale"
           ],
           "xaxis": "x",
           "y": [
            0.0535714291036129
           ],
           "yaxis": "y"
          },
          {
           "alignmentgroup": "True",
           "hovertemplate": "term=%{x}<br>date=2023-01<br>avg_sentiment=%{y}<extra></extra>",
           "ids": [
            "stained"
           ],
           "legendgroup": "stained",
           "marker": {
            "color": "#ab63fa",
            "pattern": {
             "shape": ""
            }
           },
           "name": "stained",
           "offsetgroup": "stained",
           "orientation": "v",
           "showlegend": true,
           "textposition": "auto",
           "type": "bar",
           "x": [
            "stained"
           ],
           "xaxis": "x",
           "y": [
            0.20000000298023224
           ],
           "yaxis": "y"
          },
          {
           "alignmentgroup": "True",
           "hovertemplate": "term=%{x}<br>date=2023-01<br>avg_sentiment=%{y}<extra></extra>",
           "ids": [
            "dabbling"
           ],
           "legendgroup": "dabbling",
           "marker": {
            "color": "#19d3f3",
            "pattern": {
             "shape": ""
            }
           },
           "name": "dabbling",
           "offsetgroup": "dabbling",
           "orientation": "v",
           "showlegend": true,
           "textposition": "auto",
           "type": "bar",
           "x": [
            "dabbling"
           ],
           "xaxis": "x",
           "y": [
            0.06111111119389534
           ],
           "yaxis": "y"
          },
          {
           "alignmentgroup": "True",
           "hovertemplate": "term=%{x}<br>date=2023-01<br>avg_sentiment=%{y}<extra></extra>",
           "ids": [
            "small"
           ],
           "legendgroup": "small",
           "marker": {
            "color": "#FF6692",
            "pattern": {
             "shape": ""
            }
           },
           "name": "small",
           "offsetgroup": "small",
           "orientation": "v",
           "showlegend": true,
           "textposition": "auto",
           "type": "bar",
           "x": [
            "small"
           ],
           "xaxis": "x",
           "y": [
            0.13977272808551788
           ],
           "yaxis": "y"
          }
         ],
         "name": "2023-01"
        },
        {
         "data": [
          {
           "alignmentgroup": "True",
           "hovertemplate": "term=%{x}<br>date=2023-02<br>avg_sentiment=%{y}<extra></extra>",
           "ids": [
            "ideally"
           ],
           "legendgroup": "ideally",
           "marker": {
            "color": "#FFA15A",
            "pattern": {
             "shape": ""
            }
           },
           "name": "ideally",
           "offsetgroup": "ideally",
           "orientation": "v",
           "showlegend": true,
           "textposition": "auto",
           "type": "bar",
           "x": [
            "ideally"
           ],
           "xaxis": "x",
           "y": [
            0.014791666530072689
           ],
           "yaxis": "y"
          },
          {
           "alignmentgroup": "True",
           "hovertemplate": "term=%{x}<br>date=2023-02<br>avg_sentiment=%{y}<extra></extra>",
           "ids": [
            "paypal"
           ],
           "legendgroup": "paypal",
           "marker": {
            "color": "#19d3f3",
            "pattern": {
             "shape": ""
            }
           },
           "name": "paypal",
           "offsetgroup": "paypal",
           "orientation": "v",
           "showlegend": true,
           "textposition": "auto",
           "type": "bar",
           "x": [
            "paypal"
           ],
           "xaxis": "x",
           "y": [
            0.1251995898783207
           ],
           "yaxis": "y"
          },
          {
           "alignmentgroup": "True",
           "hovertemplate": "term=%{x}<br>date=2023-02<br>avg_sentiment=%{y}<extra></extra>",
           "ids": [
            "hairy"
           ],
           "legendgroup": "hairy",
           "marker": {
            "color": "#B6E880",
            "pattern": {
             "shape": ""
            }
           },
           "name": "hairy",
           "offsetgroup": "hairy",
           "orientation": "v",
           "showlegend": true,
           "textposition": "auto",
           "type": "bar",
           "x": [
            "hairy"
           ],
           "xaxis": "x",
           "y": [
            0.07120000012218952
           ],
           "yaxis": "y"
          },
          {
           "alignmentgroup": "True",
           "hovertemplate": "term=%{x}<br>date=2023-02<br>avg_sentiment=%{y}<extra></extra>",
           "ids": [
            "saying"
           ],
           "legendgroup": "saying",
           "marker": {
            "color": "#00cc96",
            "pattern": {
             "shape": ""
            }
           },
           "name": "saying",
           "offsetgroup": "saying",
           "orientation": "v",
           "showlegend": true,
           "textposition": "auto",
           "type": "bar",
           "x": [
            "saying"
           ],
           "xaxis": "x",
           "y": [
            0.14041666686534882
           ],
           "yaxis": "y"
          },
          {
           "alignmentgroup": "True",
           "hovertemplate": "term=%{x}<br>date=2023-02<br>avg_sentiment=%{y}<extra></extra>",
           "ids": [
            "stained"
           ],
           "legendgroup": "stained",
           "marker": {
            "color": "#ab63fa",
            "pattern": {
             "shape": ""
            }
           },
           "name": "stained",
           "offsetgroup": "stained",
           "orientation": "v",
           "showlegend": true,
           "textposition": "auto",
           "type": "bar",
           "x": [
            "stained"
           ],
           "xaxis": "x",
           "y": [
            0.11153846234083176
           ],
           "yaxis": "y"
          },
          {
           "alignmentgroup": "True",
           "hovertemplate": "term=%{x}<br>date=2023-02<br>avg_sentiment=%{y}<extra></extra>",
           "ids": [
            "loooove"
           ],
           "legendgroup": "loooove",
           "marker": {
            "color": "#FECB52",
            "pattern": {
             "shape": ""
            }
           },
           "name": "loooove",
           "offsetgroup": "loooove",
           "orientation": "v",
           "showlegend": true,
           "textposition": "auto",
           "type": "bar",
           "x": [
            "loooove"
           ],
           "xaxis": "x",
           "y": [
            0
           ],
           "yaxis": "y"
          }
         ],
         "name": "2023-02"
        },
        {
         "data": [
          {
           "alignmentgroup": "True",
           "hovertemplate": "term=%{x}<br>date=2022-05<br>avg_sentiment=%{y}<extra></extra>",
           "ids": [
            "hairbrush"
           ],
           "legendgroup": "hairbrush",
           "marker": {
            "color": "#00cc96",
            "pattern": {
             "shape": ""
            }
           },
           "name": "hairbrush",
           "offsetgroup": "hairbrush",
           "orientation": "v",
           "showlegend": true,
           "textposition": "auto",
           "type": "bar",
           "x": [
            "hairbrush"
           ],
           "xaxis": "x",
           "y": [
            -0.125
           ],
           "yaxis": "y"
          },
          {
           "alignmentgroup": "True",
           "hovertemplate": "term=%{x}<br>date=2022-05<br>avg_sentiment=%{y}<extra></extra>",
           "ids": [
            "hairy"
           ],
           "legendgroup": "hairy",
           "marker": {
            "color": "#B6E880",
            "pattern": {
             "shape": ""
            }
           },
           "name": "hairy",
           "offsetgroup": "hairy",
           "orientation": "v",
           "showlegend": true,
           "textposition": "auto",
           "type": "bar",
           "x": [
            "hairy"
           ],
           "xaxis": "x",
           "y": [
            0.040277778171002865
           ],
           "yaxis": "y"
          },
          {
           "alignmentgroup": "True",
           "hovertemplate": "term=%{x}<br>date=2022-05<br>avg_sentiment=%{y}<extra></extra>",
           "ids": [
            "careful"
           ],
           "legendgroup": "careful",
           "marker": {
            "color": "#636efa",
            "pattern": {
             "shape": ""
            }
           },
           "name": "careful",
           "offsetgroup": "careful",
           "orientation": "v",
           "showlegend": true,
           "textposition": "auto",
           "type": "bar",
           "x": [
            "careful"
           ],
           "xaxis": "x",
           "y": [
            0.07500000298023224
           ],
           "yaxis": "y"
          },
          {
           "alignmentgroup": "True",
           "hovertemplate": "term=%{x}<br>date=2022-05<br>avg_sentiment=%{y}<extra></extra>",
           "ids": [
            "small"
           ],
           "legendgroup": "small",
           "marker": {
            "color": "#FF6692",
            "pattern": {
             "shape": ""
            }
           },
           "name": "small",
           "offsetgroup": "small",
           "orientation": "v",
           "showlegend": true,
           "textposition": "auto",
           "type": "bar",
           "x": [
            "small"
           ],
           "xaxis": "x",
           "y": [
            -0.05925925821065903
           ],
           "yaxis": "y"
          },
          {
           "alignmentgroup": "True",
           "hovertemplate": "term=%{x}<br>date=2022-05<br>avg_sentiment=%{y}<extra></extra>",
           "ids": [
            "seduction"
           ],
           "legendgroup": "seduction",
           "marker": {
            "color": "#B6E880",
            "pattern": {
             "shape": ""
            }
           },
           "name": "seduction",
           "offsetgroup": "seduction",
           "orientation": "v",
           "showlegend": true,
           "textposition": "auto",
           "type": "bar",
           "x": [
            "seduction"
           ],
           "xaxis": "x",
           "y": [
            0.009245350956916809
           ],
           "yaxis": "y"
          },
          {
           "alignmentgroup": "True",
           "hovertemplate": "term=%{x}<br>date=2022-05<br>avg_sentiment=%{y}<extra></extra>",
           "ids": [
            "findings"
           ],
           "legendgroup": "findings",
           "marker": {
            "color": "#FF97FF",
            "pattern": {
             "shape": ""
            }
           },
           "name": "findings",
           "offsetgroup": "findings",
           "orientation": "v",
           "showlegend": true,
           "textposition": "auto",
           "type": "bar",
           "x": [
            "findings"
           ],
           "xaxis": "x",
           "y": [
            0.20000000298023224
           ],
           "yaxis": "y"
          },
          {
           "alignmentgroup": "True",
           "hovertemplate": "term=%{x}<br>date=2022-05<br>avg_sentiment=%{y}<extra></extra>",
           "ids": [
            "loooove"
           ],
           "legendgroup": "loooove",
           "marker": {
            "color": "#FECB52",
            "pattern": {
             "shape": ""
            }
           },
           "name": "loooove",
           "offsetgroup": "loooove",
           "orientation": "v",
           "showlegend": true,
           "textposition": "auto",
           "type": "bar",
           "x": [
            "loooove"
           ],
           "xaxis": "x",
           "y": [
            0.3333333432674408
           ],
           "yaxis": "y"
          }
         ],
         "name": "2022-05"
        },
        {
         "data": [
          {
           "alignmentgroup": "True",
           "hovertemplate": "term=%{x}<br>date=2022-04<br>avg_sentiment=%{y}<extra></extra>",
           "ids": [
            "aloe"
           ],
           "legendgroup": "aloe",
           "marker": {
            "color": "#EF553B",
            "pattern": {
             "shape": ""
            }
           },
           "name": "aloe",
           "offsetgroup": "aloe",
           "orientation": "v",
           "showlegend": true,
           "textposition": "auto",
           "type": "bar",
           "x": [
            "aloe"
           ],
           "xaxis": "x",
           "y": [
            -0.10208333283662796
           ],
           "yaxis": "y"
          },
          {
           "alignmentgroup": "True",
           "hovertemplate": "term=%{x}<br>date=2022-04<br>avg_sentiment=%{y}<extra></extra>",
           "ids": [
            "paypal"
           ],
           "legendgroup": "paypal",
           "marker": {
            "color": "#19d3f3",
            "pattern": {
             "shape": ""
            }
           },
           "name": "paypal",
           "offsetgroup": "paypal",
           "orientation": "v",
           "showlegend": true,
           "textposition": "auto",
           "type": "bar",
           "x": [
            "paypal"
           ],
           "xaxis": "x",
           "y": [
            0.37580952048301697
           ],
           "yaxis": "y"
          },
          {
           "alignmentgroup": "True",
           "hovertemplate": "term=%{x}<br>date=2022-04<br>avg_sentiment=%{y}<extra></extra>",
           "ids": [
            "closeset"
           ],
           "legendgroup": "closeset",
           "marker": {
            "color": "#FF6692",
            "pattern": {
             "shape": ""
            }
           },
           "name": "closeset",
           "offsetgroup": "closeset",
           "orientation": "v",
           "showlegend": true,
           "textposition": "auto",
           "type": "bar",
           "x": [
            "closeset"
           ],
           "xaxis": "x",
           "y": [
            0.09107142686843872
           ],
           "yaxis": "y"
          },
          {
           "alignmentgroup": "True",
           "hovertemplate": "term=%{x}<br>date=2022-04<br>avg_sentiment=%{y}<extra></extra>",
           "ids": [
            "hairy"
           ],
           "legendgroup": "hairy",
           "marker": {
            "color": "#B6E880",
            "pattern": {
             "shape": ""
            }
           },
           "name": "hairy",
           "offsetgroup": "hairy",
           "orientation": "v",
           "showlegend": true,
           "textposition": "auto",
           "type": "bar",
           "x": [
            "hairy"
           ],
           "xaxis": "x",
           "y": [
            0.12219388037919998
           ],
           "yaxis": "y"
          },
          {
           "alignmentgroup": "True",
           "hovertemplate": "term=%{x}<br>date=2022-04<br>avg_sentiment=%{y}<extra></extra>",
           "ids": [
            "spread"
           ],
           "legendgroup": "spread",
           "marker": {
            "color": "#FF97FF",
            "pattern": {
             "shape": ""
            }
           },
           "name": "spread",
           "offsetgroup": "spread",
           "orientation": "v",
           "showlegend": true,
           "textposition": "auto",
           "type": "bar",
           "x": [
            "spread"
           ],
           "xaxis": "x",
           "y": [
            0.17000000178813934
           ],
           "yaxis": "y"
          },
          {
           "alignmentgroup": "True",
           "hovertemplate": "term=%{x}<br>date=2022-04<br>avg_sentiment=%{y}<extra></extra>",
           "ids": [
            "careful"
           ],
           "legendgroup": "careful",
           "marker": {
            "color": "#636efa",
            "pattern": {
             "shape": ""
            }
           },
           "name": "careful",
           "offsetgroup": "careful",
           "orientation": "v",
           "showlegend": true,
           "textposition": "auto",
           "type": "bar",
           "x": [
            "careful"
           ],
           "xaxis": "x",
           "y": [
            0.06574074178934097
           ],
           "yaxis": "y"
          },
          {
           "alignmentgroup": "True",
           "hovertemplate": "term=%{x}<br>date=2022-04<br>avg_sentiment=%{y}<extra></extra>",
           "ids": [
            "findings"
           ],
           "legendgroup": "findings",
           "marker": {
            "color": "#FF97FF",
            "pattern": {
             "shape": ""
            }
           },
           "name": "findings",
           "offsetgroup": "findings",
           "orientation": "v",
           "showlegend": true,
           "textposition": "auto",
           "type": "bar",
           "x": [
            "findings"
           ],
           "xaxis": "x",
           "y": [
            0.17205514013767242
           ],
           "yaxis": "y"
          }
         ],
         "name": "2022-04"
        },
        {
         "data": [
          {
           "alignmentgroup": "True",
           "hovertemplate": "term=%{x}<br>date=2022-11<br>avg_sentiment=%{y}<extra></extra>",
           "ids": [
            "hairbrush"
           ],
           "legendgroup": "hairbrush",
           "marker": {
            "color": "#00cc96",
            "pattern": {
             "shape": ""
            }
           },
           "name": "hairbrush",
           "offsetgroup": "hairbrush",
           "orientation": "v",
           "showlegend": true,
           "textposition": "auto",
           "type": "bar",
           "x": [
            "hairbrush"
           ],
           "xaxis": "x",
           "y": [
            0
           ],
           "yaxis": "y"
          },
          {
           "alignmentgroup": "True",
           "hovertemplate": "term=%{x}<br>date=2022-11<br>avg_sentiment=%{y}<extra></extra>",
           "ids": [
            "spread"
           ],
           "legendgroup": "spread",
           "marker": {
            "color": "#FF97FF",
            "pattern": {
             "shape": ""
            }
           },
           "name": "spread",
           "offsetgroup": "spread",
           "orientation": "v",
           "showlegend": true,
           "textposition": "auto",
           "type": "bar",
           "x": [
            "spread"
           ],
           "xaxis": "x",
           "y": [
            0.2068749964237213
           ],
           "yaxis": "y"
          },
          {
           "alignmentgroup": "True",
           "hovertemplate": "term=%{x}<br>date=2022-11<br>avg_sentiment=%{y}<extra></extra>",
           "ids": [
            "iredale"
           ],
           "legendgroup": "iredale",
           "marker": {
            "color": "#EF553B",
            "pattern": {
             "shape": ""
            }
           },
           "name": "iredale",
           "offsetgroup": "iredale",
           "orientation": "v",
           "showlegend": true,
           "textposition": "auto",
           "type": "bar",
           "x": [
            "iredale"
           ],
           "xaxis": "x",
           "y": [
            0
           ],
           "yaxis": "y"
          },
          {
           "alignmentgroup": "True",
           "hovertemplate": "term=%{x}<br>date=2022-11<br>avg_sentiment=%{y}<extra></extra>",
           "ids": [
            "findings"
           ],
           "legendgroup": "findings",
           "marker": {
            "color": "#FF97FF",
            "pattern": {
             "shape": ""
            }
           },
           "name": "findings",
           "offsetgroup": "findings",
           "orientation": "v",
           "showlegend": true,
           "textposition": "auto",
           "type": "bar",
           "x": [
            "findings"
           ],
           "xaxis": "x",
           "y": [
            0.09583333134651184
           ],
           "yaxis": "y"
          }
         ],
         "name": "2022-11"
        },
        {
         "data": [
          {
           "alignmentgroup": "True",
           "hovertemplate": "term=%{x}<br>date=2021-04<br>avg_sentiment=%{y}<extra></extra>",
           "ids": [
            "spread"
           ],
           "legendgroup": "spread",
           "marker": {
            "color": "#FF97FF",
            "pattern": {
             "shape": ""
            }
           },
           "name": "spread",
           "offsetgroup": "spread",
           "orientation": "v",
           "showlegend": true,
           "textposition": "auto",
           "type": "bar",
           "x": [
            "spread"
           ],
           "xaxis": "x",
           "y": [
            0.1358843594789505
           ],
           "yaxis": "y"
          },
          {
           "alignmentgroup": "True",
           "hovertemplate": "term=%{x}<br>date=2021-04<br>avg_sentiment=%{y}<extra></extra>",
           "ids": [
            "stained"
           ],
           "legendgroup": "stained",
           "marker": {
            "color": "#ab63fa",
            "pattern": {
             "shape": ""
            }
           },
           "name": "stained",
           "offsetgroup": "stained",
           "orientation": "v",
           "showlegend": true,
           "textposition": "auto",
           "type": "bar",
           "x": [
            "stained"
           ],
           "xaxis": "x",
           "y": [
            0.02510351873934269
           ],
           "yaxis": "y"
          },
          {
           "alignmentgroup": "True",
           "hovertemplate": "term=%{x}<br>date=2021-04<br>avg_sentiment=%{y}<extra></extra>",
           "ids": [
            "dentist"
           ],
           "legendgroup": "dentist",
           "marker": {
            "color": "#FFA15A",
            "pattern": {
             "shape": ""
            }
           },
           "name": "dentist",
           "offsetgroup": "dentist",
           "orientation": "v",
           "showlegend": true,
           "textposition": "auto",
           "type": "bar",
           "x": [
            "dentist"
           ],
           "xaxis": "x",
           "y": [
            0.13661615550518036
           ],
           "yaxis": "y"
          },
          {
           "alignmentgroup": "True",
           "hovertemplate": "term=%{x}<br>date=2021-04<br>avg_sentiment=%{y}<extra></extra>",
           "ids": [
            "seduction"
           ],
           "legendgroup": "seduction",
           "marker": {
            "color": "#B6E880",
            "pattern": {
             "shape": ""
            }
           },
           "name": "seduction",
           "offsetgroup": "seduction",
           "orientation": "v",
           "showlegend": true,
           "textposition": "auto",
           "type": "bar",
           "x": [
            "seduction"
           ],
           "xaxis": "x",
           "y": [
            0.03333333507180214
           ],
           "yaxis": "y"
          }
         ],
         "name": "2021-04"
        },
        {
         "data": [
          {
           "alignmentgroup": "True",
           "hovertemplate": "term=%{x}<br>date=2021-03<br>avg_sentiment=%{y}<extra></extra>",
           "ids": [
            "town"
           ],
           "legendgroup": "town",
           "marker": {
            "color": "#636efa",
            "pattern": {
             "shape": ""
            }
           },
           "name": "town",
           "offsetgroup": "town",
           "orientation": "v",
           "showlegend": true,
           "textposition": "auto",
           "type": "bar",
           "x": [
            "town"
           ],
           "xaxis": "x",
           "y": [
            0.06211111135780811
           ],
           "yaxis": "y"
          },
          {
           "alignmentgroup": "True",
           "hovertemplate": "term=%{x}<br>date=2021-03<br>avg_sentiment=%{y}<extra></extra>",
           "ids": [
            "closeset"
           ],
           "legendgroup": "closeset",
           "marker": {
            "color": "#FF6692",
            "pattern": {
             "shape": ""
            }
           },
           "name": "closeset",
           "offsetgroup": "closeset",
           "orientation": "v",
           "showlegend": true,
           "textposition": "auto",
           "type": "bar",
           "x": [
            "closeset"
           ],
           "xaxis": "x",
           "y": [
            0.20749999582767487
           ],
           "yaxis": "y"
          },
          {
           "alignmentgroup": "True",
           "hovertemplate": "term=%{x}<br>date=2021-03<br>avg_sentiment=%{y}<extra></extra>",
           "ids": [
            "hairy"
           ],
           "legendgroup": "hairy",
           "marker": {
            "color": "#B6E880",
            "pattern": {
             "shape": ""
            }
           },
           "name": "hairy",
           "offsetgroup": "hairy",
           "orientation": "v",
           "showlegend": true,
           "textposition": "auto",
           "type": "bar",
           "x": [
            "hairy"
           ],
           "xaxis": "x",
           "y": [
            0.045401494950056076
           ],
           "yaxis": "y"
          },
          {
           "alignmentgroup": "True",
           "hovertemplate": "term=%{x}<br>date=2021-03<br>avg_sentiment=%{y}<extra></extra>",
           "ids": [
            "dentist"
           ],
           "legendgroup": "dentist",
           "marker": {
            "color": "#FFA15A",
            "pattern": {
             "shape": ""
            }
           },
           "name": "dentist",
           "offsetgroup": "dentist",
           "orientation": "v",
           "showlegend": true,
           "textposition": "auto",
           "type": "bar",
           "x": [
            "dentist"
           ],
           "xaxis": "x",
           "y": [
            -0.28999999165534973
           ],
           "yaxis": "y"
          }
         ],
         "name": "2021-03"
        },
        {
         "data": [
          {
           "alignmentgroup": "True",
           "hovertemplate": "term=%{x}<br>date=2022-07<br>avg_sentiment=%{y}<extra></extra>",
           "ids": [
            "hairy"
           ],
           "legendgroup": "hairy",
           "marker": {
            "color": "#B6E880",
            "pattern": {
             "shape": ""
            }
           },
           "name": "hairy",
           "offsetgroup": "hairy",
           "orientation": "v",
           "showlegend": true,
           "textposition": "auto",
           "type": "bar",
           "x": [
            "hairy"
           ],
           "xaxis": "x",
           "y": [
            0.022463923941055935
           ],
           "yaxis": "y"
          },
          {
           "alignmentgroup": "True",
           "hovertemplate": "term=%{x}<br>date=2022-07<br>avg_sentiment=%{y}<extra></extra>",
           "ids": [
            "stained"
           ],
           "legendgroup": "stained",
           "marker": {
            "color": "#ab63fa",
            "pattern": {
             "shape": ""
            }
           },
           "name": "stained",
           "offsetgroup": "stained",
           "orientation": "v",
           "showlegend": true,
           "textposition": "auto",
           "type": "bar",
           "x": [
            "stained"
           ],
           "xaxis": "x",
           "y": [
            0.20831044018268585
           ],
           "yaxis": "y"
          },
          {
           "alignmentgroup": "True",
           "hovertemplate": "term=%{x}<br>date=2022-07<br>avg_sentiment=%{y}<extra></extra>",
           "ids": [
            "dentist"
           ],
           "legendgroup": "dentist",
           "marker": {
            "color": "#FFA15A",
            "pattern": {
             "shape": ""
            }
           },
           "name": "dentist",
           "offsetgroup": "dentist",
           "orientation": "v",
           "showlegend": true,
           "textposition": "auto",
           "type": "bar",
           "x": [
            "dentist"
           ],
           "xaxis": "x",
           "y": [
            0.11948052048683167
           ],
           "yaxis": "y"
          },
          {
           "alignmentgroup": "True",
           "hovertemplate": "term=%{x}<br>date=2022-07<br>avg_sentiment=%{y}<extra></extra>",
           "ids": [
            "dabbling"
           ],
           "legendgroup": "dabbling",
           "marker": {
            "color": "#19d3f3",
            "pattern": {
             "shape": ""
            }
           },
           "name": "dabbling",
           "offsetgroup": "dabbling",
           "orientation": "v",
           "showlegend": true,
           "textposition": "auto",
           "type": "bar",
           "x": [
            "dabbling"
           ],
           "xaxis": "x",
           "y": [
            0.07384771853685379
           ],
           "yaxis": "y"
          }
         ],
         "name": "2022-07"
        },
        {
         "data": [
          {
           "alignmentgroup": "True",
           "hovertemplate": "term=%{x}<br>date=2021-05<br>avg_sentiment=%{y}<extra></extra>",
           "ids": [
            "town"
           ],
           "legendgroup": "town",
           "marker": {
            "color": "#636efa",
            "pattern": {
             "shape": ""
            }
           },
           "name": "town",
           "offsetgroup": "town",
           "orientation": "v",
           "showlegend": true,
           "textposition": "auto",
           "type": "bar",
           "x": [
            "town"
           ],
           "xaxis": "x",
           "y": [
            -0.07857143133878708
           ],
           "yaxis": "y"
          },
          {
           "alignmentgroup": "True",
           "hovertemplate": "term=%{x}<br>date=2021-05<br>avg_sentiment=%{y}<extra></extra>",
           "ids": [
            "aloe"
           ],
           "legendgroup": "aloe",
           "marker": {
            "color": "#EF553B",
            "pattern": {
             "shape": ""
            }
           },
           "name": "aloe",
           "offsetgroup": "aloe",
           "orientation": "v",
           "showlegend": true,
           "textposition": "auto",
           "type": "bar",
           "x": [
            "aloe"
           ],
           "xaxis": "x",
           "y": [
            0.22646519541740417
           ],
           "yaxis": "y"
          },
          {
           "alignmentgroup": "True",
           "hovertemplate": "term=%{x}<br>date=2021-05<br>avg_sentiment=%{y}<extra></extra>",
           "ids": [
            "closeset"
           ],
           "legendgroup": "closeset",
           "marker": {
            "color": "#FF6692",
            "pattern": {
             "shape": ""
            }
           },
           "name": "closeset",
           "offsetgroup": "closeset",
           "orientation": "v",
           "showlegend": true,
           "textposition": "auto",
           "type": "bar",
           "x": [
            "closeset"
           ],
           "xaxis": "x",
           "y": [
            0.23541666567325592
           ],
           "yaxis": "y"
          },
          {
           "alignmentgroup": "True",
           "hovertemplate": "term=%{x}<br>date=2021-05<br>avg_sentiment=%{y}<extra></extra>",
           "ids": [
            "hairy"
           ],
           "legendgroup": "hairy",
           "marker": {
            "color": "#B6E880",
            "pattern": {
             "shape": ""
            }
           },
           "name": "hairy",
           "offsetgroup": "hairy",
           "orientation": "v",
           "showlegend": true,
           "textposition": "auto",
           "type": "bar",
           "x": [
            "hairy"
           ],
           "xaxis": "x",
           "y": [
            -0.10227272659540176
           ],
           "yaxis": "y"
          },
          {
           "alignmentgroup": "True",
           "hovertemplate": "term=%{x}<br>date=2021-05<br>avg_sentiment=%{y}<extra></extra>",
           "ids": [
            "maine"
           ],
           "legendgroup": "maine",
           "marker": {
            "color": "#FECB52",
            "pattern": {
             "shape": ""
            }
           },
           "name": "maine",
           "offsetgroup": "maine",
           "orientation": "v",
           "showlegend": true,
           "textposition": "auto",
           "type": "bar",
           "x": [
            "maine"
           ],
           "xaxis": "x",
           "y": [
            0.11851851642131805
           ],
           "yaxis": "y"
          },
          {
           "alignmentgroup": "True",
           "hovertemplate": "term=%{x}<br>date=2021-05<br>avg_sentiment=%{y}<extra></extra>",
           "ids": [
            "careful"
           ],
           "legendgroup": "careful",
           "marker": {
            "color": "#636efa",
            "pattern": {
             "shape": ""
            }
           },
           "name": "careful",
           "offsetgroup": "careful",
           "orientation": "v",
           "showlegend": true,
           "textposition": "auto",
           "type": "bar",
           "x": [
            "careful"
           ],
           "xaxis": "x",
           "y": [
            -0.062268520006909966
           ],
           "yaxis": "y"
          },
          {
           "alignmentgroup": "True",
           "hovertemplate": "term=%{x}<br>date=2021-05<br>avg_sentiment=%{y}<extra></extra>",
           "ids": [
            "saying"
           ],
           "legendgroup": "saying",
           "marker": {
            "color": "#00cc96",
            "pattern": {
             "shape": ""
            }
           },
           "name": "saying",
           "offsetgroup": "saying",
           "orientation": "v",
           "showlegend": true,
           "textposition": "auto",
           "type": "bar",
           "x": [
            "saying"
           ],
           "xaxis": "x",
           "y": [
            0.11927083134651184
           ],
           "yaxis": "y"
          },
          {
           "alignmentgroup": "True",
           "hovertemplate": "term=%{x}<br>date=2021-05<br>avg_sentiment=%{y}<extra></extra>",
           "ids": [
            "stained"
           ],
           "legendgroup": "stained",
           "marker": {
            "color": "#ab63fa",
            "pattern": {
             "shape": ""
            }
           },
           "name": "stained",
           "offsetgroup": "stained",
           "orientation": "v",
           "showlegend": true,
           "textposition": "auto",
           "type": "bar",
           "x": [
            "stained"
           ],
           "xaxis": "x",
           "y": [
            0.21875
           ],
           "yaxis": "y"
          },
          {
           "alignmentgroup": "True",
           "hovertemplate": "term=%{x}<br>date=2021-05<br>avg_sentiment=%{y}<extra></extra>",
           "ids": [
            "seduction"
           ],
           "legendgroup": "seduction",
           "marker": {
            "color": "#B6E880",
            "pattern": {
             "shape": ""
            }
           },
           "name": "seduction",
           "offsetgroup": "seduction",
           "orientation": "v",
           "showlegend": true,
           "textposition": "auto",
           "type": "bar",
           "x": [
            "seduction"
           ],
           "xaxis": "x",
           "y": [
            0.04742063581943512
           ],
           "yaxis": "y"
          },
          {
           "alignmentgroup": "True",
           "hovertemplate": "term=%{x}<br>date=2021-05<br>avg_sentiment=%{y}<extra></extra>",
           "ids": [
            "loooove"
           ],
           "legendgroup": "loooove",
           "marker": {
            "color": "#FECB52",
            "pattern": {
             "shape": ""
            }
           },
           "name": "loooove",
           "offsetgroup": "loooove",
           "orientation": "v",
           "showlegend": true,
           "textposition": "auto",
           "type": "bar",
           "x": [
            "loooove"
           ],
           "xaxis": "x",
           "y": [
            0.6333333253860474
           ],
           "yaxis": "y"
          }
         ],
         "name": "2021-05"
        },
        {
         "data": [
          {
           "alignmentgroup": "True",
           "hovertemplate": "term=%{x}<br>date=2021-01<br>avg_sentiment=%{y}<extra></extra>",
           "ids": [
            "ideally"
           ],
           "legendgroup": "ideally",
           "marker": {
            "color": "#FFA15A",
            "pattern": {
             "shape": ""
            }
           },
           "name": "ideally",
           "offsetgroup": "ideally",
           "orientation": "v",
           "showlegend": true,
           "textposition": "auto",
           "type": "bar",
           "x": [
            "ideally"
           ],
           "xaxis": "x",
           "y": [
            0.23543955385684967
           ],
           "yaxis": "y"
          },
          {
           "alignmentgroup": "True",
           "hovertemplate": "term=%{x}<br>date=2021-01<br>avg_sentiment=%{y}<extra></extra>",
           "ids": [
            "paypal"
           ],
           "legendgroup": "paypal",
           "marker": {
            "color": "#19d3f3",
            "pattern": {
             "shape": ""
            }
           },
           "name": "paypal",
           "offsetgroup": "paypal",
           "orientation": "v",
           "showlegend": true,
           "textposition": "auto",
           "type": "bar",
           "x": [
            "paypal"
           ],
           "xaxis": "x",
           "y": [
            0.21666666865348816
           ],
           "yaxis": "y"
          },
          {
           "alignmentgroup": "True",
           "hovertemplate": "term=%{x}<br>date=2021-01<br>avg_sentiment=%{y}<extra></extra>",
           "ids": [
            "closeset"
           ],
           "legendgroup": "closeset",
           "marker": {
            "color": "#FF6692",
            "pattern": {
             "shape": ""
            }
           },
           "name": "closeset",
           "offsetgroup": "closeset",
           "orientation": "v",
           "showlegend": true,
           "textposition": "auto",
           "type": "bar",
           "x": [
            "closeset"
           ],
           "xaxis": "x",
           "y": [
            0.21666666865348816
           ],
           "yaxis": "y"
          },
          {
           "alignmentgroup": "True",
           "hovertemplate": "term=%{x}<br>date=2021-01<br>avg_sentiment=%{y}<extra></extra>",
           "ids": [
            "maine"
           ],
           "legendgroup": "maine",
           "marker": {
            "color": "#FECB52",
            "pattern": {
             "shape": ""
            }
           },
           "name": "maine",
           "offsetgroup": "maine",
           "orientation": "v",
           "showlegend": true,
           "textposition": "auto",
           "type": "bar",
           "x": [
            "maine"
           ],
           "xaxis": "x",
           "y": [
            0.0776190459728241
           ],
           "yaxis": "y"
          },
          {
           "alignmentgroup": "True",
           "hovertemplate": "term=%{x}<br>date=2021-01<br>avg_sentiment=%{y}<extra></extra>",
           "ids": [
            "iredale"
           ],
           "legendgroup": "iredale",
           "marker": {
            "color": "#EF553B",
            "pattern": {
             "shape": ""
            }
           },
           "name": "iredale",
           "offsetgroup": "iredale",
           "orientation": "v",
           "showlegend": true,
           "textposition": "auto",
           "type": "bar",
           "x": [
            "iredale"
           ],
           "xaxis": "x",
           "y": [
            0.16190476715564728
           ],
           "yaxis": "y"
          },
          {
           "alignmentgroup": "True",
           "hovertemplate": "term=%{x}<br>date=2021-01<br>avg_sentiment=%{y}<extra></extra>",
           "ids": [
            "stained"
           ],
           "legendgroup": "stained",
           "marker": {
            "color": "#ab63fa",
            "pattern": {
             "shape": ""
            }
           },
           "name": "stained",
           "offsetgroup": "stained",
           "orientation": "v",
           "showlegend": true,
           "textposition": "auto",
           "type": "bar",
           "x": [
            "stained"
           ],
           "xaxis": "x",
           "y": [
            0.08190476335585117
           ],
           "yaxis": "y"
          },
          {
           "alignmentgroup": "True",
           "hovertemplate": "term=%{x}<br>date=2021-01<br>avg_sentiment=%{y}<extra></extra>",
           "ids": [
            "findings"
           ],
           "legendgroup": "findings",
           "marker": {
            "color": "#FF97FF",
            "pattern": {
             "shape": ""
            }
           },
           "name": "findings",
           "offsetgroup": "findings",
           "orientation": "v",
           "showlegend": true,
           "textposition": "auto",
           "type": "bar",
           "x": [
            "findings"
           ],
           "xaxis": "x",
           "y": [
            -0.029393939301371574
           ],
           "yaxis": "y"
          }
         ],
         "name": "2021-01"
        },
        {
         "data": [
          {
           "alignmentgroup": "True",
           "hovertemplate": "term=%{x}<br>date=2022-02<br>avg_sentiment=%{y}<extra></extra>",
           "ids": [
            "hairbrush"
           ],
           "legendgroup": "hairbrush",
           "marker": {
            "color": "#00cc96",
            "pattern": {
             "shape": ""
            }
           },
           "name": "hairbrush",
           "offsetgroup": "hairbrush",
           "orientation": "v",
           "showlegend": true,
           "textposition": "auto",
           "type": "bar",
           "x": [
            "hairbrush"
           ],
           "xaxis": "x",
           "y": [
            0.3166666626930237
           ],
           "yaxis": "y"
          },
          {
           "alignmentgroup": "True",
           "hovertemplate": "term=%{x}<br>date=2022-02<br>avg_sentiment=%{y}<extra></extra>",
           "ids": [
            "hairy"
           ],
           "legendgroup": "hairy",
           "marker": {
            "color": "#B6E880",
            "pattern": {
             "shape": ""
            }
           },
           "name": "hairy",
           "offsetgroup": "hairy",
           "orientation": "v",
           "showlegend": true,
           "textposition": "auto",
           "type": "bar",
           "x": [
            "hairy"
           ],
           "xaxis": "x",
           "y": [
            0.08655982837080956
           ],
           "yaxis": "y"
          },
          {
           "alignmentgroup": "True",
           "hovertemplate": "term=%{x}<br>date=2022-02<br>avg_sentiment=%{y}<extra></extra>",
           "ids": [
            "spread"
           ],
           "legendgroup": "spread",
           "marker": {
            "color": "#FF97FF",
            "pattern": {
             "shape": ""
            }
           },
           "name": "spread",
           "offsetgroup": "spread",
           "orientation": "v",
           "showlegend": true,
           "textposition": "auto",
           "type": "bar",
           "x": [
            "spread"
           ],
           "xaxis": "x",
           "y": [
            0.04416666552424431
           ],
           "yaxis": "y"
          },
          {
           "alignmentgroup": "True",
           "hovertemplate": "term=%{x}<br>date=2022-02<br>avg_sentiment=%{y}<extra></extra>",
           "ids": [
            "stained"
           ],
           "legendgroup": "stained",
           "marker": {
            "color": "#ab63fa",
            "pattern": {
             "shape": ""
            }
           },
           "name": "stained",
           "offsetgroup": "stained",
           "orientation": "v",
           "showlegend": true,
           "textposition": "auto",
           "type": "bar",
           "x": [
            "stained"
           ],
           "xaxis": "x",
           "y": [
            0.14246232559283575
           ],
           "yaxis": "y"
          },
          {
           "alignmentgroup": "True",
           "hovertemplate": "term=%{x}<br>date=2022-02<br>avg_sentiment=%{y}<extra></extra>",
           "ids": [
            "dabbling"
           ],
           "legendgroup": "dabbling",
           "marker": {
            "color": "#19d3f3",
            "pattern": {
             "shape": ""
            }
           },
           "name": "dabbling",
           "offsetgroup": "dabbling",
           "orientation": "v",
           "showlegend": true,
           "textposition": "auto",
           "type": "bar",
           "x": [
            "dabbling"
           ],
           "xaxis": "x",
           "y": [
            0.07341670989990234
           ],
           "yaxis": "y"
          },
          {
           "alignmentgroup": "True",
           "hovertemplate": "term=%{x}<br>date=2022-02<br>avg_sentiment=%{y}<extra></extra>",
           "ids": [
            "small"
           ],
           "legendgroup": "small",
           "marker": {
            "color": "#FF6692",
            "pattern": {
             "shape": ""
            }
           },
           "name": "small",
           "offsetgroup": "small",
           "orientation": "v",
           "showlegend": true,
           "textposition": "auto",
           "type": "bar",
           "x": [
            "small"
           ],
           "xaxis": "x",
           "y": [
            0.34166666865348816
           ],
           "yaxis": "y"
          },
          {
           "alignmentgroup": "True",
           "hovertemplate": "term=%{x}<br>date=2022-02<br>avg_sentiment=%{y}<extra></extra>",
           "ids": [
            "seduction"
           ],
           "legendgroup": "seduction",
           "marker": {
            "color": "#B6E880",
            "pattern": {
             "shape": ""
            }
           },
           "name": "seduction",
           "offsetgroup": "seduction",
           "orientation": "v",
           "showlegend": true,
           "textposition": "auto",
           "type": "bar",
           "x": [
            "seduction"
           ],
           "xaxis": "x",
           "y": [
            0.23999999463558197
           ],
           "yaxis": "y"
          },
          {
           "alignmentgroup": "True",
           "hovertemplate": "term=%{x}<br>date=2022-02<br>avg_sentiment=%{y}<extra></extra>",
           "ids": [
            "loooove"
           ],
           "legendgroup": "loooove",
           "marker": {
            "color": "#FECB52",
            "pattern": {
             "shape": ""
            }
           },
           "name": "loooove",
           "offsetgroup": "loooove",
           "orientation": "v",
           "showlegend": true,
           "textposition": "auto",
           "type": "bar",
           "x": [
            "loooove"
           ],
           "xaxis": "x",
           "y": [
            0.2666666805744171
           ],
           "yaxis": "y"
          }
         ],
         "name": "2022-02"
        },
        {
         "data": [
          {
           "alignmentgroup": "True",
           "hovertemplate": "term=%{x}<br>date=2022-01<br>avg_sentiment=%{y}<extra></extra>",
           "ids": [
            "zippered"
           ],
           "legendgroup": "zippered",
           "marker": {
            "color": "#ab63fa",
            "pattern": {
             "shape": ""
            }
           },
           "name": "zippered",
           "offsetgroup": "zippered",
           "orientation": "v",
           "showlegend": true,
           "textposition": "auto",
           "type": "bar",
           "x": [
            "zippered"
           ],
           "xaxis": "x",
           "y": [
            0.3333333432674408
           ],
           "yaxis": "y"
          },
          {
           "alignmentgroup": "True",
           "hovertemplate": "term=%{x}<br>date=2022-01<br>avg_sentiment=%{y}<extra></extra>",
           "ids": [
            "spread"
           ],
           "legendgroup": "spread",
           "marker": {
            "color": "#FF97FF",
            "pattern": {
             "shape": ""
            }
           },
           "name": "spread",
           "offsetgroup": "spread",
           "orientation": "v",
           "showlegend": true,
           "textposition": "auto",
           "type": "bar",
           "x": [
            "spread"
           ],
           "xaxis": "x",
           "y": [
            0.23999999463558197
           ],
           "yaxis": "y"
          },
          {
           "alignmentgroup": "True",
           "hovertemplate": "term=%{x}<br>date=2022-01<br>avg_sentiment=%{y}<extra></extra>",
           "ids": [
            "maine"
           ],
           "legendgroup": "maine",
           "marker": {
            "color": "#FECB52",
            "pattern": {
             "shape": ""
            }
           },
           "name": "maine",
           "offsetgroup": "maine",
           "orientation": "v",
           "showlegend": true,
           "textposition": "auto",
           "type": "bar",
           "x": [
            "maine"
           ],
           "xaxis": "x",
           "y": [
            -0.10833333432674408
           ],
           "yaxis": "y"
          },
          {
           "alignmentgroup": "True",
           "hovertemplate": "term=%{x}<br>date=2022-01<br>avg_sentiment=%{y}<extra></extra>",
           "ids": [
            "iredale"
           ],
           "legendgroup": "iredale",
           "marker": {
            "color": "#EF553B",
            "pattern": {
             "shape": ""
            }
           },
           "name": "iredale",
           "offsetgroup": "iredale",
           "orientation": "v",
           "showlegend": true,
           "textposition": "auto",
           "type": "bar",
           "x": [
            "iredale"
           ],
           "xaxis": "x",
           "y": [
            -0.0833333358168602
           ],
           "yaxis": "y"
          },
          {
           "alignmentgroup": "True",
           "hovertemplate": "term=%{x}<br>date=2022-01<br>avg_sentiment=%{y}<extra></extra>",
           "ids": [
            "dabbling"
           ],
           "legendgroup": "dabbling",
           "marker": {
            "color": "#19d3f3",
            "pattern": {
             "shape": ""
            }
           },
           "name": "dabbling",
           "offsetgroup": "dabbling",
           "orientation": "v",
           "showlegend": true,
           "textposition": "auto",
           "type": "bar",
           "x": [
            "dabbling"
           ],
           "xaxis": "x",
           "y": [
            0.21666666865348816
           ],
           "yaxis": "y"
          }
         ],
         "name": "2022-01"
        },
        {
         "data": [
          {
           "alignmentgroup": "True",
           "hovertemplate": "term=%{x}<br>date=2021-09<br>avg_sentiment=%{y}<extra></extra>",
           "ids": [
            "ideally"
           ],
           "legendgroup": "ideally",
           "marker": {
            "color": "#FFA15A",
            "pattern": {
             "shape": ""
            }
           },
           "name": "ideally",
           "offsetgroup": "ideally",
           "orientation": "v",
           "showlegend": true,
           "textposition": "auto",
           "type": "bar",
           "x": [
            "ideally"
           ],
           "xaxis": "x",
           "y": [
            0.24379509687423706
           ],
           "yaxis": "y"
          },
          {
           "alignmentgroup": "True",
           "hovertemplate": "term=%{x}<br>date=2021-09<br>avg_sentiment=%{y}<extra></extra>",
           "ids": [
            "hairy"
           ],
           "legendgroup": "hairy",
           "marker": {
            "color": "#B6E880",
            "pattern": {
             "shape": ""
            }
           },
           "name": "hairy",
           "offsetgroup": "hairy",
           "orientation": "v",
           "showlegend": true,
           "textposition": "auto",
           "type": "bar",
           "x": [
            "hairy"
           ],
           "xaxis": "x",
           "y": [
            0.14444445073604584
           ],
           "yaxis": "y"
          },
          {
           "alignmentgroup": "True",
           "hovertemplate": "term=%{x}<br>date=2021-09<br>avg_sentiment=%{y}<extra></extra>",
           "ids": [
            "stained"
           ],
           "legendgroup": "stained",
           "marker": {
            "color": "#ab63fa",
            "pattern": {
             "shape": ""
            }
           },
           "name": "stained",
           "offsetgroup": "stained",
           "orientation": "v",
           "showlegend": true,
           "textposition": "auto",
           "type": "bar",
           "x": [
            "stained"
           ],
           "xaxis": "x",
           "y": [
            0.14444445073604584
           ],
           "yaxis": "y"
          },
          {
           "alignmentgroup": "True",
           "hovertemplate": "term=%{x}<br>date=2021-09<br>avg_sentiment=%{y}<extra></extra>",
           "ids": [
            "dabbling"
           ],
           "legendgroup": "dabbling",
           "marker": {
            "color": "#19d3f3",
            "pattern": {
             "shape": ""
            }
           },
           "name": "dabbling",
           "offsetgroup": "dabbling",
           "orientation": "v",
           "showlegend": true,
           "textposition": "auto",
           "type": "bar",
           "x": [
            "dabbling"
           ],
           "xaxis": "x",
           "y": [
            0.08510333113372326
           ],
           "yaxis": "y"
          },
          {
           "alignmentgroup": "True",
           "hovertemplate": "term=%{x}<br>date=2021-09<br>avg_sentiment=%{y}<extra></extra>",
           "ids": [
            "small"
           ],
           "legendgroup": "small",
           "marker": {
            "color": "#FF6692",
            "pattern": {
             "shape": ""
            }
           },
           "name": "small",
           "offsetgroup": "small",
           "orientation": "v",
           "showlegend": true,
           "textposition": "auto",
           "type": "bar",
           "x": [
            "small"
           ],
           "xaxis": "x",
           "y": [
            -0.03485576808452606
           ],
           "yaxis": "y"
          }
         ],
         "name": "2021-09"
        },
        {
         "data": [
          {
           "alignmentgroup": "True",
           "hovertemplate": "term=%{x}<br>date=2022-03<br>avg_sentiment=%{y}<extra></extra>",
           "ids": [
            "town"
           ],
           "legendgroup": "town",
           "marker": {
            "color": "#636efa",
            "pattern": {
             "shape": ""
            }
           },
           "name": "town",
           "offsetgroup": "town",
           "orientation": "v",
           "showlegend": true,
           "textposition": "auto",
           "type": "bar",
           "x": [
            "town"
           ],
           "xaxis": "x",
           "y": [
            0.08258333429694176
           ],
           "yaxis": "y"
          },
          {
           "alignmentgroup": "True",
           "hovertemplate": "term=%{x}<br>date=2022-03<br>avg_sentiment=%{y}<extra></extra>",
           "ids": [
            "aloe"
           ],
           "legendgroup": "aloe",
           "marker": {
            "color": "#EF553B",
            "pattern": {
             "shape": ""
            }
           },
           "name": "aloe",
           "offsetgroup": "aloe",
           "orientation": "v",
           "showlegend": true,
           "textposition": "auto",
           "type": "bar",
           "x": [
            "aloe"
           ],
           "xaxis": "x",
           "y": [
            0.22708334028720856
           ],
           "yaxis": "y"
          },
          {
           "alignmentgroup": "True",
           "hovertemplate": "term=%{x}<br>date=2022-03<br>avg_sentiment=%{y}<extra></extra>",
           "ids": [
            "ideally"
           ],
           "legendgroup": "ideally",
           "marker": {
            "color": "#FFA15A",
            "pattern": {
             "shape": ""
            }
           },
           "name": "ideally",
           "offsetgroup": "ideally",
           "orientation": "v",
           "showlegend": true,
           "textposition": "auto",
           "type": "bar",
           "x": [
            "ideally"
           ],
           "xaxis": "x",
           "y": [
            0.1912499964237213
           ],
           "yaxis": "y"
          },
          {
           "alignmentgroup": "True",
           "hovertemplate": "term=%{x}<br>date=2022-03<br>avg_sentiment=%{y}<extra></extra>",
           "ids": [
            "small"
           ],
           "legendgroup": "small",
           "marker": {
            "color": "#FF6692",
            "pattern": {
             "shape": ""
            }
           },
           "name": "small",
           "offsetgroup": "small",
           "orientation": "v",
           "showlegend": true,
           "textposition": "auto",
           "type": "bar",
           "x": [
            "small"
           ],
           "xaxis": "x",
           "y": [
            0.05993589945137501
           ],
           "yaxis": "y"
          },
          {
           "alignmentgroup": "True",
           "hovertemplate": "term=%{x}<br>date=2022-03<br>avg_sentiment=%{y}<extra></extra>",
           "ids": [
            "loooove"
           ],
           "legendgroup": "loooove",
           "marker": {
            "color": "#FECB52",
            "pattern": {
             "shape": ""
            }
           },
           "name": "loooove",
           "offsetgroup": "loooove",
           "orientation": "v",
           "showlegend": true,
           "textposition": "auto",
           "type": "bar",
           "x": [
            "loooove"
           ],
           "xaxis": "x",
           "y": [
            0.30000001192092896
           ],
           "yaxis": "y"
          }
         ],
         "name": "2022-03"
        },
        {
         "data": [
          {
           "alignmentgroup": "True",
           "hovertemplate": "term=%{x}<br>date=2022-12<br>avg_sentiment=%{y}<extra></extra>",
           "ids": [
            "hairy"
           ],
           "legendgroup": "hairy",
           "marker": {
            "color": "#B6E880",
            "pattern": {
             "shape": ""
            }
           },
           "name": "hairy",
           "offsetgroup": "hairy",
           "orientation": "v",
           "showlegend": true,
           "textposition": "auto",
           "type": "bar",
           "x": [
            "hairy"
           ],
           "xaxis": "x",
           "y": [
            0.055390211287885904
           ],
           "yaxis": "y"
          },
          {
           "alignmentgroup": "True",
           "hovertemplate": "term=%{x}<br>date=2022-12<br>avg_sentiment=%{y}<extra></extra>",
           "ids": [
            "iredale"
           ],
           "legendgroup": "iredale",
           "marker": {
            "color": "#EF553B",
            "pattern": {
             "shape": ""
            }
           },
           "name": "iredale",
           "offsetgroup": "iredale",
           "orientation": "v",
           "showlegend": true,
           "textposition": "auto",
           "type": "bar",
           "x": [
            "iredale"
           ],
           "xaxis": "x",
           "y": [
            0.08636363595724106
           ],
           "yaxis": "y"
          },
          {
           "alignmentgroup": "True",
           "hovertemplate": "term=%{x}<br>date=2022-12<br>avg_sentiment=%{y}<extra></extra>",
           "ids": [
            "stained"
           ],
           "legendgroup": "stained",
           "marker": {
            "color": "#ab63fa",
            "pattern": {
             "shape": ""
            }
           },
           "name": "stained",
           "offsetgroup": "stained",
           "orientation": "v",
           "showlegend": true,
           "textposition": "auto",
           "type": "bar",
           "x": [
            "stained"
           ],
           "xaxis": "x",
           "y": [
            0.06471956521272659
           ],
           "yaxis": "y"
          },
          {
           "alignmentgroup": "True",
           "hovertemplate": "term=%{x}<br>date=2022-12<br>avg_sentiment=%{y}<extra></extra>",
           "ids": [
            "dentist"
           ],
           "legendgroup": "dentist",
           "marker": {
            "color": "#FFA15A",
            "pattern": {
             "shape": ""
            }
           },
           "name": "dentist",
           "offsetgroup": "dentist",
           "orientation": "v",
           "showlegend": true,
           "textposition": "auto",
           "type": "bar",
           "x": [
            "dentist"
           ],
           "xaxis": "x",
           "y": [
            0.07500000298023224
           ],
           "yaxis": "y"
          },
          {
           "alignmentgroup": "True",
           "hovertemplate": "term=%{x}<br>date=2022-12<br>avg_sentiment=%{y}<extra></extra>",
           "ids": [
            "dabbling"
           ],
           "legendgroup": "dabbling",
           "marker": {
            "color": "#19d3f3",
            "pattern": {
             "shape": ""
            }
           },
           "name": "dabbling",
           "offsetgroup": "dabbling",
           "orientation": "v",
           "showlegend": true,
           "textposition": "auto",
           "type": "bar",
           "x": [
            "dabbling"
           ],
           "xaxis": "x",
           "y": [
            0.14895834028720856
           ],
           "yaxis": "y"
          },
          {
           "alignmentgroup": "True",
           "hovertemplate": "term=%{x}<br>date=2022-12<br>avg_sentiment=%{y}<extra></extra>",
           "ids": [
            "small"
           ],
           "legendgroup": "small",
           "marker": {
            "color": "#FF6692",
            "pattern": {
             "shape": ""
            }
           },
           "name": "small",
           "offsetgroup": "small",
           "orientation": "v",
           "showlegend": true,
           "textposition": "auto",
           "type": "bar",
           "x": [
            "small"
           ],
           "xaxis": "x",
           "y": [
            0.18333333730697632
           ],
           "yaxis": "y"
          }
         ],
         "name": "2022-12"
        },
        {
         "data": [
          {
           "alignmentgroup": "True",
           "hovertemplate": "term=%{x}<br>date=2021-07<br>avg_sentiment=%{y}<extra></extra>",
           "ids": [
            "hairbrush"
           ],
           "legendgroup": "hairbrush",
           "marker": {
            "color": "#00cc96",
            "pattern": {
             "shape": ""
            }
           },
           "name": "hairbrush",
           "offsetgroup": "hairbrush",
           "orientation": "v",
           "showlegend": true,
           "textposition": "auto",
           "type": "bar",
           "x": [
            "hairbrush"
           ],
           "xaxis": "x",
           "y": [
            0.25
           ],
           "yaxis": "y"
          },
          {
           "alignmentgroup": "True",
           "hovertemplate": "term=%{x}<br>date=2021-07<br>avg_sentiment=%{y}<extra></extra>",
           "ids": [
            "ideally"
           ],
           "legendgroup": "ideally",
           "marker": {
            "color": "#FFA15A",
            "pattern": {
             "shape": ""
            }
           },
           "name": "ideally",
           "offsetgroup": "ideally",
           "orientation": "v",
           "showlegend": true,
           "textposition": "auto",
           "type": "bar",
           "x": [
            "ideally"
           ],
           "xaxis": "x",
           "y": [
            0.24444444477558136
           ],
           "yaxis": "y"
          },
          {
           "alignmentgroup": "True",
           "hovertemplate": "term=%{x}<br>date=2021-07<br>avg_sentiment=%{y}<extra></extra>",
           "ids": [
            "hairy"
           ],
           "legendgroup": "hairy",
           "marker": {
            "color": "#B6E880",
            "pattern": {
             "shape": ""
            }
           },
           "name": "hairy",
           "offsetgroup": "hairy",
           "orientation": "v",
           "showlegend": true,
           "textposition": "auto",
           "type": "bar",
           "x": [
            "hairy"
           ],
           "xaxis": "x",
           "y": [
            0.11714285612106323
           ],
           "yaxis": "y"
          },
          {
           "alignmentgroup": "True",
           "hovertemplate": "term=%{x}<br>date=2021-07<br>avg_sentiment=%{y}<extra></extra>",
           "ids": [
            "stained"
           ],
           "legendgroup": "stained",
           "marker": {
            "color": "#ab63fa",
            "pattern": {
             "shape": ""
            }
           },
           "name": "stained",
           "offsetgroup": "stained",
           "orientation": "v",
           "showlegend": true,
           "textposition": "auto",
           "type": "bar",
           "x": [
            "stained"
           ],
           "xaxis": "x",
           "y": [
            0.16176250576972961
           ],
           "yaxis": "y"
          }
         ],
         "name": "2021-07"
        },
        {
         "data": [
          {
           "alignmentgroup": "True",
           "hovertemplate": "term=%{x}<br>date=2021-02<br>avg_sentiment=%{y}<extra></extra>",
           "ids": [
            "aloe"
           ],
           "legendgroup": "aloe",
           "marker": {
            "color": "#EF553B",
            "pattern": {
             "shape": ""
            }
           },
           "name": "aloe",
           "offsetgroup": "aloe",
           "orientation": "v",
           "showlegend": true,
           "textposition": "auto",
           "type": "bar",
           "x": [
            "aloe"
           ],
           "xaxis": "x",
           "y": [
            0.23749999701976776
           ],
           "yaxis": "y"
          },
          {
           "alignmentgroup": "True",
           "hovertemplate": "term=%{x}<br>date=2021-02<br>avg_sentiment=%{y}<extra></extra>",
           "ids": [
            "zippered"
           ],
           "legendgroup": "zippered",
           "marker": {
            "color": "#ab63fa",
            "pattern": {
             "shape": ""
            }
           },
           "name": "zippered",
           "offsetgroup": "zippered",
           "orientation": "v",
           "showlegend": true,
           "textposition": "auto",
           "type": "bar",
           "x": [
            "zippered"
           ],
           "xaxis": "x",
           "y": [
            0.36666667461395264
           ],
           "yaxis": "y"
          },
          {
           "alignmentgroup": "True",
           "hovertemplate": "term=%{x}<br>date=2021-02<br>avg_sentiment=%{y}<extra></extra>",
           "ids": [
            "ideally"
           ],
           "legendgroup": "ideally",
           "marker": {
            "color": "#FFA15A",
            "pattern": {
             "shape": ""
            }
           },
           "name": "ideally",
           "offsetgroup": "ideally",
           "orientation": "v",
           "showlegend": true,
           "textposition": "auto",
           "type": "bar",
           "x": [
            "ideally"
           ],
           "xaxis": "x",
           "y": [
            -0.4611110985279083
           ],
           "yaxis": "y"
          },
          {
           "alignmentgroup": "True",
           "hovertemplate": "term=%{x}<br>date=2021-02<br>avg_sentiment=%{y}<extra></extra>",
           "ids": [
            "hairy"
           ],
           "legendgroup": "hairy",
           "marker": {
            "color": "#B6E880",
            "pattern": {
             "shape": ""
            }
           },
           "name": "hairy",
           "offsetgroup": "hairy",
           "orientation": "v",
           "showlegend": true,
           "textposition": "auto",
           "type": "bar",
           "x": [
            "hairy"
           ],
           "xaxis": "x",
           "y": [
            -0.03750000149011612
           ],
           "yaxis": "y"
          },
          {
           "alignmentgroup": "True",
           "hovertemplate": "term=%{x}<br>date=2021-02<br>avg_sentiment=%{y}<extra></extra>",
           "ids": [
            "stained"
           ],
           "legendgroup": "stained",
           "marker": {
            "color": "#ab63fa",
            "pattern": {
             "shape": ""
            }
           },
           "name": "stained",
           "offsetgroup": "stained",
           "orientation": "v",
           "showlegend": true,
           "textposition": "auto",
           "type": "bar",
           "x": [
            "stained"
           ],
           "xaxis": "x",
           "y": [
            0.05197368562221527
           ],
           "yaxis": "y"
          }
         ],
         "name": "2021-02"
        },
        {
         "data": [
          {
           "alignmentgroup": "True",
           "hovertemplate": "term=%{x}<br>date=2021-10<br>avg_sentiment=%{y}<extra></extra>",
           "ids": [
            "hairy"
           ],
           "legendgroup": "hairy",
           "marker": {
            "color": "#B6E880",
            "pattern": {
             "shape": ""
            }
           },
           "name": "hairy",
           "offsetgroup": "hairy",
           "orientation": "v",
           "showlegend": true,
           "textposition": "auto",
           "type": "bar",
           "x": [
            "hairy"
           ],
           "xaxis": "x",
           "y": [
            -0.07333333045244217
           ],
           "yaxis": "y"
          },
          {
           "alignmentgroup": "True",
           "hovertemplate": "term=%{x}<br>date=2021-10<br>avg_sentiment=%{y}<extra></extra>",
           "ids": [
            "saying"
           ],
           "legendgroup": "saying",
           "marker": {
            "color": "#00cc96",
            "pattern": {
             "shape": ""
            }
           },
           "name": "saying",
           "offsetgroup": "saying",
           "orientation": "v",
           "showlegend": true,
           "textposition": "auto",
           "type": "bar",
           "x": [
            "saying"
           ],
           "xaxis": "x",
           "y": [
            0.10194805264472961
           ],
           "yaxis": "y"
          },
          {
           "alignmentgroup": "True",
           "hovertemplate": "term=%{x}<br>date=2021-10<br>avg_sentiment=%{y}<extra></extra>",
           "ids": [
            "stained"
           ],
           "legendgroup": "stained",
           "marker": {
            "color": "#ab63fa",
            "pattern": {
             "shape": ""
            }
           },
           "name": "stained",
           "offsetgroup": "stained",
           "orientation": "v",
           "showlegend": true,
           "textposition": "auto",
           "type": "bar",
           "x": [
            "stained"
           ],
           "xaxis": "x",
           "y": [
            0.07500000298023224
           ],
           "yaxis": "y"
          }
         ],
         "name": "2021-10"
        },
        {
         "data": [
          {
           "alignmentgroup": "True",
           "hovertemplate": "term=%{x}<br>date=2022-10<br>avg_sentiment=%{y}<extra></extra>",
           "ids": [
            "hairy"
           ],
           "legendgroup": "hairy",
           "marker": {
            "color": "#B6E880",
            "pattern": {
             "shape": ""
            }
           },
           "name": "hairy",
           "offsetgroup": "hairy",
           "orientation": "v",
           "showlegend": true,
           "textposition": "auto",
           "type": "bar",
           "x": [
            "hairy"
           ],
           "xaxis": "x",
           "y": [
            0.023333333432674408
           ],
           "yaxis": "y"
          },
          {
           "alignmentgroup": "True",
           "hovertemplate": "term=%{x}<br>date=2022-10<br>avg_sentiment=%{y}<extra></extra>",
           "ids": [
            "maine"
           ],
           "legendgroup": "maine",
           "marker": {
            "color": "#FECB52",
            "pattern": {
             "shape": ""
            }
           },
           "name": "maine",
           "offsetgroup": "maine",
           "orientation": "v",
           "showlegend": true,
           "textposition": "auto",
           "type": "bar",
           "x": [
            "maine"
           ],
           "xaxis": "x",
           "y": [
            0.1088888868689537
           ],
           "yaxis": "y"
          },
          {
           "alignmentgroup": "True",
           "hovertemplate": "term=%{x}<br>date=2022-10<br>avg_sentiment=%{y}<extra></extra>",
           "ids": [
            "dabbling"
           ],
           "legendgroup": "dabbling",
           "marker": {
            "color": "#19d3f3",
            "pattern": {
             "shape": ""
            }
           },
           "name": "dabbling",
           "offsetgroup": "dabbling",
           "orientation": "v",
           "showlegend": true,
           "textposition": "auto",
           "type": "bar",
           "x": [
            "dabbling"
           ],
           "xaxis": "x",
           "y": [
            -0.12857143580913544
           ],
           "yaxis": "y"
          },
          {
           "alignmentgroup": "True",
           "hovertemplate": "term=%{x}<br>date=2022-10<br>avg_sentiment=%{y}<extra></extra>",
           "ids": [
            "small"
           ],
           "legendgroup": "small",
           "marker": {
            "color": "#FF6692",
            "pattern": {
             "shape": ""
            }
           },
           "name": "small",
           "offsetgroup": "small",
           "orientation": "v",
           "showlegend": true,
           "textposition": "auto",
           "type": "bar",
           "x": [
            "small"
           ],
           "xaxis": "x",
           "y": [
            0.05833333358168602
           ],
           "yaxis": "y"
          },
          {
           "alignmentgroup": "True",
           "hovertemplate": "term=%{x}<br>date=2022-10<br>avg_sentiment=%{y}<extra></extra>",
           "ids": [
            "seduction"
           ],
           "legendgroup": "seduction",
           "marker": {
            "color": "#B6E880",
            "pattern": {
             "shape": ""
            }
           },
           "name": "seduction",
           "offsetgroup": "seduction",
           "orientation": "v",
           "showlegend": true,
           "textposition": "auto",
           "type": "bar",
           "x": [
            "seduction"
           ],
           "xaxis": "x",
           "y": [
            0.031060606241226196
           ],
           "yaxis": "y"
          },
          {
           "alignmentgroup": "True",
           "hovertemplate": "term=%{x}<br>date=2022-10<br>avg_sentiment=%{y}<extra></extra>",
           "ids": [
            "findings"
           ],
           "legendgroup": "findings",
           "marker": {
            "color": "#FF97FF",
            "pattern": {
             "shape": ""
            }
           },
           "name": "findings",
           "offsetgroup": "findings",
           "orientation": "v",
           "showlegend": true,
           "textposition": "auto",
           "type": "bar",
           "x": [
            "findings"
           ],
           "xaxis": "x",
           "y": [
            0.1371714323759079
           ],
           "yaxis": "y"
          },
          {
           "alignmentgroup": "True",
           "hovertemplate": "term=%{x}<br>date=2022-10<br>avg_sentiment=%{y}<extra></extra>",
           "ids": [
            "loooove"
           ],
           "legendgroup": "loooove",
           "marker": {
            "color": "#FECB52",
            "pattern": {
             "shape": ""
            }
           },
           "name": "loooove",
           "offsetgroup": "loooove",
           "orientation": "v",
           "showlegend": true,
           "textposition": "auto",
           "type": "bar",
           "x": [
            "loooove"
           ],
           "xaxis": "x",
           "y": [
            -0.01666666753590107
           ],
           "yaxis": "y"
          }
         ],
         "name": "2022-10"
        },
        {
         "data": [
          {
           "alignmentgroup": "True",
           "hovertemplate": "term=%{x}<br>date=2022-08<br>avg_sentiment=%{y}<extra></extra>",
           "ids": [
            "town"
           ],
           "legendgroup": "town",
           "marker": {
            "color": "#636efa",
            "pattern": {
             "shape": ""
            }
           },
           "name": "town",
           "offsetgroup": "town",
           "orientation": "v",
           "showlegend": true,
           "textposition": "auto",
           "type": "bar",
           "x": [
            "town"
           ],
           "xaxis": "x",
           "y": [
            -0.25
           ],
           "yaxis": "y"
          },
          {
           "alignmentgroup": "True",
           "hovertemplate": "term=%{x}<br>date=2022-08<br>avg_sentiment=%{y}<extra></extra>",
           "ids": [
            "aloe"
           ],
           "legendgroup": "aloe",
           "marker": {
            "color": "#EF553B",
            "pattern": {
             "shape": ""
            }
           },
           "name": "aloe",
           "offsetgroup": "aloe",
           "orientation": "v",
           "showlegend": true,
           "textposition": "auto",
           "type": "bar",
           "x": [
            "aloe"
           ],
           "xaxis": "x",
           "y": [
            0.06666667014360428
           ],
           "yaxis": "y"
          },
          {
           "alignmentgroup": "True",
           "hovertemplate": "term=%{x}<br>date=2022-08<br>avg_sentiment=%{y}<extra></extra>",
           "ids": [
            "hairbrush"
           ],
           "legendgroup": "hairbrush",
           "marker": {
            "color": "#00cc96",
            "pattern": {
             "shape": ""
            }
           },
           "name": "hairbrush",
           "offsetgroup": "hairbrush",
           "orientation": "v",
           "showlegend": true,
           "textposition": "auto",
           "type": "bar",
           "x": [
            "hairbrush"
           ],
           "xaxis": "x",
           "y": [
            0.36393940448760986
           ],
           "yaxis": "y"
          },
          {
           "alignmentgroup": "True",
           "hovertemplate": "term=%{x}<br>date=2022-08<br>avg_sentiment=%{y}<extra></extra>",
           "ids": [
            "closeset"
           ],
           "legendgroup": "closeset",
           "marker": {
            "color": "#FF6692",
            "pattern": {
             "shape": ""
            }
           },
           "name": "closeset",
           "offsetgroup": "closeset",
           "orientation": "v",
           "showlegend": true,
           "textposition": "auto",
           "type": "bar",
           "x": [
            "closeset"
           ],
           "xaxis": "x",
           "y": [
            0.15000000596046448
           ],
           "yaxis": "y"
          },
          {
           "alignmentgroup": "True",
           "hovertemplate": "term=%{x}<br>date=2022-08<br>avg_sentiment=%{y}<extra></extra>",
           "ids": [
            "hairy"
           ],
           "legendgroup": "hairy",
           "marker": {
            "color": "#B6E880",
            "pattern": {
             "shape": ""
            }
           },
           "name": "hairy",
           "offsetgroup": "hairy",
           "orientation": "v",
           "showlegend": true,
           "textposition": "auto",
           "type": "bar",
           "x": [
            "hairy"
           ],
           "xaxis": "x",
           "y": [
            0.18000000715255737
           ],
           "yaxis": "y"
          },
          {
           "alignmentgroup": "True",
           "hovertemplate": "term=%{x}<br>date=2022-08<br>avg_sentiment=%{y}<extra></extra>",
           "ids": [
            "dentist"
           ],
           "legendgroup": "dentist",
           "marker": {
            "color": "#FFA15A",
            "pattern": {
             "shape": ""
            }
           },
           "name": "dentist",
           "offsetgroup": "dentist",
           "orientation": "v",
           "showlegend": true,
           "textposition": "auto",
           "type": "bar",
           "x": [
            "dentist"
           ],
           "xaxis": "x",
           "y": [
            0.4000000059604645
           ],
           "yaxis": "y"
          },
          {
           "alignmentgroup": "True",
           "hovertemplate": "term=%{x}<br>date=2022-08<br>avg_sentiment=%{y}<extra></extra>",
           "ids": [
            "seduction"
           ],
           "legendgroup": "seduction",
           "marker": {
            "color": "#B6E880",
            "pattern": {
             "shape": ""
            }
           },
           "name": "seduction",
           "offsetgroup": "seduction",
           "orientation": "v",
           "showlegend": true,
           "textposition": "auto",
           "type": "bar",
           "x": [
            "seduction"
           ],
           "xaxis": "x",
           "y": [
            0.05638774111866951
           ],
           "yaxis": "y"
          }
         ],
         "name": "2022-08"
        },
        {
         "data": [
          {
           "alignmentgroup": "True",
           "hovertemplate": "term=%{x}<br>date=2021-12<br>avg_sentiment=%{y}<extra></extra>",
           "ids": [
            "town"
           ],
           "legendgroup": "town",
           "marker": {
            "color": "#636efa",
            "pattern": {
             "shape": ""
            }
           },
           "name": "town",
           "offsetgroup": "town",
           "orientation": "v",
           "showlegend": true,
           "textposition": "auto",
           "type": "bar",
           "x": [
            "town"
           ],
           "xaxis": "x",
           "y": [
            -0.0364583320915699
           ],
           "yaxis": "y"
          },
          {
           "alignmentgroup": "True",
           "hovertemplate": "term=%{x}<br>date=2021-12<br>avg_sentiment=%{y}<extra></extra>",
           "ids": [
            "aloe"
           ],
           "legendgroup": "aloe",
           "marker": {
            "color": "#EF553B",
            "pattern": {
             "shape": ""
            }
           },
           "name": "aloe",
           "offsetgroup": "aloe",
           "orientation": "v",
           "showlegend": true,
           "textposition": "auto",
           "type": "bar",
           "x": [
            "aloe"
           ],
           "xaxis": "x",
           "y": [
            0.13750000298023224
           ],
           "yaxis": "y"
          },
          {
           "alignmentgroup": "True",
           "hovertemplate": "term=%{x}<br>date=2021-12<br>avg_sentiment=%{y}<extra></extra>",
           "ids": [
            "hairy"
           ],
           "legendgroup": "hairy",
           "marker": {
            "color": "#B6E880",
            "pattern": {
             "shape": ""
            }
           },
           "name": "hairy",
           "offsetgroup": "hairy",
           "orientation": "v",
           "showlegend": true,
           "textposition": "auto",
           "type": "bar",
           "x": [
            "hairy"
           ],
           "xaxis": "x",
           "y": [
            0.10723505821079016
           ],
           "yaxis": "y"
          },
          {
           "alignmentgroup": "True",
           "hovertemplate": "term=%{x}<br>date=2021-12<br>avg_sentiment=%{y}<extra></extra>",
           "ids": [
            "saying"
           ],
           "legendgroup": "saying",
           "marker": {
            "color": "#00cc96",
            "pattern": {
             "shape": ""
            }
           },
           "name": "saying",
           "offsetgroup": "saying",
           "orientation": "v",
           "showlegend": true,
           "textposition": "auto",
           "type": "bar",
           "x": [
            "saying"
           ],
           "xaxis": "x",
           "y": [
            -0.018333332613110542
           ],
           "yaxis": "y"
          },
          {
           "alignmentgroup": "True",
           "hovertemplate": "term=%{x}<br>date=2021-12<br>avg_sentiment=%{y}<extra></extra>",
           "ids": [
            "dabbling"
           ],
           "legendgroup": "dabbling",
           "marker": {
            "color": "#19d3f3",
            "pattern": {
             "shape": ""
            }
           },
           "name": "dabbling",
           "offsetgroup": "dabbling",
           "orientation": "v",
           "showlegend": true,
           "textposition": "auto",
           "type": "bar",
           "x": [
            "dabbling"
           ],
           "xaxis": "x",
           "y": [
            0.23112745583057404
           ],
           "yaxis": "y"
          }
         ],
         "name": "2021-12"
        },
        {
         "data": [
          {
           "alignmentgroup": "True",
           "hovertemplate": "term=%{x}<br>date=2021-06<br>avg_sentiment=%{y}<extra></extra>",
           "ids": [
            "seduction"
           ],
           "legendgroup": "seduction",
           "marker": {
            "color": "#B6E880",
            "pattern": {
             "shape": ""
            }
           },
           "name": "seduction",
           "offsetgroup": "seduction",
           "orientation": "v",
           "showlegend": true,
           "textposition": "auto",
           "type": "bar",
           "x": [
            "seduction"
           ],
           "xaxis": "x",
           "y": [
            0.16572339832782745
           ],
           "yaxis": "y"
          },
          {
           "alignmentgroup": "True",
           "hovertemplate": "term=%{x}<br>date=2021-06<br>avg_sentiment=%{y}<extra></extra>",
           "ids": [
            "findings"
           ],
           "legendgroup": "findings",
           "marker": {
            "color": "#FF97FF",
            "pattern": {
             "shape": ""
            }
           },
           "name": "findings",
           "offsetgroup": "findings",
           "orientation": "v",
           "showlegend": true,
           "textposition": "auto",
           "type": "bar",
           "x": [
            "findings"
           ],
           "xaxis": "x",
           "y": [
            0.14023809134960175
           ],
           "yaxis": "y"
          }
         ],
         "name": "2021-06"
        },
        {
         "data": [
          {
           "alignmentgroup": "True",
           "hovertemplate": "term=%{x}<br>date=2021-08<br>avg_sentiment=%{y}<extra></extra>",
           "ids": [
            "hairbrush"
           ],
           "legendgroup": "hairbrush",
           "marker": {
            "color": "#00cc96",
            "pattern": {
             "shape": ""
            }
           },
           "name": "hairbrush",
           "offsetgroup": "hairbrush",
           "orientation": "v",
           "showlegend": true,
           "textposition": "auto",
           "type": "bar",
           "x": [
            "hairbrush"
           ],
           "xaxis": "x",
           "y": [
            0.2336309552192688
           ],
           "yaxis": "y"
          },
          {
           "alignmentgroup": "True",
           "hovertemplate": "term=%{x}<br>date=2021-08<br>avg_sentiment=%{y}<extra></extra>",
           "ids": [
            "zippered"
           ],
           "legendgroup": "zippered",
           "marker": {
            "color": "#ab63fa",
            "pattern": {
             "shape": ""
            }
           },
           "name": "zippered",
           "offsetgroup": "zippered",
           "orientation": "v",
           "showlegend": true,
           "textposition": "auto",
           "type": "bar",
           "x": [
            "zippered"
           ],
           "xaxis": "x",
           "y": [
            0.27190476655960083
           ],
           "yaxis": "y"
          },
          {
           "alignmentgroup": "True",
           "hovertemplate": "term=%{x}<br>date=2021-08<br>avg_sentiment=%{y}<extra></extra>",
           "ids": [
            "closeset"
           ],
           "legendgroup": "closeset",
           "marker": {
            "color": "#FF6692",
            "pattern": {
             "shape": ""
            }
           },
           "name": "closeset",
           "offsetgroup": "closeset",
           "orientation": "v",
           "showlegend": true,
           "textposition": "auto",
           "type": "bar",
           "x": [
            "closeset"
           ],
           "xaxis": "x",
           "y": [
            0.13333334028720856
           ],
           "yaxis": "y"
          },
          {
           "alignmentgroup": "True",
           "hovertemplate": "term=%{x}<br>date=2021-08<br>avg_sentiment=%{y}<extra></extra>",
           "ids": [
            "maine"
           ],
           "legendgroup": "maine",
           "marker": {
            "color": "#FECB52",
            "pattern": {
             "shape": ""
            }
           },
           "name": "maine",
           "offsetgroup": "maine",
           "orientation": "v",
           "showlegend": true,
           "textposition": "auto",
           "type": "bar",
           "x": [
            "maine"
           ],
           "xaxis": "x",
           "y": [
            0.10000000149011612
           ],
           "yaxis": "y"
          },
          {
           "alignmentgroup": "True",
           "hovertemplate": "term=%{x}<br>date=2021-08<br>avg_sentiment=%{y}<extra></extra>",
           "ids": [
            "iredale"
           ],
           "legendgroup": "iredale",
           "marker": {
            "color": "#EF553B",
            "pattern": {
             "shape": ""
            }
           },
           "name": "iredale",
           "offsetgroup": "iredale",
           "orientation": "v",
           "showlegend": true,
           "textposition": "auto",
           "type": "bar",
           "x": [
            "iredale"
           ],
           "xaxis": "x",
           "y": [
            0.15909090638160706
           ],
           "yaxis": "y"
          },
          {
           "alignmentgroup": "True",
           "hovertemplate": "term=%{x}<br>date=2021-08<br>avg_sentiment=%{y}<extra></extra>",
           "ids": [
            "saying"
           ],
           "legendgroup": "saying",
           "marker": {
            "color": "#00cc96",
            "pattern": {
             "shape": ""
            }
           },
           "name": "saying",
           "offsetgroup": "saying",
           "orientation": "v",
           "showlegend": true,
           "textposition": "auto",
           "type": "bar",
           "x": [
            "saying"
           ],
           "xaxis": "x",
           "y": [
            0.0949999988079071
           ],
           "yaxis": "y"
          },
          {
           "alignmentgroup": "True",
           "hovertemplate": "term=%{x}<br>date=2021-08<br>avg_sentiment=%{y}<extra></extra>",
           "ids": [
            "seduction"
           ],
           "legendgroup": "seduction",
           "marker": {
            "color": "#B6E880",
            "pattern": {
             "shape": ""
            }
           },
           "name": "seduction",
           "offsetgroup": "seduction",
           "orientation": "v",
           "showlegend": true,
           "textposition": "auto",
           "type": "bar",
           "x": [
            "seduction"
           ],
           "xaxis": "x",
           "y": [
            0.26286548376083374
           ],
           "yaxis": "y"
          },
          {
           "alignmentgroup": "True",
           "hovertemplate": "term=%{x}<br>date=2021-08<br>avg_sentiment=%{y}<extra></extra>",
           "ids": [
            "findings"
           ],
           "legendgroup": "findings",
           "marker": {
            "color": "#FF97FF",
            "pattern": {
             "shape": ""
            }
           },
           "name": "findings",
           "offsetgroup": "findings",
           "orientation": "v",
           "showlegend": true,
           "textposition": "auto",
           "type": "bar",
           "x": [
            "findings"
           ],
           "xaxis": "x",
           "y": [
            0.03333333507180214
           ],
           "yaxis": "y"
          }
         ],
         "name": "2021-08"
        },
        {
         "data": [
          {
           "alignmentgroup": "True",
           "hovertemplate": "term=%{x}<br>date=2022-06<br>avg_sentiment=%{y}<extra></extra>",
           "ids": [
            "hairy"
           ],
           "legendgroup": "hairy",
           "marker": {
            "color": "#B6E880",
            "pattern": {
             "shape": ""
            }
           },
           "name": "hairy",
           "offsetgroup": "hairy",
           "orientation": "v",
           "showlegend": true,
           "textposition": "auto",
           "type": "bar",
           "x": [
            "hairy"
           ],
           "xaxis": "x",
           "y": [
            0.02190476283431053
           ],
           "yaxis": "y"
          }
         ],
         "name": "2022-06"
        },
        {
         "data": [
          {
           "alignmentgroup": "True",
           "hovertemplate": "term=%{x}<br>date=2021-11<br>avg_sentiment=%{y}<extra></extra>",
           "ids": [
            "town"
           ],
           "legendgroup": "town",
           "marker": {
            "color": "#636efa",
            "pattern": {
             "shape": ""
            }
           },
           "name": "town",
           "offsetgroup": "town",
           "orientation": "v",
           "showlegend": true,
           "textposition": "auto",
           "type": "bar",
           "x": [
            "town"
           ],
           "xaxis": "x",
           "y": [
            -0.22083333134651184
           ],
           "yaxis": "y"
          },
          {
           "alignmentgroup": "True",
           "hovertemplate": "term=%{x}<br>date=2021-11<br>avg_sentiment=%{y}<extra></extra>",
           "ids": [
            "closeset"
           ],
           "legendgroup": "closeset",
           "marker": {
            "color": "#FF6692",
            "pattern": {
             "shape": ""
            }
           },
           "name": "closeset",
           "offsetgroup": "closeset",
           "orientation": "v",
           "showlegend": true,
           "textposition": "auto",
           "type": "bar",
           "x": [
            "closeset"
           ],
           "xaxis": "x",
           "y": [
            0.3583333194255829
           ],
           "yaxis": "y"
          },
          {
           "alignmentgroup": "True",
           "hovertemplate": "term=%{x}<br>date=2021-11<br>avg_sentiment=%{y}<extra></extra>",
           "ids": [
            "loooove"
           ],
           "legendgroup": "loooove",
           "marker": {
            "color": "#FECB52",
            "pattern": {
             "shape": ""
            }
           },
           "name": "loooove",
           "offsetgroup": "loooove",
           "orientation": "v",
           "showlegend": true,
           "textposition": "auto",
           "type": "bar",
           "x": [
            "loooove"
           ],
           "xaxis": "x",
           "y": [
            0
           ],
           "yaxis": "y"
          }
         ],
         "name": "2021-11"
        }
       ],
       "layout": {
        "autosize": true,
        "barmode": "relative",
        "legend": {
         "title": {
          "text": "term"
         },
         "tracegroupgap": 0
        },
        "showlegend": true,
        "sliders": [
         {
          "active": 26,
          "currentvalue": {
           "prefix": "date="
          },
          "len": 0.9,
          "pad": {
           "b": 10,
           "t": 60
          },
          "steps": [
           {
            "args": [
             [
              "2023-03"
             ],
             {
              "frame": {
               "duration": 0,
               "redraw": true
              },
              "fromcurrent": true,
              "mode": "immediate",
              "transition": {
               "duration": 0,
               "easing": "linear"
              }
             }
            ],
            "label": "2023-03",
            "method": "animate"
           },
           {
            "args": [
             [
              "2022-09"
             ],
             {
              "frame": {
               "duration": 0,
               "redraw": true
              },
              "fromcurrent": true,
              "mode": "immediate",
              "transition": {
               "duration": 0,
               "easing": "linear"
              }
             }
            ],
            "label": "2022-09",
            "method": "animate"
           },
           {
            "args": [
             [
              "2023-01"
             ],
             {
              "frame": {
               "duration": 0,
               "redraw": true
              },
              "fromcurrent": true,
              "mode": "immediate",
              "transition": {
               "duration": 0,
               "easing": "linear"
              }
             }
            ],
            "label": "2023-01",
            "method": "animate"
           },
           {
            "args": [
             [
              "2023-02"
             ],
             {
              "frame": {
               "duration": 0,
               "redraw": true
              },
              "fromcurrent": true,
              "mode": "immediate",
              "transition": {
               "duration": 0,
               "easing": "linear"
              }
             }
            ],
            "label": "2023-02",
            "method": "animate"
           },
           {
            "args": [
             [
              "2022-05"
             ],
             {
              "frame": {
               "duration": 0,
               "redraw": true
              },
              "fromcurrent": true,
              "mode": "immediate",
              "transition": {
               "duration": 0,
               "easing": "linear"
              }
             }
            ],
            "label": "2022-05",
            "method": "animate"
           },
           {
            "args": [
             [
              "2022-04"
             ],
             {
              "frame": {
               "duration": 0,
               "redraw": true
              },
              "fromcurrent": true,
              "mode": "immediate",
              "transition": {
               "duration": 0,
               "easing": "linear"
              }
             }
            ],
            "label": "2022-04",
            "method": "animate"
           },
           {
            "args": [
             [
              "2022-11"
             ],
             {
              "frame": {
               "duration": 0,
               "redraw": true
              },
              "fromcurrent": true,
              "mode": "immediate",
              "transition": {
               "duration": 0,
               "easing": "linear"
              }
             }
            ],
            "label": "2022-11",
            "method": "animate"
           },
           {
            "args": [
             [
              "2021-04"
             ],
             {
              "frame": {
               "duration": 0,
               "redraw": true
              },
              "fromcurrent": true,
              "mode": "immediate",
              "transition": {
               "duration": 0,
               "easing": "linear"
              }
             }
            ],
            "label": "2021-04",
            "method": "animate"
           },
           {
            "args": [
             [
              "2021-03"
             ],
             {
              "frame": {
               "duration": 0,
               "redraw": true
              },
              "fromcurrent": true,
              "mode": "immediate",
              "transition": {
               "duration": 0,
               "easing": "linear"
              }
             }
            ],
            "label": "2021-03",
            "method": "animate"
           },
           {
            "args": [
             [
              "2022-07"
             ],
             {
              "frame": {
               "duration": 0,
               "redraw": true
              },
              "fromcurrent": true,
              "mode": "immediate",
              "transition": {
               "duration": 0,
               "easing": "linear"
              }
             }
            ],
            "label": "2022-07",
            "method": "animate"
           },
           {
            "args": [
             [
              "2021-05"
             ],
             {
              "frame": {
               "duration": 0,
               "redraw": true
              },
              "fromcurrent": true,
              "mode": "immediate",
              "transition": {
               "duration": 0,
               "easing": "linear"
              }
             }
            ],
            "label": "2021-05",
            "method": "animate"
           },
           {
            "args": [
             [
              "2021-01"
             ],
             {
              "frame": {
               "duration": 0,
               "redraw": true
              },
              "fromcurrent": true,
              "mode": "immediate",
              "transition": {
               "duration": 0,
               "easing": "linear"
              }
             }
            ],
            "label": "2021-01",
            "method": "animate"
           },
           {
            "args": [
             [
              "2022-02"
             ],
             {
              "frame": {
               "duration": 0,
               "redraw": true
              },
              "fromcurrent": true,
              "mode": "immediate",
              "transition": {
               "duration": 0,
               "easing": "linear"
              }
             }
            ],
            "label": "2022-02",
            "method": "animate"
           },
           {
            "args": [
             [
              "2022-01"
             ],
             {
              "frame": {
               "duration": 0,
               "redraw": true
              },
              "fromcurrent": true,
              "mode": "immediate",
              "transition": {
               "duration": 0,
               "easing": "linear"
              }
             }
            ],
            "label": "2022-01",
            "method": "animate"
           },
           {
            "args": [
             [
              "2021-09"
             ],
             {
              "frame": {
               "duration": 0,
               "redraw": true
              },
              "fromcurrent": true,
              "mode": "immediate",
              "transition": {
               "duration": 0,
               "easing": "linear"
              }
             }
            ],
            "label": "2021-09",
            "method": "animate"
           },
           {
            "args": [
             [
              "2022-03"
             ],
             {
              "frame": {
               "duration": 0,
               "redraw": true
              },
              "fromcurrent": true,
              "mode": "immediate",
              "transition": {
               "duration": 0,
               "easing": "linear"
              }
             }
            ],
            "label": "2022-03",
            "method": "animate"
           },
           {
            "args": [
             [
              "2022-12"
             ],
             {
              "frame": {
               "duration": 0,
               "redraw": true
              },
              "fromcurrent": true,
              "mode": "immediate",
              "transition": {
               "duration": 0,
               "easing": "linear"
              }
             }
            ],
            "label": "2022-12",
            "method": "animate"
           },
           {
            "args": [
             [
              "2021-07"
             ],
             {
              "frame": {
               "duration": 0,
               "redraw": true
              },
              "fromcurrent": true,
              "mode": "immediate",
              "transition": {
               "duration": 0,
               "easing": "linear"
              }
             }
            ],
            "label": "2021-07",
            "method": "animate"
           },
           {
            "args": [
             [
              "2021-02"
             ],
             {
              "frame": {
               "duration": 0,
               "redraw": true
              },
              "fromcurrent": true,
              "mode": "immediate",
              "transition": {
               "duration": 0,
               "easing": "linear"
              }
             }
            ],
            "label": "2021-02",
            "method": "animate"
           },
           {
            "args": [
             [
              "2021-10"
             ],
             {
              "frame": {
               "duration": 0,
               "redraw": true
              },
              "fromcurrent": true,
              "mode": "immediate",
              "transition": {
               "duration": 0,
               "easing": "linear"
              }
             }
            ],
            "label": "2021-10",
            "method": "animate"
           },
           {
            "args": [
             [
              "2022-10"
             ],
             {
              "frame": {
               "duration": 0,
               "redraw": true
              },
              "fromcurrent": true,
              "mode": "immediate",
              "transition": {
               "duration": 0,
               "easing": "linear"
              }
             }
            ],
            "label": "2022-10",
            "method": "animate"
           },
           {
            "args": [
             [
              "2022-08"
             ],
             {
              "frame": {
               "duration": 0,
               "redraw": true
              },
              "fromcurrent": true,
              "mode": "immediate",
              "transition": {
               "duration": 0,
               "easing": "linear"
              }
             }
            ],
            "label": "2022-08",
            "method": "animate"
           },
           {
            "args": [
             [
              "2021-12"
             ],
             {
              "frame": {
               "duration": 0,
               "redraw": true
              },
              "fromcurrent": true,
              "mode": "immediate",
              "transition": {
               "duration": 0,
               "easing": "linear"
              }
             }
            ],
            "label": "2021-12",
            "method": "animate"
           },
           {
            "args": [
             [
              "2021-06"
             ],
             {
              "frame": {
               "duration": 0,
               "redraw": true
              },
              "fromcurrent": true,
              "mode": "immediate",
              "transition": {
               "duration": 0,
               "easing": "linear"
              }
             }
            ],
            "label": "2021-06",
            "method": "animate"
           },
           {
            "args": [
             [
              "2021-08"
             ],
             {
              "frame": {
               "duration": 0,
               "redraw": true
              },
              "fromcurrent": true,
              "mode": "immediate",
              "transition": {
               "duration": 0,
               "easing": "linear"
              }
             }
            ],
            "label": "2021-08",
            "method": "animate"
           },
           {
            "args": [
             [
              "2022-06"
             ],
             {
              "frame": {
               "duration": 0,
               "redraw": true
              },
              "fromcurrent": true,
              "mode": "immediate",
              "transition": {
               "duration": 0,
               "easing": "linear"
              }
             }
            ],
            "label": "2022-06",
            "method": "animate"
           },
           {
            "args": [
             [
              "2021-11"
             ],
             {
              "frame": {
               "duration": 0,
               "redraw": true
              },
              "fromcurrent": true,
              "mode": "immediate",
              "transition": {
               "duration": 0,
               "easing": "linear"
              }
             }
            ],
            "label": "2021-11",
            "method": "animate"
           }
          ],
          "x": 0.1,
          "xanchor": "left",
          "y": 0,
          "yanchor": "top"
         }
        ],
        "template": {
         "data": {
          "bar": [
           {
            "error_x": {
             "color": "#2a3f5f"
            },
            "error_y": {
             "color": "#2a3f5f"
            },
            "marker": {
             "line": {
              "color": "#E5ECF6",
              "width": 0.5
             },
             "pattern": {
              "fillmode": "overlay",
              "size": 10,
              "solidity": 0.2
             }
            },
            "type": "bar"
           }
          ],
          "barpolar": [
           {
            "marker": {
             "line": {
              "color": "#E5ECF6",
              "width": 0.5
             },
             "pattern": {
              "fillmode": "overlay",
              "size": 10,
              "solidity": 0.2
             }
            },
            "type": "barpolar"
           }
          ],
          "carpet": [
           {
            "aaxis": {
             "endlinecolor": "#2a3f5f",
             "gridcolor": "white",
             "linecolor": "white",
             "minorgridcolor": "white",
             "startlinecolor": "#2a3f5f"
            },
            "baxis": {
             "endlinecolor": "#2a3f5f",
             "gridcolor": "white",
             "linecolor": "white",
             "minorgridcolor": "white",
             "startlinecolor": "#2a3f5f"
            },
            "type": "carpet"
           }
          ],
          "choropleth": [
           {
            "colorbar": {
             "outlinewidth": 0,
             "ticks": ""
            },
            "type": "choropleth"
           }
          ],
          "contour": [
           {
            "colorbar": {
             "outlinewidth": 0,
             "ticks": ""
            },
            "colorscale": [
             [
              0,
              "#0d0887"
             ],
             [
              0.1111111111111111,
              "#46039f"
             ],
             [
              0.2222222222222222,
              "#7201a8"
             ],
             [
              0.3333333333333333,
              "#9c179e"
             ],
             [
              0.4444444444444444,
              "#bd3786"
             ],
             [
              0.5555555555555556,
              "#d8576b"
             ],
             [
              0.6666666666666666,
              "#ed7953"
             ],
             [
              0.7777777777777778,
              "#fb9f3a"
             ],
             [
              0.8888888888888888,
              "#fdca26"
             ],
             [
              1,
              "#f0f921"
             ]
            ],
            "type": "contour"
           }
          ],
          "contourcarpet": [
           {
            "colorbar": {
             "outlinewidth": 0,
             "ticks": ""
            },
            "type": "contourcarpet"
           }
          ],
          "heatmap": [
           {
            "colorbar": {
             "outlinewidth": 0,
             "ticks": ""
            },
            "colorscale": [
             [
              0,
              "#0d0887"
             ],
             [
              0.1111111111111111,
              "#46039f"
             ],
             [
              0.2222222222222222,
              "#7201a8"
             ],
             [
              0.3333333333333333,
              "#9c179e"
             ],
             [
              0.4444444444444444,
              "#bd3786"
             ],
             [
              0.5555555555555556,
              "#d8576b"
             ],
             [
              0.6666666666666666,
              "#ed7953"
             ],
             [
              0.7777777777777778,
              "#fb9f3a"
             ],
             [
              0.8888888888888888,
              "#fdca26"
             ],
             [
              1,
              "#f0f921"
             ]
            ],
            "type": "heatmap"
           }
          ],
          "heatmapgl": [
           {
            "colorbar": {
             "outlinewidth": 0,
             "ticks": ""
            },
            "colorscale": [
             [
              0,
              "#0d0887"
             ],
             [
              0.1111111111111111,
              "#46039f"
             ],
             [
              0.2222222222222222,
              "#7201a8"
             ],
             [
              0.3333333333333333,
              "#9c179e"
             ],
             [
              0.4444444444444444,
              "#bd3786"
             ],
             [
              0.5555555555555556,
              "#d8576b"
             ],
             [
              0.6666666666666666,
              "#ed7953"
             ],
             [
              0.7777777777777778,
              "#fb9f3a"
             ],
             [
              0.8888888888888888,
              "#fdca26"
             ],
             [
              1,
              "#f0f921"
             ]
            ],
            "type": "heatmapgl"
           }
          ],
          "histogram": [
           {
            "marker": {
             "pattern": {
              "fillmode": "overlay",
              "size": 10,
              "solidity": 0.2
             }
            },
            "type": "histogram"
           }
          ],
          "histogram2d": [
           {
            "colorbar": {
             "outlinewidth": 0,
             "ticks": ""
            },
            "colorscale": [
             [
              0,
              "#0d0887"
             ],
             [
              0.1111111111111111,
              "#46039f"
             ],
             [
              0.2222222222222222,
              "#7201a8"
             ],
             [
              0.3333333333333333,
              "#9c179e"
             ],
             [
              0.4444444444444444,
              "#bd3786"
             ],
             [
              0.5555555555555556,
              "#d8576b"
             ],
             [
              0.6666666666666666,
              "#ed7953"
             ],
             [
              0.7777777777777778,
              "#fb9f3a"
             ],
             [
              0.8888888888888888,
              "#fdca26"
             ],
             [
              1,
              "#f0f921"
             ]
            ],
            "type": "histogram2d"
           }
          ],
          "histogram2dcontour": [
           {
            "colorbar": {
             "outlinewidth": 0,
             "ticks": ""
            },
            "colorscale": [
             [
              0,
              "#0d0887"
             ],
             [
              0.1111111111111111,
              "#46039f"
             ],
             [
              0.2222222222222222,
              "#7201a8"
             ],
             [
              0.3333333333333333,
              "#9c179e"
             ],
             [
              0.4444444444444444,
              "#bd3786"
             ],
             [
              0.5555555555555556,
              "#d8576b"
             ],
             [
              0.6666666666666666,
              "#ed7953"
             ],
             [
              0.7777777777777778,
              "#fb9f3a"
             ],
             [
              0.8888888888888888,
              "#fdca26"
             ],
             [
              1,
              "#f0f921"
             ]
            ],
            "type": "histogram2dcontour"
           }
          ],
          "mesh3d": [
           {
            "colorbar": {
             "outlinewidth": 0,
             "ticks": ""
            },
            "type": "mesh3d"
           }
          ],
          "parcoords": [
           {
            "line": {
             "colorbar": {
              "outlinewidth": 0,
              "ticks": ""
             }
            },
            "type": "parcoords"
           }
          ],
          "pie": [
           {
            "automargin": true,
            "type": "pie"
           }
          ],
          "scatter": [
           {
            "fillpattern": {
             "fillmode": "overlay",
             "size": 10,
             "solidity": 0.2
            },
            "type": "scatter"
           }
          ],
          "scatter3d": [
           {
            "line": {
             "colorbar": {
              "outlinewidth": 0,
              "ticks": ""
             }
            },
            "marker": {
             "colorbar": {
              "outlinewidth": 0,
              "ticks": ""
             }
            },
            "type": "scatter3d"
           }
          ],
          "scattercarpet": [
           {
            "marker": {
             "colorbar": {
              "outlinewidth": 0,
              "ticks": ""
             }
            },
            "type": "scattercarpet"
           }
          ],
          "scattergeo": [
           {
            "marker": {
             "colorbar": {
              "outlinewidth": 0,
              "ticks": ""
             }
            },
            "type": "scattergeo"
           }
          ],
          "scattergl": [
           {
            "marker": {
             "colorbar": {
              "outlinewidth": 0,
              "ticks": ""
             }
            },
            "type": "scattergl"
           }
          ],
          "scattermapbox": [
           {
            "marker": {
             "colorbar": {
              "outlinewidth": 0,
              "ticks": ""
             }
            },
            "type": "scattermapbox"
           }
          ],
          "scatterpolar": [
           {
            "marker": {
             "colorbar": {
              "outlinewidth": 0,
              "ticks": ""
             }
            },
            "type": "scatterpolar"
           }
          ],
          "scatterpolargl": [
           {
            "marker": {
             "colorbar": {
              "outlinewidth": 0,
              "ticks": ""
             }
            },
            "type": "scatterpolargl"
           }
          ],
          "scatterternary": [
           {
            "marker": {
             "colorbar": {
              "outlinewidth": 0,
              "ticks": ""
             }
            },
            "type": "scatterternary"
           }
          ],
          "surface": [
           {
            "colorbar": {
             "outlinewidth": 0,
             "ticks": ""
            },
            "colorscale": [
             [
              0,
              "#0d0887"
             ],
             [
              0.1111111111111111,
              "#46039f"
             ],
             [
              0.2222222222222222,
              "#7201a8"
             ],
             [
              0.3333333333333333,
              "#9c179e"
             ],
             [
              0.4444444444444444,
              "#bd3786"
             ],
             [
              0.5555555555555556,
              "#d8576b"
             ],
             [
              0.6666666666666666,
              "#ed7953"
             ],
             [
              0.7777777777777778,
              "#fb9f3a"
             ],
             [
              0.8888888888888888,
              "#fdca26"
             ],
             [
              1,
              "#f0f921"
             ]
            ],
            "type": "surface"
           }
          ],
          "table": [
           {
            "cells": {
             "fill": {
              "color": "#EBF0F8"
             },
             "line": {
              "color": "white"
             }
            },
            "header": {
             "fill": {
              "color": "#C8D4E3"
             },
             "line": {
              "color": "white"
             }
            },
            "type": "table"
           }
          ]
         },
         "layout": {
          "annotationdefaults": {
           "arrowcolor": "#2a3f5f",
           "arrowhead": 0,
           "arrowwidth": 1
          },
          "autotypenumbers": "strict",
          "coloraxis": {
           "colorbar": {
            "outlinewidth": 0,
            "ticks": ""
           }
          },
          "colorscale": {
           "diverging": [
            [
             0,
             "#8e0152"
            ],
            [
             0.1,
             "#c51b7d"
            ],
            [
             0.2,
             "#de77ae"
            ],
            [
             0.3,
             "#f1b6da"
            ],
            [
             0.4,
             "#fde0ef"
            ],
            [
             0.5,
             "#f7f7f7"
            ],
            [
             0.6,
             "#e6f5d0"
            ],
            [
             0.7,
             "#b8e186"
            ],
            [
             0.8,
             "#7fbc41"
            ],
            [
             0.9,
             "#4d9221"
            ],
            [
             1,
             "#276419"
            ]
           ],
           "sequential": [
            [
             0,
             "#0d0887"
            ],
            [
             0.1111111111111111,
             "#46039f"
            ],
            [
             0.2222222222222222,
             "#7201a8"
            ],
            [
             0.3333333333333333,
             "#9c179e"
            ],
            [
             0.4444444444444444,
             "#bd3786"
            ],
            [
             0.5555555555555556,
             "#d8576b"
            ],
            [
             0.6666666666666666,
             "#ed7953"
            ],
            [
             0.7777777777777778,
             "#fb9f3a"
            ],
            [
             0.8888888888888888,
             "#fdca26"
            ],
            [
             1,
             "#f0f921"
            ]
           ],
           "sequentialminus": [
            [
             0,
             "#0d0887"
            ],
            [
             0.1111111111111111,
             "#46039f"
            ],
            [
             0.2222222222222222,
             "#7201a8"
            ],
            [
             0.3333333333333333,
             "#9c179e"
            ],
            [
             0.4444444444444444,
             "#bd3786"
            ],
            [
             0.5555555555555556,
             "#d8576b"
            ],
            [
             0.6666666666666666,
             "#ed7953"
            ],
            [
             0.7777777777777778,
             "#fb9f3a"
            ],
            [
             0.8888888888888888,
             "#fdca26"
            ],
            [
             1,
             "#f0f921"
            ]
           ]
          },
          "colorway": [
           "#636efa",
           "#EF553B",
           "#00cc96",
           "#ab63fa",
           "#FFA15A",
           "#19d3f3",
           "#FF6692",
           "#B6E880",
           "#FF97FF",
           "#FECB52"
          ],
          "font": {
           "color": "#2a3f5f"
          },
          "geo": {
           "bgcolor": "white",
           "lakecolor": "white",
           "landcolor": "#E5ECF6",
           "showlakes": true,
           "showland": true,
           "subunitcolor": "white"
          },
          "hoverlabel": {
           "align": "left"
          },
          "hovermode": "closest",
          "mapbox": {
           "style": "light"
          },
          "paper_bgcolor": "white",
          "plot_bgcolor": "#E5ECF6",
          "polar": {
           "angularaxis": {
            "gridcolor": "white",
            "linecolor": "white",
            "ticks": ""
           },
           "bgcolor": "#E5ECF6",
           "radialaxis": {
            "gridcolor": "white",
            "linecolor": "white",
            "ticks": ""
           }
          },
          "scene": {
           "xaxis": {
            "backgroundcolor": "#E5ECF6",
            "gridcolor": "white",
            "gridwidth": 2,
            "linecolor": "white",
            "showbackground": true,
            "ticks": "",
            "zerolinecolor": "white"
           },
           "yaxis": {
            "backgroundcolor": "#E5ECF6",
            "gridcolor": "white",
            "gridwidth": 2,
            "linecolor": "white",
            "showbackground": true,
            "ticks": "",
            "zerolinecolor": "white"
           },
           "zaxis": {
            "backgroundcolor": "#E5ECF6",
            "gridcolor": "white",
            "gridwidth": 2,
            "linecolor": "white",
            "showbackground": true,
            "ticks": "",
            "zerolinecolor": "white"
           }
          },
          "shapedefaults": {
           "line": {
            "color": "#2a3f5f"
           }
          },
          "ternary": {
           "aaxis": {
            "gridcolor": "white",
            "linecolor": "white",
            "ticks": ""
           },
           "baxis": {
            "gridcolor": "white",
            "linecolor": "white",
            "ticks": ""
           },
           "bgcolor": "#E5ECF6",
           "caxis": {
            "gridcolor": "white",
            "linecolor": "white",
            "ticks": ""
           }
          },
          "title": {
           "x": 0.05
          },
          "xaxis": {
           "automargin": true,
           "gridcolor": "white",
           "linecolor": "white",
           "ticks": "",
           "title": {
            "standoff": 15
           },
           "zerolinecolor": "white",
           "zerolinewidth": 2
          },
          "yaxis": {
           "automargin": true,
           "gridcolor": "white",
           "linecolor": "white",
           "ticks": "",
           "title": {
            "standoff": 15
           },
           "zerolinecolor": "white",
           "zerolinewidth": 2
          }
         }
        },
        "title": {
         "text": "Monthly Average Sentiment Score for Top 20 Terms"
        },
        "updatemenus": [
         {
          "buttons": [
           {
            "args": [
             null,
             {
              "frame": {
               "duration": 500,
               "redraw": true
              },
              "fromcurrent": true,
              "mode": "immediate",
              "transition": {
               "duration": 500,
               "easing": "linear"
              }
             }
            ],
            "label": "&#9654;",
            "method": "animate"
           },
           {
            "args": [
             [
              null
             ],
             {
              "frame": {
               "duration": 0,
               "redraw": true
              },
              "fromcurrent": true,
              "mode": "immediate",
              "transition": {
               "duration": 0,
               "easing": "linear"
              }
             }
            ],
            "label": "&#9724;",
            "method": "animate"
           }
          ],
          "direction": "left",
          "pad": {
           "r": 10,
           "t": 70
          },
          "showactive": false,
          "type": "buttons",
          "x": 0.1,
          "xanchor": "right",
          "y": 0,
          "yanchor": "top"
         }
        ],
        "xaxis": {
         "anchor": "y",
         "autorange": true,
         "categoryarray": [
          "town",
          "aloe",
          "hairbrush",
          "zippered",
          "ideally",
          "paypal",
          "closeset",
          "hairy",
          "spread",
          "maine",
          "careful",
          "iredale",
          "saying",
          "stained",
          "dentist",
          "dabbling",
          "small",
          "seduction",
          "findings",
          "loooove"
         ],
         "categoryorder": "array",
         "domain": [
          0,
          1
         ],
         "range": [
          -0.5,
          19.5
         ],
         "title": {
          "text": "Term"
         },
         "type": "category"
        },
        "yaxis": {
         "anchor": "x",
         "domain": [
          0,
          1
         ],
         "range": [
          -0.4611110985279083,
          0.6333333253860474
         ],
         "title": {
          "text": "Average Sentiment"
         },
         "type": "linear"
        }
       }
      },
      "image/png": "[encoded data removed]",
      "text/html": [
       "<div>                            <div id=\"1667a8d9-7c18-4140-bb96-ef57cd766ca7\" class=\"plotly-graph-div\" style=\"height:525px; width:100%;\"></div>            <script type=\"text/javascript\">                require([\"plotly\"], function(Plotly) {                    window.PLOTLYENV=window.PLOTLYENV || {};                                    if (document.getElementById(\"1667a8d9-7c18-4140-bb96-ef57cd766ca7\")) {                    Plotly.newPlot(                        \"1667a8d9-7c18-4140-bb96-ef57cd766ca7\",                        [{\"alignmentgroup\":\"True\",\"hovertemplate\":\"term=%{x}<br>date=2023-03<br>avg_sentiment=%{y}<extra></extra>\",\"ids\":[\"town\"],\"legendgroup\":\"town\",\"marker\":{\"color\":\"#636efa\",\"pattern\":{\"shape\":\"\"}},\"name\":\"town\",\"offsetgroup\":\"town\",\"orientation\":\"v\",\"showlegend\":true,\"textposition\":\"auto\",\"x\":[\"town\"],\"xaxis\":\"x\",\"y\":[0.10000000102445483],\"yaxis\":\"y\",\"type\":\"bar\"},{\"alignmentgroup\":\"True\",\"hovertemplate\":\"term=%{x}<br>date=2023-03<br>avg_sentiment=%{y}<extra></extra>\",\"ids\":[\"zippered\"],\"legendgroup\":\"zippered\",\"marker\":{\"color\":\"#ab63fa\",\"pattern\":{\"shape\":\"\"}},\"name\":\"zippered\",\"offsetgroup\":\"zippered\",\"orientation\":\"v\",\"showlegend\":true,\"textposition\":\"auto\",\"x\":[\"zippered\"],\"xaxis\":\"x\",\"y\":[0.16833333174387613],\"yaxis\":\"y\",\"type\":\"bar\"},{\"alignmentgroup\":\"True\",\"hovertemplate\":\"term=%{x}<br>date=2023-03<br>avg_sentiment=%{y}<extra></extra>\",\"ids\":[\"closeset\"],\"legendgroup\":\"closeset\",\"marker\":{\"color\":\"#FF6692\",\"pattern\":{\"shape\":\"\"}},\"name\":\"closeset\",\"offsetgroup\":\"closeset\",\"orientation\":\"v\",\"showlegend\":true,\"textposition\":\"auto\",\"x\":[\"closeset\"],\"xaxis\":\"x\",\"y\":[0.09583333134651184],\"yaxis\":\"y\",\"type\":\"bar\"},{\"alignmentgroup\":\"True\",\"hovertemplate\":\"term=%{x}<br>date=2023-03<br>avg_sentiment=%{y}<extra></extra>\",\"ids\":[\"hairy\"],\"legendgroup\":\"hairy\",\"marker\":{\"color\":\"#B6E880\",\"pattern\":{\"shape\":\"\"}},\"name\":\"hairy\",\"offsetgroup\":\"hairy\",\"orientation\":\"v\",\"showlegend\":true,\"textposition\":\"auto\",\"x\":[\"hairy\"],\"xaxis\":\"x\",\"y\":[0.09768229094333947],\"yaxis\":\"y\",\"type\":\"bar\"},{\"alignmentgroup\":\"True\",\"hovertemplate\":\"term=%{x}<br>date=2023-03<br>avg_sentiment=%{y}<extra></extra>\",\"ids\":[\"spread\"],\"legendgroup\":\"spread\",\"marker\":{\"color\":\"#FF97FF\",\"pattern\":{\"shape\":\"\"}},\"name\":\"spread\",\"offsetgroup\":\"spread\",\"orientation\":\"v\",\"showlegend\":true,\"textposition\":\"auto\",\"x\":[\"spread\"],\"xaxis\":\"x\",\"y\":[0.10000000149011612],\"yaxis\":\"y\",\"type\":\"bar\"},{\"alignmentgroup\":\"True\",\"hovertemplate\":\"term=%{x}<br>date=2023-03<br>avg_sentiment=%{y}<extra></extra>\",\"ids\":[\"maine\"],\"legendgroup\":\"maine\",\"marker\":{\"color\":\"#FECB52\",\"pattern\":{\"shape\":\"\"}},\"name\":\"maine\",\"offsetgroup\":\"maine\",\"orientation\":\"v\",\"showlegend\":true,\"textposition\":\"auto\",\"x\":[\"maine\"],\"xaxis\":\"x\",\"y\":[-0.0071428571827709675],\"yaxis\":\"y\",\"type\":\"bar\"},{\"alignmentgroup\":\"True\",\"hovertemplate\":\"term=%{x}<br>date=2023-03<br>avg_sentiment=%{y}<extra></extra>\",\"ids\":[\"careful\"],\"legendgroup\":\"careful\",\"marker\":{\"color\":\"#636efa\",\"pattern\":{\"shape\":\"\"}},\"name\":\"careful\",\"offsetgroup\":\"careful\",\"orientation\":\"v\",\"showlegend\":true,\"textposition\":\"auto\",\"x\":[\"careful\"],\"xaxis\":\"x\",\"y\":[0.1599999964237213],\"yaxis\":\"y\",\"type\":\"bar\"},{\"alignmentgroup\":\"True\",\"hovertemplate\":\"term=%{x}<br>date=2023-03<br>avg_sentiment=%{y}<extra></extra>\",\"ids\":[\"dentist\"],\"legendgroup\":\"dentist\",\"marker\":{\"color\":\"#FFA15A\",\"pattern\":{\"shape\":\"\"}},\"name\":\"dentist\",\"offsetgroup\":\"dentist\",\"orientation\":\"v\",\"showlegend\":true,\"textposition\":\"auto\",\"x\":[\"dentist\"],\"xaxis\":\"x\",\"y\":[0.20000000298023224],\"yaxis\":\"y\",\"type\":\"bar\"},{\"alignmentgroup\":\"True\",\"hovertemplate\":\"term=%{x}<br>date=2023-03<br>avg_sentiment=%{y}<extra></extra>\",\"ids\":[\"dabbling\"],\"legendgroup\":\"dabbling\",\"marker\":{\"color\":\"#19d3f3\",\"pattern\":{\"shape\":\"\"}},\"name\":\"dabbling\",\"offsetgroup\":\"dabbling\",\"orientation\":\"v\",\"showlegend\":true,\"textposition\":\"auto\",\"x\":[\"dabbling\"],\"xaxis\":\"x\",\"y\":[0.1111776332060496],\"yaxis\":\"y\",\"type\":\"bar\"}],                        {\"template\":{\"data\":{\"histogram2dcontour\":[{\"type\":\"histogram2dcontour\",\"colorbar\":{\"outlinewidth\":0,\"ticks\":\"\"},\"colorscale\":[[0.0,\"#0d0887\"],[0.1111111111111111,\"#46039f\"],[0.2222222222222222,\"#7201a8\"],[0.3333333333333333,\"#9c179e\"],[0.4444444444444444,\"#bd3786\"],[0.5555555555555556,\"#d8576b\"],[0.6666666666666666,\"#ed7953\"],[0.7777777777777778,\"#fb9f3a\"],[0.8888888888888888,\"#fdca26\"],[1.0,\"#f0f921\"]]}],\"choropleth\":[{\"type\":\"choropleth\",\"colorbar\":{\"outlinewidth\":0,\"ticks\":\"\"}}],\"histogram2d\":[{\"type\":\"histogram2d\",\"colorbar\":{\"outlinewidth\":0,\"ticks\":\"\"},\"colorscale\":[[0.0,\"#0d0887\"],[0.1111111111111111,\"#46039f\"],[0.2222222222222222,\"#7201a8\"],[0.3333333333333333,\"#9c179e\"],[0.4444444444444444,\"#bd3786\"],[0.5555555555555556,\"#d8576b\"],[0.6666666666666666,\"#ed7953\"],[0.7777777777777778,\"#fb9f3a\"],[0.8888888888888888,\"#fdca26\"],[1.0,\"#f0f921\"]]}],\"heatmap\":[{\"type\":\"heatmap\",\"colorbar\":{\"outlinewidth\":0,\"ticks\":\"\"},\"colorscale\":[[0.0,\"#0d0887\"],[0.1111111111111111,\"#46039f\"],[0.2222222222222222,\"#7201a8\"],[0.3333333333333333,\"#9c179e\"],[0.4444444444444444,\"#bd3786\"],[0.5555555555555556,\"#d8576b\"],[0.6666666666666666,\"#ed7953\"],[0.7777777777777778,\"#fb9f3a\"],[0.8888888888888888,\"#fdca26\"],[1.0,\"#f0f921\"]]}],\"heatmapgl\":[{\"type\":\"heatmapgl\",\"colorbar\":{\"outlinewidth\":0,\"ticks\":\"\"},\"colorscale\":[[0.0,\"#0d0887\"],[0.1111111111111111,\"#46039f\"],[0.2222222222222222,\"#7201a8\"],[0.3333333333333333,\"#9c179e\"],[0.4444444444444444,\"#bd3786\"],[0.5555555555555556,\"#d8576b\"],[0.6666666666666666,\"#ed7953\"],[0.7777777777777778,\"#fb9f3a\"],[0.8888888888888888,\"#fdca26\"],[1.0,\"#f0f921\"]]}],\"contourcarpet\":[{\"type\":\"contourcarpet\",\"colorbar\":{\"outlinewidth\":0,\"ticks\":\"\"}}],\"contour\":[{\"type\":\"contour\",\"colorbar\":{\"outlinewidth\":0,\"ticks\":\"\"},\"colorscale\":[[0.0,\"#0d0887\"],[0.1111111111111111,\"#46039f\"],[0.2222222222222222,\"#7201a8\"],[0.3333333333333333,\"#9c179e\"],[0.4444444444444444,\"#bd3786\"],[0.5555555555555556,\"#d8576b\"],[0.6666666666666666,\"#ed7953\"],[0.7777777777777778,\"#fb9f3a\"],[0.8888888888888888,\"#fdca26\"],[1.0,\"#f0f921\"]]}],\"surface\":[{\"type\":\"surface\",\"colorbar\":{\"outlinewidth\":0,\"ticks\":\"\"},\"colorscale\":[[0.0,\"#0d0887\"],[0.1111111111111111,\"#46039f\"],[0.2222222222222222,\"#7201a8\"],[0.3333333333333333,\"#9c179e\"],[0.4444444444444444,\"#bd3786\"],[0.5555555555555556,\"#d8576b\"],[0.6666666666666666,\"#ed7953\"],[0.7777777777777778,\"#fb9f3a\"],[0.8888888888888888,\"#fdca26\"],[1.0,\"#f0f921\"]]}],\"mesh3d\":[{\"type\":\"mesh3d\",\"colorbar\":{\"outlinewidth\":0,\"ticks\":\"\"}}],\"scatter\":[{\"fillpattern\":{\"fillmode\":\"overlay\",\"size\":10,\"solidity\":0.2},\"type\":\"scatter\"}],\"parcoords\":[{\"type\":\"parcoords\",\"line\":{\"colorbar\":{\"outlinewidth\":0,\"ticks\":\"\"}}}],\"scatterpolargl\":[{\"type\":\"scatterpolargl\",\"marker\":{\"colorbar\":{\"outlinewidth\":0,\"ticks\":\"\"}}}],\"bar\":[{\"error_x\":{\"color\":\"#2a3f5f\"},\"error_y\":{\"color\":\"#2a3f5f\"},\"marker\":{\"line\":{\"color\":\"#E5ECF6\",\"width\":0.5},\"pattern\":{\"fillmode\":\"overlay\",\"size\":10,\"solidity\":0.2}},\"type\":\"bar\"}],\"scattergeo\":[{\"type\":\"scattergeo\",\"marker\":{\"colorbar\":{\"outlinewidth\":0,\"ticks\":\"\"}}}],\"scatterpolar\":[{\"type\":\"scatterpolar\",\"marker\":{\"colorbar\":{\"outlinewidth\":0,\"ticks\":\"\"}}}],\"histogram\":[{\"marker\":{\"pattern\":{\"fillmode\":\"overlay\",\"size\":10,\"solidity\":0.2}},\"type\":\"histogram\"}],\"scattergl\":[{\"type\":\"scattergl\",\"marker\":{\"colorbar\":{\"outlinewidth\":0,\"ticks\":\"\"}}}],\"scatter3d\":[{\"type\":\"scatter3d\",\"line\":{\"colorbar\":{\"outlinewidth\":0,\"ticks\":\"\"}},\"marker\":{\"colorbar\":{\"outlinewidth\":0,\"ticks\":\"\"}}}],\"scattermapbox\":[{\"type\":\"scattermapbox\",\"marker\":{\"colorbar\":{\"outlinewidth\":0,\"ticks\":\"\"}}}],\"scatterternary\":[{\"type\":\"scatterternary\",\"marker\":{\"colorbar\":{\"outlinewidth\":0,\"ticks\":\"\"}}}],\"scattercarpet\":[{\"type\":\"scattercarpet\",\"marker\":{\"colorbar\":{\"outlinewidth\":0,\"ticks\":\"\"}}}],\"carpet\":[{\"aaxis\":{\"endlinecolor\":\"#2a3f5f\",\"gridcolor\":\"white\",\"linecolor\":\"white\",\"minorgridcolor\":\"white\",\"startlinecolor\":\"#2a3f5f\"},\"baxis\":{\"endlinecolor\":\"#2a3f5f\",\"gridcolor\":\"white\",\"linecolor\":\"white\",\"minorgridcolor\":\"white\",\"startlinecolor\":\"#2a3f5f\"},\"type\":\"carpet\"}],\"table\":[{\"cells\":{\"fill\":{\"color\":\"#EBF0F8\"},\"line\":{\"color\":\"white\"}},\"header\":{\"fill\":{\"color\":\"#C8D4E3\"},\"line\":{\"color\":\"white\"}},\"type\":\"table\"}],\"barpolar\":[{\"marker\":{\"line\":{\"color\":\"#E5ECF6\",\"width\":0.5},\"pattern\":{\"fillmode\":\"overlay\",\"size\":10,\"solidity\":0.2}},\"type\":\"barpolar\"}],\"pie\":[{\"automargin\":true,\"type\":\"pie\"}]},\"layout\":{\"autotypenumbers\":\"strict\",\"colorway\":[\"#636efa\",\"#EF553B\",\"#00cc96\",\"#ab63fa\",\"#FFA15A\",\"#19d3f3\",\"#FF6692\",\"#B6E880\",\"#FF97FF\",\"#FECB52\"],\"font\":{\"color\":\"#2a3f5f\"},\"hovermode\":\"closest\",\"hoverlabel\":{\"align\":\"left\"},\"paper_bgcolor\":\"white\",\"plot_bgcolor\":\"#E5ECF6\",\"polar\":{\"bgcolor\":\"#E5ECF6\",\"angularaxis\":{\"gridcolor\":\"white\",\"linecolor\":\"white\",\"ticks\":\"\"},\"radialaxis\":{\"gridcolor\":\"white\",\"linecolor\":\"white\",\"ticks\":\"\"}},\"ternary\":{\"bgcolor\":\"#E5ECF6\",\"aaxis\":{\"gridcolor\":\"white\",\"linecolor\":\"white\",\"ticks\":\"\"},\"baxis\":{\"gridcolor\":\"white\",\"linecolor\":\"white\",\"ticks\":\"\"},\"caxis\":{\"gridcolor\":\"white\",\"linecolor\":\"white\",\"ticks\":\"\"}},\"coloraxis\":{\"colorbar\":{\"outlinewidth\":0,\"ticks\":\"\"}},\"colorscale\":{\"sequential\":[[0.0,\"#0d0887\"],[0.1111111111111111,\"#46039f\"],[0.2222222222222222,\"#7201a8\"],[0.3333333333333333,\"#9c179e\"],[0.4444444444444444,\"#bd3786\"],[0.5555555555555556,\"#d8576b\"],[0.6666666666666666,\"#ed7953\"],[0.7777777777777778,\"#fb9f3a\"],[0.8888888888888888,\"#fdca26\"],[1.0,\"#f0f921\"]],\"sequentialminus\":[[0.0,\"#0d0887\"],[0.1111111111111111,\"#46039f\"],[0.2222222222222222,\"#7201a8\"],[0.3333333333333333,\"#9c179e\"],[0.4444444444444444,\"#bd3786\"],[0.5555555555555556,\"#d8576b\"],[0.6666666666666666,\"#ed7953\"],[0.7777777777777778,\"#fb9f3a\"],[0.8888888888888888,\"#fdca26\"],[1.0,\"#f0f921\"]],\"diverging\":[[0,\"#8e0152\"],[0.1,\"#c51b7d\"],[0.2,\"#de77ae\"],[0.3,\"#f1b6da\"],[0.4,\"#fde0ef\"],[0.5,\"#f7f7f7\"],[0.6,\"#e6f5d0\"],[0.7,\"#b8e186\"],[0.8,\"#7fbc41\"],[0.9,\"#4d9221\"],[1,\"#276419\"]]},\"xaxis\":{\"gridcolor\":\"white\",\"linecolor\":\"white\",\"ticks\":\"\",\"title\":{\"standoff\":15},\"zerolinecolor\":\"white\",\"automargin\":true,\"zerolinewidth\":2},\"yaxis\":{\"gridcolor\":\"white\",\"linecolor\":\"white\",\"ticks\":\"\",\"title\":{\"standoff\":15},\"zerolinecolor\":\"white\",\"automargin\":true,\"zerolinewidth\":2},\"scene\":{\"xaxis\":{\"backgroundcolor\":\"#E5ECF6\",\"gridcolor\":\"white\",\"linecolor\":\"white\",\"showbackground\":true,\"ticks\":\"\",\"zerolinecolor\":\"white\",\"gridwidth\":2},\"yaxis\":{\"backgroundcolor\":\"#E5ECF6\",\"gridcolor\":\"white\",\"linecolor\":\"white\",\"showbackground\":true,\"ticks\":\"\",\"zerolinecolor\":\"white\",\"gridwidth\":2},\"zaxis\":{\"backgroundcolor\":\"#E5ECF6\",\"gridcolor\":\"white\",\"linecolor\":\"white\",\"showbackground\":true,\"ticks\":\"\",\"zerolinecolor\":\"white\",\"gridwidth\":2}},\"shapedefaults\":{\"line\":{\"color\":\"#2a3f5f\"}},\"annotationdefaults\":{\"arrowcolor\":\"#2a3f5f\",\"arrowhead\":0,\"arrowwidth\":1},\"geo\":{\"bgcolor\":\"white\",\"landcolor\":\"#E5ECF6\",\"subunitcolor\":\"white\",\"showland\":true,\"showlakes\":true,\"lakecolor\":\"white\"},\"title\":{\"x\":0.05},\"mapbox\":{\"style\":\"light\"}}},\"xaxis\":{\"anchor\":\"y\",\"domain\":[0.0,1.0],\"title\":{\"text\":\"Term\"},\"categoryorder\":\"array\",\"categoryarray\":[\"town\",\"aloe\",\"hairbrush\",\"zippered\",\"ideally\",\"paypal\",\"closeset\",\"hairy\",\"spread\",\"maine\",\"careful\",\"iredale\",\"saying\",\"stained\",\"dentist\",\"dabbling\",\"small\",\"seduction\",\"findings\",\"loooove\"]},\"yaxis\":{\"anchor\":\"x\",\"domain\":[0.0,1.0],\"title\":{\"text\":\"Average Sentiment\"},\"range\":[-0.4611110985279083,0.6333333253860474]},\"legend\":{\"title\":{\"text\":\"term\"},\"tracegroupgap\":0},\"title\":{\"text\":\"Monthly Average Sentiment Score for Top 20 Terms\"},\"barmode\":\"relative\",\"updatemenus\":[{\"buttons\":[{\"args\":[null,{\"frame\":{\"duration\":500,\"redraw\":true},\"mode\":\"immediate\",\"fromcurrent\":true,\"transition\":{\"duration\":500,\"easing\":\"linear\"}}],\"label\":\"&#9654;\",\"method\":\"animate\"},{\"args\":[[null],{\"frame\":{\"duration\":0,\"redraw\":true},\"mode\":\"immediate\",\"fromcurrent\":true,\"transition\":{\"duration\":0,\"easing\":\"linear\"}}],\"label\":\"&#9724;\",\"method\":\"animate\"}],\"direction\":\"left\",\"pad\":{\"r\":10,\"t\":70},\"showactive\":false,\"type\":\"buttons\",\"x\":0.1,\"xanchor\":\"right\",\"y\":0,\"yanchor\":\"top\"}],\"sliders\":[{\"active\":0,\"currentvalue\":{\"prefix\":\"date=\"},\"len\":0.9,\"pad\":{\"b\":10,\"t\":60},\"steps\":[{\"args\":[[\"2023-03\"],{\"frame\":{\"duration\":0,\"redraw\":true},\"mode\":\"immediate\",\"fromcurrent\":true,\"transition\":{\"duration\":0,\"easing\":\"linear\"}}],\"label\":\"2023-03\",\"method\":\"animate\"},{\"args\":[[\"2022-09\"],{\"frame\":{\"duration\":0,\"redraw\":true},\"mode\":\"immediate\",\"fromcurrent\":true,\"transition\":{\"duration\":0,\"easing\":\"linear\"}}],\"label\":\"2022-09\",\"method\":\"animate\"},{\"args\":[[\"2023-01\"],{\"frame\":{\"duration\":0,\"redraw\":true},\"mode\":\"immediate\",\"fromcurrent\":true,\"transition\":{\"duration\":0,\"easing\":\"linear\"}}],\"label\":\"2023-01\",\"method\":\"animate\"},{\"args\":[[\"2023-02\"],{\"frame\":{\"duration\":0,\"redraw\":true},\"mode\":\"immediate\",\"fromcurrent\":true,\"transition\":{\"duration\":0,\"easing\":\"linear\"}}],\"label\":\"2023-02\",\"method\":\"animate\"},{\"args\":[[\"2022-05\"],{\"frame\":{\"duration\":0,\"redraw\":true},\"mode\":\"immediate\",\"fromcurrent\":true,\"transition\":{\"duration\":0,\"easing\":\"linear\"}}],\"label\":\"2022-05\",\"method\":\"animate\"},{\"args\":[[\"2022-04\"],{\"frame\":{\"duration\":0,\"redraw\":true},\"mode\":\"immediate\",\"fromcurrent\":true,\"transition\":{\"duration\":0,\"easing\":\"linear\"}}],\"label\":\"2022-04\",\"method\":\"animate\"},{\"args\":[[\"2022-11\"],{\"frame\":{\"duration\":0,\"redraw\":true},\"mode\":\"immediate\",\"fromcurrent\":true,\"transition\":{\"duration\":0,\"easing\":\"linear\"}}],\"label\":\"2022-11\",\"method\":\"animate\"},{\"args\":[[\"2021-04\"],{\"frame\":{\"duration\":0,\"redraw\":true},\"mode\":\"immediate\",\"fromcurrent\":true,\"transition\":{\"duration\":0,\"easing\":\"linear\"}}],\"label\":\"2021-04\",\"method\":\"animate\"},{\"args\":[[\"2021-03\"],{\"frame\":{\"duration\":0,\"redraw\":true},\"mode\":\"immediate\",\"fromcurrent\":true,\"transition\":{\"duration\":0,\"easing\":\"linear\"}}],\"label\":\"2021-03\",\"method\":\"animate\"},{\"args\":[[\"2022-07\"],{\"frame\":{\"duration\":0,\"redraw\":true},\"mode\":\"immediate\",\"fromcurrent\":true,\"transition\":{\"duration\":0,\"easing\":\"linear\"}}],\"label\":\"2022-07\",\"method\":\"animate\"},{\"args\":[[\"2021-05\"],{\"frame\":{\"duration\":0,\"redraw\":true},\"mode\":\"immediate\",\"fromcurrent\":true,\"transition\":{\"duration\":0,\"easing\":\"linear\"}}],\"label\":\"2021-05\",\"method\":\"animate\"},{\"args\":[[\"2021-01\"],{\"frame\":{\"duration\":0,\"redraw\":true},\"mode\":\"immediate\",\"fromcurrent\":true,\"transition\":{\"duration\":0,\"easing\":\"linear\"}}],\"label\":\"2021-01\",\"method\":\"animate\"},{\"args\":[[\"2022-02\"],{\"frame\":{\"duration\":0,\"redraw\":true},\"mode\":\"immediate\",\"fromcurrent\":true,\"transition\":{\"duration\":0,\"easing\":\"linear\"}}],\"label\":\"2022-02\",\"method\":\"animate\"},{\"args\":[[\"2022-01\"],{\"frame\":{\"duration\":0,\"redraw\":true},\"mode\":\"immediate\",\"fromcurrent\":true,\"transition\":{\"duration\":0,\"easing\":\"linear\"}}],\"label\":\"2022-01\",\"method\":\"animate\"},{\"args\":[[\"2021-09\"],{\"frame\":{\"duration\":0,\"redraw\":true},\"mode\":\"immediate\",\"fromcurrent\":true,\"transition\":{\"duration\":0,\"easing\":\"linear\"}}],\"label\":\"2021-09\",\"method\":\"animate\"},{\"args\":[[\"2022-03\"],{\"frame\":{\"duration\":0,\"redraw\":true},\"mode\":\"immediate\",\"fromcurrent\":true,\"transition\":{\"duration\":0,\"easing\":\"linear\"}}],\"label\":\"2022-03\",\"method\":\"animate\"},{\"args\":[[\"2022-12\"],{\"frame\":{\"duration\":0,\"redraw\":true},\"mode\":\"immediate\",\"fromcurrent\":true,\"transition\":{\"duration\":0,\"easing\":\"linear\"}}],\"label\":\"2022-12\",\"method\":\"animate\"},{\"args\":[[\"2021-07\"],{\"frame\":{\"duration\":0,\"redraw\":true},\"mode\":\"immediate\",\"fromcurrent\":true,\"transition\":{\"duration\":0,\"easing\":\"linear\"}}],\"label\":\"2021-07\",\"method\":\"animate\"},{\"args\":[[\"2021-02\"],{\"frame\":{\"duration\":0,\"redraw\":true},\"mode\":\"immediate\",\"fromcurrent\":true,\"transition\":{\"duration\":0,\"easing\":\"linear\"}}],\"label\":\"2021-02\",\"method\":\"animate\"},{\"args\":[[\"2021-10\"],{\"frame\":{\"duration\":0,\"redraw\":true},\"mode\":\"immediate\",\"fromcurrent\":true,\"transition\":{\"duration\":0,\"easing\":\"linear\"}}],\"label\":\"2021-10\",\"method\":\"animate\"},{\"args\":[[\"2022-10\"],{\"frame\":{\"duration\":0,\"redraw\":true},\"mode\":\"immediate\",\"fromcurrent\":true,\"transition\":{\"duration\":0,\"easing\":\"linear\"}}],\"label\":\"2022-10\",\"method\":\"animate\"},{\"args\":[[\"2022-08\"],{\"frame\":{\"duration\":0,\"redraw\":true},\"mode\":\"immediate\",\"fromcurrent\":true,\"transition\":{\"duration\":0,\"easing\":\"linear\"}}],\"label\":\"2022-08\",\"method\":\"animate\"},{\"args\":[[\"2021-12\"],{\"frame\":{\"duration\":0,\"redraw\":true},\"mode\":\"immediate\",\"fromcurrent\":true,\"transition\":{\"duration\":0,\"easing\":\"linear\"}}],\"label\":\"2021-12\",\"method\":\"animate\"},{\"args\":[[\"2021-06\"],{\"frame\":{\"duration\":0,\"redraw\":true},\"mode\":\"immediate\",\"fromcurrent\":true,\"transition\":{\"duration\":0,\"easing\":\"linear\"}}],\"label\":\"2021-06\",\"method\":\"animate\"},{\"args\":[[\"2021-08\"],{\"frame\":{\"duration\":0,\"redraw\":true},\"mode\":\"immediate\",\"fromcurrent\":true,\"transition\":{\"duration\":0,\"easing\":\"linear\"}}],\"label\":\"2021-08\",\"method\":\"animate\"},{\"args\":[[\"2022-06\"],{\"frame\":{\"duration\":0,\"redraw\":true},\"mode\":\"immediate\",\"fromcurrent\":true,\"transition\":{\"duration\":0,\"easing\":\"linear\"}}],\"label\":\"2022-06\",\"method\":\"animate\"},{\"args\":[[\"2021-11\"],{\"frame\":{\"duration\":0,\"redraw\":true},\"mode\":\"immediate\",\"fromcurrent\":true,\"transition\":{\"duration\":0,\"easing\":\"linear\"}}],\"label\":\"2021-11\",\"method\":\"animate\"}],\"x\":0.1,\"xanchor\":\"left\",\"y\":0,\"yanchor\":\"top\"}],\"showlegend\":true},                        {\"responsive\": true}                    ).then(function(){\n",
       "                            Plotly.addFrames('1667a8d9-7c18-4140-bb96-ef57cd766ca7', [{\"data\":[{\"alignmentgroup\":\"True\",\"hovertemplate\":\"term=%{x}<br>date=2023-03<br>avg_sentiment=%{y}<extra></extra>\",\"ids\":[\"town\"],\"legendgroup\":\"town\",\"marker\":{\"color\":\"#636efa\",\"pattern\":{\"shape\":\"\"}},\"name\":\"town\",\"offsetgroup\":\"town\",\"orientation\":\"v\",\"showlegend\":true,\"textposition\":\"auto\",\"x\":[\"town\"],\"xaxis\":\"x\",\"y\":[0.10000000102445483],\"yaxis\":\"y\",\"type\":\"bar\"},{\"alignmentgroup\":\"True\",\"hovertemplate\":\"term=%{x}<br>date=2023-03<br>avg_sentiment=%{y}<extra></extra>\",\"ids\":[\"zippered\"],\"legendgroup\":\"zippered\",\"marker\":{\"color\":\"#ab63fa\",\"pattern\":{\"shape\":\"\"}},\"name\":\"zippered\",\"offsetgroup\":\"zippered\",\"orientation\":\"v\",\"showlegend\":true,\"textposition\":\"auto\",\"x\":[\"zippered\"],\"xaxis\":\"x\",\"y\":[0.16833333174387613],\"yaxis\":\"y\",\"type\":\"bar\"},{\"alignmentgroup\":\"True\",\"hovertemplate\":\"term=%{x}<br>date=2023-03<br>avg_sentiment=%{y}<extra></extra>\",\"ids\":[\"closeset\"],\"legendgroup\":\"closeset\",\"marker\":{\"color\":\"#FF6692\",\"pattern\":{\"shape\":\"\"}},\"name\":\"closeset\",\"offsetgroup\":\"closeset\",\"orientation\":\"v\",\"showlegend\":true,\"textposition\":\"auto\",\"x\":[\"closeset\"],\"xaxis\":\"x\",\"y\":[0.09583333134651184],\"yaxis\":\"y\",\"type\":\"bar\"},{\"alignmentgroup\":\"True\",\"hovertemplate\":\"term=%{x}<br>date=2023-03<br>avg_sentiment=%{y}<extra></extra>\",\"ids\":[\"hairy\"],\"legendgroup\":\"hairy\",\"marker\":{\"color\":\"#B6E880\",\"pattern\":{\"shape\":\"\"}},\"name\":\"hairy\",\"offsetgroup\":\"hairy\",\"orientation\":\"v\",\"showlegend\":true,\"textposition\":\"auto\",\"x\":[\"hairy\"],\"xaxis\":\"x\",\"y\":[0.09768229094333947],\"yaxis\":\"y\",\"type\":\"bar\"},{\"alignmentgroup\":\"True\",\"hovertemplate\":\"term=%{x}<br>date=2023-03<br>avg_sentiment=%{y}<extra></extra>\",\"ids\":[\"spread\"],\"legendgroup\":\"spread\",\"marker\":{\"color\":\"#FF97FF\",\"pattern\":{\"shape\":\"\"}},\"name\":\"spread\",\"offsetgroup\":\"spread\",\"orientation\":\"v\",\"showlegend\":true,\"textposition\":\"auto\",\"x\":[\"spread\"],\"xaxis\":\"x\",\"y\":[0.10000000149011612],\"yaxis\":\"y\",\"type\":\"bar\"},{\"alignmentgroup\":\"True\",\"hovertemplate\":\"term=%{x}<br>date=2023-03<br>avg_sentiment=%{y}<extra></extra>\",\"ids\":[\"maine\"],\"legendgroup\":\"maine\",\"marker\":{\"color\":\"#FECB52\",\"pattern\":{\"shape\":\"\"}},\"name\":\"maine\",\"offsetgroup\":\"maine\",\"orientation\":\"v\",\"showlegend\":true,\"textposition\":\"auto\",\"x\":[\"maine\"],\"xaxis\":\"x\",\"y\":[-0.0071428571827709675],\"yaxis\":\"y\",\"type\":\"bar\"},{\"alignmentgroup\":\"True\",\"hovertemplate\":\"term=%{x}<br>date=2023-03<br>avg_sentiment=%{y}<extra></extra>\",\"ids\":[\"careful\"],\"legendgroup\":\"careful\",\"marker\":{\"color\":\"#636efa\",\"pattern\":{\"shape\":\"\"}},\"name\":\"careful\",\"offsetgroup\":\"careful\",\"orientation\":\"v\",\"showlegend\":true,\"textposition\":\"auto\",\"x\":[\"careful\"],\"xaxis\":\"x\",\"y\":[0.1599999964237213],\"yaxis\":\"y\",\"type\":\"bar\"},{\"alignmentgroup\":\"True\",\"hovertemplate\":\"term=%{x}<br>date=2023-03<br>avg_sentiment=%{y}<extra></extra>\",\"ids\":[\"dentist\"],\"legendgroup\":\"dentist\",\"marker\":{\"color\":\"#FFA15A\",\"pattern\":{\"shape\":\"\"}},\"name\":\"dentist\",\"offsetgroup\":\"dentist\",\"orientation\":\"v\",\"showlegend\":true,\"textposition\":\"auto\",\"x\":[\"dentist\"],\"xaxis\":\"x\",\"y\":[0.20000000298023224],\"yaxis\":\"y\",\"type\":\"bar\"},{\"alignmentgroup\":\"True\",\"hovertemplate\":\"term=%{x}<br>date=2023-03<br>avg_sentiment=%{y}<extra></extra>\",\"ids\":[\"dabbling\"],\"legendgroup\":\"dabbling\",\"marker\":{\"color\":\"#19d3f3\",\"pattern\":{\"shape\":\"\"}},\"name\":\"dabbling\",\"offsetgroup\":\"dabbling\",\"orientation\":\"v\",\"showlegend\":true,\"textposition\":\"auto\",\"x\":[\"dabbling\"],\"xaxis\":\"x\",\"y\":[0.1111776332060496],\"yaxis\":\"y\",\"type\":\"bar\"}],\"name\":\"2023-03\"},{\"data\":[{\"alignmentgroup\":\"True\",\"hovertemplate\":\"term=%{x}<br>date=2022-09<br>avg_sentiment=%{y}<extra></extra>\",\"ids\":[\"town\"],\"legendgroup\":\"town\",\"marker\":{\"color\":\"#636efa\",\"pattern\":{\"shape\":\"\"}},\"name\":\"town\",\"offsetgroup\":\"town\",\"orientation\":\"v\",\"showlegend\":true,\"textposition\":\"auto\",\"x\":[\"town\"],\"xaxis\":\"x\",\"y\":[-0.028401359915733337],\"yaxis\":\"y\",\"type\":\"bar\"},{\"alignmentgroup\":\"True\",\"hovertemplate\":\"term=%{x}<br>date=2022-09<br>avg_sentiment=%{y}<extra></extra>\",\"ids\":[\"aloe\"],\"legendgroup\":\"aloe\",\"marker\":{\"color\":\"#EF553B\",\"pattern\":{\"shape\":\"\"}},\"name\":\"aloe\",\"offsetgroup\":\"aloe\",\"orientation\":\"v\",\"showlegend\":true,\"textposition\":\"auto\",\"x\":[\"aloe\"],\"xaxis\":\"x\",\"y\":[0.13768939673900604],\"yaxis\":\"y\",\"type\":\"bar\"},{\"alignmentgroup\":\"True\",\"hovertemplate\":\"term=%{x}<br>date=2022-09<br>avg_sentiment=%{y}<extra></extra>\",\"ids\":[\"hairbrush\"],\"legendgroup\":\"hairbrush\",\"marker\":{\"color\":\"#00cc96\",\"pattern\":{\"shape\":\"\"}},\"name\":\"hairbrush\",\"offsetgroup\":\"hairbrush\",\"orientation\":\"v\",\"showlegend\":true,\"textposition\":\"auto\",\"x\":[\"hairbrush\"],\"xaxis\":\"x\",\"y\":[0.20775362849235535],\"yaxis\":\"y\",\"type\":\"bar\"},{\"alignmentgroup\":\"True\",\"hovertemplate\":\"term=%{x}<br>date=2022-09<br>avg_sentiment=%{y}<extra></extra>\",\"ids\":[\"hairy\"],\"legendgroup\":\"hairy\",\"marker\":{\"color\":\"#B6E880\",\"pattern\":{\"shape\":\"\"}},\"name\":\"hairy\",\"offsetgroup\":\"hairy\",\"orientation\":\"v\",\"showlegend\":true,\"textposition\":\"auto\",\"x\":[\"hairy\"],\"xaxis\":\"x\",\"y\":[-0.15813972304264703],\"yaxis\":\"y\",\"type\":\"bar\"},{\"alignmentgroup\":\"True\",\"hovertemplate\":\"term=%{x}<br>date=2022-09<br>avg_sentiment=%{y}<extra></extra>\",\"ids\":[\"careful\"],\"legendgroup\":\"careful\",\"marker\":{\"color\":\"#636efa\",\"pattern\":{\"shape\":\"\"}},\"name\":\"careful\",\"offsetgroup\":\"careful\",\"orientation\":\"v\",\"showlegend\":true,\"textposition\":\"auto\",\"x\":[\"careful\"],\"xaxis\":\"x\",\"y\":[0.05138888955116272],\"yaxis\":\"y\",\"type\":\"bar\"},{\"alignmentgroup\":\"True\",\"hovertemplate\":\"term=%{x}<br>date=2022-09<br>avg_sentiment=%{y}<extra></extra>\",\"ids\":[\"saying\"],\"legendgroup\":\"saying\",\"marker\":{\"color\":\"#00cc96\",\"pattern\":{\"shape\":\"\"}},\"name\":\"saying\",\"offsetgroup\":\"saying\",\"orientation\":\"v\",\"showlegend\":true,\"textposition\":\"auto\",\"x\":[\"saying\"],\"xaxis\":\"x\",\"y\":[0.5],\"yaxis\":\"y\",\"type\":\"bar\"},{\"alignmentgroup\":\"True\",\"hovertemplate\":\"term=%{x}<br>date=2022-09<br>avg_sentiment=%{y}<extra></extra>\",\"ids\":[\"stained\"],\"legendgroup\":\"stained\",\"marker\":{\"color\":\"#ab63fa\",\"pattern\":{\"shape\":\"\"}},\"name\":\"stained\",\"offsetgroup\":\"stained\",\"orientation\":\"v\",\"showlegend\":true,\"textposition\":\"auto\",\"x\":[\"stained\"],\"xaxis\":\"x\",\"y\":[-0.01666666753590107],\"yaxis\":\"y\",\"type\":\"bar\"},{\"alignmentgroup\":\"True\",\"hovertemplate\":\"term=%{x}<br>date=2022-09<br>avg_sentiment=%{y}<extra></extra>\",\"ids\":[\"dabbling\"],\"legendgroup\":\"dabbling\",\"marker\":{\"color\":\"#19d3f3\",\"pattern\":{\"shape\":\"\"}},\"name\":\"dabbling\",\"offsetgroup\":\"dabbling\",\"orientation\":\"v\",\"showlegend\":true,\"textposition\":\"auto\",\"x\":[\"dabbling\"],\"xaxis\":\"x\",\"y\":[0.07424242794513702],\"yaxis\":\"y\",\"type\":\"bar\"},{\"alignmentgroup\":\"True\",\"hovertemplate\":\"term=%{x}<br>date=2022-09<br>avg_sentiment=%{y}<extra></extra>\",\"ids\":[\"small\"],\"legendgroup\":\"small\",\"marker\":{\"color\":\"#FF6692\",\"pattern\":{\"shape\":\"\"}},\"name\":\"small\",\"offsetgroup\":\"small\",\"orientation\":\"v\",\"showlegend\":true,\"textposition\":\"auto\",\"x\":[\"small\"],\"xaxis\":\"x\",\"y\":[0.232051283121109],\"yaxis\":\"y\",\"type\":\"bar\"}],\"name\":\"2022-09\"},{\"data\":[{\"alignmentgroup\":\"True\",\"hovertemplate\":\"term=%{x}<br>date=2023-01<br>avg_sentiment=%{y}<extra></extra>\",\"ids\":[\"hairbrush\"],\"legendgroup\":\"hairbrush\",\"marker\":{\"color\":\"#00cc96\",\"pattern\":{\"shape\":\"\"}},\"name\":\"hairbrush\",\"offsetgroup\":\"hairbrush\",\"orientation\":\"v\",\"showlegend\":true,\"textposition\":\"auto\",\"x\":[\"hairbrush\"],\"xaxis\":\"x\",\"y\":[0.12619048357009888],\"yaxis\":\"y\",\"type\":\"bar\"},{\"alignmentgroup\":\"True\",\"hovertemplate\":\"term=%{x}<br>date=2023-01<br>avg_sentiment=%{y}<extra></extra>\",\"ids\":[\"closeset\"],\"legendgroup\":\"closeset\",\"marker\":{\"color\":\"#FF6692\",\"pattern\":{\"shape\":\"\"}},\"name\":\"closeset\",\"offsetgroup\":\"closeset\",\"orientation\":\"v\",\"showlegend\":true,\"textposition\":\"auto\",\"x\":[\"closeset\"],\"xaxis\":\"x\",\"y\":[0.06527777761220932],\"yaxis\":\"y\",\"type\":\"bar\"},{\"alignmentgroup\":\"True\",\"hovertemplate\":\"term=%{x}<br>date=2023-01<br>avg_sentiment=%{y}<extra></extra>\",\"ids\":[\"hairy\"],\"legendgroup\":\"hairy\",\"marker\":{\"color\":\"#B6E880\",\"pattern\":{\"shape\":\"\"}},\"name\":\"hairy\",\"offsetgroup\":\"hairy\",\"orientation\":\"v\",\"showlegend\":true,\"textposition\":\"auto\",\"x\":[\"hairy\"],\"xaxis\":\"x\",\"y\":[0.07202381081879139],\"yaxis\":\"y\",\"type\":\"bar\"},{\"alignmentgroup\":\"True\",\"hovertemplate\":\"term=%{x}<br>date=2023-01<br>avg_sentiment=%{y}<extra></extra>\",\"ids\":[\"iredale\"],\"legendgroup\":\"iredale\",\"marker\":{\"color\":\"#EF553B\",\"pattern\":{\"shape\":\"\"}},\"name\":\"iredale\",\"offsetgroup\":\"iredale\",\"orientation\":\"v\",\"showlegend\":true,\"textposition\":\"auto\",\"x\":[\"iredale\"],\"xaxis\":\"x\",\"y\":[0.0535714291036129],\"yaxis\":\"y\",\"type\":\"bar\"},{\"alignmentgroup\":\"True\",\"hovertemplate\":\"term=%{x}<br>date=2023-01<br>avg_sentiment=%{y}<extra></extra>\",\"ids\":[\"stained\"],\"legendgroup\":\"stained\",\"marker\":{\"color\":\"#ab63fa\",\"pattern\":{\"shape\":\"\"}},\"name\":\"stained\",\"offsetgroup\":\"stained\",\"orientation\":\"v\",\"showlegend\":true,\"textposition\":\"auto\",\"x\":[\"stained\"],\"xaxis\":\"x\",\"y\":[0.20000000298023224],\"yaxis\":\"y\",\"type\":\"bar\"},{\"alignmentgroup\":\"True\",\"hovertemplate\":\"term=%{x}<br>date=2023-01<br>avg_sentiment=%{y}<extra></extra>\",\"ids\":[\"dabbling\"],\"legendgroup\":\"dabbling\",\"marker\":{\"color\":\"#19d3f3\",\"pattern\":{\"shape\":\"\"}},\"name\":\"dabbling\",\"offsetgroup\":\"dabbling\",\"orientation\":\"v\",\"showlegend\":true,\"textposition\":\"auto\",\"x\":[\"dabbling\"],\"xaxis\":\"x\",\"y\":[0.06111111119389534],\"yaxis\":\"y\",\"type\":\"bar\"},{\"alignmentgroup\":\"True\",\"hovertemplate\":\"term=%{x}<br>date=2023-01<br>avg_sentiment=%{y}<extra></extra>\",\"ids\":[\"small\"],\"legendgroup\":\"small\",\"marker\":{\"color\":\"#FF6692\",\"pattern\":{\"shape\":\"\"}},\"name\":\"small\",\"offsetgroup\":\"small\",\"orientation\":\"v\",\"showlegend\":true,\"textposition\":\"auto\",\"x\":[\"small\"],\"xaxis\":\"x\",\"y\":[0.13977272808551788],\"yaxis\":\"y\",\"type\":\"bar\"}],\"name\":\"2023-01\"},{\"data\":[{\"alignmentgroup\":\"True\",\"hovertemplate\":\"term=%{x}<br>date=2023-02<br>avg_sentiment=%{y}<extra></extra>\",\"ids\":[\"ideally\"],\"legendgroup\":\"ideally\",\"marker\":{\"color\":\"#FFA15A\",\"pattern\":{\"shape\":\"\"}},\"name\":\"ideally\",\"offsetgroup\":\"ideally\",\"orientation\":\"v\",\"showlegend\":true,\"textposition\":\"auto\",\"x\":[\"ideally\"],\"xaxis\":\"x\",\"y\":[0.014791666530072689],\"yaxis\":\"y\",\"type\":\"bar\"},{\"alignmentgroup\":\"True\",\"hovertemplate\":\"term=%{x}<br>date=2023-02<br>avg_sentiment=%{y}<extra></extra>\",\"ids\":[\"paypal\"],\"legendgroup\":\"paypal\",\"marker\":{\"color\":\"#19d3f3\",\"pattern\":{\"shape\":\"\"}},\"name\":\"paypal\",\"offsetgroup\":\"paypal\",\"orientation\":\"v\",\"showlegend\":true,\"textposition\":\"auto\",\"x\":[\"paypal\"],\"xaxis\":\"x\",\"y\":[0.1251995898783207],\"yaxis\":\"y\",\"type\":\"bar\"},{\"alignmentgroup\":\"True\",\"hovertemplate\":\"term=%{x}<br>date=2023-02<br>avg_sentiment=%{y}<extra></extra>\",\"ids\":[\"hairy\"],\"legendgroup\":\"hairy\",\"marker\":{\"color\":\"#B6E880\",\"pattern\":{\"shape\":\"\"}},\"name\":\"hairy\",\"offsetgroup\":\"hairy\",\"orientation\":\"v\",\"showlegend\":true,\"textposition\":\"auto\",\"x\":[\"hairy\"],\"xaxis\":\"x\",\"y\":[0.07120000012218952],\"yaxis\":\"y\",\"type\":\"bar\"},{\"alignmentgroup\":\"True\",\"hovertemplate\":\"term=%{x}<br>date=2023-02<br>avg_sentiment=%{y}<extra></extra>\",\"ids\":[\"saying\"],\"legendgroup\":\"saying\",\"marker\":{\"color\":\"#00cc96\",\"pattern\":{\"shape\":\"\"}},\"name\":\"saying\",\"offsetgroup\":\"saying\",\"orientation\":\"v\",\"showlegend\":true,\"textposition\":\"auto\",\"x\":[\"saying\"],\"xaxis\":\"x\",\"y\":[0.14041666686534882],\"yaxis\":\"y\",\"type\":\"bar\"},{\"alignmentgroup\":\"True\",\"hovertemplate\":\"term=%{x}<br>date=2023-02<br>avg_sentiment=%{y}<extra></extra>\",\"ids\":[\"stained\"],\"legendgroup\":\"stained\",\"marker\":{\"color\":\"#ab63fa\",\"pattern\":{\"shape\":\"\"}},\"name\":\"stained\",\"offsetgroup\":\"stained\",\"orientation\":\"v\",\"showlegend\":true,\"textposition\":\"auto\",\"x\":[\"stained\"],\"xaxis\":\"x\",\"y\":[0.11153846234083176],\"yaxis\":\"y\",\"type\":\"bar\"},{\"alignmentgroup\":\"True\",\"hovertemplate\":\"term=%{x}<br>date=2023-02<br>avg_sentiment=%{y}<extra></extra>\",\"ids\":[\"loooove\"],\"legendgroup\":\"loooove\",\"marker\":{\"color\":\"#FECB52\",\"pattern\":{\"shape\":\"\"}},\"name\":\"loooove\",\"offsetgroup\":\"loooove\",\"orientation\":\"v\",\"showlegend\":true,\"textposition\":\"auto\",\"x\":[\"loooove\"],\"xaxis\":\"x\",\"y\":[0.0],\"yaxis\":\"y\",\"type\":\"bar\"}],\"name\":\"2023-02\"},{\"data\":[{\"alignmentgroup\":\"True\",\"hovertemplate\":\"term=%{x}<br>date=2022-05<br>avg_sentiment=%{y}<extra></extra>\",\"ids\":[\"hairbrush\"],\"legendgroup\":\"hairbrush\",\"marker\":{\"color\":\"#00cc96\",\"pattern\":{\"shape\":\"\"}},\"name\":\"hairbrush\",\"offsetgroup\":\"hairbrush\",\"orientation\":\"v\",\"showlegend\":true,\"textposition\":\"auto\",\"x\":[\"hairbrush\"],\"xaxis\":\"x\",\"y\":[-0.125],\"yaxis\":\"y\",\"type\":\"bar\"},{\"alignmentgroup\":\"True\",\"hovertemplate\":\"term=%{x}<br>date=2022-05<br>avg_sentiment=%{y}<extra></extra>\",\"ids\":[\"hairy\"],\"legendgroup\":\"hairy\",\"marker\":{\"color\":\"#B6E880\",\"pattern\":{\"shape\":\"\"}},\"name\":\"hairy\",\"offsetgroup\":\"hairy\",\"orientation\":\"v\",\"showlegend\":true,\"textposition\":\"auto\",\"x\":[\"hairy\"],\"xaxis\":\"x\",\"y\":[0.040277778171002865],\"yaxis\":\"y\",\"type\":\"bar\"},{\"alignmentgroup\":\"True\",\"hovertemplate\":\"term=%{x}<br>date=2022-05<br>avg_sentiment=%{y}<extra></extra>\",\"ids\":[\"careful\"],\"legendgroup\":\"careful\",\"marker\":{\"color\":\"#636efa\",\"pattern\":{\"shape\":\"\"}},\"name\":\"careful\",\"offsetgroup\":\"careful\",\"orientation\":\"v\",\"showlegend\":true,\"textposition\":\"auto\",\"x\":[\"careful\"],\"xaxis\":\"x\",\"y\":[0.07500000298023224],\"yaxis\":\"y\",\"type\":\"bar\"},{\"alignmentgroup\":\"True\",\"hovertemplate\":\"term=%{x}<br>date=2022-05<br>avg_sentiment=%{y}<extra></extra>\",\"ids\":[\"small\"],\"legendgroup\":\"small\",\"marker\":{\"color\":\"#FF6692\",\"pattern\":{\"shape\":\"\"}},\"name\":\"small\",\"offsetgroup\":\"small\",\"orientation\":\"v\",\"showlegend\":true,\"textposition\":\"auto\",\"x\":[\"small\"],\"xaxis\":\"x\",\"y\":[-0.05925925821065903],\"yaxis\":\"y\",\"type\":\"bar\"},{\"alignmentgroup\":\"True\",\"hovertemplate\":\"term=%{x}<br>date=2022-05<br>avg_sentiment=%{y}<extra></extra>\",\"ids\":[\"seduction\"],\"legendgroup\":\"seduction\",\"marker\":{\"color\":\"#B6E880\",\"pattern\":{\"shape\":\"\"}},\"name\":\"seduction\",\"offsetgroup\":\"seduction\",\"orientation\":\"v\",\"showlegend\":true,\"textposition\":\"auto\",\"x\":[\"seduction\"],\"xaxis\":\"x\",\"y\":[0.009245350956916809],\"yaxis\":\"y\",\"type\":\"bar\"},{\"alignmentgroup\":\"True\",\"hovertemplate\":\"term=%{x}<br>date=2022-05<br>avg_sentiment=%{y}<extra></extra>\",\"ids\":[\"findings\"],\"legendgroup\":\"findings\",\"marker\":{\"color\":\"#FF97FF\",\"pattern\":{\"shape\":\"\"}},\"name\":\"findings\",\"offsetgroup\":\"findings\",\"orientation\":\"v\",\"showlegend\":true,\"textposition\":\"auto\",\"x\":[\"findings\"],\"xaxis\":\"x\",\"y\":[0.20000000298023224],\"yaxis\":\"y\",\"type\":\"bar\"},{\"alignmentgroup\":\"True\",\"hovertemplate\":\"term=%{x}<br>date=2022-05<br>avg_sentiment=%{y}<extra></extra>\",\"ids\":[\"loooove\"],\"legendgroup\":\"loooove\",\"marker\":{\"color\":\"#FECB52\",\"pattern\":{\"shape\":\"\"}},\"name\":\"loooove\",\"offsetgroup\":\"loooove\",\"orientation\":\"v\",\"showlegend\":true,\"textposition\":\"auto\",\"x\":[\"loooove\"],\"xaxis\":\"x\",\"y\":[0.3333333432674408],\"yaxis\":\"y\",\"type\":\"bar\"}],\"name\":\"2022-05\"},{\"data\":[{\"alignmentgroup\":\"True\",\"hovertemplate\":\"term=%{x}<br>date=2022-04<br>avg_sentiment=%{y}<extra></extra>\",\"ids\":[\"aloe\"],\"legendgroup\":\"aloe\",\"marker\":{\"color\":\"#EF553B\",\"pattern\":{\"shape\":\"\"}},\"name\":\"aloe\",\"offsetgroup\":\"aloe\",\"orientation\":\"v\",\"showlegend\":true,\"textposition\":\"auto\",\"x\":[\"aloe\"],\"xaxis\":\"x\",\"y\":[-0.10208333283662796],\"yaxis\":\"y\",\"type\":\"bar\"},{\"alignmentgroup\":\"True\",\"hovertemplate\":\"term=%{x}<br>date=2022-04<br>avg_sentiment=%{y}<extra></extra>\",\"ids\":[\"paypal\"],\"legendgroup\":\"paypal\",\"marker\":{\"color\":\"#19d3f3\",\"pattern\":{\"shape\":\"\"}},\"name\":\"paypal\",\"offsetgroup\":\"paypal\",\"orientation\":\"v\",\"showlegend\":true,\"textposition\":\"auto\",\"x\":[\"paypal\"],\"xaxis\":\"x\",\"y\":[0.37580952048301697],\"yaxis\":\"y\",\"type\":\"bar\"},{\"alignmentgroup\":\"True\",\"hovertemplate\":\"term=%{x}<br>date=2022-04<br>avg_sentiment=%{y}<extra></extra>\",\"ids\":[\"closeset\"],\"legendgroup\":\"closeset\",\"marker\":{\"color\":\"#FF6692\",\"pattern\":{\"shape\":\"\"}},\"name\":\"closeset\",\"offsetgroup\":\"closeset\",\"orientation\":\"v\",\"showlegend\":true,\"textposition\":\"auto\",\"x\":[\"closeset\"],\"xaxis\":\"x\",\"y\":[0.09107142686843872],\"yaxis\":\"y\",\"type\":\"bar\"},{\"alignmentgroup\":\"True\",\"hovertemplate\":\"term=%{x}<br>date=2022-04<br>avg_sentiment=%{y}<extra></extra>\",\"ids\":[\"hairy\"],\"legendgroup\":\"hairy\",\"marker\":{\"color\":\"#B6E880\",\"pattern\":{\"shape\":\"\"}},\"name\":\"hairy\",\"offsetgroup\":\"hairy\",\"orientation\":\"v\",\"showlegend\":true,\"textposition\":\"auto\",\"x\":[\"hairy\"],\"xaxis\":\"x\",\"y\":[0.12219388037919998],\"yaxis\":\"y\",\"type\":\"bar\"},{\"alignmentgroup\":\"True\",\"hovertemplate\":\"term=%{x}<br>date=2022-04<br>avg_sentiment=%{y}<extra></extra>\",\"ids\":[\"spread\"],\"legendgroup\":\"spread\",\"marker\":{\"color\":\"#FF97FF\",\"pattern\":{\"shape\":\"\"}},\"name\":\"spread\",\"offsetgroup\":\"spread\",\"orientation\":\"v\",\"showlegend\":true,\"textposition\":\"auto\",\"x\":[\"spread\"],\"xaxis\":\"x\",\"y\":[0.17000000178813934],\"yaxis\":\"y\",\"type\":\"bar\"},{\"alignmentgroup\":\"True\",\"hovertemplate\":\"term=%{x}<br>date=2022-04<br>avg_sentiment=%{y}<extra></extra>\",\"ids\":[\"careful\"],\"legendgroup\":\"careful\",\"marker\":{\"color\":\"#636efa\",\"pattern\":{\"shape\":\"\"}},\"name\":\"careful\",\"offsetgroup\":\"careful\",\"orientation\":\"v\",\"showlegend\":true,\"textposition\":\"auto\",\"x\":[\"careful\"],\"xaxis\":\"x\",\"y\":[0.06574074178934097],\"yaxis\":\"y\",\"type\":\"bar\"},{\"alignmentgroup\":\"True\",\"hovertemplate\":\"term=%{x}<br>date=2022-04<br>avg_sentiment=%{y}<extra></extra>\",\"ids\":[\"findings\"],\"legendgroup\":\"findings\",\"marker\":{\"color\":\"#FF97FF\",\"pattern\":{\"shape\":\"\"}},\"name\":\"findings\",\"offsetgroup\":\"findings\",\"orientation\":\"v\",\"showlegend\":true,\"textposition\":\"auto\",\"x\":[\"findings\"],\"xaxis\":\"x\",\"y\":[0.17205514013767242],\"yaxis\":\"y\",\"type\":\"bar\"}],\"name\":\"2022-04\"},{\"data\":[{\"alignmentgroup\":\"True\",\"hovertemplate\":\"term=%{x}<br>date=2022-11<br>avg_sentiment=%{y}<extra></extra>\",\"ids\":[\"hairbrush\"],\"legendgroup\":\"hairbrush\",\"marker\":{\"color\":\"#00cc96\",\"pattern\":{\"shape\":\"\"}},\"name\":\"hairbrush\",\"offsetgroup\":\"hairbrush\",\"orientation\":\"v\",\"showlegend\":true,\"textposition\":\"auto\",\"x\":[\"hairbrush\"],\"xaxis\":\"x\",\"y\":[0.0],\"yaxis\":\"y\",\"type\":\"bar\"},{\"alignmentgroup\":\"True\",\"hovertemplate\":\"term=%{x}<br>date=2022-11<br>avg_sentiment=%{y}<extra></extra>\",\"ids\":[\"spread\"],\"legendgroup\":\"spread\",\"marker\":{\"color\":\"#FF97FF\",\"pattern\":{\"shape\":\"\"}},\"name\":\"spread\",\"offsetgroup\":\"spread\",\"orientation\":\"v\",\"showlegend\":true,\"textposition\":\"auto\",\"x\":[\"spread\"],\"xaxis\":\"x\",\"y\":[0.2068749964237213],\"yaxis\":\"y\",\"type\":\"bar\"},{\"alignmentgroup\":\"True\",\"hovertemplate\":\"term=%{x}<br>date=2022-11<br>avg_sentiment=%{y}<extra></extra>\",\"ids\":[\"iredale\"],\"legendgroup\":\"iredale\",\"marker\":{\"color\":\"#EF553B\",\"pattern\":{\"shape\":\"\"}},\"name\":\"iredale\",\"offsetgroup\":\"iredale\",\"orientation\":\"v\",\"showlegend\":true,\"textposition\":\"auto\",\"x\":[\"iredale\"],\"xaxis\":\"x\",\"y\":[0.0],\"yaxis\":\"y\",\"type\":\"bar\"},{\"alignmentgroup\":\"True\",\"hovertemplate\":\"term=%{x}<br>date=2022-11<br>avg_sentiment=%{y}<extra></extra>\",\"ids\":[\"findings\"],\"legendgroup\":\"findings\",\"marker\":{\"color\":\"#FF97FF\",\"pattern\":{\"shape\":\"\"}},\"name\":\"findings\",\"offsetgroup\":\"findings\",\"orientation\":\"v\",\"showlegend\":true,\"textposition\":\"auto\",\"x\":[\"findings\"],\"xaxis\":\"x\",\"y\":[0.09583333134651184],\"yaxis\":\"y\",\"type\":\"bar\"}],\"name\":\"2022-11\"},{\"data\":[{\"alignmentgroup\":\"True\",\"hovertemplate\":\"term=%{x}<br>date=2021-04<br>avg_sentiment=%{y}<extra></extra>\",\"ids\":[\"spread\"],\"legendgroup\":\"spread\",\"marker\":{\"color\":\"#FF97FF\",\"pattern\":{\"shape\":\"\"}},\"name\":\"spread\",\"offsetgroup\":\"spread\",\"orientation\":\"v\",\"showlegend\":true,\"textposition\":\"auto\",\"x\":[\"spread\"],\"xaxis\":\"x\",\"y\":[0.1358843594789505],\"yaxis\":\"y\",\"type\":\"bar\"},{\"alignmentgroup\":\"True\",\"hovertemplate\":\"term=%{x}<br>date=2021-04<br>avg_sentiment=%{y}<extra></extra>\",\"ids\":[\"stained\"],\"legendgroup\":\"stained\",\"marker\":{\"color\":\"#ab63fa\",\"pattern\":{\"shape\":\"\"}},\"name\":\"stained\",\"offsetgroup\":\"stained\",\"orientation\":\"v\",\"showlegend\":true,\"textposition\":\"auto\",\"x\":[\"stained\"],\"xaxis\":\"x\",\"y\":[0.02510351873934269],\"yaxis\":\"y\",\"type\":\"bar\"},{\"alignmentgroup\":\"True\",\"hovertemplate\":\"term=%{x}<br>date=2021-04<br>avg_sentiment=%{y}<extra></extra>\",\"ids\":[\"dentist\"],\"legendgroup\":\"dentist\",\"marker\":{\"color\":\"#FFA15A\",\"pattern\":{\"shape\":\"\"}},\"name\":\"dentist\",\"offsetgroup\":\"dentist\",\"orientation\":\"v\",\"showlegend\":true,\"textposition\":\"auto\",\"x\":[\"dentist\"],\"xaxis\":\"x\",\"y\":[0.13661615550518036],\"yaxis\":\"y\",\"type\":\"bar\"},{\"alignmentgroup\":\"True\",\"hovertemplate\":\"term=%{x}<br>date=2021-04<br>avg_sentiment=%{y}<extra></extra>\",\"ids\":[\"seduction\"],\"legendgroup\":\"seduction\",\"marker\":{\"color\":\"#B6E880\",\"pattern\":{\"shape\":\"\"}},\"name\":\"seduction\",\"offsetgroup\":\"seduction\",\"orientation\":\"v\",\"showlegend\":true,\"textposition\":\"auto\",\"x\":[\"seduction\"],\"xaxis\":\"x\",\"y\":[0.03333333507180214],\"yaxis\":\"y\",\"type\":\"bar\"}],\"name\":\"2021-04\"},{\"data\":[{\"alignmentgroup\":\"True\",\"hovertemplate\":\"term=%{x}<br>date=2021-03<br>avg_sentiment=%{y}<extra></extra>\",\"ids\":[\"town\"],\"legendgroup\":\"town\",\"marker\":{\"color\":\"#636efa\",\"pattern\":{\"shape\":\"\"}},\"name\":\"town\",\"offsetgroup\":\"town\",\"orientation\":\"v\",\"showlegend\":true,\"textposition\":\"auto\",\"x\":[\"town\"],\"xaxis\":\"x\",\"y\":[0.06211111135780811],\"yaxis\":\"y\",\"type\":\"bar\"},{\"alignmentgroup\":\"True\",\"hovertemplate\":\"term=%{x}<br>date=2021-03<br>avg_sentiment=%{y}<extra></extra>\",\"ids\":[\"closeset\"],\"legendgroup\":\"closeset\",\"marker\":{\"color\":\"#FF6692\",\"pattern\":{\"shape\":\"\"}},\"name\":\"closeset\",\"offsetgroup\":\"closeset\",\"orientation\":\"v\",\"showlegend\":true,\"textposition\":\"auto\",\"x\":[\"closeset\"],\"xaxis\":\"x\",\"y\":[0.20749999582767487],\"yaxis\":\"y\",\"type\":\"bar\"},{\"alignmentgroup\":\"True\",\"hovertemplate\":\"term=%{x}<br>date=2021-03<br>avg_sentiment=%{y}<extra></extra>\",\"ids\":[\"hairy\"],\"legendgroup\":\"hairy\",\"marker\":{\"color\":\"#B6E880\",\"pattern\":{\"shape\":\"\"}},\"name\":\"hairy\",\"offsetgroup\":\"hairy\",\"orientation\":\"v\",\"showlegend\":true,\"textposition\":\"auto\",\"x\":[\"hairy\"],\"xaxis\":\"x\",\"y\":[0.045401494950056076],\"yaxis\":\"y\",\"type\":\"bar\"},{\"alignmentgroup\":\"True\",\"hovertemplate\":\"term=%{x}<br>date=2021-03<br>avg_sentiment=%{y}<extra></extra>\",\"ids\":[\"dentist\"],\"legendgroup\":\"dentist\",\"marker\":{\"color\":\"#FFA15A\",\"pattern\":{\"shape\":\"\"}},\"name\":\"dentist\",\"offsetgroup\":\"dentist\",\"orientation\":\"v\",\"showlegend\":true,\"textposition\":\"auto\",\"x\":[\"dentist\"],\"xaxis\":\"x\",\"y\":[-0.28999999165534973],\"yaxis\":\"y\",\"type\":\"bar\"}],\"name\":\"2021-03\"},{\"data\":[{\"alignmentgroup\":\"True\",\"hovertemplate\":\"term=%{x}<br>date=2022-07<br>avg_sentiment=%{y}<extra></extra>\",\"ids\":[\"hairy\"],\"legendgroup\":\"hairy\",\"marker\":{\"color\":\"#B6E880\",\"pattern\":{\"shape\":\"\"}},\"name\":\"hairy\",\"offsetgroup\":\"hairy\",\"orientation\":\"v\",\"showlegend\":true,\"textposition\":\"auto\",\"x\":[\"hairy\"],\"xaxis\":\"x\",\"y\":[0.022463923941055935],\"yaxis\":\"y\",\"type\":\"bar\"},{\"alignmentgroup\":\"True\",\"hovertemplate\":\"term=%{x}<br>date=2022-07<br>avg_sentiment=%{y}<extra></extra>\",\"ids\":[\"stained\"],\"legendgroup\":\"stained\",\"marker\":{\"color\":\"#ab63fa\",\"pattern\":{\"shape\":\"\"}},\"name\":\"stained\",\"offsetgroup\":\"stained\",\"orientation\":\"v\",\"showlegend\":true,\"textposition\":\"auto\",\"x\":[\"stained\"],\"xaxis\":\"x\",\"y\":[0.20831044018268585],\"yaxis\":\"y\",\"type\":\"bar\"},{\"alignmentgroup\":\"True\",\"hovertemplate\":\"term=%{x}<br>date=2022-07<br>avg_sentiment=%{y}<extra></extra>\",\"ids\":[\"dentist\"],\"legendgroup\":\"dentist\",\"marker\":{\"color\":\"#FFA15A\",\"pattern\":{\"shape\":\"\"}},\"name\":\"dentist\",\"offsetgroup\":\"dentist\",\"orientation\":\"v\",\"showlegend\":true,\"textposition\":\"auto\",\"x\":[\"dentist\"],\"xaxis\":\"x\",\"y\":[0.11948052048683167],\"yaxis\":\"y\",\"type\":\"bar\"},{\"alignmentgroup\":\"True\",\"hovertemplate\":\"term=%{x}<br>date=2022-07<br>avg_sentiment=%{y}<extra></extra>\",\"ids\":[\"dabbling\"],\"legendgroup\":\"dabbling\",\"marker\":{\"color\":\"#19d3f3\",\"pattern\":{\"shape\":\"\"}},\"name\":\"dabbling\",\"offsetgroup\":\"dabbling\",\"orientation\":\"v\",\"showlegend\":true,\"textposition\":\"auto\",\"x\":[\"dabbling\"],\"xaxis\":\"x\",\"y\":[0.07384771853685379],\"yaxis\":\"y\",\"type\":\"bar\"}],\"name\":\"2022-07\"},{\"data\":[{\"alignmentgroup\":\"True\",\"hovertemplate\":\"term=%{x}<br>date=2021-05<br>avg_sentiment=%{y}<extra></extra>\",\"ids\":[\"town\"],\"legendgroup\":\"town\",\"marker\":{\"color\":\"#636efa\",\"pattern\":{\"shape\":\"\"}},\"name\":\"town\",\"offsetgroup\":\"town\",\"orientation\":\"v\",\"showlegend\":true,\"textposition\":\"auto\",\"x\":[\"town\"],\"xaxis\":\"x\",\"y\":[-0.07857143133878708],\"yaxis\":\"y\",\"type\":\"bar\"},{\"alignmentgroup\":\"True\",\"hovertemplate\":\"term=%{x}<br>date=2021-05<br>avg_sentiment=%{y}<extra></extra>\",\"ids\":[\"aloe\"],\"legendgroup\":\"aloe\",\"marker\":{\"color\":\"#EF553B\",\"pattern\":{\"shape\":\"\"}},\"name\":\"aloe\",\"offsetgroup\":\"aloe\",\"orientation\":\"v\",\"showlegend\":true,\"textposition\":\"auto\",\"x\":[\"aloe\"],\"xaxis\":\"x\",\"y\":[0.22646519541740417],\"yaxis\":\"y\",\"type\":\"bar\"},{\"alignmentgroup\":\"True\",\"hovertemplate\":\"term=%{x}<br>date=2021-05<br>avg_sentiment=%{y}<extra></extra>\",\"ids\":[\"closeset\"],\"legendgroup\":\"closeset\",\"marker\":{\"color\":\"#FF6692\",\"pattern\":{\"shape\":\"\"}},\"name\":\"closeset\",\"offsetgroup\":\"closeset\",\"orientation\":\"v\",\"showlegend\":true,\"textposition\":\"auto\",\"x\":[\"closeset\"],\"xaxis\":\"x\",\"y\":[0.23541666567325592],\"yaxis\":\"y\",\"type\":\"bar\"},{\"alignmentgroup\":\"True\",\"hovertemplate\":\"term=%{x}<br>date=2021-05<br>avg_sentiment=%{y}<extra></extra>\",\"ids\":[\"hairy\"],\"legendgroup\":\"hairy\",\"marker\":{\"color\":\"#B6E880\",\"pattern\":{\"shape\":\"\"}},\"name\":\"hairy\",\"offsetgroup\":\"hairy\",\"orientation\":\"v\",\"showlegend\":true,\"textposition\":\"auto\",\"x\":[\"hairy\"],\"xaxis\":\"x\",\"y\":[-0.10227272659540176],\"yaxis\":\"y\",\"type\":\"bar\"},{\"alignmentgroup\":\"True\",\"hovertemplate\":\"term=%{x}<br>date=2021-05<br>avg_sentiment=%{y}<extra></extra>\",\"ids\":[\"maine\"],\"legendgroup\":\"maine\",\"marker\":{\"color\":\"#FECB52\",\"pattern\":{\"shape\":\"\"}},\"name\":\"maine\",\"offsetgroup\":\"maine\",\"orientation\":\"v\",\"showlegend\":true,\"textposition\":\"auto\",\"x\":[\"maine\"],\"xaxis\":\"x\",\"y\":[0.11851851642131805],\"yaxis\":\"y\",\"type\":\"bar\"},{\"alignmentgroup\":\"True\",\"hovertemplate\":\"term=%{x}<br>date=2021-05<br>avg_sentiment=%{y}<extra></extra>\",\"ids\":[\"careful\"],\"legendgroup\":\"careful\",\"marker\":{\"color\":\"#636efa\",\"pattern\":{\"shape\":\"\"}},\"name\":\"careful\",\"offsetgroup\":\"careful\",\"orientation\":\"v\",\"showlegend\":true,\"textposition\":\"auto\",\"x\":[\"careful\"],\"xaxis\":\"x\",\"y\":[-0.062268520006909966],\"yaxis\":\"y\",\"type\":\"bar\"},{\"alignmentgroup\":\"True\",\"hovertemplate\":\"term=%{x}<br>date=2021-05<br>avg_sentiment=%{y}<extra></extra>\",\"ids\":[\"saying\"],\"legendgroup\":\"saying\",\"marker\":{\"color\":\"#00cc96\",\"pattern\":{\"shape\":\"\"}},\"name\":\"saying\",\"offsetgroup\":\"saying\",\"orientation\":\"v\",\"showlegend\":true,\"textposition\":\"auto\",\"x\":[\"saying\"],\"xaxis\":\"x\",\"y\":[0.11927083134651184],\"yaxis\":\"y\",\"type\":\"bar\"},{\"alignmentgroup\":\"True\",\"hovertemplate\":\"term=%{x}<br>date=2021-05<br>avg_sentiment=%{y}<extra></extra>\",\"ids\":[\"stained\"],\"legendgroup\":\"stained\",\"marker\":{\"color\":\"#ab63fa\",\"pattern\":{\"shape\":\"\"}},\"name\":\"stained\",\"offsetgroup\":\"stained\",\"orientation\":\"v\",\"showlegend\":true,\"textposition\":\"auto\",\"x\":[\"stained\"],\"xaxis\":\"x\",\"y\":[0.21875],\"yaxis\":\"y\",\"type\":\"bar\"},{\"alignmentgroup\":\"True\",\"hovertemplate\":\"term=%{x}<br>date=2021-05<br>avg_sentiment=%{y}<extra></extra>\",\"ids\":[\"seduction\"],\"legendgroup\":\"seduction\",\"marker\":{\"color\":\"#B6E880\",\"pattern\":{\"shape\":\"\"}},\"name\":\"seduction\",\"offsetgroup\":\"seduction\",\"orientation\":\"v\",\"showlegend\":true,\"textposition\":\"auto\",\"x\":[\"seduction\"],\"xaxis\":\"x\",\"y\":[0.04742063581943512],\"yaxis\":\"y\",\"type\":\"bar\"},{\"alignmentgroup\":\"True\",\"hovertemplate\":\"term=%{x}<br>date=2021-05<br>avg_sentiment=%{y}<extra></extra>\",\"ids\":[\"loooove\"],\"legendgroup\":\"loooove\",\"marker\":{\"color\":\"#FECB52\",\"pattern\":{\"shape\":\"\"}},\"name\":\"loooove\",\"offsetgroup\":\"loooove\",\"orientation\":\"v\",\"showlegend\":true,\"textposition\":\"auto\",\"x\":[\"loooove\"],\"xaxis\":\"x\",\"y\":[0.6333333253860474],\"yaxis\":\"y\",\"type\":\"bar\"}],\"name\":\"2021-05\"},{\"data\":[{\"alignmentgroup\":\"True\",\"hovertemplate\":\"term=%{x}<br>date=2021-01<br>avg_sentiment=%{y}<extra></extra>\",\"ids\":[\"ideally\"],\"legendgroup\":\"ideally\",\"marker\":{\"color\":\"#FFA15A\",\"pattern\":{\"shape\":\"\"}},\"name\":\"ideally\",\"offsetgroup\":\"ideally\",\"orientation\":\"v\",\"showlegend\":true,\"textposition\":\"auto\",\"x\":[\"ideally\"],\"xaxis\":\"x\",\"y\":[0.23543955385684967],\"yaxis\":\"y\",\"type\":\"bar\"},{\"alignmentgroup\":\"True\",\"hovertemplate\":\"term=%{x}<br>date=2021-01<br>avg_sentiment=%{y}<extra></extra>\",\"ids\":[\"paypal\"],\"legendgroup\":\"paypal\",\"marker\":{\"color\":\"#19d3f3\",\"pattern\":{\"shape\":\"\"}},\"name\":\"paypal\",\"offsetgroup\":\"paypal\",\"orientation\":\"v\",\"showlegend\":true,\"textposition\":\"auto\",\"x\":[\"paypal\"],\"xaxis\":\"x\",\"y\":[0.21666666865348816],\"yaxis\":\"y\",\"type\":\"bar\"},{\"alignmentgroup\":\"True\",\"hovertemplate\":\"term=%{x}<br>date=2021-01<br>avg_sentiment=%{y}<extra></extra>\",\"ids\":[\"closeset\"],\"legendgroup\":\"closeset\",\"marker\":{\"color\":\"#FF6692\",\"pattern\":{\"shape\":\"\"}},\"name\":\"closeset\",\"offsetgroup\":\"closeset\",\"orientation\":\"v\",\"showlegend\":true,\"textposition\":\"auto\",\"x\":[\"closeset\"],\"xaxis\":\"x\",\"y\":[0.21666666865348816],\"yaxis\":\"y\",\"type\":\"bar\"},{\"alignmentgroup\":\"True\",\"hovertemplate\":\"term=%{x}<br>date=2021-01<br>avg_sentiment=%{y}<extra></extra>\",\"ids\":[\"maine\"],\"legendgroup\":\"maine\",\"marker\":{\"color\":\"#FECB52\",\"pattern\":{\"shape\":\"\"}},\"name\":\"maine\",\"offsetgroup\":\"maine\",\"orientation\":\"v\",\"showlegend\":true,\"textposition\":\"auto\",\"x\":[\"maine\"],\"xaxis\":\"x\",\"y\":[0.0776190459728241],\"yaxis\":\"y\",\"type\":\"bar\"},{\"alignmentgroup\":\"True\",\"hovertemplate\":\"term=%{x}<br>date=2021-01<br>avg_sentiment=%{y}<extra></extra>\",\"ids\":[\"iredale\"],\"legendgroup\":\"iredale\",\"marker\":{\"color\":\"#EF553B\",\"pattern\":{\"shape\":\"\"}},\"name\":\"iredale\",\"offsetgroup\":\"iredale\",\"orientation\":\"v\",\"showlegend\":true,\"textposition\":\"auto\",\"x\":[\"iredale\"],\"xaxis\":\"x\",\"y\":[0.16190476715564728],\"yaxis\":\"y\",\"type\":\"bar\"},{\"alignmentgroup\":\"True\",\"hovertemplate\":\"term=%{x}<br>date=2021-01<br>avg_sentiment=%{y}<extra></extra>\",\"ids\":[\"stained\"],\"legendgroup\":\"stained\",\"marker\":{\"color\":\"#ab63fa\",\"pattern\":{\"shape\":\"\"}},\"name\":\"stained\",\"offsetgroup\":\"stained\",\"orientation\":\"v\",\"showlegend\":true,\"textposition\":\"auto\",\"x\":[\"stained\"],\"xaxis\":\"x\",\"y\":[0.08190476335585117],\"yaxis\":\"y\",\"type\":\"bar\"},{\"alignmentgroup\":\"True\",\"hovertemplate\":\"term=%{x}<br>date=2021-01<br>avg_sentiment=%{y}<extra></extra>\",\"ids\":[\"findings\"],\"legendgroup\":\"findings\",\"marker\":{\"color\":\"#FF97FF\",\"pattern\":{\"shape\":\"\"}},\"name\":\"findings\",\"offsetgroup\":\"findings\",\"orientation\":\"v\",\"showlegend\":true,\"textposition\":\"auto\",\"x\":[\"findings\"],\"xaxis\":\"x\",\"y\":[-0.029393939301371574],\"yaxis\":\"y\",\"type\":\"bar\"}],\"name\":\"2021-01\"},{\"data\":[{\"alignmentgroup\":\"True\",\"hovertemplate\":\"term=%{x}<br>date=2022-02<br>avg_sentiment=%{y}<extra></extra>\",\"ids\":[\"hairbrush\"],\"legendgroup\":\"hairbrush\",\"marker\":{\"color\":\"#00cc96\",\"pattern\":{\"shape\":\"\"}},\"name\":\"hairbrush\",\"offsetgroup\":\"hairbrush\",\"orientation\":\"v\",\"showlegend\":true,\"textposition\":\"auto\",\"x\":[\"hairbrush\"],\"xaxis\":\"x\",\"y\":[0.3166666626930237],\"yaxis\":\"y\",\"type\":\"bar\"},{\"alignmentgroup\":\"True\",\"hovertemplate\":\"term=%{x}<br>date=2022-02<br>avg_sentiment=%{y}<extra></extra>\",\"ids\":[\"hairy\"],\"legendgroup\":\"hairy\",\"marker\":{\"color\":\"#B6E880\",\"pattern\":{\"shape\":\"\"}},\"name\":\"hairy\",\"offsetgroup\":\"hairy\",\"orientation\":\"v\",\"showlegend\":true,\"textposition\":\"auto\",\"x\":[\"hairy\"],\"xaxis\":\"x\",\"y\":[0.08655982837080956],\"yaxis\":\"y\",\"type\":\"bar\"},{\"alignmentgroup\":\"True\",\"hovertemplate\":\"term=%{x}<br>date=2022-02<br>avg_sentiment=%{y}<extra></extra>\",\"ids\":[\"spread\"],\"legendgroup\":\"spread\",\"marker\":{\"color\":\"#FF97FF\",\"pattern\":{\"shape\":\"\"}},\"name\":\"spread\",\"offsetgroup\":\"spread\",\"orientation\":\"v\",\"showlegend\":true,\"textposition\":\"auto\",\"x\":[\"spread\"],\"xaxis\":\"x\",\"y\":[0.04416666552424431],\"yaxis\":\"y\",\"type\":\"bar\"},{\"alignmentgroup\":\"True\",\"hovertemplate\":\"term=%{x}<br>date=2022-02<br>avg_sentiment=%{y}<extra></extra>\",\"ids\":[\"stained\"],\"legendgroup\":\"stained\",\"marker\":{\"color\":\"#ab63fa\",\"pattern\":{\"shape\":\"\"}},\"name\":\"stained\",\"offsetgroup\":\"stained\",\"orientation\":\"v\",\"showlegend\":true,\"textposition\":\"auto\",\"x\":[\"stained\"],\"xaxis\":\"x\",\"y\":[0.14246232559283575],\"yaxis\":\"y\",\"type\":\"bar\"},{\"alignmentgroup\":\"True\",\"hovertemplate\":\"term=%{x}<br>date=2022-02<br>avg_sentiment=%{y}<extra></extra>\",\"ids\":[\"dabbling\"],\"legendgroup\":\"dabbling\",\"marker\":{\"color\":\"#19d3f3\",\"pattern\":{\"shape\":\"\"}},\"name\":\"dabbling\",\"offsetgroup\":\"dabbling\",\"orientation\":\"v\",\"showlegend\":true,\"textposition\":\"auto\",\"x\":[\"dabbling\"],\"xaxis\":\"x\",\"y\":[0.07341670989990234],\"yaxis\":\"y\",\"type\":\"bar\"},{\"alignmentgroup\":\"True\",\"hovertemplate\":\"term=%{x}<br>date=2022-02<br>avg_sentiment=%{y}<extra></extra>\",\"ids\":[\"small\"],\"legendgroup\":\"small\",\"marker\":{\"color\":\"#FF6692\",\"pattern\":{\"shape\":\"\"}},\"name\":\"small\",\"offsetgroup\":\"small\",\"orientation\":\"v\",\"showlegend\":true,\"textposition\":\"auto\",\"x\":[\"small\"],\"xaxis\":\"x\",\"y\":[0.34166666865348816],\"yaxis\":\"y\",\"type\":\"bar\"},{\"alignmentgroup\":\"True\",\"hovertemplate\":\"term=%{x}<br>date=2022-02<br>avg_sentiment=%{y}<extra></extra>\",\"ids\":[\"seduction\"],\"legendgroup\":\"seduction\",\"marker\":{\"color\":\"#B6E880\",\"pattern\":{\"shape\":\"\"}},\"name\":\"seduction\",\"offsetgroup\":\"seduction\",\"orientation\":\"v\",\"showlegend\":true,\"textposition\":\"auto\",\"x\":[\"seduction\"],\"xaxis\":\"x\",\"y\":[0.23999999463558197],\"yaxis\":\"y\",\"type\":\"bar\"},{\"alignmentgroup\":\"True\",\"hovertemplate\":\"term=%{x}<br>date=2022-02<br>avg_sentiment=%{y}<extra></extra>\",\"ids\":[\"loooove\"],\"legendgroup\":\"loooove\",\"marker\":{\"color\":\"#FECB52\",\"pattern\":{\"shape\":\"\"}},\"name\":\"loooove\",\"offsetgroup\":\"loooove\",\"orientation\":\"v\",\"showlegend\":true,\"textposition\":\"auto\",\"x\":[\"loooove\"],\"xaxis\":\"x\",\"y\":[0.2666666805744171],\"yaxis\":\"y\",\"type\":\"bar\"}],\"name\":\"2022-02\"},{\"data\":[{\"alignmentgroup\":\"True\",\"hovertemplate\":\"term=%{x}<br>date=2022-01<br>avg_sentiment=%{y}<extra></extra>\",\"ids\":[\"zippered\"],\"legendgroup\":\"zippered\",\"marker\":{\"color\":\"#ab63fa\",\"pattern\":{\"shape\":\"\"}},\"name\":\"zippered\",\"offsetgroup\":\"zippered\",\"orientation\":\"v\",\"showlegend\":true,\"textposition\":\"auto\",\"x\":[\"zippered\"],\"xaxis\":\"x\",\"y\":[0.3333333432674408],\"yaxis\":\"y\",\"type\":\"bar\"},{\"alignmentgroup\":\"True\",\"hovertemplate\":\"term=%{x}<br>date=2022-01<br>avg_sentiment=%{y}<extra></extra>\",\"ids\":[\"spread\"],\"legendgroup\":\"spread\",\"marker\":{\"color\":\"#FF97FF\",\"pattern\":{\"shape\":\"\"}},\"name\":\"spread\",\"offsetgroup\":\"spread\",\"orientation\":\"v\",\"showlegend\":true,\"textposition\":\"auto\",\"x\":[\"spread\"],\"xaxis\":\"x\",\"y\":[0.23999999463558197],\"yaxis\":\"y\",\"type\":\"bar\"},{\"alignmentgroup\":\"True\",\"hovertemplate\":\"term=%{x}<br>date=2022-01<br>avg_sentiment=%{y}<extra></extra>\",\"ids\":[\"maine\"],\"legendgroup\":\"maine\",\"marker\":{\"color\":\"#FECB52\",\"pattern\":{\"shape\":\"\"}},\"name\":\"maine\",\"offsetgroup\":\"maine\",\"orientation\":\"v\",\"showlegend\":true,\"textposition\":\"auto\",\"x\":[\"maine\"],\"xaxis\":\"x\",\"y\":[-0.10833333432674408],\"yaxis\":\"y\",\"type\":\"bar\"},{\"alignmentgroup\":\"True\",\"hovertemplate\":\"term=%{x}<br>date=2022-01<br>avg_sentiment=%{y}<extra></extra>\",\"ids\":[\"iredale\"],\"legendgroup\":\"iredale\",\"marker\":{\"color\":\"#EF553B\",\"pattern\":{\"shape\":\"\"}},\"name\":\"iredale\",\"offsetgroup\":\"iredale\",\"orientation\":\"v\",\"showlegend\":true,\"textposition\":\"auto\",\"x\":[\"iredale\"],\"xaxis\":\"x\",\"y\":[-0.0833333358168602],\"yaxis\":\"y\",\"type\":\"bar\"},{\"alignmentgroup\":\"True\",\"hovertemplate\":\"term=%{x}<br>date=2022-01<br>avg_sentiment=%{y}<extra></extra>\",\"ids\":[\"dabbling\"],\"legendgroup\":\"dabbling\",\"marker\":{\"color\":\"#19d3f3\",\"pattern\":{\"shape\":\"\"}},\"name\":\"dabbling\",\"offsetgroup\":\"dabbling\",\"orientation\":\"v\",\"showlegend\":true,\"textposition\":\"auto\",\"x\":[\"dabbling\"],\"xaxis\":\"x\",\"y\":[0.21666666865348816],\"yaxis\":\"y\",\"type\":\"bar\"}],\"name\":\"2022-01\"},{\"data\":[{\"alignmentgroup\":\"True\",\"hovertemplate\":\"term=%{x}<br>date=2021-09<br>avg_sentiment=%{y}<extra></extra>\",\"ids\":[\"ideally\"],\"legendgroup\":\"ideally\",\"marker\":{\"color\":\"#FFA15A\",\"pattern\":{\"shape\":\"\"}},\"name\":\"ideally\",\"offsetgroup\":\"ideally\",\"orientation\":\"v\",\"showlegend\":true,\"textposition\":\"auto\",\"x\":[\"ideally\"],\"xaxis\":\"x\",\"y\":[0.24379509687423706],\"yaxis\":\"y\",\"type\":\"bar\"},{\"alignmentgroup\":\"True\",\"hovertemplate\":\"term=%{x}<br>date=2021-09<br>avg_sentiment=%{y}<extra></extra>\",\"ids\":[\"hairy\"],\"legendgroup\":\"hairy\",\"marker\":{\"color\":\"#B6E880\",\"pattern\":{\"shape\":\"\"}},\"name\":\"hairy\",\"offsetgroup\":\"hairy\",\"orientation\":\"v\",\"showlegend\":true,\"textposition\":\"auto\",\"x\":[\"hairy\"],\"xaxis\":\"x\",\"y\":[0.14444445073604584],\"yaxis\":\"y\",\"type\":\"bar\"},{\"alignmentgroup\":\"True\",\"hovertemplate\":\"term=%{x}<br>date=2021-09<br>avg_sentiment=%{y}<extra></extra>\",\"ids\":[\"stained\"],\"legendgroup\":\"stained\",\"marker\":{\"color\":\"#ab63fa\",\"pattern\":{\"shape\":\"\"}},\"name\":\"stained\",\"offsetgroup\":\"stained\",\"orientation\":\"v\",\"showlegend\":true,\"textposition\":\"auto\",\"x\":[\"stained\"],\"xaxis\":\"x\",\"y\":[0.14444445073604584],\"yaxis\":\"y\",\"type\":\"bar\"},{\"alignmentgroup\":\"True\",\"hovertemplate\":\"term=%{x}<br>date=2021-09<br>avg_sentiment=%{y}<extra></extra>\",\"ids\":[\"dabbling\"],\"legendgroup\":\"dabbling\",\"marker\":{\"color\":\"#19d3f3\",\"pattern\":{\"shape\":\"\"}},\"name\":\"dabbling\",\"offsetgroup\":\"dabbling\",\"orientation\":\"v\",\"showlegend\":true,\"textposition\":\"auto\",\"x\":[\"dabbling\"],\"xaxis\":\"x\",\"y\":[0.08510333113372326],\"yaxis\":\"y\",\"type\":\"bar\"},{\"alignmentgroup\":\"True\",\"hovertemplate\":\"term=%{x}<br>date=2021-09<br>avg_sentiment=%{y}<extra></extra>\",\"ids\":[\"small\"],\"legendgroup\":\"small\",\"marker\":{\"color\":\"#FF6692\",\"pattern\":{\"shape\":\"\"}},\"name\":\"small\",\"offsetgroup\":\"small\",\"orientation\":\"v\",\"showlegend\":true,\"textposition\":\"auto\",\"x\":[\"small\"],\"xaxis\":\"x\",\"y\":[-0.03485576808452606],\"yaxis\":\"y\",\"type\":\"bar\"}],\"name\":\"2021-09\"},{\"data\":[{\"alignmentgroup\":\"True\",\"hovertemplate\":\"term=%{x}<br>date=2022-03<br>avg_sentiment=%{y}<extra></extra>\",\"ids\":[\"town\"],\"legendgroup\":\"town\",\"marker\":{\"color\":\"#636efa\",\"pattern\":{\"shape\":\"\"}},\"name\":\"town\",\"offsetgroup\":\"town\",\"orientation\":\"v\",\"showlegend\":true,\"textposition\":\"auto\",\"x\":[\"town\"],\"xaxis\":\"x\",\"y\":[0.08258333429694176],\"yaxis\":\"y\",\"type\":\"bar\"},{\"alignmentgroup\":\"True\",\"hovertemplate\":\"term=%{x}<br>date=2022-03<br>avg_sentiment=%{y}<extra></extra>\",\"ids\":[\"aloe\"],\"legendgroup\":\"aloe\",\"marker\":{\"color\":\"#EF553B\",\"pattern\":{\"shape\":\"\"}},\"name\":\"aloe\",\"offsetgroup\":\"aloe\",\"orientation\":\"v\",\"showlegend\":true,\"textposition\":\"auto\",\"x\":[\"aloe\"],\"xaxis\":\"x\",\"y\":[0.22708334028720856],\"yaxis\":\"y\",\"type\":\"bar\"},{\"alignmentgroup\":\"True\",\"hovertemplate\":\"term=%{x}<br>date=2022-03<br>avg_sentiment=%{y}<extra></extra>\",\"ids\":[\"ideally\"],\"legendgroup\":\"ideally\",\"marker\":{\"color\":\"#FFA15A\",\"pattern\":{\"shape\":\"\"}},\"name\":\"ideally\",\"offsetgroup\":\"ideally\",\"orientation\":\"v\",\"showlegend\":true,\"textposition\":\"auto\",\"x\":[\"ideally\"],\"xaxis\":\"x\",\"y\":[0.1912499964237213],\"yaxis\":\"y\",\"type\":\"bar\"},{\"alignmentgroup\":\"True\",\"hovertemplate\":\"term=%{x}<br>date=2022-03<br>avg_sentiment=%{y}<extra></extra>\",\"ids\":[\"small\"],\"legendgroup\":\"small\",\"marker\":{\"color\":\"#FF6692\",\"pattern\":{\"shape\":\"\"}},\"name\":\"small\",\"offsetgroup\":\"small\",\"orientation\":\"v\",\"showlegend\":true,\"textposition\":\"auto\",\"x\":[\"small\"],\"xaxis\":\"x\",\"y\":[0.05993589945137501],\"yaxis\":\"y\",\"type\":\"bar\"},{\"alignmentgroup\":\"True\",\"hovertemplate\":\"term=%{x}<br>date=2022-03<br>avg_sentiment=%{y}<extra></extra>\",\"ids\":[\"loooove\"],\"legendgroup\":\"loooove\",\"marker\":{\"color\":\"#FECB52\",\"pattern\":{\"shape\":\"\"}},\"name\":\"loooove\",\"offsetgroup\":\"loooove\",\"orientation\":\"v\",\"showlegend\":true,\"textposition\":\"auto\",\"x\":[\"loooove\"],\"xaxis\":\"x\",\"y\":[0.30000001192092896],\"yaxis\":\"y\",\"type\":\"bar\"}],\"name\":\"2022-03\"},{\"data\":[{\"alignmentgroup\":\"True\",\"hovertemplate\":\"term=%{x}<br>date=2022-12<br>avg_sentiment=%{y}<extra></extra>\",\"ids\":[\"hairy\"],\"legendgroup\":\"hairy\",\"marker\":{\"color\":\"#B6E880\",\"pattern\":{\"shape\":\"\"}},\"name\":\"hairy\",\"offsetgroup\":\"hairy\",\"orientation\":\"v\",\"showlegend\":true,\"textposition\":\"auto\",\"x\":[\"hairy\"],\"xaxis\":\"x\",\"y\":[0.055390211287885904],\"yaxis\":\"y\",\"type\":\"bar\"},{\"alignmentgroup\":\"True\",\"hovertemplate\":\"term=%{x}<br>date=2022-12<br>avg_sentiment=%{y}<extra></extra>\",\"ids\":[\"iredale\"],\"legendgroup\":\"iredale\",\"marker\":{\"color\":\"#EF553B\",\"pattern\":{\"shape\":\"\"}},\"name\":\"iredale\",\"offsetgroup\":\"iredale\",\"orientation\":\"v\",\"showlegend\":true,\"textposition\":\"auto\",\"x\":[\"iredale\"],\"xaxis\":\"x\",\"y\":[0.08636363595724106],\"yaxis\":\"y\",\"type\":\"bar\"},{\"alignmentgroup\":\"True\",\"hovertemplate\":\"term=%{x}<br>date=2022-12<br>avg_sentiment=%{y}<extra></extra>\",\"ids\":[\"stained\"],\"legendgroup\":\"stained\",\"marker\":{\"color\":\"#ab63fa\",\"pattern\":{\"shape\":\"\"}},\"name\":\"stained\",\"offsetgroup\":\"stained\",\"orientation\":\"v\",\"showlegend\":true,\"textposition\":\"auto\",\"x\":[\"stained\"],\"xaxis\":\"x\",\"y\":[0.06471956521272659],\"yaxis\":\"y\",\"type\":\"bar\"},{\"alignmentgroup\":\"True\",\"hovertemplate\":\"term=%{x}<br>date=2022-12<br>avg_sentiment=%{y}<extra></extra>\",\"ids\":[\"dentist\"],\"legendgroup\":\"dentist\",\"marker\":{\"color\":\"#FFA15A\",\"pattern\":{\"shape\":\"\"}},\"name\":\"dentist\",\"offsetgroup\":\"dentist\",\"orientation\":\"v\",\"showlegend\":true,\"textposition\":\"auto\",\"x\":[\"dentist\"],\"xaxis\":\"x\",\"y\":[0.07500000298023224],\"yaxis\":\"y\",\"type\":\"bar\"},{\"alignmentgroup\":\"True\",\"hovertemplate\":\"term=%{x}<br>date=2022-12<br>avg_sentiment=%{y}<extra></extra>\",\"ids\":[\"dabbling\"],\"legendgroup\":\"dabbling\",\"marker\":{\"color\":\"#19d3f3\",\"pattern\":{\"shape\":\"\"}},\"name\":\"dabbling\",\"offsetgroup\":\"dabbling\",\"orientation\":\"v\",\"showlegend\":true,\"textposition\":\"auto\",\"x\":[\"dabbling\"],\"xaxis\":\"x\",\"y\":[0.14895834028720856],\"yaxis\":\"y\",\"type\":\"bar\"},{\"alignmentgroup\":\"True\",\"hovertemplate\":\"term=%{x}<br>date=2022-12<br>avg_sentiment=%{y}<extra></extra>\",\"ids\":[\"small\"],\"legendgroup\":\"small\",\"marker\":{\"color\":\"#FF6692\",\"pattern\":{\"shape\":\"\"}},\"name\":\"small\",\"offsetgroup\":\"small\",\"orientation\":\"v\",\"showlegend\":true,\"textposition\":\"auto\",\"x\":[\"small\"],\"xaxis\":\"x\",\"y\":[0.18333333730697632],\"yaxis\":\"y\",\"type\":\"bar\"}],\"name\":\"2022-12\"},{\"data\":[{\"alignmentgroup\":\"True\",\"hovertemplate\":\"term=%{x}<br>date=2021-07<br>avg_sentiment=%{y}<extra></extra>\",\"ids\":[\"hairbrush\"],\"legendgroup\":\"hairbrush\",\"marker\":{\"color\":\"#00cc96\",\"pattern\":{\"shape\":\"\"}},\"name\":\"hairbrush\",\"offsetgroup\":\"hairbrush\",\"orientation\":\"v\",\"showlegend\":true,\"textposition\":\"auto\",\"x\":[\"hairbrush\"],\"xaxis\":\"x\",\"y\":[0.25],\"yaxis\":\"y\",\"type\":\"bar\"},{\"alignmentgroup\":\"True\",\"hovertemplate\":\"term=%{x}<br>date=2021-07<br>avg_sentiment=%{y}<extra></extra>\",\"ids\":[\"ideally\"],\"legendgroup\":\"ideally\",\"marker\":{\"color\":\"#FFA15A\",\"pattern\":{\"shape\":\"\"}},\"name\":\"ideally\",\"offsetgroup\":\"ideally\",\"orientation\":\"v\",\"showlegend\":true,\"textposition\":\"auto\",\"x\":[\"ideally\"],\"xaxis\":\"x\",\"y\":[0.24444444477558136],\"yaxis\":\"y\",\"type\":\"bar\"},{\"alignmentgroup\":\"True\",\"hovertemplate\":\"term=%{x}<br>date=2021-07<br>avg_sentiment=%{y}<extra></extra>\",\"ids\":[\"hairy\"],\"legendgroup\":\"hairy\",\"marker\":{\"color\":\"#B6E880\",\"pattern\":{\"shape\":\"\"}},\"name\":\"hairy\",\"offsetgroup\":\"hairy\",\"orientation\":\"v\",\"showlegend\":true,\"textposition\":\"auto\",\"x\":[\"hairy\"],\"xaxis\":\"x\",\"y\":[0.11714285612106323],\"yaxis\":\"y\",\"type\":\"bar\"},{\"alignmentgroup\":\"True\",\"hovertemplate\":\"term=%{x}<br>date=2021-07<br>avg_sentiment=%{y}<extra></extra>\",\"ids\":[\"stained\"],\"legendgroup\":\"stained\",\"marker\":{\"color\":\"#ab63fa\",\"pattern\":{\"shape\":\"\"}},\"name\":\"stained\",\"offsetgroup\":\"stained\",\"orientation\":\"v\",\"showlegend\":true,\"textposition\":\"auto\",\"x\":[\"stained\"],\"xaxis\":\"x\",\"y\":[0.16176250576972961],\"yaxis\":\"y\",\"type\":\"bar\"}],\"name\":\"2021-07\"},{\"data\":[{\"alignmentgroup\":\"True\",\"hovertemplate\":\"term=%{x}<br>date=2021-02<br>avg_sentiment=%{y}<extra></extra>\",\"ids\":[\"aloe\"],\"legendgroup\":\"aloe\",\"marker\":{\"color\":\"#EF553B\",\"pattern\":{\"shape\":\"\"}},\"name\":\"aloe\",\"offsetgroup\":\"aloe\",\"orientation\":\"v\",\"showlegend\":true,\"textposition\":\"auto\",\"x\":[\"aloe\"],\"xaxis\":\"x\",\"y\":[0.23749999701976776],\"yaxis\":\"y\",\"type\":\"bar\"},{\"alignmentgroup\":\"True\",\"hovertemplate\":\"term=%{x}<br>date=2021-02<br>avg_sentiment=%{y}<extra></extra>\",\"ids\":[\"zippered\"],\"legendgroup\":\"zippered\",\"marker\":{\"color\":\"#ab63fa\",\"pattern\":{\"shape\":\"\"}},\"name\":\"zippered\",\"offsetgroup\":\"zippered\",\"orientation\":\"v\",\"showlegend\":true,\"textposition\":\"auto\",\"x\":[\"zippered\"],\"xaxis\":\"x\",\"y\":[0.36666667461395264],\"yaxis\":\"y\",\"type\":\"bar\"},{\"alignmentgroup\":\"True\",\"hovertemplate\":\"term=%{x}<br>date=2021-02<br>avg_sentiment=%{y}<extra></extra>\",\"ids\":[\"ideally\"],\"legendgroup\":\"ideally\",\"marker\":{\"color\":\"#FFA15A\",\"pattern\":{\"shape\":\"\"}},\"name\":\"ideally\",\"offsetgroup\":\"ideally\",\"orientation\":\"v\",\"showlegend\":true,\"textposition\":\"auto\",\"x\":[\"ideally\"],\"xaxis\":\"x\",\"y\":[-0.4611110985279083],\"yaxis\":\"y\",\"type\":\"bar\"},{\"alignmentgroup\":\"True\",\"hovertemplate\":\"term=%{x}<br>date=2021-02<br>avg_sentiment=%{y}<extra></extra>\",\"ids\":[\"hairy\"],\"legendgroup\":\"hairy\",\"marker\":{\"color\":\"#B6E880\",\"pattern\":{\"shape\":\"\"}},\"name\":\"hairy\",\"offsetgroup\":\"hairy\",\"orientation\":\"v\",\"showlegend\":true,\"textposition\":\"auto\",\"x\":[\"hairy\"],\"xaxis\":\"x\",\"y\":[-0.03750000149011612],\"yaxis\":\"y\",\"type\":\"bar\"},{\"alignmentgroup\":\"True\",\"hovertemplate\":\"term=%{x}<br>date=2021-02<br>avg_sentiment=%{y}<extra></extra>\",\"ids\":[\"stained\"],\"legendgroup\":\"stained\",\"marker\":{\"color\":\"#ab63fa\",\"pattern\":{\"shape\":\"\"}},\"name\":\"stained\",\"offsetgroup\":\"stained\",\"orientation\":\"v\",\"showlegend\":true,\"textposition\":\"auto\",\"x\":[\"stained\"],\"xaxis\":\"x\",\"y\":[0.05197368562221527],\"yaxis\":\"y\",\"type\":\"bar\"}],\"name\":\"2021-02\"},{\"data\":[{\"alignmentgroup\":\"True\",\"hovertemplate\":\"term=%{x}<br>date=2021-10<br>avg_sentiment=%{y}<extra></extra>\",\"ids\":[\"hairy\"],\"legendgroup\":\"hairy\",\"marker\":{\"color\":\"#B6E880\",\"pattern\":{\"shape\":\"\"}},\"name\":\"hairy\",\"offsetgroup\":\"hairy\",\"orientation\":\"v\",\"showlegend\":true,\"textposition\":\"auto\",\"x\":[\"hairy\"],\"xaxis\":\"x\",\"y\":[-0.07333333045244217],\"yaxis\":\"y\",\"type\":\"bar\"},{\"alignmentgroup\":\"True\",\"hovertemplate\":\"term=%{x}<br>date=2021-10<br>avg_sentiment=%{y}<extra></extra>\",\"ids\":[\"saying\"],\"legendgroup\":\"saying\",\"marker\":{\"color\":\"#00cc96\",\"pattern\":{\"shape\":\"\"}},\"name\":\"saying\",\"offsetgroup\":\"saying\",\"orientation\":\"v\",\"showlegend\":true,\"textposition\":\"auto\",\"x\":[\"saying\"],\"xaxis\":\"x\",\"y\":[0.10194805264472961],\"yaxis\":\"y\",\"type\":\"bar\"},{\"alignmentgroup\":\"True\",\"hovertemplate\":\"term=%{x}<br>date=2021-10<br>avg_sentiment=%{y}<extra></extra>\",\"ids\":[\"stained\"],\"legendgroup\":\"stained\",\"marker\":{\"color\":\"#ab63fa\",\"pattern\":{\"shape\":\"\"}},\"name\":\"stained\",\"offsetgroup\":\"stained\",\"orientation\":\"v\",\"showlegend\":true,\"textposition\":\"auto\",\"x\":[\"stained\"],\"xaxis\":\"x\",\"y\":[0.07500000298023224],\"yaxis\":\"y\",\"type\":\"bar\"}],\"name\":\"2021-10\"},{\"data\":[{\"alignmentgroup\":\"True\",\"hovertemplate\":\"term=%{x}<br>date=2022-10<br>avg_sentiment=%{y}<extra></extra>\",\"ids\":[\"hairy\"],\"legendgroup\":\"hairy\",\"marker\":{\"color\":\"#B6E880\",\"pattern\":{\"shape\":\"\"}},\"name\":\"hairy\",\"offsetgroup\":\"hairy\",\"orientation\":\"v\",\"showlegend\":true,\"textposition\":\"auto\",\"x\":[\"hairy\"],\"xaxis\":\"x\",\"y\":[0.023333333432674408],\"yaxis\":\"y\",\"type\":\"bar\"},{\"alignmentgroup\":\"True\",\"hovertemplate\":\"term=%{x}<br>date=2022-10<br>avg_sentiment=%{y}<extra></extra>\",\"ids\":[\"maine\"],\"legendgroup\":\"maine\",\"marker\":{\"color\":\"#FECB52\",\"pattern\":{\"shape\":\"\"}},\"name\":\"maine\",\"offsetgroup\":\"maine\",\"orientation\":\"v\",\"showlegend\":true,\"textposition\":\"auto\",\"x\":[\"maine\"],\"xaxis\":\"x\",\"y\":[0.1088888868689537],\"yaxis\":\"y\",\"type\":\"bar\"},{\"alignmentgroup\":\"True\",\"hovertemplate\":\"term=%{x}<br>date=2022-10<br>avg_sentiment=%{y}<extra></extra>\",\"ids\":[\"dabbling\"],\"legendgroup\":\"dabbling\",\"marker\":{\"color\":\"#19d3f3\",\"pattern\":{\"shape\":\"\"}},\"name\":\"dabbling\",\"offsetgroup\":\"dabbling\",\"orientation\":\"v\",\"showlegend\":true,\"textposition\":\"auto\",\"x\":[\"dabbling\"],\"xaxis\":\"x\",\"y\":[-0.12857143580913544],\"yaxis\":\"y\",\"type\":\"bar\"},{\"alignmentgroup\":\"True\",\"hovertemplate\":\"term=%{x}<br>date=2022-10<br>avg_sentiment=%{y}<extra></extra>\",\"ids\":[\"small\"],\"legendgroup\":\"small\",\"marker\":{\"color\":\"#FF6692\",\"pattern\":{\"shape\":\"\"}},\"name\":\"small\",\"offsetgroup\":\"small\",\"orientation\":\"v\",\"showlegend\":true,\"textposition\":\"auto\",\"x\":[\"small\"],\"xaxis\":\"x\",\"y\":[0.05833333358168602],\"yaxis\":\"y\",\"type\":\"bar\"},{\"alignmentgroup\":\"True\",\"hovertemplate\":\"term=%{x}<br>date=2022-10<br>avg_sentiment=%{y}<extra></extra>\",\"ids\":[\"seduction\"],\"legendgroup\":\"seduction\",\"marker\":{\"color\":\"#B6E880\",\"pattern\":{\"shape\":\"\"}},\"name\":\"seduction\",\"offsetgroup\":\"seduction\",\"orientation\":\"v\",\"showlegend\":true,\"textposition\":\"auto\",\"x\":[\"seduction\"],\"xaxis\":\"x\",\"y\":[0.031060606241226196],\"yaxis\":\"y\",\"type\":\"bar\"},{\"alignmentgroup\":\"True\",\"hovertemplate\":\"term=%{x}<br>date=2022-10<br>avg_sentiment=%{y}<extra></extra>\",\"ids\":[\"findings\"],\"legendgroup\":\"findings\",\"marker\":{\"color\":\"#FF97FF\",\"pattern\":{\"shape\":\"\"}},\"name\":\"findings\",\"offsetgroup\":\"findings\",\"orientation\":\"v\",\"showlegend\":true,\"textposition\":\"auto\",\"x\":[\"findings\"],\"xaxis\":\"x\",\"y\":[0.1371714323759079],\"yaxis\":\"y\",\"type\":\"bar\"},{\"alignmentgroup\":\"True\",\"hovertemplate\":\"term=%{x}<br>date=2022-10<br>avg_sentiment=%{y}<extra></extra>\",\"ids\":[\"loooove\"],\"legendgroup\":\"loooove\",\"marker\":{\"color\":\"#FECB52\",\"pattern\":{\"shape\":\"\"}},\"name\":\"loooove\",\"offsetgroup\":\"loooove\",\"orientation\":\"v\",\"showlegend\":true,\"textposition\":\"auto\",\"x\":[\"loooove\"],\"xaxis\":\"x\",\"y\":[-0.01666666753590107],\"yaxis\":\"y\",\"type\":\"bar\"}],\"name\":\"2022-10\"},{\"data\":[{\"alignmentgroup\":\"True\",\"hovertemplate\":\"term=%{x}<br>date=2022-08<br>avg_sentiment=%{y}<extra></extra>\",\"ids\":[\"town\"],\"legendgroup\":\"town\",\"marker\":{\"color\":\"#636efa\",\"pattern\":{\"shape\":\"\"}},\"name\":\"town\",\"offsetgroup\":\"town\",\"orientation\":\"v\",\"showlegend\":true,\"textposition\":\"auto\",\"x\":[\"town\"],\"xaxis\":\"x\",\"y\":[-0.25],\"yaxis\":\"y\",\"type\":\"bar\"},{\"alignmentgroup\":\"True\",\"hovertemplate\":\"term=%{x}<br>date=2022-08<br>avg_sentiment=%{y}<extra></extra>\",\"ids\":[\"aloe\"],\"legendgroup\":\"aloe\",\"marker\":{\"color\":\"#EF553B\",\"pattern\":{\"shape\":\"\"}},\"name\":\"aloe\",\"offsetgroup\":\"aloe\",\"orientation\":\"v\",\"showlegend\":true,\"textposition\":\"auto\",\"x\":[\"aloe\"],\"xaxis\":\"x\",\"y\":[0.06666667014360428],\"yaxis\":\"y\",\"type\":\"bar\"},{\"alignmentgroup\":\"True\",\"hovertemplate\":\"term=%{x}<br>date=2022-08<br>avg_sentiment=%{y}<extra></extra>\",\"ids\":[\"hairbrush\"],\"legendgroup\":\"hairbrush\",\"marker\":{\"color\":\"#00cc96\",\"pattern\":{\"shape\":\"\"}},\"name\":\"hairbrush\",\"offsetgroup\":\"hairbrush\",\"orientation\":\"v\",\"showlegend\":true,\"textposition\":\"auto\",\"x\":[\"hairbrush\"],\"xaxis\":\"x\",\"y\":[0.36393940448760986],\"yaxis\":\"y\",\"type\":\"bar\"},{\"alignmentgroup\":\"True\",\"hovertemplate\":\"term=%{x}<br>date=2022-08<br>avg_sentiment=%{y}<extra></extra>\",\"ids\":[\"closeset\"],\"legendgroup\":\"closeset\",\"marker\":{\"color\":\"#FF6692\",\"pattern\":{\"shape\":\"\"}},\"name\":\"closeset\",\"offsetgroup\":\"closeset\",\"orientation\":\"v\",\"showlegend\":true,\"textposition\":\"auto\",\"x\":[\"closeset\"],\"xaxis\":\"x\",\"y\":[0.15000000596046448],\"yaxis\":\"y\",\"type\":\"bar\"},{\"alignmentgroup\":\"True\",\"hovertemplate\":\"term=%{x}<br>date=2022-08<br>avg_sentiment=%{y}<extra></extra>\",\"ids\":[\"hairy\"],\"legendgroup\":\"hairy\",\"marker\":{\"color\":\"#B6E880\",\"pattern\":{\"shape\":\"\"}},\"name\":\"hairy\",\"offsetgroup\":\"hairy\",\"orientation\":\"v\",\"showlegend\":true,\"textposition\":\"auto\",\"x\":[\"hairy\"],\"xaxis\":\"x\",\"y\":[0.18000000715255737],\"yaxis\":\"y\",\"type\":\"bar\"},{\"alignmentgroup\":\"True\",\"hovertemplate\":\"term=%{x}<br>date=2022-08<br>avg_sentiment=%{y}<extra></extra>\",\"ids\":[\"dentist\"],\"legendgroup\":\"dentist\",\"marker\":{\"color\":\"#FFA15A\",\"pattern\":{\"shape\":\"\"}},\"name\":\"dentist\",\"offsetgroup\":\"dentist\",\"orientation\":\"v\",\"showlegend\":true,\"textposition\":\"auto\",\"x\":[\"dentist\"],\"xaxis\":\"x\",\"y\":[0.4000000059604645],\"yaxis\":\"y\",\"type\":\"bar\"},{\"alignmentgroup\":\"True\",\"hovertemplate\":\"term=%{x}<br>date=2022-08<br>avg_sentiment=%{y}<extra></extra>\",\"ids\":[\"seduction\"],\"legendgroup\":\"seduction\",\"marker\":{\"color\":\"#B6E880\",\"pattern\":{\"shape\":\"\"}},\"name\":\"seduction\",\"offsetgroup\":\"seduction\",\"orientation\":\"v\",\"showlegend\":true,\"textposition\":\"auto\",\"x\":[\"seduction\"],\"xaxis\":\"x\",\"y\":[0.05638774111866951],\"yaxis\":\"y\",\"type\":\"bar\"}],\"name\":\"2022-08\"},{\"data\":[{\"alignmentgroup\":\"True\",\"hovertemplate\":\"term=%{x}<br>date=2021-12<br>avg_sentiment=%{y}<extra></extra>\",\"ids\":[\"town\"],\"legendgroup\":\"town\",\"marker\":{\"color\":\"#636efa\",\"pattern\":{\"shape\":\"\"}},\"name\":\"town\",\"offsetgroup\":\"town\",\"orientation\":\"v\",\"showlegend\":true,\"textposition\":\"auto\",\"x\":[\"town\"],\"xaxis\":\"x\",\"y\":[-0.0364583320915699],\"yaxis\":\"y\",\"type\":\"bar\"},{\"alignmentgroup\":\"True\",\"hovertemplate\":\"term=%{x}<br>date=2021-12<br>avg_sentiment=%{y}<extra></extra>\",\"ids\":[\"aloe\"],\"legendgroup\":\"aloe\",\"marker\":{\"color\":\"#EF553B\",\"pattern\":{\"shape\":\"\"}},\"name\":\"aloe\",\"offsetgroup\":\"aloe\",\"orientation\":\"v\",\"showlegend\":true,\"textposition\":\"auto\",\"x\":[\"aloe\"],\"xaxis\":\"x\",\"y\":[0.13750000298023224],\"yaxis\":\"y\",\"type\":\"bar\"},{\"alignmentgroup\":\"True\",\"hovertemplate\":\"term=%{x}<br>date=2021-12<br>avg_sentiment=%{y}<extra></extra>\",\"ids\":[\"hairy\"],\"legendgroup\":\"hairy\",\"marker\":{\"color\":\"#B6E880\",\"pattern\":{\"shape\":\"\"}},\"name\":\"hairy\",\"offsetgroup\":\"hairy\",\"orientation\":\"v\",\"showlegend\":true,\"textposition\":\"auto\",\"x\":[\"hairy\"],\"xaxis\":\"x\",\"y\":[0.10723505821079016],\"yaxis\":\"y\",\"type\":\"bar\"},{\"alignmentgroup\":\"True\",\"hovertemplate\":\"term=%{x}<br>date=2021-12<br>avg_sentiment=%{y}<extra></extra>\",\"ids\":[\"saying\"],\"legendgroup\":\"saying\",\"marker\":{\"color\":\"#00cc96\",\"pattern\":{\"shape\":\"\"}},\"name\":\"saying\",\"offsetgroup\":\"saying\",\"orientation\":\"v\",\"showlegend\":true,\"textposition\":\"auto\",\"x\":[\"saying\"],\"xaxis\":\"x\",\"y\":[-0.018333332613110542],\"yaxis\":\"y\",\"type\":\"bar\"},{\"alignmentgroup\":\"True\",\"hovertemplate\":\"term=%{x}<br>date=2021-12<br>avg_sentiment=%{y}<extra></extra>\",\"ids\":[\"dabbling\"],\"legendgroup\":\"dabbling\",\"marker\":{\"color\":\"#19d3f3\",\"pattern\":{\"shape\":\"\"}},\"name\":\"dabbling\",\"offsetgroup\":\"dabbling\",\"orientation\":\"v\",\"showlegend\":true,\"textposition\":\"auto\",\"x\":[\"dabbling\"],\"xaxis\":\"x\",\"y\":[0.23112745583057404],\"yaxis\":\"y\",\"type\":\"bar\"}],\"name\":\"2021-12\"},{\"data\":[{\"alignmentgroup\":\"True\",\"hovertemplate\":\"term=%{x}<br>date=2021-06<br>avg_sentiment=%{y}<extra></extra>\",\"ids\":[\"seduction\"],\"legendgroup\":\"seduction\",\"marker\":{\"color\":\"#B6E880\",\"pattern\":{\"shape\":\"\"}},\"name\":\"seduction\",\"offsetgroup\":\"seduction\",\"orientation\":\"v\",\"showlegend\":true,\"textposition\":\"auto\",\"x\":[\"seduction\"],\"xaxis\":\"x\",\"y\":[0.16572339832782745],\"yaxis\":\"y\",\"type\":\"bar\"},{\"alignmentgroup\":\"True\",\"hovertemplate\":\"term=%{x}<br>date=2021-06<br>avg_sentiment=%{y}<extra></extra>\",\"ids\":[\"findings\"],\"legendgroup\":\"findings\",\"marker\":{\"color\":\"#FF97FF\",\"pattern\":{\"shape\":\"\"}},\"name\":\"findings\",\"offsetgroup\":\"findings\",\"orientation\":\"v\",\"showlegend\":true,\"textposition\":\"auto\",\"x\":[\"findings\"],\"xaxis\":\"x\",\"y\":[0.14023809134960175],\"yaxis\":\"y\",\"type\":\"bar\"}],\"name\":\"2021-06\"},{\"data\":[{\"alignmentgroup\":\"True\",\"hovertemplate\":\"term=%{x}<br>date=2021-08<br>avg_sentiment=%{y}<extra></extra>\",\"ids\":[\"hairbrush\"],\"legendgroup\":\"hairbrush\",\"marker\":{\"color\":\"#00cc96\",\"pattern\":{\"shape\":\"\"}},\"name\":\"hairbrush\",\"offsetgroup\":\"hairbrush\",\"orientation\":\"v\",\"showlegend\":true,\"textposition\":\"auto\",\"x\":[\"hairbrush\"],\"xaxis\":\"x\",\"y\":[0.2336309552192688],\"yaxis\":\"y\",\"type\":\"bar\"},{\"alignmentgroup\":\"True\",\"hovertemplate\":\"term=%{x}<br>date=2021-08<br>avg_sentiment=%{y}<extra></extra>\",\"ids\":[\"zippered\"],\"legendgroup\":\"zippered\",\"marker\":{\"color\":\"#ab63fa\",\"pattern\":{\"shape\":\"\"}},\"name\":\"zippered\",\"offsetgroup\":\"zippered\",\"orientation\":\"v\",\"showlegend\":true,\"textposition\":\"auto\",\"x\":[\"zippered\"],\"xaxis\":\"x\",\"y\":[0.27190476655960083],\"yaxis\":\"y\",\"type\":\"bar\"},{\"alignmentgroup\":\"True\",\"hovertemplate\":\"term=%{x}<br>date=2021-08<br>avg_sentiment=%{y}<extra></extra>\",\"ids\":[\"closeset\"],\"legendgroup\":\"closeset\",\"marker\":{\"color\":\"#FF6692\",\"pattern\":{\"shape\":\"\"}},\"name\":\"closeset\",\"offsetgroup\":\"closeset\",\"orientation\":\"v\",\"showlegend\":true,\"textposition\":\"auto\",\"x\":[\"closeset\"],\"xaxis\":\"x\",\"y\":[0.13333334028720856],\"yaxis\":\"y\",\"type\":\"bar\"},{\"alignmentgroup\":\"True\",\"hovertemplate\":\"term=%{x}<br>date=2021-08<br>avg_sentiment=%{y}<extra></extra>\",\"ids\":[\"maine\"],\"legendgroup\":\"maine\",\"marker\":{\"color\":\"#FECB52\",\"pattern\":{\"shape\":\"\"}},\"name\":\"maine\",\"offsetgroup\":\"maine\",\"orientation\":\"v\",\"showlegend\":true,\"textposition\":\"auto\",\"x\":[\"maine\"],\"xaxis\":\"x\",\"y\":[0.10000000149011612],\"yaxis\":\"y\",\"type\":\"bar\"},{\"alignmentgroup\":\"True\",\"hovertemplate\":\"term=%{x}<br>date=2021-08<br>avg_sentiment=%{y}<extra></extra>\",\"ids\":[\"iredale\"],\"legendgroup\":\"iredale\",\"marker\":{\"color\":\"#EF553B\",\"pattern\":{\"shape\":\"\"}},\"name\":\"iredale\",\"offsetgroup\":\"iredale\",\"orientation\":\"v\",\"showlegend\":true,\"textposition\":\"auto\",\"x\":[\"iredale\"],\"xaxis\":\"x\",\"y\":[0.15909090638160706],\"yaxis\":\"y\",\"type\":\"bar\"},{\"alignmentgroup\":\"True\",\"hovertemplate\":\"term=%{x}<br>date=2021-08<br>avg_sentiment=%{y}<extra></extra>\",\"ids\":[\"saying\"],\"legendgroup\":\"saying\",\"marker\":{\"color\":\"#00cc96\",\"pattern\":{\"shape\":\"\"}},\"name\":\"saying\",\"offsetgroup\":\"saying\",\"orientation\":\"v\",\"showlegend\":true,\"textposition\":\"auto\",\"x\":[\"saying\"],\"xaxis\":\"x\",\"y\":[0.0949999988079071],\"yaxis\":\"y\",\"type\":\"bar\"},{\"alignmentgroup\":\"True\",\"hovertemplate\":\"term=%{x}<br>date=2021-08<br>avg_sentiment=%{y}<extra></extra>\",\"ids\":[\"seduction\"],\"legendgroup\":\"seduction\",\"marker\":{\"color\":\"#B6E880\",\"pattern\":{\"shape\":\"\"}},\"name\":\"seduction\",\"offsetgroup\":\"seduction\",\"orientation\":\"v\",\"showlegend\":true,\"textposition\":\"auto\",\"x\":[\"seduction\"],\"xaxis\":\"x\",\"y\":[0.26286548376083374],\"yaxis\":\"y\",\"type\":\"bar\"},{\"alignmentgroup\":\"True\",\"hovertemplate\":\"term=%{x}<br>date=2021-08<br>avg_sentiment=%{y}<extra></extra>\",\"ids\":[\"findings\"],\"legendgroup\":\"findings\",\"marker\":{\"color\":\"#FF97FF\",\"pattern\":{\"shape\":\"\"}},\"name\":\"findings\",\"offsetgroup\":\"findings\",\"orientation\":\"v\",\"showlegend\":true,\"textposition\":\"auto\",\"x\":[\"findings\"],\"xaxis\":\"x\",\"y\":[0.03333333507180214],\"yaxis\":\"y\",\"type\":\"bar\"}],\"name\":\"2021-08\"},{\"data\":[{\"alignmentgroup\":\"True\",\"hovertemplate\":\"term=%{x}<br>date=2022-06<br>avg_sentiment=%{y}<extra></extra>\",\"ids\":[\"hairy\"],\"legendgroup\":\"hairy\",\"marker\":{\"color\":\"#B6E880\",\"pattern\":{\"shape\":\"\"}},\"name\":\"hairy\",\"offsetgroup\":\"hairy\",\"orientation\":\"v\",\"showlegend\":true,\"textposition\":\"auto\",\"x\":[\"hairy\"],\"xaxis\":\"x\",\"y\":[0.02190476283431053],\"yaxis\":\"y\",\"type\":\"bar\"}],\"name\":\"2022-06\"},{\"data\":[{\"alignmentgroup\":\"True\",\"hovertemplate\":\"term=%{x}<br>date=2021-11<br>avg_sentiment=%{y}<extra></extra>\",\"ids\":[\"town\"],\"legendgroup\":\"town\",\"marker\":{\"color\":\"#636efa\",\"pattern\":{\"shape\":\"\"}},\"name\":\"town\",\"offsetgroup\":\"town\",\"orientation\":\"v\",\"showlegend\":true,\"textposition\":\"auto\",\"x\":[\"town\"],\"xaxis\":\"x\",\"y\":[-0.22083333134651184],\"yaxis\":\"y\",\"type\":\"bar\"},{\"alignmentgroup\":\"True\",\"hovertemplate\":\"term=%{x}<br>date=2021-11<br>avg_sentiment=%{y}<extra></extra>\",\"ids\":[\"closeset\"],\"legendgroup\":\"closeset\",\"marker\":{\"color\":\"#FF6692\",\"pattern\":{\"shape\":\"\"}},\"name\":\"closeset\",\"offsetgroup\":\"closeset\",\"orientation\":\"v\",\"showlegend\":true,\"textposition\":\"auto\",\"x\":[\"closeset\"],\"xaxis\":\"x\",\"y\":[0.3583333194255829],\"yaxis\":\"y\",\"type\":\"bar\"},{\"alignmentgroup\":\"True\",\"hovertemplate\":\"term=%{x}<br>date=2021-11<br>avg_sentiment=%{y}<extra></extra>\",\"ids\":[\"loooove\"],\"legendgroup\":\"loooove\",\"marker\":{\"color\":\"#FECB52\",\"pattern\":{\"shape\":\"\"}},\"name\":\"loooove\",\"offsetgroup\":\"loooove\",\"orientation\":\"v\",\"showlegend\":true,\"textposition\":\"auto\",\"x\":[\"loooove\"],\"xaxis\":\"x\",\"y\":[0.0],\"yaxis\":\"y\",\"type\":\"bar\"}],\"name\":\"2021-11\"}]);\n",
       "                        }).then(function(){\n",
       "                            \n",
       "var gd = document.getElementById('1667a8d9-7c18-4140-bb96-ef57cd766ca7');\n",
       "var x = new MutationObserver(function (mutations, observer) {{\n",
       "        var display = window.getComputedStyle(gd).display;\n",
       "        if (!display || display === 'none') {{\n",
       "            console.log([gd, 'removed!']);\n",
       "            Plotly.purge(gd);\n",
       "            observer.disconnect();\n",
       "        }}\n",
       "}});\n",
       "\n",
       "// Listen for the removal of the full notebook cells\n",
       "var notebookContainer = gd.closest('#notebook-container');\n",
       "if (notebookContainer) {{\n",
       "    x.observe(notebookContainer, {childList: true});\n",
       "}}\n",
       "\n",
       "// Listen for the clearing of the current output cell\n",
       "var outputEl = gd.closest('.output');\n",
       "if (outputEl) {{\n",
       "    x.observe(outputEl, {childList: true});\n",
       "}}\n",
       "\n",
       "                        })                };                });            </script>        </div>"
      ]
     },
     "metadata": {},
     "output_type": "display_data"
    }
   ],
   "source": [
    "\n",
    "import pandas as pd\n",
    "import plotly.express as px\n",
    "\n",
    "# Ensure 'date' column is in a suitable string format for Plotly\n",
    "monthly_grouped_data_pd['date'] = pd.to_datetime(monthly_grouped_data_pd[['year', 'month']].assign(DAY=1))\n",
    "monthly_grouped_data_pd['date'] = monthly_grouped_data_pd['date'].dt.strftime('%Y-%m')\n",
    "\n",
    "# Create a bar chart with animation\n",
    "fig = px.bar(monthly_grouped_data_pd, x='term', y='avg_sentiment', color='term',\n",
    "             animation_frame='date', animation_group='term',\n",
    "             range_y=[monthly_grouped_data_pd.avg_sentiment.min(), monthly_grouped_data_pd.avg_sentiment.max()],\n",
    "             title=\"Monthly Average Sentiment Score for Top 20 Terms\")\n",
    "\n",
    "fig.update_layout(showlegend=True, xaxis_title=\"Term\", yaxis_title=\"Average Sentiment\")\n",
    "fig.show()\n",
    "# Save the Plotly figure to an HTML file\n",
    "html_file_path = '../../data/plots/nlp_yyl/top_20_terms_sentiment.html'  # Adjust the path as needed\n",
    "fig.write_html(html_file_path)\n",
    "\n",
    "\n"
   ]
  },
  {
   "cell_type": "markdown",
   "id": "220f300d-7a1c-41dd-a432-1257ab199aaf",
   "metadata": {
    "tags": []
   },
   "source": [
    "Variability Over Time:\n",
    "\n",
    "Stability: Some terms show relatively stable sentiment scores over time. For example, \"aloe\" maintains a positive sentiment throughout, suggesting consistent perception.\n",
    "\n",
    "Fluctuation: Other terms exhibit more significant fluctuations. For instance, \"zippered\" and \"loooove\" have varied sentiment scores across different months, indicating changing perceptions or contexts in which they are discussed.\n",
    "Comparative Sentiment Analysis:\n",
    "\n",
    "Positive Terms: Terms like \"aloe\", \"iredale\", and \"loooove\" generally have higher sentiment scores, suggesting a positive perception.\n",
    "Negative Terms: Conversely, terms like \"dentist\" and \"hairy\" occasionally dip into negative sentiment scores, indicating less favorable perceptions at times.\n",
    "Contextual Trends:\n",
    "\n",
    "Seasonal Variations: Some terms may have sentiment scores that correlate with seasons or events. For example, \"hairy\" and \"dentist\" show fluctuating sentiments possibly tied to specific events or seasons.\n",
    "Consistent Terms: Terms like \"spread\" and \"small\" maintain a relatively consistent sentiment, possibly indicating a stable context or usage.\n",
    "Notable Observations:\n",
    "\n",
    "Significant Changes: Some terms show significant changes in sentiment from one year to another. For instance, \"iredale\" goes from negative to positive sentiment, which could be due to changing discussions or perceptions over time.\n",
    "High and Low Points: The term \"saying\" reaches a sentiment high of 0.5 in September 2022, while \"ideally\" drops to -0.46 in February 2021, highlighting their most polarized sentiment moments.\n",
    "Overall Sentiment Trends:\n",
    "\n",
    "The general trend for most terms is a mix of positive and negative sentiments, indicating diverse contexts and perceptions.\n",
    "Terms like \"careful\" and \"stained\" exhibit an upward trend in sentiment over time, suggesting improving perceptions or more positive contexts.\n",
    "\n"
   ]
  },
  {
   "cell_type": "markdown",
   "id": "a71c8ef3-545b-404e-87ce-c1cea8b360e9",
   "metadata": {},
   "source": [
    "\"Town\":\n",
    "\n",
    "Fluctuating Sentiment: Exhibits fluctuations from a low of -0.22 in November 2021 to a high of 0.1 in March 2023.\n",
    "Notable Dip: Significant negative sentiment in November 2021, possibly due to specific events or discussions.\n",
    "\n",
    "\"Aloe\":\n",
    "\n",
    "Generally Positive: Consistently positive sentiment across months, with the highest in May 2021 (0.226) and the lowest in April 2022 (-0.102).\n",
    "Stable Perception: The term seems to maintain a generally favorable perception.\n",
    "\n",
    "\"Hairbrush\":\n",
    "\n",
    "Varying Scores: Shows a wide range in sentiment from -0.125 in May 2022 to 0.25 in July 2021.\n",
    "Context Sensitivity: The sentiment seems to vary possibly due to the different contexts in which it's discussed.\n",
    "\n",
    "\"Zippered\":\n",
    "\n",
    "High Positive Score: Peaks at 0.367 in February 2021.\n",
    "Inconsistent Trend: Shows inconsistency in sentiment, which might suggest varied usage or context.\n",
    "\n",
    "\"Ideally\":\n",
    "\n",
    "Significant Negative in February 2021: Drops to -0.461, indicating a strongly negative perception or context.\n",
    "Recovery: Shows an upward trend in sentiment in later months, reaching 0.243 in September 2021.\n",
    "\n",
    "\"PayPal\":\n",
    "\n",
    "Generally Positive: Ranges from 0.125 in February 2023 to a high of 0.376 in April 2022.\n",
    "Positive Perception: Mostly positive sentiment, indicating favorable views or experiences related to PayPal.\n",
    "\n",
    "\"Hairy\":\n",
    "\n",
    "Varied Sentiment: Fluctuates from -0.102 in May 2021 to 0.18 in August 2022.\n",
    "Negative Peaks: Shows negative sentiment peaks, particularly in May 2021 and September 2022.\n",
    "\n",
    "\"Spread\":\n",
    "\n",
    "Consistent Positivity: Maintains positive sentiment, peaking at 0.24 in January 2022.\n",
    "Stable Positive Perception: Indicates a generally positive context or usage across different months.\n",
    "\n",
    "\"Dentist\":\n",
    "\n",
    "Mixed Sentiment: Ranges from -0.29 in March 2021 to a high of 0.4 in August 2022.\n",
    "Seasonal Influence: Possible seasonal influence on sentiment, with higher positive sentiment in summer months.\n",
    "\n",
    "\"Stained\":\n",
    "\n",
    "Fluctuating Scores: Ranges from -0.016 in September 2022 to a high of 0.218 in May 2021.\n",
    "Context-Dependent: The term's sentiment seems highly dependent on the context of discussion.\n",
    "\n",
    "\"Seduction\":\n",
    "\n",
    "Generally Low Scores: Maintains relatively low sentiment scores, peaking at 0.263 in August 2021.\n",
    "Varied Perception: The sentiment varies, suggesting different contexts or connotations.\n",
    "\n",
    "\"Looove\":\n",
    "\n",
    "High Positive Scores: Peaks at 0.633 in May 2021, indicating a very positive context.\n",
    "Negative Scores: Shows negative sentiment in 2022, indicating a shift in perception or context.\n",
    "\n",
    "\"Dabbling\":\n",
    "\n",
    "Generally Positive: Shows mostly positive sentiment, peaking at 0.148 in December 2022.\n",
    "Consistent Positive Context: Suggests a generally positive or favorable context in discussions.\n",
    "\n",
    "Conclusions:\n",
    "Contextual Sensitivity: The sentiment of terms like \"hairbrush\", \"hairy\", and \"zippered\" is sensitive to context, showing significant fluctuations.\n",
    "Stable vs. Variable Sentiments: Terms like \"aloe\" and \"spread\" maintain stable positive sentiments, while others like \"dentist\" and \"ideally\" show more variability.\n",
    "Seasonal Influences: Some terms exhibit seasonal sentiment trends, as seen with \"dentist\" and \"hairy\".\n",
    "Changing Perceptions: Terms like \"loooove\" show changing perceptions over time, evident from the shift from high positive to negative sentiments."
   ]
  },
  {
   "cell_type": "code",
   "execution_count": null,
   "id": "9a98743a-af28-4600-960d-8ed9dfad7b58",
   "metadata": {},
   "outputs": [],
   "source": []
  }
 ],
 "metadata": {
  "availableInstances": [
   {
    "_defaultOrder": 0,
    "_isFastLaunch": true,
    "category": "General purpose",
    "gpuNum": 0,
    "hideHardwareSpecs": false,
    "memoryGiB": 4,
    "name": "ml.t3.medium",
    "vcpuNum": 2
   },
   {
    "_defaultOrder": 1,
    "_isFastLaunch": false,
    "category": "General purpose",
    "gpuNum": 0,
    "hideHardwareSpecs": false,
    "memoryGiB": 8,
    "name": "ml.t3.large",
    "vcpuNum": 2
   },
   {
    "_defaultOrder": 2,
    "_isFastLaunch": false,
    "category": "General purpose",
    "gpuNum": 0,
    "hideHardwareSpecs": false,
    "memoryGiB": 16,
    "name": "ml.t3.xlarge",
    "vcpuNum": 4
   },
   {
    "_defaultOrder": 3,
    "_isFastLaunch": false,
    "category": "General purpose",
    "gpuNum": 0,
    "hideHardwareSpecs": false,
    "memoryGiB": 32,
    "name": "ml.t3.2xlarge",
    "vcpuNum": 8
   },
   {
    "_defaultOrder": 4,
    "_isFastLaunch": true,
    "category": "General purpose",
    "gpuNum": 0,
    "hideHardwareSpecs": false,
    "memoryGiB": 8,
    "name": "ml.m5.large",
    "vcpuNum": 2
   },
   {
    "_defaultOrder": 5,
    "_isFastLaunch": false,
    "category": "General purpose",
    "gpuNum": 0,
    "hideHardwareSpecs": false,
    "memoryGiB": 16,
    "name": "ml.m5.xlarge",
    "vcpuNum": 4
   },
   {
    "_defaultOrder": 6,
    "_isFastLaunch": false,
    "category": "General purpose",
    "gpuNum": 0,
    "hideHardwareSpecs": false,
    "memoryGiB": 32,
    "name": "ml.m5.2xlarge",
    "vcpuNum": 8
   },
   {
    "_defaultOrder": 7,
    "_isFastLaunch": false,
    "category": "General purpose",
    "gpuNum": 0,
    "hideHardwareSpecs": false,
    "memoryGiB": 64,
    "name": "ml.m5.4xlarge",
    "vcpuNum": 16
   },
   {
    "_defaultOrder": 8,
    "_isFastLaunch": false,
    "category": "General purpose",
    "gpuNum": 0,
    "hideHardwareSpecs": false,
    "memoryGiB": 128,
    "name": "ml.m5.8xlarge",
    "vcpuNum": 32
   },
   {
    "_defaultOrder": 9,
    "_isFastLaunch": false,
    "category": "General purpose",
    "gpuNum": 0,
    "hideHardwareSpecs": false,
    "memoryGiB": 192,
    "name": "ml.m5.12xlarge",
    "vcpuNum": 48
   },
   {
    "_defaultOrder": 10,
    "_isFastLaunch": false,
    "category": "General purpose",
    "gpuNum": 0,
    "hideHardwareSpecs": false,
    "memoryGiB": 256,
    "name": "ml.m5.16xlarge",
    "vcpuNum": 64
   },
   {
    "_defaultOrder": 11,
    "_isFastLaunch": false,
    "category": "General purpose",
    "gpuNum": 0,
    "hideHardwareSpecs": false,
    "memoryGiB": 384,
    "name": "ml.m5.24xlarge",
    "vcpuNum": 96
   },
   {
    "_defaultOrder": 12,
    "_isFastLaunch": false,
    "category": "General purpose",
    "gpuNum": 0,
    "hideHardwareSpecs": false,
    "memoryGiB": 8,
    "name": "ml.m5d.large",
    "vcpuNum": 2
   },
   {
    "_defaultOrder": 13,
    "_isFastLaunch": false,
    "category": "General purpose",
    "gpuNum": 0,
    "hideHardwareSpecs": false,
    "memoryGiB": 16,
    "name": "ml.m5d.xlarge",
    "vcpuNum": 4
   },
   {
    "_defaultOrder": 14,
    "_isFastLaunch": false,
    "category": "General purpose",
    "gpuNum": 0,
    "hideHardwareSpecs": false,
    "memoryGiB": 32,
    "name": "ml.m5d.2xlarge",
    "vcpuNum": 8
   },
   {
    "_defaultOrder": 15,
    "_isFastLaunch": false,
    "category": "General purpose",
    "gpuNum": 0,
    "hideHardwareSpecs": false,
    "memoryGiB": 64,
    "name": "ml.m5d.4xlarge",
    "vcpuNum": 16
   },
   {
    "_defaultOrder": 16,
    "_isFastLaunch": false,
    "category": "General purpose",
    "gpuNum": 0,
    "hideHardwareSpecs": false,
    "memoryGiB": 128,
    "name": "ml.m5d.8xlarge",
    "vcpuNum": 32
   },
   {
    "_defaultOrder": 17,
    "_isFastLaunch": false,
    "category": "General purpose",
    "gpuNum": 0,
    "hideHardwareSpecs": false,
    "memoryGiB": 192,
    "name": "ml.m5d.12xlarge",
    "vcpuNum": 48
   },
   {
    "_defaultOrder": 18,
    "_isFastLaunch": false,
    "category": "General purpose",
    "gpuNum": 0,
    "hideHardwareSpecs": false,
    "memoryGiB": 256,
    "name": "ml.m5d.16xlarge",
    "vcpuNum": 64
   },
   {
    "_defaultOrder": 19,
    "_isFastLaunch": false,
    "category": "General purpose",
    "gpuNum": 0,
    "hideHardwareSpecs": false,
    "memoryGiB": 384,
    "name": "ml.m5d.24xlarge",
    "vcpuNum": 96
   },
   {
    "_defaultOrder": 20,
    "_isFastLaunch": false,
    "category": "General purpose",
    "gpuNum": 0,
    "hideHardwareSpecs": true,
    "memoryGiB": 0,
    "name": "ml.geospatial.interactive",
    "supportedImageNames": [
     "sagemaker-geospatial-v1-0"
    ],
    "vcpuNum": 0
   },
   {
    "_defaultOrder": 21,
    "_isFastLaunch": true,
    "category": "Compute optimized",
    "gpuNum": 0,
    "hideHardwareSpecs": false,
    "memoryGiB": 4,
    "name": "ml.c5.large",
    "vcpuNum": 2
   },
   {
    "_defaultOrder": 22,
    "_isFastLaunch": false,
    "category": "Compute optimized",
    "gpuNum": 0,
    "hideHardwareSpecs": false,
    "memoryGiB": 8,
    "name": "ml.c5.xlarge",
    "vcpuNum": 4
   },
   {
    "_defaultOrder": 23,
    "_isFastLaunch": false,
    "category": "Compute optimized",
    "gpuNum": 0,
    "hideHardwareSpecs": false,
    "memoryGiB": 16,
    "name": "ml.c5.2xlarge",
    "vcpuNum": 8
   },
   {
    "_defaultOrder": 24,
    "_isFastLaunch": false,
    "category": "Compute optimized",
    "gpuNum": 0,
    "hideHardwareSpecs": false,
    "memoryGiB": 32,
    "name": "ml.c5.4xlarge",
    "vcpuNum": 16
   },
   {
    "_defaultOrder": 25,
    "_isFastLaunch": false,
    "category": "Compute optimized",
    "gpuNum": 0,
    "hideHardwareSpecs": false,
    "memoryGiB": 72,
    "name": "ml.c5.9xlarge",
    "vcpuNum": 36
   },
   {
    "_defaultOrder": 26,
    "_isFastLaunch": false,
    "category": "Compute optimized",
    "gpuNum": 0,
    "hideHardwareSpecs": false,
    "memoryGiB": 96,
    "name": "ml.c5.12xlarge",
    "vcpuNum": 48
   },
   {
    "_defaultOrder": 27,
    "_isFastLaunch": false,
    "category": "Compute optimized",
    "gpuNum": 0,
    "hideHardwareSpecs": false,
    "memoryGiB": 144,
    "name": "ml.c5.18xlarge",
    "vcpuNum": 72
   },
   {
    "_defaultOrder": 28,
    "_isFastLaunch": false,
    "category": "Compute optimized",
    "gpuNum": 0,
    "hideHardwareSpecs": false,
    "memoryGiB": 192,
    "name": "ml.c5.24xlarge",
    "vcpuNum": 96
   },
   {
    "_defaultOrder": 29,
    "_isFastLaunch": true,
    "category": "Accelerated computing",
    "gpuNum": 1,
    "hideHardwareSpecs": false,
    "memoryGiB": 16,
    "name": "ml.g4dn.xlarge",
    "vcpuNum": 4
   },
   {
    "_defaultOrder": 30,
    "_isFastLaunch": false,
    "category": "Accelerated computing",
    "gpuNum": 1,
    "hideHardwareSpecs": false,
    "memoryGiB": 32,
    "name": "ml.g4dn.2xlarge",
    "vcpuNum": 8
   },
   {
    "_defaultOrder": 31,
    "_isFastLaunch": false,
    "category": "Accelerated computing",
    "gpuNum": 1,
    "hideHardwareSpecs": false,
    "memoryGiB": 64,
    "name": "ml.g4dn.4xlarge",
    "vcpuNum": 16
   },
   {
    "_defaultOrder": 32,
    "_isFastLaunch": false,
    "category": "Accelerated computing",
    "gpuNum": 1,
    "hideHardwareSpecs": false,
    "memoryGiB": 128,
    "name": "ml.g4dn.8xlarge",
    "vcpuNum": 32
   },
   {
    "_defaultOrder": 33,
    "_isFastLaunch": false,
    "category": "Accelerated computing",
    "gpuNum": 4,
    "hideHardwareSpecs": false,
    "memoryGiB": 192,
    "name": "ml.g4dn.12xlarge",
    "vcpuNum": 48
   },
   {
    "_defaultOrder": 34,
    "_isFastLaunch": false,
    "category": "Accelerated computing",
    "gpuNum": 1,
    "hideHardwareSpecs": false,
    "memoryGiB": 256,
    "name": "ml.g4dn.16xlarge",
    "vcpuNum": 64
   },
   {
    "_defaultOrder": 35,
    "_isFastLaunch": false,
    "category": "Accelerated computing",
    "gpuNum": 1,
    "hideHardwareSpecs": false,
    "memoryGiB": 61,
    "name": "ml.p3.2xlarge",
    "vcpuNum": 8
   },
   {
    "_defaultOrder": 36,
    "_isFastLaunch": false,
    "category": "Accelerated computing",
    "gpuNum": 4,
    "hideHardwareSpecs": false,
    "memoryGiB": 244,
    "name": "ml.p3.8xlarge",
    "vcpuNum": 32
   },
   {
    "_defaultOrder": 37,
    "_isFastLaunch": false,
    "category": "Accelerated computing",
    "gpuNum": 8,
    "hideHardwareSpecs": false,
    "memoryGiB": 488,
    "name": "ml.p3.16xlarge",
    "vcpuNum": 64
   },
   {
    "_defaultOrder": 38,
    "_isFastLaunch": false,
    "category": "Accelerated computing",
    "gpuNum": 8,
    "hideHardwareSpecs": false,
    "memoryGiB": 768,
    "name": "ml.p3dn.24xlarge",
    "vcpuNum": 96
   },
   {
    "_defaultOrder": 39,
    "_isFastLaunch": false,
    "category": "Memory Optimized",
    "gpuNum": 0,
    "hideHardwareSpecs": false,
    "memoryGiB": 16,
    "name": "ml.r5.large",
    "vcpuNum": 2
   },
   {
    "_defaultOrder": 40,
    "_isFastLaunch": false,
    "category": "Memory Optimized",
    "gpuNum": 0,
    "hideHardwareSpecs": false,
    "memoryGiB": 32,
    "name": "ml.r5.xlarge",
    "vcpuNum": 4
   },
   {
    "_defaultOrder": 41,
    "_isFastLaunch": false,
    "category": "Memory Optimized",
    "gpuNum": 0,
    "hideHardwareSpecs": false,
    "memoryGiB": 64,
    "name": "ml.r5.2xlarge",
    "vcpuNum": 8
   },
   {
    "_defaultOrder": 42,
    "_isFastLaunch": false,
    "category": "Memory Optimized",
    "gpuNum": 0,
    "hideHardwareSpecs": false,
    "memoryGiB": 128,
    "name": "ml.r5.4xlarge",
    "vcpuNum": 16
   },
   {
    "_defaultOrder": 43,
    "_isFastLaunch": false,
    "category": "Memory Optimized",
    "gpuNum": 0,
    "hideHardwareSpecs": false,
    "memoryGiB": 256,
    "name": "ml.r5.8xlarge",
    "vcpuNum": 32
   },
   {
    "_defaultOrder": 44,
    "_isFastLaunch": false,
    "category": "Memory Optimized",
    "gpuNum": 0,
    "hideHardwareSpecs": false,
    "memoryGiB": 384,
    "name": "ml.r5.12xlarge",
    "vcpuNum": 48
   },
   {
    "_defaultOrder": 45,
    "_isFastLaunch": false,
    "category": "Memory Optimized",
    "gpuNum": 0,
    "hideHardwareSpecs": false,
    "memoryGiB": 512,
    "name": "ml.r5.16xlarge",
    "vcpuNum": 64
   },
   {
    "_defaultOrder": 46,
    "_isFastLaunch": false,
    "category": "Memory Optimized",
    "gpuNum": 0,
    "hideHardwareSpecs": false,
    "memoryGiB": 768,
    "name": "ml.r5.24xlarge",
    "vcpuNum": 96
   },
   {
    "_defaultOrder": 47,
    "_isFastLaunch": false,
    "category": "Accelerated computing",
    "gpuNum": 1,
    "hideHardwareSpecs": false,
    "memoryGiB": 16,
    "name": "ml.g5.xlarge",
    "vcpuNum": 4
   },
   {
    "_defaultOrder": 48,
    "_isFastLaunch": false,
    "category": "Accelerated computing",
    "gpuNum": 1,
    "hideHardwareSpecs": false,
    "memoryGiB": 32,
    "name": "ml.g5.2xlarge",
    "vcpuNum": 8
   },
   {
    "_defaultOrder": 49,
    "_isFastLaunch": false,
    "category": "Accelerated computing",
    "gpuNum": 1,
    "hideHardwareSpecs": false,
    "memoryGiB": 64,
    "name": "ml.g5.4xlarge",
    "vcpuNum": 16
   },
   {
    "_defaultOrder": 50,
    "_isFastLaunch": false,
    "category": "Accelerated computing",
    "gpuNum": 1,
    "hideHardwareSpecs": false,
    "memoryGiB": 128,
    "name": "ml.g5.8xlarge",
    "vcpuNum": 32
   },
   {
    "_defaultOrder": 51,
    "_isFastLaunch": false,
    "category": "Accelerated computing",
    "gpuNum": 1,
    "hideHardwareSpecs": false,
    "memoryGiB": 256,
    "name": "ml.g5.16xlarge",
    "vcpuNum": 64
   },
   {
    "_defaultOrder": 52,
    "_isFastLaunch": false,
    "category": "Accelerated computing",
    "gpuNum": 4,
    "hideHardwareSpecs": false,
    "memoryGiB": 192,
    "name": "ml.g5.12xlarge",
    "vcpuNum": 48
   },
   {
    "_defaultOrder": 53,
    "_isFastLaunch": false,
    "category": "Accelerated computing",
    "gpuNum": 4,
    "hideHardwareSpecs": false,
    "memoryGiB": 384,
    "name": "ml.g5.24xlarge",
    "vcpuNum": 96
   },
   {
    "_defaultOrder": 54,
    "_isFastLaunch": false,
    "category": "Accelerated computing",
    "gpuNum": 8,
    "hideHardwareSpecs": false,
    "memoryGiB": 768,
    "name": "ml.g5.48xlarge",
    "vcpuNum": 192
   },
   {
    "_defaultOrder": 55,
    "_isFastLaunch": false,
    "category": "Accelerated computing",
    "gpuNum": 8,
    "hideHardwareSpecs": false,
    "memoryGiB": 1152,
    "name": "ml.p4d.24xlarge",
    "vcpuNum": 96
   },
   {
    "_defaultOrder": 56,
    "_isFastLaunch": false,
    "category": "Accelerated computing",
    "gpuNum": 8,
    "hideHardwareSpecs": false,
    "memoryGiB": 1152,
    "name": "ml.p4de.24xlarge",
    "vcpuNum": 96
   },
   {
    "_defaultOrder": 57,
    "_isFastLaunch": false,
    "category": "Accelerated computing",
    "gpuNum": 0,
    "hideHardwareSpecs": false,
    "memoryGiB": 32,
    "name": "ml.trn1.2xlarge",
    "vcpuNum": 8
   },
   {
    "_defaultOrder": 58,
    "_isFastLaunch": false,
    "category": "Accelerated computing",
    "gpuNum": 0,
    "hideHardwareSpecs": false,
    "memoryGiB": 512,
    "name": "ml.trn1.32xlarge",
    "vcpuNum": 128
   },
   {
    "_defaultOrder": 59,
    "_isFastLaunch": false,
    "category": "Accelerated computing",
    "gpuNum": 0,
    "hideHardwareSpecs": false,
    "memoryGiB": 512,
    "name": "ml.trn1n.32xlarge",
    "vcpuNum": 128
   }
  ],
  "instance_type": "ml.t3.xlarge",
  "kernelspec": {
   "display_name": "Python 3 (Data Science 3.0)",
   "language": "python",
   "name": "python3__SAGEMAKER_INTERNAL__arn:aws:sagemaker:us-east-1:081325390199:image/sagemaker-data-science-310-v1"
  },
  "language_info": {
   "codemirror_mode": {
    "name": "ipython",
    "version": 3
   },
   "file_extension": ".py",
   "mimetype": "text/x-python",
   "name": "python",
   "nbconvert_exporter": "python",
   "pygments_lexer": "ipython3",
   "version": "3.10.6"
  }
 },
 "nbformat": 4,
 "nbformat_minor": 5
}
