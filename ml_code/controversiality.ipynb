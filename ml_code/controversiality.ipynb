{
 "cells": [
  {
   "cell_type": "markdown",
   "id": "1b30717e-7543-41a8-a2c9-06873d9a4811",
   "metadata": {},
   "source": [
    "## Predicting Controversiality of Comment Content\n",
    "\n",
    "### Data Preprocessing:\n",
    "\n",
    "### Select relevant variables\n",
    "Choose relevant columns to do the predictive analysis\n",
    "\n",
    "\n",
    "#### Handle Missing Values:\n",
    "Check for missing values in the DataFrame and decide on a strategy for handling them, such as imputation or removal.\n",
    "\n",
    "\n",
    "#### Convert Timestamp Variables:\n",
    "Extract relevant features from timestamp variables like 'created_utc' and 'retrieved_on' (e.g., day of the week, hour of the day).\n",
    "\n",
    "\n",
    "### Split the Data:\n",
    "\n",
    "Split the DataFrame into training and testing sets to evaluate the model's performance.\n",
    "\n",
    "### Build a Predictive Model:\n",
    "\n",
    "#### Choose a Machine Learning Model:\n",
    "Select a model suitable for predicting the target variable (controversiality). Common choices include decision trees, random forests, support vector machines, or gradient boosting algorithms.\n",
    "\n",
    "#### Train the Model:\n",
    "Use the training set to train the selected model.\n",
    "\n",
    "### Model Evaluation:\n",
    "\n",
    "Evaluate the model on the testing set using appropriate evaluation metrics such as accuracy, precision, recall, or F1 score.\n",
    "\n",
    "#### Tune Hyperparameters:\n",
    "Optimize the model's hyperparameters to improve performance.\n",
    "\n",
    "### Interpret Results:\n",
    "\n",
    "#### Analyze Predictions:\n",
    "Examine the model's predictions and understand the importance of each feature in predicting controversiality.\n",
    "\n",
    "#### Iterate and Improve:\n",
    "Based on the results, refine the model or consider additional features to enhance predictive performance.\n"
   ]
  },
  {
   "cell_type": "code",
   "execution_count": 8,
   "id": "f53c5551-adb7-466e-a5bf-3b0663401f89",
   "metadata": {
    "tags": []
   },
   "outputs": [
    {
     "name": "stdout",
     "output_type": "stream",
     "text": [
      "Collecting package metadata (current_repodata.json): done\n",
      "Solving environment: done\n",
      "\n",
      "\n",
      "==> WARNING: A newer version of conda exists. <==\n",
      "  current version: 23.3.1\n",
      "  latest version: 23.10.0\n",
      "\n",
      "Please update conda by running\n",
      "\n",
      "    $ conda update -n base -c defaults conda\n",
      "\n",
      "Or to minimize the number of packages updated during conda update use\n",
      "\n",
      "     conda install conda=23.10.0\n",
      "\n",
      "\n",
      "\n",
      "## Package Plan ##\n",
      "\n",
      "  environment location: /opt/conda\n",
      "\n",
      "  added / updated specs:\n",
      "    - openjdk\n",
      "\n",
      "\n",
      "The following packages will be downloaded:\n",
      "\n",
      "    package                    |            build\n",
      "    ---------------------------|-----------------\n",
      "    ca-certificates-2023.08.22 |       h06a4308_0         123 KB\n",
      "    certifi-2023.11.17         |  py310h06a4308_0         158 KB\n",
      "    openjdk-11.0.13            |       h87a67e3_0       341.0 MB\n",
      "    ------------------------------------------------------------\n",
      "                                           Total:       341.3 MB\n",
      "\n",
      "The following NEW packages will be INSTALLED:\n",
      "\n",
      "  openjdk            pkgs/main/linux-64::openjdk-11.0.13-h87a67e3_0 \n",
      "\n",
      "The following packages will be UPDATED:\n",
      "\n",
      "  ca-certificates    conda-forge::ca-certificates-2023.7.2~ --> pkgs/main::ca-certificates-2023.08.22-h06a4308_0 \n",
      "  certifi            conda-forge/noarch::certifi-2023.7.22~ --> pkgs/main/linux-64::certifi-2023.11.17-py310h06a4308_0 \n",
      "\n",
      "\n",
      "\n",
      "Downloading and Extracting Packages\n",
      "ca-certificates-2023 | 123 KB    |                                       |   0% \n",
      "certifi-2023.11.17   | 158 KB    |                                       |   0% \u001b[A\n",
      "\n",
      "ca-certificates-2023 | 123 KB    | ##################################### | 100% \u001b[A\u001b[A\n",
      "certifi-2023.11.17   | 158 KB    | ##################################### | 100% \u001b[A\n",
      "\n",
      "openjdk-11.0.13      | 341.0 MB  | 3                                     |   1% \u001b[A\u001b[A\n",
      "\n",
      "openjdk-11.0.13      | 341.0 MB  | #9                                    |   5% \u001b[A\u001b[A\n",
      "\n",
      "openjdk-11.0.13      | 341.0 MB  | ###6                                  |  10% \u001b[A\u001b[A\n",
      "\n",
      "openjdk-11.0.13      | 341.0 MB  | #####2                                |  14% \u001b[A\u001b[A\n",
      "\n",
      "openjdk-11.0.13      | 341.0 MB  | ######9                               |  19% \u001b[A\u001b[A\n",
      "\n",
      "openjdk-11.0.13      | 341.0 MB  | ########6                             |  23% \u001b[A\u001b[A\n",
      "\n",
      "openjdk-11.0.13      | 341.0 MB  | ##########4                           |  28% \u001b[A\u001b[A\n",
      "\n",
      "openjdk-11.0.13      | 341.0 MB  | ############5                         |  34% \u001b[A\u001b[A\n",
      "\n",
      "openjdk-11.0.13      | 341.0 MB  | ##############4                       |  39% \u001b[A\u001b[A\n",
      "\n",
      "openjdk-11.0.13      | 341.0 MB  | ################2                     |  44% \u001b[A\u001b[A\n",
      "\n",
      "openjdk-11.0.13      | 341.0 MB  | #################8                    |  48% \u001b[A\u001b[A\n",
      "\n",
      "openjdk-11.0.13      | 341.0 MB  | ###################3                  |  52% \u001b[A\u001b[A\n",
      "\n",
      "openjdk-11.0.13      | 341.0 MB  | ####################9                 |  57% \u001b[A\u001b[A\n",
      "\n",
      "openjdk-11.0.13      | 341.0 MB  | ######################5               |  61% \u001b[A\u001b[A\n",
      "\n",
      "openjdk-11.0.13      | 341.0 MB  | ########################1             |  65% \u001b[A\u001b[A\n",
      "\n",
      "openjdk-11.0.13      | 341.0 MB  | #########################7            |  69% \u001b[A\u001b[A\n",
      "\n",
      "openjdk-11.0.13      | 341.0 MB  | ###########################1          |  73% \u001b[A\u001b[A\n",
      "\n",
      "openjdk-11.0.13      | 341.0 MB  | ############################6         |  77% \u001b[A\u001b[A\n",
      "\n",
      "openjdk-11.0.13      | 341.0 MB  | ##############################2       |  82% \u001b[A\u001b[A\n",
      "\n",
      "openjdk-11.0.13      | 341.0 MB  | ###############################7      |  86% \u001b[A\u001b[A\n",
      "\n",
      "openjdk-11.0.13      | 341.0 MB  | #################################3    |  90% \u001b[A\u001b[A\n",
      "\n",
      "openjdk-11.0.13      | 341.0 MB  | ##################################8   |  94% \u001b[A\u001b[A\n",
      "\n",
      "openjdk-11.0.13      | 341.0 MB  | ####################################3 |  98% \u001b[A\u001b[A\n",
      "\n",
      "                                                                                \u001b[A\u001b[A\n",
      "                                                                                \u001b[A\n",
      "\n",
      "                                                                                \u001b[A\u001b[A\n",
      "Preparing transaction: done\n",
      "Verifying transaction: done\n",
      "Executing transaction: done\n",
      "\n",
      "Note: you may need to restart the kernel to use updated packages.\n",
      "Collecting pyspark==3.4.0\n",
      "  Using cached pyspark-3.4.0-py2.py3-none-any.whl\n",
      "Collecting py4j==0.10.9.7 (from pyspark==3.4.0)\n",
      "  Using cached py4j-0.10.9.7-py2.py3-none-any.whl (200 kB)\n",
      "Installing collected packages: py4j, pyspark\n",
      "Successfully installed py4j-0.10.9.7 pyspark-3.4.0\n",
      "\u001b[33mWARNING: Running pip as the 'root' user can result in broken permissions and conflicting behaviour with the system package manager. It is recommended to use a virtual environment instead: https://pip.pypa.io/warnings/venv\u001b[0m\u001b[33m\n",
      "\u001b[0m\n",
      "\u001b[1m[\u001b[0m\u001b[34;49mnotice\u001b[0m\u001b[1;39;49m]\u001b[0m\u001b[39;49m A new release of pip is available: \u001b[0m\u001b[31;49m23.2.1\u001b[0m\u001b[39;49m -> \u001b[0m\u001b[32;49m23.3.1\u001b[0m\n",
      "\u001b[1m[\u001b[0m\u001b[34;49mnotice\u001b[0m\u001b[1;39;49m]\u001b[0m\u001b[39;49m To update, run: \u001b[0m\u001b[32;49mpip install --upgrade pip\u001b[0m\n",
      "Note: you may need to restart the kernel to use updated packages.\n",
      "Collecting spark-nlp==5.1.3\n",
      "  Obtaining dependency information for spark-nlp==5.1.3 from https://files.pythonhosted.org/packages/cd/7d/bc0eca4c9ec4c9c1d9b28c42c2f07942af70980a7d912d0aceebf8db32dd/spark_nlp-5.1.3-py2.py3-none-any.whl.metadata\n",
      "  Using cached spark_nlp-5.1.3-py2.py3-none-any.whl.metadata (53 kB)\n",
      "Using cached spark_nlp-5.1.3-py2.py3-none-any.whl (537 kB)\n",
      "Installing collected packages: spark-nlp\n",
      "Successfully installed spark-nlp-5.1.3\n",
      "\u001b[33mWARNING: Running pip as the 'root' user can result in broken permissions and conflicting behaviour with the system package manager. It is recommended to use a virtual environment instead: https://pip.pypa.io/warnings/venv\u001b[0m\u001b[33m\n",
      "\u001b[0m\n",
      "\u001b[1m[\u001b[0m\u001b[34;49mnotice\u001b[0m\u001b[1;39;49m]\u001b[0m\u001b[39;49m A new release of pip is available: \u001b[0m\u001b[31;49m23.2.1\u001b[0m\u001b[39;49m -> \u001b[0m\u001b[32;49m23.3.1\u001b[0m\n",
      "\u001b[1m[\u001b[0m\u001b[34;49mnotice\u001b[0m\u001b[1;39;49m]\u001b[0m\u001b[39;49m To update, run: \u001b[0m\u001b[32;49mpip install --upgrade pip\u001b[0m\n",
      "Note: you may need to restart the kernel to use updated packages.\n"
     ]
    },
    {
     "data": {
      "text/html": [
       "<script>Jupyter.notebook.kernel.restart()</script>"
      ],
      "text/plain": [
       "<IPython.core.display.HTML object>"
      ]
     },
     "execution_count": 8,
     "metadata": {},
     "output_type": "execute_result"
    }
   ],
   "source": [
    "# Setup - Run only once per Kernel App\n",
    "%conda install openjdk -y\n",
    "\n",
    "# install PySpark\n",
    "# install Python Reddit API Wrapper for getting external data Karma\n",
    "%pip install pyspark==3.4.0\n",
    "# install spark-nlp\n",
    "%pip install spark-nlp==5.1.3\n",
    "\n",
    "# restart kernel\n",
    "from IPython.core.display import HTML\n",
    "HTML(\"<script>Jupyter.notebook.kernel.restart()</script>\")\n"
   ]
  },
  {
   "cell_type": "code",
   "execution_count": 9,
   "id": "010e43e8-e381-4eeb-a328-301af55447a6",
   "metadata": {
    "tags": []
   },
   "outputs": [],
   "source": [
    "from pyspark.sql import SparkSession\n",
    "import pyspark.sql.functions as F\n",
    "import pandas as pd\n",
    "\n",
    "import sparknlp\n",
    "from sparknlp.base import *\n",
    "from pyspark.ml import Pipeline\n",
    "from sparknlp.annotator import *\n",
    "from sparknlp.pretrained import PretrainedPipeline\n",
    "from pyspark.ml.feature import CountVectorizer, StopWordsRemover,Tokenizer\n",
    "from pyspark.ml import Pipeline\n",
    "\n",
    "import plotly.graph_objects as go\n",
    "\n",
    "from pyspark.sql.types import ArrayType, StringType\n",
    "from pyspark.sql.functions import udf\n",
    "import numpy as np\n",
    "\n",
    "from nltk.stem import WordNetLemmatizer\n",
    "import nltk\n",
    "from pyspark.sql.functions import udf\n",
    "from pyspark.sql.types import ArrayType, StringType"
   ]
  },
  {
   "cell_type": "code",
   "execution_count": 10,
   "id": "b2b46771-7505-4d48-8715-7fe43fa86ed8",
   "metadata": {
    "tags": []
   },
   "outputs": [
    {
     "name": "stderr",
     "output_type": "stream",
     "text": [
      "Warning: Ignoring non-Spark config property: fs.s3a.aws.credentials.provider\n"
     ]
    },
    {
     "name": "stdout",
     "output_type": "stream",
     "text": [
      ":: loading settings :: url = jar:file:/opt/conda/lib/python3.10/site-packages/pyspark/jars/ivy-2.5.1.jar!/org/apache/ivy/core/settings/ivysettings.xml\n"
     ]
    },
    {
     "name": "stderr",
     "output_type": "stream",
     "text": [
      "Ivy Default Cache set to: /root/.ivy2/cache\n",
      "The jars for the packages stored in: /root/.ivy2/jars\n",
      "com.johnsnowlabs.nlp#spark-nlp_2.12 added as a dependency\n",
      "org.apache.hadoop#hadoop-aws added as a dependency\n",
      ":: resolving dependencies :: org.apache.spark#spark-submit-parent-f406bcb8-9e47-4133-b2e2-94262facbf6f;1.0\n",
      "\tconfs: [default]\n",
      "\tfound com.johnsnowlabs.nlp#spark-nlp_2.12;5.1.3 in central\n",
      "\tfound com.typesafe#config;1.4.2 in central\n",
      "\tfound org.rocksdb#rocksdbjni;6.29.5 in central\n",
      "\tfound com.amazonaws#aws-java-sdk-bundle;1.11.828 in central\n",
      "\tfound com.github.universal-automata#liblevenshtein;3.0.0 in central\n",
      "\tfound com.google.protobuf#protobuf-java-util;3.0.0-beta-3 in central\n",
      "\tfound com.google.protobuf#protobuf-java;3.0.0-beta-3 in central\n",
      "\tfound com.google.code.gson#gson;2.3 in central\n",
      "\tfound it.unimi.dsi#fastutil;7.0.12 in central\n",
      "\tfound org.projectlombok#lombok;1.16.8 in central\n",
      "\tfound com.google.cloud#google-cloud-storage;2.20.1 in central\n",
      "\tfound com.google.guava#guava;31.1-jre in central\n",
      "\tfound com.google.guava#failureaccess;1.0.1 in central\n",
      "\tfound com.google.guava#listenablefuture;9999.0-empty-to-avoid-conflict-with-guava in central\n",
      "\tfound com.google.errorprone#error_prone_annotations;2.18.0 in central\n",
      "\tfound com.google.j2objc#j2objc-annotations;1.3 in central\n",
      "\tfound com.google.http-client#google-http-client;1.43.0 in central\n",
      "\tfound io.opencensus#opencensus-contrib-http-util;0.31.1 in central\n",
      "\tfound com.google.http-client#google-http-client-jackson2;1.43.0 in central\n",
      "\tfound com.google.http-client#google-http-client-gson;1.43.0 in central\n",
      "\tfound com.google.api-client#google-api-client;2.2.0 in central\n",
      "\tfound commons-codec#commons-codec;1.15 in central\n",
      "\tfound com.google.oauth-client#google-oauth-client;1.34.1 in central\n",
      "\tfound com.google.http-client#google-http-client-apache-v2;1.43.0 in central\n",
      "\tfound com.google.apis#google-api-services-storage;v1-rev20220705-2.0.0 in central\n",
      "\tfound com.google.code.gson#gson;2.10.1 in central\n",
      "\tfound com.google.cloud#google-cloud-core;2.12.0 in central\n",
      "\tfound io.grpc#grpc-context;1.53.0 in central\n",
      "\tfound com.google.auto.value#auto-value-annotations;1.10.1 in central\n",
      "\tfound com.google.auto.value#auto-value;1.10.1 in central\n",
      "\tfound javax.annotation#javax.annotation-api;1.3.2 in central\n",
      "\tfound commons-logging#commons-logging;1.2 in central\n",
      "\tfound com.google.cloud#google-cloud-core-http;2.12.0 in central\n",
      "\tfound com.google.http-client#google-http-client-appengine;1.43.0 in central\n",
      "\tfound com.google.api#gax-httpjson;0.108.2 in central\n",
      "\tfound com.google.cloud#google-cloud-core-grpc;2.12.0 in central\n",
      "\tfound io.grpc#grpc-alts;1.53.0 in central\n",
      "\tfound io.grpc#grpc-grpclb;1.53.0 in central\n",
      "\tfound org.conscrypt#conscrypt-openjdk-uber;2.5.2 in central\n",
      "\tfound io.grpc#grpc-auth;1.53.0 in central\n",
      "\tfound io.grpc#grpc-protobuf;1.53.0 in central\n",
      "\tfound io.grpc#grpc-protobuf-lite;1.53.0 in central\n",
      "\tfound io.grpc#grpc-core;1.53.0 in central\n",
      "\tfound com.google.api#gax;2.23.2 in central\n",
      "\tfound com.google.api#gax-grpc;2.23.2 in central\n",
      "\tfound com.google.auth#google-auth-library-credentials;1.16.0 in central\n",
      "\tfound com.google.auth#google-auth-library-oauth2-http;1.16.0 in central\n",
      "\tfound com.google.api#api-common;2.6.2 in central\n",
      "\tfound io.opencensus#opencensus-api;0.31.1 in central\n",
      "\tfound com.google.api.grpc#proto-google-iam-v1;1.9.2 in central\n",
      "\tfound com.google.protobuf#protobuf-java;3.21.12 in central\n",
      "\tfound com.google.protobuf#protobuf-java-util;3.21.12 in central\n",
      "\tfound com.google.api.grpc#proto-google-common-protos;2.14.2 in central\n",
      "\tfound org.threeten#threetenbp;1.6.5 in central\n",
      "\tfound com.google.api.grpc#proto-google-cloud-storage-v2;2.20.1-alpha in central\n",
      "\tfound com.google.api.grpc#grpc-google-cloud-storage-v2;2.20.1-alpha in central\n",
      "\tfound com.google.api.grpc#gapic-google-cloud-storage-v2;2.20.1-alpha in central\n",
      "\tfound com.fasterxml.jackson.core#jackson-core;2.14.2 in central\n",
      "\tfound com.google.code.findbugs#jsr305;3.0.2 in central\n",
      "\tfound io.grpc#grpc-api;1.53.0 in central\n",
      "\tfound io.grpc#grpc-stub;1.53.0 in central\n",
      "\tfound org.checkerframework#checker-qual;3.31.0 in central\n",
      "\tfound io.perfmark#perfmark-api;0.26.0 in central\n",
      "\tfound com.google.android#annotations;4.1.1.4 in central\n",
      "\tfound org.codehaus.mojo#animal-sniffer-annotations;1.22 in central\n",
      "\tfound io.opencensus#opencensus-proto;0.2.0 in central\n",
      "\tfound io.grpc#grpc-services;1.53.0 in central\n",
      "\tfound com.google.re2j#re2j;1.6 in central\n",
      "\tfound io.grpc#grpc-netty-shaded;1.53.0 in central\n",
      "\tfound io.grpc#grpc-googleapis;1.53.0 in central\n",
      "\tfound io.grpc#grpc-xds;1.53.0 in central\n",
      "\tfound com.navigamez#greex;1.0 in central\n",
      "\tfound dk.brics.automaton#automaton;1.11-8 in central\n",
      "\tfound com.johnsnowlabs.nlp#tensorflow-cpu_2.12;0.4.4 in central\n",
      "\tfound com.microsoft.onnxruntime#onnxruntime;1.15.0 in central\n",
      "\tfound org.apache.hadoop#hadoop-aws;3.2.2 in central\n",
      ":: resolution report :: resolve 5011ms :: artifacts dl 560ms\n",
      "\t:: modules in use:\n",
      "\tcom.amazonaws#aws-java-sdk-bundle;1.11.828 from central in [default]\n",
      "\tcom.fasterxml.jackson.core#jackson-core;2.14.2 from central in [default]\n",
      "\tcom.github.universal-automata#liblevenshtein;3.0.0 from central in [default]\n",
      "\tcom.google.android#annotations;4.1.1.4 from central in [default]\n",
      "\tcom.google.api#api-common;2.6.2 from central in [default]\n",
      "\tcom.google.api#gax;2.23.2 from central in [default]\n",
      "\tcom.google.api#gax-grpc;2.23.2 from central in [default]\n",
      "\tcom.google.api#gax-httpjson;0.108.2 from central in [default]\n",
      "\tcom.google.api-client#google-api-client;2.2.0 from central in [default]\n",
      "\tcom.google.api.grpc#gapic-google-cloud-storage-v2;2.20.1-alpha from central in [default]\n",
      "\tcom.google.api.grpc#grpc-google-cloud-storage-v2;2.20.1-alpha from central in [default]\n",
      "\tcom.google.api.grpc#proto-google-cloud-storage-v2;2.20.1-alpha from central in [default]\n",
      "\tcom.google.api.grpc#proto-google-common-protos;2.14.2 from central in [default]\n",
      "\tcom.google.api.grpc#proto-google-iam-v1;1.9.2 from central in [default]\n",
      "\tcom.google.apis#google-api-services-storage;v1-rev20220705-2.0.0 from central in [default]\n",
      "\tcom.google.auth#google-auth-library-credentials;1.16.0 from central in [default]\n",
      "\tcom.google.auth#google-auth-library-oauth2-http;1.16.0 from central in [default]\n",
      "\tcom.google.auto.value#auto-value;1.10.1 from central in [default]\n",
      "\tcom.google.auto.value#auto-value-annotations;1.10.1 from central in [default]\n",
      "\tcom.google.cloud#google-cloud-core;2.12.0 from central in [default]\n",
      "\tcom.google.cloud#google-cloud-core-grpc;2.12.0 from central in [default]\n",
      "\tcom.google.cloud#google-cloud-core-http;2.12.0 from central in [default]\n",
      "\tcom.google.cloud#google-cloud-storage;2.20.1 from central in [default]\n",
      "\tcom.google.code.findbugs#jsr305;3.0.2 from central in [default]\n",
      "\tcom.google.code.gson#gson;2.10.1 from central in [default]\n",
      "\tcom.google.errorprone#error_prone_annotations;2.18.0 from central in [default]\n",
      "\tcom.google.guava#failureaccess;1.0.1 from central in [default]\n",
      "\tcom.google.guava#guava;31.1-jre from central in [default]\n",
      "\tcom.google.guava#listenablefuture;9999.0-empty-to-avoid-conflict-with-guava from central in [default]\n",
      "\tcom.google.http-client#google-http-client;1.43.0 from central in [default]\n",
      "\tcom.google.http-client#google-http-client-apache-v2;1.43.0 from central in [default]\n",
      "\tcom.google.http-client#google-http-client-appengine;1.43.0 from central in [default]\n",
      "\tcom.google.http-client#google-http-client-gson;1.43.0 from central in [default]\n",
      "\tcom.google.http-client#google-http-client-jackson2;1.43.0 from central in [default]\n",
      "\tcom.google.j2objc#j2objc-annotations;1.3 from central in [default]\n",
      "\tcom.google.oauth-client#google-oauth-client;1.34.1 from central in [default]\n",
      "\tcom.google.protobuf#protobuf-java;3.21.12 from central in [default]\n",
      "\tcom.google.protobuf#protobuf-java-util;3.21.12 from central in [default]\n",
      "\tcom.google.re2j#re2j;1.6 from central in [default]\n",
      "\tcom.johnsnowlabs.nlp#spark-nlp_2.12;5.1.3 from central in [default]\n",
      "\tcom.johnsnowlabs.nlp#tensorflow-cpu_2.12;0.4.4 from central in [default]\n",
      "\tcom.microsoft.onnxruntime#onnxruntime;1.15.0 from central in [default]\n",
      "\tcom.navigamez#greex;1.0 from central in [default]\n",
      "\tcom.typesafe#config;1.4.2 from central in [default]\n",
      "\tcommons-codec#commons-codec;1.15 from central in [default]\n",
      "\tcommons-logging#commons-logging;1.2 from central in [default]\n",
      "\tdk.brics.automaton#automaton;1.11-8 from central in [default]\n",
      "\tio.grpc#grpc-alts;1.53.0 from central in [default]\n",
      "\tio.grpc#grpc-api;1.53.0 from central in [default]\n",
      "\tio.grpc#grpc-auth;1.53.0 from central in [default]\n",
      "\tio.grpc#grpc-context;1.53.0 from central in [default]\n",
      "\tio.grpc#grpc-core;1.53.0 from central in [default]\n",
      "\tio.grpc#grpc-googleapis;1.53.0 from central in [default]\n",
      "\tio.grpc#grpc-grpclb;1.53.0 from central in [default]\n",
      "\tio.grpc#grpc-netty-shaded;1.53.0 from central in [default]\n",
      "\tio.grpc#grpc-protobuf;1.53.0 from central in [default]\n",
      "\tio.grpc#grpc-protobuf-lite;1.53.0 from central in [default]\n",
      "\tio.grpc#grpc-services;1.53.0 from central in [default]\n",
      "\tio.grpc#grpc-stub;1.53.0 from central in [default]\n",
      "\tio.grpc#grpc-xds;1.53.0 from central in [default]\n",
      "\tio.opencensus#opencensus-api;0.31.1 from central in [default]\n",
      "\tio.opencensus#opencensus-contrib-http-util;0.31.1 from central in [default]\n",
      "\tio.opencensus#opencensus-proto;0.2.0 from central in [default]\n",
      "\tio.perfmark#perfmark-api;0.26.0 from central in [default]\n",
      "\tit.unimi.dsi#fastutil;7.0.12 from central in [default]\n",
      "\tjavax.annotation#javax.annotation-api;1.3.2 from central in [default]\n",
      "\torg.apache.hadoop#hadoop-aws;3.2.2 from central in [default]\n",
      "\torg.checkerframework#checker-qual;3.31.0 from central in [default]\n",
      "\torg.codehaus.mojo#animal-sniffer-annotations;1.22 from central in [default]\n",
      "\torg.conscrypt#conscrypt-openjdk-uber;2.5.2 from central in [default]\n",
      "\torg.projectlombok#lombok;1.16.8 from central in [default]\n",
      "\torg.rocksdb#rocksdbjni;6.29.5 from central in [default]\n",
      "\torg.threeten#threetenbp;1.6.5 from central in [default]\n",
      "\t:: evicted modules:\n",
      "\tcom.google.protobuf#protobuf-java-util;3.0.0-beta-3 by [com.google.protobuf#protobuf-java-util;3.21.12] in [default]\n",
      "\tcom.google.protobuf#protobuf-java;3.0.0-beta-3 by [com.google.protobuf#protobuf-java;3.21.12] in [default]\n",
      "\tcom.google.code.gson#gson;2.3 by [com.google.code.gson#gson;2.10.1] in [default]\n",
      "\tcom.amazonaws#aws-java-sdk-bundle;1.11.563 by [com.amazonaws#aws-java-sdk-bundle;1.11.828] in [default]\n",
      "\t---------------------------------------------------------------------\n",
      "\t|                  |            modules            ||   artifacts   |\n",
      "\t|       conf       | number| search|dwnlded|evicted|| number|dwnlded|\n",
      "\t---------------------------------------------------------------------\n",
      "\t|      default     |   77  |   0   |   0   |   4   ||   73  |   0   |\n",
      "\t---------------------------------------------------------------------\n",
      ":: retrieving :: org.apache.spark#spark-submit-parent-f406bcb8-9e47-4133-b2e2-94262facbf6f\n",
      "\tconfs: [default]\n",
      "\t0 artifacts copied, 73 already retrieved (0kB/167ms)\n",
      "23/11/27 02:53:48 WARN NativeCodeLoader: Unable to load native-hadoop library for your platform... using builtin-java classes where applicable\n",
      "Setting default log level to \"WARN\".\n",
      "To adjust logging level use sc.setLogLevel(newLevel). For SparkR, use setLogLevel(newLevel).\n"
     ]
    }
   ],
   "source": [
    "spark = (\n",
    "    SparkSession.builder.appName(\"PySparkApp\")\n",
    "    .config(\"spark.driver.memory\",\"16G\")\n",
    "    .config(\"spark.driver.maxResultSize\", \"0\") \n",
    "    .config(\"spark.kryoserializer.buffer.max\", \"2000M\")\n",
    "    .config(\"spark.jars.packages\", \"com.johnsnowlabs.nlp:spark-nlp_2.12:5.1.3,org.apache.hadoop:hadoop-aws:3.2.2\")\n",
    "    .config(\"fs.s3a.aws.credentials.provider\", \"com.amazonaws.auth.ContainerCredentialsProvider\")\n",
    "    .getOrCreate()\n",
    ")\n"
   ]
  },
  {
   "cell_type": "code",
   "execution_count": 11,
   "id": "0d0fa39c-1139-4b84-a93c-16fbabbe5528",
   "metadata": {
    "tags": []
   },
   "outputs": [
    {
     "name": "stdout",
     "output_type": "stream",
     "text": [
      "sagemaker.config INFO - Not applying SDK defaults from location: /etc/xdg/sagemaker/config.yaml\n",
      "sagemaker.config INFO - Not applying SDK defaults from location: /root/.config/sagemaker/config.yaml\n",
      "sagemaker.config INFO - Not applying SDK defaults from location: /etc/xdg/sagemaker/config.yaml\n",
      "sagemaker.config INFO - Not applying SDK defaults from location: /root/.config/sagemaker/config.yaml\n",
      "reading comments from s3a://sagemaker-us-east-1-131156463254/project/comments/yyyy=*\n"
     ]
    },
    {
     "name": "stderr",
     "output_type": "stream",
     "text": [
      "23/11/27 02:54:11 WARN MetricsConfig: Cannot locate configuration: tried hadoop-metrics2-s3a-file-system.properties,hadoop-metrics2.properties\n",
      "[Stage 1:======================================================>(240 + 1) / 241]\r"
     ]
    },
    {
     "name": "stdout",
     "output_type": "stream",
     "text": [
      "shape of the comments dataframe is 1,053,280x21\n",
      "CPU times: user 3.41 s, sys: 250 ms, total: 3.66 s\n",
      "Wall time: 5min 1s\n"
     ]
    },
    {
     "name": "stderr",
     "output_type": "stream",
     "text": [
      "                                                                                \r"
     ]
    }
   ],
   "source": [
    "%%time\n",
    "import sagemaker\n",
    "session = sagemaker.Session()\n",
    "bucket = session.default_bucket()\n",
    "output_prefix_data_comments = \"project/comments/yyyy=*\"\n",
    "s3_path = f\"s3a://{bucket}/{output_prefix_data_comments}\"\n",
    "#s3_path = \"s3a://sagemaker-us-east-1-038932893404/project/comments/yyyy=2021/part-00000-90796409-5783-4705-92c0-27c27eda8c4c-c000.snappy.parquet\"\n",
    "print(f\"reading comments from {s3_path}\")\n",
    "comments = spark.read.parquet(s3_path, header=True)\n",
    "print(f\"shape of the comments dataframe is {comments.count():,}x{len(comments.columns)}\")\n",
    "sampled_comments = comments.sample(withReplacement=False, fraction=0.1, seed=123)"
   ]
  },
  {
   "cell_type": "code",
   "execution_count": 48,
   "id": "c50f90f5-a481-4459-800e-0c484e4780dc",
   "metadata": {
    "tags": []
   },
   "outputs": [],
   "source": [
    "from pyspark.sql.functions import col\n",
    "\n",
    "# Select specific columns for display\n",
    "selected_columns = [\"body\",  \"created_utc\", \"controversiality\", \"gilded\", \"score\", \"stickied\",\n",
    "                    'can_gild','edited','is_submitter']\n",
    "\n",
    "# Show the selected columns\n",
    "selected_comments=sampled_comments.select(*selected_columns)\n"
   ]
  },
  {
   "cell_type": "code",
   "execution_count": 52,
   "id": "2ed247d2-be88-4099-920d-63f5c6df7d0f",
   "metadata": {
    "tags": []
   },
   "outputs": [
    {
     "name": "stdout",
     "output_type": "stream",
     "text": [
      "+--------------------+-------------------+----------------+------+-----+--------+--------+-------------+------------+\n",
      "|                body|        created_utc|controversiality|gilded|score|stickied|can_gild|       edited|is_submitter|\n",
      "+--------------------+-------------------+----------------+------+-----+--------+--------+-------------+------------+\n",
      "|I get it man but ...|2022-11-11 02:05:02|               0|     0|    1|   false|    true|        false|       false|\n",
      "|Nose putty and co...|2022-11-11 02:05:03|               0|     0|    1|   false|    true|        false|       false|\n",
      "|I noticed the sca...|2022-11-11 02:05:09|               0|     0|    1|   false|    true|        false|       false|\n",
      "|i switch between ...|2022-11-11 02:05:14|               0|     0|    1|   false|    true|        false|       false|\n",
      "|https://men-elite...|2022-11-11 02:05:32|               0|     0|    1|   false|    true|        false|       false|\n",
      "|Dude the first th...|2022-11-11 02:05:49|               0|     0|    1|   false|    true|        false|       false|\n",
      "|That scar is fuck...|2022-11-11 02:05:55|               0|     0|    1|   false|    true|        false|       false|\n",
      "| I would try Reti...|2022-11-11 02:06:11|               0|     0|    1|   false|    true|        false|       false|\n",
      "| Damn, this looks...|2022-11-11 02:06:24|               0|     0|    1|   false|    true|        false|       false|\n",
      "|&gt; And then som...|2022-11-11 02:07:08|               0|     0|    1|   false|    true|        false|       false|\n",
      "|I didn't notice t...|2022-11-11 02:07:09|               0|     0|    1|   false|    true|        false|       false|\n",
      "|It’s pretty dope man|2022-11-11 02:07:27|               0|     0|    1|   false|    true|        false|       false|\n",
      "|https://preview.r...|2022-11-11 02:07:29|               0|     0|    1|   false|    true|        false|       false|\n",
      "|It gives your fac...|2022-11-11 02:08:10|               0|     0|    1|   false|    true|        false|       false|\n",
      "|Fuck that! Show t...|2022-11-11 02:08:12|               0|     0|    1|   false|    true|        false|       false|\n",
      "|&gt; And then som...|2022-11-11 02:08:25|               0|     0|    1|   false|    true|1.668132686E9|       false|\n",
      "|Man looks like re...|2022-11-11 02:08:48|               0|     0|    1|   false|    true|        false|       false|\n",
      "|You remind me of ...|2022-11-11 02:08:54|               0|     0|    1|   false|    true|        false|       false|\n",
      "|Dude the first th...|2022-11-11 02:08:59|               0|     0|    1|   false|    true|        false|       false|\n",
      "|   Awesome scar tho!|2022-11-11 02:09:12|               0|     0|    1|   false|    true|        false|       false|\n",
      "+--------------------+-------------------+----------------+------+-----+--------+--------+-------------+------------+\n",
      "only showing top 20 rows\n",
      "\n"
     ]
    }
   ],
   "source": [
    "selected_comments.show()"
   ]
  },
  {
   "cell_type": "markdown",
   "id": "97059ec5-aaac-4777-8aa8-8c32b086f244",
   "metadata": {
    "tags": []
   },
   "source": [
    "### Controversiality Prediction"
   ]
  },
  {
   "cell_type": "markdown",
   "id": "c3bcdf2c-0473-4133-a7c4-242e6cf2d9fd",
   "metadata": {},
   "source": [
    "### Clean Body Text"
   ]
  },
  {
   "cell_type": "code",
   "execution_count": 15,
   "id": "bb5cfe2d-5c96-4e4c-ad8d-f0b4e23fc326",
   "metadata": {
    "tags": []
   },
   "outputs": [],
   "source": [
    "from pyspark.sql.functions import col, regexp_replace, lower\n",
    "from pyspark.sql import SparkSession\n",
    "from pyspark.sql.functions import lower, col, regexp_replace, udf, length, StringType\n",
    "from pyspark.ml.feature import Tokenizer, StopWordsRemover\n",
    "\n",
    "\n",
    "def clean_text(text):\n",
    "    import re\n",
    "    # Lowercase\n",
    "    text = text.lower()\n",
    "    # Remove URLs\n",
    "    text = re.sub(r'http\\S+', '', text)\n",
    "    # Remove numbers\n",
    "    text = re.sub(r'\\d+', '', text)\n",
    "    # Remove punctuation and special characters\n",
    "    text = re.sub(r'[^a-zA-Z\\s]', '', text)\n",
    "    # Remove short words (less than 3 characters)\n",
    "    text = ' '.join([word for word in text.split() if len(word) > 2])\n",
    "    return text\n",
    "\n",
    "# Create a user-defined function (UDF) for text cleaning\n",
    "clean_text_udf = udf(clean_text, StringType())\n"
   ]
  },
  {
   "cell_type": "code",
   "execution_count": 54,
   "id": "98be1c4a-a423-4948-8b5f-3a47cfb9e12a",
   "metadata": {
    "tags": []
   },
   "outputs": [],
   "source": [
    "cleaned_comments = selected_comments.withColumn('clean_body', clean_text_udf(col('body')))\n",
    "cleaned_comments = cleaned_comments.na.drop(subset=[\"clean_body\"])\n",
    "cleaned_comments = cleaned_comments.filter(length(col('clean_body')) > 0)"
   ]
  },
  {
   "cell_type": "code",
   "execution_count": 55,
   "id": "00f8d5a6-8bcb-4af3-94f8-46f225978a5b",
   "metadata": {
    "tags": []
   },
   "outputs": [
    {
     "name": "stderr",
     "output_type": "stream",
     "text": [
      "[Stage 57:>                                                         (0 + 1) / 1]\r"
     ]
    },
    {
     "name": "stdout",
     "output_type": "stream",
     "text": [
      "+--------------------+----------------+\n",
      "|          clean_body|controversiality|\n",
      "+--------------------+----------------+\n",
      "|get man but that ...|               0|\n",
      "|nose putty and co...|               0|\n",
      "|noticed the scar ...|               0|\n",
      "|switch between cl...|               0|\n",
      "|hope this helps t...|               0|\n",
      "|dude the first th...|               0|\n",
      "|that scar fuckin ...|               0|\n",
      "|would try retin w...|               0|\n",
      "|damn this looks l...|               0|\n",
      "|and then someone ...|               0|\n",
      "|didnt notice the ...|               0|\n",
      "| its pretty dope man|               0|\n",
      "|gives your face c...|               0|\n",
      "|fuck that show th...|               0|\n",
      "|and then someone ...|               0|\n",
      "|man looks like re...|               0|\n",
      "|you remind geralt...|               0|\n",
      "|dude the first th...|               0|\n",
      "|    awesome scar tho|               0|\n",
      "|mean think looks ...|               0|\n",
      "+--------------------+----------------+\n",
      "only showing top 20 rows\n",
      "\n"
     ]
    },
    {
     "name": "stderr",
     "output_type": "stream",
     "text": [
      "Traceback (most recent call last):\n",
      "  File \"/opt/conda/lib/python3.10/site-packages/pyspark/python/lib/pyspark.zip/pyspark/daemon.py\", line 193, in manager\n",
      "  File \"/opt/conda/lib/python3.10/site-packages/pyspark/python/lib/pyspark.zip/pyspark/daemon.py\", line 74, in worker\n",
      "  File \"/opt/conda/lib/python3.10/site-packages/pyspark/python/lib/pyspark.zip/pyspark/worker.py\", line 874, in main\n",
      "    if read_int(infile) == SpecialLengths.END_OF_STREAM:\n",
      "  File \"/opt/conda/lib/python3.10/site-packages/pyspark/python/lib/pyspark.zip/pyspark/serializers.py\", line 596, in read_int\n",
      "    raise EOFError\n",
      "EOFError\n",
      "                                                                                \r"
     ]
    }
   ],
   "source": [
    "Contro_dataset=cleaned_comments.select(\"clean_body\",\"controversiality\")\n",
    "Contro_dataset.show()"
   ]
  },
  {
   "cell_type": "code",
   "execution_count": 56,
   "id": "15c2cfae-a56a-4684-837c-dd3fe671cdb3",
   "metadata": {
    "tags": []
   },
   "outputs": [
    {
     "name": "stderr",
     "output_type": "stream",
     "text": [
      "                                                                                \r"
     ]
    }
   ],
   "source": [
    "Contro_dataset=Contro_dataset.toPandas()"
   ]
  },
  {
   "cell_type": "code",
   "execution_count": 57,
   "id": "5a8cf0c2-f3c3-48a8-a62c-0daf7b591ab3",
   "metadata": {
    "tags": []
   },
   "outputs": [
    {
     "data": {
      "text/html": [
       "<div>\n",
       "<style scoped>\n",
       "    .dataframe tbody tr th:only-of-type {\n",
       "        vertical-align: middle;\n",
       "    }\n",
       "\n",
       "    .dataframe tbody tr th {\n",
       "        vertical-align: top;\n",
       "    }\n",
       "\n",
       "    .dataframe thead th {\n",
       "        text-align: right;\n",
       "    }\n",
       "</style>\n",
       "<table border=\"1\" class=\"dataframe\">\n",
       "  <thead>\n",
       "    <tr style=\"text-align: right;\">\n",
       "      <th></th>\n",
       "      <th>clean_body</th>\n",
       "      <th>controversiality</th>\n",
       "    </tr>\n",
       "  </thead>\n",
       "  <tbody>\n",
       "    <tr>\n",
       "      <th>0</th>\n",
       "      <td>get man but that badass scar own brother</td>\n",
       "      <td>0</td>\n",
       "    </tr>\n",
       "    <tr>\n",
       "      <th>1</th>\n",
       "      <td>nose putty and concealer</td>\n",
       "      <td>0</td>\n",
       "    </tr>\n",
       "    <tr>\n",
       "      <th>2</th>\n",
       "      <td>noticed the scar but looks cool</td>\n",
       "      <td>0</td>\n",
       "    </tr>\n",
       "    <tr>\n",
       "      <th>3</th>\n",
       "      <td>switch between clean amp clear dual action and...</td>\n",
       "      <td>0</td>\n",
       "    </tr>\n",
       "    <tr>\n",
       "      <th>4</th>\n",
       "      <td>hope this helps this guy awesome knows his stuff</td>\n",
       "      <td>0</td>\n",
       "    </tr>\n",
       "    <tr>\n",
       "      <th>...</th>\n",
       "      <td>...</td>\n",
       "      <td>...</td>\n",
       "    </tr>\n",
       "    <tr>\n",
       "      <th>104482</th>\n",
       "      <td>love this pretty</td>\n",
       "      <td>0</td>\n",
       "    </tr>\n",
       "    <tr>\n",
       "      <th>104483</th>\n",
       "      <td>thanks nipples are medium brown and lips are p...</td>\n",
       "      <td>0</td>\n",
       "    </tr>\n",
       "    <tr>\n",
       "      <th>104484</th>\n",
       "      <td>dont follow her but know her mua use use lot m...</td>\n",
       "      <td>0</td>\n",
       "    </tr>\n",
       "    <tr>\n",
       "      <th>104485</th>\n",
       "      <td>you are pretty</td>\n",
       "      <td>0</td>\n",
       "    </tr>\n",
       "    <tr>\n",
       "      <th>104486</th>\n",
       "      <td>deleted</td>\n",
       "      <td>0</td>\n",
       "    </tr>\n",
       "  </tbody>\n",
       "</table>\n",
       "<p>104487 rows × 2 columns</p>\n",
       "</div>"
      ],
      "text/plain": [
       "                                               clean_body  controversiality\n",
       "0                get man but that badass scar own brother                 0\n",
       "1                                nose putty and concealer                 0\n",
       "2                         noticed the scar but looks cool                 0\n",
       "3       switch between clean amp clear dual action and...                 0\n",
       "4        hope this helps this guy awesome knows his stuff                 0\n",
       "...                                                   ...               ...\n",
       "104482                                   love this pretty                 0\n",
       "104483  thanks nipples are medium brown and lips are p...                 0\n",
       "104484  dont follow her but know her mua use use lot m...                 0\n",
       "104485                                     you are pretty                 0\n",
       "104486                                            deleted                 0\n",
       "\n",
       "[104487 rows x 2 columns]"
      ]
     },
     "execution_count": 57,
     "metadata": {},
     "output_type": "execute_result"
    }
   ],
   "source": [
    "Contro_dataset"
   ]
  },
  {
   "cell_type": "code",
   "execution_count": 58,
   "id": "f5671842-5dac-4d24-ae03-e9cbc0e644d2",
   "metadata": {
    "tags": []
   },
   "outputs": [],
   "source": [
    "# Convert 'controversiality' column to categorical\n",
    "Contro_dataset['controversiality'] = Contro_dataset['controversiality'].astype('category')\n"
   ]
  },
  {
   "cell_type": "markdown",
   "id": "67256b2f-8082-4c9b-a4ff-866eb64fd8a5",
   "metadata": {},
   "source": [
    "###  Split the Controverisality Dataset "
   ]
  },
  {
   "cell_type": "code",
   "execution_count": 59,
   "id": "8b070e0e-387f-47cf-9197-29fc3919f585",
   "metadata": {
    "tags": []
   },
   "outputs": [],
   "source": [
    "\n",
    "# Split the data into features (X) and labels (y)\n",
    "X = Contro_dataset['clean_body'].tolist()  # Convert to a list\n",
    "y = Contro_dataset['controversiality'].tolist()  # Convert to a list\n",
    "\n",
    "# Split the data into training and testing sets\n",
    "# Adjust the test_size parameter to control the ratio of the split\n",
    "X_train, X_test, y_train, y_test = train_test_split(X, y, test_size=0.2, random_state=42)\n",
    "\n",
    "# Now you can use X_train and y_train for training your model\n",
    "# And X_test and y_test for evaluating the model\n",
    "\n",
    "\n",
    "train_data = pd.DataFrame({'clean_body': X_train, 'controversiality': y_train})\n",
    "test_data = pd.DataFrame({'clean_body': X_test, 'controversiality': y_test})\n",
    "\n",
    "\n"
   ]
  },
  {
   "cell_type": "code",
   "execution_count": 79,
   "id": "aa59502d-cee2-4c38-80ed-87f98ca669e7",
   "metadata": {
    "tags": []
   },
   "outputs": [
    {
     "name": "stdout",
     "output_type": "stream",
     "text": [
      "       controversiality\n",
      "count      83589.000000\n",
      "mean           0.009870\n",
      "std            0.098856\n",
      "min            0.000000\n",
      "25%            0.000000\n",
      "50%            0.000000\n",
      "75%            0.000000\n",
      "max            1.000000\n",
      "       controversiality\n",
      "count      20898.000000\n",
      "mean           0.009092\n",
      "std            0.094919\n",
      "min            0.000000\n",
      "25%            0.000000\n",
      "50%            0.000000\n",
      "75%            0.000000\n",
      "max            1.000000\n"
     ]
    }
   ],
   "source": [
    "\n",
    "print(train_data.describe())\n",
    "print(test_data.describe())"
   ]
  },
  {
   "cell_type": "markdown",
   "id": "90e8110a-369a-413b-b570-0e526d46d7f8",
   "metadata": {},
   "source": [
    "### NaiVe Bayes"
   ]
  },
  {
   "cell_type": "code",
   "execution_count": 60,
   "id": "c2014f4c-c1c1-4bec-afb0-c9ca50cb6490",
   "metadata": {
    "tags": []
   },
   "outputs": [
    {
     "name": "stdout",
     "output_type": "stream",
     "text": [
      "Accuracy: 0.99\n",
      "              precision    recall  f1-score   support\n",
      "\n",
      "           0       0.99      1.00      1.00     20708\n",
      "           1       0.00      0.00      0.00       190\n",
      "\n",
      "    accuracy                           0.99     20898\n",
      "   macro avg       0.50      0.50      0.50     20898\n",
      "weighted avg       0.98      0.99      0.99     20898\n",
      "\n"
     ]
    }
   ],
   "source": [
    "# Import necessary libraries\n",
    "from sklearn.feature_extraction.text import TfidfVectorizer\n",
    "from sklearn.naive_bayes import MultinomialNB\n",
    "from sklearn.pipeline import Pipeline\n",
    "from sklearn.metrics import classification_report, accuracy_score\n",
    "\n",
    "#  Create a pipeline with a TF-IDF vectorizer and a classifier (e.g., Naive Bayes)\n",
    "text_clf = Pipeline([\n",
    "    ('tfidf', TfidfVectorizer()),\n",
    "    ('clf', MultinomialNB())\n",
    "])\n",
    "\n",
    "#  Train the model on the training data\n",
    "text_clf.fit(train_data['clean_body'], train_data['controversiality'])\n",
    "\n",
    "#  Make predictions on the test data\n",
    "predictions = text_clf.predict(test_data['clean_body'])\n",
    "\n",
    "# Evaluate the model performance\n",
    "accuracy = accuracy_score(test_data['controversiality'], predictions)\n",
    "print(f\"Accuracy: {accuracy:.2f}\")\n",
    "\n",
    "# print a classification report for more detailed metrics\n",
    "print(classification_report(test_data['controversiality'], predictions))\n"
   ]
  },
  {
   "cell_type": "markdown",
   "id": "09b56ed4-9d68-4f85-9c45-c3fd4950acf5",
   "metadata": {},
   "source": [
    "### SVM"
   ]
  },
  {
   "cell_type": "code",
   "execution_count": 61,
   "id": "3bc43101-606c-4969-8f5c-6dd64884a0c0",
   "metadata": {
    "tags": []
   },
   "outputs": [
    {
     "name": "stdout",
     "output_type": "stream",
     "text": [
      "SVM Accuracy: 0.99\n",
      "              precision    recall  f1-score   support\n",
      "\n",
      "           0       0.99      1.00      1.00     20708\n",
      "           1       0.00      0.00      0.00       190\n",
      "\n",
      "    accuracy                           0.99     20898\n",
      "   macro avg       0.50      0.50      0.50     20898\n",
      "weighted avg       0.98      0.99      0.99     20898\n",
      "\n"
     ]
    },
    {
     "name": "stderr",
     "output_type": "stream",
     "text": [
      "/opt/conda/lib/python3.10/site-packages/sklearn/metrics/_classification.py:1308: UndefinedMetricWarning: Precision and F-score are ill-defined and being set to 0.0 in labels with no predicted samples. Use `zero_division` parameter to control this behavior.\n",
      "  _warn_prf(average, modifier, msg_start, len(result))\n",
      "/opt/conda/lib/python3.10/site-packages/sklearn/metrics/_classification.py:1308: UndefinedMetricWarning: Precision and F-score are ill-defined and being set to 0.0 in labels with no predicted samples. Use `zero_division` parameter to control this behavior.\n",
      "  _warn_prf(average, modifier, msg_start, len(result))\n",
      "/opt/conda/lib/python3.10/site-packages/sklearn/metrics/_classification.py:1308: UndefinedMetricWarning: Precision and F-score are ill-defined and being set to 0.0 in labels with no predicted samples. Use `zero_division` parameter to control this behavior.\n",
      "  _warn_prf(average, modifier, msg_start, len(result))\n"
     ]
    }
   ],
   "source": [
    "from sklearn.svm import SVC\n",
    "\n",
    "svm_clf = Pipeline([\n",
    "    ('tfidf', TfidfVectorizer()),\n",
    "    ('clf', SVC())\n",
    "])\n",
    "\n",
    "svm_clf.fit(train_data['clean_body'], train_data['controversiality'])\n",
    "predictions_svm = svm_clf.predict(test_data['clean_body'])\n",
    "\n",
    "accuracy_svm = accuracy_score(test_data['controversiality'], predictions_svm)\n",
    "print(f\"SVM Accuracy: {accuracy_svm:.2f}\")\n",
    "print(classification_report(test_data['controversiality'], predictions_svm))\n"
   ]
  },
  {
   "cell_type": "markdown",
   "id": "522719d2-b98a-4184-b827-a6e594f87eac",
   "metadata": {},
   "source": [
    "### Random Forest"
   ]
  },
  {
   "cell_type": "code",
   "execution_count": 62,
   "id": "9b837c9f-9d06-4b0e-8125-b1c688ad35b2",
   "metadata": {
    "tags": []
   },
   "outputs": [
    {
     "name": "stdout",
     "output_type": "stream",
     "text": [
      "Random Forest Accuracy: 0.99\n",
      "              precision    recall  f1-score   support\n",
      "\n",
      "           0       0.99      1.00      1.00     20708\n",
      "           1       0.00      0.00      0.00       190\n",
      "\n",
      "    accuracy                           0.99     20898\n",
      "   macro avg       0.50      0.50      0.50     20898\n",
      "weighted avg       0.98      0.99      0.99     20898\n",
      "\n"
     ]
    }
   ],
   "source": [
    "from sklearn.ensemble import RandomForestClassifier\n",
    "\n",
    "rf_clf = Pipeline([\n",
    "    ('tfidf', TfidfVectorizer()),\n",
    "    ('clf', RandomForestClassifier())\n",
    "])\n",
    "\n",
    "rf_clf.fit(train_data['clean_body'], train_data['controversiality'])\n",
    "predictions_rf = rf_clf.predict(test_data['clean_body'])\n",
    "\n",
    "accuracy_rf = accuracy_score(test_data['controversiality'], predictions_rf)\n",
    "print(f\"Random Forest Accuracy: {accuracy_rf:.2f}\")\n",
    "print(classification_report(test_data['controversiality'], predictions_rf))\n"
   ]
  },
  {
   "cell_type": "raw",
   "id": "0ae145ee-65ab-49a4-a74a-98c3f90f5c77",
   "metadata": {},
   "source": [
    "  The Three model all show the same result ,Therefore I choose to Show it in One Page"
   ]
  },
  {
   "cell_type": "code",
   "execution_count": 79,
   "id": "3b46e28e-ac09-4fe5-b27b-09e9afe9a491",
   "metadata": {
    "tags": []
   },
   "outputs": [
    {
     "data": {
      "application/vnd.plotly.v1+json": {
       "config": {
        "plotlyServerURL": "https://plot.ly"
       },
       "data": [
        {
         "mode": "lines",
         "name": "ROC curve (area = 0.56)",
         "type": "scatter",
         "x": [
          0,
          4.829051574270813e-05,
          0.00019316206297083252,
          0.0003380336101989569,
          0.0005311956731697895,
          0.0006277767046552057,
          0.0009658103148541626,
          0.001110681862082287,
          0.0012072628935677033,
          0.0013038439250531197,
          0.0014970059880239522,
          0.0016901680509947847,
          0.0017384585667374927,
          0.0018833301139656172,
          0.0020764921769364495,
          0.0023662352713926986,
          0.0024628163028781146,
          0.0026559783658489473,
          0.002897430944562488,
          0.0030905930075333203,
          0.0032354645547614446,
          0.0034286266177322774,
          0.0034769171334749853,
          0.0035734981649604017,
          0.0037666602279312345,
          0.0041046938381301915,
          0.004152984353872899,
          0.004152984353872899,
          0.004346146416843732,
          0.004442727448329148,
          0.004780761058528105,
          0.005215375700212479,
          0.005988023952095809,
          0.006132895499323933,
          0.006181186015066641,
          0.007098705814178095,
          0.007195286845663512,
          0.00724357736140622,
          0.008064516129032258,
          0.009126907475371837,
          0.00932006953834267,
          0.009416650569828086,
          0.009513231601313501,
          0.009609812632798918,
          0.010527332431910372,
          0.01062391346339579,
          0.010817075526366621,
          0.010913656557852038,
          0.012555534093104115,
          0.012700405640332238,
          0.013135020282016612,
          0.013328182344987444,
          0.015404674521923895,
          0.015887579679350977,
          0.016129032258064516,
          0.01627390380529264,
          0.01632219432103535,
          0.018446977013714505,
          0.01864013907668534,
          0.02124782692679158,
          0.021296117442534287,
          0.02148927950550512,
          0.021537570021247825,
          0.0219721846629322,
          0.022358508788873865,
          0.022648251883330115,
          0.028298242225226967,
          0.028346532740969675,
          0.028491404288197797,
          0.028539694803940505,
          0.028781147382654047,
          0.028829437898396756,
          0.02916747150859571,
          0.02950550511879467,
          0.029795248213250917,
          0.029843538728993625,
          0.03877728414139463,
          0.038873865172880044,
          0.039163608267336295,
          0.03926018929882171,
          0.03950164187753525,
          0.039743094456248795,
          0.040370871160904,
          0.04051574270813212,
          0.04090206683407379,
          0.041095228897044624,
          0.04128839096001545,
          0.04201274869615607,
          0.04230249179061232,
          0.04322001158972378,
          0.05901101023758934,
          0.059059300753332045,
          0.05915588178481746,
          0.05930075333204558,
          0.05978365848947267,
          0.059880239520958084,
          0.08025883716438091,
          0.08035541819586633,
          0.08098319490052154,
          0.08117635696349237,
          0.08146610005794862,
          0.08161097160517675,
          0.08165926212091945,
          0.08238361985706007,
          0.08262507243577362,
          0.08272165346725903,
          0.08305968707745799,
          0.0867297662739038,
          0.08682634730538923,
          0.08692292833687464,
          0.12854935290708905,
          0.1295151632219432,
          0.12961174425342864,
          0.12970832528491405,
          0.12975661580065675,
          0.12994977786362757,
          0.12999806837937028,
          0.1317848174618505,
          0.13192968900907862,
          0.13197797952482132,
          0.13275062777670465,
          0.13313695190264632,
          0.1585377631833108,
          0.15863434421479622,
          0.15882750627776704,
          0.1592138304037087,
          0.15940699246667955,
          0.15960015452965037,
          0.15969673556113578,
          0.15984160710836393,
          0.16080741742321808,
          0.16085570793896078,
          0.16129032258064516,
          0.1614351941278733,
          0.16312536217886808,
          0.1632219432103535,
          0.1633668147575816,
          0.16351168630480972,
          0.16355997682055246,
          0.1675197991114545,
          0.16761638014293992,
          0.16853389994205137,
          0.1686787714892795,
          0.16877535252076492,
          0.16892022406799304,
          0.16901680509947847,
          0.16911338613096388,
          0.1692099671624493,
          0.17210739810701178,
          0.3059687077457987,
          0.3060652887772841,
          0.3061618698087696,
          0.3064999034189685,
          0.30659648445045395,
          0.30669306548193936,
          0.3068862275449102,
          0.30693451806065286,
          0.30712768012362374,
          0.30712768012362374,
          0.30732084218659456,
          0.30741742321807997,
          0.3075140042495654,
          0.3086729766273904,
          0.3087695576588758,
          0.3088661386903612,
          0.3090110102375893,
          0.30925246281630286,
          0.309397334363531,
          0.3101216920996716,
          0.31026656364689975,
          0.3106528877728414,
          0.31084604983581227,
          0.3114255360247247,
          0.31152211705621013,
          0.3116186980876956,
          0.3117635696349237,
          0.3118601506664091,
          0.3118601506664091,
          0.31200502221363724,
          0.31219818427660806,
          0.33397720687656945,
          0.33402549739231213,
          0.33412207842379754,
          0.3343635310025111,
          0.3344601120339965,
          0.33460498358122465,
          0.3347498551284528,
          0.3348464361599382,
          0.33513617925439443,
          0.33518446977013716,
          0.33528105080162257,
          0.335377631833108,
          0.3354742128645934,
          0.33561908441182153,
          0.33581224647479235,
          0.3358605369905351,
          0.3358605369905351,
          0.33590882750627776,
          0.3361019895692486,
          0.3361502800849913,
          0.33634344214796214,
          0.33653660421093295,
          0.3366814757581611,
          0.33682634730538924,
          0.33692292833687465,
          0.3369712188526173,
          0.33711609039984547,
          0.337695576588758,
          0.3378887386517288,
          0.3379853196832142,
          0.33817848174618503,
          0.3384682248406413,
          0.3386130963878694,
          0.3387096774193548,
          1
         ],
         "xaxis": "x",
         "y": [
          0,
          0,
          0,
          0,
          0,
          0,
          0,
          0,
          0,
          0,
          0,
          0,
          0,
          0,
          0,
          0,
          0,
          0.010526315789473684,
          0.010526315789473684,
          0.010526315789473684,
          0.010526315789473684,
          0.010526315789473684,
          0.010526315789473684,
          0.010526315789473684,
          0.015789473684210527,
          0.015789473684210527,
          0.015789473684210527,
          0.021052631578947368,
          0.021052631578947368,
          0.021052631578947368,
          0.021052631578947368,
          0.021052631578947368,
          0.021052631578947368,
          0.021052631578947368,
          0.021052631578947368,
          0.021052631578947368,
          0.021052631578947368,
          0.021052631578947368,
          0.021052631578947368,
          0.021052631578947368,
          0.021052631578947368,
          0.021052631578947368,
          0.021052631578947368,
          0.021052631578947368,
          0.02631578947368421,
          0.02631578947368421,
          0.02631578947368421,
          0.02631578947368421,
          0.031578947368421054,
          0.031578947368421054,
          0.031578947368421054,
          0.031578947368421054,
          0.031578947368421054,
          0.031578947368421054,
          0.031578947368421054,
          0.031578947368421054,
          0.031578947368421054,
          0.04736842105263158,
          0.04736842105263158,
          0.04736842105263158,
          0.04736842105263158,
          0.04736842105263158,
          0.04736842105263158,
          0.04736842105263158,
          0.04736842105263158,
          0.04736842105263158,
          0.04736842105263158,
          0.04736842105263158,
          0.04736842105263158,
          0.04736842105263158,
          0.04736842105263158,
          0.04736842105263158,
          0.04736842105263158,
          0.04736842105263158,
          0.04736842105263158,
          0.04736842105263158,
          0.05263157894736842,
          0.05263157894736842,
          0.05263157894736842,
          0.05263157894736842,
          0.05789473684210526,
          0.05789473684210526,
          0.05789473684210526,
          0.05789473684210526,
          0.05789473684210526,
          0.06315789473684211,
          0.06315789473684211,
          0.06315789473684211,
          0.06315789473684211,
          0.06315789473684211,
          0.08947368421052632,
          0.08947368421052632,
          0.08947368421052632,
          0.08947368421052632,
          0.08947368421052632,
          0.08947368421052632,
          0.1631578947368421,
          0.1631578947368421,
          0.1631578947368421,
          0.1631578947368421,
          0.1631578947368421,
          0.1631578947368421,
          0.1631578947368421,
          0.1631578947368421,
          0.1631578947368421,
          0.1631578947368421,
          0.1631578947368421,
          0.1631578947368421,
          0.16842105263157894,
          0.16842105263157894,
          0.21578947368421053,
          0.21578947368421053,
          0.21578947368421053,
          0.21578947368421053,
          0.21578947368421053,
          0.21578947368421053,
          0.21578947368421053,
          0.22105263157894736,
          0.22105263157894736,
          0.22105263157894736,
          0.22105263157894736,
          0.22105263157894736,
          0.26842105263157895,
          0.26842105263157895,
          0.26842105263157895,
          0.26842105263157895,
          0.26842105263157895,
          0.26842105263157895,
          0.26842105263157895,
          0.26842105263157895,
          0.26842105263157895,
          0.26842105263157895,
          0.26842105263157895,
          0.26842105263157895,
          0.2789473684210526,
          0.2789473684210526,
          0.2789473684210526,
          0.2789473684210526,
          0.2789473684210526,
          0.28421052631578947,
          0.28421052631578947,
          0.28421052631578947,
          0.28421052631578947,
          0.28421052631578947,
          0.28421052631578947,
          0.28421052631578947,
          0.28421052631578947,
          0.28421052631578947,
          0.29473684210526313,
          0.4105263157894737,
          0.4105263157894737,
          0.4105263157894737,
          0.4105263157894737,
          0.4105263157894737,
          0.4105263157894737,
          0.4105263157894737,
          0.4105263157894737,
          0.4105263157894737,
          0.41578947368421054,
          0.41578947368421054,
          0.41578947368421054,
          0.41578947368421054,
          0.41578947368421054,
          0.41578947368421054,
          0.41578947368421054,
          0.41578947368421054,
          0.41578947368421054,
          0.41578947368421054,
          0.41578947368421054,
          0.41578947368421054,
          0.41578947368421054,
          0.41578947368421054,
          0.41578947368421054,
          0.41578947368421054,
          0.41578947368421054,
          0.41578947368421054,
          0.41578947368421054,
          0.42105263157894735,
          0.42105263157894735,
          0.42105263157894735,
          0.4263157894736842,
          0.4263157894736842,
          0.4263157894736842,
          0.4263157894736842,
          0.4263157894736842,
          0.4263157894736842,
          0.4263157894736842,
          0.4263157894736842,
          0.4263157894736842,
          0.4263157894736842,
          0.4263157894736842,
          0.4263157894736842,
          0.4263157894736842,
          0.4263157894736842,
          0.4263157894736842,
          0.4263157894736842,
          0.43157894736842106,
          0.43157894736842106,
          0.43157894736842106,
          0.43157894736842106,
          0.43157894736842106,
          0.43157894736842106,
          0.43157894736842106,
          0.43157894736842106,
          0.43157894736842106,
          0.43157894736842106,
          0.43157894736842106,
          0.43157894736842106,
          0.43157894736842106,
          0.43157894736842106,
          0.43157894736842106,
          0.43157894736842106,
          0.43157894736842106,
          0.43157894736842106,
          1
         ],
         "yaxis": "y"
        },
        {
         "line": {
          "dash": "dash"
         },
         "mode": "lines",
         "name": "Random",
         "type": "scatter",
         "x": [
          0,
          1
         ],
         "xaxis": "x",
         "y": [
          0,
          1
         ],
         "yaxis": "y"
        },
        {
         "colorscale": [
          [
           0,
           "#440154"
          ],
          [
           0.1111111111111111,
           "#482878"
          ],
          [
           0.2222222222222222,
           "#3e4989"
          ],
          [
           0.3333333333333333,
           "#31688e"
          ],
          [
           0.4444444444444444,
           "#26828e"
          ],
          [
           0.5555555555555556,
           "#1f9e89"
          ],
          [
           0.6666666666666666,
           "#35b779"
          ],
          [
           0.7777777777777778,
           "#6ece58"
          ],
          [
           0.8888888888888888,
           "#b5de2b"
          ],
          [
           1,
           "#fde725"
          ]
         ],
         "showscale": false,
         "type": "heatmap",
         "xaxis": "x2",
         "yaxis": "y2",
         "z": [
          [
           20704,
           4
          ],
          [
           190,
           0
          ]
         ]
        }
       ],
       "layout": {
        "annotations": [
         {
          "font": {
           "size": 16
          },
          "showarrow": false,
          "text": "Receiver Operating Characteristic (ROC) Curve",
          "x": 0.225,
          "xanchor": "center",
          "xref": "paper",
          "y": 1,
          "yanchor": "bottom",
          "yref": "paper"
         },
         {
          "font": {
           "size": 16
          },
          "showarrow": false,
          "text": "Confusion Matrix",
          "x": 0.775,
          "xanchor": "center",
          "xref": "paper",
          "y": 1,
          "yanchor": "bottom",
          "yref": "paper"
         }
        ],
        "autosize": true,
        "template": {
         "data": {
          "bar": [
           {
            "error_x": {
             "color": "#2a3f5f"
            },
            "error_y": {
             "color": "#2a3f5f"
            },
            "marker": {
             "line": {
              "color": "#E5ECF6",
              "width": 0.5
             },
             "pattern": {
              "fillmode": "overlay",
              "size": 10,
              "solidity": 0.2
             }
            },
            "type": "bar"
           }
          ],
          "barpolar": [
           {
            "marker": {
             "line": {
              "color": "#E5ECF6",
              "width": 0.5
             },
             "pattern": {
              "fillmode": "overlay",
              "size": 10,
              "solidity": 0.2
             }
            },
            "type": "barpolar"
           }
          ],
          "carpet": [
           {
            "aaxis": {
             "endlinecolor": "#2a3f5f",
             "gridcolor": "white",
             "linecolor": "white",
             "minorgridcolor": "white",
             "startlinecolor": "#2a3f5f"
            },
            "baxis": {
             "endlinecolor": "#2a3f5f",
             "gridcolor": "white",
             "linecolor": "white",
             "minorgridcolor": "white",
             "startlinecolor": "#2a3f5f"
            },
            "type": "carpet"
           }
          ],
          "choropleth": [
           {
            "colorbar": {
             "outlinewidth": 0,
             "ticks": ""
            },
            "type": "choropleth"
           }
          ],
          "contour": [
           {
            "colorbar": {
             "outlinewidth": 0,
             "ticks": ""
            },
            "colorscale": [
             [
              0,
              "#0d0887"
             ],
             [
              0.1111111111111111,
              "#46039f"
             ],
             [
              0.2222222222222222,
              "#7201a8"
             ],
             [
              0.3333333333333333,
              "#9c179e"
             ],
             [
              0.4444444444444444,
              "#bd3786"
             ],
             [
              0.5555555555555556,
              "#d8576b"
             ],
             [
              0.6666666666666666,
              "#ed7953"
             ],
             [
              0.7777777777777778,
              "#fb9f3a"
             ],
             [
              0.8888888888888888,
              "#fdca26"
             ],
             [
              1,
              "#f0f921"
             ]
            ],
            "type": "contour"
           }
          ],
          "contourcarpet": [
           {
            "colorbar": {
             "outlinewidth": 0,
             "ticks": ""
            },
            "type": "contourcarpet"
           }
          ],
          "heatmap": [
           {
            "colorbar": {
             "outlinewidth": 0,
             "ticks": ""
            },
            "colorscale": [
             [
              0,
              "#0d0887"
             ],
             [
              0.1111111111111111,
              "#46039f"
             ],
             [
              0.2222222222222222,
              "#7201a8"
             ],
             [
              0.3333333333333333,
              "#9c179e"
             ],
             [
              0.4444444444444444,
              "#bd3786"
             ],
             [
              0.5555555555555556,
              "#d8576b"
             ],
             [
              0.6666666666666666,
              "#ed7953"
             ],
             [
              0.7777777777777778,
              "#fb9f3a"
             ],
             [
              0.8888888888888888,
              "#fdca26"
             ],
             [
              1,
              "#f0f921"
             ]
            ],
            "type": "heatmap"
           }
          ],
          "heatmapgl": [
           {
            "colorbar": {
             "outlinewidth": 0,
             "ticks": ""
            },
            "colorscale": [
             [
              0,
              "#0d0887"
             ],
             [
              0.1111111111111111,
              "#46039f"
             ],
             [
              0.2222222222222222,
              "#7201a8"
             ],
             [
              0.3333333333333333,
              "#9c179e"
             ],
             [
              0.4444444444444444,
              "#bd3786"
             ],
             [
              0.5555555555555556,
              "#d8576b"
             ],
             [
              0.6666666666666666,
              "#ed7953"
             ],
             [
              0.7777777777777778,
              "#fb9f3a"
             ],
             [
              0.8888888888888888,
              "#fdca26"
             ],
             [
              1,
              "#f0f921"
             ]
            ],
            "type": "heatmapgl"
           }
          ],
          "histogram": [
           {
            "marker": {
             "pattern": {
              "fillmode": "overlay",
              "size": 10,
              "solidity": 0.2
             }
            },
            "type": "histogram"
           }
          ],
          "histogram2d": [
           {
            "colorbar": {
             "outlinewidth": 0,
             "ticks": ""
            },
            "colorscale": [
             [
              0,
              "#0d0887"
             ],
             [
              0.1111111111111111,
              "#46039f"
             ],
             [
              0.2222222222222222,
              "#7201a8"
             ],
             [
              0.3333333333333333,
              "#9c179e"
             ],
             [
              0.4444444444444444,
              "#bd3786"
             ],
             [
              0.5555555555555556,
              "#d8576b"
             ],
             [
              0.6666666666666666,
              "#ed7953"
             ],
             [
              0.7777777777777778,
              "#fb9f3a"
             ],
             [
              0.8888888888888888,
              "#fdca26"
             ],
             [
              1,
              "#f0f921"
             ]
            ],
            "type": "histogram2d"
           }
          ],
          "histogram2dcontour": [
           {
            "colorbar": {
             "outlinewidth": 0,
             "ticks": ""
            },
            "colorscale": [
             [
              0,
              "#0d0887"
             ],
             [
              0.1111111111111111,
              "#46039f"
             ],
             [
              0.2222222222222222,
              "#7201a8"
             ],
             [
              0.3333333333333333,
              "#9c179e"
             ],
             [
              0.4444444444444444,
              "#bd3786"
             ],
             [
              0.5555555555555556,
              "#d8576b"
             ],
             [
              0.6666666666666666,
              "#ed7953"
             ],
             [
              0.7777777777777778,
              "#fb9f3a"
             ],
             [
              0.8888888888888888,
              "#fdca26"
             ],
             [
              1,
              "#f0f921"
             ]
            ],
            "type": "histogram2dcontour"
           }
          ],
          "mesh3d": [
           {
            "colorbar": {
             "outlinewidth": 0,
             "ticks": ""
            },
            "type": "mesh3d"
           }
          ],
          "parcoords": [
           {
            "line": {
             "colorbar": {
              "outlinewidth": 0,
              "ticks": ""
             }
            },
            "type": "parcoords"
           }
          ],
          "pie": [
           {
            "automargin": true,
            "type": "pie"
           }
          ],
          "scatter": [
           {
            "fillpattern": {
             "fillmode": "overlay",
             "size": 10,
             "solidity": 0.2
            },
            "type": "scatter"
           }
          ],
          "scatter3d": [
           {
            "line": {
             "colorbar": {
              "outlinewidth": 0,
              "ticks": ""
             }
            },
            "marker": {
             "colorbar": {
              "outlinewidth": 0,
              "ticks": ""
             }
            },
            "type": "scatter3d"
           }
          ],
          "scattercarpet": [
           {
            "marker": {
             "colorbar": {
              "outlinewidth": 0,
              "ticks": ""
             }
            },
            "type": "scattercarpet"
           }
          ],
          "scattergeo": [
           {
            "marker": {
             "colorbar": {
              "outlinewidth": 0,
              "ticks": ""
             }
            },
            "type": "scattergeo"
           }
          ],
          "scattergl": [
           {
            "marker": {
             "colorbar": {
              "outlinewidth": 0,
              "ticks": ""
             }
            },
            "type": "scattergl"
           }
          ],
          "scattermapbox": [
           {
            "marker": {
             "colorbar": {
              "outlinewidth": 0,
              "ticks": ""
             }
            },
            "type": "scattermapbox"
           }
          ],
          "scatterpolar": [
           {
            "marker": {
             "colorbar": {
              "outlinewidth": 0,
              "ticks": ""
             }
            },
            "type": "scatterpolar"
           }
          ],
          "scatterpolargl": [
           {
            "marker": {
             "colorbar": {
              "outlinewidth": 0,
              "ticks": ""
             }
            },
            "type": "scatterpolargl"
           }
          ],
          "scatterternary": [
           {
            "marker": {
             "colorbar": {
              "outlinewidth": 0,
              "ticks": ""
             }
            },
            "type": "scatterternary"
           }
          ],
          "surface": [
           {
            "colorbar": {
             "outlinewidth": 0,
             "ticks": ""
            },
            "colorscale": [
             [
              0,
              "#0d0887"
             ],
             [
              0.1111111111111111,
              "#46039f"
             ],
             [
              0.2222222222222222,
              "#7201a8"
             ],
             [
              0.3333333333333333,
              "#9c179e"
             ],
             [
              0.4444444444444444,
              "#bd3786"
             ],
             [
              0.5555555555555556,
              "#d8576b"
             ],
             [
              0.6666666666666666,
              "#ed7953"
             ],
             [
              0.7777777777777778,
              "#fb9f3a"
             ],
             [
              0.8888888888888888,
              "#fdca26"
             ],
             [
              1,
              "#f0f921"
             ]
            ],
            "type": "surface"
           }
          ],
          "table": [
           {
            "cells": {
             "fill": {
              "color": "#EBF0F8"
             },
             "line": {
              "color": "white"
             }
            },
            "header": {
             "fill": {
              "color": "#C8D4E3"
             },
             "line": {
              "color": "white"
             }
            },
            "type": "table"
           }
          ]
         },
         "layout": {
          "annotationdefaults": {
           "arrowcolor": "#2a3f5f",
           "arrowhead": 0,
           "arrowwidth": 1
          },
          "autotypenumbers": "strict",
          "coloraxis": {
           "colorbar": {
            "outlinewidth": 0,
            "ticks": ""
           }
          },
          "colorscale": {
           "diverging": [
            [
             0,
             "#8e0152"
            ],
            [
             0.1,
             "#c51b7d"
            ],
            [
             0.2,
             "#de77ae"
            ],
            [
             0.3,
             "#f1b6da"
            ],
            [
             0.4,
             "#fde0ef"
            ],
            [
             0.5,
             "#f7f7f7"
            ],
            [
             0.6,
             "#e6f5d0"
            ],
            [
             0.7,
             "#b8e186"
            ],
            [
             0.8,
             "#7fbc41"
            ],
            [
             0.9,
             "#4d9221"
            ],
            [
             1,
             "#276419"
            ]
           ],
           "sequential": [
            [
             0,
             "#0d0887"
            ],
            [
             0.1111111111111111,
             "#46039f"
            ],
            [
             0.2222222222222222,
             "#7201a8"
            ],
            [
             0.3333333333333333,
             "#9c179e"
            ],
            [
             0.4444444444444444,
             "#bd3786"
            ],
            [
             0.5555555555555556,
             "#d8576b"
            ],
            [
             0.6666666666666666,
             "#ed7953"
            ],
            [
             0.7777777777777778,
             "#fb9f3a"
            ],
            [
             0.8888888888888888,
             "#fdca26"
            ],
            [
             1,
             "#f0f921"
            ]
           ],
           "sequentialminus": [
            [
             0,
             "#0d0887"
            ],
            [
             0.1111111111111111,
             "#46039f"
            ],
            [
             0.2222222222222222,
             "#7201a8"
            ],
            [
             0.3333333333333333,
             "#9c179e"
            ],
            [
             0.4444444444444444,
             "#bd3786"
            ],
            [
             0.5555555555555556,
             "#d8576b"
            ],
            [
             0.6666666666666666,
             "#ed7953"
            ],
            [
             0.7777777777777778,
             "#fb9f3a"
            ],
            [
             0.8888888888888888,
             "#fdca26"
            ],
            [
             1,
             "#f0f921"
            ]
           ]
          },
          "colorway": [
           "#636efa",
           "#EF553B",
           "#00cc96",
           "#ab63fa",
           "#FFA15A",
           "#19d3f3",
           "#FF6692",
           "#B6E880",
           "#FF97FF",
           "#FECB52"
          ],
          "font": {
           "color": "#2a3f5f"
          },
          "geo": {
           "bgcolor": "white",
           "lakecolor": "white",
           "landcolor": "#E5ECF6",
           "showlakes": true,
           "showland": true,
           "subunitcolor": "white"
          },
          "hoverlabel": {
           "align": "left"
          },
          "hovermode": "closest",
          "mapbox": {
           "style": "light"
          },
          "paper_bgcolor": "white",
          "plot_bgcolor": "#E5ECF6",
          "polar": {
           "angularaxis": {
            "gridcolor": "white",
            "linecolor": "white",
            "ticks": ""
           },
           "bgcolor": "#E5ECF6",
           "radialaxis": {
            "gridcolor": "white",
            "linecolor": "white",
            "ticks": ""
           }
          },
          "scene": {
           "xaxis": {
            "backgroundcolor": "#E5ECF6",
            "gridcolor": "white",
            "gridwidth": 2,
            "linecolor": "white",
            "showbackground": true,
            "ticks": "",
            "zerolinecolor": "white"
           },
           "yaxis": {
            "backgroundcolor": "#E5ECF6",
            "gridcolor": "white",
            "gridwidth": 2,
            "linecolor": "white",
            "showbackground": true,
            "ticks": "",
            "zerolinecolor": "white"
           },
           "zaxis": {
            "backgroundcolor": "#E5ECF6",
            "gridcolor": "white",
            "gridwidth": 2,
            "linecolor": "white",
            "showbackground": true,
            "ticks": "",
            "zerolinecolor": "white"
           }
          },
          "shapedefaults": {
           "line": {
            "color": "#2a3f5f"
           }
          },
          "ternary": {
           "aaxis": {
            "gridcolor": "white",
            "linecolor": "white",
            "ticks": ""
           },
           "baxis": {
            "gridcolor": "white",
            "linecolor": "white",
            "ticks": ""
           },
           "bgcolor": "#E5ECF6",
           "caxis": {
            "gridcolor": "white",
            "linecolor": "white",
            "ticks": ""
           }
          },
          "title": {
           "x": 0.05
          },
          "xaxis": {
           "automargin": true,
           "gridcolor": "white",
           "linecolor": "white",
           "ticks": "",
           "title": {
            "standoff": 15
           },
           "zerolinecolor": "white",
           "zerolinewidth": 2
          },
          "yaxis": {
           "automargin": true,
           "gridcolor": "white",
           "linecolor": "white",
           "ticks": "",
           "title": {
            "standoff": 15
           },
           "zerolinecolor": "white",
           "zerolinewidth": 2
          }
         }
        },
        "title": {
         "text": " Result of Prediction "
        },
        "xaxis": {
         "anchor": "y",
         "autorange": true,
         "domain": [
          0,
          0.45
         ],
         "range": [
          0,
          1
         ],
         "title": {
          "text": "False Positive Rate"
         },
         "type": "linear"
        },
        "xaxis2": {
         "anchor": "y2",
         "autorange": true,
         "domain": [
          0.55,
          1
         ],
         "range": [
          -0.5,
          1.5
         ]
        },
        "yaxis": {
         "anchor": "x",
         "autorange": true,
         "domain": [
          0,
          1
         ],
         "range": [
          -0.05555555555555555,
          1.0555555555555556
         ],
         "title": {
          "text": "True Positive Rate"
         },
         "type": "linear"
        },
        "yaxis2": {
         "anchor": "x2",
         "autorange": true,
         "domain": [
          0,
          1
         ],
         "range": [
          -0.5,
          1.5
         ]
        }
       }
      },
      "image/png": "[encoded data removed]",
      "text/html": [
       "<div>                            <div id=\"d9e89a6c-9e0f-45b4-a74c-30581f52789f\" class=\"plotly-graph-div\" style=\"height:525px; width:100%;\"></div>            <script type=\"text/javascript\">                require([\"plotly\"], function(Plotly) {                    window.PLOTLYENV=window.PLOTLYENV || {};                                    if (document.getElementById(\"d9e89a6c-9e0f-45b4-a74c-30581f52789f\")) {                    Plotly.newPlot(                        \"d9e89a6c-9e0f-45b4-a74c-30581f52789f\",                        [{\"mode\":\"lines\",\"name\":\"ROC curve (area = 0.56)\",\"x\":[0.0,4.829051574270813e-05,0.00019316206297083252,0.0003380336101989569,0.0005311956731697895,0.0006277767046552057,0.0009658103148541626,0.001110681862082287,0.0012072628935677033,0.0013038439250531197,0.0014970059880239522,0.0016901680509947847,0.0017384585667374927,0.0018833301139656172,0.0020764921769364495,0.0023662352713926986,0.0024628163028781146,0.0026559783658489473,0.002897430944562488,0.0030905930075333203,0.0032354645547614446,0.0034286266177322774,0.0034769171334749853,0.0035734981649604017,0.0037666602279312345,0.0041046938381301915,0.004152984353872899,0.004152984353872899,0.004346146416843732,0.004442727448329148,0.004780761058528105,0.005215375700212479,0.005988023952095809,0.006132895499323933,0.006181186015066641,0.007098705814178095,0.007195286845663512,0.00724357736140622,0.008064516129032258,0.009126907475371837,0.00932006953834267,0.009416650569828086,0.009513231601313501,0.009609812632798918,0.010527332431910372,0.01062391346339579,0.010817075526366621,0.010913656557852038,0.012555534093104115,0.012700405640332238,0.013135020282016612,0.013328182344987444,0.015404674521923895,0.015887579679350977,0.016129032258064516,0.01627390380529264,0.01632219432103535,0.018446977013714505,0.01864013907668534,0.02124782692679158,0.021296117442534287,0.02148927950550512,0.021537570021247825,0.0219721846629322,0.022358508788873865,0.022648251883330115,0.028298242225226967,0.028346532740969675,0.028491404288197797,0.028539694803940505,0.028781147382654047,0.028829437898396756,0.02916747150859571,0.02950550511879467,0.029795248213250917,0.029843538728993625,0.03877728414139463,0.038873865172880044,0.039163608267336295,0.03926018929882171,0.03950164187753525,0.039743094456248795,0.040370871160904,0.04051574270813212,0.04090206683407379,0.041095228897044624,0.04128839096001545,0.04201274869615607,0.04230249179061232,0.04322001158972378,0.05901101023758934,0.059059300753332045,0.05915588178481746,0.05930075333204558,0.05978365848947267,0.059880239520958084,0.08025883716438091,0.08035541819586633,0.08098319490052154,0.08117635696349237,0.08146610005794862,0.08161097160517675,0.08165926212091945,0.08238361985706007,0.08262507243577362,0.08272165346725903,0.08305968707745799,0.0867297662739038,0.08682634730538923,0.08692292833687464,0.12854935290708905,0.1295151632219432,0.12961174425342864,0.12970832528491405,0.12975661580065675,0.12994977786362757,0.12999806837937028,0.1317848174618505,0.13192968900907862,0.13197797952482132,0.13275062777670465,0.13313695190264632,0.1585377631833108,0.15863434421479622,0.15882750627776704,0.1592138304037087,0.15940699246667955,0.15960015452965037,0.15969673556113578,0.15984160710836393,0.16080741742321808,0.16085570793896078,0.16129032258064516,0.1614351941278733,0.16312536217886808,0.1632219432103535,0.1633668147575816,0.16351168630480972,0.16355997682055246,0.1675197991114545,0.16761638014293992,0.16853389994205137,0.1686787714892795,0.16877535252076492,0.16892022406799304,0.16901680509947847,0.16911338613096388,0.1692099671624493,0.17210739810701178,0.3059687077457987,0.3060652887772841,0.3061618698087696,0.3064999034189685,0.30659648445045395,0.30669306548193936,0.3068862275449102,0.30693451806065286,0.30712768012362374,0.30712768012362374,0.30732084218659456,0.30741742321807997,0.3075140042495654,0.3086729766273904,0.3087695576588758,0.3088661386903612,0.3090110102375893,0.30925246281630286,0.309397334363531,0.3101216920996716,0.31026656364689975,0.3106528877728414,0.31084604983581227,0.3114255360247247,0.31152211705621013,0.3116186980876956,0.3117635696349237,0.3118601506664091,0.3118601506664091,0.31200502221363724,0.31219818427660806,0.33397720687656945,0.33402549739231213,0.33412207842379754,0.3343635310025111,0.3344601120339965,0.33460498358122465,0.3347498551284528,0.3348464361599382,0.33513617925439443,0.33518446977013716,0.33528105080162257,0.335377631833108,0.3354742128645934,0.33561908441182153,0.33581224647479235,0.3358605369905351,0.3358605369905351,0.33590882750627776,0.3361019895692486,0.3361502800849913,0.33634344214796214,0.33653660421093295,0.3366814757581611,0.33682634730538924,0.33692292833687465,0.3369712188526173,0.33711609039984547,0.337695576588758,0.3378887386517288,0.3379853196832142,0.33817848174618503,0.3384682248406413,0.3386130963878694,0.3387096774193548,1.0],\"y\":[0.0,0.0,0.0,0.0,0.0,0.0,0.0,0.0,0.0,0.0,0.0,0.0,0.0,0.0,0.0,0.0,0.0,0.010526315789473684,0.010526315789473684,0.010526315789473684,0.010526315789473684,0.010526315789473684,0.010526315789473684,0.010526315789473684,0.015789473684210527,0.015789473684210527,0.015789473684210527,0.021052631578947368,0.021052631578947368,0.021052631578947368,0.021052631578947368,0.021052631578947368,0.021052631578947368,0.021052631578947368,0.021052631578947368,0.021052631578947368,0.021052631578947368,0.021052631578947368,0.021052631578947368,0.021052631578947368,0.021052631578947368,0.021052631578947368,0.021052631578947368,0.021052631578947368,0.02631578947368421,0.02631578947368421,0.02631578947368421,0.02631578947368421,0.031578947368421054,0.031578947368421054,0.031578947368421054,0.031578947368421054,0.031578947368421054,0.031578947368421054,0.031578947368421054,0.031578947368421054,0.031578947368421054,0.04736842105263158,0.04736842105263158,0.04736842105263158,0.04736842105263158,0.04736842105263158,0.04736842105263158,0.04736842105263158,0.04736842105263158,0.04736842105263158,0.04736842105263158,0.04736842105263158,0.04736842105263158,0.04736842105263158,0.04736842105263158,0.04736842105263158,0.04736842105263158,0.04736842105263158,0.04736842105263158,0.04736842105263158,0.05263157894736842,0.05263157894736842,0.05263157894736842,0.05263157894736842,0.05789473684210526,0.05789473684210526,0.05789473684210526,0.05789473684210526,0.05789473684210526,0.06315789473684211,0.06315789473684211,0.06315789473684211,0.06315789473684211,0.06315789473684211,0.08947368421052632,0.08947368421052632,0.08947368421052632,0.08947368421052632,0.08947368421052632,0.08947368421052632,0.1631578947368421,0.1631578947368421,0.1631578947368421,0.1631578947368421,0.1631578947368421,0.1631578947368421,0.1631578947368421,0.1631578947368421,0.1631578947368421,0.1631578947368421,0.1631578947368421,0.1631578947368421,0.16842105263157894,0.16842105263157894,0.21578947368421053,0.21578947368421053,0.21578947368421053,0.21578947368421053,0.21578947368421053,0.21578947368421053,0.21578947368421053,0.22105263157894736,0.22105263157894736,0.22105263157894736,0.22105263157894736,0.22105263157894736,0.26842105263157895,0.26842105263157895,0.26842105263157895,0.26842105263157895,0.26842105263157895,0.26842105263157895,0.26842105263157895,0.26842105263157895,0.26842105263157895,0.26842105263157895,0.26842105263157895,0.26842105263157895,0.2789473684210526,0.2789473684210526,0.2789473684210526,0.2789473684210526,0.2789473684210526,0.28421052631578947,0.28421052631578947,0.28421052631578947,0.28421052631578947,0.28421052631578947,0.28421052631578947,0.28421052631578947,0.28421052631578947,0.28421052631578947,0.29473684210526313,0.4105263157894737,0.4105263157894737,0.4105263157894737,0.4105263157894737,0.4105263157894737,0.4105263157894737,0.4105263157894737,0.4105263157894737,0.4105263157894737,0.41578947368421054,0.41578947368421054,0.41578947368421054,0.41578947368421054,0.41578947368421054,0.41578947368421054,0.41578947368421054,0.41578947368421054,0.41578947368421054,0.41578947368421054,0.41578947368421054,0.41578947368421054,0.41578947368421054,0.41578947368421054,0.41578947368421054,0.41578947368421054,0.41578947368421054,0.41578947368421054,0.41578947368421054,0.42105263157894735,0.42105263157894735,0.42105263157894735,0.4263157894736842,0.4263157894736842,0.4263157894736842,0.4263157894736842,0.4263157894736842,0.4263157894736842,0.4263157894736842,0.4263157894736842,0.4263157894736842,0.4263157894736842,0.4263157894736842,0.4263157894736842,0.4263157894736842,0.4263157894736842,0.4263157894736842,0.4263157894736842,0.43157894736842106,0.43157894736842106,0.43157894736842106,0.43157894736842106,0.43157894736842106,0.43157894736842106,0.43157894736842106,0.43157894736842106,0.43157894736842106,0.43157894736842106,0.43157894736842106,0.43157894736842106,0.43157894736842106,0.43157894736842106,0.43157894736842106,0.43157894736842106,0.43157894736842106,0.43157894736842106,1.0],\"type\":\"scatter\",\"xaxis\":\"x\",\"yaxis\":\"y\"},{\"line\":{\"dash\":\"dash\"},\"mode\":\"lines\",\"name\":\"Random\",\"x\":[0,1],\"y\":[0,1],\"type\":\"scatter\",\"xaxis\":\"x\",\"yaxis\":\"y\"},{\"colorscale\":[[0.0,\"#440154\"],[0.1111111111111111,\"#482878\"],[0.2222222222222222,\"#3e4989\"],[0.3333333333333333,\"#31688e\"],[0.4444444444444444,\"#26828e\"],[0.5555555555555556,\"#1f9e89\"],[0.6666666666666666,\"#35b779\"],[0.7777777777777778,\"#6ece58\"],[0.8888888888888888,\"#b5de2b\"],[1.0,\"#fde725\"]],\"showscale\":false,\"z\":[[20704,4],[190,0]],\"type\":\"heatmap\",\"xaxis\":\"x2\",\"yaxis\":\"y2\"}],                        {\"template\":{\"data\":{\"histogram2dcontour\":[{\"type\":\"histogram2dcontour\",\"colorbar\":{\"outlinewidth\":0,\"ticks\":\"\"},\"colorscale\":[[0.0,\"#0d0887\"],[0.1111111111111111,\"#46039f\"],[0.2222222222222222,\"#7201a8\"],[0.3333333333333333,\"#9c179e\"],[0.4444444444444444,\"#bd3786\"],[0.5555555555555556,\"#d8576b\"],[0.6666666666666666,\"#ed7953\"],[0.7777777777777778,\"#fb9f3a\"],[0.8888888888888888,\"#fdca26\"],[1.0,\"#f0f921\"]]}],\"choropleth\":[{\"type\":\"choropleth\",\"colorbar\":{\"outlinewidth\":0,\"ticks\":\"\"}}],\"histogram2d\":[{\"type\":\"histogram2d\",\"colorbar\":{\"outlinewidth\":0,\"ticks\":\"\"},\"colorscale\":[[0.0,\"#0d0887\"],[0.1111111111111111,\"#46039f\"],[0.2222222222222222,\"#7201a8\"],[0.3333333333333333,\"#9c179e\"],[0.4444444444444444,\"#bd3786\"],[0.5555555555555556,\"#d8576b\"],[0.6666666666666666,\"#ed7953\"],[0.7777777777777778,\"#fb9f3a\"],[0.8888888888888888,\"#fdca26\"],[1.0,\"#f0f921\"]]}],\"heatmap\":[{\"type\":\"heatmap\",\"colorbar\":{\"outlinewidth\":0,\"ticks\":\"\"},\"colorscale\":[[0.0,\"#0d0887\"],[0.1111111111111111,\"#46039f\"],[0.2222222222222222,\"#7201a8\"],[0.3333333333333333,\"#9c179e\"],[0.4444444444444444,\"#bd3786\"],[0.5555555555555556,\"#d8576b\"],[0.6666666666666666,\"#ed7953\"],[0.7777777777777778,\"#fb9f3a\"],[0.8888888888888888,\"#fdca26\"],[1.0,\"#f0f921\"]]}],\"heatmapgl\":[{\"type\":\"heatmapgl\",\"colorbar\":{\"outlinewidth\":0,\"ticks\":\"\"},\"colorscale\":[[0.0,\"#0d0887\"],[0.1111111111111111,\"#46039f\"],[0.2222222222222222,\"#7201a8\"],[0.3333333333333333,\"#9c179e\"],[0.4444444444444444,\"#bd3786\"],[0.5555555555555556,\"#d8576b\"],[0.6666666666666666,\"#ed7953\"],[0.7777777777777778,\"#fb9f3a\"],[0.8888888888888888,\"#fdca26\"],[1.0,\"#f0f921\"]]}],\"contourcarpet\":[{\"type\":\"contourcarpet\",\"colorbar\":{\"outlinewidth\":0,\"ticks\":\"\"}}],\"contour\":[{\"type\":\"contour\",\"colorbar\":{\"outlinewidth\":0,\"ticks\":\"\"},\"colorscale\":[[0.0,\"#0d0887\"],[0.1111111111111111,\"#46039f\"],[0.2222222222222222,\"#7201a8\"],[0.3333333333333333,\"#9c179e\"],[0.4444444444444444,\"#bd3786\"],[0.5555555555555556,\"#d8576b\"],[0.6666666666666666,\"#ed7953\"],[0.7777777777777778,\"#fb9f3a\"],[0.8888888888888888,\"#fdca26\"],[1.0,\"#f0f921\"]]}],\"surface\":[{\"type\":\"surface\",\"colorbar\":{\"outlinewidth\":0,\"ticks\":\"\"},\"colorscale\":[[0.0,\"#0d0887\"],[0.1111111111111111,\"#46039f\"],[0.2222222222222222,\"#7201a8\"],[0.3333333333333333,\"#9c179e\"],[0.4444444444444444,\"#bd3786\"],[0.5555555555555556,\"#d8576b\"],[0.6666666666666666,\"#ed7953\"],[0.7777777777777778,\"#fb9f3a\"],[0.8888888888888888,\"#fdca26\"],[1.0,\"#f0f921\"]]}],\"mesh3d\":[{\"type\":\"mesh3d\",\"colorbar\":{\"outlinewidth\":0,\"ticks\":\"\"}}],\"scatter\":[{\"fillpattern\":{\"fillmode\":\"overlay\",\"size\":10,\"solidity\":0.2},\"type\":\"scatter\"}],\"parcoords\":[{\"type\":\"parcoords\",\"line\":{\"colorbar\":{\"outlinewidth\":0,\"ticks\":\"\"}}}],\"scatterpolargl\":[{\"type\":\"scatterpolargl\",\"marker\":{\"colorbar\":{\"outlinewidth\":0,\"ticks\":\"\"}}}],\"bar\":[{\"error_x\":{\"color\":\"#2a3f5f\"},\"error_y\":{\"color\":\"#2a3f5f\"},\"marker\":{\"line\":{\"color\":\"#E5ECF6\",\"width\":0.5},\"pattern\":{\"fillmode\":\"overlay\",\"size\":10,\"solidity\":0.2}},\"type\":\"bar\"}],\"scattergeo\":[{\"type\":\"scattergeo\",\"marker\":{\"colorbar\":{\"outlinewidth\":0,\"ticks\":\"\"}}}],\"scatterpolar\":[{\"type\":\"scatterpolar\",\"marker\":{\"colorbar\":{\"outlinewidth\":0,\"ticks\":\"\"}}}],\"histogram\":[{\"marker\":{\"pattern\":{\"fillmode\":\"overlay\",\"size\":10,\"solidity\":0.2}},\"type\":\"histogram\"}],\"scattergl\":[{\"type\":\"scattergl\",\"marker\":{\"colorbar\":{\"outlinewidth\":0,\"ticks\":\"\"}}}],\"scatter3d\":[{\"type\":\"scatter3d\",\"line\":{\"colorbar\":{\"outlinewidth\":0,\"ticks\":\"\"}},\"marker\":{\"colorbar\":{\"outlinewidth\":0,\"ticks\":\"\"}}}],\"scattermapbox\":[{\"type\":\"scattermapbox\",\"marker\":{\"colorbar\":{\"outlinewidth\":0,\"ticks\":\"\"}}}],\"scatterternary\":[{\"type\":\"scatterternary\",\"marker\":{\"colorbar\":{\"outlinewidth\":0,\"ticks\":\"\"}}}],\"scattercarpet\":[{\"type\":\"scattercarpet\",\"marker\":{\"colorbar\":{\"outlinewidth\":0,\"ticks\":\"\"}}}],\"carpet\":[{\"aaxis\":{\"endlinecolor\":\"#2a3f5f\",\"gridcolor\":\"white\",\"linecolor\":\"white\",\"minorgridcolor\":\"white\",\"startlinecolor\":\"#2a3f5f\"},\"baxis\":{\"endlinecolor\":\"#2a3f5f\",\"gridcolor\":\"white\",\"linecolor\":\"white\",\"minorgridcolor\":\"white\",\"startlinecolor\":\"#2a3f5f\"},\"type\":\"carpet\"}],\"table\":[{\"cells\":{\"fill\":{\"color\":\"#EBF0F8\"},\"line\":{\"color\":\"white\"}},\"header\":{\"fill\":{\"color\":\"#C8D4E3\"},\"line\":{\"color\":\"white\"}},\"type\":\"table\"}],\"barpolar\":[{\"marker\":{\"line\":{\"color\":\"#E5ECF6\",\"width\":0.5},\"pattern\":{\"fillmode\":\"overlay\",\"size\":10,\"solidity\":0.2}},\"type\":\"barpolar\"}],\"pie\":[{\"automargin\":true,\"type\":\"pie\"}]},\"layout\":{\"autotypenumbers\":\"strict\",\"colorway\":[\"#636efa\",\"#EF553B\",\"#00cc96\",\"#ab63fa\",\"#FFA15A\",\"#19d3f3\",\"#FF6692\",\"#B6E880\",\"#FF97FF\",\"#FECB52\"],\"font\":{\"color\":\"#2a3f5f\"},\"hovermode\":\"closest\",\"hoverlabel\":{\"align\":\"left\"},\"paper_bgcolor\":\"white\",\"plot_bgcolor\":\"#E5ECF6\",\"polar\":{\"bgcolor\":\"#E5ECF6\",\"angularaxis\":{\"gridcolor\":\"white\",\"linecolor\":\"white\",\"ticks\":\"\"},\"radialaxis\":{\"gridcolor\":\"white\",\"linecolor\":\"white\",\"ticks\":\"\"}},\"ternary\":{\"bgcolor\":\"#E5ECF6\",\"aaxis\":{\"gridcolor\":\"white\",\"linecolor\":\"white\",\"ticks\":\"\"},\"baxis\":{\"gridcolor\":\"white\",\"linecolor\":\"white\",\"ticks\":\"\"},\"caxis\":{\"gridcolor\":\"white\",\"linecolor\":\"white\",\"ticks\":\"\"}},\"coloraxis\":{\"colorbar\":{\"outlinewidth\":0,\"ticks\":\"\"}},\"colorscale\":{\"sequential\":[[0.0,\"#0d0887\"],[0.1111111111111111,\"#46039f\"],[0.2222222222222222,\"#7201a8\"],[0.3333333333333333,\"#9c179e\"],[0.4444444444444444,\"#bd3786\"],[0.5555555555555556,\"#d8576b\"],[0.6666666666666666,\"#ed7953\"],[0.7777777777777778,\"#fb9f3a\"],[0.8888888888888888,\"#fdca26\"],[1.0,\"#f0f921\"]],\"sequentialminus\":[[0.0,\"#0d0887\"],[0.1111111111111111,\"#46039f\"],[0.2222222222222222,\"#7201a8\"],[0.3333333333333333,\"#9c179e\"],[0.4444444444444444,\"#bd3786\"],[0.5555555555555556,\"#d8576b\"],[0.6666666666666666,\"#ed7953\"],[0.7777777777777778,\"#fb9f3a\"],[0.8888888888888888,\"#fdca26\"],[1.0,\"#f0f921\"]],\"diverging\":[[0,\"#8e0152\"],[0.1,\"#c51b7d\"],[0.2,\"#de77ae\"],[0.3,\"#f1b6da\"],[0.4,\"#fde0ef\"],[0.5,\"#f7f7f7\"],[0.6,\"#e6f5d0\"],[0.7,\"#b8e186\"],[0.8,\"#7fbc41\"],[0.9,\"#4d9221\"],[1,\"#276419\"]]},\"xaxis\":{\"gridcolor\":\"white\",\"linecolor\":\"white\",\"ticks\":\"\",\"title\":{\"standoff\":15},\"zerolinecolor\":\"white\",\"automargin\":true,\"zerolinewidth\":2},\"yaxis\":{\"gridcolor\":\"white\",\"linecolor\":\"white\",\"ticks\":\"\",\"title\":{\"standoff\":15},\"zerolinecolor\":\"white\",\"automargin\":true,\"zerolinewidth\":2},\"scene\":{\"xaxis\":{\"backgroundcolor\":\"#E5ECF6\",\"gridcolor\":\"white\",\"linecolor\":\"white\",\"showbackground\":true,\"ticks\":\"\",\"zerolinecolor\":\"white\",\"gridwidth\":2},\"yaxis\":{\"backgroundcolor\":\"#E5ECF6\",\"gridcolor\":\"white\",\"linecolor\":\"white\",\"showbackground\":true,\"ticks\":\"\",\"zerolinecolor\":\"white\",\"gridwidth\":2},\"zaxis\":{\"backgroundcolor\":\"#E5ECF6\",\"gridcolor\":\"white\",\"linecolor\":\"white\",\"showbackground\":true,\"ticks\":\"\",\"zerolinecolor\":\"white\",\"gridwidth\":2}},\"shapedefaults\":{\"line\":{\"color\":\"#2a3f5f\"}},\"annotationdefaults\":{\"arrowcolor\":\"#2a3f5f\",\"arrowhead\":0,\"arrowwidth\":1},\"geo\":{\"bgcolor\":\"white\",\"landcolor\":\"#E5ECF6\",\"subunitcolor\":\"white\",\"showland\":true,\"showlakes\":true,\"lakecolor\":\"white\"},\"title\":{\"x\":0.05},\"mapbox\":{\"style\":\"light\"}}},\"xaxis\":{\"anchor\":\"y\",\"domain\":[0.0,0.45],\"title\":{\"text\":\"False Positive Rate\"}},\"yaxis\":{\"anchor\":\"x\",\"domain\":[0.0,1.0],\"title\":{\"text\":\"True Positive Rate\"}},\"xaxis2\":{\"anchor\":\"y2\",\"domain\":[0.55,1.0]},\"yaxis2\":{\"anchor\":\"x2\",\"domain\":[0.0,1.0]},\"annotations\":[{\"font\":{\"size\":16},\"showarrow\":false,\"text\":\"Receiver Operating Characteristic (ROC) Curve\",\"x\":0.225,\"xanchor\":\"center\",\"xref\":\"paper\",\"y\":1.0,\"yanchor\":\"bottom\",\"yref\":\"paper\"},{\"font\":{\"size\":16},\"showarrow\":false,\"text\":\"Confusion Matrix\",\"x\":0.775,\"xanchor\":\"center\",\"xref\":\"paper\",\"y\":1.0,\"yanchor\":\"bottom\",\"yref\":\"paper\"}],\"title\":{\"text\":\" Result of Prediction \"}},                        {\"responsive\": true}                    ).then(function(){\n",
       "                            \n",
       "var gd = document.getElementById('d9e89a6c-9e0f-45b4-a74c-30581f52789f');\n",
       "var x = new MutationObserver(function (mutations, observer) {{\n",
       "        var display = window.getComputedStyle(gd).display;\n",
       "        if (!display || display === 'none') {{\n",
       "            console.log([gd, 'removed!']);\n",
       "            Plotly.purge(gd);\n",
       "            observer.disconnect();\n",
       "        }}\n",
       "}});\n",
       "\n",
       "// Listen for the removal of the full notebook cells\n",
       "var notebookContainer = gd.closest('#notebook-container');\n",
       "if (notebookContainer) {{\n",
       "    x.observe(notebookContainer, {childList: true});\n",
       "}}\n",
       "\n",
       "// Listen for the clearing of the current output cell\n",
       "var outputEl = gd.closest('.output');\n",
       "if (outputEl) {{\n",
       "    x.observe(outputEl, {childList: true});\n",
       "}}\n",
       "\n",
       "                        })                };                });            </script>        </div>"
      ]
     },
     "metadata": {},
     "output_type": "display_data"
    },
    {
     "name": "stderr",
     "output_type": "stream",
     "text": [
      "[Stage 70:=======================>                              (105 + 2) / 242]\r"
     ]
    }
   ],
   "source": [
    "from sklearn.ensemble import RandomForestClassifier\n",
    "from sklearn.feature_extraction.text import TfidfVectorizer\n",
    "from sklearn.pipeline import Pipeline\n",
    "from sklearn.metrics import accuracy_score, classification_report, confusion_matrix, roc_curve, auc\n",
    "import plotly.graph_objects as go\n",
    "from plotly.subplots import make_subplots\n",
    "\n",
    "\n",
    "# Calculate the ROC curve\n",
    "y_true = test_data['controversiality']\n",
    "y_scores = rf_clf.predict_proba(test_data['clean_body'])[:, 1]  # Probability of class 1\n",
    "\n",
    "fpr, tpr, thresholds = roc_curve(y_true, y_scores)\n",
    "roc_auc = auc(fpr, tpr)\n",
    "\n",
    "# Calculate confusion matrix\n",
    "conf_matrix = confusion_matrix(y_true, predictions_rf)\n",
    "\n",
    "# Plot ROC Curve and Confusion Matrix with Plotly\n",
    "fig = make_subplots(rows=1, cols=2, subplot_titles=['Receiver Operating Characteristic (ROC) Curve', 'Confusion Matrix'])\n",
    "\n",
    "# ROC Curve\n",
    "fig.add_trace(go.Scatter(x=fpr, y=tpr, mode='lines', name='ROC curve (area = {:.2f})'.format(roc_auc)),\n",
    "              row=1, col=1)\n",
    "fig.add_trace(go.Scatter(x=[0, 1], y=[0, 1], mode='lines', name='Random', line=dict(dash='dash')),\n",
    "              row=1, col=1)\n",
    "fig.update_xaxes(title_text='False Positive Rate', row=1, col=1)\n",
    "fig.update_yaxes(title_text='True Positive Rate', row=1, col=1)\n",
    "\n",
    "# Confusion Matrix\n",
    "fig.add_trace(go.Heatmap(z=conf_matrix, colorscale='Viridis', showscale=False),\n",
    "              row=1, col=2)\n",
    "fig.update_layout(title_text=' Result of Prediction ')\n",
    "\n",
    "# Save the combined figure\n",
    "save_path = '/root/fall-2023-reddit-project-team-33/data/plots/RF_ROC_ConfusionMatrix.html'\n",
    "fig.write_html(save_path)\n",
    "fig.show()"
   ]
  },
  {
   "cell_type": "markdown",
   "id": "3c8c3165-5e4f-4c7c-b49e-c692e63b41b3",
   "metadata": {},
   "source": [
    "## Confusion Matrix and ROC Curve Analysis\n",
    "\n",
    "This Three models exhibit impressive accuracy of 0.99, primarily driven by its ability to accurately predict instances of the majority class (class 0, non-controversial). However, a deeper analysis through the confusion matrix and ROC curve reveals significant challenges in correctly identifying instances of the minority class (class 1, controversial). The confusion matrix indicates that the model has failed to predict any true positives for the controversial class, resulting in a lack of precision, recall, and F1-score for class 1. The ROC curve, characterized by a diagonal line and an AUC of 0.5, further underscores the model's struggle to discriminate effectively between the two classes. These findings suggest a need for addressing class imbalance and potentially exploring alternative models or parameter tuning to enhance the Random Forest's performance, especially in capturing patterns related to the controversial class.\n",
    "\n",
    "In summary, while the overall accuracy appears impressive, the model's inability to correctly identify instances of the minority class is a significant limitation. Further refinement, potentially involving class rebalancing techniques or alternative modeling approaches, is recommended to ensure a more balanced and effective predictive performance across both classes in real-world applications."
   ]
  },
  {
   "cell_type": "markdown",
   "id": "29dd67d5-8e3c-423e-96c7-d9c9da029ec2",
   "metadata": {},
   "source": [
    "# Controversiality Text Classification Summary\n",
    "\n",
    "The Controversiality text classification model did a great job overall, achieving a super high accuracy of 99%! However, when we take a closer look, there's a bit more to the story.\n",
    "\n",
    "## Breakdown:\n",
    "\n",
    "### Great at Easy Questions (Non-controversial):\n",
    "\n",
    "- The model aced the questions related to everyday, non-controversial topics. It got 99% of those right!\n",
    "- It's like the student getting almost every question about everyday life correct.\n",
    "\n",
    "### Struggling with Difficult Questions (Controversial):\n",
    "\n",
    "- Now, when it comes to the tricky questions about controversial issues, the model kind of drew a blank. It didn't get a single one right!\n",
    "- It's like the student completely missing all the challenging questions on controversial topics.\n",
    "\n",
    "### Overall Grade:\n",
    "\n",
    "- If we calculate the overall grade for the test, it looks fantastic because the majority of the questions were easy. The model got an A+!\n",
    "- However, if we look closer and see how the student performed on the tough questions, it's not so great.\n",
    "\n",
    "## In a Nutshell:\n",
    "\n",
    "- The model is like a superstar when it comes to everyday stuff but needs some serious help understanding controversial topics.\n",
    "- So, while the overall grade looks impressive, it's important to remember that there's room for improvement, especially in dealing with the more challenging, controversial aspects.\n",
    "\n",
    "## Suggestions for Improvement:\n",
    "\n",
    "- It might be helpful to give the model more exposure to controversial topics during training, like giving our student more practice with the tougher questions.\n",
    "- The model could benefit from learning different strategies to handle these tricky topics, maybe by considering more factors or using a more sophisticated approach.\n",
    "- Also, we could try to balance the topics in our test to make sure we're not just testing on the easy stuff.\n",
    "\n",
    "In a nutshell, while the model is a star in some areas, it still has some homework to do when it comes to understanding controversial issues.\n"
   ]
  },
  {
   "cell_type": "markdown",
   "id": "3bcfe0d0-814f-49d6-83ec-770d39ecb36a",
   "metadata": {},
   "source": [
    "## Improvement"
   ]
  },
  {
   "cell_type": "markdown",
   "id": "5dd94747-d41e-4de3-8096-f42abd457e4c",
   "metadata": {
    "tags": []
   },
   "source": [
    "### Get Balanced Comments Datasets\n",
    "\n",
    "In summary, without a balanced dataset, the models achieved an impressive 99% accuracy in predicting 'controversiality=False'. However, when it comes to predicting 'controversiality=True' comments, the performance is less satisfactory. Therefore, we started from the original dataset, ensuring a total data length not exceeding 10,000. We randomly sampled and merged from the original 834,339 records with 'controversiality=False' and 8,563 records with 'controversiality=True'. Subsequently, we cleaned the text content in the balanced dataset and utilized logistic regression, Naive Bayes, and SVM for prediction. This approach aims to address the imbalanced class issue and enhance the models' performance."
   ]
  },
  {
   "cell_type": "code",
   "execution_count": 6,
   "id": "c7bb3598-f68a-4ccc-80dd-f1681e75e134",
   "metadata": {
    "tags": []
   },
   "outputs": [
    {
     "name": "stdout",
     "output_type": "stream",
     "text": [
      "+--------------------+--------------+----------------------+-----------------+--------------------+--------+----------------+-------------------+-------------+------+------+-------+------------+---------+----------+--------------------+-------------------+-----+--------+---------------+------------+\n",
      "|              author|author_cakeday|author_flair_css_class|author_flair_text|                body|can_gild|controversiality|        created_utc|distinguished|edited|gilded|     id|is_submitter|  link_id| parent_id|           permalink|       retrieved_on|score|stickied|      subreddit|subreddit_id|\n",
      "+--------------------+--------------+----------------------+-----------------+--------------------+--------+----------------+-------------------+-------------+------+------+-------+------------+---------+----------+--------------------+-------------------+-----+--------+---------------+------------+\n",
      "|        chinghiskhan|          null|                00FFFF|       Glitterati|  Aww, thank you! 💙|    true|               0|2022-01-11 04:04:19|         null| false|     0|hs5vt5h|        true|t3_s125dy|t1_hs5p1jj|/r/MakeupAddictio...|2022-02-21 17:59:13|    4|   false|MakeupAddiction|    t5_2rww2|\n",
      "|        chinghiskhan|          null|                00FFFF|       Glitterati|Aw thanks, that’s...|    true|               0|2022-01-11 04:04:46|         null| false|     0|hs5vv80|        true|t3_s125dy|t1_hs5q3g2|/r/MakeupAddictio...|2022-02-21 17:59:10|    5|   false|MakeupAddiction|    t5_2rww2|\n",
      "|        chinghiskhan|          null|                00FFFF|       Glitterati|Omg thank you so ...|    true|               0|2022-01-11 04:05:04|         null| false|     0|hs5vwrf|        true|t3_s125dy|t1_hs5r131|/r/MakeupAddictio...|2022-02-21 17:59:08|    5|   false|MakeupAddiction|    t5_2rww2|\n",
      "|        ssuperficial|          null|                  null|             null|Too Faced had a k...|    true|               0|2022-01-11 04:08:26|         null| false|     0|hs5wdjb|       false|t3_s0u3nh| t3_s0u3nh|/r/MakeupAddictio...|2022-02-21 17:58:42|    2|   false|MakeupAddiction|    t5_2rww2|\n",
      "|Equivalent-Newt-4592|          null|                  null|             null|All the eyeshadow...|    true|               0|2022-01-11 04:09:07|         null| false|     0|hs5wh9u|        true|t3_s11hyr|t1_hs5p5dn|/r/MakeupAddictio...|2022-02-21 17:58:36|   10|   false|MakeupAddiction|    t5_2rww2|\n",
      "+--------------------+--------------+----------------------+-----------------+--------------------+--------+----------------+-------------------+-------------+------+------+-------+------------+---------+----------+--------------------+-------------------+-----+--------+---------------+------------+\n",
      "only showing top 5 rows\n",
      "\n"
     ]
    }
   ],
   "source": [
    "comments.show(5)"
   ]
  },
  {
   "cell_type": "code",
   "execution_count": 12,
   "id": "259ab855-cad4-4790-aacd-8dad3a347472",
   "metadata": {
    "tags": []
   },
   "outputs": [],
   "source": [
    "#### sample the improve_comments dataset\n",
    "improve_comments = comments.sample(withReplacement=False, fraction=0.8, seed=123)"
   ]
  },
  {
   "cell_type": "code",
   "execution_count": 13,
   "id": "8c82cd9c-4e83-4fad-924b-549672ef0cdf",
   "metadata": {},
   "outputs": [],
   "source": [
    "\n",
    "\n",
    "from pyspark.sql.types import IntegerType\n",
    "\n",
    "# Convert 'controversiality' to integer type (assuming it's not already)\n",
    "improve_comments = improve_comments.withColumn('controversiality', improve_comments['controversiality'].cast(IntegerType()))\n",
    "\n",
    "# Convert 'controversiality' to a categorical variable\n",
    "improve_comments = improve_comments.withColumn('controversiality', improve_comments['controversiality'].cast('string'))\n",
    "\n",
    "# Show the updated DataFrame\n",
    "\n",
    "improve_comments_selected = improve_comments.select('body', 'controversiality')\n",
    "\n"
   ]
  },
  {
   "cell_type": "code",
   "execution_count": null,
   "id": "79660c35-af65-4395-8f88-244ba5de0c3a",
   "metadata": {
    "tags": []
   },
   "outputs": [
    {
     "name": "stderr",
     "output_type": "stream",
     "text": [
      "[Stage 5:======================================================>(240 + 1) / 241]\r"
     ]
    },
    {
     "name": "stdout",
     "output_type": "stream",
     "text": [
      "+----------------+------+\n",
      "|controversiality| count|\n",
      "+----------------+------+\n",
      "|               0|834339|\n",
      "|               1|  8563|\n",
      "+----------------+------+\n",
      "\n"
     ]
    },
    {
     "name": "stderr",
     "output_type": "stream",
     "text": [
      "                                                                                \r"
     ]
    }
   ],
   "source": [
    "\n",
    "controversiality_counts = improve_comments_selected.groupBy('controversiality').count()\n",
    "\n",
    "# Show the count of different controversiality values\n",
    "controversiality_counts.show()\n"
   ]
  },
  {
   "cell_type": "code",
   "execution_count": 14,
   "id": "08033881-aeb1-465e-9572-3fe1f8e72900",
   "metadata": {
    "tags": []
   },
   "outputs": [
    {
     "name": "stderr",
     "output_type": "stream",
     "text": [
      "[Stage 5:======================================================>(241 + 1) / 242]\r"
     ]
    },
    {
     "name": "stdout",
     "output_type": "stream",
     "text": [
      "+--------------------+--------------+----------------------+-----------------+--------------------+--------+----------------+-------------------+-------------+------+------+-------+------------+----------+----------+--------------------+-------------------+-----+--------+---------------+------------+\n",
      "|              author|author_cakeday|author_flair_css_class|author_flair_text|                body|can_gild|controversiality|        created_utc|distinguished|edited|gilded|     id|is_submitter|   link_id| parent_id|           permalink|       retrieved_on|score|stickied|      subreddit|subreddit_id|\n",
      "+--------------------+--------------+----------------------+-----------------+--------------------+--------+----------------+-------------------+-------------+------+------+-------+------------+----------+----------+--------------------+-------------------+-----+--------+---------------+------------+\n",
      "|         teatalker26|          null|                  null|             null|          no thanks!|    true|               1|2023-03-04 13:15:32|         null| false|     0|javqqnx|        true|t3_11hj0yj|t1_javpj0a|/r/MakeupAddictio...|2023-04-12 11:27:23|    8|   false|MakeupAddiction|    t5_2rww2|\n",
      "|     Forsaken_Box_94|          null|                  null|             null|I have to confess...|    true|               1|2022-08-15 19:41:28|         null| false|     0|ikf9de7|       false| t3_wp8d81| t3_wp8d81|/r/MakeupAddictio...|2022-09-08 23:25:49|   -2|   false|MakeupAddiction|    t5_2rww2|\n",
      "|         Waterblooms|          null|                  null|             null|           Gorgeous!|    true|               1|2022-01-31 03:02:19|         null| false|     0|huy0zri|       false| t3_sglylm| t3_sglylm|/r/MakeupAddictio...|2022-02-19 06:20:42|    1|   false|MakeupAddiction|    t5_2rww2|\n",
      "|       Murky-Ad-8891|          null|                  null|             null|Fragrances are kn...|    true|               1|2022-10-26 10:34:30|         null| false|     0|itu7hg7|       false| t3_ydkcxp|t1_ittajuf|/r/MakeupAddictio...|2022-11-08 06:08:05|   -1|   false|MakeupAddiction|    t5_2rww2|\n",
      "|          serena-joy|          null|                  null|             null|oh my god wow?? i...|    true|               0|2021-03-14 22:40:21|         null| false|     0|gqycuc9|        true| t3_m3keim|t1_gqxcf3p|/r/MakeupAddictio...|               null|    2|   false|MakeupAddiction|    t5_2rww2|\n",
      "|           Skomwtfyb|          null|                  null|             null|           Amazing!!|    true|               1|2021-01-18 00:49:30|         null| false|     0|gjo4vqt|       false| t3_kzhad4| t3_kzhad4|/r/MakeupAddictio...|2021-05-19 02:58:47|    2|   false|MakeupAddiction|    t5_2rww2|\n",
      "| Adventurous_oF-Girl|          null|                  null|             null|I’m pretty sure i...|    true|               0|2023-03-02 00:20:17|         null| false|     0|jak4o8w|       false|t3_11faa71|t3_11faa71|/r/MakeupAddictio...|2023-04-12 15:03:54|    2|   false|MakeupAddiction|    t5_2rww2|\n",
      "|    valentinasmakeup|          null|                  null|             null|PRODUCTS USED\\r  ...|    true|               0|2022-07-27 11:27:30|         null| false|     0|ihu7ai9|       false| t3_w9c6od| t3_w9c6od|/r/MakeupAddictio...|2022-08-06 06:12:19|    1|   false|MakeupAddiction|    t5_2rww2|\n",
      "|            witchfai|          null|                  null|             null|wdym by brushing ...|    true|               1|2022-08-10 14:39:18|         null| false|     0|ijq2dwm|       false| t3_wkx59o|t1_ijq1kma|/r/MakeupAddictio...|2022-09-09 09:14:01|   -4|   false|MakeupAddiction|    t5_2rww2|\n",
      "|       Novel_Ad_5698|          null|                  null|             null|You are literally...|    true|               1|2022-03-25 19:44:54|         null| false|     0|i23tnkh|       false| t3_tnv6k6| t3_tnv6k6|/r/MakeupAddictio...|2022-06-20 05:08:03|   -3|   false|MakeupAddiction|    t5_2rww2|\n",
      "|    chubby_pancakess|          null|                  null|             null|If your eyelashes...|    true|               1|2022-09-05 01:32:15|         null| false|     0|in4othr|       false| t3_x5wws2| t3_x5wws2|/r/MakeupAddictio...|2022-10-07 02:00:52|    0|   false|MakeupAddiction|    t5_2rww2|\n",
      "|honeybunchesofgoatso|          null|                  null|             null|Seriously how stu...|    true|               0|2023-03-27 23:44:38|         null| false|     0|jdxt0g1|       false|t3_123pj7x|t1_jdvmn12|/r/MakeupAddictio...|2023-04-11 03:11:46|  119|   false|MakeupAddiction|    t5_2rww2|\n",
      "|           sushe0001|          null|                  null|             null|You have natural,...|    true|               1|2023-01-15 16:46:23|         null| false|     0|j4gq6tv|       false|t3_10ckq3d|t3_10ckq3d|/r/MakeupAddictio...|2023-02-11 21:17:21|    1|   false|MakeupAddiction|    t5_2rww2|\n",
      "| missblackeyelinerrx|          null|                  null|             null|Colourpop at fore...|    true|               1|2021-02-15 18:33:19|         null| false|     0|gnk4zum|       false| t3_lkjery| t3_lkjery|/r/MakeupAddictio...|               null|    0|   false|MakeupAddiction|    t5_2rww2|\n",
      "|          Angel_0997|          null|                  null|             null|This is STUNNING ...|    true|               0|2021-08-09 12:01:42|         null| false|     0|h89z7ke|       false| t3_p0yr94| t3_p0yr94|/r/MakeupAddictio...|2022-05-12 16:34:11|    1|   false|MakeupAddiction|    t5_2rww2|\n",
      "|         KookyKrista|          null|                  null|             null|Aw, thanks! I use...|    true|               0|2022-11-16 19:35:24|         null| false|     0|iwmmb7k|        true| t3_ywxeot|t1_iwm59t8|/r/MakeupAddictio...|2022-12-15 15:27:12|    1|   false|MakeupAddiction|    t5_2rww2|\n",
      "|      LittleHexWitch|          null|                  null|             null|This is so goood ...|    true|               0|2021-12-12 18:01:50|         null| false|     0|ho9umcx|       false| t3_reueay| t3_reueay|/r/MakeupAddictio...|2022-02-24 07:12:20|    2|   false|MakeupAddiction|    t5_2rww2|\n",
      "|Sweaty-Discussion-45|          null|                  null|             null|Lancôme concealer...|    true|               0|2021-12-15 04:04:52|         null| false|     0|holqkg0|       false| t3_rgpvfz| t3_rgpvfz|/r/MakeupAddictio...|2022-06-22 12:42:17|    2|   false|MakeupAddiction|    t5_2rww2|\n",
      "|        Lex-ington22|          null|                  null|             null|The look is amazi...|    true|               1|2023-03-04 18:22:15|         null| false|     0|jaww8p4|       false|t3_11i5vhz|t3_11i5vhz|/r/MakeupAddictio...|2023-04-12 11:05:46|    5|   false|MakeupAddiction|    t5_2rww2|\n",
      "|      AccordingShoe8|          null|                  null|             null|This is the cutes...|    true|               1|2022-06-14 22:06:52|         null| false|     0|icdt6kj|       false| t3_vc8q0u| t3_vc8q0u|/r/MakeupAddictio...|2022-07-04 04:11:27|   -2|   false|MakeupAddiction|    t5_2rww2|\n",
      "+--------------------+--------------+----------------------+-----------------+--------------------+--------+----------------+-------------------+-------------+------+------+-------+------------+----------+----------+--------------------+-------------------+-----+--------+---------------+------------+\n",
      "only showing top 20 rows\n",
      "\n"
     ]
    },
    {
     "name": "stderr",
     "output_type": "stream",
     "text": [
      "                                                                                \r"
     ]
    }
   ],
   "source": [
    "from pyspark.sql import SparkSession\n",
    "from pyspark.sql.functions import rand\n",
    "\n",
    "# Randomly sample 8343 records from samples with controversiality=0\n",
    "controversiality_0_samples = improve_comments.filter(improve_comments['controversiality'] == 0).orderBy(rand(seed=42)).limit(8343)\n",
    "\n",
    "# Select all 8563 records from samples with controversiality=1\n",
    "controversiality_1_samples = improve_comments.filter(improve_comments['controversiality'] == 1)\n",
    "\n",
    "# Merge the two subsets\n",
    "balanced_df = controversiality_0_samples.union(controversiality_1_samples)\n",
    "\n",
    "# Randomly sample 10000 records\n",
    "balanced_df = balanced_df.orderBy(rand(seed=42)).limit(10000)\n",
    "\n",
    "# Display the results\n",
    "balanced_df.show()\n"
   ]
  },
  {
   "cell_type": "code",
   "execution_count": 16,
   "id": "8eb23a9f-87fb-480b-84a4-2a026b0ef12b",
   "metadata": {
    "tags": []
   },
   "outputs": [],
   "source": [
    "from pyspark.sql.functions import col, regexp_replace, lower\n",
    "from pyspark.sql import SparkSession\n",
    "from pyspark.sql.functions import lower, col, regexp_replace, udf, length, StringType\n",
    "from pyspark.ml.feature import Tokenizer, StopWordsRemover\n",
    "balanced_df = balanced_df.withColumn('clean_body', clean_text_udf(col('body')))\n",
    "balanced_df = balanced_df.na.drop(subset=[\"clean_body\"])\n",
    "balanced_df = balanced_df.filter(length(col('clean_body')) > 0)\n"
   ]
  },
  {
   "cell_type": "code",
   "execution_count": 17,
   "id": "dcdaacfe-cb09-4aa3-b8a7-78cb811cb396",
   "metadata": {
    "tags": []
   },
   "outputs": [],
   "source": [
    "Contro_dataset=balanced_df.select(\"clean_body\",\"controversiality\")\n"
   ]
  },
  {
   "cell_type": "code",
   "execution_count": 18,
   "id": "4ee56a26-37aa-46ae-b7a8-113d81d65e3f",
   "metadata": {
    "tags": []
   },
   "outputs": [
    {
     "name": "stderr",
     "output_type": "stream",
     "text": [
      "                                                                                \r"
     ]
    }
   ],
   "source": [
    "Contro_dataset=Contro_dataset.toPandas()\n",
    "\n",
    "  "
   ]
  },
  {
   "cell_type": "code",
   "execution_count": 91,
   "id": "bfdc6c6a-5105-4744-9db9-6a98743cc833",
   "metadata": {
    "tags": []
   },
   "outputs": [],
   "source": [
    "from pyspark.sql import SparkSession\n",
    "from pyspark.sql.functions import rand\n",
    "from sklearn.model_selection import train_test_split\n",
    "\n",
    "# Split the data into features (X) and labels (y)\n",
    "X = Contro_dataset['clean_body'].tolist()  # Convert to a list\n",
    "y = Contro_dataset['controversiality'].tolist()  # Convert to a list\n",
    "\n",
    "# Split the data into training and testing sets\n",
    "# Adjust the test_size parameter to control the ratio of the split\n",
    "X_train, X_test, y_train, y_test = train_test_split(X, y, test_size=0.2, random_state=42)\n",
    "\n",
    "# Now  can use X_train and y_train for training your model\n",
    "# And X_test and y_test for evaluating the model\n",
    "\n",
    "\n",
    "train_data = pd.DataFrame({'clean_body': X_train, 'controversiality': y_train})\n",
    "test_data = pd.DataFrame({'clean_body': X_test, 'controversiality': y_test})\n",
    "\n"
   ]
  },
  {
   "cell_type": "code",
   "execution_count": 16,
   "id": "cc97edfd-b1c7-4b3a-897c-4cb9dd7e821a",
   "metadata": {
    "tags": []
   },
   "outputs": [
    {
     "name": "stdout",
     "output_type": "stream",
     "text": [
      "Accuracy: 0.67\n",
      "              precision    recall  f1-score   support\n",
      "\n",
      "           0       0.74      0.56      0.63      1014\n",
      "           1       0.63      0.79      0.70       965\n",
      "\n",
      "    accuracy                           0.67      1979\n",
      "   macro avg       0.68      0.67      0.67      1979\n",
      "weighted avg       0.68      0.67      0.67      1979\n",
      "\n"
     ]
    }
   ],
   "source": [
    "\n",
    "\n",
    "\n",
    "# Import necessary libraries\n",
    "from sklearn.feature_extraction.text import TfidfVectorizer\n",
    "from sklearn.naive_bayes import MultinomialNB\n",
    "from sklearn.pipeline import Pipeline\n",
    "from sklearn.metrics import classification_report, accuracy_score\n",
    "\n",
    "# Step 1: Create a pipeline with a TF-IDF vectorizer and a classifier (e.g., Naive Bayes)\n",
    "text_clf = Pipeline([\n",
    "    ('tfidf', TfidfVectorizer()),\n",
    "    ('clf', MultinomialNB())\n",
    "])\n",
    "\n",
    "# Step 2: Train the model on the training data\n",
    "text_clf.fit(train_data['clean_body'], train_data['controversiality'])\n",
    "\n",
    "# Step 3: Make predictions on the test data\n",
    "predictions = text_clf.predict(test_data['clean_body'])\n",
    "\n",
    "# Step 4: Evaluate the model performance\n",
    "accuracy = accuracy_score(test_data['controversiality'], predictions)\n",
    "print(f\"Accuracy: {accuracy:.2f}\")\n",
    "\n",
    "#  print a classification report for more detailed metrics\n",
    "print(classification_report(test_data['controversiality'], predictions))\n",
    "\n"
   ]
  },
  {
   "cell_type": "code",
   "execution_count": 17,
   "id": "e776f247-7c23-447a-b6c9-0028755817d8",
   "metadata": {
    "tags": []
   },
   "outputs": [
    {
     "name": "stdout",
     "output_type": "stream",
     "text": [
      "Random Forest Accuracy: 0.65\n",
      "              precision    recall  f1-score   support\n",
      "\n",
      "           0       0.68      0.58      0.63      1014\n",
      "           1       0.62      0.71      0.66       965\n",
      "\n",
      "    accuracy                           0.65      1979\n",
      "   macro avg       0.65      0.65      0.65      1979\n",
      "weighted avg       0.65      0.65      0.65      1979\n",
      "\n"
     ]
    }
   ],
   "source": [
    "from sklearn.ensemble import RandomForestClassifier\n",
    "\n",
    "rf_clf = Pipeline([\n",
    "    ('tfidf', TfidfVectorizer()),\n",
    "    ('clf', RandomForestClassifier())\n",
    "])\n",
    "\n",
    "rf_clf.fit(train_data['clean_body'], train_data['controversiality'])\n",
    "predictions_rf = rf_clf.predict(test_data['clean_body'])\n",
    "\n",
    "accuracy_rf = accuracy_score(test_data['controversiality'], predictions_rf)\n",
    "print(f\"Random Forest Accuracy: {accuracy_rf:.2f}\")\n",
    "print(classification_report(test_data['controversiality'], predictions_rf))\n"
   ]
  },
  {
   "cell_type": "code",
   "execution_count": 18,
   "id": "b7a636b3-87c1-451a-8bb9-fd9928f710ce",
   "metadata": {
    "tags": []
   },
   "outputs": [
    {
     "name": "stdout",
     "output_type": "stream",
     "text": [
      "SVM Accuracy: 0.67\n",
      "              precision    recall  f1-score   support\n",
      "\n",
      "           0       0.72      0.59      0.65      1014\n",
      "           1       0.64      0.76      0.70       965\n",
      "\n",
      "    accuracy                           0.67      1979\n",
      "   macro avg       0.68      0.68      0.67      1979\n",
      "weighted avg       0.68      0.67      0.67      1979\n",
      "\n"
     ]
    }
   ],
   "source": [
    "from sklearn.svm import SVC\n",
    "\n",
    "svm_clf = Pipeline([\n",
    "    ('tfidf', TfidfVectorizer()),\n",
    "    ('clf', SVC())\n",
    "])\n",
    "\n",
    "svm_clf.fit(train_data['clean_body'], train_data['controversiality'])\n",
    "predictions_svm = svm_clf.predict(test_data['clean_body'])\n",
    "\n",
    "accuracy_svm = accuracy_score(test_data['controversiality'], predictions_svm)\n",
    "print(f\"SVM Accuracy: {accuracy_svm:.2f}\")\n",
    "print(classification_report(test_data['controversiality'], predictions_svm))\n"
   ]
  },
  {
   "cell_type": "markdown",
   "id": "3ba48bb7-830e-47f7-998d-aab0f5f9228c",
   "metadata": {},
   "source": [
    "### Tuning"
   ]
  },
  {
   "cell_type": "markdown",
   "id": "8273e97d-d43c-4fc3-884d-f4ee8593971e",
   "metadata": {},
   "source": [
    "### MultinomialNB"
   ]
  },
  {
   "cell_type": "code",
   "execution_count": 20,
   "id": "1fb4486c-ba9c-4dd2-b559-39d04dd0f8a2",
   "metadata": {
    "tags": []
   },
   "outputs": [
    {
     "name": "stdout",
     "output_type": "stream",
     "text": [
      "Fitting 5 folds for each of 432 candidates, totalling 2160 fits\n",
      "Best Hyperparameters:\n",
      "{'clf__alpha': 0.001, 'clf__fit_prior': True, 'tfidf__max_df': 0.5, 'tfidf__max_features': 5000, 'tfidf__min_df': 1, 'tfidf__ngram_range': (1, 1)}\n",
      "Fitting 5 folds for each of 432 candidates, totalling 2160 fits\n",
      "Fitting 5 folds for each of 432 candidates, totalling 2160 fits\n",
      "Fitting 5 folds for each of 432 candidates, totalling 2160 fits\n",
      "Fitting 5 folds for each of 432 candidates, totalling 2160 fits\n",
      "Fitting 5 folds for each of 432 candidates, totalling 2160 fits\n",
      "Nested Cross-Validation Accuracy: 0.65 (+/- 0.03)\n",
      "Best Model Accuracy: 0.66\n",
      "Classification Report for Best Model:\n",
      "              precision    recall  f1-score   support\n",
      "\n",
      "           0       0.75      0.50      0.60      1014\n",
      "           1       0.61      0.83      0.70       965\n",
      "\n",
      "    accuracy                           0.66      1979\n",
      "   macro avg       0.68      0.66      0.65      1979\n",
      "weighted avg       0.68      0.66      0.65      1979\n",
      "\n"
     ]
    }
   ],
   "source": [
    "from sklearn.model_selection import GridSearchCV, cross_val_score\n",
    "from sklearn.pipeline import Pipeline\n",
    "from sklearn.feature_extraction.text import TfidfVectorizer, CountVectorizer\n",
    "from sklearn.naive_bayes import MultinomialNB\n",
    "from sklearn.ensemble import RandomForestClassifier\n",
    "from sklearn.svm import SVC\n",
    "from sklearn.preprocessing import FunctionTransformer\n",
    "from sklearn.metrics import accuracy_score, classification_report\n",
    "\n",
    "# Custom text preprocessor function\n",
    "def custom_preprocessor(text):\n",
    "    # Your custom preprocessing logic here\n",
    "    return preprocessed_text\n",
    "\n",
    "# Define the pipeline with placeholders for hyperparameters\n",
    "pipeline = Pipeline([\n",
    "    ('tfidf', TfidfVectorizer()),\n",
    "    ('clf', MultinomialNB())\n",
    "])\n",
    "\n",
    "# Define the hyperparameters to search\n",
    "parameters = {\n",
    "    'tfidf__max_df': (0.5, 0.75, 1.0),\n",
    "    'tfidf__min_df': (1, 2, 5),\n",
    "    'tfidf__ngram_range': ((1, 1), (1, 2)),\n",
    "    'clf__alpha': (1e-2, 1e-3, 1e-4),\n",
    "    'clf__fit_prior': [True, False],\n",
    "    'tfidf__max_features': [None, 5000, 10000, 20000],\n",
    "}\n",
    "\n",
    "# Use GridSearchCV to find the best combination of hyperparameters\n",
    "grid_search = GridSearchCV(pipeline, parameters, cv=5, n_jobs=-1, verbose=1, scoring='accuracy')\n",
    "grid_search.fit(train_data['clean_body'], train_data['controversiality'])\n",
    "\n",
    "# Print the best hyperparameters\n",
    "print(\"Best Hyperparameters:\")\n",
    "print(grid_search.best_params_)\n",
    "\n",
    "# Perform nested cross-validation\n",
    "nested_cv_scores = cross_val_score(grid_search, train_data['clean_body'], train_data['controversiality'], cv=5, scoring='accuracy')\n",
    "print(\"Nested Cross-Validation Accuracy: {:.2f} (+/- {:.2f})\".format(nested_cv_scores.mean(), nested_cv_scores.std() * 2))\n",
    "\n",
    "# Train the model with the best hyperparameters on the entire training set\n",
    "best_model = grid_search.best_estimator_\n",
    "best_model.fit(train_data['clean_body'], train_data['controversiality'])\n",
    "\n",
    "# Make predictions on the test set using the best model\n",
    "best_predictions = best_model.predict(test_data['clean_body'])\n",
    "\n",
    "# Evaluate the performance of the best model\n",
    "best_accuracy = accuracy_score(test_data['controversiality'], best_predictions)\n",
    "print(f\"Best Model Accuracy: {best_accuracy:.2f}\")\n",
    "\n",
    "# Print a classification report for the best model\n",
    "print(\"Classification Report for Best Model:\")\n",
    "print(classification_report(test_data['controversiality'], best_predictions))\n"
   ]
  },
  {
   "cell_type": "markdown",
   "id": "23acdc5e-27da-4ac5-9c42-921d545b2762",
   "metadata": {},
   "source": [
    "The machine learning model was fine-tuned using nested cross-validation, resulting in the best hyperparameters. The model achieved an overall accuracy of 66%, with specific settings favoring recall for class 1. While the precision and recall for class 0 were 75% and 50%, respectively, class 1 showed better performance with 61% precision and 83% recall. The model's F1-score, a balance between precision and recall, was 65%. Overall, there's room for improvement, particularly in correctly identifying instances of class 0."
   ]
  },
  {
   "cell_type": "markdown",
   "id": "1acb9b8c-023e-45a7-adc5-481d79f52412",
   "metadata": {},
   "source": [
    "### RandomForest "
   ]
  },
  {
   "cell_type": "code",
   "execution_count": 26,
   "id": "0483fcd4-1535-42a7-bc27-31d0b7de272d",
   "metadata": {
    "tags": []
   },
   "outputs": [
    {
     "name": "stdout",
     "output_type": "stream",
     "text": [
      "Fitting 5 folds for each of 384 candidates, totalling 1920 fits\n",
      "Best Random Forest Hyperparameters:\n",
      "{'clf__max_depth': 20, 'clf__min_samples_leaf': 2, 'clf__min_samples_split': 10, 'clf__n_estimators': 200, 'tfidf__max_df': 1.0, 'tfidf__max_features': 10000, 'tfidf__min_df': 5, 'tfidf__ngram_range': (1, 1)}\n",
      "Best Random Forest Model Accuracy: 0.66\n",
      "Classification Report for Best Random Forest Model:\n",
      "              precision    recall  f1-score   support\n",
      "\n",
      "           0       0.77      0.49      0.60      1014\n",
      "           1       0.61      0.84      0.71       965\n",
      "\n",
      "    accuracy                           0.66      1979\n",
      "   macro avg       0.69      0.67      0.65      1979\n",
      "weighted avg       0.69      0.66      0.65      1979\n",
      "\n"
     ]
    }
   ],
   "source": [
    "from sklearn.model_selection import GridSearchCV\n",
    "from sklearn.ensemble import RandomForestClassifier\n",
    "from sklearn.feature_extraction.text import TfidfVectorizer\n",
    "from sklearn.pipeline import Pipeline\n",
    "from sklearn.metrics import accuracy_score, classification_report\n",
    "\n",
    "# Define the pipeline\n",
    "rf_pipeline = Pipeline([\n",
    "    ('tfidf', TfidfVectorizer()),\n",
    "    ('clf', RandomForestClassifier())\n",
    "])\n",
    "\n",
    "# Define hyperparameters to search\n",
    "rf_parameters = {\n",
    "    'tfidf__max_df': (0.75, 1.0),\n",
    "    'tfidf__min_df': (2, 5),\n",
    "    'tfidf__ngram_range': ((1, 1), (1, 2)),\n",
    "    'tfidf__max_features': [5000, 10000],\n",
    "    'clf__n_estimators': [50,100, 200],\n",
    "    'clf__max_depth': [10, 20],\n",
    "    'clf__min_samples_split': [5, 10],\n",
    "    'clf__min_samples_leaf': [2, 4],\n",
    "   \n",
    "}\n",
    "\n",
    "# Use GridSearchCV to find the best combination of hyperparameters\n",
    "rf_grid_search = GridSearchCV(rf_pipeline, rf_parameters, cv=5, n_jobs=-1, verbose=1)\n",
    "rf_grid_search.fit(train_data['clean_body'], train_data['controversiality'])\n",
    "\n",
    "# Print the best hyperparameters\n",
    "print(\"Best Random Forest Hyperparameters:\")\n",
    "print(rf_grid_search.best_params_)\n",
    "\n",
    "# Train the best model on the entire training set\n",
    "best_rf_model = rf_grid_search.best_estimator_\n",
    "best_rf_model.fit(train_data['clean_body'], train_data['controversiality'])\n",
    "\n",
    "# Evaluate model performance\n",
    "best_predictions_rf = best_rf_model.predict(test_data['clean_body'])\n",
    "best_accuracy_rf = accuracy_score(test_data['controversiality'], best_predictions_rf)\n",
    "print(f\"Best Random Forest Model Accuracy: {best_accuracy_rf:.2f}\")\n",
    "\n",
    "# Print a classification report\n",
    "print(\"Classification Report for Best Random Forest Model:\")\n",
    "print(classification_report(test_data['controversiality'], best_predictions_rf))\n"
   ]
  },
  {
   "cell_type": "markdown",
   "id": "292e3838-f4df-4985-a086-27d67bd0efab",
   "metadata": {},
   "source": [
    "The random forest model was optimized with hyperparameter tuning, resulting in the best configuration: max_depth of 20, min_samples_leaf of 2, min_samples_split of 10, and 200 estimators. Additionally, TF-IDF vectorizer settings were identified as follows: max_df of 1.0, max_features of 10,000, min_df of 5, and ngram_range of (1, 1). The model achieved an accuracy of 66%.\n",
    "\n",
    "Breaking down the classification report for the best random forest model, precision for class 0 was 77%, with a recall of 49% and an F1-score of 60%. For class 1, precision was 61%, recall was 84%, and the F1-score was 71%. The macro-average F1-score was 65%. In summary, the model performed reasonably well, particularly in correctly identifying instances of class 1. However, there's room for improvement, especially in enhancing recall for class 0."
   ]
  },
  {
   "cell_type": "markdown",
   "id": "ad6c5a96-8eed-453a-b49e-c7b0e08738e6",
   "metadata": {},
   "source": [
    "### SVM"
   ]
  },
  {
   "cell_type": "code",
   "execution_count": 16,
   "id": "8716fe94-22bf-4e83-96a3-217493051549",
   "metadata": {
    "tags": []
   },
   "outputs": [
    {
     "name": "stdout",
     "output_type": "stream",
     "text": [
      "Fitting 5 folds for each of 216 candidates, totalling 1080 fits\n",
      "Best SVM Hyperparameters:\n",
      "{'clf__C': 1, 'clf__gamma': 'scale', 'clf__kernel': 'rbf', 'tfidf__max_df': 0.5, 'tfidf__min_df': 1, 'tfidf__ngram_range': (1, 1)}\n",
      "Best SVM Model Accuracy: 0.67\n",
      "Classification Report for Best SVM Model:\n",
      "              precision    recall  f1-score   support\n",
      "\n",
      "           0       0.72      0.59      0.65      1014\n",
      "           1       0.64      0.76      0.70       965\n",
      "\n",
      "    accuracy                           0.67      1979\n",
      "   macro avg       0.68      0.68      0.67      1979\n",
      "weighted avg       0.68      0.67      0.67      1979\n",
      "\n"
     ]
    }
   ],
   "source": [
    "from sklearn.model_selection import GridSearchCV\n",
    "from sklearn.svm import SVC\n",
    "from sklearn.feature_extraction.text import TfidfVectorizer\n",
    "from sklearn.pipeline import Pipeline\n",
    "from sklearn.metrics import accuracy_score, classification_report\n",
    "\n",
    "# Define the pipeline\n",
    "svm_pipeline = Pipeline([\n",
    "    ('tfidf', TfidfVectorizer()),\n",
    "    ('clf', SVC())\n",
    "])\n",
    "\n",
    "# Define hyperparameters to search\n",
    "svm_parameters = {\n",
    "    'tfidf__max_df': [0.5, 0.75, 1.0],\n",
    "    'tfidf__min_df': [1, 2, 5],\n",
    "    'tfidf__ngram_range': [(1, 1), (1, 2)],\n",
    "    'clf__C': [0.1, 1, 10],\n",
    "    'clf__kernel': ['linear', 'rbf'],\n",
    "    'clf__gamma': ['scale', 'auto'],\n",
    "}\n",
    "\n",
    "# Use GridSearchCV to find the best hyperparameters\n",
    "svm_grid_search = GridSearchCV(svm_pipeline, svm_parameters, cv=5, n_jobs=-1, verbose=1)\n",
    "svm_grid_search.fit(train_data['clean_body'], train_data['controversiality'])\n",
    "\n",
    "# Print the best hyperparameters\n",
    "print(\"Best SVM Hyperparameters:\")\n",
    "print(svm_grid_search.best_params_)\n",
    "\n",
    "# Train the best model on the entire training set\n",
    "best_svm_model = svm_grid_search.best_estimator_\n",
    "best_svm_model.fit(train_data['clean_body'], train_data['controversiality'])\n",
    "\n",
    "# Evaluate model performance\n",
    "best_predictions_svm = best_svm_model.predict(test_data['clean_body'])\n",
    "best_accuracy_svm = accuracy_score(test_data['controversiality'], best_predictions_svm)\n",
    "print(f\"Best SVM Model Accuracy: {best_accuracy_svm:.2f}\")\n",
    "\n",
    "# Print a classification report\n",
    "print(\"Classification Report for Best SVM Model:\")\n",
    "print(classification_report(test_data['controversiality'], best_predictions_svm))\n"
   ]
  },
  {
   "cell_type": "markdown",
   "id": "13f6cd90-a822-482c-9cbf-5512e89f6e15",
   "metadata": {},
   "source": [
    "### Save the Best Model"
   ]
  },
  {
   "cell_type": "code",
   "execution_count": null,
   "id": "d79b603a-a5d8-4f08-97e0-3db2ebe5c384",
   "metadata": {},
   "outputs": [],
   "source": [
    "\n",
    "import joblib\n",
    "\n",
    "\n",
    "\n",
    "# Save the best SVM model to a file\n",
    "model_save_path = '/root/fall-2023-reddit-project-team-33/code/best_svm_model.joblib'\n",
    "joblib.dump(best_svm_model, model_save_path)\n",
    "\n",
    "print(f\"Best SVM model saved to {model_save_path}\")"
   ]
  },
  {
   "cell_type": "markdown",
   "id": "ed7b36da-9805-436c-900a-022e0c27be78",
   "metadata": {},
   "source": [
    "### Load the best model"
   ]
  },
  {
   "cell_type": "code",
   "execution_count": 92,
   "id": "e5c16c6f-826a-40ef-8516-b900422884b4",
   "metadata": {
    "tags": []
   },
   "outputs": [],
   "source": [
    "import joblib\n",
    "\n",
    "# Load the saved SVM model from the file\n",
    "best_svm_model = joblib.load('/root/fall-2023-reddit-project-team-33/code/ML/best_svm_model.joblib')\n",
    "\n"
   ]
  },
  {
   "cell_type": "code",
   "execution_count": 93,
   "id": "9c6ccb9e-3baf-48d9-b697-732c6b7104b5",
   "metadata": {
    "tags": []
   },
   "outputs": [
    {
     "name": "stdout",
     "output_type": "stream",
     "text": [
      "Best SVM Model Accuracy: 0.67\n",
      "Classification Report for Best SVM Model:\n",
      "              precision    recall  f1-score   support\n",
      "\n",
      "           0       0.72      0.59      0.65      1014\n",
      "           1       0.64      0.76      0.70       965\n",
      "\n",
      "    accuracy                           0.67      1979\n",
      "   macro avg       0.68      0.68      0.67      1979\n",
      "weighted avg       0.68      0.67      0.67      1979\n",
      "\n"
     ]
    }
   ],
   "source": [
    "from sklearn.model_selection import GridSearchCV\n",
    "from sklearn.svm import SVC\n",
    "from sklearn.feature_extraction.text import TfidfVectorizer\n",
    "from sklearn.pipeline import Pipeline\n",
    "from sklearn.metrics import accuracy_score, classification_report\n",
    "\n",
    "# Evaluate model performance\n",
    "best_predictions_svm = best_svm_model.predict(test_data['clean_body'])\n",
    "best_accuracy_svm = accuracy_score(test_data['controversiality'], best_predictions_svm)\n",
    "print(f\"Best SVM Model Accuracy: {best_accuracy_svm:.2f}\")\n",
    "\n",
    "# Print a classification report\n",
    "print(\"Classification Report for Best SVM Model:\")\n",
    "print(classification_report(test_data['controversiality'], best_predictions_svm))\n"
   ]
  },
  {
   "cell_type": "code",
   "execution_count": 94,
   "id": "dd8fdcf1-5a7f-4559-9722-f837a1dc5207",
   "metadata": {
    "tags": []
   },
   "outputs": [],
   "source": [
    "cm = confusion_matrix(test_data['controversiality'], best_predictions_svm)\n"
   ]
  },
  {
   "cell_type": "code",
   "execution_count": 96,
   "id": "b047549f-9a95-4611-9145-3372e5367332",
   "metadata": {
    "tags": []
   },
   "outputs": [
    {
     "data": {
      "application/vnd.plotly.v1+json": {
       "config": {
        "plotlyServerURL": "https://plot.ly"
       },
       "data": [
        {
         "mode": "lines",
         "name": "ROC curve (area = 0.73)",
         "type": "scatter",
         "x": [
          0,
          0,
          0.0009861932938856016,
          0.0009861932938856016,
          0.0019723865877712033,
          0.0019723865877712033,
          0.0029585798816568047,
          0.0029585798816568047,
          0.005917159763313609,
          0.005917159763313609,
          0.006903353057199211,
          0.006903353057199211,
          0.007889546351084813,
          0.007889546351084813,
          0.009861932938856016,
          0.009861932938856016,
          0.010848126232741617,
          0.010848126232741617,
          0.011834319526627219,
          0.011834319526627219,
          0.015779092702169626,
          0.015779092702169626,
          0.016765285996055226,
          0.016765285996055226,
          0.01775147928994083,
          0.01775147928994083,
          0.01775147928994083,
          0.01873767258382643,
          0.01873767258382643,
          0.01972386587771203,
          0.020710059171597635,
          0.020710059171597635,
          0.021696252465483234,
          0.021696252465483234,
          0.022682445759368838,
          0.023668639053254437,
          0.023668639053254437,
          0.02465483234714004,
          0.02564102564102564,
          0.05621301775147929,
          0.05818540433925049,
          0.05818540433925049,
          0.05818540433925049,
          0.07199211045364892,
          0.07396449704142012,
          0.07495069033530571,
          0.07495069033530571,
          0.07988165680473373,
          0.08185404339250493,
          0.08185404339250493,
          0.08284023668639054,
          0.08284023668639054,
          0.08481262327416174,
          0.08481262327416174,
          0.08579881656804733,
          0.08579881656804733,
          0.08678500986193294,
          0.08678500986193294,
          0.08777120315581854,
          0.08777120315581854,
          0.08875739644970414,
          0.08875739644970414,
          0.09072978303747535,
          0.09072978303747535,
          0.09171597633136094,
          0.09171597633136094,
          0.09270216962524655,
          0.09467455621301775,
          0.09467455621301775,
          0.09566074950690336,
          0.09566074950690336,
          0.09763313609467456,
          0.09861932938856016,
          0.09960552268244575,
          0.09960552268244575,
          0.10059171597633136,
          0.10059171597633136,
          0.10157790927021697,
          0.10157790927021697,
          0.10256410256410256,
          0.10256410256410256,
          0.10355029585798817,
          0.10355029585798817,
          0.10453648915187377,
          0.10453648915187377,
          0.10552268244575937,
          0.10552268244575937,
          0.10749506903353057,
          0.10749506903353057,
          0.10848126232741617,
          0.10848126232741617,
          0.10946745562130178,
          0.10946745562130178,
          0.11045364891518737,
          0.11045364891518737,
          0.11143984220907298,
          0.11143984220907298,
          0.11341222879684418,
          0.11341222879684418,
          0.11439842209072978,
          0.11439842209072978,
          0.11538461538461539,
          0.11538461538461539,
          0.11637080867850098,
          0.11637080867850098,
          0.11735700197238659,
          0.11735700197238659,
          0.11932938856015779,
          0.11932938856015779,
          0.1203155818540434,
          0.1203155818540434,
          0.12130177514792899,
          0.12130177514792899,
          0.126232741617357,
          0.126232741617357,
          0.12721893491124261,
          0.12721893491124261,
          0.1301775147928994,
          0.1301775147928994,
          0.131163708086785,
          0.131163708086785,
          0.13214990138067062,
          0.13214990138067062,
          0.13313609467455623,
          0.13313609467455623,
          0.1351084812623274,
          0.1351084812623274,
          0.13708086785009863,
          0.13708086785009863,
          0.13806706114398423,
          0.13806706114398423,
          0.1390532544378698,
          0.1390532544378698,
          0.14003944773175542,
          0.14003944773175542,
          0.14102564102564102,
          0.14102564102564102,
          0.14398422090729784,
          0.14398422090729784,
          0.14497041420118342,
          0.14497041420118342,
          0.14595660749506903,
          0.14595660749506903,
          0.14792899408284024,
          0.14792899408284024,
          0.14891518737672585,
          0.14891518737672585,
          0.14891518737672585,
          0.14990138067061143,
          0.14990138067061143,
          0.15187376725838264,
          0.15187376725838264,
          0.15285996055226825,
          0.15285996055226825,
          0.15384615384615385,
          0.15384615384615385,
          0.15581854043392504,
          0.15581854043392504,
          0.15877712031558186,
          0.15877712031558186,
          0.16074950690335305,
          0.16074950690335305,
          0.16272189349112426,
          0.16272189349112426,
          0.16469428007889547,
          0.16469428007889547,
          0.16666666666666666,
          0.16666666666666666,
          0.16765285996055226,
          0.16765285996055226,
          0.16863905325443787,
          0.16863905325443787,
          0.16962524654832348,
          0.16962524654832348,
          0.17061143984220908,
          0.17061143984220908,
          0.17159763313609466,
          0.17159763313609466,
          0.17357001972386588,
          0.17455621301775148,
          0.17455621301775148,
          0.1755424063116371,
          0.1755424063116371,
          0.17850098619329388,
          0.17850098619329388,
          0.1794871794871795,
          0.1794871794871795,
          0.1804733727810651,
          0.1804733727810651,
          0.1814595660749507,
          0.1814595660749507,
          0.1844181459566075,
          0.1844181459566075,
          0.1854043392504931,
          0.1854043392504931,
          0.1873767258382643,
          0.1873767258382643,
          0.1883629191321499,
          0.1883629191321499,
          0.1893491124260355,
          0.1893491124260355,
          0.1913214990138067,
          0.1913214990138067,
          0.19230769230769232,
          0.19230769230769232,
          0.1932938856015779,
          0.1932938856015779,
          0.1942800788954635,
          0.1942800788954635,
          0.1952662721893491,
          0.1952662721893491,
          0.19723865877712032,
          0.19723865877712032,
          0.19822485207100593,
          0.19822485207100593,
          0.20019723865877712,
          0.20019723865877712,
          0.20118343195266272,
          0.20118343195266272,
          0.20315581854043394,
          0.20315581854043394,
          0.20414201183431951,
          0.20414201183431951,
          0.20512820512820512,
          0.20512820512820512,
          0.20611439842209073,
          0.20611439842209073,
          0.20808678500986194,
          0.20808678500986194,
          0.20907297830374755,
          0.20907297830374755,
          0.21104536489151873,
          0.21104536489151873,
          0.21301775147928995,
          0.21301775147928995,
          0.21400394477317555,
          0.21400394477317555,
          0.21499013806706113,
          0.21499013806706113,
          0.21597633136094674,
          0.21597633136094674,
          0.21893491124260356,
          0.21893491124260356,
          0.22090729783037474,
          0.22090729783037474,
          0.22287968441814596,
          0.22287968441814596,
          0.22583826429980275,
          0.22583826429980275,
          0.22781065088757396,
          0.22781065088757396,
          0.23076923076923078,
          0.23076923076923078,
          0.23274161735700197,
          0.23274161735700197,
          0.23372781065088757,
          0.23372781065088757,
          0.23471400394477318,
          0.23471400394477318,
          0.2357001972386588,
          0.2357001972386588,
          0.23668639053254437,
          0.23668639053254437,
          0.23767258382642997,
          0.23767258382642997,
          0.23964497041420119,
          0.23964497041420119,
          0.2406311637080868,
          0.2406311637080868,
          0.2445759368836292,
          0.2445759368836292,
          0.2455621301775148,
          0.2455621301775148,
          0.2465483234714004,
          0.2465483234714004,
          0.24753451676528598,
          0.24753451676528598,
          0.2514792899408284,
          0.2514792899408284,
          0.2534516765285996,
          0.2534516765285996,
          0.257396449704142,
          0.257396449704142,
          0.2593688362919132,
          0.2593688362919132,
          0.2603550295857988,
          0.2603550295857988,
          0.2613412228796844,
          0.2613412228796844,
          0.26232741617357,
          0.26232741617357,
          0.26429980276134124,
          0.26429980276134124,
          0.26627218934911245,
          0.26627218934911245,
          0.2682445759368836,
          0.2682445759368836,
          0.2692307692307692,
          0.2692307692307692,
          0.27218934911242604,
          0.27218934911242604,
          0.27317554240631164,
          0.27317554240631164,
          0.27416173570019725,
          0.27416173570019725,
          0.27613412228796846,
          0.27613412228796846,
          0.2781065088757396,
          0.2781065088757396,
          0.28106508875739644,
          0.28106508875739644,
          0.28500986193293887,
          0.28500986193293887,
          0.2869822485207101,
          0.2869822485207101,
          0.2879684418145957,
          0.2879684418145957,
          0.28895463510848124,
          0.28895463510848124,
          0.28994082840236685,
          0.28994082840236685,
          0.29092702169625245,
          0.29092702169625245,
          0.29191321499013806,
          0.29191321499013806,
          0.29289940828402367,
          0.29289940828402367,
          0.2958579881656805,
          0.2958579881656805,
          0.2958579881656805,
          0.2988165680473373,
          0.2988165680473373,
          0.30078895463510846,
          0.30078895463510846,
          0.3037475345167653,
          0.3037475345167653,
          0.3067061143984221,
          0.3067061143984221,
          0.3096646942800789,
          0.3096646942800789,
          0.3116370808678501,
          0.3116370808678501,
          0.3126232741617357,
          0.3126232741617357,
          0.3136094674556213,
          0.3136094674556213,
          0.3185404339250493,
          0.3185404339250493,
          0.31952662721893493,
          0.31952662721893493,
          0.32051282051282054,
          0.32051282051282054,
          0.3214990138067061,
          0.3214990138067061,
          0.3244575936883629,
          0.3244575936883629,
          0.32741617357001973,
          0.32741617357001973,
          0.32938856015779094,
          0.32938856015779094,
          0.33037475345167655,
          0.33037475345167655,
          0.3323471400394477,
          0.3323471400394477,
          0.3333333333333333,
          0.3333333333333333,
          0.33530571992110453,
          0.33530571992110453,
          0.33727810650887574,
          0.33727810650887574,
          0.33826429980276135,
          0.33826429980276135,
          0.33925049309664695,
          0.33925049309664695,
          0.34418145956607493,
          0.34418145956607493,
          0.34516765285996054,
          0.34516765285996054,
          0.34714003944773175,
          0.34911242603550297,
          0.34911242603550297,
          0.35009861932938857,
          0.35009861932938857,
          0.3510848126232742,
          0.3510848126232742,
          0.3530571992110454,
          0.3530571992110454,
          0.35404339250493094,
          0.35404339250493094,
          0.35502958579881655,
          0.35502958579881655,
          0.35601577909270216,
          0.35601577909270216,
          0.3599605522682446,
          0.3599605522682446,
          0.3609467455621302,
          0.3609467455621302,
          0.3619329388560158,
          0.3619329388560158,
          0.36587771203155817,
          0.36587771203155817,
          0.3678500986193294,
          0.3678500986193294,
          0.368836291913215,
          0.368836291913215,
          0.3708086785009862,
          0.3708086785009862,
          0.3727810650887574,
          0.3727810650887574,
          0.3757396449704142,
          0.3757396449704142,
          0.3767258382642998,
          0.3767258382642998,
          0.3777120315581854,
          0.3777120315581854,
          0.378698224852071,
          0.378698224852071,
          0.3806706114398422,
          0.3806706114398422,
          0.38362919132149903,
          0.38362919132149903,
          0.38461538461538464,
          0.38461538461538464,
          0.3875739644970414,
          0.3875739644970414,
          0.388560157790927,
          0.388560157790927,
          0.3905325443786982,
          0.3905325443786982,
          0.3915187376725838,
          0.3915187376725838,
          0.39250493096646943,
          0.39250493096646943,
          0.39349112426035504,
          0.39349112426035504,
          0.39546351084812625,
          0.39546351084812625,
          0.40039447731755423,
          0.40039447731755423,
          0.40335305719921105,
          0.40335305719921105,
          0.40433925049309666,
          0.40433925049309666,
          0.40631163708086787,
          0.40631163708086787,
          0.4072978303747535,
          0.4072978303747535,
          0.40828402366863903,
          0.40828402366863903,
          0.41124260355029585,
          0.41124260355029585,
          0.41321499013806706,
          0.41321499013806706,
          0.41420118343195267,
          0.41420118343195267,
          0.4151873767258383,
          0.4151873767258383,
          0.4171597633136095,
          0.4171597633136095,
          0.41913214990138065,
          0.41913214990138065,
          0.42011834319526625,
          0.42011834319526625,
          0.42110453648915186,
          0.42110453648915186,
          0.42209072978303747,
          0.42209072978303747,
          0.4230769230769231,
          0.4230769230769231,
          0.4240631163708087,
          0.4240631163708087,
          0.4329388560157791,
          0.4329388560157791,
          0.4339250493096647,
          0.4339250493096647,
          0.4349112426035503,
          0.4349112426035503,
          0.4358974358974359,
          0.4358974358974359,
          0.4378698224852071,
          0.4378698224852071,
          0.43984220907297833,
          0.43984220907297833,
          0.4408284023668639,
          0.4408284023668639,
          0.4428007889546351,
          0.4428007889546351,
          0.4437869822485207,
          0.4437869822485207,
          0.4447731755424063,
          0.4447731755424063,
          0.4467455621301775,
          0.4467455621301775,
          0.44871794871794873,
          0.44871794871794873,
          0.44970414201183434,
          0.44970414201183434,
          0.4526627218934911,
          0.4526627218934911,
          0.4556213017751479,
          0.4556213017751479,
          0.45759368836291914,
          0.45759368836291914,
          0.45956607495069035,
          0.45956607495069035,
          0.46055226824457596,
          0.46055226824457596,
          0.4625246548323471,
          0.4625246548323471,
          0.46548323471400394,
          0.46548323471400394,
          0.46745562130177515,
          0.46745562130177515,
          0.46942800788954636,
          0.46942800788954636,
          0.4714003944773176,
          0.4714003944773176,
          0.47731755424063116,
          0.47731755424063116,
          0.4822485207100592,
          0.4822485207100592,
          0.48422090729783035,
          0.48422090729783035,
          0.48520710059171596,
          0.48520710059171596,
          0.4881656804733728,
          0.4881656804733728,
          0.490138067061144,
          0.490138067061144,
          0.4921104536489152,
          0.4921104536489152,
          0.4940828402366864,
          0.4940828402366864,
          0.49506903353057197,
          0.49506903353057197,
          0.4970414201183432,
          0.4970414201183432,
          0.4990138067061144,
          0.4990138067061144,
          0.5,
          0.5,
          0.5059171597633136,
          0.5059171597633136,
          0.5078895463510849,
          0.5078895463510849,
          0.5088757396449705,
          0.5088757396449705,
          0.5207100591715976,
          0.5207100591715976,
          0.5216962524654832,
          0.5216962524654832,
          0.5226824457593688,
          0.5226824457593688,
          0.5236686390532544,
          0.5236686390532544,
          0.5285996055226825,
          0.5285996055226825,
          0.5374753451676528,
          0.5374753451676528,
          0.5384615384615384,
          0.5384615384615384,
          0.5404339250493096,
          0.5404339250493096,
          0.5424063116370809,
          0.5424063116370809,
          0.5443786982248521,
          0.5443786982248521,
          0.5453648915187377,
          0.5453648915187377,
          0.5463510848126233,
          0.5463510848126233,
          0.5473372781065089,
          0.5473372781065089,
          0.5483234714003945,
          0.5483234714003945,
          0.5493096646942801,
          0.5493096646942801,
          0.5581854043392505,
          0.5581854043392505,
          0.5591715976331361,
          0.5591715976331361,
          0.5621301775147929,
          0.5621301775147929,
          0.5641025641025641,
          0.5641025641025641,
          0.5660749506903353,
          0.5660749506903353,
          0.5680473372781065,
          0.5680473372781065,
          0.5690335305719921,
          0.5690335305719921,
          0.5700197238658777,
          0.5700197238658777,
          0.571992110453649,
          0.571992110453649,
          0.5729783037475346,
          0.5729783037475346,
          0.5759368836291914,
          0.5759368836291914,
          0.5779092702169625,
          0.5779092702169625,
          0.5798816568047337,
          0.5798816568047337,
          0.5808678500986193,
          0.5808678500986193,
          0.5838264299802761,
          0.5838264299802761,
          0.5848126232741617,
          0.5848126232741617,
          0.5867850098619329,
          0.5867850098619329,
          0.5877712031558185,
          0.5877712031558185,
          0.5897435897435898,
          0.5897435897435898,
          0.5907297830374754,
          0.5907297830374754,
          0.5936883629191322,
          0.5936883629191322,
          0.5946745562130178,
          0.5946745562130178,
          0.5956607495069034,
          0.5956607495069034,
          0.5976331360946746,
          0.5976331360946746,
          0.5986193293885601,
          0.5986193293885601,
          0.6094674556213018,
          0.6094674556213018,
          0.6104536489151874,
          0.6104536489151874,
          0.6173570019723866,
          0.6173570019723866,
          0.621301775147929,
          0.621301775147929,
          0.6232741617357002,
          0.6232741617357002,
          0.6282051282051282,
          0.6282051282051282,
          0.6331360946745562,
          0.6331360946745562,
          0.636094674556213,
          0.636094674556213,
          0.6400394477317555,
          0.6400394477317555,
          0.6420118343195266,
          0.6420118343195266,
          0.6429980276134122,
          0.6429980276134122,
          0.6439842209072978,
          0.6439842209072978,
          0.6469428007889546,
          0.6469428007889546,
          0.6499013806706114,
          0.6499013806706114,
          0.6528599605522682,
          0.6528599605522682,
          0.6587771203155819,
          0.6587771203155819,
          0.665680473372781,
          0.665680473372781,
          0.6666666666666666,
          0.6666666666666666,
          0.6686390532544378,
          0.6686390532544378,
          0.6715976331360947,
          0.6715976331360947,
          0.6755424063116371,
          0.6755424063116371,
          0.6775147928994083,
          0.6775147928994083,
          0.6804733727810651,
          0.6804733727810651,
          0.6903353057199211,
          0.6903353057199211,
          0.6913214990138067,
          0.6913214990138067,
          0.6923076923076923,
          0.6923076923076923,
          0.6952662721893491,
          0.6952662721893491,
          0.6962524654832347,
          0.6962524654832347,
          0.6972386587771203,
          0.6972386587771203,
          0.6992110453648915,
          0.7001972386587771,
          0.7071005917159763,
          0.7071005917159763,
          0.717948717948718,
          0.717948717948718,
          0.7189349112426036,
          0.7189349112426036,
          0.7209072978303748,
          0.7209072978303748,
          0.7238658777120316,
          0.7238658777120316,
          0.7258382642998028,
          0.7258382642998028,
          0.7327416173570019,
          0.7327416173570019,
          0.7347140039447732,
          0.7347140039447732,
          0.7357001972386588,
          0.7357001972386588,
          0.73767258382643,
          0.73767258382643,
          0.7396449704142012,
          0.7396449704142012,
          0.7406311637080868,
          0.7406311637080868,
          0.7445759368836292,
          0.7445759368836292,
          0.7544378698224852,
          0.7544378698224852,
          0.7662721893491125,
          0.7662721893491125,
          0.7672583826429981,
          0.7672583826429981,
          0.777120315581854,
          0.777120315581854,
          0.7790927021696252,
          0.7790927021696252,
          0.7800788954635108,
          0.7800788954635108,
          0.7850098619329389,
          0.7850098619329389,
          0.7879684418145957,
          0.7879684418145957,
          0.7919132149901381,
          0.7919132149901381,
          0.7998027613412229,
          0.7998027613412229,
          0.8106508875739645,
          0.8106508875739645,
          0.8175542406311637,
          0.8175542406311637,
          0.8214990138067061,
          0.8214990138067061,
          0.8244575936883629,
          0.8284023668639053,
          0.8303747534516766,
          0.8925049309664694,
          0.9142011834319527,
          0.9240631163708086,
          0.928007889546351,
          0.9319526627218935,
          0.9339250493096647,
          0.9339250493096647,
          0.9368836291913215,
          0.9388560157790927,
          0.9477317554240631,
          0.9477317554240631,
          0.9546351084812623,
          0.9575936883629191,
          0.9625246548323472,
          0.9625246548323472,
          0.9694280078895463,
          0.9792899408284024,
          0.9812623274161736,
          0.9812623274161736,
          0.9871794871794872,
          0.9871794871794872,
          0.9891518737672583,
          0.9891518737672583,
          1
         ],
         "y": [
          0,
          0.0010362694300518134,
          0.0010362694300518134,
          0.004145077720207254,
          0.004145077720207254,
          0.010362694300518135,
          0.010362694300518135,
          0.021761658031088083,
          0.021761658031088083,
          0.022797927461139896,
          0.022797927461139896,
          0.03005181347150259,
          0.03005181347150259,
          0.03212435233160622,
          0.03212435233160622,
          0.03316062176165803,
          0.03316062176165803,
          0.035233160621761656,
          0.035233160621761656,
          0.03626943005181347,
          0.03626943005181347,
          0.03730569948186528,
          0.03730569948186528,
          0.0383419689119171,
          0.0383419689119171,
          0.049740932642487044,
          0.05181347150259067,
          0.05284974093264249,
          0.0538860103626943,
          0.05595854922279793,
          0.05699481865284974,
          0.06010362694300518,
          0.06321243523316063,
          0.06528497409326425,
          0.07046632124352331,
          0.07046632124352331,
          0.07150259067357513,
          0.07150259067357513,
          0.07772020725388601,
          0.12538860103626942,
          0.12538860103626942,
          0.12642487046632125,
          0.1305699481865285,
          0.20103626943005182,
          0.20518134715025907,
          0.20621761658031088,
          0.20932642487046632,
          0.21658031088082902,
          0.21658031088082902,
          0.22279792746113988,
          0.22279792746113988,
          0.23108808290155441,
          0.23108808290155441,
          0.23316062176165803,
          0.23316062176165803,
          0.23937823834196892,
          0.23937823834196892,
          0.24352331606217617,
          0.24352331606217617,
          0.25077720207253884,
          0.25077720207253884,
          0.25181347150259065,
          0.25181347150259065,
          0.2549222797927461,
          0.2549222797927461,
          0.25906735751295334,
          0.25906735751295334,
          0.261139896373057,
          0.26424870466321243,
          0.26424870466321243,
          0.2704663212435233,
          0.2704663212435233,
          0.27253886010362693,
          0.27253886010362693,
          0.27357512953367874,
          0.27357512953367874,
          0.2756476683937824,
          0.2756476683937824,
          0.2766839378238342,
          0.2766839378238342,
          0.27979274611398963,
          0.27979274611398963,
          0.28082901554404144,
          0.28082901554404144,
          0.28186528497409324,
          0.28186528497409324,
          0.28290155440414505,
          0.28290155440414505,
          0.29430051813471503,
          0.29430051813471503,
          0.29637305699481864,
          0.29637305699481864,
          0.3005181347150259,
          0.3005181347150259,
          0.3015544041450777,
          0.3015544041450777,
          0.30259067357512953,
          0.30259067357512953,
          0.30466321243523314,
          0.30466321243523314,
          0.3088082901554404,
          0.3088082901554404,
          0.31088082901554404,
          0.31088082901554404,
          0.3150259067357513,
          0.3150259067357513,
          0.3160621761658031,
          0.3160621761658031,
          0.32746113989637304,
          0.32746113989637304,
          0.3305699481865285,
          0.3305699481865285,
          0.33678756476683935,
          0.33678756476683935,
          0.3378238341968912,
          0.3378238341968912,
          0.34093264248704663,
          0.34093264248704663,
          0.3450777202072539,
          0.3450777202072539,
          0.3461139896373057,
          0.34922279792746114,
          0.35544041450777203,
          0.35544041450777203,
          0.35647668393782384,
          0.35647668393782384,
          0.35958549222797925,
          0.35958549222797925,
          0.3606217616580311,
          0.3606217616580311,
          0.3616580310880829,
          0.3616580310880829,
          0.3626943005181347,
          0.3626943005181347,
          0.36373056994818653,
          0.36373056994818653,
          0.36787564766839376,
          0.36787564766839376,
          0.3699481865284974,
          0.3699481865284974,
          0.3761658031088083,
          0.3761658031088083,
          0.37927461139896373,
          0.37927461139896373,
          0.3854922279792746,
          0.3854922279792746,
          0.38652849740932643,
          0.38860103626943004,
          0.38860103626943004,
          0.39378238341968913,
          0.39378238341968913,
          0.39896373056994816,
          0.39896373056994816,
          0.40103626943005183,
          0.40103626943005183,
          0.40207253886010363,
          0.40207253886010363,
          0.40310880829015544,
          0.40310880829015544,
          0.40414507772020725,
          0.40414507772020725,
          0.40621761658031086,
          0.40621761658031086,
          0.41658031088082903,
          0.41658031088082903,
          0.41968911917098445,
          0.41968911917098445,
          0.42072538860103625,
          0.42072538860103625,
          0.42694300518134715,
          0.42694300518134715,
          0.42901554404145076,
          0.42901554404145076,
          0.43005181347150256,
          0.43005181347150256,
          0.43316062176165804,
          0.43316062176165804,
          0.43419689119170984,
          0.43419689119170984,
          0.43419689119170984,
          0.4383419689119171,
          0.4383419689119171,
          0.44041450777202074,
          0.44041450777202074,
          0.44559585492227977,
          0.44559585492227977,
          0.44766839378238343,
          0.44766839378238343,
          0.45284974093264246,
          0.45284974093264246,
          0.45803108808290155,
          0.45803108808290155,
          0.45906735751295336,
          0.45906735751295336,
          0.46010362694300516,
          0.46010362694300516,
          0.46735751295336786,
          0.46735751295336786,
          0.46839378238341967,
          0.46839378238341967,
          0.47150259067357514,
          0.47150259067357514,
          0.47253886010362695,
          0.47253886010362695,
          0.47461139896373056,
          0.47461139896373056,
          0.47668393782383417,
          0.47668393782383417,
          0.48082901554404145,
          0.48082901554404145,
          0.48186528497409326,
          0.48186528497409326,
          0.48497409326424873,
          0.48497409326424873,
          0.48601036269430054,
          0.48601036269430054,
          0.49119170984455957,
          0.49119170984455957,
          0.49430051813471504,
          0.49430051813471504,
          0.49740932642487046,
          0.49740932642487046,
          0.49844559585492226,
          0.49844559585492226,
          0.49948186528497407,
          0.49948186528497407,
          0.5025906735751295,
          0.5025906735751295,
          0.505699481865285,
          0.505699481865285,
          0.5067357512953368,
          0.5067357512953368,
          0.5077720207253886,
          0.5077720207253886,
          0.5088082901554404,
          0.5088082901554404,
          0.5119170984455959,
          0.5119170984455959,
          0.5150259067357513,
          0.5150259067357513,
          0.5181347150259067,
          0.5181347150259067,
          0.5202072538860104,
          0.5202072538860104,
          0.5274611398963731,
          0.5274611398963731,
          0.5284974093264249,
          0.5284974093264249,
          0.5316062176165803,
          0.5316062176165803,
          0.5347150259067357,
          0.5347150259067357,
          0.5357512953367876,
          0.5357512953367876,
          0.5430051813471503,
          0.5430051813471503,
          0.5492227979274611,
          0.5492227979274611,
          0.5512953367875648,
          0.5512953367875648,
          0.5606217616580311,
          0.5606217616580311,
          0.5616580310880829,
          0.5616580310880829,
          0.5626943005181347,
          0.5626943005181347,
          0.5647668393782384,
          0.5647668393782384,
          0.5658031088082901,
          0.5658031088082901,
          0.5689119170984456,
          0.5689119170984456,
          0.5699481865284974,
          0.5699481865284974,
          0.5709844559585492,
          0.5709844559585492,
          0.572020725388601,
          0.572020725388601,
          0.5730569948186528,
          0.5730569948186528,
          0.5761658031088083,
          0.5761658031088083,
          0.5772020725388601,
          0.5772020725388601,
          0.5813471502590674,
          0.5813471502590674,
          0.5844559585492228,
          0.5844559585492228,
          0.5875647668393782,
          0.5875647668393782,
          0.5886010362694301,
          0.5886010362694301,
          0.5906735751295337,
          0.5906735751295337,
          0.5948186528497409,
          0.5948186528497409,
          0.5968911917098445,
          0.5968911917098445,
          0.5979274611398964,
          0.5979274611398964,
          0.6,
          0.6,
          0.6010362694300518,
          0.6010362694300518,
          0.6041450777202072,
          0.6041450777202072,
          0.6072538860103627,
          0.6072538860103627,
          0.6082901554404145,
          0.6082901554404145,
          0.6093264248704663,
          0.6093264248704663,
          0.6103626943005181,
          0.6103626943005181,
          0.6113989637305699,
          0.6113989637305699,
          0.6124352331606218,
          0.6124352331606218,
          0.616580310880829,
          0.616580310880829,
          0.6176165803108808,
          0.6176165803108808,
          0.6196891191709845,
          0.6196891191709845,
          0.6238341968911917,
          0.6238341968911917,
          0.6248704663212435,
          0.6248704663212435,
          0.6259067357512953,
          0.6290155440414508,
          0.6290155440414508,
          0.6300518134715026,
          0.6300518134715026,
          0.6310880829015544,
          0.6310880829015544,
          0.633160621761658,
          0.633160621761658,
          0.6341968911917099,
          0.6341968911917099,
          0.6373056994818653,
          0.6373056994818653,
          0.6404145077720207,
          0.6404145077720207,
          0.6414507772020726,
          0.6414507772020726,
          0.6435233160621762,
          0.6435233160621762,
          0.644559585492228,
          0.644559585492228,
          0.6476683937823834,
          0.6476683937823834,
          0.6487046632124353,
          0.6487046632124353,
          0.6538860103626943,
          0.6538860103626943,
          0.6549222797927461,
          0.6549222797927461,
          0.661139896373057,
          0.661139896373057,
          0.6632124352331606,
          0.6632124352331606,
          0.666321243523316,
          0.666321243523316,
          0.6704663212435233,
          0.6704663212435233,
          0.6735751295336787,
          0.6735751295336787,
          0.6746113989637306,
          0.6746113989637306,
          0.6766839378238342,
          0.6766839378238342,
          0.677720207253886,
          0.677720207253886,
          0.6797927461139897,
          0.6797927461139897,
          0.6818652849740933,
          0.6818652849740933,
          0.6829015544041451,
          0.6829015544041451,
          0.6922279792746114,
          0.6953367875647668,
          0.6953367875647668,
          0.6963730569948187,
          0.6963730569948187,
          0.6984455958549223,
          0.6984455958549223,
          0.7005181347150259,
          0.7005181347150259,
          0.7015544041450777,
          0.7015544041450777,
          0.7067357512953368,
          0.7067357512953368,
          0.7077720207253886,
          0.7077720207253886,
          0.7088082901554404,
          0.7088082901554404,
          0.7098445595854922,
          0.7098445595854922,
          0.7108808290155441,
          0.7108808290155441,
          0.7139896373056995,
          0.7139896373056995,
          0.7150259067357513,
          0.7150259067357513,
          0.7181347150259068,
          0.7181347150259068,
          0.7191709844559585,
          0.7191709844559585,
          0.7202072538860104,
          0.7202072538860104,
          0.7212435233160622,
          0.7212435233160622,
          0.7243523316062176,
          0.7243523316062176,
          0.7264248704663212,
          0.7264248704663212,
          0.7274611398963731,
          0.7274611398963731,
          0.7284974093264248,
          0.7284974093264248,
          0.7295336787564767,
          0.7295336787564767,
          0.7305699481865285,
          0.7305699481865285,
          0.7336787564766839,
          0.7336787564766839,
          0.7357512953367875,
          0.7357512953367875,
          0.7378238341968912,
          0.7378238341968912,
          0.738860103626943,
          0.738860103626943,
          0.7409326424870466,
          0.7409326424870466,
          0.7419689119170985,
          0.7419689119170985,
          0.7471502590673575,
          0.7471502590673575,
          0.7481865284974093,
          0.7481865284974093,
          0.7523316062176166,
          0.7523316062176166,
          0.7564766839378239,
          0.7564766839378239,
          0.7575129533678756,
          0.7575129533678756,
          0.7606217616580311,
          0.7606217616580311,
          0.7626943005181347,
          0.7626943005181347,
          0.7668393782383419,
          0.7668393782383419,
          0.7678756476683938,
          0.7678756476683938,
          0.7699481865284974,
          0.7699481865284974,
          0.7709844559585493,
          0.7709844559585493,
          0.7751295336787565,
          0.7751295336787565,
          0.7792746113989637,
          0.7792746113989637,
          0.7803108808290156,
          0.7803108808290156,
          0.783419689119171,
          0.783419689119171,
          0.7844559585492228,
          0.7844559585492228,
          0.7854922279792746,
          0.7854922279792746,
          0.7865284974093264,
          0.7865284974093264,
          0.78860103626943,
          0.78860103626943,
          0.7906735751295336,
          0.7906735751295336,
          0.7927461139896373,
          0.7927461139896373,
          0.7937823834196891,
          0.7937823834196891,
          0.794818652849741,
          0.794818652849741,
          0.7958549222797927,
          0.7958549222797927,
          0.7979274611398963,
          0.7979274611398963,
          0.8,
          0.8,
          0.805181347150259,
          0.805181347150259,
          0.8062176165803109,
          0.8062176165803109,
          0.8072538860103627,
          0.8072538860103627,
          0.8093264248704664,
          0.8093264248704664,
          0.8103626943005181,
          0.8103626943005181,
          0.81139896373057,
          0.81139896373057,
          0.8124352331606217,
          0.8124352331606217,
          0.8145077720207254,
          0.8145077720207254,
          0.8155440414507772,
          0.8155440414507772,
          0.8176165803108808,
          0.8176165803108808,
          0.8186528497409327,
          0.8186528497409327,
          0.8196891191709844,
          0.8196891191709844,
          0.8217616580310881,
          0.8217616580310881,
          0.8227979274611399,
          0.8227979274611399,
          0.8248704663212435,
          0.8248704663212435,
          0.8259067357512954,
          0.8259067357512954,
          0.8269430051813471,
          0.8269430051813471,
          0.827979274611399,
          0.827979274611399,
          0.8290155440414507,
          0.8290155440414507,
          0.8300518134715026,
          0.8300518134715026,
          0.8310880829015544,
          0.8310880829015544,
          0.8321243523316062,
          0.8321243523316062,
          0.8331606217616581,
          0.8331606217616581,
          0.8341968911917098,
          0.8341968911917098,
          0.8352331606217617,
          0.8352331606217617,
          0.8373056994818653,
          0.8373056994818653,
          0.8383419689119171,
          0.8383419689119171,
          0.8404145077720208,
          0.8404145077720208,
          0.8414507772020725,
          0.8414507772020725,
          0.8424870466321244,
          0.8424870466321244,
          0.8435233160621761,
          0.8435233160621761,
          0.844559585492228,
          0.844559585492228,
          0.8455958549222798,
          0.8455958549222798,
          0.8466321243523316,
          0.8466321243523316,
          0.8497409326424871,
          0.8497409326424871,
          0.8507772020725388,
          0.8507772020725388,
          0.8518134715025907,
          0.8518134715025907,
          0.8549222797927462,
          0.8549222797927462,
          0.8569948186528498,
          0.8569948186528498,
          0.8590673575129534,
          0.8590673575129534,
          0.8601036269430051,
          0.8601036269430051,
          0.861139896373057,
          0.861139896373057,
          0.8621761658031089,
          0.8621761658031089,
          0.8642487046632125,
          0.8642487046632125,
          0.8663212435233161,
          0.8663212435233161,
          0.8673575129533678,
          0.8673575129533678,
          0.8683937823834197,
          0.8683937823834197,
          0.8704663212435233,
          0.8704663212435233,
          0.8715025906735752,
          0.8715025906735752,
          0.8725388601036269,
          0.8725388601036269,
          0.8735751295336788,
          0.8735751295336788,
          0.8756476683937824,
          0.8756476683937824,
          0.8766839378238342,
          0.8766839378238342,
          0.8787564766839379,
          0.8787564766839379,
          0.8797927461139896,
          0.8797927461139896,
          0.8829015544041451,
          0.8829015544041451,
          0.883937823834197,
          0.883937823834197,
          0.8860103626943006,
          0.8860103626943006,
          0.8870466321243523,
          0.8870466321243523,
          0.8880829015544042,
          0.8880829015544042,
          0.8901554404145078,
          0.8901554404145078,
          0.8911917098445595,
          0.8911917098445595,
          0.8932642487046633,
          0.8932642487046633,
          0.894300518134715,
          0.894300518134715,
          0.8963730569948186,
          0.8963730569948186,
          0.8974093264248705,
          0.8974093264248705,
          0.8984455958549222,
          0.8984455958549222,
          0.900518134715026,
          0.900518134715026,
          0.9036269430051813,
          0.9036269430051813,
          0.9056994818652849,
          0.9056994818652849,
          0.9067357512953368,
          0.9067357512953368,
          0.9088082901554404,
          0.9088082901554404,
          0.9119170984455959,
          0.9119170984455959,
          0.9129533678756476,
          0.9129533678756476,
          0.9139896373056995,
          0.9139896373056995,
          0.9150259067357513,
          0.9150259067357513,
          0.917098445595855,
          0.917098445595855,
          0.9181347150259067,
          0.9181347150259067,
          0.9191709844559586,
          0.9191709844559586,
          0.9222797927461139,
          0.9222797927461139,
          0.9233160621761658,
          0.9233160621761658,
          0.9243523316062177,
          0.9243523316062177,
          0.9253886010362694,
          0.9253886010362694,
          0.927461139896373,
          0.927461139896373,
          0.9284974093264249,
          0.9284974093264249,
          0.9295336787564766,
          0.9295336787564766,
          0.9305699481865285,
          0.9305699481865285,
          0.9316062176165804,
          0.9316062176165804,
          0.9326424870466321,
          0.9326424870466321,
          0.9398963730569948,
          0.9398963730569948,
          0.9409326424870467,
          0.9409326424870467,
          0.9430051813471503,
          0.9430051813471503,
          0.944041450777202,
          0.944041450777202,
          0.9450777202072539,
          0.9450777202072539,
          0.9481865284974094,
          0.9481865284974094,
          0.9492227979274611,
          0.9492227979274611,
          0.950259067357513,
          0.950259067357513,
          0.9512953367875647,
          0.9512953367875647,
          0.9523316062176166,
          0.9523316062176166,
          0.9533678756476683,
          0.9533678756476683,
          0.9544041450777202,
          0.9544041450777202,
          0.9554404145077721,
          0.9554404145077721,
          0.9564766839378238,
          0.9564766839378238,
          0.9575129533678757,
          0.9575129533678757,
          0.9585492227979274,
          0.9585492227979274,
          0.9595854922279793,
          0.9595854922279793,
          0.960621761658031,
          0.960621761658031,
          0.9616580310880829,
          0.9616580310880829,
          0.9637305699481865,
          0.9637305699481865,
          0.966839378238342,
          0.966839378238342,
          0.9678756476683937,
          0.9678756476683937,
          0.9689119170984456,
          0.9689119170984456,
          0.9699481865284975,
          0.9699481865284975,
          0.9709844559585492,
          0.9709844559585492,
          0.9720207253886011,
          0.9720207253886011,
          0.9730569948186528,
          0.9730569948186528,
          0.9761658031088083,
          0.9761658031088083,
          0.9782383419689119,
          0.9782383419689119,
          0.9792746113989638,
          0.9792746113989638,
          0.9803108808290155,
          0.9803108808290155,
          0.9813471502590674,
          0.9813471502590674,
          0.9823834196891191,
          0.9823834196891191,
          0.9844559585492227,
          0.9844559585492227,
          0.9865284974093265,
          0.9865284974093265,
          0.9875647668393782,
          0.9875647668393782,
          0.9886010362694301,
          0.9886010362694301,
          0.9886010362694301,
          0.9906735751295337,
          0.9906735751295337,
          0.9927461139896373,
          0.9927461139896373,
          0.9927461139896373,
          0.9927461139896373,
          0.9927461139896373,
          0.9937823834196892,
          0.9937823834196892,
          0.9937823834196892,
          0.9937823834196892,
          0.9948186528497409,
          0.9948186528497409,
          0.9948186528497409,
          0.9948186528497409,
          0.9958549222797928,
          0.9958549222797928,
          0.9958549222797928,
          0.9958549222797928,
          0.9968911917098445,
          0.9968911917098445,
          0.9989637305699481,
          0.9989637305699481,
          1,
          1
         ]
        },
        {
         "line": {
          "dash": "dot"
         },
         "mode": "lines",
         "name": "Contrast Line",
         "type": "scatter",
         "x": [
          0,
          1
         ],
         "y": [
          0,
          1
         ]
        },
        {
         "line": {
          "dash": "dash"
         },
         "mode": "lines",
         "name": "Random",
         "type": "scatter",
         "x": [
          0,
          1
         ],
         "y": [
          0,
          1
         ]
        }
       ],
       "layout": {
        "autosize": true,
        "legend": {
         "x": 1,
         "y": 1
        },
        "showlegend": true,
        "template": {
         "data": {
          "bar": [
           {
            "error_x": {
             "color": "#2a3f5f"
            },
            "error_y": {
             "color": "#2a3f5f"
            },
            "marker": {
             "line": {
              "color": "#E5ECF6",
              "width": 0.5
             },
             "pattern": {
              "fillmode": "overlay",
              "size": 10,
              "solidity": 0.2
             }
            },
            "type": "bar"
           }
          ],
          "barpolar": [
           {
            "marker": {
             "line": {
              "color": "#E5ECF6",
              "width": 0.5
             },
             "pattern": {
              "fillmode": "overlay",
              "size": 10,
              "solidity": 0.2
             }
            },
            "type": "barpolar"
           }
          ],
          "carpet": [
           {
            "aaxis": {
             "endlinecolor": "#2a3f5f",
             "gridcolor": "white",
             "linecolor": "white",
             "minorgridcolor": "white",
             "startlinecolor": "#2a3f5f"
            },
            "baxis": {
             "endlinecolor": "#2a3f5f",
             "gridcolor": "white",
             "linecolor": "white",
             "minorgridcolor": "white",
             "startlinecolor": "#2a3f5f"
            },
            "type": "carpet"
           }
          ],
          "choropleth": [
           {
            "colorbar": {
             "outlinewidth": 0,
             "ticks": ""
            },
            "type": "choropleth"
           }
          ],
          "contour": [
           {
            "colorbar": {
             "outlinewidth": 0,
             "ticks": ""
            },
            "colorscale": [
             [
              0,
              "#0d0887"
             ],
             [
              0.1111111111111111,
              "#46039f"
             ],
             [
              0.2222222222222222,
              "#7201a8"
             ],
             [
              0.3333333333333333,
              "#9c179e"
             ],
             [
              0.4444444444444444,
              "#bd3786"
             ],
             [
              0.5555555555555556,
              "#d8576b"
             ],
             [
              0.6666666666666666,
              "#ed7953"
             ],
             [
              0.7777777777777778,
              "#fb9f3a"
             ],
             [
              0.8888888888888888,
              "#fdca26"
             ],
             [
              1,
              "#f0f921"
             ]
            ],
            "type": "contour"
           }
          ],
          "contourcarpet": [
           {
            "colorbar": {
             "outlinewidth": 0,
             "ticks": ""
            },
            "type": "contourcarpet"
           }
          ],
          "heatmap": [
           {
            "colorbar": {
             "outlinewidth": 0,
             "ticks": ""
            },
            "colorscale": [
             [
              0,
              "#0d0887"
             ],
             [
              0.1111111111111111,
              "#46039f"
             ],
             [
              0.2222222222222222,
              "#7201a8"
             ],
             [
              0.3333333333333333,
              "#9c179e"
             ],
             [
              0.4444444444444444,
              "#bd3786"
             ],
             [
              0.5555555555555556,
              "#d8576b"
             ],
             [
              0.6666666666666666,
              "#ed7953"
             ],
             [
              0.7777777777777778,
              "#fb9f3a"
             ],
             [
              0.8888888888888888,
              "#fdca26"
             ],
             [
              1,
              "#f0f921"
             ]
            ],
            "type": "heatmap"
           }
          ],
          "heatmapgl": [
           {
            "colorbar": {
             "outlinewidth": 0,
             "ticks": ""
            },
            "colorscale": [
             [
              0,
              "#0d0887"
             ],
             [
              0.1111111111111111,
              "#46039f"
             ],
             [
              0.2222222222222222,
              "#7201a8"
             ],
             [
              0.3333333333333333,
              "#9c179e"
             ],
             [
              0.4444444444444444,
              "#bd3786"
             ],
             [
              0.5555555555555556,
              "#d8576b"
             ],
             [
              0.6666666666666666,
              "#ed7953"
             ],
             [
              0.7777777777777778,
              "#fb9f3a"
             ],
             [
              0.8888888888888888,
              "#fdca26"
             ],
             [
              1,
              "#f0f921"
             ]
            ],
            "type": "heatmapgl"
           }
          ],
          "histogram": [
           {
            "marker": {
             "pattern": {
              "fillmode": "overlay",
              "size": 10,
              "solidity": 0.2
             }
            },
            "type": "histogram"
           }
          ],
          "histogram2d": [
           {
            "colorbar": {
             "outlinewidth": 0,
             "ticks": ""
            },
            "colorscale": [
             [
              0,
              "#0d0887"
             ],
             [
              0.1111111111111111,
              "#46039f"
             ],
             [
              0.2222222222222222,
              "#7201a8"
             ],
             [
              0.3333333333333333,
              "#9c179e"
             ],
             [
              0.4444444444444444,
              "#bd3786"
             ],
             [
              0.5555555555555556,
              "#d8576b"
             ],
             [
              0.6666666666666666,
              "#ed7953"
             ],
             [
              0.7777777777777778,
              "#fb9f3a"
             ],
             [
              0.8888888888888888,
              "#fdca26"
             ],
             [
              1,
              "#f0f921"
             ]
            ],
            "type": "histogram2d"
           }
          ],
          "histogram2dcontour": [
           {
            "colorbar": {
             "outlinewidth": 0,
             "ticks": ""
            },
            "colorscale": [
             [
              0,
              "#0d0887"
             ],
             [
              0.1111111111111111,
              "#46039f"
             ],
             [
              0.2222222222222222,
              "#7201a8"
             ],
             [
              0.3333333333333333,
              "#9c179e"
             ],
             [
              0.4444444444444444,
              "#bd3786"
             ],
             [
              0.5555555555555556,
              "#d8576b"
             ],
             [
              0.6666666666666666,
              "#ed7953"
             ],
             [
              0.7777777777777778,
              "#fb9f3a"
             ],
             [
              0.8888888888888888,
              "#fdca26"
             ],
             [
              1,
              "#f0f921"
             ]
            ],
            "type": "histogram2dcontour"
           }
          ],
          "mesh3d": [
           {
            "colorbar": {
             "outlinewidth": 0,
             "ticks": ""
            },
            "type": "mesh3d"
           }
          ],
          "parcoords": [
           {
            "line": {
             "colorbar": {
              "outlinewidth": 0,
              "ticks": ""
             }
            },
            "type": "parcoords"
           }
          ],
          "pie": [
           {
            "automargin": true,
            "type": "pie"
           }
          ],
          "scatter": [
           {
            "fillpattern": {
             "fillmode": "overlay",
             "size": 10,
             "solidity": 0.2
            },
            "type": "scatter"
           }
          ],
          "scatter3d": [
           {
            "line": {
             "colorbar": {
              "outlinewidth": 0,
              "ticks": ""
             }
            },
            "marker": {
             "colorbar": {
              "outlinewidth": 0,
              "ticks": ""
             }
            },
            "type": "scatter3d"
           }
          ],
          "scattercarpet": [
           {
            "marker": {
             "colorbar": {
              "outlinewidth": 0,
              "ticks": ""
             }
            },
            "type": "scattercarpet"
           }
          ],
          "scattergeo": [
           {
            "marker": {
             "colorbar": {
              "outlinewidth": 0,
              "ticks": ""
             }
            },
            "type": "scattergeo"
           }
          ],
          "scattergl": [
           {
            "marker": {
             "colorbar": {
              "outlinewidth": 0,
              "ticks": ""
             }
            },
            "type": "scattergl"
           }
          ],
          "scattermapbox": [
           {
            "marker": {
             "colorbar": {
              "outlinewidth": 0,
              "ticks": ""
             }
            },
            "type": "scattermapbox"
           }
          ],
          "scatterpolar": [
           {
            "marker": {
             "colorbar": {
              "outlinewidth": 0,
              "ticks": ""
             }
            },
            "type": "scatterpolar"
           }
          ],
          "scatterpolargl": [
           {
            "marker": {
             "colorbar": {
              "outlinewidth": 0,
              "ticks": ""
             }
            },
            "type": "scatterpolargl"
           }
          ],
          "scatterternary": [
           {
            "marker": {
             "colorbar": {
              "outlinewidth": 0,
              "ticks": ""
             }
            },
            "type": "scatterternary"
           }
          ],
          "surface": [
           {
            "colorbar": {
             "outlinewidth": 0,
             "ticks": ""
            },
            "colorscale": [
             [
              0,
              "#0d0887"
             ],
             [
              0.1111111111111111,
              "#46039f"
             ],
             [
              0.2222222222222222,
              "#7201a8"
             ],
             [
              0.3333333333333333,
              "#9c179e"
             ],
             [
              0.4444444444444444,
              "#bd3786"
             ],
             [
              0.5555555555555556,
              "#d8576b"
             ],
             [
              0.6666666666666666,
              "#ed7953"
             ],
             [
              0.7777777777777778,
              "#fb9f3a"
             ],
             [
              0.8888888888888888,
              "#fdca26"
             ],
             [
              1,
              "#f0f921"
             ]
            ],
            "type": "surface"
           }
          ],
          "table": [
           {
            "cells": {
             "fill": {
              "color": "#EBF0F8"
             },
             "line": {
              "color": "white"
             }
            },
            "header": {
             "fill": {
              "color": "#C8D4E3"
             },
             "line": {
              "color": "white"
             }
            },
            "type": "table"
           }
          ]
         },
         "layout": {
          "annotationdefaults": {
           "arrowcolor": "#2a3f5f",
           "arrowhead": 0,
           "arrowwidth": 1
          },
          "autotypenumbers": "strict",
          "coloraxis": {
           "colorbar": {
            "outlinewidth": 0,
            "ticks": ""
           }
          },
          "colorscale": {
           "diverging": [
            [
             0,
             "#8e0152"
            ],
            [
             0.1,
             "#c51b7d"
            ],
            [
             0.2,
             "#de77ae"
            ],
            [
             0.3,
             "#f1b6da"
            ],
            [
             0.4,
             "#fde0ef"
            ],
            [
             0.5,
             "#f7f7f7"
            ],
            [
             0.6,
             "#e6f5d0"
            ],
            [
             0.7,
             "#b8e186"
            ],
            [
             0.8,
             "#7fbc41"
            ],
            [
             0.9,
             "#4d9221"
            ],
            [
             1,
             "#276419"
            ]
           ],
           "sequential": [
            [
             0,
             "#0d0887"
            ],
            [
             0.1111111111111111,
             "#46039f"
            ],
            [
             0.2222222222222222,
             "#7201a8"
            ],
            [
             0.3333333333333333,
             "#9c179e"
            ],
            [
             0.4444444444444444,
             "#bd3786"
            ],
            [
             0.5555555555555556,
             "#d8576b"
            ],
            [
             0.6666666666666666,
             "#ed7953"
            ],
            [
             0.7777777777777778,
             "#fb9f3a"
            ],
            [
             0.8888888888888888,
             "#fdca26"
            ],
            [
             1,
             "#f0f921"
            ]
           ],
           "sequentialminus": [
            [
             0,
             "#0d0887"
            ],
            [
             0.1111111111111111,
             "#46039f"
            ],
            [
             0.2222222222222222,
             "#7201a8"
            ],
            [
             0.3333333333333333,
             "#9c179e"
            ],
            [
             0.4444444444444444,
             "#bd3786"
            ],
            [
             0.5555555555555556,
             "#d8576b"
            ],
            [
             0.6666666666666666,
             "#ed7953"
            ],
            [
             0.7777777777777778,
             "#fb9f3a"
            ],
            [
             0.8888888888888888,
             "#fdca26"
            ],
            [
             1,
             "#f0f921"
            ]
           ]
          },
          "colorway": [
           "#636efa",
           "#EF553B",
           "#00cc96",
           "#ab63fa",
           "#FFA15A",
           "#19d3f3",
           "#FF6692",
           "#B6E880",
           "#FF97FF",
           "#FECB52"
          ],
          "font": {
           "color": "#2a3f5f"
          },
          "geo": {
           "bgcolor": "white",
           "lakecolor": "white",
           "landcolor": "#E5ECF6",
           "showlakes": true,
           "showland": true,
           "subunitcolor": "white"
          },
          "hoverlabel": {
           "align": "left"
          },
          "hovermode": "closest",
          "mapbox": {
           "style": "light"
          },
          "paper_bgcolor": "white",
          "plot_bgcolor": "#E5ECF6",
          "polar": {
           "angularaxis": {
            "gridcolor": "white",
            "linecolor": "white",
            "ticks": ""
           },
           "bgcolor": "#E5ECF6",
           "radialaxis": {
            "gridcolor": "white",
            "linecolor": "white",
            "ticks": ""
           }
          },
          "scene": {
           "xaxis": {
            "backgroundcolor": "#E5ECF6",
            "gridcolor": "white",
            "gridwidth": 2,
            "linecolor": "white",
            "showbackground": true,
            "ticks": "",
            "zerolinecolor": "white"
           },
           "yaxis": {
            "backgroundcolor": "#E5ECF6",
            "gridcolor": "white",
            "gridwidth": 2,
            "linecolor": "white",
            "showbackground": true,
            "ticks": "",
            "zerolinecolor": "white"
           },
           "zaxis": {
            "backgroundcolor": "#E5ECF6",
            "gridcolor": "white",
            "gridwidth": 2,
            "linecolor": "white",
            "showbackground": true,
            "ticks": "",
            "zerolinecolor": "white"
           }
          },
          "shapedefaults": {
           "line": {
            "color": "#2a3f5f"
           }
          },
          "ternary": {
           "aaxis": {
            "gridcolor": "white",
            "linecolor": "white",
            "ticks": ""
           },
           "baxis": {
            "gridcolor": "white",
            "linecolor": "white",
            "ticks": ""
           },
           "bgcolor": "#E5ECF6",
           "caxis": {
            "gridcolor": "white",
            "linecolor": "white",
            "ticks": ""
           }
          },
          "title": {
           "x": 0.05
          },
          "xaxis": {
           "automargin": true,
           "gridcolor": "white",
           "linecolor": "white",
           "ticks": "",
           "title": {
            "standoff": 15
           },
           "zerolinecolor": "white",
           "zerolinewidth": 2
          },
          "yaxis": {
           "automargin": true,
           "gridcolor": "white",
           "linecolor": "white",
           "ticks": "",
           "title": {
            "standoff": 15
           },
           "zerolinecolor": "white",
           "zerolinewidth": 2
          }
         }
        },
        "title": {
         "text": "ROC Curve of Best SVM Model",
         "x": 0.5
        },
        "xaxis": {
         "autorange": true,
         "range": [
          0,
          1
         ],
         "title": {
          "text": "False Positive Rate"
         },
         "type": "linear"
        },
        "yaxis": {
         "autorange": true,
         "range": [
          -0.05555555555555555,
          1.0555555555555556
         ],
         "title": {
          "text": "True Positive Rate"
         },
         "type": "linear"
        }
       }
      },
      "image/png": "[encoded data removed]",
      "text/html": [
       "<div>                            <div id=\"905b2191-0a50-435d-9c67-94d1a2cd6ce8\" class=\"plotly-graph-div\" style=\"height:525px; width:100%;\"></div>            <script type=\"text/javascript\">                require([\"plotly\"], function(Plotly) {                    window.PLOTLYENV=window.PLOTLYENV || {};                                    if (document.getElementById(\"905b2191-0a50-435d-9c67-94d1a2cd6ce8\")) {                    Plotly.newPlot(                        \"905b2191-0a50-435d-9c67-94d1a2cd6ce8\",                        [{\"mode\":\"lines\",\"name\":\"ROC curve (area = 0.73)\",\"x\":[0.0,0.0,0.0009861932938856016,0.0009861932938856016,0.0019723865877712033,0.0019723865877712033,0.0029585798816568047,0.0029585798816568047,0.005917159763313609,0.005917159763313609,0.006903353057199211,0.006903353057199211,0.007889546351084813,0.007889546351084813,0.009861932938856016,0.009861932938856016,0.010848126232741617,0.010848126232741617,0.011834319526627219,0.011834319526627219,0.015779092702169626,0.015779092702169626,0.016765285996055226,0.016765285996055226,0.01775147928994083,0.01775147928994083,0.01775147928994083,0.01873767258382643,0.01873767258382643,0.01972386587771203,0.020710059171597635,0.020710059171597635,0.021696252465483234,0.021696252465483234,0.022682445759368838,0.023668639053254437,0.023668639053254437,0.02465483234714004,0.02564102564102564,0.05621301775147929,0.05818540433925049,0.05818540433925049,0.05818540433925049,0.07199211045364892,0.07396449704142012,0.07495069033530571,0.07495069033530571,0.07988165680473373,0.08185404339250493,0.08185404339250493,0.08284023668639054,0.08284023668639054,0.08481262327416174,0.08481262327416174,0.08579881656804733,0.08579881656804733,0.08678500986193294,0.08678500986193294,0.08777120315581854,0.08777120315581854,0.08875739644970414,0.08875739644970414,0.09072978303747535,0.09072978303747535,0.09171597633136094,0.09171597633136094,0.09270216962524655,0.09467455621301775,0.09467455621301775,0.09566074950690336,0.09566074950690336,0.09763313609467456,0.09861932938856016,0.09960552268244575,0.09960552268244575,0.10059171597633136,0.10059171597633136,0.10157790927021697,0.10157790927021697,0.10256410256410256,0.10256410256410256,0.10355029585798817,0.10355029585798817,0.10453648915187377,0.10453648915187377,0.10552268244575937,0.10552268244575937,0.10749506903353057,0.10749506903353057,0.10848126232741617,0.10848126232741617,0.10946745562130178,0.10946745562130178,0.11045364891518737,0.11045364891518737,0.11143984220907298,0.11143984220907298,0.11341222879684418,0.11341222879684418,0.11439842209072978,0.11439842209072978,0.11538461538461539,0.11538461538461539,0.11637080867850098,0.11637080867850098,0.11735700197238659,0.11735700197238659,0.11932938856015779,0.11932938856015779,0.1203155818540434,0.1203155818540434,0.12130177514792899,0.12130177514792899,0.126232741617357,0.126232741617357,0.12721893491124261,0.12721893491124261,0.1301775147928994,0.1301775147928994,0.131163708086785,0.131163708086785,0.13214990138067062,0.13214990138067062,0.13313609467455623,0.13313609467455623,0.1351084812623274,0.1351084812623274,0.13708086785009863,0.13708086785009863,0.13806706114398423,0.13806706114398423,0.1390532544378698,0.1390532544378698,0.14003944773175542,0.14003944773175542,0.14102564102564102,0.14102564102564102,0.14398422090729784,0.14398422090729784,0.14497041420118342,0.14497041420118342,0.14595660749506903,0.14595660749506903,0.14792899408284024,0.14792899408284024,0.14891518737672585,0.14891518737672585,0.14891518737672585,0.14990138067061143,0.14990138067061143,0.15187376725838264,0.15187376725838264,0.15285996055226825,0.15285996055226825,0.15384615384615385,0.15384615384615385,0.15581854043392504,0.15581854043392504,0.15877712031558186,0.15877712031558186,0.16074950690335305,0.16074950690335305,0.16272189349112426,0.16272189349112426,0.16469428007889547,0.16469428007889547,0.16666666666666666,0.16666666666666666,0.16765285996055226,0.16765285996055226,0.16863905325443787,0.16863905325443787,0.16962524654832348,0.16962524654832348,0.17061143984220908,0.17061143984220908,0.17159763313609466,0.17159763313609466,0.17357001972386588,0.17455621301775148,0.17455621301775148,0.1755424063116371,0.1755424063116371,0.17850098619329388,0.17850098619329388,0.1794871794871795,0.1794871794871795,0.1804733727810651,0.1804733727810651,0.1814595660749507,0.1814595660749507,0.1844181459566075,0.1844181459566075,0.1854043392504931,0.1854043392504931,0.1873767258382643,0.1873767258382643,0.1883629191321499,0.1883629191321499,0.1893491124260355,0.1893491124260355,0.1913214990138067,0.1913214990138067,0.19230769230769232,0.19230769230769232,0.1932938856015779,0.1932938856015779,0.1942800788954635,0.1942800788954635,0.1952662721893491,0.1952662721893491,0.19723865877712032,0.19723865877712032,0.19822485207100593,0.19822485207100593,0.20019723865877712,0.20019723865877712,0.20118343195266272,0.20118343195266272,0.20315581854043394,0.20315581854043394,0.20414201183431951,0.20414201183431951,0.20512820512820512,0.20512820512820512,0.20611439842209073,0.20611439842209073,0.20808678500986194,0.20808678500986194,0.20907297830374755,0.20907297830374755,0.21104536489151873,0.21104536489151873,0.21301775147928995,0.21301775147928995,0.21400394477317555,0.21400394477317555,0.21499013806706113,0.21499013806706113,0.21597633136094674,0.21597633136094674,0.21893491124260356,0.21893491124260356,0.22090729783037474,0.22090729783037474,0.22287968441814596,0.22287968441814596,0.22583826429980275,0.22583826429980275,0.22781065088757396,0.22781065088757396,0.23076923076923078,0.23076923076923078,0.23274161735700197,0.23274161735700197,0.23372781065088757,0.23372781065088757,0.23471400394477318,0.23471400394477318,0.2357001972386588,0.2357001972386588,0.23668639053254437,0.23668639053254437,0.23767258382642997,0.23767258382642997,0.23964497041420119,0.23964497041420119,0.2406311637080868,0.2406311637080868,0.2445759368836292,0.2445759368836292,0.2455621301775148,0.2455621301775148,0.2465483234714004,0.2465483234714004,0.24753451676528598,0.24753451676528598,0.2514792899408284,0.2514792899408284,0.2534516765285996,0.2534516765285996,0.257396449704142,0.257396449704142,0.2593688362919132,0.2593688362919132,0.2603550295857988,0.2603550295857988,0.2613412228796844,0.2613412228796844,0.26232741617357,0.26232741617357,0.26429980276134124,0.26429980276134124,0.26627218934911245,0.26627218934911245,0.2682445759368836,0.2682445759368836,0.2692307692307692,0.2692307692307692,0.27218934911242604,0.27218934911242604,0.27317554240631164,0.27317554240631164,0.27416173570019725,0.27416173570019725,0.27613412228796846,0.27613412228796846,0.2781065088757396,0.2781065088757396,0.28106508875739644,0.28106508875739644,0.28500986193293887,0.28500986193293887,0.2869822485207101,0.2869822485207101,0.2879684418145957,0.2879684418145957,0.28895463510848124,0.28895463510848124,0.28994082840236685,0.28994082840236685,0.29092702169625245,0.29092702169625245,0.29191321499013806,0.29191321499013806,0.29289940828402367,0.29289940828402367,0.2958579881656805,0.2958579881656805,0.2958579881656805,0.2988165680473373,0.2988165680473373,0.30078895463510846,0.30078895463510846,0.3037475345167653,0.3037475345167653,0.3067061143984221,0.3067061143984221,0.3096646942800789,0.3096646942800789,0.3116370808678501,0.3116370808678501,0.3126232741617357,0.3126232741617357,0.3136094674556213,0.3136094674556213,0.3185404339250493,0.3185404339250493,0.31952662721893493,0.31952662721893493,0.32051282051282054,0.32051282051282054,0.3214990138067061,0.3214990138067061,0.3244575936883629,0.3244575936883629,0.32741617357001973,0.32741617357001973,0.32938856015779094,0.32938856015779094,0.33037475345167655,0.33037475345167655,0.3323471400394477,0.3323471400394477,0.3333333333333333,0.3333333333333333,0.33530571992110453,0.33530571992110453,0.33727810650887574,0.33727810650887574,0.33826429980276135,0.33826429980276135,0.33925049309664695,0.33925049309664695,0.34418145956607493,0.34418145956607493,0.34516765285996054,0.34516765285996054,0.34714003944773175,0.34911242603550297,0.34911242603550297,0.35009861932938857,0.35009861932938857,0.3510848126232742,0.3510848126232742,0.3530571992110454,0.3530571992110454,0.35404339250493094,0.35404339250493094,0.35502958579881655,0.35502958579881655,0.35601577909270216,0.35601577909270216,0.3599605522682446,0.3599605522682446,0.3609467455621302,0.3609467455621302,0.3619329388560158,0.3619329388560158,0.36587771203155817,0.36587771203155817,0.3678500986193294,0.3678500986193294,0.368836291913215,0.368836291913215,0.3708086785009862,0.3708086785009862,0.3727810650887574,0.3727810650887574,0.3757396449704142,0.3757396449704142,0.3767258382642998,0.3767258382642998,0.3777120315581854,0.3777120315581854,0.378698224852071,0.378698224852071,0.3806706114398422,0.3806706114398422,0.38362919132149903,0.38362919132149903,0.38461538461538464,0.38461538461538464,0.3875739644970414,0.3875739644970414,0.388560157790927,0.388560157790927,0.3905325443786982,0.3905325443786982,0.3915187376725838,0.3915187376725838,0.39250493096646943,0.39250493096646943,0.39349112426035504,0.39349112426035504,0.39546351084812625,0.39546351084812625,0.40039447731755423,0.40039447731755423,0.40335305719921105,0.40335305719921105,0.40433925049309666,0.40433925049309666,0.40631163708086787,0.40631163708086787,0.4072978303747535,0.4072978303747535,0.40828402366863903,0.40828402366863903,0.41124260355029585,0.41124260355029585,0.41321499013806706,0.41321499013806706,0.41420118343195267,0.41420118343195267,0.4151873767258383,0.4151873767258383,0.4171597633136095,0.4171597633136095,0.41913214990138065,0.41913214990138065,0.42011834319526625,0.42011834319526625,0.42110453648915186,0.42110453648915186,0.42209072978303747,0.42209072978303747,0.4230769230769231,0.4230769230769231,0.4240631163708087,0.4240631163708087,0.4329388560157791,0.4329388560157791,0.4339250493096647,0.4339250493096647,0.4349112426035503,0.4349112426035503,0.4358974358974359,0.4358974358974359,0.4378698224852071,0.4378698224852071,0.43984220907297833,0.43984220907297833,0.4408284023668639,0.4408284023668639,0.4428007889546351,0.4428007889546351,0.4437869822485207,0.4437869822485207,0.4447731755424063,0.4447731755424063,0.4467455621301775,0.4467455621301775,0.44871794871794873,0.44871794871794873,0.44970414201183434,0.44970414201183434,0.4526627218934911,0.4526627218934911,0.4556213017751479,0.4556213017751479,0.45759368836291914,0.45759368836291914,0.45956607495069035,0.45956607495069035,0.46055226824457596,0.46055226824457596,0.4625246548323471,0.4625246548323471,0.46548323471400394,0.46548323471400394,0.46745562130177515,0.46745562130177515,0.46942800788954636,0.46942800788954636,0.4714003944773176,0.4714003944773176,0.47731755424063116,0.47731755424063116,0.4822485207100592,0.4822485207100592,0.48422090729783035,0.48422090729783035,0.48520710059171596,0.48520710059171596,0.4881656804733728,0.4881656804733728,0.490138067061144,0.490138067061144,0.4921104536489152,0.4921104536489152,0.4940828402366864,0.4940828402366864,0.49506903353057197,0.49506903353057197,0.4970414201183432,0.4970414201183432,0.4990138067061144,0.4990138067061144,0.5,0.5,0.5059171597633136,0.5059171597633136,0.5078895463510849,0.5078895463510849,0.5088757396449705,0.5088757396449705,0.5207100591715976,0.5207100591715976,0.5216962524654832,0.5216962524654832,0.5226824457593688,0.5226824457593688,0.5236686390532544,0.5236686390532544,0.5285996055226825,0.5285996055226825,0.5374753451676528,0.5374753451676528,0.5384615384615384,0.5384615384615384,0.5404339250493096,0.5404339250493096,0.5424063116370809,0.5424063116370809,0.5443786982248521,0.5443786982248521,0.5453648915187377,0.5453648915187377,0.5463510848126233,0.5463510848126233,0.5473372781065089,0.5473372781065089,0.5483234714003945,0.5483234714003945,0.5493096646942801,0.5493096646942801,0.5581854043392505,0.5581854043392505,0.5591715976331361,0.5591715976331361,0.5621301775147929,0.5621301775147929,0.5641025641025641,0.5641025641025641,0.5660749506903353,0.5660749506903353,0.5680473372781065,0.5680473372781065,0.5690335305719921,0.5690335305719921,0.5700197238658777,0.5700197238658777,0.571992110453649,0.571992110453649,0.5729783037475346,0.5729783037475346,0.5759368836291914,0.5759368836291914,0.5779092702169625,0.5779092702169625,0.5798816568047337,0.5798816568047337,0.5808678500986193,0.5808678500986193,0.5838264299802761,0.5838264299802761,0.5848126232741617,0.5848126232741617,0.5867850098619329,0.5867850098619329,0.5877712031558185,0.5877712031558185,0.5897435897435898,0.5897435897435898,0.5907297830374754,0.5907297830374754,0.5936883629191322,0.5936883629191322,0.5946745562130178,0.5946745562130178,0.5956607495069034,0.5956607495069034,0.5976331360946746,0.5976331360946746,0.5986193293885601,0.5986193293885601,0.6094674556213018,0.6094674556213018,0.6104536489151874,0.6104536489151874,0.6173570019723866,0.6173570019723866,0.621301775147929,0.621301775147929,0.6232741617357002,0.6232741617357002,0.6282051282051282,0.6282051282051282,0.6331360946745562,0.6331360946745562,0.636094674556213,0.636094674556213,0.6400394477317555,0.6400394477317555,0.6420118343195266,0.6420118343195266,0.6429980276134122,0.6429980276134122,0.6439842209072978,0.6439842209072978,0.6469428007889546,0.6469428007889546,0.6499013806706114,0.6499013806706114,0.6528599605522682,0.6528599605522682,0.6587771203155819,0.6587771203155819,0.665680473372781,0.665680473372781,0.6666666666666666,0.6666666666666666,0.6686390532544378,0.6686390532544378,0.6715976331360947,0.6715976331360947,0.6755424063116371,0.6755424063116371,0.6775147928994083,0.6775147928994083,0.6804733727810651,0.6804733727810651,0.6903353057199211,0.6903353057199211,0.6913214990138067,0.6913214990138067,0.6923076923076923,0.6923076923076923,0.6952662721893491,0.6952662721893491,0.6962524654832347,0.6962524654832347,0.6972386587771203,0.6972386587771203,0.6992110453648915,0.7001972386587771,0.7071005917159763,0.7071005917159763,0.717948717948718,0.717948717948718,0.7189349112426036,0.7189349112426036,0.7209072978303748,0.7209072978303748,0.7238658777120316,0.7238658777120316,0.7258382642998028,0.7258382642998028,0.7327416173570019,0.7327416173570019,0.7347140039447732,0.7347140039447732,0.7357001972386588,0.7357001972386588,0.73767258382643,0.73767258382643,0.7396449704142012,0.7396449704142012,0.7406311637080868,0.7406311637080868,0.7445759368836292,0.7445759368836292,0.7544378698224852,0.7544378698224852,0.7662721893491125,0.7662721893491125,0.7672583826429981,0.7672583826429981,0.777120315581854,0.777120315581854,0.7790927021696252,0.7790927021696252,0.7800788954635108,0.7800788954635108,0.7850098619329389,0.7850098619329389,0.7879684418145957,0.7879684418145957,0.7919132149901381,0.7919132149901381,0.7998027613412229,0.7998027613412229,0.8106508875739645,0.8106508875739645,0.8175542406311637,0.8175542406311637,0.8214990138067061,0.8214990138067061,0.8244575936883629,0.8284023668639053,0.8303747534516766,0.8925049309664694,0.9142011834319527,0.9240631163708086,0.928007889546351,0.9319526627218935,0.9339250493096647,0.9339250493096647,0.9368836291913215,0.9388560157790927,0.9477317554240631,0.9477317554240631,0.9546351084812623,0.9575936883629191,0.9625246548323472,0.9625246548323472,0.9694280078895463,0.9792899408284024,0.9812623274161736,0.9812623274161736,0.9871794871794872,0.9871794871794872,0.9891518737672583,0.9891518737672583,1.0],\"y\":[0.0,0.0010362694300518134,0.0010362694300518134,0.004145077720207254,0.004145077720207254,0.010362694300518135,0.010362694300518135,0.021761658031088083,0.021761658031088083,0.022797927461139896,0.022797927461139896,0.03005181347150259,0.03005181347150259,0.03212435233160622,0.03212435233160622,0.03316062176165803,0.03316062176165803,0.035233160621761656,0.035233160621761656,0.03626943005181347,0.03626943005181347,0.03730569948186528,0.03730569948186528,0.0383419689119171,0.0383419689119171,0.049740932642487044,0.05181347150259067,0.05284974093264249,0.0538860103626943,0.05595854922279793,0.05699481865284974,0.06010362694300518,0.06321243523316063,0.06528497409326425,0.07046632124352331,0.07046632124352331,0.07150259067357513,0.07150259067357513,0.07772020725388601,0.12538860103626942,0.12538860103626942,0.12642487046632125,0.1305699481865285,0.20103626943005182,0.20518134715025907,0.20621761658031088,0.20932642487046632,0.21658031088082902,0.21658031088082902,0.22279792746113988,0.22279792746113988,0.23108808290155441,0.23108808290155441,0.23316062176165803,0.23316062176165803,0.23937823834196892,0.23937823834196892,0.24352331606217617,0.24352331606217617,0.25077720207253884,0.25077720207253884,0.25181347150259065,0.25181347150259065,0.2549222797927461,0.2549222797927461,0.25906735751295334,0.25906735751295334,0.261139896373057,0.26424870466321243,0.26424870466321243,0.2704663212435233,0.2704663212435233,0.27253886010362693,0.27253886010362693,0.27357512953367874,0.27357512953367874,0.2756476683937824,0.2756476683937824,0.2766839378238342,0.2766839378238342,0.27979274611398963,0.27979274611398963,0.28082901554404144,0.28082901554404144,0.28186528497409324,0.28186528497409324,0.28290155440414505,0.28290155440414505,0.29430051813471503,0.29430051813471503,0.29637305699481864,0.29637305699481864,0.3005181347150259,0.3005181347150259,0.3015544041450777,0.3015544041450777,0.30259067357512953,0.30259067357512953,0.30466321243523314,0.30466321243523314,0.3088082901554404,0.3088082901554404,0.31088082901554404,0.31088082901554404,0.3150259067357513,0.3150259067357513,0.3160621761658031,0.3160621761658031,0.32746113989637304,0.32746113989637304,0.3305699481865285,0.3305699481865285,0.33678756476683935,0.33678756476683935,0.3378238341968912,0.3378238341968912,0.34093264248704663,0.34093264248704663,0.3450777202072539,0.3450777202072539,0.3461139896373057,0.34922279792746114,0.35544041450777203,0.35544041450777203,0.35647668393782384,0.35647668393782384,0.35958549222797925,0.35958549222797925,0.3606217616580311,0.3606217616580311,0.3616580310880829,0.3616580310880829,0.3626943005181347,0.3626943005181347,0.36373056994818653,0.36373056994818653,0.36787564766839376,0.36787564766839376,0.3699481865284974,0.3699481865284974,0.3761658031088083,0.3761658031088083,0.37927461139896373,0.37927461139896373,0.3854922279792746,0.3854922279792746,0.38652849740932643,0.38860103626943004,0.38860103626943004,0.39378238341968913,0.39378238341968913,0.39896373056994816,0.39896373056994816,0.40103626943005183,0.40103626943005183,0.40207253886010363,0.40207253886010363,0.40310880829015544,0.40310880829015544,0.40414507772020725,0.40414507772020725,0.40621761658031086,0.40621761658031086,0.41658031088082903,0.41658031088082903,0.41968911917098445,0.41968911917098445,0.42072538860103625,0.42072538860103625,0.42694300518134715,0.42694300518134715,0.42901554404145076,0.42901554404145076,0.43005181347150256,0.43005181347150256,0.43316062176165804,0.43316062176165804,0.43419689119170984,0.43419689119170984,0.43419689119170984,0.4383419689119171,0.4383419689119171,0.44041450777202074,0.44041450777202074,0.44559585492227977,0.44559585492227977,0.44766839378238343,0.44766839378238343,0.45284974093264246,0.45284974093264246,0.45803108808290155,0.45803108808290155,0.45906735751295336,0.45906735751295336,0.46010362694300516,0.46010362694300516,0.46735751295336786,0.46735751295336786,0.46839378238341967,0.46839378238341967,0.47150259067357514,0.47150259067357514,0.47253886010362695,0.47253886010362695,0.47461139896373056,0.47461139896373056,0.47668393782383417,0.47668393782383417,0.48082901554404145,0.48082901554404145,0.48186528497409326,0.48186528497409326,0.48497409326424873,0.48497409326424873,0.48601036269430054,0.48601036269430054,0.49119170984455957,0.49119170984455957,0.49430051813471504,0.49430051813471504,0.49740932642487046,0.49740932642487046,0.49844559585492226,0.49844559585492226,0.49948186528497407,0.49948186528497407,0.5025906735751295,0.5025906735751295,0.505699481865285,0.505699481865285,0.5067357512953368,0.5067357512953368,0.5077720207253886,0.5077720207253886,0.5088082901554404,0.5088082901554404,0.5119170984455959,0.5119170984455959,0.5150259067357513,0.5150259067357513,0.5181347150259067,0.5181347150259067,0.5202072538860104,0.5202072538860104,0.5274611398963731,0.5274611398963731,0.5284974093264249,0.5284974093264249,0.5316062176165803,0.5316062176165803,0.5347150259067357,0.5347150259067357,0.5357512953367876,0.5357512953367876,0.5430051813471503,0.5430051813471503,0.5492227979274611,0.5492227979274611,0.5512953367875648,0.5512953367875648,0.5606217616580311,0.5606217616580311,0.5616580310880829,0.5616580310880829,0.5626943005181347,0.5626943005181347,0.5647668393782384,0.5647668393782384,0.5658031088082901,0.5658031088082901,0.5689119170984456,0.5689119170984456,0.5699481865284974,0.5699481865284974,0.5709844559585492,0.5709844559585492,0.572020725388601,0.572020725388601,0.5730569948186528,0.5730569948186528,0.5761658031088083,0.5761658031088083,0.5772020725388601,0.5772020725388601,0.5813471502590674,0.5813471502590674,0.5844559585492228,0.5844559585492228,0.5875647668393782,0.5875647668393782,0.5886010362694301,0.5886010362694301,0.5906735751295337,0.5906735751295337,0.5948186528497409,0.5948186528497409,0.5968911917098445,0.5968911917098445,0.5979274611398964,0.5979274611398964,0.6,0.6,0.6010362694300518,0.6010362694300518,0.6041450777202072,0.6041450777202072,0.6072538860103627,0.6072538860103627,0.6082901554404145,0.6082901554404145,0.6093264248704663,0.6093264248704663,0.6103626943005181,0.6103626943005181,0.6113989637305699,0.6113989637305699,0.6124352331606218,0.6124352331606218,0.616580310880829,0.616580310880829,0.6176165803108808,0.6176165803108808,0.6196891191709845,0.6196891191709845,0.6238341968911917,0.6238341968911917,0.6248704663212435,0.6248704663212435,0.6259067357512953,0.6290155440414508,0.6290155440414508,0.6300518134715026,0.6300518134715026,0.6310880829015544,0.6310880829015544,0.633160621761658,0.633160621761658,0.6341968911917099,0.6341968911917099,0.6373056994818653,0.6373056994818653,0.6404145077720207,0.6404145077720207,0.6414507772020726,0.6414507772020726,0.6435233160621762,0.6435233160621762,0.644559585492228,0.644559585492228,0.6476683937823834,0.6476683937823834,0.6487046632124353,0.6487046632124353,0.6538860103626943,0.6538860103626943,0.6549222797927461,0.6549222797927461,0.661139896373057,0.661139896373057,0.6632124352331606,0.6632124352331606,0.666321243523316,0.666321243523316,0.6704663212435233,0.6704663212435233,0.6735751295336787,0.6735751295336787,0.6746113989637306,0.6746113989637306,0.6766839378238342,0.6766839378238342,0.677720207253886,0.677720207253886,0.6797927461139897,0.6797927461139897,0.6818652849740933,0.6818652849740933,0.6829015544041451,0.6829015544041451,0.6922279792746114,0.6953367875647668,0.6953367875647668,0.6963730569948187,0.6963730569948187,0.6984455958549223,0.6984455958549223,0.7005181347150259,0.7005181347150259,0.7015544041450777,0.7015544041450777,0.7067357512953368,0.7067357512953368,0.7077720207253886,0.7077720207253886,0.7088082901554404,0.7088082901554404,0.7098445595854922,0.7098445595854922,0.7108808290155441,0.7108808290155441,0.7139896373056995,0.7139896373056995,0.7150259067357513,0.7150259067357513,0.7181347150259068,0.7181347150259068,0.7191709844559585,0.7191709844559585,0.7202072538860104,0.7202072538860104,0.7212435233160622,0.7212435233160622,0.7243523316062176,0.7243523316062176,0.7264248704663212,0.7264248704663212,0.7274611398963731,0.7274611398963731,0.7284974093264248,0.7284974093264248,0.7295336787564767,0.7295336787564767,0.7305699481865285,0.7305699481865285,0.7336787564766839,0.7336787564766839,0.7357512953367875,0.7357512953367875,0.7378238341968912,0.7378238341968912,0.738860103626943,0.738860103626943,0.7409326424870466,0.7409326424870466,0.7419689119170985,0.7419689119170985,0.7471502590673575,0.7471502590673575,0.7481865284974093,0.7481865284974093,0.7523316062176166,0.7523316062176166,0.7564766839378239,0.7564766839378239,0.7575129533678756,0.7575129533678756,0.7606217616580311,0.7606217616580311,0.7626943005181347,0.7626943005181347,0.7668393782383419,0.7668393782383419,0.7678756476683938,0.7678756476683938,0.7699481865284974,0.7699481865284974,0.7709844559585493,0.7709844559585493,0.7751295336787565,0.7751295336787565,0.7792746113989637,0.7792746113989637,0.7803108808290156,0.7803108808290156,0.783419689119171,0.783419689119171,0.7844559585492228,0.7844559585492228,0.7854922279792746,0.7854922279792746,0.7865284974093264,0.7865284974093264,0.78860103626943,0.78860103626943,0.7906735751295336,0.7906735751295336,0.7927461139896373,0.7927461139896373,0.7937823834196891,0.7937823834196891,0.794818652849741,0.794818652849741,0.7958549222797927,0.7958549222797927,0.7979274611398963,0.7979274611398963,0.8,0.8,0.805181347150259,0.805181347150259,0.8062176165803109,0.8062176165803109,0.8072538860103627,0.8072538860103627,0.8093264248704664,0.8093264248704664,0.8103626943005181,0.8103626943005181,0.81139896373057,0.81139896373057,0.8124352331606217,0.8124352331606217,0.8145077720207254,0.8145077720207254,0.8155440414507772,0.8155440414507772,0.8176165803108808,0.8176165803108808,0.8186528497409327,0.8186528497409327,0.8196891191709844,0.8196891191709844,0.8217616580310881,0.8217616580310881,0.8227979274611399,0.8227979274611399,0.8248704663212435,0.8248704663212435,0.8259067357512954,0.8259067357512954,0.8269430051813471,0.8269430051813471,0.827979274611399,0.827979274611399,0.8290155440414507,0.8290155440414507,0.8300518134715026,0.8300518134715026,0.8310880829015544,0.8310880829015544,0.8321243523316062,0.8321243523316062,0.8331606217616581,0.8331606217616581,0.8341968911917098,0.8341968911917098,0.8352331606217617,0.8352331606217617,0.8373056994818653,0.8373056994818653,0.8383419689119171,0.8383419689119171,0.8404145077720208,0.8404145077720208,0.8414507772020725,0.8414507772020725,0.8424870466321244,0.8424870466321244,0.8435233160621761,0.8435233160621761,0.844559585492228,0.844559585492228,0.8455958549222798,0.8455958549222798,0.8466321243523316,0.8466321243523316,0.8497409326424871,0.8497409326424871,0.8507772020725388,0.8507772020725388,0.8518134715025907,0.8518134715025907,0.8549222797927462,0.8549222797927462,0.8569948186528498,0.8569948186528498,0.8590673575129534,0.8590673575129534,0.8601036269430051,0.8601036269430051,0.861139896373057,0.861139896373057,0.8621761658031089,0.8621761658031089,0.8642487046632125,0.8642487046632125,0.8663212435233161,0.8663212435233161,0.8673575129533678,0.8673575129533678,0.8683937823834197,0.8683937823834197,0.8704663212435233,0.8704663212435233,0.8715025906735752,0.8715025906735752,0.8725388601036269,0.8725388601036269,0.8735751295336788,0.8735751295336788,0.8756476683937824,0.8756476683937824,0.8766839378238342,0.8766839378238342,0.8787564766839379,0.8787564766839379,0.8797927461139896,0.8797927461139896,0.8829015544041451,0.8829015544041451,0.883937823834197,0.883937823834197,0.8860103626943006,0.8860103626943006,0.8870466321243523,0.8870466321243523,0.8880829015544042,0.8880829015544042,0.8901554404145078,0.8901554404145078,0.8911917098445595,0.8911917098445595,0.8932642487046633,0.8932642487046633,0.894300518134715,0.894300518134715,0.8963730569948186,0.8963730569948186,0.8974093264248705,0.8974093264248705,0.8984455958549222,0.8984455958549222,0.900518134715026,0.900518134715026,0.9036269430051813,0.9036269430051813,0.9056994818652849,0.9056994818652849,0.9067357512953368,0.9067357512953368,0.9088082901554404,0.9088082901554404,0.9119170984455959,0.9119170984455959,0.9129533678756476,0.9129533678756476,0.9139896373056995,0.9139896373056995,0.9150259067357513,0.9150259067357513,0.917098445595855,0.917098445595855,0.9181347150259067,0.9181347150259067,0.9191709844559586,0.9191709844559586,0.9222797927461139,0.9222797927461139,0.9233160621761658,0.9233160621761658,0.9243523316062177,0.9243523316062177,0.9253886010362694,0.9253886010362694,0.927461139896373,0.927461139896373,0.9284974093264249,0.9284974093264249,0.9295336787564766,0.9295336787564766,0.9305699481865285,0.9305699481865285,0.9316062176165804,0.9316062176165804,0.9326424870466321,0.9326424870466321,0.9398963730569948,0.9398963730569948,0.9409326424870467,0.9409326424870467,0.9430051813471503,0.9430051813471503,0.944041450777202,0.944041450777202,0.9450777202072539,0.9450777202072539,0.9481865284974094,0.9481865284974094,0.9492227979274611,0.9492227979274611,0.950259067357513,0.950259067357513,0.9512953367875647,0.9512953367875647,0.9523316062176166,0.9523316062176166,0.9533678756476683,0.9533678756476683,0.9544041450777202,0.9544041450777202,0.9554404145077721,0.9554404145077721,0.9564766839378238,0.9564766839378238,0.9575129533678757,0.9575129533678757,0.9585492227979274,0.9585492227979274,0.9595854922279793,0.9595854922279793,0.960621761658031,0.960621761658031,0.9616580310880829,0.9616580310880829,0.9637305699481865,0.9637305699481865,0.966839378238342,0.966839378238342,0.9678756476683937,0.9678756476683937,0.9689119170984456,0.9689119170984456,0.9699481865284975,0.9699481865284975,0.9709844559585492,0.9709844559585492,0.9720207253886011,0.9720207253886011,0.9730569948186528,0.9730569948186528,0.9761658031088083,0.9761658031088083,0.9782383419689119,0.9782383419689119,0.9792746113989638,0.9792746113989638,0.9803108808290155,0.9803108808290155,0.9813471502590674,0.9813471502590674,0.9823834196891191,0.9823834196891191,0.9844559585492227,0.9844559585492227,0.9865284974093265,0.9865284974093265,0.9875647668393782,0.9875647668393782,0.9886010362694301,0.9886010362694301,0.9886010362694301,0.9906735751295337,0.9906735751295337,0.9927461139896373,0.9927461139896373,0.9927461139896373,0.9927461139896373,0.9927461139896373,0.9937823834196892,0.9937823834196892,0.9937823834196892,0.9937823834196892,0.9948186528497409,0.9948186528497409,0.9948186528497409,0.9948186528497409,0.9958549222797928,0.9958549222797928,0.9958549222797928,0.9958549222797928,0.9968911917098445,0.9968911917098445,0.9989637305699481,0.9989637305699481,1.0,1.0],\"type\":\"scatter\"},{\"line\":{\"dash\":\"dot\"},\"mode\":\"lines\",\"name\":\"Contrast Line\",\"x\":[0,1],\"y\":[0,1],\"type\":\"scatter\"},{\"line\":{\"dash\":\"dash\"},\"mode\":\"lines\",\"name\":\"Random\",\"x\":[0,1],\"y\":[0,1],\"type\":\"scatter\"}],                        {\"template\":{\"data\":{\"histogram2dcontour\":[{\"type\":\"histogram2dcontour\",\"colorbar\":{\"outlinewidth\":0,\"ticks\":\"\"},\"colorscale\":[[0.0,\"#0d0887\"],[0.1111111111111111,\"#46039f\"],[0.2222222222222222,\"#7201a8\"],[0.3333333333333333,\"#9c179e\"],[0.4444444444444444,\"#bd3786\"],[0.5555555555555556,\"#d8576b\"],[0.6666666666666666,\"#ed7953\"],[0.7777777777777778,\"#fb9f3a\"],[0.8888888888888888,\"#fdca26\"],[1.0,\"#f0f921\"]]}],\"choropleth\":[{\"type\":\"choropleth\",\"colorbar\":{\"outlinewidth\":0,\"ticks\":\"\"}}],\"histogram2d\":[{\"type\":\"histogram2d\",\"colorbar\":{\"outlinewidth\":0,\"ticks\":\"\"},\"colorscale\":[[0.0,\"#0d0887\"],[0.1111111111111111,\"#46039f\"],[0.2222222222222222,\"#7201a8\"],[0.3333333333333333,\"#9c179e\"],[0.4444444444444444,\"#bd3786\"],[0.5555555555555556,\"#d8576b\"],[0.6666666666666666,\"#ed7953\"],[0.7777777777777778,\"#fb9f3a\"],[0.8888888888888888,\"#fdca26\"],[1.0,\"#f0f921\"]]}],\"heatmap\":[{\"type\":\"heatmap\",\"colorbar\":{\"outlinewidth\":0,\"ticks\":\"\"},\"colorscale\":[[0.0,\"#0d0887\"],[0.1111111111111111,\"#46039f\"],[0.2222222222222222,\"#7201a8\"],[0.3333333333333333,\"#9c179e\"],[0.4444444444444444,\"#bd3786\"],[0.5555555555555556,\"#d8576b\"],[0.6666666666666666,\"#ed7953\"],[0.7777777777777778,\"#fb9f3a\"],[0.8888888888888888,\"#fdca26\"],[1.0,\"#f0f921\"]]}],\"heatmapgl\":[{\"type\":\"heatmapgl\",\"colorbar\":{\"outlinewidth\":0,\"ticks\":\"\"},\"colorscale\":[[0.0,\"#0d0887\"],[0.1111111111111111,\"#46039f\"],[0.2222222222222222,\"#7201a8\"],[0.3333333333333333,\"#9c179e\"],[0.4444444444444444,\"#bd3786\"],[0.5555555555555556,\"#d8576b\"],[0.6666666666666666,\"#ed7953\"],[0.7777777777777778,\"#fb9f3a\"],[0.8888888888888888,\"#fdca26\"],[1.0,\"#f0f921\"]]}],\"contourcarpet\":[{\"type\":\"contourcarpet\",\"colorbar\":{\"outlinewidth\":0,\"ticks\":\"\"}}],\"contour\":[{\"type\":\"contour\",\"colorbar\":{\"outlinewidth\":0,\"ticks\":\"\"},\"colorscale\":[[0.0,\"#0d0887\"],[0.1111111111111111,\"#46039f\"],[0.2222222222222222,\"#7201a8\"],[0.3333333333333333,\"#9c179e\"],[0.4444444444444444,\"#bd3786\"],[0.5555555555555556,\"#d8576b\"],[0.6666666666666666,\"#ed7953\"],[0.7777777777777778,\"#fb9f3a\"],[0.8888888888888888,\"#fdca26\"],[1.0,\"#f0f921\"]]}],\"surface\":[{\"type\":\"surface\",\"colorbar\":{\"outlinewidth\":0,\"ticks\":\"\"},\"colorscale\":[[0.0,\"#0d0887\"],[0.1111111111111111,\"#46039f\"],[0.2222222222222222,\"#7201a8\"],[0.3333333333333333,\"#9c179e\"],[0.4444444444444444,\"#bd3786\"],[0.5555555555555556,\"#d8576b\"],[0.6666666666666666,\"#ed7953\"],[0.7777777777777778,\"#fb9f3a\"],[0.8888888888888888,\"#fdca26\"],[1.0,\"#f0f921\"]]}],\"mesh3d\":[{\"type\":\"mesh3d\",\"colorbar\":{\"outlinewidth\":0,\"ticks\":\"\"}}],\"scatter\":[{\"fillpattern\":{\"fillmode\":\"overlay\",\"size\":10,\"solidity\":0.2},\"type\":\"scatter\"}],\"parcoords\":[{\"type\":\"parcoords\",\"line\":{\"colorbar\":{\"outlinewidth\":0,\"ticks\":\"\"}}}],\"scatterpolargl\":[{\"type\":\"scatterpolargl\",\"marker\":{\"colorbar\":{\"outlinewidth\":0,\"ticks\":\"\"}}}],\"bar\":[{\"error_x\":{\"color\":\"#2a3f5f\"},\"error_y\":{\"color\":\"#2a3f5f\"},\"marker\":{\"line\":{\"color\":\"#E5ECF6\",\"width\":0.5},\"pattern\":{\"fillmode\":\"overlay\",\"size\":10,\"solidity\":0.2}},\"type\":\"bar\"}],\"scattergeo\":[{\"type\":\"scattergeo\",\"marker\":{\"colorbar\":{\"outlinewidth\":0,\"ticks\":\"\"}}}],\"scatterpolar\":[{\"type\":\"scatterpolar\",\"marker\":{\"colorbar\":{\"outlinewidth\":0,\"ticks\":\"\"}}}],\"histogram\":[{\"marker\":{\"pattern\":{\"fillmode\":\"overlay\",\"size\":10,\"solidity\":0.2}},\"type\":\"histogram\"}],\"scattergl\":[{\"type\":\"scattergl\",\"marker\":{\"colorbar\":{\"outlinewidth\":0,\"ticks\":\"\"}}}],\"scatter3d\":[{\"type\":\"scatter3d\",\"line\":{\"colorbar\":{\"outlinewidth\":0,\"ticks\":\"\"}},\"marker\":{\"colorbar\":{\"outlinewidth\":0,\"ticks\":\"\"}}}],\"scattermapbox\":[{\"type\":\"scattermapbox\",\"marker\":{\"colorbar\":{\"outlinewidth\":0,\"ticks\":\"\"}}}],\"scatterternary\":[{\"type\":\"scatterternary\",\"marker\":{\"colorbar\":{\"outlinewidth\":0,\"ticks\":\"\"}}}],\"scattercarpet\":[{\"type\":\"scattercarpet\",\"marker\":{\"colorbar\":{\"outlinewidth\":0,\"ticks\":\"\"}}}],\"carpet\":[{\"aaxis\":{\"endlinecolor\":\"#2a3f5f\",\"gridcolor\":\"white\",\"linecolor\":\"white\",\"minorgridcolor\":\"white\",\"startlinecolor\":\"#2a3f5f\"},\"baxis\":{\"endlinecolor\":\"#2a3f5f\",\"gridcolor\":\"white\",\"linecolor\":\"white\",\"minorgridcolor\":\"white\",\"startlinecolor\":\"#2a3f5f\"},\"type\":\"carpet\"}],\"table\":[{\"cells\":{\"fill\":{\"color\":\"#EBF0F8\"},\"line\":{\"color\":\"white\"}},\"header\":{\"fill\":{\"color\":\"#C8D4E3\"},\"line\":{\"color\":\"white\"}},\"type\":\"table\"}],\"barpolar\":[{\"marker\":{\"line\":{\"color\":\"#E5ECF6\",\"width\":0.5},\"pattern\":{\"fillmode\":\"overlay\",\"size\":10,\"solidity\":0.2}},\"type\":\"barpolar\"}],\"pie\":[{\"automargin\":true,\"type\":\"pie\"}]},\"layout\":{\"autotypenumbers\":\"strict\",\"colorway\":[\"#636efa\",\"#EF553B\",\"#00cc96\",\"#ab63fa\",\"#FFA15A\",\"#19d3f3\",\"#FF6692\",\"#B6E880\",\"#FF97FF\",\"#FECB52\"],\"font\":{\"color\":\"#2a3f5f\"},\"hovermode\":\"closest\",\"hoverlabel\":{\"align\":\"left\"},\"paper_bgcolor\":\"white\",\"plot_bgcolor\":\"#E5ECF6\",\"polar\":{\"bgcolor\":\"#E5ECF6\",\"angularaxis\":{\"gridcolor\":\"white\",\"linecolor\":\"white\",\"ticks\":\"\"},\"radialaxis\":{\"gridcolor\":\"white\",\"linecolor\":\"white\",\"ticks\":\"\"}},\"ternary\":{\"bgcolor\":\"#E5ECF6\",\"aaxis\":{\"gridcolor\":\"white\",\"linecolor\":\"white\",\"ticks\":\"\"},\"baxis\":{\"gridcolor\":\"white\",\"linecolor\":\"white\",\"ticks\":\"\"},\"caxis\":{\"gridcolor\":\"white\",\"linecolor\":\"white\",\"ticks\":\"\"}},\"coloraxis\":{\"colorbar\":{\"outlinewidth\":0,\"ticks\":\"\"}},\"colorscale\":{\"sequential\":[[0.0,\"#0d0887\"],[0.1111111111111111,\"#46039f\"],[0.2222222222222222,\"#7201a8\"],[0.3333333333333333,\"#9c179e\"],[0.4444444444444444,\"#bd3786\"],[0.5555555555555556,\"#d8576b\"],[0.6666666666666666,\"#ed7953\"],[0.7777777777777778,\"#fb9f3a\"],[0.8888888888888888,\"#fdca26\"],[1.0,\"#f0f921\"]],\"sequentialminus\":[[0.0,\"#0d0887\"],[0.1111111111111111,\"#46039f\"],[0.2222222222222222,\"#7201a8\"],[0.3333333333333333,\"#9c179e\"],[0.4444444444444444,\"#bd3786\"],[0.5555555555555556,\"#d8576b\"],[0.6666666666666666,\"#ed7953\"],[0.7777777777777778,\"#fb9f3a\"],[0.8888888888888888,\"#fdca26\"],[1.0,\"#f0f921\"]],\"diverging\":[[0,\"#8e0152\"],[0.1,\"#c51b7d\"],[0.2,\"#de77ae\"],[0.3,\"#f1b6da\"],[0.4,\"#fde0ef\"],[0.5,\"#f7f7f7\"],[0.6,\"#e6f5d0\"],[0.7,\"#b8e186\"],[0.8,\"#7fbc41\"],[0.9,\"#4d9221\"],[1,\"#276419\"]]},\"xaxis\":{\"gridcolor\":\"white\",\"linecolor\":\"white\",\"ticks\":\"\",\"title\":{\"standoff\":15},\"zerolinecolor\":\"white\",\"automargin\":true,\"zerolinewidth\":2},\"yaxis\":{\"gridcolor\":\"white\",\"linecolor\":\"white\",\"ticks\":\"\",\"title\":{\"standoff\":15},\"zerolinecolor\":\"white\",\"automargin\":true,\"zerolinewidth\":2},\"scene\":{\"xaxis\":{\"backgroundcolor\":\"#E5ECF6\",\"gridcolor\":\"white\",\"linecolor\":\"white\",\"showbackground\":true,\"ticks\":\"\",\"zerolinecolor\":\"white\",\"gridwidth\":2},\"yaxis\":{\"backgroundcolor\":\"#E5ECF6\",\"gridcolor\":\"white\",\"linecolor\":\"white\",\"showbackground\":true,\"ticks\":\"\",\"zerolinecolor\":\"white\",\"gridwidth\":2},\"zaxis\":{\"backgroundcolor\":\"#E5ECF6\",\"gridcolor\":\"white\",\"linecolor\":\"white\",\"showbackground\":true,\"ticks\":\"\",\"zerolinecolor\":\"white\",\"gridwidth\":2}},\"shapedefaults\":{\"line\":{\"color\":\"#2a3f5f\"}},\"annotationdefaults\":{\"arrowcolor\":\"#2a3f5f\",\"arrowhead\":0,\"arrowwidth\":1},\"geo\":{\"bgcolor\":\"white\",\"landcolor\":\"#E5ECF6\",\"subunitcolor\":\"white\",\"showland\":true,\"showlakes\":true,\"lakecolor\":\"white\"},\"title\":{\"x\":0.05},\"mapbox\":{\"style\":\"light\"}}},\"title\":{\"text\":\"ROC Curve of Best SVM Model\",\"x\":0.5},\"xaxis\":{\"title\":{\"text\":\"False Positive Rate\"}},\"yaxis\":{\"title\":{\"text\":\"True Positive Rate\"}},\"showlegend\":true,\"legend\":{\"x\":1,\"y\":1}},                        {\"responsive\": true}                    ).then(function(){\n",
       "                            \n",
       "var gd = document.getElementById('905b2191-0a50-435d-9c67-94d1a2cd6ce8');\n",
       "var x = new MutationObserver(function (mutations, observer) {{\n",
       "        var display = window.getComputedStyle(gd).display;\n",
       "        if (!display || display === 'none') {{\n",
       "            console.log([gd, 'removed!']);\n",
       "            Plotly.purge(gd);\n",
       "            observer.disconnect();\n",
       "        }}\n",
       "}});\n",
       "\n",
       "// Listen for the removal of the full notebook cells\n",
       "var notebookContainer = gd.closest('#notebook-container');\n",
       "if (notebookContainer) {{\n",
       "    x.observe(notebookContainer, {childList: true});\n",
       "}}\n",
       "\n",
       "// Listen for the clearing of the current output cell\n",
       "var outputEl = gd.closest('.output');\n",
       "if (outputEl) {{\n",
       "    x.observe(outputEl, {childList: true});\n",
       "}}\n",
       "\n",
       "                        })                };                });            </script>        </div>"
      ]
     },
     "metadata": {},
     "output_type": "display_data"
    }
   ],
   "source": [
    "import plotly.graph_objects as go\n",
    "from sklearn.metrics import roc_curve, auc\n",
    "\n",
    "#test_data and best_svm_model are defined\n",
    "\n",
    "# Convert string labels to numerical format\n",
    "test_data['controversiality'] = test_data['controversiality'].astype(int)\n",
    "\n",
    "# Function to plot ROC curve using Plotly\n",
    "def plot_roc_curve_plotly(y_true, y_scores, subplot_title):\n",
    "    fpr, tpr, _ = roc_curve(y_true, y_scores)\n",
    "    roc_auc = auc(fpr, tpr)\n",
    "\n",
    "    # Compute the contrast line (diagonal line)\n",
    "    contrast_line_x = [0, 1]\n",
    "    contrast_line_y = [0, 1]\n",
    "\n",
    "    fig = go.Figure()\n",
    "    fig.add_trace(go.Scatter(x=fpr, y=tpr, mode='lines', name=f'ROC curve (area = {roc_auc:.2f})'))\n",
    "    fig.add_trace(go.Scatter(x=contrast_line_x, y=contrast_line_y, mode='lines', name='Contrast Line', line={'dash': 'dot'}))\n",
    "    fig.add_trace(go.Scatter(x=[0, 1], y=[0, 1], mode='lines', name='Random', line={'dash': 'dash'}))\n",
    "    \n",
    "    fig.update_layout(\n",
    "        title=f'Receiver Operating Characteristic (ROC) Curve - {subplot_title}',\n",
    "        xaxis=dict(title='False Positive Rate'),\n",
    "        yaxis=dict(title='True Positive Rate'),\n",
    "        showlegend=True,\n",
    "    )\n",
    "\n",
    "    return fig\n",
    "\n",
    "# Get the predicted scores for the positive class\n",
    "y_scores_svm = best_svm_model.decision_function(test_data['clean_body'])\n",
    "\n",
    "# Create ROC curve using Plotly\n",
    "roc_fig = plot_roc_curve_plotly(test_data['controversiality'], y_scores_svm, 'SVM')\n",
    "\n",
    "# Update layout for the figure\n",
    "roc_fig.update_layout(\n",
    "    title_text='ROC Curve of Best SVM Model',\n",
    "    title_x=0.5,  # Center the title\n",
    "    legend=dict(x=1, y=1),  # Adjust legend position for the ROC curve subplot\n",
    "    xaxis_title='False Positive Rate',\n",
    "    yaxis_title='True Positive Rate',\n",
    ")\n",
    "\n",
    "# Save the ROC curve plot as an HTML file\n",
    "save_path = '/root/fall-2023-reddit-project-team-33/data/plots/BestSVM_ROC.html'\n",
    "roc_fig.write_html(save_path)\n",
    "\n",
    "roc_fig.show()"
   ]
  },
  {
   "cell_type": "code",
   "execution_count": null,
   "id": "cef1dc4e-cfa2-4399-9c0d-974b71ab5325",
   "metadata": {},
   "outputs": [],
   "source": []
  },
  {
   "cell_type": "code",
   "execution_count": 103,
   "id": "b88f2505-c963-4ff5-95cc-73ccdf294add",
   "metadata": {
    "tags": []
   },
   "outputs": [
    {
     "data": {
      "application/vnd.plotly.v1+json": {
       "config": {
        "plotlyServerURL": "https://plot.ly"
       },
       "data": [
        {
         "colorscale": [
          [
           0,
           "#440154"
          ],
          [
           0.1111111111111111,
           "#482878"
          ],
          [
           0.2222222222222222,
           "#3e4989"
          ],
          [
           0.3333333333333333,
           "#31688e"
          ],
          [
           0.4444444444444444,
           "#26828e"
          ],
          [
           0.5555555555555556,
           "#1f9e89"
          ],
          [
           0.6666666666666666,
           "#35b779"
          ],
          [
           0.7777777777777778,
           "#6ece58"
          ],
          [
           0.8888888888888888,
           "#b5de2b"
          ],
          [
           1,
           "#fde725"
          ]
         ],
         "reversescale": false,
         "showscale": true,
         "type": "heatmap",
         "x": [
          "Non-controversial",
          "Controversial"
         ],
         "y": [
          "Non-controversial",
          "Controversial"
         ],
         "z": [
          [
           600,
           414
          ],
          [
           230,
           735
          ]
         ]
        }
       ],
       "layout": {
        "annotations": [
         {
          "font": {
           "color": "#000000"
          },
          "showarrow": false,
          "text": "600",
          "x": "Non-controversial",
          "xref": "x",
          "y": "Non-controversial",
          "yref": "y"
         },
         {
          "font": {
           "color": "#FFFFFF"
          },
          "showarrow": false,
          "text": "414",
          "x": "Controversial",
          "xref": "x",
          "y": "Non-controversial",
          "yref": "y"
         },
         {
          "font": {
           "color": "#FFFFFF"
          },
          "showarrow": false,
          "text": "230",
          "x": "Non-controversial",
          "xref": "x",
          "y": "Controversial",
          "yref": "y"
         },
         {
          "font": {
           "color": "#000000"
          },
          "showarrow": false,
          "text": "735",
          "x": "Controversial",
          "xref": "x",
          "y": "Controversial",
          "yref": "y"
         },
         {
          "font": {
           "color": "black",
           "size": 14
          },
          "showarrow": false,
          "text": "Predicted value",
          "x": 0.5,
          "xref": "paper",
          "y": -0.15,
          "yref": "paper"
         },
         {
          "font": {
           "color": "black",
           "size": 14
          },
          "showarrow": false,
          "text": "Real value",
          "textangle": -90,
          "x": -0.35,
          "xref": "paper",
          "y": 0.5,
          "yref": "paper"
         }
        ],
        "autosize": true,
        "margin": {
         "l": 200,
         "t": 50
        },
        "template": {
         "data": {
          "bar": [
           {
            "error_x": {
             "color": "#2a3f5f"
            },
            "error_y": {
             "color": "#2a3f5f"
            },
            "marker": {
             "line": {
              "color": "#E5ECF6",
              "width": 0.5
             },
             "pattern": {
              "fillmode": "overlay",
              "size": 10,
              "solidity": 0.2
             }
            },
            "type": "bar"
           }
          ],
          "barpolar": [
           {
            "marker": {
             "line": {
              "color": "#E5ECF6",
              "width": 0.5
             },
             "pattern": {
              "fillmode": "overlay",
              "size": 10,
              "solidity": 0.2
             }
            },
            "type": "barpolar"
           }
          ],
          "carpet": [
           {
            "aaxis": {
             "endlinecolor": "#2a3f5f",
             "gridcolor": "white",
             "linecolor": "white",
             "minorgridcolor": "white",
             "startlinecolor": "#2a3f5f"
            },
            "baxis": {
             "endlinecolor": "#2a3f5f",
             "gridcolor": "white",
             "linecolor": "white",
             "minorgridcolor": "white",
             "startlinecolor": "#2a3f5f"
            },
            "type": "carpet"
           }
          ],
          "choropleth": [
           {
            "colorbar": {
             "outlinewidth": 0,
             "ticks": ""
            },
            "type": "choropleth"
           }
          ],
          "contour": [
           {
            "colorbar": {
             "outlinewidth": 0,
             "ticks": ""
            },
            "colorscale": [
             [
              0,
              "#0d0887"
             ],
             [
              0.1111111111111111,
              "#46039f"
             ],
             [
              0.2222222222222222,
              "#7201a8"
             ],
             [
              0.3333333333333333,
              "#9c179e"
             ],
             [
              0.4444444444444444,
              "#bd3786"
             ],
             [
              0.5555555555555556,
              "#d8576b"
             ],
             [
              0.6666666666666666,
              "#ed7953"
             ],
             [
              0.7777777777777778,
              "#fb9f3a"
             ],
             [
              0.8888888888888888,
              "#fdca26"
             ],
             [
              1,
              "#f0f921"
             ]
            ],
            "type": "contour"
           }
          ],
          "contourcarpet": [
           {
            "colorbar": {
             "outlinewidth": 0,
             "ticks": ""
            },
            "type": "contourcarpet"
           }
          ],
          "heatmap": [
           {
            "colorbar": {
             "outlinewidth": 0,
             "ticks": ""
            },
            "colorscale": [
             [
              0,
              "#0d0887"
             ],
             [
              0.1111111111111111,
              "#46039f"
             ],
             [
              0.2222222222222222,
              "#7201a8"
             ],
             [
              0.3333333333333333,
              "#9c179e"
             ],
             [
              0.4444444444444444,
              "#bd3786"
             ],
             [
              0.5555555555555556,
              "#d8576b"
             ],
             [
              0.6666666666666666,
              "#ed7953"
             ],
             [
              0.7777777777777778,
              "#fb9f3a"
             ],
             [
              0.8888888888888888,
              "#fdca26"
             ],
             [
              1,
              "#f0f921"
             ]
            ],
            "type": "heatmap"
           }
          ],
          "heatmapgl": [
           {
            "colorbar": {
             "outlinewidth": 0,
             "ticks": ""
            },
            "colorscale": [
             [
              0,
              "#0d0887"
             ],
             [
              0.1111111111111111,
              "#46039f"
             ],
             [
              0.2222222222222222,
              "#7201a8"
             ],
             [
              0.3333333333333333,
              "#9c179e"
             ],
             [
              0.4444444444444444,
              "#bd3786"
             ],
             [
              0.5555555555555556,
              "#d8576b"
             ],
             [
              0.6666666666666666,
              "#ed7953"
             ],
             [
              0.7777777777777778,
              "#fb9f3a"
             ],
             [
              0.8888888888888888,
              "#fdca26"
             ],
             [
              1,
              "#f0f921"
             ]
            ],
            "type": "heatmapgl"
           }
          ],
          "histogram": [
           {
            "marker": {
             "pattern": {
              "fillmode": "overlay",
              "size": 10,
              "solidity": 0.2
             }
            },
            "type": "histogram"
           }
          ],
          "histogram2d": [
           {
            "colorbar": {
             "outlinewidth": 0,
             "ticks": ""
            },
            "colorscale": [
             [
              0,
              "#0d0887"
             ],
             [
              0.1111111111111111,
              "#46039f"
             ],
             [
              0.2222222222222222,
              "#7201a8"
             ],
             [
              0.3333333333333333,
              "#9c179e"
             ],
             [
              0.4444444444444444,
              "#bd3786"
             ],
             [
              0.5555555555555556,
              "#d8576b"
             ],
             [
              0.6666666666666666,
              "#ed7953"
             ],
             [
              0.7777777777777778,
              "#fb9f3a"
             ],
             [
              0.8888888888888888,
              "#fdca26"
             ],
             [
              1,
              "#f0f921"
             ]
            ],
            "type": "histogram2d"
           }
          ],
          "histogram2dcontour": [
           {
            "colorbar": {
             "outlinewidth": 0,
             "ticks": ""
            },
            "colorscale": [
             [
              0,
              "#0d0887"
             ],
             [
              0.1111111111111111,
              "#46039f"
             ],
             [
              0.2222222222222222,
              "#7201a8"
             ],
             [
              0.3333333333333333,
              "#9c179e"
             ],
             [
              0.4444444444444444,
              "#bd3786"
             ],
             [
              0.5555555555555556,
              "#d8576b"
             ],
             [
              0.6666666666666666,
              "#ed7953"
             ],
             [
              0.7777777777777778,
              "#fb9f3a"
             ],
             [
              0.8888888888888888,
              "#fdca26"
             ],
             [
              1,
              "#f0f921"
             ]
            ],
            "type": "histogram2dcontour"
           }
          ],
          "mesh3d": [
           {
            "colorbar": {
             "outlinewidth": 0,
             "ticks": ""
            },
            "type": "mesh3d"
           }
          ],
          "parcoords": [
           {
            "line": {
             "colorbar": {
              "outlinewidth": 0,
              "ticks": ""
             }
            },
            "type": "parcoords"
           }
          ],
          "pie": [
           {
            "automargin": true,
            "type": "pie"
           }
          ],
          "scatter": [
           {
            "fillpattern": {
             "fillmode": "overlay",
             "size": 10,
             "solidity": 0.2
            },
            "type": "scatter"
           }
          ],
          "scatter3d": [
           {
            "line": {
             "colorbar": {
              "outlinewidth": 0,
              "ticks": ""
             }
            },
            "marker": {
             "colorbar": {
              "outlinewidth": 0,
              "ticks": ""
             }
            },
            "type": "scatter3d"
           }
          ],
          "scattercarpet": [
           {
            "marker": {
             "colorbar": {
              "outlinewidth": 0,
              "ticks": ""
             }
            },
            "type": "scattercarpet"
           }
          ],
          "scattergeo": [
           {
            "marker": {
             "colorbar": {
              "outlinewidth": 0,
              "ticks": ""
             }
            },
            "type": "scattergeo"
           }
          ],
          "scattergl": [
           {
            "marker": {
             "colorbar": {
              "outlinewidth": 0,
              "ticks": ""
             }
            },
            "type": "scattergl"
           }
          ],
          "scattermapbox": [
           {
            "marker": {
             "colorbar": {
              "outlinewidth": 0,
              "ticks": ""
             }
            },
            "type": "scattermapbox"
           }
          ],
          "scatterpolar": [
           {
            "marker": {
             "colorbar": {
              "outlinewidth": 0,
              "ticks": ""
             }
            },
            "type": "scatterpolar"
           }
          ],
          "scatterpolargl": [
           {
            "marker": {
             "colorbar": {
              "outlinewidth": 0,
              "ticks": ""
             }
            },
            "type": "scatterpolargl"
           }
          ],
          "scatterternary": [
           {
            "marker": {
             "colorbar": {
              "outlinewidth": 0,
              "ticks": ""
             }
            },
            "type": "scatterternary"
           }
          ],
          "surface": [
           {
            "colorbar": {
             "outlinewidth": 0,
             "ticks": ""
            },
            "colorscale": [
             [
              0,
              "#0d0887"
             ],
             [
              0.1111111111111111,
              "#46039f"
             ],
             [
              0.2222222222222222,
              "#7201a8"
             ],
             [
              0.3333333333333333,
              "#9c179e"
             ],
             [
              0.4444444444444444,
              "#bd3786"
             ],
             [
              0.5555555555555556,
              "#d8576b"
             ],
             [
              0.6666666666666666,
              "#ed7953"
             ],
             [
              0.7777777777777778,
              "#fb9f3a"
             ],
             [
              0.8888888888888888,
              "#fdca26"
             ],
             [
              1,
              "#f0f921"
             ]
            ],
            "type": "surface"
           }
          ],
          "table": [
           {
            "cells": {
             "fill": {
              "color": "#EBF0F8"
             },
             "line": {
              "color": "white"
             }
            },
            "header": {
             "fill": {
              "color": "#C8D4E3"
             },
             "line": {
              "color": "white"
             }
            },
            "type": "table"
           }
          ]
         },
         "layout": {
          "annotationdefaults": {
           "arrowcolor": "#2a3f5f",
           "arrowhead": 0,
           "arrowwidth": 1
          },
          "autotypenumbers": "strict",
          "coloraxis": {
           "colorbar": {
            "outlinewidth": 0,
            "ticks": ""
           }
          },
          "colorscale": {
           "diverging": [
            [
             0,
             "#8e0152"
            ],
            [
             0.1,
             "#c51b7d"
            ],
            [
             0.2,
             "#de77ae"
            ],
            [
             0.3,
             "#f1b6da"
            ],
            [
             0.4,
             "#fde0ef"
            ],
            [
             0.5,
             "#f7f7f7"
            ],
            [
             0.6,
             "#e6f5d0"
            ],
            [
             0.7,
             "#b8e186"
            ],
            [
             0.8,
             "#7fbc41"
            ],
            [
             0.9,
             "#4d9221"
            ],
            [
             1,
             "#276419"
            ]
           ],
           "sequential": [
            [
             0,
             "#0d0887"
            ],
            [
             0.1111111111111111,
             "#46039f"
            ],
            [
             0.2222222222222222,
             "#7201a8"
            ],
            [
             0.3333333333333333,
             "#9c179e"
            ],
            [
             0.4444444444444444,
             "#bd3786"
            ],
            [
             0.5555555555555556,
             "#d8576b"
            ],
            [
             0.6666666666666666,
             "#ed7953"
            ],
            [
             0.7777777777777778,
             "#fb9f3a"
            ],
            [
             0.8888888888888888,
             "#fdca26"
            ],
            [
             1,
             "#f0f921"
            ]
           ],
           "sequentialminus": [
            [
             0,
             "#0d0887"
            ],
            [
             0.1111111111111111,
             "#46039f"
            ],
            [
             0.2222222222222222,
             "#7201a8"
            ],
            [
             0.3333333333333333,
             "#9c179e"
            ],
            [
             0.4444444444444444,
             "#bd3786"
            ],
            [
             0.5555555555555556,
             "#d8576b"
            ],
            [
             0.6666666666666666,
             "#ed7953"
            ],
            [
             0.7777777777777778,
             "#fb9f3a"
            ],
            [
             0.8888888888888888,
             "#fdca26"
            ],
            [
             1,
             "#f0f921"
            ]
           ]
          },
          "colorway": [
           "#636efa",
           "#EF553B",
           "#00cc96",
           "#ab63fa",
           "#FFA15A",
           "#19d3f3",
           "#FF6692",
           "#B6E880",
           "#FF97FF",
           "#FECB52"
          ],
          "font": {
           "color": "#2a3f5f"
          },
          "geo": {
           "bgcolor": "white",
           "lakecolor": "white",
           "landcolor": "#E5ECF6",
           "showlakes": true,
           "showland": true,
           "subunitcolor": "white"
          },
          "hoverlabel": {
           "align": "left"
          },
          "hovermode": "closest",
          "mapbox": {
           "style": "light"
          },
          "paper_bgcolor": "white",
          "plot_bgcolor": "#E5ECF6",
          "polar": {
           "angularaxis": {
            "gridcolor": "white",
            "linecolor": "white",
            "ticks": ""
           },
           "bgcolor": "#E5ECF6",
           "radialaxis": {
            "gridcolor": "white",
            "linecolor": "white",
            "ticks": ""
           }
          },
          "scene": {
           "xaxis": {
            "backgroundcolor": "#E5ECF6",
            "gridcolor": "white",
            "gridwidth": 2,
            "linecolor": "white",
            "showbackground": true,
            "ticks": "",
            "zerolinecolor": "white"
           },
           "yaxis": {
            "backgroundcolor": "#E5ECF6",
            "gridcolor": "white",
            "gridwidth": 2,
            "linecolor": "white",
            "showbackground": true,
            "ticks": "",
            "zerolinecolor": "white"
           },
           "zaxis": {
            "backgroundcolor": "#E5ECF6",
            "gridcolor": "white",
            "gridwidth": 2,
            "linecolor": "white",
            "showbackground": true,
            "ticks": "",
            "zerolinecolor": "white"
           }
          },
          "shapedefaults": {
           "line": {
            "color": "#2a3f5f"
           }
          },
          "ternary": {
           "aaxis": {
            "gridcolor": "white",
            "linecolor": "white",
            "ticks": ""
           },
           "baxis": {
            "gridcolor": "white",
            "linecolor": "white",
            "ticks": ""
           },
           "bgcolor": "#E5ECF6",
           "caxis": {
            "gridcolor": "white",
            "linecolor": "white",
            "ticks": ""
           }
          },
          "title": {
           "x": 0.05
          },
          "xaxis": {
           "automargin": true,
           "gridcolor": "white",
           "linecolor": "white",
           "ticks": "",
           "title": {
            "standoff": 15
           },
           "zerolinecolor": "white",
           "zerolinewidth": 2
          },
          "yaxis": {
           "automargin": true,
           "gridcolor": "white",
           "linecolor": "white",
           "ticks": "",
           "title": {
            "standoff": 15
           },
           "zerolinecolor": "white",
           "zerolinewidth": 2
          }
         }
        },
        "title": {
         "text": "<i><b>Confusion matrix</b></i>"
        },
        "xaxis": {
         "autorange": true,
         "dtick": 1,
         "gridcolor": "rgb(0, 0, 0)",
         "range": [
          -0.5,
          1.5
         ],
         "side": "top",
         "ticks": "",
         "title": {
          "text": "Predicted"
         },
         "type": "category"
        },
        "yaxis": {
         "autorange": true,
         "dtick": 1,
         "range": [
          -0.5,
          1.5
         ],
         "ticks": "",
         "ticksuffix": "  ",
         "title": {
          "text": "True"
         },
         "type": "category"
        }
       }
      },
      "image/png": "[encoded data removed]",
      "text/html": [
       "<div>                            <div id=\"151907bc-4bae-4615-819d-beb24190cf40\" class=\"plotly-graph-div\" style=\"height:525px; width:100%;\"></div>            <script type=\"text/javascript\">                require([\"plotly\"], function(Plotly) {                    window.PLOTLYENV=window.PLOTLYENV || {};                                    if (document.getElementById(\"151907bc-4bae-4615-819d-beb24190cf40\")) {                    Plotly.newPlot(                        \"151907bc-4bae-4615-819d-beb24190cf40\",                        [{\"colorscale\":[[0.0,\"#440154\"],[0.1111111111111111,\"#482878\"],[0.2222222222222222,\"#3e4989\"],[0.3333333333333333,\"#31688e\"],[0.4444444444444444,\"#26828e\"],[0.5555555555555556,\"#1f9e89\"],[0.6666666666666666,\"#35b779\"],[0.7777777777777778,\"#6ece58\"],[0.8888888888888888,\"#b5de2b\"],[1.0,\"#fde725\"]],\"reversescale\":false,\"showscale\":true,\"x\":[\"Non-controversial\",\"Controversial\"],\"y\":[\"Non-controversial\",\"Controversial\"],\"z\":[[600,414],[230,735]],\"type\":\"heatmap\"}],                        {\"annotations\":[{\"font\":{\"color\":\"#000000\"},\"showarrow\":false,\"text\":\"600\",\"x\":\"Non-controversial\",\"xref\":\"x\",\"y\":\"Non-controversial\",\"yref\":\"y\"},{\"font\":{\"color\":\"#FFFFFF\"},\"showarrow\":false,\"text\":\"414\",\"x\":\"Controversial\",\"xref\":\"x\",\"y\":\"Non-controversial\",\"yref\":\"y\"},{\"font\":{\"color\":\"#FFFFFF\"},\"showarrow\":false,\"text\":\"230\",\"x\":\"Non-controversial\",\"xref\":\"x\",\"y\":\"Controversial\",\"yref\":\"y\"},{\"font\":{\"color\":\"#000000\"},\"showarrow\":false,\"text\":\"735\",\"x\":\"Controversial\",\"xref\":\"x\",\"y\":\"Controversial\",\"yref\":\"y\"},{\"font\":{\"color\":\"black\",\"size\":14},\"showarrow\":false,\"text\":\"Predicted value\",\"x\":0.5,\"xref\":\"paper\",\"y\":-0.15,\"yref\":\"paper\"},{\"font\":{\"color\":\"black\",\"size\":14},\"showarrow\":false,\"text\":\"Real value\",\"textangle\":-90,\"x\":-0.35,\"xref\":\"paper\",\"y\":0.5,\"yref\":\"paper\"}],\"xaxis\":{\"dtick\":1,\"gridcolor\":\"rgb(0, 0, 0)\",\"side\":\"top\",\"ticks\":\"\",\"title\":{\"text\":\"Predicted\"}},\"yaxis\":{\"dtick\":1,\"ticks\":\"\",\"ticksuffix\":\"  \",\"title\":{\"text\":\"True\"}},\"template\":{\"data\":{\"histogram2dcontour\":[{\"type\":\"histogram2dcontour\",\"colorbar\":{\"outlinewidth\":0,\"ticks\":\"\"},\"colorscale\":[[0.0,\"#0d0887\"],[0.1111111111111111,\"#46039f\"],[0.2222222222222222,\"#7201a8\"],[0.3333333333333333,\"#9c179e\"],[0.4444444444444444,\"#bd3786\"],[0.5555555555555556,\"#d8576b\"],[0.6666666666666666,\"#ed7953\"],[0.7777777777777778,\"#fb9f3a\"],[0.8888888888888888,\"#fdca26\"],[1.0,\"#f0f921\"]]}],\"choropleth\":[{\"type\":\"choropleth\",\"colorbar\":{\"outlinewidth\":0,\"ticks\":\"\"}}],\"histogram2d\":[{\"type\":\"histogram2d\",\"colorbar\":{\"outlinewidth\":0,\"ticks\":\"\"},\"colorscale\":[[0.0,\"#0d0887\"],[0.1111111111111111,\"#46039f\"],[0.2222222222222222,\"#7201a8\"],[0.3333333333333333,\"#9c179e\"],[0.4444444444444444,\"#bd3786\"],[0.5555555555555556,\"#d8576b\"],[0.6666666666666666,\"#ed7953\"],[0.7777777777777778,\"#fb9f3a\"],[0.8888888888888888,\"#fdca26\"],[1.0,\"#f0f921\"]]}],\"heatmap\":[{\"type\":\"heatmap\",\"colorbar\":{\"outlinewidth\":0,\"ticks\":\"\"},\"colorscale\":[[0.0,\"#0d0887\"],[0.1111111111111111,\"#46039f\"],[0.2222222222222222,\"#7201a8\"],[0.3333333333333333,\"#9c179e\"],[0.4444444444444444,\"#bd3786\"],[0.5555555555555556,\"#d8576b\"],[0.6666666666666666,\"#ed7953\"],[0.7777777777777778,\"#fb9f3a\"],[0.8888888888888888,\"#fdca26\"],[1.0,\"#f0f921\"]]}],\"heatmapgl\":[{\"type\":\"heatmapgl\",\"colorbar\":{\"outlinewidth\":0,\"ticks\":\"\"},\"colorscale\":[[0.0,\"#0d0887\"],[0.1111111111111111,\"#46039f\"],[0.2222222222222222,\"#7201a8\"],[0.3333333333333333,\"#9c179e\"],[0.4444444444444444,\"#bd3786\"],[0.5555555555555556,\"#d8576b\"],[0.6666666666666666,\"#ed7953\"],[0.7777777777777778,\"#fb9f3a\"],[0.8888888888888888,\"#fdca26\"],[1.0,\"#f0f921\"]]}],\"contourcarpet\":[{\"type\":\"contourcarpet\",\"colorbar\":{\"outlinewidth\":0,\"ticks\":\"\"}}],\"contour\":[{\"type\":\"contour\",\"colorbar\":{\"outlinewidth\":0,\"ticks\":\"\"},\"colorscale\":[[0.0,\"#0d0887\"],[0.1111111111111111,\"#46039f\"],[0.2222222222222222,\"#7201a8\"],[0.3333333333333333,\"#9c179e\"],[0.4444444444444444,\"#bd3786\"],[0.5555555555555556,\"#d8576b\"],[0.6666666666666666,\"#ed7953\"],[0.7777777777777778,\"#fb9f3a\"],[0.8888888888888888,\"#fdca26\"],[1.0,\"#f0f921\"]]}],\"surface\":[{\"type\":\"surface\",\"colorbar\":{\"outlinewidth\":0,\"ticks\":\"\"},\"colorscale\":[[0.0,\"#0d0887\"],[0.1111111111111111,\"#46039f\"],[0.2222222222222222,\"#7201a8\"],[0.3333333333333333,\"#9c179e\"],[0.4444444444444444,\"#bd3786\"],[0.5555555555555556,\"#d8576b\"],[0.6666666666666666,\"#ed7953\"],[0.7777777777777778,\"#fb9f3a\"],[0.8888888888888888,\"#fdca26\"],[1.0,\"#f0f921\"]]}],\"mesh3d\":[{\"type\":\"mesh3d\",\"colorbar\":{\"outlinewidth\":0,\"ticks\":\"\"}}],\"scatter\":[{\"fillpattern\":{\"fillmode\":\"overlay\",\"size\":10,\"solidity\":0.2},\"type\":\"scatter\"}],\"parcoords\":[{\"type\":\"parcoords\",\"line\":{\"colorbar\":{\"outlinewidth\":0,\"ticks\":\"\"}}}],\"scatterpolargl\":[{\"type\":\"scatterpolargl\",\"marker\":{\"colorbar\":{\"outlinewidth\":0,\"ticks\":\"\"}}}],\"bar\":[{\"error_x\":{\"color\":\"#2a3f5f\"},\"error_y\":{\"color\":\"#2a3f5f\"},\"marker\":{\"line\":{\"color\":\"#E5ECF6\",\"width\":0.5},\"pattern\":{\"fillmode\":\"overlay\",\"size\":10,\"solidity\":0.2}},\"type\":\"bar\"}],\"scattergeo\":[{\"type\":\"scattergeo\",\"marker\":{\"colorbar\":{\"outlinewidth\":0,\"ticks\":\"\"}}}],\"scatterpolar\":[{\"type\":\"scatterpolar\",\"marker\":{\"colorbar\":{\"outlinewidth\":0,\"ticks\":\"\"}}}],\"histogram\":[{\"marker\":{\"pattern\":{\"fillmode\":\"overlay\",\"size\":10,\"solidity\":0.2}},\"type\":\"histogram\"}],\"scattergl\":[{\"type\":\"scattergl\",\"marker\":{\"colorbar\":{\"outlinewidth\":0,\"ticks\":\"\"}}}],\"scatter3d\":[{\"type\":\"scatter3d\",\"line\":{\"colorbar\":{\"outlinewidth\":0,\"ticks\":\"\"}},\"marker\":{\"colorbar\":{\"outlinewidth\":0,\"ticks\":\"\"}}}],\"scattermapbox\":[{\"type\":\"scattermapbox\",\"marker\":{\"colorbar\":{\"outlinewidth\":0,\"ticks\":\"\"}}}],\"scatterternary\":[{\"type\":\"scatterternary\",\"marker\":{\"colorbar\":{\"outlinewidth\":0,\"ticks\":\"\"}}}],\"scattercarpet\":[{\"type\":\"scattercarpet\",\"marker\":{\"colorbar\":{\"outlinewidth\":0,\"ticks\":\"\"}}}],\"carpet\":[{\"aaxis\":{\"endlinecolor\":\"#2a3f5f\",\"gridcolor\":\"white\",\"linecolor\":\"white\",\"minorgridcolor\":\"white\",\"startlinecolor\":\"#2a3f5f\"},\"baxis\":{\"endlinecolor\":\"#2a3f5f\",\"gridcolor\":\"white\",\"linecolor\":\"white\",\"minorgridcolor\":\"white\",\"startlinecolor\":\"#2a3f5f\"},\"type\":\"carpet\"}],\"table\":[{\"cells\":{\"fill\":{\"color\":\"#EBF0F8\"},\"line\":{\"color\":\"white\"}},\"header\":{\"fill\":{\"color\":\"#C8D4E3\"},\"line\":{\"color\":\"white\"}},\"type\":\"table\"}],\"barpolar\":[{\"marker\":{\"line\":{\"color\":\"#E5ECF6\",\"width\":0.5},\"pattern\":{\"fillmode\":\"overlay\",\"size\":10,\"solidity\":0.2}},\"type\":\"barpolar\"}],\"pie\":[{\"automargin\":true,\"type\":\"pie\"}]},\"layout\":{\"autotypenumbers\":\"strict\",\"colorway\":[\"#636efa\",\"#EF553B\",\"#00cc96\",\"#ab63fa\",\"#FFA15A\",\"#19d3f3\",\"#FF6692\",\"#B6E880\",\"#FF97FF\",\"#FECB52\"],\"font\":{\"color\":\"#2a3f5f\"},\"hovermode\":\"closest\",\"hoverlabel\":{\"align\":\"left\"},\"paper_bgcolor\":\"white\",\"plot_bgcolor\":\"#E5ECF6\",\"polar\":{\"bgcolor\":\"#E5ECF6\",\"angularaxis\":{\"gridcolor\":\"white\",\"linecolor\":\"white\",\"ticks\":\"\"},\"radialaxis\":{\"gridcolor\":\"white\",\"linecolor\":\"white\",\"ticks\":\"\"}},\"ternary\":{\"bgcolor\":\"#E5ECF6\",\"aaxis\":{\"gridcolor\":\"white\",\"linecolor\":\"white\",\"ticks\":\"\"},\"baxis\":{\"gridcolor\":\"white\",\"linecolor\":\"white\",\"ticks\":\"\"},\"caxis\":{\"gridcolor\":\"white\",\"linecolor\":\"white\",\"ticks\":\"\"}},\"coloraxis\":{\"colorbar\":{\"outlinewidth\":0,\"ticks\":\"\"}},\"colorscale\":{\"sequential\":[[0.0,\"#0d0887\"],[0.1111111111111111,\"#46039f\"],[0.2222222222222222,\"#7201a8\"],[0.3333333333333333,\"#9c179e\"],[0.4444444444444444,\"#bd3786\"],[0.5555555555555556,\"#d8576b\"],[0.6666666666666666,\"#ed7953\"],[0.7777777777777778,\"#fb9f3a\"],[0.8888888888888888,\"#fdca26\"],[1.0,\"#f0f921\"]],\"sequentialminus\":[[0.0,\"#0d0887\"],[0.1111111111111111,\"#46039f\"],[0.2222222222222222,\"#7201a8\"],[0.3333333333333333,\"#9c179e\"],[0.4444444444444444,\"#bd3786\"],[0.5555555555555556,\"#d8576b\"],[0.6666666666666666,\"#ed7953\"],[0.7777777777777778,\"#fb9f3a\"],[0.8888888888888888,\"#fdca26\"],[1.0,\"#f0f921\"]],\"diverging\":[[0,\"#8e0152\"],[0.1,\"#c51b7d\"],[0.2,\"#de77ae\"],[0.3,\"#f1b6da\"],[0.4,\"#fde0ef\"],[0.5,\"#f7f7f7\"],[0.6,\"#e6f5d0\"],[0.7,\"#b8e186\"],[0.8,\"#7fbc41\"],[0.9,\"#4d9221\"],[1,\"#276419\"]]},\"xaxis\":{\"gridcolor\":\"white\",\"linecolor\":\"white\",\"ticks\":\"\",\"title\":{\"standoff\":15},\"zerolinecolor\":\"white\",\"automargin\":true,\"zerolinewidth\":2},\"yaxis\":{\"gridcolor\":\"white\",\"linecolor\":\"white\",\"ticks\":\"\",\"title\":{\"standoff\":15},\"zerolinecolor\":\"white\",\"automargin\":true,\"zerolinewidth\":2},\"scene\":{\"xaxis\":{\"backgroundcolor\":\"#E5ECF6\",\"gridcolor\":\"white\",\"linecolor\":\"white\",\"showbackground\":true,\"ticks\":\"\",\"zerolinecolor\":\"white\",\"gridwidth\":2},\"yaxis\":{\"backgroundcolor\":\"#E5ECF6\",\"gridcolor\":\"white\",\"linecolor\":\"white\",\"showbackground\":true,\"ticks\":\"\",\"zerolinecolor\":\"white\",\"gridwidth\":2},\"zaxis\":{\"backgroundcolor\":\"#E5ECF6\",\"gridcolor\":\"white\",\"linecolor\":\"white\",\"showbackground\":true,\"ticks\":\"\",\"zerolinecolor\":\"white\",\"gridwidth\":2}},\"shapedefaults\":{\"line\":{\"color\":\"#2a3f5f\"}},\"annotationdefaults\":{\"arrowcolor\":\"#2a3f5f\",\"arrowhead\":0,\"arrowwidth\":1},\"geo\":{\"bgcolor\":\"white\",\"landcolor\":\"#E5ECF6\",\"subunitcolor\":\"white\",\"showland\":true,\"showlakes\":true,\"lakecolor\":\"white\"},\"title\":{\"x\":0.05},\"mapbox\":{\"style\":\"light\"}}},\"title\":{\"text\":\"<i><b>Confusion matrix</b></i>\"},\"margin\":{\"t\":50,\"l\":200}},                        {\"responsive\": true}                    ).then(function(){\n",
       "                            \n",
       "var gd = document.getElementById('151907bc-4bae-4615-819d-beb24190cf40');\n",
       "var x = new MutationObserver(function (mutations, observer) {{\n",
       "        var display = window.getComputedStyle(gd).display;\n",
       "        if (!display || display === 'none') {{\n",
       "            console.log([gd, 'removed!']);\n",
       "            Plotly.purge(gd);\n",
       "            observer.disconnect();\n",
       "        }}\n",
       "}});\n",
       "\n",
       "// Listen for the removal of the full notebook cells\n",
       "var notebookContainer = gd.closest('#notebook-container');\n",
       "if (notebookContainer) {{\n",
       "    x.observe(notebookContainer, {childList: true});\n",
       "}}\n",
       "\n",
       "// Listen for the clearing of the current output cell\n",
       "var outputEl = gd.closest('.output');\n",
       "if (outputEl) {{\n",
       "    x.observe(outputEl, {childList: true});\n",
       "}}\n",
       "\n",
       "                        })                };                });            </script>        </div>"
      ]
     },
     "metadata": {},
     "output_type": "display_data"
    }
   ],
   "source": [
    "\n",
    "def plot_confusion_matrix_plotly(y_true, y_pred, subplot_title):\n",
    "    cm = confusion_matrix(y_true, y_pred).tolist() # Normalizing the confusion matrix\n",
    "\n",
    "    x_labels = ['Non-controversial', 'Controversial']\n",
    "    y_labels = ['Non-controversial', 'Controversial']\n",
    "    \n",
    "    z_text = [[str(value) for value in row] for row in cm]\n",
    "\n",
    "    fig = ff.create_annotated_heatmap(z=cm, x=x_labels, y=y_labels,  annotation_text=z_text,colorscale='Viridis')\n",
    "\n",
    "    fig.update_layout(\n",
    "        title=f'Confusion Matrix - {subplot_title}',\n",
    "        xaxis=dict(title='Predicted'),\n",
    "        yaxis=dict(title='True'),\n",
    "    )\n",
    "    # add title\n",
    "    fig.update_layout(title_text='<i><b>Confusion matrix</b></i>',\n",
    "                  #xaxis = dict(title='x'),\n",
    "                  #yaxis = dict(title='x')\n",
    "                 )\n",
    "    fig.add_annotation(dict(font=dict(color=\"black\",size=14),\n",
    "                        x=0.5,\n",
    "                        y=-0.15,\n",
    "                        showarrow=False,\n",
    "                        text=\"Predicted value\",\n",
    "                        xref=\"paper\",\n",
    "                        yref=\"paper\"))\n",
    "    fig.add_annotation(dict(font=dict(color=\"black\",size=14),\n",
    "                        x=-0.35,\n",
    "                        y=0.5,\n",
    "                        showarrow=False,\n",
    "                        text=\"Real value\",\n",
    "                        textangle=-90,\n",
    "                        xref=\"paper\",\n",
    "                        yref=\"paper\"))\n",
    "    fig.update_layout(margin=dict(t=50, l=200))\n",
    "    fig['data'][0]['showscale'] = True\n",
    "    fig.show()\n",
    "\n",
    "    return fig\n",
    "\n",
    "cm_fig=plot_confusion_matrix_plotly(test_data['controversiality'], y_pred_svm, 'SVM')\n",
    "save_path_cm = '/root/fall-2023-reddit-project-team-33/data/plots/BestSVM_ConfusionMatrix.html'\n",
    "cm_fig.write_html(save_path_cm)\n"
   ]
  },
  {
   "cell_type": "code",
   "execution_count": 119,
   "id": "ba4c606a-9f3e-4a5e-9381-d8fbdc6faa93",
   "metadata": {
    "tags": []
   },
   "outputs": [
    {
     "data": {
      "application/vnd.plotly.v1+json": {
       "config": {
        "plotlyServerURL": "https://plot.ly"
       },
       "data": [
        {
         "cells": {
          "align": "center",
          "fill": {
           "color": [
            [
             "#EAEAEA",
             "#F5F5F5",
             "#66CDAA"
            ],
            [
             "#EAEAEA",
             "#F5F5F5",
             "#66CDAA"
            ],
            [
             "#EAEAEA",
             "#F5F5F5",
             "#66CDAA"
            ]
           ]
          },
          "values": [
           [
            "Best Random Forest",
            "Best Naive Bayes",
            "Best SVM"
           ],
           [
            0.66,
            0.66,
            0.67
           ],
           [
            0.77,
            0.75,
            0.72
           ],
           [
            0.49,
            0.5,
            0.59
           ],
           [
            0.6,
            0.6,
            0.65
           ],
           [
            0.61,
            0.61,
            0.64
           ],
           [
            0.84,
            0.83,
            0.76
           ],
           [
            0.71,
            0.7,
            0.7
           ]
          ]
         },
         "header": {
          "fill": {
           "color": "#2E4A62"
          },
          "font": {
           "color": "white"
          },
          "values": [
           "Model",
           "Accuracy",
           "Precision (Class 0)",
           "Recall (Class 0)",
           "F1-Score (Class 0)",
           "Precision (Class 1)",
           "Recall (Class 1)",
           "F1-Score (Class 1)"
          ]
         },
         "type": "table"
        }
       ],
       "layout": {
        "height": 400,
        "margin": {
         "b": 10,
         "l": 10,
         "r": 10,
         "t": 60
        },
        "paper_bgcolor": "#F0F8FF",
        "plot_bgcolor": "#F0F8FF",
        "template": {
         "data": {
          "bar": [
           {
            "error_x": {
             "color": "#2a3f5f"
            },
            "error_y": {
             "color": "#2a3f5f"
            },
            "marker": {
             "line": {
              "color": "#E5ECF6",
              "width": 0.5
             },
             "pattern": {
              "fillmode": "overlay",
              "size": 10,
              "solidity": 0.2
             }
            },
            "type": "bar"
           }
          ],
          "barpolar": [
           {
            "marker": {
             "line": {
              "color": "#E5ECF6",
              "width": 0.5
             },
             "pattern": {
              "fillmode": "overlay",
              "size": 10,
              "solidity": 0.2
             }
            },
            "type": "barpolar"
           }
          ],
          "carpet": [
           {
            "aaxis": {
             "endlinecolor": "#2a3f5f",
             "gridcolor": "white",
             "linecolor": "white",
             "minorgridcolor": "white",
             "startlinecolor": "#2a3f5f"
            },
            "baxis": {
             "endlinecolor": "#2a3f5f",
             "gridcolor": "white",
             "linecolor": "white",
             "minorgridcolor": "white",
             "startlinecolor": "#2a3f5f"
            },
            "type": "carpet"
           }
          ],
          "choropleth": [
           {
            "colorbar": {
             "outlinewidth": 0,
             "ticks": ""
            },
            "type": "choropleth"
           }
          ],
          "contour": [
           {
            "colorbar": {
             "outlinewidth": 0,
             "ticks": ""
            },
            "colorscale": [
             [
              0,
              "#0d0887"
             ],
             [
              0.1111111111111111,
              "#46039f"
             ],
             [
              0.2222222222222222,
              "#7201a8"
             ],
             [
              0.3333333333333333,
              "#9c179e"
             ],
             [
              0.4444444444444444,
              "#bd3786"
             ],
             [
              0.5555555555555556,
              "#d8576b"
             ],
             [
              0.6666666666666666,
              "#ed7953"
             ],
             [
              0.7777777777777778,
              "#fb9f3a"
             ],
             [
              0.8888888888888888,
              "#fdca26"
             ],
             [
              1,
              "#f0f921"
             ]
            ],
            "type": "contour"
           }
          ],
          "contourcarpet": [
           {
            "colorbar": {
             "outlinewidth": 0,
             "ticks": ""
            },
            "type": "contourcarpet"
           }
          ],
          "heatmap": [
           {
            "colorbar": {
             "outlinewidth": 0,
             "ticks": ""
            },
            "colorscale": [
             [
              0,
              "#0d0887"
             ],
             [
              0.1111111111111111,
              "#46039f"
             ],
             [
              0.2222222222222222,
              "#7201a8"
             ],
             [
              0.3333333333333333,
              "#9c179e"
             ],
             [
              0.4444444444444444,
              "#bd3786"
             ],
             [
              0.5555555555555556,
              "#d8576b"
             ],
             [
              0.6666666666666666,
              "#ed7953"
             ],
             [
              0.7777777777777778,
              "#fb9f3a"
             ],
             [
              0.8888888888888888,
              "#fdca26"
             ],
             [
              1,
              "#f0f921"
             ]
            ],
            "type": "heatmap"
           }
          ],
          "heatmapgl": [
           {
            "colorbar": {
             "outlinewidth": 0,
             "ticks": ""
            },
            "colorscale": [
             [
              0,
              "#0d0887"
             ],
             [
              0.1111111111111111,
              "#46039f"
             ],
             [
              0.2222222222222222,
              "#7201a8"
             ],
             [
              0.3333333333333333,
              "#9c179e"
             ],
             [
              0.4444444444444444,
              "#bd3786"
             ],
             [
              0.5555555555555556,
              "#d8576b"
             ],
             [
              0.6666666666666666,
              "#ed7953"
             ],
             [
              0.7777777777777778,
              "#fb9f3a"
             ],
             [
              0.8888888888888888,
              "#fdca26"
             ],
             [
              1,
              "#f0f921"
             ]
            ],
            "type": "heatmapgl"
           }
          ],
          "histogram": [
           {
            "marker": {
             "pattern": {
              "fillmode": "overlay",
              "size": 10,
              "solidity": 0.2
             }
            },
            "type": "histogram"
           }
          ],
          "histogram2d": [
           {
            "colorbar": {
             "outlinewidth": 0,
             "ticks": ""
            },
            "colorscale": [
             [
              0,
              "#0d0887"
             ],
             [
              0.1111111111111111,
              "#46039f"
             ],
             [
              0.2222222222222222,
              "#7201a8"
             ],
             [
              0.3333333333333333,
              "#9c179e"
             ],
             [
              0.4444444444444444,
              "#bd3786"
             ],
             [
              0.5555555555555556,
              "#d8576b"
             ],
             [
              0.6666666666666666,
              "#ed7953"
             ],
             [
              0.7777777777777778,
              "#fb9f3a"
             ],
             [
              0.8888888888888888,
              "#fdca26"
             ],
             [
              1,
              "#f0f921"
             ]
            ],
            "type": "histogram2d"
           }
          ],
          "histogram2dcontour": [
           {
            "colorbar": {
             "outlinewidth": 0,
             "ticks": ""
            },
            "colorscale": [
             [
              0,
              "#0d0887"
             ],
             [
              0.1111111111111111,
              "#46039f"
             ],
             [
              0.2222222222222222,
              "#7201a8"
             ],
             [
              0.3333333333333333,
              "#9c179e"
             ],
             [
              0.4444444444444444,
              "#bd3786"
             ],
             [
              0.5555555555555556,
              "#d8576b"
             ],
             [
              0.6666666666666666,
              "#ed7953"
             ],
             [
              0.7777777777777778,
              "#fb9f3a"
             ],
             [
              0.8888888888888888,
              "#fdca26"
             ],
             [
              1,
              "#f0f921"
             ]
            ],
            "type": "histogram2dcontour"
           }
          ],
          "mesh3d": [
           {
            "colorbar": {
             "outlinewidth": 0,
             "ticks": ""
            },
            "type": "mesh3d"
           }
          ],
          "parcoords": [
           {
            "line": {
             "colorbar": {
              "outlinewidth": 0,
              "ticks": ""
             }
            },
            "type": "parcoords"
           }
          ],
          "pie": [
           {
            "automargin": true,
            "type": "pie"
           }
          ],
          "scatter": [
           {
            "fillpattern": {
             "fillmode": "overlay",
             "size": 10,
             "solidity": 0.2
            },
            "type": "scatter"
           }
          ],
          "scatter3d": [
           {
            "line": {
             "colorbar": {
              "outlinewidth": 0,
              "ticks": ""
             }
            },
            "marker": {
             "colorbar": {
              "outlinewidth": 0,
              "ticks": ""
             }
            },
            "type": "scatter3d"
           }
          ],
          "scattercarpet": [
           {
            "marker": {
             "colorbar": {
              "outlinewidth": 0,
              "ticks": ""
             }
            },
            "type": "scattercarpet"
           }
          ],
          "scattergeo": [
           {
            "marker": {
             "colorbar": {
              "outlinewidth": 0,
              "ticks": ""
             }
            },
            "type": "scattergeo"
           }
          ],
          "scattergl": [
           {
            "marker": {
             "colorbar": {
              "outlinewidth": 0,
              "ticks": ""
             }
            },
            "type": "scattergl"
           }
          ],
          "scattermapbox": [
           {
            "marker": {
             "colorbar": {
              "outlinewidth": 0,
              "ticks": ""
             }
            },
            "type": "scattermapbox"
           }
          ],
          "scatterpolar": [
           {
            "marker": {
             "colorbar": {
              "outlinewidth": 0,
              "ticks": ""
             }
            },
            "type": "scatterpolar"
           }
          ],
          "scatterpolargl": [
           {
            "marker": {
             "colorbar": {
              "outlinewidth": 0,
              "ticks": ""
             }
            },
            "type": "scatterpolargl"
           }
          ],
          "scatterternary": [
           {
            "marker": {
             "colorbar": {
              "outlinewidth": 0,
              "ticks": ""
             }
            },
            "type": "scatterternary"
           }
          ],
          "surface": [
           {
            "colorbar": {
             "outlinewidth": 0,
             "ticks": ""
            },
            "colorscale": [
             [
              0,
              "#0d0887"
             ],
             [
              0.1111111111111111,
              "#46039f"
             ],
             [
              0.2222222222222222,
              "#7201a8"
             ],
             [
              0.3333333333333333,
              "#9c179e"
             ],
             [
              0.4444444444444444,
              "#bd3786"
             ],
             [
              0.5555555555555556,
              "#d8576b"
             ],
             [
              0.6666666666666666,
              "#ed7953"
             ],
             [
              0.7777777777777778,
              "#fb9f3a"
             ],
             [
              0.8888888888888888,
              "#fdca26"
             ],
             [
              1,
              "#f0f921"
             ]
            ],
            "type": "surface"
           }
          ],
          "table": [
           {
            "cells": {
             "fill": {
              "color": "#EBF0F8"
             },
             "line": {
              "color": "white"
             }
            },
            "header": {
             "fill": {
              "color": "#C8D4E3"
             },
             "line": {
              "color": "white"
             }
            },
            "type": "table"
           }
          ]
         },
         "layout": {
          "annotationdefaults": {
           "arrowcolor": "#2a3f5f",
           "arrowhead": 0,
           "arrowwidth": 1
          },
          "autotypenumbers": "strict",
          "coloraxis": {
           "colorbar": {
            "outlinewidth": 0,
            "ticks": ""
           }
          },
          "colorscale": {
           "diverging": [
            [
             0,
             "#8e0152"
            ],
            [
             0.1,
             "#c51b7d"
            ],
            [
             0.2,
             "#de77ae"
            ],
            [
             0.3,
             "#f1b6da"
            ],
            [
             0.4,
             "#fde0ef"
            ],
            [
             0.5,
             "#f7f7f7"
            ],
            [
             0.6,
             "#e6f5d0"
            ],
            [
             0.7,
             "#b8e186"
            ],
            [
             0.8,
             "#7fbc41"
            ],
            [
             0.9,
             "#4d9221"
            ],
            [
             1,
             "#276419"
            ]
           ],
           "sequential": [
            [
             0,
             "#0d0887"
            ],
            [
             0.1111111111111111,
             "#46039f"
            ],
            [
             0.2222222222222222,
             "#7201a8"
            ],
            [
             0.3333333333333333,
             "#9c179e"
            ],
            [
             0.4444444444444444,
             "#bd3786"
            ],
            [
             0.5555555555555556,
             "#d8576b"
            ],
            [
             0.6666666666666666,
             "#ed7953"
            ],
            [
             0.7777777777777778,
             "#fb9f3a"
            ],
            [
             0.8888888888888888,
             "#fdca26"
            ],
            [
             1,
             "#f0f921"
            ]
           ],
           "sequentialminus": [
            [
             0,
             "#0d0887"
            ],
            [
             0.1111111111111111,
             "#46039f"
            ],
            [
             0.2222222222222222,
             "#7201a8"
            ],
            [
             0.3333333333333333,
             "#9c179e"
            ],
            [
             0.4444444444444444,
             "#bd3786"
            ],
            [
             0.5555555555555556,
             "#d8576b"
            ],
            [
             0.6666666666666666,
             "#ed7953"
            ],
            [
             0.7777777777777778,
             "#fb9f3a"
            ],
            [
             0.8888888888888888,
             "#fdca26"
            ],
            [
             1,
             "#f0f921"
            ]
           ]
          },
          "colorway": [
           "#636efa",
           "#EF553B",
           "#00cc96",
           "#ab63fa",
           "#FFA15A",
           "#19d3f3",
           "#FF6692",
           "#B6E880",
           "#FF97FF",
           "#FECB52"
          ],
          "font": {
           "color": "#2a3f5f"
          },
          "geo": {
           "bgcolor": "white",
           "lakecolor": "white",
           "landcolor": "#E5ECF6",
           "showlakes": true,
           "showland": true,
           "subunitcolor": "white"
          },
          "hoverlabel": {
           "align": "left"
          },
          "hovermode": "closest",
          "mapbox": {
           "style": "light"
          },
          "paper_bgcolor": "white",
          "plot_bgcolor": "#E5ECF6",
          "polar": {
           "angularaxis": {
            "gridcolor": "white",
            "linecolor": "white",
            "ticks": ""
           },
           "bgcolor": "#E5ECF6",
           "radialaxis": {
            "gridcolor": "white",
            "linecolor": "white",
            "ticks": ""
           }
          },
          "scene": {
           "xaxis": {
            "backgroundcolor": "#E5ECF6",
            "gridcolor": "white",
            "gridwidth": 2,
            "linecolor": "white",
            "showbackground": true,
            "ticks": "",
            "zerolinecolor": "white"
           },
           "yaxis": {
            "backgroundcolor": "#E5ECF6",
            "gridcolor": "white",
            "gridwidth": 2,
            "linecolor": "white",
            "showbackground": true,
            "ticks": "",
            "zerolinecolor": "white"
           },
           "zaxis": {
            "backgroundcolor": "#E5ECF6",
            "gridcolor": "white",
            "gridwidth": 2,
            "linecolor": "white",
            "showbackground": true,
            "ticks": "",
            "zerolinecolor": "white"
           }
          },
          "shapedefaults": {
           "line": {
            "color": "#2a3f5f"
           }
          },
          "ternary": {
           "aaxis": {
            "gridcolor": "white",
            "linecolor": "white",
            "ticks": ""
           },
           "baxis": {
            "gridcolor": "white",
            "linecolor": "white",
            "ticks": ""
           },
           "bgcolor": "#E5ECF6",
           "caxis": {
            "gridcolor": "white",
            "linecolor": "white",
            "ticks": ""
           }
          },
          "title": {
           "x": 0.05
          },
          "xaxis": {
           "automargin": true,
           "gridcolor": "white",
           "linecolor": "white",
           "ticks": "",
           "title": {
            "standoff": 15
           },
           "zerolinecolor": "white",
           "zerolinewidth": 2
          },
          "yaxis": {
           "automargin": true,
           "gridcolor": "white",
           "linecolor": "white",
           "ticks": "",
           "title": {
            "standoff": 15
           },
           "zerolinecolor": "white",
           "zerolinewidth": 2
          }
         }
        },
        "title": {
         "text": "Model Comparison",
         "x": 0.5
        },
        "width": 800
       }
      },
      "image/png": "[encoded data removed]",
      "text/html": [
       "<div>                            <div id=\"5ea5a590-34af-4a3d-a020-406348ab52bc\" class=\"plotly-graph-div\" style=\"height:400px; width:800px;\"></div>            <script type=\"text/javascript\">                require([\"plotly\"], function(Plotly) {                    window.PLOTLYENV=window.PLOTLYENV || {};                                    if (document.getElementById(\"5ea5a590-34af-4a3d-a020-406348ab52bc\")) {                    Plotly.newPlot(                        \"5ea5a590-34af-4a3d-a020-406348ab52bc\",                        [{\"cells\":{\"align\":\"center\",\"fill\":{\"color\":[[\"#EAEAEA\",\"#F5F5F5\",\"#66CDAA\"],[\"#EAEAEA\",\"#F5F5F5\",\"#66CDAA\"],[\"#EAEAEA\",\"#F5F5F5\",\"#66CDAA\"]]},\"values\":[[\"Best Random Forest\",\"Best Naive Bayes\",\"Best SVM\"],[0.66,0.66,0.67],[0.77,0.75,0.72],[0.49,0.5,0.59],[0.6,0.6,0.65],[0.61,0.61,0.64],[0.84,0.83,0.76],[0.71,0.7,0.7]]},\"header\":{\"fill\":{\"color\":\"#2E4A62\"},\"font\":{\"color\":\"white\"},\"values\":[\"Model\",\"Accuracy\",\"Precision (Class 0)\",\"Recall (Class 0)\",\"F1-Score (Class 0)\",\"Precision (Class 1)\",\"Recall (Class 1)\",\"F1-Score (Class 1)\"]},\"type\":\"table\"}],                        {\"template\":{\"data\":{\"histogram2dcontour\":[{\"type\":\"histogram2dcontour\",\"colorbar\":{\"outlinewidth\":0,\"ticks\":\"\"},\"colorscale\":[[0.0,\"#0d0887\"],[0.1111111111111111,\"#46039f\"],[0.2222222222222222,\"#7201a8\"],[0.3333333333333333,\"#9c179e\"],[0.4444444444444444,\"#bd3786\"],[0.5555555555555556,\"#d8576b\"],[0.6666666666666666,\"#ed7953\"],[0.7777777777777778,\"#fb9f3a\"],[0.8888888888888888,\"#fdca26\"],[1.0,\"#f0f921\"]]}],\"choropleth\":[{\"type\":\"choropleth\",\"colorbar\":{\"outlinewidth\":0,\"ticks\":\"\"}}],\"histogram2d\":[{\"type\":\"histogram2d\",\"colorbar\":{\"outlinewidth\":0,\"ticks\":\"\"},\"colorscale\":[[0.0,\"#0d0887\"],[0.1111111111111111,\"#46039f\"],[0.2222222222222222,\"#7201a8\"],[0.3333333333333333,\"#9c179e\"],[0.4444444444444444,\"#bd3786\"],[0.5555555555555556,\"#d8576b\"],[0.6666666666666666,\"#ed7953\"],[0.7777777777777778,\"#fb9f3a\"],[0.8888888888888888,\"#fdca26\"],[1.0,\"#f0f921\"]]}],\"heatmap\":[{\"type\":\"heatmap\",\"colorbar\":{\"outlinewidth\":0,\"ticks\":\"\"},\"colorscale\":[[0.0,\"#0d0887\"],[0.1111111111111111,\"#46039f\"],[0.2222222222222222,\"#7201a8\"],[0.3333333333333333,\"#9c179e\"],[0.4444444444444444,\"#bd3786\"],[0.5555555555555556,\"#d8576b\"],[0.6666666666666666,\"#ed7953\"],[0.7777777777777778,\"#fb9f3a\"],[0.8888888888888888,\"#fdca26\"],[1.0,\"#f0f921\"]]}],\"heatmapgl\":[{\"type\":\"heatmapgl\",\"colorbar\":{\"outlinewidth\":0,\"ticks\":\"\"},\"colorscale\":[[0.0,\"#0d0887\"],[0.1111111111111111,\"#46039f\"],[0.2222222222222222,\"#7201a8\"],[0.3333333333333333,\"#9c179e\"],[0.4444444444444444,\"#bd3786\"],[0.5555555555555556,\"#d8576b\"],[0.6666666666666666,\"#ed7953\"],[0.7777777777777778,\"#fb9f3a\"],[0.8888888888888888,\"#fdca26\"],[1.0,\"#f0f921\"]]}],\"contourcarpet\":[{\"type\":\"contourcarpet\",\"colorbar\":{\"outlinewidth\":0,\"ticks\":\"\"}}],\"contour\":[{\"type\":\"contour\",\"colorbar\":{\"outlinewidth\":0,\"ticks\":\"\"},\"colorscale\":[[0.0,\"#0d0887\"],[0.1111111111111111,\"#46039f\"],[0.2222222222222222,\"#7201a8\"],[0.3333333333333333,\"#9c179e\"],[0.4444444444444444,\"#bd3786\"],[0.5555555555555556,\"#d8576b\"],[0.6666666666666666,\"#ed7953\"],[0.7777777777777778,\"#fb9f3a\"],[0.8888888888888888,\"#fdca26\"],[1.0,\"#f0f921\"]]}],\"surface\":[{\"type\":\"surface\",\"colorbar\":{\"outlinewidth\":0,\"ticks\":\"\"},\"colorscale\":[[0.0,\"#0d0887\"],[0.1111111111111111,\"#46039f\"],[0.2222222222222222,\"#7201a8\"],[0.3333333333333333,\"#9c179e\"],[0.4444444444444444,\"#bd3786\"],[0.5555555555555556,\"#d8576b\"],[0.6666666666666666,\"#ed7953\"],[0.7777777777777778,\"#fb9f3a\"],[0.8888888888888888,\"#fdca26\"],[1.0,\"#f0f921\"]]}],\"mesh3d\":[{\"type\":\"mesh3d\",\"colorbar\":{\"outlinewidth\":0,\"ticks\":\"\"}}],\"scatter\":[{\"fillpattern\":{\"fillmode\":\"overlay\",\"size\":10,\"solidity\":0.2},\"type\":\"scatter\"}],\"parcoords\":[{\"type\":\"parcoords\",\"line\":{\"colorbar\":{\"outlinewidth\":0,\"ticks\":\"\"}}}],\"scatterpolargl\":[{\"type\":\"scatterpolargl\",\"marker\":{\"colorbar\":{\"outlinewidth\":0,\"ticks\":\"\"}}}],\"bar\":[{\"error_x\":{\"color\":\"#2a3f5f\"},\"error_y\":{\"color\":\"#2a3f5f\"},\"marker\":{\"line\":{\"color\":\"#E5ECF6\",\"width\":0.5},\"pattern\":{\"fillmode\":\"overlay\",\"size\":10,\"solidity\":0.2}},\"type\":\"bar\"}],\"scattergeo\":[{\"type\":\"scattergeo\",\"marker\":{\"colorbar\":{\"outlinewidth\":0,\"ticks\":\"\"}}}],\"scatterpolar\":[{\"type\":\"scatterpolar\",\"marker\":{\"colorbar\":{\"outlinewidth\":0,\"ticks\":\"\"}}}],\"histogram\":[{\"marker\":{\"pattern\":{\"fillmode\":\"overlay\",\"size\":10,\"solidity\":0.2}},\"type\":\"histogram\"}],\"scattergl\":[{\"type\":\"scattergl\",\"marker\":{\"colorbar\":{\"outlinewidth\":0,\"ticks\":\"\"}}}],\"scatter3d\":[{\"type\":\"scatter3d\",\"line\":{\"colorbar\":{\"outlinewidth\":0,\"ticks\":\"\"}},\"marker\":{\"colorbar\":{\"outlinewidth\":0,\"ticks\":\"\"}}}],\"scattermapbox\":[{\"type\":\"scattermapbox\",\"marker\":{\"colorbar\":{\"outlinewidth\":0,\"ticks\":\"\"}}}],\"scatterternary\":[{\"type\":\"scatterternary\",\"marker\":{\"colorbar\":{\"outlinewidth\":0,\"ticks\":\"\"}}}],\"scattercarpet\":[{\"type\":\"scattercarpet\",\"marker\":{\"colorbar\":{\"outlinewidth\":0,\"ticks\":\"\"}}}],\"carpet\":[{\"aaxis\":{\"endlinecolor\":\"#2a3f5f\",\"gridcolor\":\"white\",\"linecolor\":\"white\",\"minorgridcolor\":\"white\",\"startlinecolor\":\"#2a3f5f\"},\"baxis\":{\"endlinecolor\":\"#2a3f5f\",\"gridcolor\":\"white\",\"linecolor\":\"white\",\"minorgridcolor\":\"white\",\"startlinecolor\":\"#2a3f5f\"},\"type\":\"carpet\"}],\"table\":[{\"cells\":{\"fill\":{\"color\":\"#EBF0F8\"},\"line\":{\"color\":\"white\"}},\"header\":{\"fill\":{\"color\":\"#C8D4E3\"},\"line\":{\"color\":\"white\"}},\"type\":\"table\"}],\"barpolar\":[{\"marker\":{\"line\":{\"color\":\"#E5ECF6\",\"width\":0.5},\"pattern\":{\"fillmode\":\"overlay\",\"size\":10,\"solidity\":0.2}},\"type\":\"barpolar\"}],\"pie\":[{\"automargin\":true,\"type\":\"pie\"}]},\"layout\":{\"autotypenumbers\":\"strict\",\"colorway\":[\"#636efa\",\"#EF553B\",\"#00cc96\",\"#ab63fa\",\"#FFA15A\",\"#19d3f3\",\"#FF6692\",\"#B6E880\",\"#FF97FF\",\"#FECB52\"],\"font\":{\"color\":\"#2a3f5f\"},\"hovermode\":\"closest\",\"hoverlabel\":{\"align\":\"left\"},\"paper_bgcolor\":\"white\",\"plot_bgcolor\":\"#E5ECF6\",\"polar\":{\"bgcolor\":\"#E5ECF6\",\"angularaxis\":{\"gridcolor\":\"white\",\"linecolor\":\"white\",\"ticks\":\"\"},\"radialaxis\":{\"gridcolor\":\"white\",\"linecolor\":\"white\",\"ticks\":\"\"}},\"ternary\":{\"bgcolor\":\"#E5ECF6\",\"aaxis\":{\"gridcolor\":\"white\",\"linecolor\":\"white\",\"ticks\":\"\"},\"baxis\":{\"gridcolor\":\"white\",\"linecolor\":\"white\",\"ticks\":\"\"},\"caxis\":{\"gridcolor\":\"white\",\"linecolor\":\"white\",\"ticks\":\"\"}},\"coloraxis\":{\"colorbar\":{\"outlinewidth\":0,\"ticks\":\"\"}},\"colorscale\":{\"sequential\":[[0.0,\"#0d0887\"],[0.1111111111111111,\"#46039f\"],[0.2222222222222222,\"#7201a8\"],[0.3333333333333333,\"#9c179e\"],[0.4444444444444444,\"#bd3786\"],[0.5555555555555556,\"#d8576b\"],[0.6666666666666666,\"#ed7953\"],[0.7777777777777778,\"#fb9f3a\"],[0.8888888888888888,\"#fdca26\"],[1.0,\"#f0f921\"]],\"sequentialminus\":[[0.0,\"#0d0887\"],[0.1111111111111111,\"#46039f\"],[0.2222222222222222,\"#7201a8\"],[0.3333333333333333,\"#9c179e\"],[0.4444444444444444,\"#bd3786\"],[0.5555555555555556,\"#d8576b\"],[0.6666666666666666,\"#ed7953\"],[0.7777777777777778,\"#fb9f3a\"],[0.8888888888888888,\"#fdca26\"],[1.0,\"#f0f921\"]],\"diverging\":[[0,\"#8e0152\"],[0.1,\"#c51b7d\"],[0.2,\"#de77ae\"],[0.3,\"#f1b6da\"],[0.4,\"#fde0ef\"],[0.5,\"#f7f7f7\"],[0.6,\"#e6f5d0\"],[0.7,\"#b8e186\"],[0.8,\"#7fbc41\"],[0.9,\"#4d9221\"],[1,\"#276419\"]]},\"xaxis\":{\"gridcolor\":\"white\",\"linecolor\":\"white\",\"ticks\":\"\",\"title\":{\"standoff\":15},\"zerolinecolor\":\"white\",\"automargin\":true,\"zerolinewidth\":2},\"yaxis\":{\"gridcolor\":\"white\",\"linecolor\":\"white\",\"ticks\":\"\",\"title\":{\"standoff\":15},\"zerolinecolor\":\"white\",\"automargin\":true,\"zerolinewidth\":2},\"scene\":{\"xaxis\":{\"backgroundcolor\":\"#E5ECF6\",\"gridcolor\":\"white\",\"linecolor\":\"white\",\"showbackground\":true,\"ticks\":\"\",\"zerolinecolor\":\"white\",\"gridwidth\":2},\"yaxis\":{\"backgroundcolor\":\"#E5ECF6\",\"gridcolor\":\"white\",\"linecolor\":\"white\",\"showbackground\":true,\"ticks\":\"\",\"zerolinecolor\":\"white\",\"gridwidth\":2},\"zaxis\":{\"backgroundcolor\":\"#E5ECF6\",\"gridcolor\":\"white\",\"linecolor\":\"white\",\"showbackground\":true,\"ticks\":\"\",\"zerolinecolor\":\"white\",\"gridwidth\":2}},\"shapedefaults\":{\"line\":{\"color\":\"#2a3f5f\"}},\"annotationdefaults\":{\"arrowcolor\":\"#2a3f5f\",\"arrowhead\":0,\"arrowwidth\":1},\"geo\":{\"bgcolor\":\"white\",\"landcolor\":\"#E5ECF6\",\"subunitcolor\":\"white\",\"showland\":true,\"showlakes\":true,\"lakecolor\":\"white\"},\"title\":{\"x\":0.05},\"mapbox\":{\"style\":\"light\"}}},\"title\":{\"text\":\"Model Comparison\",\"x\":0.5},\"margin\":{\"l\":10,\"r\":10,\"b\":10,\"t\":60},\"width\":800,\"height\":400,\"paper_bgcolor\":\"#F0F8FF\",\"plot_bgcolor\":\"#F0F8FF\"},                        {\"responsive\": true}                    ).then(function(){\n",
       "                            \n",
       "var gd = document.getElementById('5ea5a590-34af-4a3d-a020-406348ab52bc');\n",
       "var x = new MutationObserver(function (mutations, observer) {{\n",
       "        var display = window.getComputedStyle(gd).display;\n",
       "        if (!display || display === 'none') {{\n",
       "            console.log([gd, 'removed!']);\n",
       "            Plotly.purge(gd);\n",
       "            observer.disconnect();\n",
       "        }}\n",
       "}});\n",
       "\n",
       "// Listen for the removal of the full notebook cells\n",
       "var notebookContainer = gd.closest('#notebook-container');\n",
       "if (notebookContainer) {{\n",
       "    x.observe(notebookContainer, {childList: true});\n",
       "}}\n",
       "\n",
       "// Listen for the clearing of the current output cell\n",
       "var outputEl = gd.closest('.output');\n",
       "if (outputEl) {{\n",
       "    x.observe(outputEl, {childList: true});\n",
       "}}\n",
       "\n",
       "                        })                };                });            </script>        </div>"
      ]
     },
     "metadata": {},
     "output_type": "display_data"
    }
   ],
   "source": [
    "\n",
    "import plotly.graph_objects as go\n",
    "\n",
    "# Data for the table\n",
    "models = ['Best Random Forest', 'Best Naive Bayes', 'Best SVM']\n",
    "accuracies = [0.66, 0.66, 0.67]\n",
    "precision_0 = [0.77, 0.75, 0.72]\n",
    "recall_0 = [0.49, 0.50, 0.59]\n",
    "f1_0 = [0.60, 0.60, 0.65]\n",
    "precision_1 = [0.61, 0.61, 0.64]\n",
    "recall_1 = [0.84, 0.83, 0.76]\n",
    "f1_1 = [0.71, 0.70, 0.70]\n",
    "\n",
    "# Find the index corresponding to 'Best SVM' model\n",
    "svm_index = models.index('Best SVM')\n",
    "\n",
    "# Create a list to hold the row colors\n",
    "row_colors = ['#EAEAEA', '#F5F5F5', '#EAEAEA']  # Example colors, feel free to customize\n",
    "\n",
    "# Update the color for the 'Best SVM' row\n",
    "row_colors[svm_index] = '#66CDAA'  # Highlight color for 'Best SVM' row\n",
    "\n",
    "# Create a table\n",
    "fig = go.Figure(data=[go.Table(\n",
    "    header=dict(values=['Model', 'Accuracy', 'Precision (Class 0)', 'Recall (Class 0)', 'F1-Score (Class 0)',\n",
    "                         'Precision (Class 1)', 'Recall (Class 1)', 'F1-Score (Class 1)'],\n",
    "                fill_color='#2E4A62',  # Header color\n",
    "                font=dict(color='white')),  # Font color for header\n",
    "    cells=dict(values=[models, accuracies, precision_0, recall_0, f1_0, precision_1, recall_1, f1_1],\n",
    "               fill_color=[row_colors]*len(models),  # Use row_colors for each row\n",
    "               align='center'))  # Center-align cell content\n",
    "])\n",
    "\n",
    "# JavaScript code for hover effect\n",
    "hover_code = '''\n",
    "<script>\n",
    "    var table = document.getElementById(\"trace_0\");\n",
    "    for (var i = 0; i < table.rows.length; i++) {\n",
    "        table.rows[i].onmouseover = function () {\n",
    "            this.style.backgroundColor = '#ADD8E6';\n",
    "        };\n",
    "        table.rows[i].onmouseout = function () {\n",
    "            this.style.backgroundColor = '';\n",
    "        };\n",
    "    }\n",
    "</script>\n",
    "'''\n",
    "\n",
    "# Update the layout for better readability\n",
    "fig.update_layout(title_text='Model Comparison',\n",
    "                  title_x=0.5,\n",
    "                  width=800,\n",
    "                  height=400,\n",
    "                  margin=dict(l=10, r=10, b=10, t=60),  # Adjust margins for better layout\n",
    "                  paper_bgcolor='#F0F8FF',  # Background color\n",
    "                  plot_bgcolor='#F0F8FF')  # Plot area color\n",
    "\n",
    "# Save the figure as an HTML file with additional JavaScript code\n",
    "with open(\"/root/fall-2023-reddit-project-team-33/data/plots/model_comparison.html\", \"w\") as file:\n",
    "    file.write(fig.to_html() + hover_code)\n",
    "\n",
    "fig.show()\n",
    "\n",
    "\n",
    "\n"
   ]
  },
  {
   "cell_type": "markdown",
   "id": "c2fcc881-61a3-4910-99e5-db689731dbbd",
   "metadata": {},
   "source": [
    "We performed parameter tuning for logistic regression, SVM, and Naive Bayes. However, we observed that the overall predictive performance did not show significant improvement compared to the results before parameter adjustment. The accuracy has been maintained at around 0.67.Therefore, we select the Best SVM model as the Best model overall. Because The accuracy show the smallest different between two classes."
   ]
  },
  {
   "cell_type": "markdown",
   "id": "2152ed3f-9018-498a-9fa5-80d15b6eb918",
   "metadata": {},
   "source": [
    "Why SVM is Chosen as the Best Model:\n",
    "\n",
    "Overall Accuracy: SVM has the highest overall accuracy (0.67), indicating better overall performance in making correct predictions.\n",
    "\n",
    "Class 1 Performance: SVM shows competitive or superior precision, recall, and F1-score for predicting instances of Class 1 compared to other models.\n",
    "\n",
    "Class 0 Performance: Similar positive performance trends are observed for predicting instances of Class 0.\n",
    "\n",
    "Consideration of Metrics: The choice depends on the specific goals; SVM is selected based on a balance of precision, recall, and F1-score.\n",
    "\n",
    "Domain Relevance: Depending on the application, certain metrics may be more crucial. Consider the consequences of false positives and false negatives in your context.\n",
    "\n",
    "Cross-Validation: Ensure consistent performance across different datasets, as the table may represent results for a specific dataset.\n",
    "\n",
    "In summary, SVM emerges as the preferred model due to its higher overall accuracy and competitive performance in key metrics, making it well-suited for the specific objectives of the project.\n",
    "\n",
    "\n",
    "\n",
    "\n",
    "\n",
    "\n"
   ]
  },
  {
   "cell_type": "markdown",
   "id": "044924b9-f045-4f82-9892-b77d291f67da",
   "metadata": {},
   "source": [
    " ### Understanding the Best Model:\n",
    "We've used fancy techniques to find the best settings for our model, and it turns out that the best version uses certain numbers and settings. The model, which is like a smart tool, got a score of 67 out of 100 in how well it does its job.\n",
    "\n",
    "### Checking How Good it Is:\n",
    "We looked at how well the tool does for different kinds of comments. For regular comments, it's about 72% correct, but it misses some (about 59%). For tricky comments, it's about 64% correct, but it's better at finding most of them (about 76%).\n",
    "\n",
    "### What it Means for Our Goal:\n",
    "Our goal was to spot comments that might cause a fuss. The tool is a bit better at finding these kinds of comments, especially the tricky ones. So, it can help us keep an eye on discussions that might get people talking or arguing.\n",
    "\n",
    "### How We Can Use It:\n",
    "**Helping Keep Things Nice:** We can use the tool to help check comments automatically and find ones that might need a closer look. This way, we keep the conversation friendly and positive.\n",
    "\n",
    "**Learning What People Like:** By looking at tricky comments, we can learn more about what people are interested in or care about. This helps us make the platform more interesting for everyone.\n",
    "\n",
    "**Avoiding Problems:** Spotting tricky comments early can help us avoid problems before they happen. It's like having a friend who tells us when something might not be going well.\n",
    "\n",
    "**Checking and Improving:** We'll keep an eye on how well the tool is doing and make it even better over time. Just like apps get updates on your phone, our tool will get smarter to keep up with how people talk.\n",
    "\n",
    "*Remember, while the tool is helpful, it's not perfect. We still need real people to make the final decisions, especially when things are a bit tricky or sensitive. Combining the tool with human judgment helps us make sure everything goes smoothly on our platform.*\n"
   ]
  },
  {
   "cell_type": "code",
   "execution_count": null,
   "id": "3b8152bf-9ac2-41a1-a78a-06f3c0188804",
   "metadata": {},
   "outputs": [],
   "source": []
  }
 ],
 "metadata": {
  "availableInstances": [
   {
    "_defaultOrder": 0,
    "_isFastLaunch": true,
    "category": "General purpose",
    "gpuNum": 0,
    "hideHardwareSpecs": false,
    "memoryGiB": 4,
    "name": "ml.t3.medium",
    "vcpuNum": 2
   },
   {
    "_defaultOrder": 1,
    "_isFastLaunch": false,
    "category": "General purpose",
    "gpuNum": 0,
    "hideHardwareSpecs": false,
    "memoryGiB": 8,
    "name": "ml.t3.large",
    "vcpuNum": 2
   },
   {
    "_defaultOrder": 2,
    "_isFastLaunch": false,
    "category": "General purpose",
    "gpuNum": 0,
    "hideHardwareSpecs": false,
    "memoryGiB": 16,
    "name": "ml.t3.xlarge",
    "vcpuNum": 4
   },
   {
    "_defaultOrder": 3,
    "_isFastLaunch": false,
    "category": "General purpose",
    "gpuNum": 0,
    "hideHardwareSpecs": false,
    "memoryGiB": 32,
    "name": "ml.t3.2xlarge",
    "vcpuNum": 8
   },
   {
    "_defaultOrder": 4,
    "_isFastLaunch": true,
    "category": "General purpose",
    "gpuNum": 0,
    "hideHardwareSpecs": false,
    "memoryGiB": 8,
    "name": "ml.m5.large",
    "vcpuNum": 2
   },
   {
    "_defaultOrder": 5,
    "_isFastLaunch": false,
    "category": "General purpose",
    "gpuNum": 0,
    "hideHardwareSpecs": false,
    "memoryGiB": 16,
    "name": "ml.m5.xlarge",
    "vcpuNum": 4
   },
   {
    "_defaultOrder": 6,
    "_isFastLaunch": false,
    "category": "General purpose",
    "gpuNum": 0,
    "hideHardwareSpecs": false,
    "memoryGiB": 32,
    "name": "ml.m5.2xlarge",
    "vcpuNum": 8
   },
   {
    "_defaultOrder": 7,
    "_isFastLaunch": false,
    "category": "General purpose",
    "gpuNum": 0,
    "hideHardwareSpecs": false,
    "memoryGiB": 64,
    "name": "ml.m5.4xlarge",
    "vcpuNum": 16
   },
   {
    "_defaultOrder": 8,
    "_isFastLaunch": false,
    "category": "General purpose",
    "gpuNum": 0,
    "hideHardwareSpecs": false,
    "memoryGiB": 128,
    "name": "ml.m5.8xlarge",
    "vcpuNum": 32
   },
   {
    "_defaultOrder": 9,
    "_isFastLaunch": false,
    "category": "General purpose",
    "gpuNum": 0,
    "hideHardwareSpecs": false,
    "memoryGiB": 192,
    "name": "ml.m5.12xlarge",
    "vcpuNum": 48
   },
   {
    "_defaultOrder": 10,
    "_isFastLaunch": false,
    "category": "General purpose",
    "gpuNum": 0,
    "hideHardwareSpecs": false,
    "memoryGiB": 256,
    "name": "ml.m5.16xlarge",
    "vcpuNum": 64
   },
   {
    "_defaultOrder": 11,
    "_isFastLaunch": false,
    "category": "General purpose",
    "gpuNum": 0,
    "hideHardwareSpecs": false,
    "memoryGiB": 384,
    "name": "ml.m5.24xlarge",
    "vcpuNum": 96
   },
   {
    "_defaultOrder": 12,
    "_isFastLaunch": false,
    "category": "General purpose",
    "gpuNum": 0,
    "hideHardwareSpecs": false,
    "memoryGiB": 8,
    "name": "ml.m5d.large",
    "vcpuNum": 2
   },
   {
    "_defaultOrder": 13,
    "_isFastLaunch": false,
    "category": "General purpose",
    "gpuNum": 0,
    "hideHardwareSpecs": false,
    "memoryGiB": 16,
    "name": "ml.m5d.xlarge",
    "vcpuNum": 4
   },
   {
    "_defaultOrder": 14,
    "_isFastLaunch": false,
    "category": "General purpose",
    "gpuNum": 0,
    "hideHardwareSpecs": false,
    "memoryGiB": 32,
    "name": "ml.m5d.2xlarge",
    "vcpuNum": 8
   },
   {
    "_defaultOrder": 15,
    "_isFastLaunch": false,
    "category": "General purpose",
    "gpuNum": 0,
    "hideHardwareSpecs": false,
    "memoryGiB": 64,
    "name": "ml.m5d.4xlarge",
    "vcpuNum": 16
   },
   {
    "_defaultOrder": 16,
    "_isFastLaunch": false,
    "category": "General purpose",
    "gpuNum": 0,
    "hideHardwareSpecs": false,
    "memoryGiB": 128,
    "name": "ml.m5d.8xlarge",
    "vcpuNum": 32
   },
   {
    "_defaultOrder": 17,
    "_isFastLaunch": false,
    "category": "General purpose",
    "gpuNum": 0,
    "hideHardwareSpecs": false,
    "memoryGiB": 192,
    "name": "ml.m5d.12xlarge",
    "vcpuNum": 48
   },
   {
    "_defaultOrder": 18,
    "_isFastLaunch": false,
    "category": "General purpose",
    "gpuNum": 0,
    "hideHardwareSpecs": false,
    "memoryGiB": 256,
    "name": "ml.m5d.16xlarge",
    "vcpuNum": 64
   },
   {
    "_defaultOrder": 19,
    "_isFastLaunch": false,
    "category": "General purpose",
    "gpuNum": 0,
    "hideHardwareSpecs": false,
    "memoryGiB": 384,
    "name": "ml.m5d.24xlarge",
    "vcpuNum": 96
   },
   {
    "_defaultOrder": 20,
    "_isFastLaunch": false,
    "category": "General purpose",
    "gpuNum": 0,
    "hideHardwareSpecs": true,
    "memoryGiB": 0,
    "name": "ml.geospatial.interactive",
    "supportedImageNames": [
     "sagemaker-geospatial-v1-0"
    ],
    "vcpuNum": 0
   },
   {
    "_defaultOrder": 21,
    "_isFastLaunch": true,
    "category": "Compute optimized",
    "gpuNum": 0,
    "hideHardwareSpecs": false,
    "memoryGiB": 4,
    "name": "ml.c5.large",
    "vcpuNum": 2
   },
   {
    "_defaultOrder": 22,
    "_isFastLaunch": false,
    "category": "Compute optimized",
    "gpuNum": 0,
    "hideHardwareSpecs": false,
    "memoryGiB": 8,
    "name": "ml.c5.xlarge",
    "vcpuNum": 4
   },
   {
    "_defaultOrder": 23,
    "_isFastLaunch": false,
    "category": "Compute optimized",
    "gpuNum": 0,
    "hideHardwareSpecs": false,
    "memoryGiB": 16,
    "name": "ml.c5.2xlarge",
    "vcpuNum": 8
   },
   {
    "_defaultOrder": 24,
    "_isFastLaunch": false,
    "category": "Compute optimized",
    "gpuNum": 0,
    "hideHardwareSpecs": false,
    "memoryGiB": 32,
    "name": "ml.c5.4xlarge",
    "vcpuNum": 16
   },
   {
    "_defaultOrder": 25,
    "_isFastLaunch": false,
    "category": "Compute optimized",
    "gpuNum": 0,
    "hideHardwareSpecs": false,
    "memoryGiB": 72,
    "name": "ml.c5.9xlarge",
    "vcpuNum": 36
   },
   {
    "_defaultOrder": 26,
    "_isFastLaunch": false,
    "category": "Compute optimized",
    "gpuNum": 0,
    "hideHardwareSpecs": false,
    "memoryGiB": 96,
    "name": "ml.c5.12xlarge",
    "vcpuNum": 48
   },
   {
    "_defaultOrder": 27,
    "_isFastLaunch": false,
    "category": "Compute optimized",
    "gpuNum": 0,
    "hideHardwareSpecs": false,
    "memoryGiB": 144,
    "name": "ml.c5.18xlarge",
    "vcpuNum": 72
   },
   {
    "_defaultOrder": 28,
    "_isFastLaunch": false,
    "category": "Compute optimized",
    "gpuNum": 0,
    "hideHardwareSpecs": false,
    "memoryGiB": 192,
    "name": "ml.c5.24xlarge",
    "vcpuNum": 96
   },
   {
    "_defaultOrder": 29,
    "_isFastLaunch": true,
    "category": "Accelerated computing",
    "gpuNum": 1,
    "hideHardwareSpecs": false,
    "memoryGiB": 16,
    "name": "ml.g4dn.xlarge",
    "vcpuNum": 4
   },
   {
    "_defaultOrder": 30,
    "_isFastLaunch": false,
    "category": "Accelerated computing",
    "gpuNum": 1,
    "hideHardwareSpecs": false,
    "memoryGiB": 32,
    "name": "ml.g4dn.2xlarge",
    "vcpuNum": 8
   },
   {
    "_defaultOrder": 31,
    "_isFastLaunch": false,
    "category": "Accelerated computing",
    "gpuNum": 1,
    "hideHardwareSpecs": false,
    "memoryGiB": 64,
    "name": "ml.g4dn.4xlarge",
    "vcpuNum": 16
   },
   {
    "_defaultOrder": 32,
    "_isFastLaunch": false,
    "category": "Accelerated computing",
    "gpuNum": 1,
    "hideHardwareSpecs": false,
    "memoryGiB": 128,
    "name": "ml.g4dn.8xlarge",
    "vcpuNum": 32
   },
   {
    "_defaultOrder": 33,
    "_isFastLaunch": false,
    "category": "Accelerated computing",
    "gpuNum": 4,
    "hideHardwareSpecs": false,
    "memoryGiB": 192,
    "name": "ml.g4dn.12xlarge",
    "vcpuNum": 48
   },
   {
    "_defaultOrder": 34,
    "_isFastLaunch": false,
    "category": "Accelerated computing",
    "gpuNum": 1,
    "hideHardwareSpecs": false,
    "memoryGiB": 256,
    "name": "ml.g4dn.16xlarge",
    "vcpuNum": 64
   },
   {
    "_defaultOrder": 35,
    "_isFastLaunch": false,
    "category": "Accelerated computing",
    "gpuNum": 1,
    "hideHardwareSpecs": false,
    "memoryGiB": 61,
    "name": "ml.p3.2xlarge",
    "vcpuNum": 8
   },
   {
    "_defaultOrder": 36,
    "_isFastLaunch": false,
    "category": "Accelerated computing",
    "gpuNum": 4,
    "hideHardwareSpecs": false,
    "memoryGiB": 244,
    "name": "ml.p3.8xlarge",
    "vcpuNum": 32
   },
   {
    "_defaultOrder": 37,
    "_isFastLaunch": false,
    "category": "Accelerated computing",
    "gpuNum": 8,
    "hideHardwareSpecs": false,
    "memoryGiB": 488,
    "name": "ml.p3.16xlarge",
    "vcpuNum": 64
   },
   {
    "_defaultOrder": 38,
    "_isFastLaunch": false,
    "category": "Accelerated computing",
    "gpuNum": 8,
    "hideHardwareSpecs": false,
    "memoryGiB": 768,
    "name": "ml.p3dn.24xlarge",
    "vcpuNum": 96
   },
   {
    "_defaultOrder": 39,
    "_isFastLaunch": false,
    "category": "Memory Optimized",
    "gpuNum": 0,
    "hideHardwareSpecs": false,
    "memoryGiB": 16,
    "name": "ml.r5.large",
    "vcpuNum": 2
   },
   {
    "_defaultOrder": 40,
    "_isFastLaunch": false,
    "category": "Memory Optimized",
    "gpuNum": 0,
    "hideHardwareSpecs": false,
    "memoryGiB": 32,
    "name": "ml.r5.xlarge",
    "vcpuNum": 4
   },
   {
    "_defaultOrder": 41,
    "_isFastLaunch": false,
    "category": "Memory Optimized",
    "gpuNum": 0,
    "hideHardwareSpecs": false,
    "memoryGiB": 64,
    "name": "ml.r5.2xlarge",
    "vcpuNum": 8
   },
   {
    "_defaultOrder": 42,
    "_isFastLaunch": false,
    "category": "Memory Optimized",
    "gpuNum": 0,
    "hideHardwareSpecs": false,
    "memoryGiB": 128,
    "name": "ml.r5.4xlarge",
    "vcpuNum": 16
   },
   {
    "_defaultOrder": 43,
    "_isFastLaunch": false,
    "category": "Memory Optimized",
    "gpuNum": 0,
    "hideHardwareSpecs": false,
    "memoryGiB": 256,
    "name": "ml.r5.8xlarge",
    "vcpuNum": 32
   },
   {
    "_defaultOrder": 44,
    "_isFastLaunch": false,
    "category": "Memory Optimized",
    "gpuNum": 0,
    "hideHardwareSpecs": false,
    "memoryGiB": 384,
    "name": "ml.r5.12xlarge",
    "vcpuNum": 48
   },
   {
    "_defaultOrder": 45,
    "_isFastLaunch": false,
    "category": "Memory Optimized",
    "gpuNum": 0,
    "hideHardwareSpecs": false,
    "memoryGiB": 512,
    "name": "ml.r5.16xlarge",
    "vcpuNum": 64
   },
   {
    "_defaultOrder": 46,
    "_isFastLaunch": false,
    "category": "Memory Optimized",
    "gpuNum": 0,
    "hideHardwareSpecs": false,
    "memoryGiB": 768,
    "name": "ml.r5.24xlarge",
    "vcpuNum": 96
   },
   {
    "_defaultOrder": 47,
    "_isFastLaunch": false,
    "category": "Accelerated computing",
    "gpuNum": 1,
    "hideHardwareSpecs": false,
    "memoryGiB": 16,
    "name": "ml.g5.xlarge",
    "vcpuNum": 4
   },
   {
    "_defaultOrder": 48,
    "_isFastLaunch": false,
    "category": "Accelerated computing",
    "gpuNum": 1,
    "hideHardwareSpecs": false,
    "memoryGiB": 32,
    "name": "ml.g5.2xlarge",
    "vcpuNum": 8
   },
   {
    "_defaultOrder": 49,
    "_isFastLaunch": false,
    "category": "Accelerated computing",
    "gpuNum": 1,
    "hideHardwareSpecs": false,
    "memoryGiB": 64,
    "name": "ml.g5.4xlarge",
    "vcpuNum": 16
   },
   {
    "_defaultOrder": 50,
    "_isFastLaunch": false,
    "category": "Accelerated computing",
    "gpuNum": 1,
    "hideHardwareSpecs": false,
    "memoryGiB": 128,
    "name": "ml.g5.8xlarge",
    "vcpuNum": 32
   },
   {
    "_defaultOrder": 51,
    "_isFastLaunch": false,
    "category": "Accelerated computing",
    "gpuNum": 1,
    "hideHardwareSpecs": false,
    "memoryGiB": 256,
    "name": "ml.g5.16xlarge",
    "vcpuNum": 64
   },
   {
    "_defaultOrder": 52,
    "_isFastLaunch": false,
    "category": "Accelerated computing",
    "gpuNum": 4,
    "hideHardwareSpecs": false,
    "memoryGiB": 192,
    "name": "ml.g5.12xlarge",
    "vcpuNum": 48
   },
   {
    "_defaultOrder": 53,
    "_isFastLaunch": false,
    "category": "Accelerated computing",
    "gpuNum": 4,
    "hideHardwareSpecs": false,
    "memoryGiB": 384,
    "name": "ml.g5.24xlarge",
    "vcpuNum": 96
   },
   {
    "_defaultOrder": 54,
    "_isFastLaunch": false,
    "category": "Accelerated computing",
    "gpuNum": 8,
    "hideHardwareSpecs": false,
    "memoryGiB": 768,
    "name": "ml.g5.48xlarge",
    "vcpuNum": 192
   },
   {
    "_defaultOrder": 55,
    "_isFastLaunch": false,
    "category": "Accelerated computing",
    "gpuNum": 8,
    "hideHardwareSpecs": false,
    "memoryGiB": 1152,
    "name": "ml.p4d.24xlarge",
    "vcpuNum": 96
   },
   {
    "_defaultOrder": 56,
    "_isFastLaunch": false,
    "category": "Accelerated computing",
    "gpuNum": 8,
    "hideHardwareSpecs": false,
    "memoryGiB": 1152,
    "name": "ml.p4de.24xlarge",
    "vcpuNum": 96
   },
   {
    "_defaultOrder": 57,
    "_isFastLaunch": false,
    "category": "Accelerated computing",
    "gpuNum": 0,
    "hideHardwareSpecs": false,
    "memoryGiB": 32,
    "name": "ml.trn1.2xlarge",
    "vcpuNum": 8
   },
   {
    "_defaultOrder": 58,
    "_isFastLaunch": false,
    "category": "Accelerated computing",
    "gpuNum": 0,
    "hideHardwareSpecs": false,
    "memoryGiB": 512,
    "name": "ml.trn1.32xlarge",
    "vcpuNum": 128
   },
   {
    "_defaultOrder": 59,
    "_isFastLaunch": false,
    "category": "Accelerated computing",
    "gpuNum": 0,
    "hideHardwareSpecs": false,
    "memoryGiB": 512,
    "name": "ml.trn1n.32xlarge",
    "vcpuNum": 128
   }
  ],
  "instance_type": "ml.t3.xlarge",
  "kernelspec": {
   "display_name": "Python 3 (Data Science 3.0)",
   "language": "python",
   "name": "python3__SAGEMAKER_INTERNAL__arn:aws:sagemaker:us-east-1:081325390199:image/sagemaker-data-science-310-v1"
  },
  "language_info": {
   "codemirror_mode": {
    "name": "ipython",
    "version": 3
   },
   "file_extension": ".py",
   "mimetype": "text/x-python",
   "name": "python",
   "nbconvert_exporter": "python",
   "pygments_lexer": "ipython3",
   "version": "3.10.6"
  }
 },
 "nbformat": 4,
 "nbformat_minor": 5
}
